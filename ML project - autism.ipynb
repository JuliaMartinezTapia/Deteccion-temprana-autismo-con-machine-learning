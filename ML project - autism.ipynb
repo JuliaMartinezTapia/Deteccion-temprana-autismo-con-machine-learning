{
 "cells": [
  {
   "cell_type": "markdown",
   "metadata": {},
   "source": [
    "# Detección de los trastornos del espectro autista (TEA) usando técnicas de machine learning\n",
    "### Julia María Martínez Tapia \n",
    "#### 31 de marzo de 2021"
   ]
  },
  {
   "cell_type": "markdown",
   "metadata": {},
   "source": [
    "## Introducción "
   ]
  },
  {
   "cell_type": "markdown",
   "metadata": {},
   "source": [
    "**Los trastornos del espectro autista (TEA) son un grupo de afecciones caracterizadas por algún grado de alteración del comportamiento social, la comunicación y el lenguaje, y por un repertorio de intereses y actividades restringido, estereotipado y repetitivo.** \n",
    "\n",
    "La evidencia científica disponible indica la existencia de múltiples factores, entre ellos los genéticos y ambientales, que hacen más probable que un niño pueda padecer un TEA\n",
    "\n",
    "Los TEA aparecen en la infancia y tienden a persistir hasta la adolescencia y la edad adulta. En la mayoría de los casos se manifiestan en los primeros 5 años de vida y se presentan cuatro veces más en hombres que en mujeres. Conllevan a menudo afecciones comórbidas, como epilepsia, depresión, ansiedad y trastorno de déficit de atención e hiperactividad.\n",
    "\n",
    "Las personas con TEA a menudo son objeto de estigmatización y discriminación, que incluye la privación injusta de atención sanitaria, educación y oportunidades para participar en sus comunidades.\n",
    "\n",
    "**Estos trastornos suponen una enorme carga emocional y económica para las personas que los padecen y para sus familiares.** \n",
    "\n",
    "Segun la Organización Mundial de la Salud, se calcula que uno de cada 160 niños tiene un TEA. Esta estimación representa una cifra media, pues la prevalencia observada varía considerablemente entre los distintos estudios. No obstante, en algunos estudios bien controlados se han registrado cifras notablemente mayores. \n",
    "\n",
    "Según los estudios epidemiológicos realizados en los últimos 50 años, la prevalencia mundial de estos trastornos parece estar aumentando. Hay muchas explicaciones posibles para este aparente incremento de la prevalencia, entre ellas una mayor concienciación, la ampliación de los criterios diagnósticos, mejores herramientas diagnósticas y mejor comunicación.\n",
    "\n",
    "**La intervención en la primera infancia es muy importante para optimizar el desarrollo y bienestar de las personas con un TEA. Por lo tanto, la detección temprana de esta enfermedad es clave para el bienestar de las personas que lo padecen.** \n",
    "\n",
    "Sin embargo existen otros trastornos mentales cuyos síntomas son muy similares a los TEA, por lo que la detección es una tarea  difícil \n",
    "\n",
    "**Con el auge de la aplicación de modelos basados en aprendizaje automático en las predicciones de diversas enfermedades humanas, ahora parece posible su detección temprana basada en diversos parámetros fisiológicos y de salud.**"
   ]
  },
  {
   "cell_type": "markdown",
   "metadata": {},
   "source": [
    "## Objetivo del proyecto\n",
    "\n"
   ]
  },
  {
   "cell_type": "markdown",
   "metadata": {},
   "source": [
    "**El objetivo del presente trabajo es evaluar la utilidad de varios modelos de machine learning en la predicción de casos de autismo.** \n",
    "\n",
    "El dataset utilizado procede de la fusión de tres datasets publicamente disponibles en el repositorio UCI.\n",
    "\n",
    "Fadi Fayez Thabtah (2017), “Autistic Spectrum Disorder Screening Data for Adult” https://archive.ics.uci.edu/ml/machine-learning-databases/00426/\n",
    "\n",
    "Fadi Fayez Thabtah (2017), “Autistic Spectrum Disorder Screening Data for children\" https://archive.ics.uci.edu/ml/machine-learning-databases/00419/\n",
    "\n",
    "adi Fayez Thabtah (2017), “Autistic Spectrum Disorder Screening Data for Adolescent” https://archive.ics.uci.edu/ml/machine-learning-databases/00420/\n",
    "\n",
    "El dataset contiene 20 variables independientes, una columna target y 1100 registros.\n",
    "\n",
    "Las variables independientes consisten en diez indicadores de comportamiento (behavioural features) y diez carácterísticas individuales que han probado su efectividad para detectar casos de TEA a partir de controles obtenidos de la ciencia del comportamiento.   \n",
    "\n",
    "Se puede encontrar la descripción de las variables en este [enlace](https://www.kaggle.com/faizunnabi/autism-screening)"
   ]
  },
  {
   "cell_type": "markdown",
   "metadata": {},
   "source": [
    "## I. Análisis exploratorio de datos (EDA)"
   ]
  },
  {
   "cell_type": "code",
   "execution_count": 313,
   "metadata": {},
   "outputs": [],
   "source": [
    "import numpy as np # linear algebra\n",
    "import pandas as pd # data processing, CSV file I/O (e.g. pd.read_csv)\n",
    "import matplotlib.pyplot as plt\n",
    "import seaborn as sns\n",
    "import sklearn as sk\n",
    "import plotly.express as px\n",
    "import warnings\n",
    "\n",
    "warnings.filterwarnings(\"ignore\")"
   ]
  },
  {
   "cell_type": "markdown",
   "metadata": {},
   "source": [
    "### 1. Carga de los datos y análsis preliminar de los datos."
   ]
  },
  {
   "cell_type": "code",
   "execution_count": 226,
   "metadata": {},
   "outputs": [],
   "source": [
    "#1. Carga de los datos"
   ]
  },
  {
   "cell_type": "code",
   "execution_count": 281,
   "metadata": {},
   "outputs": [],
   "source": [
    "raw_data = pd.read_excel(\"Autism_todos_raw_data.xlsx\")"
   ]
  },
  {
   "cell_type": "code",
   "execution_count": 282,
   "metadata": {},
   "outputs": [
    {
     "data": {
      "text/html": [
       "<div>\n",
       "<style scoped>\n",
       "    .dataframe tbody tr th:only-of-type {\n",
       "        vertical-align: middle;\n",
       "    }\n",
       "\n",
       "    .dataframe tbody tr th {\n",
       "        vertical-align: top;\n",
       "    }\n",
       "\n",
       "    .dataframe thead th {\n",
       "        text-align: right;\n",
       "    }\n",
       "</style>\n",
       "<table border=\"1\" class=\"dataframe\">\n",
       "  <thead>\n",
       "    <tr style=\"text-align: right;\">\n",
       "      <th></th>\n",
       "      <th>A1_score</th>\n",
       "      <th>A2_score</th>\n",
       "      <th>A3_score</th>\n",
       "      <th>A4_score</th>\n",
       "      <th>A5_score</th>\n",
       "      <th>A6_score</th>\n",
       "      <th>A7_score</th>\n",
       "      <th>A8_score</th>\n",
       "      <th>A9_score</th>\n",
       "      <th>A10_score</th>\n",
       "      <th>...</th>\n",
       "      <th>sex</th>\n",
       "      <th>ethnicity</th>\n",
       "      <th>jaundice</th>\n",
       "      <th>fam_history_PDD</th>\n",
       "      <th>country_of_res</th>\n",
       "      <th>used_app_before</th>\n",
       "      <th>age_num</th>\n",
       "      <th>age_desc</th>\n",
       "      <th>relation</th>\n",
       "      <th>class</th>\n",
       "    </tr>\n",
       "  </thead>\n",
       "  <tbody>\n",
       "    <tr>\n",
       "      <th>0</th>\n",
       "      <td>1</td>\n",
       "      <td>1</td>\n",
       "      <td>1</td>\n",
       "      <td>1</td>\n",
       "      <td>0</td>\n",
       "      <td>0</td>\n",
       "      <td>1</td>\n",
       "      <td>1</td>\n",
       "      <td>0</td>\n",
       "      <td>0</td>\n",
       "      <td>...</td>\n",
       "      <td>f</td>\n",
       "      <td>White-European</td>\n",
       "      <td>no</td>\n",
       "      <td>no</td>\n",
       "      <td>'United States'</td>\n",
       "      <td>no</td>\n",
       "      <td>26.0</td>\n",
       "      <td>'18 and more'</td>\n",
       "      <td>Self</td>\n",
       "      <td>NO</td>\n",
       "    </tr>\n",
       "    <tr>\n",
       "      <th>1</th>\n",
       "      <td>1</td>\n",
       "      <td>1</td>\n",
       "      <td>0</td>\n",
       "      <td>1</td>\n",
       "      <td>0</td>\n",
       "      <td>0</td>\n",
       "      <td>0</td>\n",
       "      <td>1</td>\n",
       "      <td>0</td>\n",
       "      <td>1</td>\n",
       "      <td>...</td>\n",
       "      <td>m</td>\n",
       "      <td>Latino</td>\n",
       "      <td>no</td>\n",
       "      <td>yes</td>\n",
       "      <td>Brazil</td>\n",
       "      <td>no</td>\n",
       "      <td>24.0</td>\n",
       "      <td>'18 and more'</td>\n",
       "      <td>Self</td>\n",
       "      <td>NO</td>\n",
       "    </tr>\n",
       "    <tr>\n",
       "      <th>2</th>\n",
       "      <td>1</td>\n",
       "      <td>1</td>\n",
       "      <td>0</td>\n",
       "      <td>1</td>\n",
       "      <td>1</td>\n",
       "      <td>0</td>\n",
       "      <td>1</td>\n",
       "      <td>1</td>\n",
       "      <td>1</td>\n",
       "      <td>1</td>\n",
       "      <td>...</td>\n",
       "      <td>m</td>\n",
       "      <td>Latino</td>\n",
       "      <td>yes</td>\n",
       "      <td>yes</td>\n",
       "      <td>Spain</td>\n",
       "      <td>no</td>\n",
       "      <td>27.0</td>\n",
       "      <td>'18 and more'</td>\n",
       "      <td>Parent</td>\n",
       "      <td>YES</td>\n",
       "    </tr>\n",
       "    <tr>\n",
       "      <th>3</th>\n",
       "      <td>1</td>\n",
       "      <td>1</td>\n",
       "      <td>0</td>\n",
       "      <td>1</td>\n",
       "      <td>0</td>\n",
       "      <td>0</td>\n",
       "      <td>1</td>\n",
       "      <td>1</td>\n",
       "      <td>0</td>\n",
       "      <td>1</td>\n",
       "      <td>...</td>\n",
       "      <td>f</td>\n",
       "      <td>White-European</td>\n",
       "      <td>no</td>\n",
       "      <td>yes</td>\n",
       "      <td>'United States'</td>\n",
       "      <td>no</td>\n",
       "      <td>35.0</td>\n",
       "      <td>'18 and more'</td>\n",
       "      <td>Self</td>\n",
       "      <td>NO</td>\n",
       "    </tr>\n",
       "    <tr>\n",
       "      <th>4</th>\n",
       "      <td>1</td>\n",
       "      <td>0</td>\n",
       "      <td>0</td>\n",
       "      <td>0</td>\n",
       "      <td>0</td>\n",
       "      <td>0</td>\n",
       "      <td>0</td>\n",
       "      <td>1</td>\n",
       "      <td>0</td>\n",
       "      <td>0</td>\n",
       "      <td>...</td>\n",
       "      <td>f</td>\n",
       "      <td>NaN</td>\n",
       "      <td>no</td>\n",
       "      <td>no</td>\n",
       "      <td>Egypt</td>\n",
       "      <td>no</td>\n",
       "      <td>40.0</td>\n",
       "      <td>'18 and more'</td>\n",
       "      <td>NaN</td>\n",
       "      <td>NO</td>\n",
       "    </tr>\n",
       "    <tr>\n",
       "      <th>...</th>\n",
       "      <td>...</td>\n",
       "      <td>...</td>\n",
       "      <td>...</td>\n",
       "      <td>...</td>\n",
       "      <td>...</td>\n",
       "      <td>...</td>\n",
       "      <td>...</td>\n",
       "      <td>...</td>\n",
       "      <td>...</td>\n",
       "      <td>...</td>\n",
       "      <td>...</td>\n",
       "      <td>...</td>\n",
       "      <td>...</td>\n",
       "      <td>...</td>\n",
       "      <td>...</td>\n",
       "      <td>...</td>\n",
       "      <td>...</td>\n",
       "      <td>...</td>\n",
       "      <td>...</td>\n",
       "      <td>...</td>\n",
       "      <td>...</td>\n",
       "    </tr>\n",
       "    <tr>\n",
       "      <th>1095</th>\n",
       "      <td>1</td>\n",
       "      <td>1</td>\n",
       "      <td>1</td>\n",
       "      <td>1</td>\n",
       "      <td>1</td>\n",
       "      <td>1</td>\n",
       "      <td>1</td>\n",
       "      <td>1</td>\n",
       "      <td>1</td>\n",
       "      <td>1</td>\n",
       "      <td>...</td>\n",
       "      <td>f</td>\n",
       "      <td>White-European</td>\n",
       "      <td>yes</td>\n",
       "      <td>yes</td>\n",
       "      <td>'United Kingdom'</td>\n",
       "      <td>no</td>\n",
       "      <td>7.0</td>\n",
       "      <td>'4-11 years'</td>\n",
       "      <td>Parent</td>\n",
       "      <td>YES</td>\n",
       "    </tr>\n",
       "    <tr>\n",
       "      <th>1096</th>\n",
       "      <td>1</td>\n",
       "      <td>0</td>\n",
       "      <td>0</td>\n",
       "      <td>0</td>\n",
       "      <td>1</td>\n",
       "      <td>0</td>\n",
       "      <td>1</td>\n",
       "      <td>0</td>\n",
       "      <td>0</td>\n",
       "      <td>1</td>\n",
       "      <td>...</td>\n",
       "      <td>f</td>\n",
       "      <td>White-European</td>\n",
       "      <td>yes</td>\n",
       "      <td>yes</td>\n",
       "      <td>Australia</td>\n",
       "      <td>no</td>\n",
       "      <td>7.0</td>\n",
       "      <td>'4-11 years'</td>\n",
       "      <td>Parent</td>\n",
       "      <td>NO</td>\n",
       "    </tr>\n",
       "    <tr>\n",
       "      <th>1097</th>\n",
       "      <td>1</td>\n",
       "      <td>0</td>\n",
       "      <td>1</td>\n",
       "      <td>1</td>\n",
       "      <td>1</td>\n",
       "      <td>1</td>\n",
       "      <td>1</td>\n",
       "      <td>0</td>\n",
       "      <td>0</td>\n",
       "      <td>1</td>\n",
       "      <td>...</td>\n",
       "      <td>m</td>\n",
       "      <td>Latino</td>\n",
       "      <td>no</td>\n",
       "      <td>no</td>\n",
       "      <td>Brazil</td>\n",
       "      <td>no</td>\n",
       "      <td>4.0</td>\n",
       "      <td>'4-11 years'</td>\n",
       "      <td>Parent</td>\n",
       "      <td>YES</td>\n",
       "    </tr>\n",
       "    <tr>\n",
       "      <th>1098</th>\n",
       "      <td>1</td>\n",
       "      <td>1</td>\n",
       "      <td>1</td>\n",
       "      <td>0</td>\n",
       "      <td>1</td>\n",
       "      <td>1</td>\n",
       "      <td>1</td>\n",
       "      <td>1</td>\n",
       "      <td>1</td>\n",
       "      <td>1</td>\n",
       "      <td>...</td>\n",
       "      <td>m</td>\n",
       "      <td>'South Asian'</td>\n",
       "      <td>no</td>\n",
       "      <td>no</td>\n",
       "      <td>India</td>\n",
       "      <td>no</td>\n",
       "      <td>4.0</td>\n",
       "      <td>'4-11 years'</td>\n",
       "      <td>Parent</td>\n",
       "      <td>YES</td>\n",
       "    </tr>\n",
       "    <tr>\n",
       "      <th>1099</th>\n",
       "      <td>0</td>\n",
       "      <td>0</td>\n",
       "      <td>1</td>\n",
       "      <td>0</td>\n",
       "      <td>1</td>\n",
       "      <td>0</td>\n",
       "      <td>1</td>\n",
       "      <td>0</td>\n",
       "      <td>0</td>\n",
       "      <td>0</td>\n",
       "      <td>...</td>\n",
       "      <td>f</td>\n",
       "      <td>'South Asian'</td>\n",
       "      <td>no</td>\n",
       "      <td>no</td>\n",
       "      <td>India</td>\n",
       "      <td>no</td>\n",
       "      <td>4.0</td>\n",
       "      <td>'4-11 years'</td>\n",
       "      <td>Parent</td>\n",
       "      <td>NO</td>\n",
       "    </tr>\n",
       "  </tbody>\n",
       "</table>\n",
       "<p>1100 rows × 21 columns</p>\n",
       "</div>"
      ],
      "text/plain": [
       "      A1_score  A2_score  A3_score  A4_score  A5_score  A6_score  A7_score  \\\n",
       "0            1         1         1         1         0         0         1   \n",
       "1            1         1         0         1         0         0         0   \n",
       "2            1         1         0         1         1         0         1   \n",
       "3            1         1         0         1         0         0         1   \n",
       "4            1         0         0         0         0         0         0   \n",
       "...        ...       ...       ...       ...       ...       ...       ...   \n",
       "1095         1         1         1         1         1         1         1   \n",
       "1096         1         0         0         0         1         0         1   \n",
       "1097         1         0         1         1         1         1         1   \n",
       "1098         1         1         1         0         1         1         1   \n",
       "1099         0         0         1         0         1         0         1   \n",
       "\n",
       "      A8_score  A9_score  A10_score  ...  sex       ethnicity jaundice  \\\n",
       "0            1         0          0  ...    f  White-European       no   \n",
       "1            1         0          1  ...    m          Latino       no   \n",
       "2            1         1          1  ...    m          Latino      yes   \n",
       "3            1         0          1  ...    f  White-European       no   \n",
       "4            1         0          0  ...    f             NaN       no   \n",
       "...        ...       ...        ...  ...  ...             ...      ...   \n",
       "1095         1         1          1  ...    f  White-European      yes   \n",
       "1096         0         0          1  ...    f  White-European      yes   \n",
       "1097         0         0          1  ...    m          Latino       no   \n",
       "1098         1         1          1  ...    m   'South Asian'       no   \n",
       "1099         0         0          0  ...    f   'South Asian'       no   \n",
       "\n",
       "     fam_history_PDD    country_of_res used_app_before age_num       age_desc  \\\n",
       "0                 no   'United States'              no    26.0  '18 and more'   \n",
       "1                yes            Brazil              no    24.0  '18 and more'   \n",
       "2                yes             Spain              no    27.0  '18 and more'   \n",
       "3                yes   'United States'              no    35.0  '18 and more'   \n",
       "4                 no             Egypt              no    40.0  '18 and more'   \n",
       "...              ...               ...             ...     ...            ...   \n",
       "1095             yes  'United Kingdom'              no     7.0   '4-11 years'   \n",
       "1096             yes         Australia              no     7.0   '4-11 years'   \n",
       "1097              no            Brazil              no     4.0   '4-11 years'   \n",
       "1098              no             India              no     4.0   '4-11 years'   \n",
       "1099              no             India              no     4.0   '4-11 years'   \n",
       "\n",
       "     relation class  \n",
       "0        Self    NO  \n",
       "1        Self    NO  \n",
       "2      Parent   YES  \n",
       "3        Self    NO  \n",
       "4         NaN    NO  \n",
       "...       ...   ...  \n",
       "1095   Parent   YES  \n",
       "1096   Parent    NO  \n",
       "1097   Parent   YES  \n",
       "1098   Parent   YES  \n",
       "1099   Parent    NO  \n",
       "\n",
       "[1100 rows x 21 columns]"
      ]
     },
     "execution_count": 282,
     "metadata": {},
     "output_type": "execute_result"
    }
   ],
   "source": [
    "raw_data"
   ]
  },
  {
   "cell_type": "code",
   "execution_count": 256,
   "metadata": {},
   "outputs": [
    {
     "name": "stdout",
     "output_type": "stream",
     "text": [
      "<class 'pandas.core.frame.DataFrame'>\n",
      "RangeIndex: 1100 entries, 0 to 1099\n",
      "Data columns (total 21 columns):\n",
      " #   Column           Non-Null Count  Dtype  \n",
      "---  ------           --------------  -----  \n",
      " 0   A1_score         1100 non-null   int64  \n",
      " 1   A2_score         1100 non-null   int64  \n",
      " 2   A3_score         1100 non-null   int64  \n",
      " 3   A4_score         1100 non-null   int64  \n",
      " 4   A5_score         1100 non-null   int64  \n",
      " 5   A6_score         1100 non-null   int64  \n",
      " 6   A7_score         1100 non-null   int64  \n",
      " 7   A8_score         1100 non-null   int64  \n",
      " 8   A9_score         1100 non-null   int64  \n",
      " 9   A10_score        1100 non-null   int64  \n",
      " 10  screening_score  1100 non-null   int64  \n",
      " 11  sex              1100 non-null   object \n",
      " 12  ethnicity        956 non-null    object \n",
      " 13  jaundice         1100 non-null   object \n",
      " 14  fam_history_PDD  1100 non-null   object \n",
      " 15  country_of_res   1100 non-null   object \n",
      " 16  used_app_before  1100 non-null   object \n",
      " 17  age_num          1094 non-null   float64\n",
      " 18  age_desc         1100 non-null   object \n",
      " 19  relation         956 non-null    object \n",
      " 20  class            1100 non-null   object \n",
      "dtypes: float64(1), int64(11), object(9)\n",
      "memory usage: 180.6+ KB\n"
     ]
    }
   ],
   "source": [
    "raw_data.info()\n",
    "#Curioso, los missings de ethniciy y relation son los mismos, se dan exactamente en los mismos 144 registros."
   ]
  },
  {
   "cell_type": "code",
   "execution_count": 264,
   "metadata": {},
   "outputs": [],
   "source": [
    "raw_data[\"age_num\"] = raw_data[\"age_num\"].astype(int,errors = \"ignore\")#esto no me lo está haciendo, no sé porque."
   ]
  },
  {
   "cell_type": "code",
   "execution_count": 287,
   "metadata": {},
   "outputs": [
    {
     "data": {
      "text/html": [
       "<div>\n",
       "<style scoped>\n",
       "    .dataframe tbody tr th:only-of-type {\n",
       "        vertical-align: middle;\n",
       "    }\n",
       "\n",
       "    .dataframe tbody tr th {\n",
       "        vertical-align: top;\n",
       "    }\n",
       "\n",
       "    .dataframe thead th {\n",
       "        text-align: right;\n",
       "    }\n",
       "</style>\n",
       "<table border=\"1\" class=\"dataframe\">\n",
       "  <thead>\n",
       "    <tr style=\"text-align: right;\">\n",
       "      <th></th>\n",
       "      <th>A1_score</th>\n",
       "      <th>A2_score</th>\n",
       "      <th>A3_score</th>\n",
       "      <th>A4_score</th>\n",
       "      <th>A5_score</th>\n",
       "      <th>A6_score</th>\n",
       "      <th>A7_score</th>\n",
       "      <th>A8_score</th>\n",
       "      <th>A9_score</th>\n",
       "      <th>A10_score</th>\n",
       "      <th>screening_score</th>\n",
       "      <th>age_num</th>\n",
       "      <th>class</th>\n",
       "    </tr>\n",
       "  </thead>\n",
       "  <tbody>\n",
       "    <tr>\n",
       "      <th>count</th>\n",
       "      <td>1100.000000</td>\n",
       "      <td>1100.000000</td>\n",
       "      <td>1100.000000</td>\n",
       "      <td>1100.000000</td>\n",
       "      <td>1100.000000</td>\n",
       "      <td>1100.000000</td>\n",
       "      <td>1100.000000</td>\n",
       "      <td>1100.000000</td>\n",
       "      <td>1100.000000</td>\n",
       "      <td>1100.000000</td>\n",
       "      <td>1100.000000</td>\n",
       "      <td>1094.000000</td>\n",
       "      <td>1100.000000</td>\n",
       "    </tr>\n",
       "    <tr>\n",
       "      <th>mean</th>\n",
       "      <td>0.699091</td>\n",
       "      <td>0.482727</td>\n",
       "      <td>0.551818</td>\n",
       "      <td>0.530000</td>\n",
       "      <td>0.587273</td>\n",
       "      <td>0.443636</td>\n",
       "      <td>0.477273</td>\n",
       "      <td>0.605455</td>\n",
       "      <td>0.412727</td>\n",
       "      <td>0.621818</td>\n",
       "      <td>5.411818</td>\n",
       "      <td>22.073126</td>\n",
       "      <td>0.357273</td>\n",
       "    </tr>\n",
       "    <tr>\n",
       "      <th>std</th>\n",
       "      <td>0.458862</td>\n",
       "      <td>0.499929</td>\n",
       "      <td>0.497534</td>\n",
       "      <td>0.499326</td>\n",
       "      <td>0.492548</td>\n",
       "      <td>0.497039</td>\n",
       "      <td>0.499710</td>\n",
       "      <td>0.488975</td>\n",
       "      <td>0.492548</td>\n",
       "      <td>0.485154</td>\n",
       "      <td>2.523492</td>\n",
       "      <td>16.879373</td>\n",
       "      <td>0.479414</td>\n",
       "    </tr>\n",
       "    <tr>\n",
       "      <th>min</th>\n",
       "      <td>0.000000</td>\n",
       "      <td>0.000000</td>\n",
       "      <td>0.000000</td>\n",
       "      <td>0.000000</td>\n",
       "      <td>0.000000</td>\n",
       "      <td>0.000000</td>\n",
       "      <td>0.000000</td>\n",
       "      <td>0.000000</td>\n",
       "      <td>0.000000</td>\n",
       "      <td>0.000000</td>\n",
       "      <td>0.000000</td>\n",
       "      <td>4.000000</td>\n",
       "      <td>0.000000</td>\n",
       "    </tr>\n",
       "    <tr>\n",
       "      <th>25%</th>\n",
       "      <td>0.000000</td>\n",
       "      <td>0.000000</td>\n",
       "      <td>0.000000</td>\n",
       "      <td>0.000000</td>\n",
       "      <td>0.000000</td>\n",
       "      <td>0.000000</td>\n",
       "      <td>0.000000</td>\n",
       "      <td>0.000000</td>\n",
       "      <td>0.000000</td>\n",
       "      <td>0.000000</td>\n",
       "      <td>3.000000</td>\n",
       "      <td>11.000000</td>\n",
       "      <td>0.000000</td>\n",
       "    </tr>\n",
       "    <tr>\n",
       "      <th>50%</th>\n",
       "      <td>1.000000</td>\n",
       "      <td>0.000000</td>\n",
       "      <td>1.000000</td>\n",
       "      <td>1.000000</td>\n",
       "      <td>1.000000</td>\n",
       "      <td>0.000000</td>\n",
       "      <td>0.000000</td>\n",
       "      <td>1.000000</td>\n",
       "      <td>0.000000</td>\n",
       "      <td>1.000000</td>\n",
       "      <td>5.000000</td>\n",
       "      <td>21.000000</td>\n",
       "      <td>0.000000</td>\n",
       "    </tr>\n",
       "    <tr>\n",
       "      <th>75%</th>\n",
       "      <td>1.000000</td>\n",
       "      <td>1.000000</td>\n",
       "      <td>1.000000</td>\n",
       "      <td>1.000000</td>\n",
       "      <td>1.000000</td>\n",
       "      <td>1.000000</td>\n",
       "      <td>1.000000</td>\n",
       "      <td>1.000000</td>\n",
       "      <td>1.000000</td>\n",
       "      <td>1.000000</td>\n",
       "      <td>7.250000</td>\n",
       "      <td>30.000000</td>\n",
       "      <td>1.000000</td>\n",
       "    </tr>\n",
       "    <tr>\n",
       "      <th>max</th>\n",
       "      <td>1.000000</td>\n",
       "      <td>1.000000</td>\n",
       "      <td>1.000000</td>\n",
       "      <td>1.000000</td>\n",
       "      <td>1.000000</td>\n",
       "      <td>1.000000</td>\n",
       "      <td>1.000000</td>\n",
       "      <td>1.000000</td>\n",
       "      <td>1.000000</td>\n",
       "      <td>1.000000</td>\n",
       "      <td>10.000000</td>\n",
       "      <td>383.000000</td>\n",
       "      <td>1.000000</td>\n",
       "    </tr>\n",
       "  </tbody>\n",
       "</table>\n",
       "</div>"
      ],
      "text/plain": [
       "          A1_score     A2_score     A3_score     A4_score     A5_score  \\\n",
       "count  1100.000000  1100.000000  1100.000000  1100.000000  1100.000000   \n",
       "mean      0.699091     0.482727     0.551818     0.530000     0.587273   \n",
       "std       0.458862     0.499929     0.497534     0.499326     0.492548   \n",
       "min       0.000000     0.000000     0.000000     0.000000     0.000000   \n",
       "25%       0.000000     0.000000     0.000000     0.000000     0.000000   \n",
       "50%       1.000000     0.000000     1.000000     1.000000     1.000000   \n",
       "75%       1.000000     1.000000     1.000000     1.000000     1.000000   \n",
       "max       1.000000     1.000000     1.000000     1.000000     1.000000   \n",
       "\n",
       "          A6_score     A7_score     A8_score     A9_score    A10_score  \\\n",
       "count  1100.000000  1100.000000  1100.000000  1100.000000  1100.000000   \n",
       "mean      0.443636     0.477273     0.605455     0.412727     0.621818   \n",
       "std       0.497039     0.499710     0.488975     0.492548     0.485154   \n",
       "min       0.000000     0.000000     0.000000     0.000000     0.000000   \n",
       "25%       0.000000     0.000000     0.000000     0.000000     0.000000   \n",
       "50%       0.000000     0.000000     1.000000     0.000000     1.000000   \n",
       "75%       1.000000     1.000000     1.000000     1.000000     1.000000   \n",
       "max       1.000000     1.000000     1.000000     1.000000     1.000000   \n",
       "\n",
       "       screening_score      age_num        class  \n",
       "count      1100.000000  1094.000000  1100.000000  \n",
       "mean          5.411818    22.073126     0.357273  \n",
       "std           2.523492    16.879373     0.479414  \n",
       "min           0.000000     4.000000     0.000000  \n",
       "25%           3.000000    11.000000     0.000000  \n",
       "50%           5.000000    21.000000     0.000000  \n",
       "75%           7.250000    30.000000     1.000000  \n",
       "max          10.000000   383.000000     1.000000  "
      ]
     },
     "execution_count": 287,
     "metadata": {},
     "output_type": "execute_result"
    }
   ],
   "source": [
    "raw_data.describe()\n",
    "\n",
    "#tengo un error en age_number, no tiene sentido un max de edad de 383 años. Más adelante lo corrijo."
   ]
  },
  {
   "cell_type": "markdown",
   "metadata": {},
   "source": [
    "### 2. Análisis del target"
   ]
  },
  {
   "cell_type": "markdown",
   "metadata": {},
   "source": [
    "Comprobamos si el dataset está desbalanceado comparando el número de registros de las clases que constituyen el target (en este caso, SI o NO autismo)"
   ]
  },
  {
   "cell_type": "code",
   "execution_count": 283,
   "metadata": {},
   "outputs": [
    {
     "data": {
      "text/plain": [
       "0        NO\n",
       "1        NO\n",
       "2       YES\n",
       "3        NO\n",
       "4        NO\n",
       "       ... \n",
       "1095    YES\n",
       "1096     NO\n",
       "1097    YES\n",
       "1098    YES\n",
       "1099     NO\n",
       "Name: class, Length: 1100, dtype: object"
      ]
     },
     "execution_count": 283,
     "metadata": {},
     "output_type": "execute_result"
    }
   ],
   "source": [
    "raw_data[\"class\"]"
   ]
  },
  {
   "cell_type": "code",
   "execution_count": 284,
   "metadata": {},
   "outputs": [
    {
     "data": {
      "text/plain": [
       "False    707\n",
       "True     393\n",
       "Name: class, dtype: int64"
      ]
     },
     "execution_count": 284,
     "metadata": {},
     "output_type": "execute_result"
    }
   ],
   "source": [
    "raw_data[\"class\"].isin([\"YES\"]).value_counts()"
   ]
  },
  {
   "cell_type": "code",
   "execution_count": 285,
   "metadata": {},
   "outputs": [
    {
     "data": {
      "text/plain": [
       "<AxesSubplot:xlabel='class', ylabel='count'>"
      ]
     },
     "execution_count": 285,
     "metadata": {},
     "output_type": "execute_result"
    },
    {
     "data": {
      "image/png": "[encoded data removed]",
      "text/plain": [
       "<Figure size 432x288 with 1 Axes>"
      ]
     },
     "metadata": {
      "needs_background": "light"
     },
     "output_type": "display_data"
    }
   ],
   "source": [
    "sns.countplot(data = raw_data, x = \"class\")"
   ]
  },
  {
   "cell_type": "code",
   "execution_count": null,
   "metadata": {},
   "outputs": [],
   "source": [
    "# El dataset está desbalanceado, pero no excesivamente. Por tanto no voy a hacer resampling ni a generar datos sintéticos, \n",
    "# pero lo tendré en cuenta a la hora de escoger métricas e hiperparámetros."
   ]
  },
  {
   "cell_type": "code",
   "execution_count": 286,
   "metadata": {},
   "outputs": [
    {
     "data": {
      "text/plain": [
       "0       0\n",
       "1       0\n",
       "2       1\n",
       "3       0\n",
       "4       0\n",
       "       ..\n",
       "1095    1\n",
       "1096    0\n",
       "1097    1\n",
       "1098    1\n",
       "1099    0\n",
       "Name: class, Length: 1100, dtype: int64"
      ]
     },
     "execution_count": 286,
     "metadata": {},
     "output_type": "execute_result"
    }
   ],
   "source": [
    "#Por otro lado, antes de dividir en train y test voy a transformar los valores de columna target \"class\" de YES/NO a 1/0 para poder luego \n",
    "#aplicarle más adelante el coeficiente de correlación de Person. Lo hago con un apply.\n",
    "\n",
    "def mapping(x):\n",
    "    if x == \"YES\":\n",
    "        return 1\n",
    "    elif x == \"NO\":\n",
    "        return 0\n",
    "\n",
    "raw_data[\"class\"] = raw_data[\"class\"].apply(mapping)\n",
    "raw_data[\"class\"] \n"
   ]
  },
  {
   "cell_type": "markdown",
   "metadata": {},
   "source": [
    "### 3. Dividimos el dataset en train y test"
   ]
  },
  {
   "cell_type": "code",
   "execution_count": null,
   "metadata": {},
   "outputs": [],
   "source": [
    "from sklearn.model_selection import train_test_split\n",
    "\n",
    "X_train, X_test, y_train, y_test = train_test_split(raw_data.drop(\"class\", axis=1),\n",
    "                                                    raw_data[\"class\"],\n",
    "                                                    test_size=0.2,\n",
    "                                                    random_state=42)"
   ]
  },
  {
   "cell_type": "code",
   "execution_count": null,
   "metadata": {},
   "outputs": [],
   "source": [
    "#display(X_train,X_test, y_train, y_test)\n",
    "print(X_train.shape)\n",
    "print(X_test.shape)\n",
    "print(y_train.shape)\n",
    "print(y_test.shape)"
   ]
  },
  {
   "cell_type": "markdown",
   "metadata": {},
   "source": [
    "### 4. Comprensión de las variables y su relación con el target. Reducción preliminar."
   ]
  },
  {
   "cell_type": "code",
   "execution_count": 262,
   "metadata": {},
   "outputs": [
    {
     "name": "stdout",
     "output_type": "stream",
     "text": [
      "<class 'pandas.core.frame.DataFrame'>\n",
      "Int64Index: 880 entries, 507 to 860\n",
      "Data columns (total 20 columns):\n",
      " #   Column           Non-Null Count  Dtype  \n",
      "---  ------           --------------  -----  \n",
      " 0   A1_score         880 non-null    int64  \n",
      " 1   A2_score         880 non-null    int64  \n",
      " 2   A3_score         880 non-null    int64  \n",
      " 3   A4_score         880 non-null    int64  \n",
      " 4   A5_score         880 non-null    int64  \n",
      " 5   A6_score         880 non-null    int64  \n",
      " 6   A7_score         880 non-null    int64  \n",
      " 7   A8_score         880 non-null    int64  \n",
      " 8   A9_score         880 non-null    int64  \n",
      " 9   A10_score        880 non-null    int64  \n",
      " 10  screening_score  880 non-null    int64  \n",
      " 11  sex              880 non-null    object \n",
      " 12  ethnicity        764 non-null    object \n",
      " 13  jaundice         880 non-null    object \n",
      " 14  fam_history_PDD  880 non-null    object \n",
      " 15  country_of_res   880 non-null    object \n",
      " 16  used_app_before  880 non-null    object \n",
      " 17  age_num          877 non-null    float64\n",
      " 18  age_desc         880 non-null    object \n",
      " 19  relation         764 non-null    object \n",
      "dtypes: float64(1), int64(11), object(8)\n",
      "memory usage: 144.4+ KB\n"
     ]
    }
   ],
   "source": [
    "raw_data.info()"
   ]
  },
  {
   "cell_type": "markdown",
   "metadata": {},
   "source": [
    "A continuación obtenemos un reporte de las columnas, con sus tipos, % de missings y cardinalidad."
   ]
  },
  {
   "cell_type": "code",
   "execution_count": 267,
   "metadata": {},
   "outputs": [
    {
     "data": {
      "text/html": [
       "<div>\n",
       "<style scoped>\n",
       "    .dataframe tbody tr th:only-of-type {\n",
       "        vertical-align: middle;\n",
       "    }\n",
       "\n",
       "    .dataframe tbody tr th {\n",
       "        vertical-align: top;\n",
       "    }\n",
       "\n",
       "    .dataframe thead th {\n",
       "        text-align: right;\n",
       "    }\n",
       "</style>\n",
       "<table border=\"1\" class=\"dataframe\">\n",
       "  <thead>\n",
       "    <tr style=\"text-align: right;\">\n",
       "      <th>COL_N</th>\n",
       "      <th>A1_score</th>\n",
       "      <th>A2_score</th>\n",
       "      <th>A3_score</th>\n",
       "      <th>A4_score</th>\n",
       "      <th>A5_score</th>\n",
       "      <th>A6_score</th>\n",
       "      <th>A7_score</th>\n",
       "      <th>A8_score</th>\n",
       "      <th>A9_score</th>\n",
       "      <th>A10_score</th>\n",
       "      <th>...</th>\n",
       "      <th>sex</th>\n",
       "      <th>ethnicity</th>\n",
       "      <th>jaundice</th>\n",
       "      <th>fam_history_PDD</th>\n",
       "      <th>country_of_res</th>\n",
       "      <th>used_app_before</th>\n",
       "      <th>age_num</th>\n",
       "      <th>age_desc</th>\n",
       "      <th>relation</th>\n",
       "      <th>class</th>\n",
       "    </tr>\n",
       "  </thead>\n",
       "  <tbody>\n",
       "    <tr>\n",
       "      <th>DATA_TYPE</th>\n",
       "      <td>int64</td>\n",
       "      <td>int64</td>\n",
       "      <td>int64</td>\n",
       "      <td>int64</td>\n",
       "      <td>int64</td>\n",
       "      <td>int64</td>\n",
       "      <td>int64</td>\n",
       "      <td>int64</td>\n",
       "      <td>int64</td>\n",
       "      <td>int64</td>\n",
       "      <td>...</td>\n",
       "      <td>object</td>\n",
       "      <td>object</td>\n",
       "      <td>object</td>\n",
       "      <td>object</td>\n",
       "      <td>object</td>\n",
       "      <td>object</td>\n",
       "      <td>float64</td>\n",
       "      <td>object</td>\n",
       "      <td>object</td>\n",
       "      <td>object</td>\n",
       "    </tr>\n",
       "    <tr>\n",
       "      <th>MISSINGS (%)</th>\n",
       "      <td>0</td>\n",
       "      <td>0</td>\n",
       "      <td>0</td>\n",
       "      <td>0</td>\n",
       "      <td>0</td>\n",
       "      <td>0</td>\n",
       "      <td>0</td>\n",
       "      <td>0</td>\n",
       "      <td>0</td>\n",
       "      <td>0</td>\n",
       "      <td>...</td>\n",
       "      <td>0</td>\n",
       "      <td>13.09</td>\n",
       "      <td>0</td>\n",
       "      <td>0</td>\n",
       "      <td>0</td>\n",
       "      <td>0</td>\n",
       "      <td>0.55</td>\n",
       "      <td>0</td>\n",
       "      <td>13.09</td>\n",
       "      <td>0</td>\n",
       "    </tr>\n",
       "    <tr>\n",
       "      <th>UNIQUE_VALUES</th>\n",
       "      <td>2</td>\n",
       "      <td>2</td>\n",
       "      <td>2</td>\n",
       "      <td>2</td>\n",
       "      <td>2</td>\n",
       "      <td>2</td>\n",
       "      <td>2</td>\n",
       "      <td>2</td>\n",
       "      <td>2</td>\n",
       "      <td>2</td>\n",
       "      <td>...</td>\n",
       "      <td>2</td>\n",
       "      <td>11</td>\n",
       "      <td>2</td>\n",
       "      <td>2</td>\n",
       "      <td>89</td>\n",
       "      <td>2</td>\n",
       "      <td>59</td>\n",
       "      <td>4</td>\n",
       "      <td>6</td>\n",
       "      <td>2</td>\n",
       "    </tr>\n",
       "    <tr>\n",
       "      <th>CARDIN (%)</th>\n",
       "      <td>0.18</td>\n",
       "      <td>0.18</td>\n",
       "      <td>0.18</td>\n",
       "      <td>0.18</td>\n",
       "      <td>0.18</td>\n",
       "      <td>0.18</td>\n",
       "      <td>0.18</td>\n",
       "      <td>0.18</td>\n",
       "      <td>0.18</td>\n",
       "      <td>0.18</td>\n",
       "      <td>...</td>\n",
       "      <td>0.18</td>\n",
       "      <td>1</td>\n",
       "      <td>0.18</td>\n",
       "      <td>0.18</td>\n",
       "      <td>8.09</td>\n",
       "      <td>0.18</td>\n",
       "      <td>5.36</td>\n",
       "      <td>0.36</td>\n",
       "      <td>0.55</td>\n",
       "      <td>0.18</td>\n",
       "    </tr>\n",
       "  </tbody>\n",
       "</table>\n",
       "<p>4 rows × 21 columns</p>\n",
       "</div>"
      ],
      "text/plain": [
       "COL_N         A1_score A2_score A3_score A4_score A5_score A6_score A7_score  \\\n",
       "DATA_TYPE        int64    int64    int64    int64    int64    int64    int64   \n",
       "MISSINGS (%)         0        0        0        0        0        0        0   \n",
       "UNIQUE_VALUES        2        2        2        2        2        2        2   \n",
       "CARDIN (%)        0.18     0.18     0.18     0.18     0.18     0.18     0.18   \n",
       "\n",
       "COL_N         A8_score A9_score A10_score  ...     sex ethnicity jaundice  \\\n",
       "DATA_TYPE        int64    int64     int64  ...  object    object   object   \n",
       "MISSINGS (%)         0        0         0  ...       0     13.09        0   \n",
       "UNIQUE_VALUES        2        2         2  ...       2        11        2   \n",
       "CARDIN (%)        0.18     0.18      0.18  ...    0.18         1     0.18   \n",
       "\n",
       "COL_N         fam_history_PDD country_of_res used_app_before  age_num  \\\n",
       "DATA_TYPE              object         object          object  float64   \n",
       "MISSINGS (%)                0              0               0     0.55   \n",
       "UNIQUE_VALUES               2             89               2       59   \n",
       "CARDIN (%)               0.18           8.09            0.18     5.36   \n",
       "\n",
       "COL_N         age_desc relation   class  \n",
       "DATA_TYPE       object   object  object  \n",
       "MISSINGS (%)         0    13.09       0  \n",
       "UNIQUE_VALUES        4        6       2  \n",
       "CARDIN (%)        0.36     0.55    0.18  \n",
       "\n",
       "[4 rows x 21 columns]"
      ]
     },
     "execution_count": 267,
     "metadata": {},
     "output_type": "execute_result"
    }
   ],
   "source": [
    "\n",
    "def data_report(df):\n",
    "    # Sacamos los NOMBRES\n",
    "    cols = pd.DataFrame(df.columns.values, columns=[\"COL_N\"])\n",
    "\n",
    "    # Sacamos los TIPOS\n",
    "    types = pd.DataFrame(df.dtypes.values, columns=[\"DATA_TYPE\"])\n",
    "\n",
    "    # Sacamos los MISSINGS\n",
    "    percent_missing = round(df.isnull().sum() * 100 / len(df), 2)\n",
    "    percent_missing_df = pd.DataFrame(percent_missing.values, columns=[\"MISSINGS (%)\"])\n",
    "\n",
    "    # Sacamos los VALORES UNICOS\n",
    "    unicos = pd.DataFrame(df.nunique().values, columns=[\"UNIQUE_VALUES\"])\n",
    "    \n",
    "    percent_cardin = round(unicos['UNIQUE_VALUES']*100/len(df), 2)\n",
    "    percent_cardin_df = pd.DataFrame(percent_cardin.values, columns=[\"CARDIN (%)\"])\n",
    "    \n",
    "    #la cardinalidad aporta información en las columnas categóricas. Si la cardinalidad es alta es que hay muchos valores únicos, normalmente \n",
    "    #serán identificadores (como nombres propios) y, dependiendo del dataset es probable que esa columna no aporte nada al target y la podamos\n",
    "    #eliminar. \n",
    "    \n",
    "    concatenado = pd.concat([cols, types, percent_missing_df, unicos, percent_cardin_df], axis=1, sort=False)\n",
    "    concatenado.set_index('COL_N', drop=True, inplace=True)\n",
    "\n",
    "    return concatenado.T\n",
    "        \n",
    "data_report(raw_data)"
   ]
  },
  {
   "cell_type": "markdown",
   "metadata": {},
   "source": [
    "Obtenemos el coeficiente de correlación lineal de cada una de las variables independientes con el target y lo representamos en una gráfica."
   ]
  },
  {
   "cell_type": "code",
   "execution_count": 289,
   "metadata": {},
   "outputs": [
    {
     "name": "stdout",
     "output_type": "stream",
     "text": [
      "class              1.000000\n",
      "screening_score    0.834223\n",
      "A9_score           0.596497\n",
      "A6_score           0.567634\n",
      "A5_score           0.520985\n",
      "A4_score           0.508243\n",
      "A3_score           0.462104\n",
      "A10_score          0.421044\n",
      "A7_score           0.347273\n",
      "A1_score           0.290603\n",
      "A2_score           0.285832\n",
      "A8_score           0.275809\n",
      "age_num            0.102379\n",
      "Name: class, dtype: float64\n"
     ]
    }
   ],
   "source": [
    "#Obtenemos el coeficiente de correlación lineal (Pearson) de las variables independientes numéricas con el target\n",
    "\n",
    "corr = np.abs(raw_data.corr()[\"class\"]).sort_values(ascending = False)\n",
    "print(corr)\n"
   ]
  },
  {
   "cell_type": "code",
   "execution_count": 350,
   "metadata": {},
   "outputs": [
    {
     "data": {
      "image/png": "[encoded data removed]",
      "text/plain": [
       "<Figure size 720x720 with 2 Axes>"
      ]
     },
     "metadata": {
      "needs_background": "light"
     },
     "output_type": "display_data"
    }
   ],
   "source": [
    "#Mostramos la correlación en un heatmap\n",
    "\n",
    "plt.figure(figsize=(10,10))\n",
    "\n",
    "sns.heatmap(raw_data.corr(),\n",
    "            vmin=-1,\n",
    "            vmax=1,\n",
    "            center=0,\n",
    "            cmap=sns.diverging_palette(220, 20, as_cmap=True),\n",
    "            square=True,\n",
    "            annot=True,\n",
    "            linewidths=.5);"
   ]
  },
  {
   "cell_type": "markdown",
   "metadata": {},
   "source": [
    "Observamos que existen 7 variables numéricas con una correlación con el target superior al 0.4, por este orden:\n",
    "    \n",
    "+ screening_score    0.834223 - Puntuación resultante del método de screening.\n",
    "+ A9_score           0.596497 - *9.\tI find easy to work out what someone is thinking or feeling just by looking at their face.*\n",
    "+ A6_score           0.567634 - *6.\tI know how to tell if someone listening to me is getting bored*\n",
    "+ A5_score           0.520985 - *5.\tI find it easy to read between the lines when someone is talking to me.* \n",
    "+ A4_score           0.508243 - *4.\tIf there is an interruption, I can switch back to what I was doing very quickly.*\n",
    "+ A3_score           0.462104 - *3.\tI find it easy to do more than one thing at once.*\n",
    "+ A10_score          0.421044 - *10. I find it difficult to work out people´s intentions*"
   ]
  },
  {
   "cell_type": "markdown",
   "metadata": {},
   "source": [
    "Para poder visualizar la correlacion de las variables categóricas con el target utilizamos una matriz de Phick en lugar del coeficiente de correlación de Pearson, que éstá limitado a las variables numéricas. Como son muchas variables en total, para que no me salga un heatmap imposible de entender voy a tomar para el Phick sólo las columnas categóricas."
   ]
  },
  {
   "cell_type": "code",
   "execution_count": 298,
   "metadata": {},
   "outputs": [
    {
     "data": {
      "text/html": [
       "<div>\n",
       "<style scoped>\n",
       "    .dataframe tbody tr th:only-of-type {\n",
       "        vertical-align: middle;\n",
       "    }\n",
       "\n",
       "    .dataframe tbody tr th {\n",
       "        vertical-align: top;\n",
       "    }\n",
       "\n",
       "    .dataframe thead th {\n",
       "        text-align: right;\n",
       "    }\n",
       "</style>\n",
       "<table border=\"1\" class=\"dataframe\">\n",
       "  <thead>\n",
       "    <tr style=\"text-align: right;\">\n",
       "      <th></th>\n",
       "      <th>sex</th>\n",
       "      <th>ethnicity</th>\n",
       "      <th>jaundice</th>\n",
       "      <th>fam_history_PDD</th>\n",
       "      <th>country_of_res</th>\n",
       "      <th>used_app_before</th>\n",
       "      <th>age_desc</th>\n",
       "      <th>relation</th>\n",
       "      <th>class</th>\n",
       "    </tr>\n",
       "  </thead>\n",
       "  <tbody>\n",
       "    <tr>\n",
       "      <th>0</th>\n",
       "      <td>f</td>\n",
       "      <td>White-European</td>\n",
       "      <td>no</td>\n",
       "      <td>no</td>\n",
       "      <td>'United States'</td>\n",
       "      <td>no</td>\n",
       "      <td>'18 and more'</td>\n",
       "      <td>Self</td>\n",
       "      <td>0</td>\n",
       "    </tr>\n",
       "    <tr>\n",
       "      <th>1</th>\n",
       "      <td>m</td>\n",
       "      <td>Latino</td>\n",
       "      <td>no</td>\n",
       "      <td>yes</td>\n",
       "      <td>Brazil</td>\n",
       "      <td>no</td>\n",
       "      <td>'18 and more'</td>\n",
       "      <td>Self</td>\n",
       "      <td>0</td>\n",
       "    </tr>\n",
       "    <tr>\n",
       "      <th>2</th>\n",
       "      <td>m</td>\n",
       "      <td>Latino</td>\n",
       "      <td>yes</td>\n",
       "      <td>yes</td>\n",
       "      <td>Spain</td>\n",
       "      <td>no</td>\n",
       "      <td>'18 and more'</td>\n",
       "      <td>Parent</td>\n",
       "      <td>1</td>\n",
       "    </tr>\n",
       "    <tr>\n",
       "      <th>3</th>\n",
       "      <td>f</td>\n",
       "      <td>White-European</td>\n",
       "      <td>no</td>\n",
       "      <td>yes</td>\n",
       "      <td>'United States'</td>\n",
       "      <td>no</td>\n",
       "      <td>'18 and more'</td>\n",
       "      <td>Self</td>\n",
       "      <td>0</td>\n",
       "    </tr>\n",
       "    <tr>\n",
       "      <th>4</th>\n",
       "      <td>f</td>\n",
       "      <td>NaN</td>\n",
       "      <td>no</td>\n",
       "      <td>no</td>\n",
       "      <td>Egypt</td>\n",
       "      <td>no</td>\n",
       "      <td>'18 and more'</td>\n",
       "      <td>NaN</td>\n",
       "      <td>0</td>\n",
       "    </tr>\n",
       "    <tr>\n",
       "      <th>...</th>\n",
       "      <td>...</td>\n",
       "      <td>...</td>\n",
       "      <td>...</td>\n",
       "      <td>...</td>\n",
       "      <td>...</td>\n",
       "      <td>...</td>\n",
       "      <td>...</td>\n",
       "      <td>...</td>\n",
       "      <td>...</td>\n",
       "    </tr>\n",
       "    <tr>\n",
       "      <th>1095</th>\n",
       "      <td>f</td>\n",
       "      <td>White-European</td>\n",
       "      <td>yes</td>\n",
       "      <td>yes</td>\n",
       "      <td>'United Kingdom'</td>\n",
       "      <td>no</td>\n",
       "      <td>'4-11 years'</td>\n",
       "      <td>Parent</td>\n",
       "      <td>1</td>\n",
       "    </tr>\n",
       "    <tr>\n",
       "      <th>1096</th>\n",
       "      <td>f</td>\n",
       "      <td>White-European</td>\n",
       "      <td>yes</td>\n",
       "      <td>yes</td>\n",
       "      <td>Australia</td>\n",
       "      <td>no</td>\n",
       "      <td>'4-11 years'</td>\n",
       "      <td>Parent</td>\n",
       "      <td>0</td>\n",
       "    </tr>\n",
       "    <tr>\n",
       "      <th>1097</th>\n",
       "      <td>m</td>\n",
       "      <td>Latino</td>\n",
       "      <td>no</td>\n",
       "      <td>no</td>\n",
       "      <td>Brazil</td>\n",
       "      <td>no</td>\n",
       "      <td>'4-11 years'</td>\n",
       "      <td>Parent</td>\n",
       "      <td>1</td>\n",
       "    </tr>\n",
       "    <tr>\n",
       "      <th>1098</th>\n",
       "      <td>m</td>\n",
       "      <td>'South Asian'</td>\n",
       "      <td>no</td>\n",
       "      <td>no</td>\n",
       "      <td>India</td>\n",
       "      <td>no</td>\n",
       "      <td>'4-11 years'</td>\n",
       "      <td>Parent</td>\n",
       "      <td>1</td>\n",
       "    </tr>\n",
       "    <tr>\n",
       "      <th>1099</th>\n",
       "      <td>f</td>\n",
       "      <td>'South Asian'</td>\n",
       "      <td>no</td>\n",
       "      <td>no</td>\n",
       "      <td>India</td>\n",
       "      <td>no</td>\n",
       "      <td>'4-11 years'</td>\n",
       "      <td>Parent</td>\n",
       "      <td>0</td>\n",
       "    </tr>\n",
       "  </tbody>\n",
       "</table>\n",
       "<p>1100 rows × 9 columns</p>\n",
       "</div>"
      ],
      "text/plain": [
       "     sex       ethnicity jaundice fam_history_PDD    country_of_res  \\\n",
       "0      f  White-European       no              no   'United States'   \n",
       "1      m          Latino       no             yes            Brazil   \n",
       "2      m          Latino      yes             yes             Spain   \n",
       "3      f  White-European       no             yes   'United States'   \n",
       "4      f             NaN       no              no             Egypt   \n",
       "...   ..             ...      ...             ...               ...   \n",
       "1095   f  White-European      yes             yes  'United Kingdom'   \n",
       "1096   f  White-European      yes             yes         Australia   \n",
       "1097   m          Latino       no              no            Brazil   \n",
       "1098   m   'South Asian'       no              no             India   \n",
       "1099   f   'South Asian'       no              no             India   \n",
       "\n",
       "     used_app_before       age_desc relation  class  \n",
       "0                 no  '18 and more'     Self      0  \n",
       "1                 no  '18 and more'     Self      0  \n",
       "2                 no  '18 and more'   Parent      1  \n",
       "3                 no  '18 and more'     Self      0  \n",
       "4                 no  '18 and more'      NaN      0  \n",
       "...              ...            ...      ...    ...  \n",
       "1095              no   '4-11 years'   Parent      1  \n",
       "1096              no   '4-11 years'   Parent      0  \n",
       "1097              no   '4-11 years'   Parent      1  \n",
       "1098              no   '4-11 years'   Parent      1  \n",
       "1099              no   '4-11 years'   Parent      0  \n",
       "\n",
       "[1100 rows x 9 columns]"
      ]
     },
     "execution_count": 298,
     "metadata": {},
     "output_type": "execute_result"
    }
   ],
   "source": [
    "categoricas = raw_data[['sex', 'ethnicity', 'jaundice', 'fam_history_PDD', 'country_of_res',\n",
    "                        'used_app_before','age_desc', 'relation',\"class\"]]\n",
    "\n",
    "categoricas\n"
   ]
  },
  {
   "cell_type": "code",
   "execution_count": 352,
   "metadata": {},
   "outputs": [
    {
     "name": "stdout",
     "output_type": "stream",
     "text": [
      "interval columns not set, guessing: ['class']\n"
     ]
    },
    {
     "data": {
      "image/png": "[encoded data removed]",
      "text/plain": [
       "<Figure size 720x720 with 2 Axes>"
      ]
     },
     "metadata": {
      "needs_background": "light"
     },
     "output_type": "display_data"
    }
   ],
   "source": [
    "import phik\n",
    "phik_matrix = categoricas.phik_matrix()\n",
    "\n",
    "plt.figure(figsize=(10,10))\n",
    "\n",
    "sns.heatmap(phik_matrix,\n",
    "            vmin=-1,\n",
    "            vmax=1,\n",
    "            center=0,\n",
    "            cmap=sns.diverging_palette(220, 20, as_cmap=True),\n",
    "            square=True,\n",
    "            annot=True,\n",
    "            linewidths=.5);\n"
   ]
  },
  {
   "cell_type": "markdown",
   "metadata": {},
   "source": [
    "Me sorprende que la variable edad no tenga ninguna correlación con el target, esperaba que la tuviese. También me sorprende la baja correlación de la variable jaundice y fam_history_PDD.\n",
    "No obstante, por ahora las mantengo. \n",
    "\n",
    "Sí que elimino, por el contrario, la variable used_app_before"
   ]
  },
  {
   "cell_type": "code",
   "execution_count": 301,
   "metadata": {},
   "outputs": [],
   "source": [
    "# Reducción preliminar de features:\n",
    "\n",
    "X_train.drop(columns = [\"fam_history_PDD\"], inplace = True)    "
   ]
  },
  {
   "cell_type": "markdown",
   "metadata": {},
   "source": [
    "### 5. Análisis univariante"
   ]
  },
  {
   "cell_type": "markdown",
   "metadata": {},
   "source": [
    "**5.1 A1_score', 'A2_score', 'A3_score', 'A4_score', 'A5_score', 'A6_score','A7_score', 'A8_score', 'A9_score', 'A10_score'**\n",
    "\n",
    "Estas variables representan diez indicadores de comportamiento (behavioural features) definidos en el método de screening\n",
    "aplicado por los autores del dataset. Se basan en las respuestas dadas por las personas objeto del screening \n",
    "a un cuestionario de 10 preguntas.\n",
    "Se trata de variables categóricas cuyo valor puede ser 0 o 1 (tipo numérico).  "
   ]
  },
  {
   "cell_type": "code",
   "execution_count": 324,
   "metadata": {},
   "outputs": [
    {
     "data": {
      "image/png": "[encoded data removed]",
      "text/plain": [
       "<Figure size 1440x360 with 10 Axes>"
      ]
     },
     "metadata": {
      "needs_background": "light"
     },
     "output_type": "display_data"
    }
   ],
   "source": [
    "#Analizamos su distribución \n",
    "\n",
    "fig, axes = plt.subplots(1, 10, figsize=(20, 5), sharey=True)\n",
    "\n",
    "sns.countplot(raw_data[\"A1_score\"], ax=axes[0])\n",
    "#axes[0].set_title(\"A1_score\")\n",
    "\n",
    "sns.countplot(raw_data[\"A2_score\"], ax=axes[1])\n",
    "#axes[1].set_title(\"A2_score\")\n",
    "\n",
    "sns.countplot(raw_data[\"A3_score\"], ax=axes[2])\n",
    "#axes[2].set_title(\"A3_score\")\n",
    "\n",
    "sns.countplot(raw_data[\"A4_score\"], ax=axes[3])\n",
    "#axes[3].set_title(\"A4_score\")\n",
    "\n",
    "sns.countplot(raw_data[\"A5_score\"], ax=axes[4])\n",
    "#axes[4].set_title(\"A5_score\")\n",
    "\n",
    "sns.countplot(raw_data[\"A6_score\"], ax=axes[5])\n",
    "#axes[5].set_title(\"A6_score\")\n",
    "\n",
    "sns.countplot(raw_data[\"A7_score\"], ax=axes[6])\n",
    "#axes[6].set_title(\"A7_score\")\n",
    "\n",
    "sns.countplot(raw_data[\"A8_score\"], ax=axes[7]);\n",
    "#axes[7].set_title(\"A8_score\")\n",
    "\n",
    "sns.countplot(raw_data[\"A9_score\"], ax=axes[8]);\n",
    "#axes[8].set_title(\"A9_score\")\n",
    "\n",
    "sns.countplot(raw_data[\"A10_score\"], ax=axes[9]);\n",
    "#axes[9].set_title(\"A10_score\");\n"
   ]
  },
  {
   "cell_type": "markdown",
   "metadata": {},
   "source": [
    "#### 5.2 Screening score\n",
    "\n",
    "Puntuación resultante del método de screening. Tiene un coeficiente de correlación de Pearson con el target de 0.834223  \n"
   ]
  },
  {
   "cell_type": "code",
   "execution_count": 358,
   "metadata": {},
   "outputs": [
    {
     "data": {
      "image/png": "[encoded data removed]",
      "text/plain": [
       "<Figure size 720x360 with 1 Axes>"
      ]
     },
     "metadata": {
      "needs_background": "light"
     },
     "output_type": "display_data"
    }
   ],
   "source": [
    "#Distribución \n",
    "\n",
    "plt.figure(figsize=(10,5))\n",
    "\n",
    "sns.distplot(raw_data[\"screening_score\"], kde = False, color = \"lightblue\");\n",
    "\n",
    "#NO COMPRENDO PORQUÉ SALE ASÍ EL GRAFICO, PREGUNTAR!!!!"
   ]
  },
  {
   "cell_type": "code",
   "execution_count": 346,
   "metadata": {},
   "outputs": [
    {
     "data": {
      "text/plain": [
       "False    979\n",
       "True     121\n",
       "Name: screening_score, dtype: int64"
      ]
     },
     "execution_count": 346,
     "metadata": {},
     "output_type": "execute_result"
    }
   ],
   "source": [
    "raw_data[\"screening_score\"].unique()\n",
    "\n",
    "raw_data[\"screening_score\"].isin([8]).value_counts()"
   ]
  },
  {
   "cell_type": "code",
   "execution_count": null,
   "metadata": {},
   "outputs": [],
   "source": []
  },
  {
   "cell_type": "code",
   "execution_count": null,
   "metadata": {},
   "outputs": [],
   "source": []
  },
  {
   "cell_type": "code",
   "execution_count": 231,
   "metadata": {},
   "outputs": [
    {
     "data": {
      "application/vnd.plotly.v1+json": {
       "config": {
        "plotlyServerURL": "https://plot.ly"
       },
       "data": [
        {
         "alignmentgroup": "True",
         "hovertemplate": "age_num=%{y}<extra></extra>",
         "legendgroup": "",
         "marker": {
          "color": "#636efa"
         },
         "name": "",
         "notched": false,
         "offsetgroup": "",
         "orientation": "v",
         "showlegend": false,
         "type": "box",
         "x0": " ",
         "xaxis": "x",
         "y": [
          26,
          24,
          27,
          35,
          40,
          36,
          17,
          64,
          29,
          17,
          33,
          18,
          17,
          17,
          17,
          18,
          31,
          30,
          35,
          34,
          38,
          27,
          27,
          42,
          43,
          24,
          40,
          40,
          48,
          31,
          18,
          37,
          55,
          18,
          18,
          55,
          50,
          34,
          53,
          35,
          20,
          28,
          34,
          36,
          27,
          53,
          24,
          24,
          55,
          30,
          21,
          35,
          383,
          21,
          47,
          30,
          28,
          43,
          32,
          44,
          20,
          20,
          null,
          19,
          29,
          21,
          27,
          21,
          35,
          42,
          29,
          58,
          21,
          21,
          37,
          21,
          20,
          33,
          20,
          45,
          32,
          30,
          33,
          42,
          17,
          27,
          35,
          37,
          30,
          29,
          17,
          null,
          22,
          19,
          42,
          37,
          28,
          22,
          26,
          21,
          26,
          39,
          26,
          26,
          21,
          25,
          26,
          30,
          19,
          19,
          25,
          23,
          31,
          27,
          29,
          38,
          23,
          27,
          27,
          42,
          20,
          17,
          20,
          30,
          28,
          26,
          26,
          31,
          40,
          39,
          18,
          24,
          23,
          24,
          24,
          27,
          24,
          25,
          22,
          40,
          23,
          29,
          25,
          27,
          22,
          28,
          20,
          19,
          37,
          35,
          26,
          23,
          32,
          30,
          31,
          28,
          29,
          29,
          29,
          31,
          36,
          32,
          34,
          24,
          24,
          42,
          26,
          27,
          36,
          36,
          55,
          23,
          22,
          42,
          54,
          43,
          43,
          29,
          29,
          37,
          39,
          18,
          31,
          34,
          22,
          28,
          38,
          28,
          53,
          26,
          37,
          42,
          43,
          32,
          31,
          53,
          28,
          38,
          31,
          31,
          21,
          25,
          25,
          60,
          39,
          53,
          20,
          25,
          50,
          28,
          37,
          30,
          32,
          34,
          42,
          22,
          37,
          39,
          18,
          54,
          42,
          27,
          22,
          22,
          21,
          28,
          17,
          28,
          21,
          31,
          20,
          21,
          22,
          21,
          24,
          24,
          25,
          17,
          21,
          23,
          21,
          22,
          24,
          34,
          30,
          29,
          20,
          23,
          26,
          20,
          41,
          24,
          35,
          23,
          36,
          33,
          24,
          25,
          25,
          25,
          24,
          27,
          26,
          26,
          23,
          30,
          25,
          23,
          34,
          20,
          22,
          33,
          46,
          17,
          45,
          26,
          30,
          32,
          38,
          26,
          29,
          33,
          32,
          44,
          47,
          32,
          40,
          40,
          44,
          56,
          23,
          32,
          27,
          28,
          40,
          45,
          19,
          55,
          27,
          19,
          29,
          33,
          48,
          37,
          30,
          37,
          28,
          20,
          25,
          58,
          36,
          36,
          19,
          19,
          22,
          20,
          24,
          19,
          21,
          20,
          18,
          23,
          22,
          18,
          37,
          18,
          18,
          18,
          18,
          18,
          18,
          19,
          55,
          32,
          50,
          40,
          47,
          20,
          22,
          21,
          21,
          19,
          21,
          21,
          23,
          21,
          21,
          23,
          20,
          21,
          20,
          19,
          21,
          26,
          21,
          19,
          22,
          19,
          22,
          20,
          23,
          19,
          20,
          24,
          19,
          20,
          23,
          20,
          20,
          20,
          20,
          21,
          19,
          20,
          20,
          25,
          20,
          22,
          20,
          20,
          20,
          23,
          21,
          22,
          21,
          20,
          22,
          21,
          20,
          20,
          21,
          21,
          23,
          21,
          22,
          19,
          20,
          21,
          26,
          19,
          20,
          26,
          23,
          28,
          19,
          20,
          19,
          24,
          19,
          22,
          20,
          21,
          24,
          18,
          19,
          19,
          31,
          19,
          21,
          20,
          26,
          27,
          23,
          29,
          23,
          23,
          24,
          21,
          20,
          20,
          32,
          61,
          19,
          35,
          34,
          23,
          19,
          36,
          21,
          23,
          17,
          22,
          33,
          23,
          35,
          21,
          20,
          29,
          59,
          18,
          19,
          24,
          36,
          19,
          17,
          52,
          18,
          30,
          18,
          27,
          52,
          45,
          25,
          29,
          29,
          18,
          18,
          17,
          27,
          22,
          23,
          25,
          23,
          29,
          27,
          27,
          43,
          26,
          30,
          23,
          29,
          37,
          28,
          25,
          25,
          21,
          43,
          30,
          18,
          18,
          30,
          31,
          33,
          33,
          26,
          61,
          46,
          33,
          38,
          44,
          48,
          42,
          37,
          23,
          24,
          41,
          41,
          27,
          46,
          40,
          22,
          42,
          18,
          44,
          30,
          42,
          35,
          40,
          50,
          38,
          26,
          27,
          47,
          21,
          37,
          19,
          32,
          26,
          46,
          29,
          30,
          32,
          35,
          22,
          19,
          24,
          52,
          52,
          32,
          24,
          24,
          49,
          30,
          30,
          35,
          35,
          37,
          43,
          52,
          44,
          46,
          42,
          20,
          18,
          38,
          24,
          32,
          29,
          22,
          19,
          39,
          17,
          19,
          18,
          19,
          28,
          29,
          48,
          27,
          34,
          31,
          47,
          47,
          44,
          25,
          25,
          20,
          43,
          36,
          30,
          44,
          40,
          40,
          40,
          30,
          47,
          21,
          21,
          31,
          21,
          29,
          22,
          51,
          23,
          30,
          22,
          22,
          24,
          26,
          33,
          23,
          42,
          26,
          29,
          35,
          25,
          25,
          28,
          33,
          25,
          25,
          24,
          27,
          22,
          21,
          27,
          23,
          22,
          23,
          30,
          33,
          24,
          22,
          22,
          29,
          22,
          21,
          23,
          23,
          23,
          32,
          27,
          28,
          25,
          22,
          36,
          27,
          21,
          18,
          49,
          18,
          29,
          31,
          37,
          17,
          17,
          38,
          18,
          31,
          33,
          32,
          30,
          33,
          30,
          30,
          38,
          22,
          36,
          43,
          44,
          20,
          40,
          25,
          28,
          17,
          34,
          56,
          50,
          38,
          47,
          30,
          21,
          21,
          31,
          27,
          24,
          35,
          18,
          43,
          44,
          40,
          49,
          24,
          30,
          53,
          38,
          28,
          28,
          26,
          39,
          31,
          24,
          28,
          31,
          27,
          28,
          31,
          46,
          27,
          25,
          34,
          24,
          35,
          26,
          15,
          15,
          12,
          14,
          16,
          13,
          16,
          15,
          12,
          12,
          13,
          13,
          12,
          12,
          12,
          15,
          12,
          12,
          13,
          12,
          12,
          14,
          15,
          13,
          14,
          12,
          12,
          14,
          13,
          16,
          14,
          13,
          16,
          12,
          14,
          16,
          15,
          14,
          12,
          12,
          15,
          13,
          16,
          16,
          15,
          16,
          16,
          12,
          12,
          14,
          13,
          13,
          16,
          13,
          15,
          15,
          15,
          16,
          16,
          16,
          12,
          16,
          16,
          16,
          14,
          15,
          15,
          16,
          13,
          14,
          13,
          16,
          12,
          12,
          16,
          16,
          14,
          12,
          14,
          16,
          13,
          16,
          16,
          15,
          14,
          16,
          16,
          16,
          14,
          13,
          16,
          15,
          12,
          16,
          15,
          15,
          16,
          15,
          12,
          16,
          16,
          12,
          13,
          12,
          6,
          6,
          6,
          5,
          5,
          4,
          5,
          5,
          11,
          11,
          10,
          5,
          4,
          4,
          6,
          8,
          4,
          7,
          11,
          5,
          5,
          9,
          4,
          6,
          11,
          6,
          6,
          5,
          6,
          4,
          11,
          6,
          null,
          5,
          6,
          7,
          4,
          7,
          4,
          4,
          5,
          4,
          6,
          4,
          10,
          4,
          4,
          6,
          6,
          7,
          7,
          4,
          6,
          7,
          5,
          5,
          6,
          4,
          9,
          4,
          4,
          9,
          4,
          9,
          8,
          null,
          4,
          4,
          4,
          4,
          7,
          7,
          6,
          5,
          8,
          5,
          11,
          8,
          4,
          7,
          4,
          7,
          8,
          5,
          4,
          11,
          11,
          4,
          5,
          6,
          4,
          11,
          5,
          5,
          6,
          7,
          11,
          4,
          4,
          7,
          11,
          6,
          9,
          10,
          4,
          4,
          10,
          4,
          11,
          7,
          5,
          4,
          8,
          4,
          4,
          11,
          10,
          6,
          4,
          4,
          4,
          10,
          7,
          4,
          6,
          5,
          null,
          4,
          9,
          4,
          10,
          9,
          5,
          4,
          4,
          6,
          4,
          5,
          null,
          9,
          7,
          10,
          4,
          4,
          7,
          4,
          4,
          10,
          4,
          4,
          4,
          4,
          7,
          4,
          5,
          6,
          6,
          6,
          9,
          8,
          11,
          9,
          9,
          7,
          4,
          10,
          8,
          6,
          8,
          11,
          5,
          4,
          11,
          11,
          4,
          8,
          8,
          9,
          4,
          4,
          4,
          4,
          11,
          10,
          11,
          4,
          4,
          6,
          8,
          4,
          4,
          8,
          11,
          4,
          5,
          4,
          8,
          4,
          4,
          9,
          9,
          4,
          5,
          7,
          4,
          5,
          6,
          8,
          4,
          5,
          5,
          6,
          4,
          8,
          5,
          4,
          6,
          11,
          6,
          4,
          8,
          4,
          4,
          6,
          8,
          9,
          8,
          5,
          5,
          4,
          10,
          4,
          4,
          5,
          4,
          5,
          7,
          11,
          11,
          11,
          9,
          6,
          6,
          9,
          7,
          5,
          5,
          10,
          7,
          9,
          7,
          7,
          7,
          9,
          5,
          4,
          5,
          4,
          5,
          5,
          4,
          6,
          6,
          5,
          11,
          10,
          4,
          5,
          10,
          9,
          4,
          4,
          5,
          8,
          8,
          6,
          11,
          10,
          6,
          6,
          4,
          4,
          4,
          5,
          10,
          10,
          5,
          7,
          7,
          4,
          4,
          4
         ],
         "y0": " ",
         "yaxis": "y"
        }
       ],
       "layout": {
        "boxmode": "group",
        "legend": {
         "tracegroupgap": 0
        },
        "margin": {
         "t": 60
        },
        "template": {
         "data": {
          "bar": [
           {
            "error_x": {
             "color": "#2a3f5f"
            },
            "error_y": {
             "color": "#2a3f5f"
            },
            "marker": {
             "line": {
              "color": "#E5ECF6",
              "width": 0.5
             }
            },
            "type": "bar"
           }
          ],
          "barpolar": [
           {
            "marker": {
             "line": {
              "color": "#E5ECF6",
              "width": 0.5
             }
            },
            "type": "barpolar"
           }
          ],
          "carpet": [
           {
            "aaxis": {
             "endlinecolor": "#2a3f5f",
             "gridcolor": "white",
             "linecolor": "white",
             "minorgridcolor": "white",
             "startlinecolor": "#2a3f5f"
            },
            "baxis": {
             "endlinecolor": "#2a3f5f",
             "gridcolor": "white",
             "linecolor": "white",
             "minorgridcolor": "white",
             "startlinecolor": "#2a3f5f"
            },
            "type": "carpet"
           }
          ],
          "choropleth": [
           {
            "colorbar": {
             "outlinewidth": 0,
             "ticks": ""
            },
            "type": "choropleth"
           }
          ],
          "contour": [
           {
            "colorbar": {
             "outlinewidth": 0,
             "ticks": ""
            },
            "colorscale": [
             [
              0,
              "#0d0887"
             ],
             [
              0.1111111111111111,
              "#46039f"
             ],
             [
              0.2222222222222222,
              "#7201a8"
             ],
             [
              0.3333333333333333,
              "#9c179e"
             ],
             [
              0.4444444444444444,
              "#bd3786"
             ],
             [
              0.5555555555555556,
              "#d8576b"
             ],
             [
              0.6666666666666666,
              "#ed7953"
             ],
             [
              0.7777777777777778,
              "#fb9f3a"
             ],
             [
              0.8888888888888888,
              "#fdca26"
             ],
             [
              1,
              "#f0f921"
             ]
            ],
            "type": "contour"
           }
          ],
          "contourcarpet": [
           {
            "colorbar": {
             "outlinewidth": 0,
             "ticks": ""
            },
            "type": "contourcarpet"
           }
          ],
          "heatmap": [
           {
            "colorbar": {
             "outlinewidth": 0,
             "ticks": ""
            },
            "colorscale": [
             [
              0,
              "#0d0887"
             ],
             [
              0.1111111111111111,
              "#46039f"
             ],
             [
              0.2222222222222222,
              "#7201a8"
             ],
             [
              0.3333333333333333,
              "#9c179e"
             ],
             [
              0.4444444444444444,
              "#bd3786"
             ],
             [
              0.5555555555555556,
              "#d8576b"
             ],
             [
              0.6666666666666666,
              "#ed7953"
             ],
             [
              0.7777777777777778,
              "#fb9f3a"
             ],
             [
              0.8888888888888888,
              "#fdca26"
             ],
             [
              1,
              "#f0f921"
             ]
            ],
            "type": "heatmap"
           }
          ],
          "heatmapgl": [
           {
            "colorbar": {
             "outlinewidth": 0,
             "ticks": ""
            },
            "colorscale": [
             [
              0,
              "#0d0887"
             ],
             [
              0.1111111111111111,
              "#46039f"
             ],
             [
              0.2222222222222222,
              "#7201a8"
             ],
             [
              0.3333333333333333,
              "#9c179e"
             ],
             [
              0.4444444444444444,
              "#bd3786"
             ],
             [
              0.5555555555555556,
              "#d8576b"
             ],
             [
              0.6666666666666666,
              "#ed7953"
             ],
             [
              0.7777777777777778,
              "#fb9f3a"
             ],
             [
              0.8888888888888888,
              "#fdca26"
             ],
             [
              1,
              "#f0f921"
             ]
            ],
            "type": "heatmapgl"
           }
          ],
          "histogram": [
           {
            "marker": {
             "colorbar": {
              "outlinewidth": 0,
              "ticks": ""
             }
            },
            "type": "histogram"
           }
          ],
          "histogram2d": [
           {
            "colorbar": {
             "outlinewidth": 0,
             "ticks": ""
            },
            "colorscale": [
             [
              0,
              "#0d0887"
             ],
             [
              0.1111111111111111,
              "#46039f"
             ],
             [
              0.2222222222222222,
              "#7201a8"
             ],
             [
              0.3333333333333333,
              "#9c179e"
             ],
             [
              0.4444444444444444,
              "#bd3786"
             ],
             [
              0.5555555555555556,
              "#d8576b"
             ],
             [
              0.6666666666666666,
              "#ed7953"
             ],
             [
              0.7777777777777778,
              "#fb9f3a"
             ],
             [
              0.8888888888888888,
              "#fdca26"
             ],
             [
              1,
              "#f0f921"
             ]
            ],
            "type": "histogram2d"
           }
          ],
          "histogram2dcontour": [
           {
            "colorbar": {
             "outlinewidth": 0,
             "ticks": ""
            },
            "colorscale": [
             [
              0,
              "#0d0887"
             ],
             [
              0.1111111111111111,
              "#46039f"
             ],
             [
              0.2222222222222222,
              "#7201a8"
             ],
             [
              0.3333333333333333,
              "#9c179e"
             ],
             [
              0.4444444444444444,
              "#bd3786"
             ],
             [
              0.5555555555555556,
              "#d8576b"
             ],
             [
              0.6666666666666666,
              "#ed7953"
             ],
             [
              0.7777777777777778,
              "#fb9f3a"
             ],
             [
              0.8888888888888888,
              "#fdca26"
             ],
             [
              1,
              "#f0f921"
             ]
            ],
            "type": "histogram2dcontour"
           }
          ],
          "mesh3d": [
           {
            "colorbar": {
             "outlinewidth": 0,
             "ticks": ""
            },
            "type": "mesh3d"
           }
          ],
          "parcoords": [
           {
            "line": {
             "colorbar": {
              "outlinewidth": 0,
              "ticks": ""
             }
            },
            "type": "parcoords"
           }
          ],
          "pie": [
           {
            "automargin": true,
            "type": "pie"
           }
          ],
          "scatter": [
           {
            "marker": {
             "colorbar": {
              "outlinewidth": 0,
              "ticks": ""
             }
            },
            "type": "scatter"
           }
          ],
          "scatter3d": [
           {
            "line": {
             "colorbar": {
              "outlinewidth": 0,
              "ticks": ""
             }
            },
            "marker": {
             "colorbar": {
              "outlinewidth": 0,
              "ticks": ""
             }
            },
            "type": "scatter3d"
           }
          ],
          "scattercarpet": [
           {
            "marker": {
             "colorbar": {
              "outlinewidth": 0,
              "ticks": ""
             }
            },
            "type": "scattercarpet"
           }
          ],
          "scattergeo": [
           {
            "marker": {
             "colorbar": {
              "outlinewidth": 0,
              "ticks": ""
             }
            },
            "type": "scattergeo"
           }
          ],
          "scattergl": [
           {
            "marker": {
             "colorbar": {
              "outlinewidth": 0,
              "ticks": ""
             }
            },
            "type": "scattergl"
           }
          ],
          "scattermapbox": [
           {
            "marker": {
             "colorbar": {
              "outlinewidth": 0,
              "ticks": ""
             }
            },
            "type": "scattermapbox"
           }
          ],
          "scatterpolar": [
           {
            "marker": {
             "colorbar": {
              "outlinewidth": 0,
              "ticks": ""
             }
            },
            "type": "scatterpolar"
           }
          ],
          "scatterpolargl": [
           {
            "marker": {
             "colorbar": {
              "outlinewidth": 0,
              "ticks": ""
             }
            },
            "type": "scatterpolargl"
           }
          ],
          "scatterternary": [
           {
            "marker": {
             "colorbar": {
              "outlinewidth": 0,
              "ticks": ""
             }
            },
            "type": "scatterternary"
           }
          ],
          "surface": [
           {
            "colorbar": {
             "outlinewidth": 0,
             "ticks": ""
            },
            "colorscale": [
             [
              0,
              "#0d0887"
             ],
             [
              0.1111111111111111,
              "#46039f"
             ],
             [
              0.2222222222222222,
              "#7201a8"
             ],
             [
              0.3333333333333333,
              "#9c179e"
             ],
             [
              0.4444444444444444,
              "#bd3786"
             ],
             [
              0.5555555555555556,
              "#d8576b"
             ],
             [
              0.6666666666666666,
              "#ed7953"
             ],
             [
              0.7777777777777778,
              "#fb9f3a"
             ],
             [
              0.8888888888888888,
              "#fdca26"
             ],
             [
              1,
              "#f0f921"
             ]
            ],
            "type": "surface"
           }
          ],
          "table": [
           {
            "cells": {
             "fill": {
              "color": "#EBF0F8"
             },
             "line": {
              "color": "white"
             }
            },
            "header": {
             "fill": {
              "color": "#C8D4E3"
             },
             "line": {
              "color": "white"
             }
            },
            "type": "table"
           }
          ]
         },
         "layout": {
          "annotationdefaults": {
           "arrowcolor": "#2a3f5f",
           "arrowhead": 0,
           "arrowwidth": 1
          },
          "autotypenumbers": "strict",
          "coloraxis": {
           "colorbar": {
            "outlinewidth": 0,
            "ticks": ""
           }
          },
          "colorscale": {
           "diverging": [
            [
             0,
             "#8e0152"
            ],
            [
             0.1,
             "#c51b7d"
            ],
            [
             0.2,
             "#de77ae"
            ],
            [
             0.3,
             "#f1b6da"
            ],
            [
             0.4,
             "#fde0ef"
            ],
            [
             0.5,
             "#f7f7f7"
            ],
            [
             0.6,
             "#e6f5d0"
            ],
            [
             0.7,
             "#b8e186"
            ],
            [
             0.8,
             "#7fbc41"
            ],
            [
             0.9,
             "#4d9221"
            ],
            [
             1,
             "#276419"
            ]
           ],
           "sequential": [
            [
             0,
             "#0d0887"
            ],
            [
             0.1111111111111111,
             "#46039f"
            ],
            [
             0.2222222222222222,
             "#7201a8"
            ],
            [
             0.3333333333333333,
             "#9c179e"
            ],
            [
             0.4444444444444444,
             "#bd3786"
            ],
            [
             0.5555555555555556,
             "#d8576b"
            ],
            [
             0.6666666666666666,
             "#ed7953"
            ],
            [
             0.7777777777777778,
             "#fb9f3a"
            ],
            [
             0.8888888888888888,
             "#fdca26"
            ],
            [
             1,
             "#f0f921"
            ]
           ],
           "sequentialminus": [
            [
             0,
             "#0d0887"
            ],
            [
             0.1111111111111111,
             "#46039f"
            ],
            [
             0.2222222222222222,
             "#7201a8"
            ],
            [
             0.3333333333333333,
             "#9c179e"
            ],
            [
             0.4444444444444444,
             "#bd3786"
            ],
            [
             0.5555555555555556,
             "#d8576b"
            ],
            [
             0.6666666666666666,
             "#ed7953"
            ],
            [
             0.7777777777777778,
             "#fb9f3a"
            ],
            [
             0.8888888888888888,
             "#fdca26"
            ],
            [
             1,
             "#f0f921"
            ]
           ]
          },
          "colorway": [
           "#636efa",
           "#EF553B",
           "#00cc96",
           "#ab63fa",
           "#FFA15A",
           "#19d3f3",
           "#FF6692",
           "#B6E880",
           "#FF97FF",
           "#FECB52"
          ],
          "font": {
           "color": "#2a3f5f"
          },
          "geo": {
           "bgcolor": "white",
           "lakecolor": "white",
           "landcolor": "#E5ECF6",
           "showlakes": true,
           "showland": true,
           "subunitcolor": "white"
          },
          "hoverlabel": {
           "align": "left"
          },
          "hovermode": "closest",
          "mapbox": {
           "style": "light"
          },
          "paper_bgcolor": "white",
          "plot_bgcolor": "#E5ECF6",
          "polar": {
           "angularaxis": {
            "gridcolor": "white",
            "linecolor": "white",
            "ticks": ""
           },
           "bgcolor": "#E5ECF6",
           "radialaxis": {
            "gridcolor": "white",
            "linecolor": "white",
            "ticks": ""
           }
          },
          "scene": {
           "xaxis": {
            "backgroundcolor": "#E5ECF6",
            "gridcolor": "white",
            "gridwidth": 2,
            "linecolor": "white",
            "showbackground": true,
            "ticks": "",
            "zerolinecolor": "white"
           },
           "yaxis": {
            "backgroundcolor": "#E5ECF6",
            "gridcolor": "white",
            "gridwidth": 2,
            "linecolor": "white",
            "showbackground": true,
            "ticks": "",
            "zerolinecolor": "white"
           },
           "zaxis": {
            "backgroundcolor": "#E5ECF6",
            "gridcolor": "white",
            "gridwidth": 2,
            "linecolor": "white",
            "showbackground": true,
            "ticks": "",
            "zerolinecolor": "white"
           }
          },
          "shapedefaults": {
           "line": {
            "color": "#2a3f5f"
           }
          },
          "ternary": {
           "aaxis": {
            "gridcolor": "white",
            "linecolor": "white",
            "ticks": ""
           },
           "baxis": {
            "gridcolor": "white",
            "linecolor": "white",
            "ticks": ""
           },
           "bgcolor": "#E5ECF6",
           "caxis": {
            "gridcolor": "white",
            "linecolor": "white",
            "ticks": ""
           }
          },
          "title": {
           "x": 0.05
          },
          "xaxis": {
           "automargin": true,
           "gridcolor": "white",
           "linecolor": "white",
           "ticks": "",
           "title": {
            "standoff": 15
           },
           "zerolinecolor": "white",
           "zerolinewidth": 2
          },
          "yaxis": {
           "automargin": true,
           "gridcolor": "white",
           "linecolor": "white",
           "ticks": "",
           "title": {
            "standoff": 15
           },
           "zerolinecolor": "white",
           "zerolinewidth": 2
          }
         }
        },
        "xaxis": {
         "anchor": "y",
         "domain": [
          0,
          1
         ]
        },
        "yaxis": {
         "anchor": "x",
         "domain": [
          0,
          1
         ],
         "title": {
          "text": "age_num"
         }
        }
       }
      },
      "text/html": [
       "<div>                            <div id=\"e890eea6-9331-4ed9-b842-536d63419072\" class=\"plotly-graph-div\" style=\"height:525px; width:100%;\"></div>            <script type=\"text/javascript\">                require([\"plotly\"], function(Plotly) {                    window.PLOTLYENV=window.PLOTLYENV || {};                                    if (document.getElementById(\"e890eea6-9331-4ed9-b842-536d63419072\")) {                    Plotly.newPlot(                        \"e890eea6-9331-4ed9-b842-536d63419072\",                        [{\"alignmentgroup\": \"True\", \"hovertemplate\": \"age_num=%{y}<extra></extra>\", \"legendgroup\": \"\", \"marker\": {\"color\": \"#636efa\"}, \"name\": \"\", \"notched\": false, \"offsetgroup\": \"\", \"orientation\": \"v\", \"showlegend\": false, \"type\": \"box\", \"x0\": \" \", \"xaxis\": \"x\", \"y\": [26.0, 24.0, 27.0, 35.0, 40.0, 36.0, 17.0, 64.0, 29.0, 17.0, 33.0, 18.0, 17.0, 17.0, 17.0, 18.0, 31.0, 30.0, 35.0, 34.0, 38.0, 27.0, 27.0, 42.0, 43.0, 24.0, 40.0, 40.0, 48.0, 31.0, 18.0, 37.0, 55.0, 18.0, 18.0, 55.0, 50.0, 34.0, 53.0, 35.0, 20.0, 28.0, 34.0, 36.0, 27.0, 53.0, 24.0, 24.0, 55.0, 30.0, 21.0, 35.0, 383.0, 21.0, 47.0, 30.0, 28.0, 43.0, 32.0, 44.0, 20.0, 20.0, null, 19.0, 29.0, 21.0, 27.0, 21.0, 35.0, 42.0, 29.0, 58.0, 21.0, 21.0, 37.0, 21.0, 20.0, 33.0, 20.0, 45.0, 32.0, 30.0, 33.0, 42.0, 17.0, 27.0, 35.0, 37.0, 30.0, 29.0, 17.0, null, 22.0, 19.0, 42.0, 37.0, 28.0, 22.0, 26.0, 21.0, 26.0, 39.0, 26.0, 26.0, 21.0, 25.0, 26.0, 30.0, 19.0, 19.0, 25.0, 23.0, 31.0, 27.0, 29.0, 38.0, 23.0, 27.0, 27.0, 42.0, 20.0, 17.0, 20.0, 30.0, 28.0, 26.0, 26.0, 31.0, 40.0, 39.0, 18.0, 24.0, 23.0, 24.0, 24.0, 27.0, 24.0, 25.0, 22.0, 40.0, 23.0, 29.0, 25.0, 27.0, 22.0, 28.0, 20.0, 19.0, 37.0, 35.0, 26.0, 23.0, 32.0, 30.0, 31.0, 28.0, 29.0, 29.0, 29.0, 31.0, 36.0, 32.0, 34.0, 24.0, 24.0, 42.0, 26.0, 27.0, 36.0, 36.0, 55.0, 23.0, 22.0, 42.0, 54.0, 43.0, 43.0, 29.0, 29.0, 37.0, 39.0, 18.0, 31.0, 34.0, 22.0, 28.0, 38.0, 28.0, 53.0, 26.0, 37.0, 42.0, 43.0, 32.0, 31.0, 53.0, 28.0, 38.0, 31.0, 31.0, 21.0, 25.0, 25.0, 60.0, 39.0, 53.0, 20.0, 25.0, 50.0, 28.0, 37.0, 30.0, 32.0, 34.0, 42.0, 22.0, 37.0, 39.0, 18.0, 54.0, 42.0, 27.0, 22.0, 22.0, 21.0, 28.0, 17.0, 28.0, 21.0, 31.0, 20.0, 21.0, 22.0, 21.0, 24.0, 24.0, 25.0, 17.0, 21.0, 23.0, 21.0, 22.0, 24.0, 34.0, 30.0, 29.0, 20.0, 23.0, 26.0, 20.0, 41.0, 24.0, 35.0, 23.0, 36.0, 33.0, 24.0, 25.0, 25.0, 25.0, 24.0, 27.0, 26.0, 26.0, 23.0, 30.0, 25.0, 23.0, 34.0, 20.0, 22.0, 33.0, 46.0, 17.0, 45.0, 26.0, 30.0, 32.0, 38.0, 26.0, 29.0, 33.0, 32.0, 44.0, 47.0, 32.0, 40.0, 40.0, 44.0, 56.0, 23.0, 32.0, 27.0, 28.0, 40.0, 45.0, 19.0, 55.0, 27.0, 19.0, 29.0, 33.0, 48.0, 37.0, 30.0, 37.0, 28.0, 20.0, 25.0, 58.0, 36.0, 36.0, 19.0, 19.0, 22.0, 20.0, 24.0, 19.0, 21.0, 20.0, 18.0, 23.0, 22.0, 18.0, 37.0, 18.0, 18.0, 18.0, 18.0, 18.0, 18.0, 19.0, 55.0, 32.0, 50.0, 40.0, 47.0, 20.0, 22.0, 21.0, 21.0, 19.0, 21.0, 21.0, 23.0, 21.0, 21.0, 23.0, 20.0, 21.0, 20.0, 19.0, 21.0, 26.0, 21.0, 19.0, 22.0, 19.0, 22.0, 20.0, 23.0, 19.0, 20.0, 24.0, 19.0, 20.0, 23.0, 20.0, 20.0, 20.0, 20.0, 21.0, 19.0, 20.0, 20.0, 25.0, 20.0, 22.0, 20.0, 20.0, 20.0, 23.0, 21.0, 22.0, 21.0, 20.0, 22.0, 21.0, 20.0, 20.0, 21.0, 21.0, 23.0, 21.0, 22.0, 19.0, 20.0, 21.0, 26.0, 19.0, 20.0, 26.0, 23.0, 28.0, 19.0, 20.0, 19.0, 24.0, 19.0, 22.0, 20.0, 21.0, 24.0, 18.0, 19.0, 19.0, 31.0, 19.0, 21.0, 20.0, 26.0, 27.0, 23.0, 29.0, 23.0, 23.0, 24.0, 21.0, 20.0, 20.0, 32.0, 61.0, 19.0, 35.0, 34.0, 23.0, 19.0, 36.0, 21.0, 23.0, 17.0, 22.0, 33.0, 23.0, 35.0, 21.0, 20.0, 29.0, 59.0, 18.0, 19.0, 24.0, 36.0, 19.0, 17.0, 52.0, 18.0, 30.0, 18.0, 27.0, 52.0, 45.0, 25.0, 29.0, 29.0, 18.0, 18.0, 17.0, 27.0, 22.0, 23.0, 25.0, 23.0, 29.0, 27.0, 27.0, 43.0, 26.0, 30.0, 23.0, 29.0, 37.0, 28.0, 25.0, 25.0, 21.0, 43.0, 30.0, 18.0, 18.0, 30.0, 31.0, 33.0, 33.0, 26.0, 61.0, 46.0, 33.0, 38.0, 44.0, 48.0, 42.0, 37.0, 23.0, 24.0, 41.0, 41.0, 27.0, 46.0, 40.0, 22.0, 42.0, 18.0, 44.0, 30.0, 42.0, 35.0, 40.0, 50.0, 38.0, 26.0, 27.0, 47.0, 21.0, 37.0, 19.0, 32.0, 26.0, 46.0, 29.0, 30.0, 32.0, 35.0, 22.0, 19.0, 24.0, 52.0, 52.0, 32.0, 24.0, 24.0, 49.0, 30.0, 30.0, 35.0, 35.0, 37.0, 43.0, 52.0, 44.0, 46.0, 42.0, 20.0, 18.0, 38.0, 24.0, 32.0, 29.0, 22.0, 19.0, 39.0, 17.0, 19.0, 18.0, 19.0, 28.0, 29.0, 48.0, 27.0, 34.0, 31.0, 47.0, 47.0, 44.0, 25.0, 25.0, 20.0, 43.0, 36.0, 30.0, 44.0, 40.0, 40.0, 40.0, 30.0, 47.0, 21.0, 21.0, 31.0, 21.0, 29.0, 22.0, 51.0, 23.0, 30.0, 22.0, 22.0, 24.0, 26.0, 33.0, 23.0, 42.0, 26.0, 29.0, 35.0, 25.0, 25.0, 28.0, 33.0, 25.0, 25.0, 24.0, 27.0, 22.0, 21.0, 27.0, 23.0, 22.0, 23.0, 30.0, 33.0, 24.0, 22.0, 22.0, 29.0, 22.0, 21.0, 23.0, 23.0, 23.0, 32.0, 27.0, 28.0, 25.0, 22.0, 36.0, 27.0, 21.0, 18.0, 49.0, 18.0, 29.0, 31.0, 37.0, 17.0, 17.0, 38.0, 18.0, 31.0, 33.0, 32.0, 30.0, 33.0, 30.0, 30.0, 38.0, 22.0, 36.0, 43.0, 44.0, 20.0, 40.0, 25.0, 28.0, 17.0, 34.0, 56.0, 50.0, 38.0, 47.0, 30.0, 21.0, 21.0, 31.0, 27.0, 24.0, 35.0, 18.0, 43.0, 44.0, 40.0, 49.0, 24.0, 30.0, 53.0, 38.0, 28.0, 28.0, 26.0, 39.0, 31.0, 24.0, 28.0, 31.0, 27.0, 28.0, 31.0, 46.0, 27.0, 25.0, 34.0, 24.0, 35.0, 26.0, 15.0, 15.0, 12.0, 14.0, 16.0, 13.0, 16.0, 15.0, 12.0, 12.0, 13.0, 13.0, 12.0, 12.0, 12.0, 15.0, 12.0, 12.0, 13.0, 12.0, 12.0, 14.0, 15.0, 13.0, 14.0, 12.0, 12.0, 14.0, 13.0, 16.0, 14.0, 13.0, 16.0, 12.0, 14.0, 16.0, 15.0, 14.0, 12.0, 12.0, 15.0, 13.0, 16.0, 16.0, 15.0, 16.0, 16.0, 12.0, 12.0, 14.0, 13.0, 13.0, 16.0, 13.0, 15.0, 15.0, 15.0, 16.0, 16.0, 16.0, 12.0, 16.0, 16.0, 16.0, 14.0, 15.0, 15.0, 16.0, 13.0, 14.0, 13.0, 16.0, 12.0, 12.0, 16.0, 16.0, 14.0, 12.0, 14.0, 16.0, 13.0, 16.0, 16.0, 15.0, 14.0, 16.0, 16.0, 16.0, 14.0, 13.0, 16.0, 15.0, 12.0, 16.0, 15.0, 15.0, 16.0, 15.0, 12.0, 16.0, 16.0, 12.0, 13.0, 12.0, 6.0, 6.0, 6.0, 5.0, 5.0, 4.0, 5.0, 5.0, 11.0, 11.0, 10.0, 5.0, 4.0, 4.0, 6.0, 8.0, 4.0, 7.0, 11.0, 5.0, 5.0, 9.0, 4.0, 6.0, 11.0, 6.0, 6.0, 5.0, 6.0, 4.0, 11.0, 6.0, null, 5.0, 6.0, 7.0, 4.0, 7.0, 4.0, 4.0, 5.0, 4.0, 6.0, 4.0, 10.0, 4.0, 4.0, 6.0, 6.0, 7.0, 7.0, 4.0, 6.0, 7.0, 5.0, 5.0, 6.0, 4.0, 9.0, 4.0, 4.0, 9.0, 4.0, 9.0, 8.0, null, 4.0, 4.0, 4.0, 4.0, 7.0, 7.0, 6.0, 5.0, 8.0, 5.0, 11.0, 8.0, 4.0, 7.0, 4.0, 7.0, 8.0, 5.0, 4.0, 11.0, 11.0, 4.0, 5.0, 6.0, 4.0, 11.0, 5.0, 5.0, 6.0, 7.0, 11.0, 4.0, 4.0, 7.0, 11.0, 6.0, 9.0, 10.0, 4.0, 4.0, 10.0, 4.0, 11.0, 7.0, 5.0, 4.0, 8.0, 4.0, 4.0, 11.0, 10.0, 6.0, 4.0, 4.0, 4.0, 10.0, 7.0, 4.0, 6.0, 5.0, null, 4.0, 9.0, 4.0, 10.0, 9.0, 5.0, 4.0, 4.0, 6.0, 4.0, 5.0, null, 9.0, 7.0, 10.0, 4.0, 4.0, 7.0, 4.0, 4.0, 10.0, 4.0, 4.0, 4.0, 4.0, 7.0, 4.0, 5.0, 6.0, 6.0, 6.0, 9.0, 8.0, 11.0, 9.0, 9.0, 7.0, 4.0, 10.0, 8.0, 6.0, 8.0, 11.0, 5.0, 4.0, 11.0, 11.0, 4.0, 8.0, 8.0, 9.0, 4.0, 4.0, 4.0, 4.0, 11.0, 10.0, 11.0, 4.0, 4.0, 6.0, 8.0, 4.0, 4.0, 8.0, 11.0, 4.0, 5.0, 4.0, 8.0, 4.0, 4.0, 9.0, 9.0, 4.0, 5.0, 7.0, 4.0, 5.0, 6.0, 8.0, 4.0, 5.0, 5.0, 6.0, 4.0, 8.0, 5.0, 4.0, 6.0, 11.0, 6.0, 4.0, 8.0, 4.0, 4.0, 6.0, 8.0, 9.0, 8.0, 5.0, 5.0, 4.0, 10.0, 4.0, 4.0, 5.0, 4.0, 5.0, 7.0, 11.0, 11.0, 11.0, 9.0, 6.0, 6.0, 9.0, 7.0, 5.0, 5.0, 10.0, 7.0, 9.0, 7.0, 7.0, 7.0, 9.0, 5.0, 4.0, 5.0, 4.0, 5.0, 5.0, 4.0, 6.0, 6.0, 5.0, 11.0, 10.0, 4.0, 5.0, 10.0, 9.0, 4.0, 4.0, 5.0, 8.0, 8.0, 6.0, 11.0, 10.0, 6.0, 6.0, 4.0, 4.0, 4.0, 5.0, 10.0, 10.0, 5.0, 7.0, 7.0, 4.0, 4.0, 4.0], \"y0\": \" \", \"yaxis\": \"y\"}],                        {\"boxmode\": \"group\", \"legend\": {\"tracegroupgap\": 0}, \"margin\": {\"t\": 60}, \"template\": {\"data\": {\"bar\": [{\"error_x\": {\"color\": \"#2a3f5f\"}, \"error_y\": {\"color\": \"#2a3f5f\"}, \"marker\": {\"line\": {\"color\": \"#E5ECF6\", \"width\": 0.5}}, \"type\": \"bar\"}], \"barpolar\": [{\"marker\": {\"line\": {\"color\": \"#E5ECF6\", \"width\": 0.5}}, \"type\": \"barpolar\"}], \"carpet\": [{\"aaxis\": {\"endlinecolor\": \"#2a3f5f\", \"gridcolor\": \"white\", \"linecolor\": \"white\", \"minorgridcolor\": \"white\", \"startlinecolor\": \"#2a3f5f\"}, \"baxis\": {\"endlinecolor\": \"#2a3f5f\", \"gridcolor\": \"white\", \"linecolor\": \"white\", \"minorgridcolor\": \"white\", \"startlinecolor\": \"#2a3f5f\"}, \"type\": \"carpet\"}], \"choropleth\": [{\"colorbar\": {\"outlinewidth\": 0, \"ticks\": \"\"}, \"type\": \"choropleth\"}], \"contour\": [{\"colorbar\": {\"outlinewidth\": 0, \"ticks\": \"\"}, \"colorscale\": [[0.0, \"#0d0887\"], [0.1111111111111111, \"#46039f\"], [0.2222222222222222, \"#7201a8\"], [0.3333333333333333, \"#9c179e\"], [0.4444444444444444, \"#bd3786\"], [0.5555555555555556, \"#d8576b\"], [0.6666666666666666, \"#ed7953\"], [0.7777777777777778, \"#fb9f3a\"], [0.8888888888888888, \"#fdca26\"], [1.0, \"#f0f921\"]], \"type\": \"contour\"}], \"contourcarpet\": [{\"colorbar\": {\"outlinewidth\": 0, \"ticks\": \"\"}, \"type\": \"contourcarpet\"}], \"heatmap\": [{\"colorbar\": {\"outlinewidth\": 0, \"ticks\": \"\"}, \"colorscale\": [[0.0, \"#0d0887\"], [0.1111111111111111, \"#46039f\"], [0.2222222222222222, \"#7201a8\"], [0.3333333333333333, \"#9c179e\"], [0.4444444444444444, \"#bd3786\"], [0.5555555555555556, \"#d8576b\"], [0.6666666666666666, \"#ed7953\"], [0.7777777777777778, \"#fb9f3a\"], [0.8888888888888888, \"#fdca26\"], [1.0, \"#f0f921\"]], \"type\": \"heatmap\"}], \"heatmapgl\": [{\"colorbar\": {\"outlinewidth\": 0, \"ticks\": \"\"}, \"colorscale\": [[0.0, \"#0d0887\"], [0.1111111111111111, \"#46039f\"], [0.2222222222222222, \"#7201a8\"], [0.3333333333333333, \"#9c179e\"], [0.4444444444444444, \"#bd3786\"], [0.5555555555555556, \"#d8576b\"], [0.6666666666666666, \"#ed7953\"], [0.7777777777777778, \"#fb9f3a\"], [0.8888888888888888, \"#fdca26\"], [1.0, \"#f0f921\"]], \"type\": \"heatmapgl\"}], \"histogram\": [{\"marker\": {\"colorbar\": {\"outlinewidth\": 0, \"ticks\": \"\"}}, \"type\": \"histogram\"}], \"histogram2d\": [{\"colorbar\": {\"outlinewidth\": 0, \"ticks\": \"\"}, \"colorscale\": [[0.0, \"#0d0887\"], [0.1111111111111111, \"#46039f\"], [0.2222222222222222, \"#7201a8\"], [0.3333333333333333, \"#9c179e\"], [0.4444444444444444, \"#bd3786\"], [0.5555555555555556, \"#d8576b\"], [0.6666666666666666, \"#ed7953\"], [0.7777777777777778, \"#fb9f3a\"], [0.8888888888888888, \"#fdca26\"], [1.0, \"#f0f921\"]], \"type\": \"histogram2d\"}], \"histogram2dcontour\": [{\"colorbar\": {\"outlinewidth\": 0, \"ticks\": \"\"}, \"colorscale\": [[0.0, \"#0d0887\"], [0.1111111111111111, \"#46039f\"], [0.2222222222222222, \"#7201a8\"], [0.3333333333333333, \"#9c179e\"], [0.4444444444444444, \"#bd3786\"], [0.5555555555555556, \"#d8576b\"], [0.6666666666666666, \"#ed7953\"], [0.7777777777777778, \"#fb9f3a\"], [0.8888888888888888, \"#fdca26\"], [1.0, \"#f0f921\"]], \"type\": \"histogram2dcontour\"}], \"mesh3d\": [{\"colorbar\": {\"outlinewidth\": 0, \"ticks\": \"\"}, \"type\": \"mesh3d\"}], \"parcoords\": [{\"line\": {\"colorbar\": {\"outlinewidth\": 0, \"ticks\": \"\"}}, \"type\": \"parcoords\"}], \"pie\": [{\"automargin\": true, \"type\": \"pie\"}], \"scatter\": [{\"marker\": {\"colorbar\": {\"outlinewidth\": 0, \"ticks\": \"\"}}, \"type\": \"scatter\"}], \"scatter3d\": [{\"line\": {\"colorbar\": {\"outlinewidth\": 0, \"ticks\": \"\"}}, \"marker\": {\"colorbar\": {\"outlinewidth\": 0, \"ticks\": \"\"}}, \"type\": \"scatter3d\"}], \"scattercarpet\": [{\"marker\": {\"colorbar\": {\"outlinewidth\": 0, \"ticks\": \"\"}}, \"type\": \"scattercarpet\"}], \"scattergeo\": [{\"marker\": {\"colorbar\": {\"outlinewidth\": 0, \"ticks\": \"\"}}, \"type\": \"scattergeo\"}], \"scattergl\": [{\"marker\": {\"colorbar\": {\"outlinewidth\": 0, \"ticks\": \"\"}}, \"type\": \"scattergl\"}], \"scattermapbox\": [{\"marker\": {\"colorbar\": {\"outlinewidth\": 0, \"ticks\": \"\"}}, \"type\": \"scattermapbox\"}], \"scatterpolar\": [{\"marker\": {\"colorbar\": {\"outlinewidth\": 0, \"ticks\": \"\"}}, \"type\": \"scatterpolar\"}], \"scatterpolargl\": [{\"marker\": {\"colorbar\": {\"outlinewidth\": 0, \"ticks\": \"\"}}, \"type\": \"scatterpolargl\"}], \"scatterternary\": [{\"marker\": {\"colorbar\": {\"outlinewidth\": 0, \"ticks\": \"\"}}, \"type\": \"scatterternary\"}], \"surface\": [{\"colorbar\": {\"outlinewidth\": 0, \"ticks\": \"\"}, \"colorscale\": [[0.0, \"#0d0887\"], [0.1111111111111111, \"#46039f\"], [0.2222222222222222, \"#7201a8\"], [0.3333333333333333, \"#9c179e\"], [0.4444444444444444, \"#bd3786\"], [0.5555555555555556, \"#d8576b\"], [0.6666666666666666, \"#ed7953\"], [0.7777777777777778, \"#fb9f3a\"], [0.8888888888888888, \"#fdca26\"], [1.0, \"#f0f921\"]], \"type\": \"surface\"}], \"table\": [{\"cells\": {\"fill\": {\"color\": \"#EBF0F8\"}, \"line\": {\"color\": \"white\"}}, \"header\": {\"fill\": {\"color\": \"#C8D4E3\"}, \"line\": {\"color\": \"white\"}}, \"type\": \"table\"}]}, \"layout\": {\"annotationdefaults\": {\"arrowcolor\": \"#2a3f5f\", \"arrowhead\": 0, \"arrowwidth\": 1}, \"autotypenumbers\": \"strict\", \"coloraxis\": {\"colorbar\": {\"outlinewidth\": 0, \"ticks\": \"\"}}, \"colorscale\": {\"diverging\": [[0, \"#8e0152\"], [0.1, \"#c51b7d\"], [0.2, \"#de77ae\"], [0.3, \"#f1b6da\"], [0.4, \"#fde0ef\"], [0.5, \"#f7f7f7\"], [0.6, \"#e6f5d0\"], [0.7, \"#b8e186\"], [0.8, \"#7fbc41\"], [0.9, \"#4d9221\"], [1, \"#276419\"]], \"sequential\": [[0.0, \"#0d0887\"], [0.1111111111111111, \"#46039f\"], [0.2222222222222222, \"#7201a8\"], [0.3333333333333333, \"#9c179e\"], [0.4444444444444444, \"#bd3786\"], [0.5555555555555556, \"#d8576b\"], [0.6666666666666666, \"#ed7953\"], [0.7777777777777778, \"#fb9f3a\"], [0.8888888888888888, \"#fdca26\"], [1.0, \"#f0f921\"]], \"sequentialminus\": [[0.0, \"#0d0887\"], [0.1111111111111111, \"#46039f\"], [0.2222222222222222, \"#7201a8\"], [0.3333333333333333, \"#9c179e\"], [0.4444444444444444, \"#bd3786\"], [0.5555555555555556, \"#d8576b\"], [0.6666666666666666, \"#ed7953\"], [0.7777777777777778, \"#fb9f3a\"], [0.8888888888888888, \"#fdca26\"], [1.0, \"#f0f921\"]]}, \"colorway\": [\"#636efa\", \"#EF553B\", \"#00cc96\", \"#ab63fa\", \"#FFA15A\", \"#19d3f3\", \"#FF6692\", \"#B6E880\", \"#FF97FF\", \"#FECB52\"], \"font\": {\"color\": \"#2a3f5f\"}, \"geo\": {\"bgcolor\": \"white\", \"lakecolor\": \"white\", \"landcolor\": \"#E5ECF6\", \"showlakes\": true, \"showland\": true, \"subunitcolor\": \"white\"}, \"hoverlabel\": {\"align\": \"left\"}, \"hovermode\": \"closest\", \"mapbox\": {\"style\": \"light\"}, \"paper_bgcolor\": \"white\", \"plot_bgcolor\": \"#E5ECF6\", \"polar\": {\"angularaxis\": {\"gridcolor\": \"white\", \"linecolor\": \"white\", \"ticks\": \"\"}, \"bgcolor\": \"#E5ECF6\", \"radialaxis\": {\"gridcolor\": \"white\", \"linecolor\": \"white\", \"ticks\": \"\"}}, \"scene\": {\"xaxis\": {\"backgroundcolor\": \"#E5ECF6\", \"gridcolor\": \"white\", \"gridwidth\": 2, \"linecolor\": \"white\", \"showbackground\": true, \"ticks\": \"\", \"zerolinecolor\": \"white\"}, \"yaxis\": {\"backgroundcolor\": \"#E5ECF6\", \"gridcolor\": \"white\", \"gridwidth\": 2, \"linecolor\": \"white\", \"showbackground\": true, \"ticks\": \"\", \"zerolinecolor\": \"white\"}, \"zaxis\": {\"backgroundcolor\": \"#E5ECF6\", \"gridcolor\": \"white\", \"gridwidth\": 2, \"linecolor\": \"white\", \"showbackground\": true, \"ticks\": \"\", \"zerolinecolor\": \"white\"}}, \"shapedefaults\": {\"line\": {\"color\": \"#2a3f5f\"}}, \"ternary\": {\"aaxis\": {\"gridcolor\": \"white\", \"linecolor\": \"white\", \"ticks\": \"\"}, \"baxis\": {\"gridcolor\": \"white\", \"linecolor\": \"white\", \"ticks\": \"\"}, \"bgcolor\": \"#E5ECF6\", \"caxis\": {\"gridcolor\": \"white\", \"linecolor\": \"white\", \"ticks\": \"\"}}, \"title\": {\"x\": 0.05}, \"xaxis\": {\"automargin\": true, \"gridcolor\": \"white\", \"linecolor\": \"white\", \"ticks\": \"\", \"title\": {\"standoff\": 15}, \"zerolinecolor\": \"white\", \"zerolinewidth\": 2}, \"yaxis\": {\"automargin\": true, \"gridcolor\": \"white\", \"linecolor\": \"white\", \"ticks\": \"\", \"title\": {\"standoff\": 15}, \"zerolinecolor\": \"white\", \"zerolinewidth\": 2}}}, \"xaxis\": {\"anchor\": \"y\", \"domain\": [0.0, 1.0]}, \"yaxis\": {\"anchor\": \"x\", \"domain\": [0.0, 1.0], \"title\": {\"text\": \"age_num\"}}},                        {\"responsive\": true}                    ).then(function(){\n",
       "                            \n",
       "var gd = document.getElementById('e890eea6-9331-4ed9-b842-536d63419072');\n",
       "var x = new MutationObserver(function (mutations, observer) {{\n",
       "        var display = window.getComputedStyle(gd).display;\n",
       "        if (!display || display === 'none') {{\n",
       "            console.log([gd, 'removed!']);\n",
       "            Plotly.purge(gd);\n",
       "            observer.disconnect();\n",
       "        }}\n",
       "}});\n",
       "\n",
       "// Listen for the removal of the full notebook cells\n",
       "var notebookContainer = gd.closest('#notebook-container');\n",
       "if (notebookContainer) {{\n",
       "    x.observe(notebookContainer, {childList: true});\n",
       "}}\n",
       "\n",
       "// Listen for the clearing of the current output cell\n",
       "var outputEl = gd.closest('.output');\n",
       "if (outputEl) {{\n",
       "    x.observe(outputEl, {childList: true});\n",
       "}}\n",
       "\n",
       "                        })                };                });            </script>        </div>"
      ]
     },
     "metadata": {},
     "output_type": "display_data"
    }
   ],
   "source": [
    "#tengo un error en age_number, no tiene sentido un max de 383 años. Hago un boxplot para localizar el error  \n",
    "#en esta variable. \n",
    "\n",
    "fig = px.box(raw_data, y=\"age_num\")\n",
    "fig.show()\n",
    "#parece que sólo tengo un error. Sustituyo ese valor por la media de su rango.\n"
   ]
  },
  {
   "cell_type": "code",
   "execution_count": 177,
   "metadata": {},
   "outputs": [
    {
     "data": {
      "text/plain": [
       "age_desc\n",
       "'12-15 years'    15.000000\n",
       "'12-16 years'    14.072165\n",
       "'18 and more'    29.698006\n",
       "'4-11 years'      6.354167\n",
       "Name: age_num, dtype: float64"
      ]
     },
     "execution_count": 177,
     "metadata": {},
     "output_type": "execute_result"
    }
   ],
   "source": [
    "raw_data.groupby(\"age_desc\")[\"age_num\"].mean()"
   ]
  },
  {
   "cell_type": "code",
   "execution_count": 192,
   "metadata": {},
   "outputs": [],
   "source": [
    "#Sustituimos el error por la media de edad en su rango, que es \"18 and more\"\n",
    "raw_data[\"age_num\"].groupby\n",
    "\n",
    "raw_data[\"age_num\"].isin([383])\n",
    "\n",
    "raw_data[\"age_num\"] = raw_data[\"age_num\"].replace(383.0,30)"
   ]
  },
  {
   "cell_type": "code",
   "execution_count": 193,
   "metadata": {},
   "outputs": [
    {
     "data": {
      "text/html": [
       "<div>\n",
       "<style scoped>\n",
       "    .dataframe tbody tr th:only-of-type {\n",
       "        vertical-align: middle;\n",
       "    }\n",
       "\n",
       "    .dataframe tbody tr th {\n",
       "        vertical-align: top;\n",
       "    }\n",
       "\n",
       "    .dataframe thead th {\n",
       "        text-align: right;\n",
       "    }\n",
       "</style>\n",
       "<table border=\"1\" class=\"dataframe\">\n",
       "  <thead>\n",
       "    <tr style=\"text-align: right;\">\n",
       "      <th></th>\n",
       "      <th>A1_score</th>\n",
       "      <th>A2_score</th>\n",
       "      <th>A3_score</th>\n",
       "      <th>A4_score</th>\n",
       "      <th>A5_score</th>\n",
       "      <th>A6_score</th>\n",
       "      <th>A7_score</th>\n",
       "      <th>A8_score</th>\n",
       "      <th>A9_score</th>\n",
       "      <th>A10_score</th>\n",
       "      <th>screening_score</th>\n",
       "      <th>age_num</th>\n",
       "    </tr>\n",
       "  </thead>\n",
       "  <tbody>\n",
       "    <tr>\n",
       "      <th>count</th>\n",
       "      <td>1100.000000</td>\n",
       "      <td>1100.000000</td>\n",
       "      <td>1100.000000</td>\n",
       "      <td>1100.000000</td>\n",
       "      <td>1100.000000</td>\n",
       "      <td>1100.000000</td>\n",
       "      <td>1100.000000</td>\n",
       "      <td>1100.000000</td>\n",
       "      <td>1100.000000</td>\n",
       "      <td>1100.000000</td>\n",
       "      <td>1100.000000</td>\n",
       "      <td>1094.000000</td>\n",
       "    </tr>\n",
       "    <tr>\n",
       "      <th>mean</th>\n",
       "      <td>0.699091</td>\n",
       "      <td>0.482727</td>\n",
       "      <td>0.551818</td>\n",
       "      <td>0.530000</td>\n",
       "      <td>0.587273</td>\n",
       "      <td>0.443636</td>\n",
       "      <td>0.477273</td>\n",
       "      <td>0.605455</td>\n",
       "      <td>0.412727</td>\n",
       "      <td>0.621818</td>\n",
       "      <td>5.411818</td>\n",
       "      <td>21.750457</td>\n",
       "    </tr>\n",
       "    <tr>\n",
       "      <th>std</th>\n",
       "      <td>0.458862</td>\n",
       "      <td>0.499929</td>\n",
       "      <td>0.497534</td>\n",
       "      <td>0.499326</td>\n",
       "      <td>0.492548</td>\n",
       "      <td>0.497039</td>\n",
       "      <td>0.499710</td>\n",
       "      <td>0.488975</td>\n",
       "      <td>0.492548</td>\n",
       "      <td>0.485154</td>\n",
       "      <td>2.523492</td>\n",
       "      <td>12.871768</td>\n",
       "    </tr>\n",
       "    <tr>\n",
       "      <th>min</th>\n",
       "      <td>0.000000</td>\n",
       "      <td>0.000000</td>\n",
       "      <td>0.000000</td>\n",
       "      <td>0.000000</td>\n",
       "      <td>0.000000</td>\n",
       "      <td>0.000000</td>\n",
       "      <td>0.000000</td>\n",
       "      <td>0.000000</td>\n",
       "      <td>0.000000</td>\n",
       "      <td>0.000000</td>\n",
       "      <td>0.000000</td>\n",
       "      <td>4.000000</td>\n",
       "    </tr>\n",
       "    <tr>\n",
       "      <th>25%</th>\n",
       "      <td>0.000000</td>\n",
       "      <td>0.000000</td>\n",
       "      <td>0.000000</td>\n",
       "      <td>0.000000</td>\n",
       "      <td>0.000000</td>\n",
       "      <td>0.000000</td>\n",
       "      <td>0.000000</td>\n",
       "      <td>0.000000</td>\n",
       "      <td>0.000000</td>\n",
       "      <td>0.000000</td>\n",
       "      <td>3.000000</td>\n",
       "      <td>11.000000</td>\n",
       "    </tr>\n",
       "    <tr>\n",
       "      <th>50%</th>\n",
       "      <td>1.000000</td>\n",
       "      <td>0.000000</td>\n",
       "      <td>1.000000</td>\n",
       "      <td>1.000000</td>\n",
       "      <td>1.000000</td>\n",
       "      <td>0.000000</td>\n",
       "      <td>0.000000</td>\n",
       "      <td>1.000000</td>\n",
       "      <td>0.000000</td>\n",
       "      <td>1.000000</td>\n",
       "      <td>5.000000</td>\n",
       "      <td>21.000000</td>\n",
       "    </tr>\n",
       "    <tr>\n",
       "      <th>75%</th>\n",
       "      <td>1.000000</td>\n",
       "      <td>1.000000</td>\n",
       "      <td>1.000000</td>\n",
       "      <td>1.000000</td>\n",
       "      <td>1.000000</td>\n",
       "      <td>1.000000</td>\n",
       "      <td>1.000000</td>\n",
       "      <td>1.000000</td>\n",
       "      <td>1.000000</td>\n",
       "      <td>1.000000</td>\n",
       "      <td>7.250000</td>\n",
       "      <td>30.000000</td>\n",
       "    </tr>\n",
       "    <tr>\n",
       "      <th>max</th>\n",
       "      <td>1.000000</td>\n",
       "      <td>1.000000</td>\n",
       "      <td>1.000000</td>\n",
       "      <td>1.000000</td>\n",
       "      <td>1.000000</td>\n",
       "      <td>1.000000</td>\n",
       "      <td>1.000000</td>\n",
       "      <td>1.000000</td>\n",
       "      <td>1.000000</td>\n",
       "      <td>1.000000</td>\n",
       "      <td>10.000000</td>\n",
       "      <td>64.000000</td>\n",
       "    </tr>\n",
       "  </tbody>\n",
       "</table>\n",
       "</div>"
      ],
      "text/plain": [
       "          A1_score     A2_score     A3_score     A4_score     A5_score  \\\n",
       "count  1100.000000  1100.000000  1100.000000  1100.000000  1100.000000   \n",
       "mean      0.699091     0.482727     0.551818     0.530000     0.587273   \n",
       "std       0.458862     0.499929     0.497534     0.499326     0.492548   \n",
       "min       0.000000     0.000000     0.000000     0.000000     0.000000   \n",
       "25%       0.000000     0.000000     0.000000     0.000000     0.000000   \n",
       "50%       1.000000     0.000000     1.000000     1.000000     1.000000   \n",
       "75%       1.000000     1.000000     1.000000     1.000000     1.000000   \n",
       "max       1.000000     1.000000     1.000000     1.000000     1.000000   \n",
       "\n",
       "          A6_score     A7_score     A8_score     A9_score    A10_score  \\\n",
       "count  1100.000000  1100.000000  1100.000000  1100.000000  1100.000000   \n",
       "mean      0.443636     0.477273     0.605455     0.412727     0.621818   \n",
       "std       0.497039     0.499710     0.488975     0.492548     0.485154   \n",
       "min       0.000000     0.000000     0.000000     0.000000     0.000000   \n",
       "25%       0.000000     0.000000     0.000000     0.000000     0.000000   \n",
       "50%       0.000000     0.000000     1.000000     0.000000     1.000000   \n",
       "75%       1.000000     1.000000     1.000000     1.000000     1.000000   \n",
       "max       1.000000     1.000000     1.000000     1.000000     1.000000   \n",
       "\n",
       "       screening_score      age_num  \n",
       "count      1100.000000  1094.000000  \n",
       "mean          5.411818    21.750457  \n",
       "std           2.523492    12.871768  \n",
       "min           0.000000     4.000000  \n",
       "25%           3.000000    11.000000  \n",
       "50%           5.000000    21.000000  \n",
       "75%           7.250000    30.000000  \n",
       "max          10.000000    64.000000  "
      ]
     },
     "execution_count": 193,
     "metadata": {},
     "output_type": "execute_result"
    }
   ],
   "source": [
    "raw_data.describe()"
   ]
  },
  {
   "cell_type": "code",
   "execution_count": 194,
   "metadata": {},
   "outputs": [
    {
     "data": {
      "text/html": [
       "<div>\n",
       "<style scoped>\n",
       "    .dataframe tbody tr th:only-of-type {\n",
       "        vertical-align: middle;\n",
       "    }\n",
       "\n",
       "    .dataframe tbody tr th {\n",
       "        vertical-align: top;\n",
       "    }\n",
       "\n",
       "    .dataframe thead th {\n",
       "        text-align: right;\n",
       "    }\n",
       "</style>\n",
       "<table border=\"1\" class=\"dataframe\">\n",
       "  <thead>\n",
       "    <tr style=\"text-align: right;\">\n",
       "      <th>COL_N</th>\n",
       "      <th>A1_score</th>\n",
       "      <th>A2_score</th>\n",
       "      <th>A3_score</th>\n",
       "      <th>A4_score</th>\n",
       "      <th>A5_score</th>\n",
       "      <th>A6_score</th>\n",
       "      <th>A7_score</th>\n",
       "      <th>A8_score</th>\n",
       "      <th>A9_score</th>\n",
       "      <th>A10_score</th>\n",
       "      <th>...</th>\n",
       "      <th>sex</th>\n",
       "      <th>ethnicity</th>\n",
       "      <th>jaundice</th>\n",
       "      <th>fam_history_PDD</th>\n",
       "      <th>country_of_res</th>\n",
       "      <th>used_app_before</th>\n",
       "      <th>age_num</th>\n",
       "      <th>age_desc</th>\n",
       "      <th>relation</th>\n",
       "      <th>class</th>\n",
       "    </tr>\n",
       "  </thead>\n",
       "  <tbody>\n",
       "    <tr>\n",
       "      <th>DATA_TYPE</th>\n",
       "      <td>int64</td>\n",
       "      <td>int64</td>\n",
       "      <td>int64</td>\n",
       "      <td>int64</td>\n",
       "      <td>int64</td>\n",
       "      <td>int64</td>\n",
       "      <td>int64</td>\n",
       "      <td>int64</td>\n",
       "      <td>int64</td>\n",
       "      <td>int64</td>\n",
       "      <td>...</td>\n",
       "      <td>object</td>\n",
       "      <td>object</td>\n",
       "      <td>object</td>\n",
       "      <td>object</td>\n",
       "      <td>object</td>\n",
       "      <td>object</td>\n",
       "      <td>float64</td>\n",
       "      <td>object</td>\n",
       "      <td>object</td>\n",
       "      <td>object</td>\n",
       "    </tr>\n",
       "    <tr>\n",
       "      <th>MISSINGS (%)</th>\n",
       "      <td>0</td>\n",
       "      <td>0</td>\n",
       "      <td>0</td>\n",
       "      <td>0</td>\n",
       "      <td>0</td>\n",
       "      <td>0</td>\n",
       "      <td>0</td>\n",
       "      <td>0</td>\n",
       "      <td>0</td>\n",
       "      <td>0</td>\n",
       "      <td>...</td>\n",
       "      <td>0</td>\n",
       "      <td>13.09</td>\n",
       "      <td>0</td>\n",
       "      <td>0</td>\n",
       "      <td>0</td>\n",
       "      <td>0</td>\n",
       "      <td>0.55</td>\n",
       "      <td>0</td>\n",
       "      <td>13.09</td>\n",
       "      <td>0</td>\n",
       "    </tr>\n",
       "    <tr>\n",
       "      <th>UNIQUE_VALUES</th>\n",
       "      <td>2</td>\n",
       "      <td>2</td>\n",
       "      <td>2</td>\n",
       "      <td>2</td>\n",
       "      <td>2</td>\n",
       "      <td>2</td>\n",
       "      <td>2</td>\n",
       "      <td>2</td>\n",
       "      <td>2</td>\n",
       "      <td>2</td>\n",
       "      <td>...</td>\n",
       "      <td>2</td>\n",
       "      <td>11</td>\n",
       "      <td>2</td>\n",
       "      <td>2</td>\n",
       "      <td>89</td>\n",
       "      <td>2</td>\n",
       "      <td>58</td>\n",
       "      <td>4</td>\n",
       "      <td>6</td>\n",
       "      <td>2</td>\n",
       "    </tr>\n",
       "    <tr>\n",
       "      <th>CARDIN (%)</th>\n",
       "      <td>0.18</td>\n",
       "      <td>0.18</td>\n",
       "      <td>0.18</td>\n",
       "      <td>0.18</td>\n",
       "      <td>0.18</td>\n",
       "      <td>0.18</td>\n",
       "      <td>0.18</td>\n",
       "      <td>0.18</td>\n",
       "      <td>0.18</td>\n",
       "      <td>0.18</td>\n",
       "      <td>...</td>\n",
       "      <td>0.18</td>\n",
       "      <td>1</td>\n",
       "      <td>0.18</td>\n",
       "      <td>0.18</td>\n",
       "      <td>8.09</td>\n",
       "      <td>0.18</td>\n",
       "      <td>5.27</td>\n",
       "      <td>0.36</td>\n",
       "      <td>0.55</td>\n",
       "      <td>0.18</td>\n",
       "    </tr>\n",
       "  </tbody>\n",
       "</table>\n",
       "<p>4 rows × 21 columns</p>\n",
       "</div>"
      ],
      "text/plain": [
       "COL_N         A1_score A2_score A3_score A4_score A5_score A6_score A7_score  \\\n",
       "DATA_TYPE        int64    int64    int64    int64    int64    int64    int64   \n",
       "MISSINGS (%)         0        0        0        0        0        0        0   \n",
       "UNIQUE_VALUES        2        2        2        2        2        2        2   \n",
       "CARDIN (%)        0.18     0.18     0.18     0.18     0.18     0.18     0.18   \n",
       "\n",
       "COL_N         A8_score A9_score A10_score  ...     sex ethnicity jaundice  \\\n",
       "DATA_TYPE        int64    int64     int64  ...  object    object   object   \n",
       "MISSINGS (%)         0        0         0  ...       0     13.09        0   \n",
       "UNIQUE_VALUES        2        2         2  ...       2        11        2   \n",
       "CARDIN (%)        0.18     0.18      0.18  ...    0.18         1     0.18   \n",
       "\n",
       "COL_N         fam_history_PDD country_of_res used_app_before  age_num  \\\n",
       "DATA_TYPE              object         object          object  float64   \n",
       "MISSINGS (%)                0              0               0     0.55   \n",
       "UNIQUE_VALUES               2             89               2       58   \n",
       "CARDIN (%)               0.18           8.09            0.18     5.27   \n",
       "\n",
       "COL_N         age_desc relation   class  \n",
       "DATA_TYPE       object   object  object  \n",
       "MISSINGS (%)         0    13.09       0  \n",
       "UNIQUE_VALUES        4        6       2  \n",
       "CARDIN (%)        0.36     0.55    0.18  \n",
       "\n",
       "[4 rows x 21 columns]"
      ]
     },
     "execution_count": 194,
     "metadata": {},
     "output_type": "execute_result"
    }
   ],
   "source": [
    "def data_report(df):\n",
    "    # Sacamos los NOMBRES\n",
    "    cols = pd.DataFrame(df.columns.values, columns=[\"COL_N\"])\n",
    "\n",
    "    # Sacamos los TIPOS\n",
    "    types = pd.DataFrame(df.dtypes.values, columns=[\"DATA_TYPE\"])\n",
    "\n",
    "    # Sacamos los MISSINGS\n",
    "    percent_missing = round(df.isnull().sum() * 100 / len(df), 2)\n",
    "    percent_missing_df = pd.DataFrame(percent_missing.values, columns=[\"MISSINGS (%)\"])\n",
    "\n",
    "    # Sacamos los VALORES UNICOS\n",
    "    unicos = pd.DataFrame(df.nunique().values, columns=[\"UNIQUE_VALUES\"])\n",
    "    \n",
    "    percent_cardin = round(unicos['UNIQUE_VALUES']*100/len(df), 2)\n",
    "    percent_cardin_df = pd.DataFrame(percent_cardin.values, columns=[\"CARDIN (%)\"])\n",
    "    \n",
    "    #la cardinalidad aporta información en las columnas categóricas. Si la cardinalidad es alta es que hay muchos valores únicos, normalmente \n",
    "    #serán identificadores (como nombres propios) y, dependiendo del dataset es probable que esa columna no aporte nada al target y la podamos\n",
    "    #eliminar. \n",
    "    \n",
    "    concatenado = pd.concat([cols, types, percent_missing_df, unicos, percent_cardin_df], axis=1, sort=False)\n",
    "    concatenado.set_index('COL_N', drop=True, inplace=True)\n",
    "\n",
    "    return concatenado.T\n",
    "        \n",
    "data_report(raw_data)"
   ]
  },
  {
   "cell_type": "code",
   "execution_count": 135,
   "metadata": {},
   "outputs": [
    {
     "data": {
      "text/html": [
       "<div>\n",
       "<style scoped>\n",
       "    .dataframe tbody tr th:only-of-type {\n",
       "        vertical-align: middle;\n",
       "    }\n",
       "\n",
       "    .dataframe tbody tr th {\n",
       "        vertical-align: top;\n",
       "    }\n",
       "\n",
       "    .dataframe thead th {\n",
       "        text-align: right;\n",
       "    }\n",
       "</style>\n",
       "<table border=\"1\" class=\"dataframe\">\n",
       "  <thead>\n",
       "    <tr style=\"text-align: right;\">\n",
       "      <th>COL_N</th>\n",
       "      <th>screening_score</th>\n",
       "      <th>sex</th>\n",
       "      <th>ethnicity</th>\n",
       "      <th>jaundice</th>\n",
       "      <th>fam_history_PDD</th>\n",
       "      <th>country_of_res</th>\n",
       "      <th>used_app_before</th>\n",
       "      <th>age_num</th>\n",
       "      <th>age_desc</th>\n",
       "      <th>relation</th>\n",
       "      <th>class</th>\n",
       "    </tr>\n",
       "  </thead>\n",
       "  <tbody>\n",
       "    <tr>\n",
       "      <th>DATA_TYPE</th>\n",
       "      <td>int64</td>\n",
       "      <td>object</td>\n",
       "      <td>object</td>\n",
       "      <td>object</td>\n",
       "      <td>object</td>\n",
       "      <td>object</td>\n",
       "      <td>object</td>\n",
       "      <td>float64</td>\n",
       "      <td>object</td>\n",
       "      <td>object</td>\n",
       "      <td>object</td>\n",
       "    </tr>\n",
       "    <tr>\n",
       "      <th>MISSINGS (%)</th>\n",
       "      <td>0</td>\n",
       "      <td>0</td>\n",
       "      <td>13.09</td>\n",
       "      <td>0</td>\n",
       "      <td>0</td>\n",
       "      <td>0</td>\n",
       "      <td>0</td>\n",
       "      <td>0.55</td>\n",
       "      <td>0</td>\n",
       "      <td>13.09</td>\n",
       "      <td>0</td>\n",
       "    </tr>\n",
       "    <tr>\n",
       "      <th>UNIQUE_VALUES</th>\n",
       "      <td>11</td>\n",
       "      <td>2</td>\n",
       "      <td>11</td>\n",
       "      <td>2</td>\n",
       "      <td>2</td>\n",
       "      <td>89</td>\n",
       "      <td>2</td>\n",
       "      <td>59</td>\n",
       "      <td>4</td>\n",
       "      <td>6</td>\n",
       "      <td>2</td>\n",
       "    </tr>\n",
       "    <tr>\n",
       "      <th>CARDIN (%)</th>\n",
       "      <td>1</td>\n",
       "      <td>0.18</td>\n",
       "      <td>1</td>\n",
       "      <td>0.18</td>\n",
       "      <td>0.18</td>\n",
       "      <td>8.09</td>\n",
       "      <td>0.18</td>\n",
       "      <td>5.36</td>\n",
       "      <td>0.36</td>\n",
       "      <td>0.55</td>\n",
       "      <td>0.18</td>\n",
       "    </tr>\n",
       "  </tbody>\n",
       "</table>\n",
       "</div>"
      ],
      "text/plain": [
       "COL_N         screening_score     sex ethnicity jaundice fam_history_PDD  \\\n",
       "DATA_TYPE               int64  object    object   object          object   \n",
       "MISSINGS (%)                0       0     13.09        0               0   \n",
       "UNIQUE_VALUES              11       2        11        2               2   \n",
       "CARDIN (%)                  1    0.18         1     0.18            0.18   \n",
       "\n",
       "COL_N         country_of_res used_app_before  age_num age_desc relation  \\\n",
       "DATA_TYPE             object          object  float64   object   object   \n",
       "MISSINGS (%)               0               0     0.55        0    13.09   \n",
       "UNIQUE_VALUES             89               2       59        4        6   \n",
       "CARDIN (%)              8.09            0.18     5.36     0.36     0.55   \n",
       "\n",
       "COL_N           class  \n",
       "DATA_TYPE      object  \n",
       "MISSINGS (%)        0  \n",
       "UNIQUE_VALUES       2  \n",
       "CARDIN (%)       0.18  "
      ]
     },
     "execution_count": 135,
     "metadata": {},
     "output_type": "execute_result"
    }
   ],
   "source": [
    "data_report(raw_data.iloc[:,-11:])"
   ]
  },
  {
   "cell_type": "code",
   "execution_count": null,
   "metadata": {},
   "outputs": [],
   "source": [
    "#Tenemos un 13.09% de missings en etnicity y relation, y sólo un 0,5% en age_num.\n",
    "#Ojo que las dos primeras son categóricas, tendría que codificarlas numericamente para poder imputarlas con un KNN.\n",
    "\n",
    "#Otra opción es sustituirlas por la moda, es decir, por el valor más frecuente, que sí se admite en categóricas???"
   ]
  },
  {
   "cell_type": "code",
   "execution_count": 208,
   "metadata": {},
   "outputs": [
    {
     "name": "stdout",
     "output_type": "stream",
     "text": [
      "['White-European' 'Latino' nan 'Others' 'Black' 'Asian'\n",
      " \"'Middle Eastern '\" 'Pasifika' \"'South Asian'\" 'Hispanic' 'Turkish'\n",
      " 'others']\n",
      "0    White-European\n",
      "dtype: object\n"
     ]
    }
   ],
   "source": [
    "print(raw_data[\"ethnicity\"].unique())\n",
    "\n",
    "print(raw_data[\"ethnicity\"].mode())"
   ]
  },
  {
   "cell_type": "code",
   "execution_count": 209,
   "metadata": {},
   "outputs": [
    {
     "name": "stdout",
     "output_type": "stream",
     "text": [
      "['Self' 'Parent' nan \"'Health care professional'\" 'Relative' 'Others']\n",
      "0    Self\n",
      "dtype: object\n"
     ]
    }
   ],
   "source": [
    "#ojo que en \"relation\" tenemos además un problema con la inicial de self (unos están con mayúscula y otros con minúscula),\n",
    "#lo corrijo lo primero. \n",
    "raw_data[\"relation\"] = raw_data[\"relation\"].replace(\"self\",\"Self\")\n",
    "print(raw_data[\"relation\"].unique())\n",
    "print(raw_data[\"relation\"].mode())\n"
   ]
  },
  {
   "cell_type": "code",
   "execution_count": 210,
   "metadata": {},
   "outputs": [],
   "source": [
    "# Imputacion mediante KNN para el caso de la columna numérica age_num.\n",
    "from sklearn.impute import KNNImputer\n",
    "\n",
    "imputer = KNNImputer(n_neighbors=2)\n",
    "imputer.fit(raw_data[['age_num']])\n",
    "raw_data[['age_num']] = imputer.transform(raw_data[['age_num']])"
   ]
  },
  {
   "cell_type": "code",
   "execution_count": 221,
   "metadata": {},
   "outputs": [],
   "source": [
    "#reemplazo los missing de relation por la moda, que es White-European.\n",
    "raw_data[\"ethnicity\"] = raw_data[\"ethnicity\"].replace([None],\"White-European\")"
   ]
  },
  {
   "cell_type": "code",
   "execution_count": 222,
   "metadata": {},
   "outputs": [],
   "source": [
    "#reemplazo los missing de ethnicity por la moda, que es Self.\n",
    "raw_data[\"relation\"] = raw_data[\"relation\"].replace([None],\"Self\")"
   ]
  },
  {
   "cell_type": "code",
   "execution_count": 223,
   "metadata": {},
   "outputs": [
    {
     "data": {
      "text/html": [
       "<div>\n",
       "<style scoped>\n",
       "    .dataframe tbody tr th:only-of-type {\n",
       "        vertical-align: middle;\n",
       "    }\n",
       "\n",
       "    .dataframe tbody tr th {\n",
       "        vertical-align: top;\n",
       "    }\n",
       "\n",
       "    .dataframe thead th {\n",
       "        text-align: right;\n",
       "    }\n",
       "</style>\n",
       "<table border=\"1\" class=\"dataframe\">\n",
       "  <thead>\n",
       "    <tr style=\"text-align: right;\">\n",
       "      <th>COL_N</th>\n",
       "      <th>A1_score</th>\n",
       "      <th>A2_score</th>\n",
       "      <th>A3_score</th>\n",
       "      <th>A4_score</th>\n",
       "      <th>A5_score</th>\n",
       "      <th>A6_score</th>\n",
       "      <th>A7_score</th>\n",
       "      <th>A8_score</th>\n",
       "      <th>A9_score</th>\n",
       "      <th>A10_score</th>\n",
       "      <th>...</th>\n",
       "      <th>sex</th>\n",
       "      <th>ethnicity</th>\n",
       "      <th>jaundice</th>\n",
       "      <th>fam_history_PDD</th>\n",
       "      <th>country_of_res</th>\n",
       "      <th>used_app_before</th>\n",
       "      <th>age_num</th>\n",
       "      <th>age_desc</th>\n",
       "      <th>relation</th>\n",
       "      <th>class</th>\n",
       "    </tr>\n",
       "  </thead>\n",
       "  <tbody>\n",
       "    <tr>\n",
       "      <th>DATA_TYPE</th>\n",
       "      <td>int64</td>\n",
       "      <td>int64</td>\n",
       "      <td>int64</td>\n",
       "      <td>int64</td>\n",
       "      <td>int64</td>\n",
       "      <td>int64</td>\n",
       "      <td>int64</td>\n",
       "      <td>int64</td>\n",
       "      <td>int64</td>\n",
       "      <td>int64</td>\n",
       "      <td>...</td>\n",
       "      <td>object</td>\n",
       "      <td>object</td>\n",
       "      <td>object</td>\n",
       "      <td>object</td>\n",
       "      <td>object</td>\n",
       "      <td>object</td>\n",
       "      <td>float64</td>\n",
       "      <td>object</td>\n",
       "      <td>object</td>\n",
       "      <td>object</td>\n",
       "    </tr>\n",
       "    <tr>\n",
       "      <th>MISSINGS (%)</th>\n",
       "      <td>0</td>\n",
       "      <td>0</td>\n",
       "      <td>0</td>\n",
       "      <td>0</td>\n",
       "      <td>0</td>\n",
       "      <td>0</td>\n",
       "      <td>0</td>\n",
       "      <td>0</td>\n",
       "      <td>0</td>\n",
       "      <td>0</td>\n",
       "      <td>...</td>\n",
       "      <td>0</td>\n",
       "      <td>0</td>\n",
       "      <td>0</td>\n",
       "      <td>0</td>\n",
       "      <td>0</td>\n",
       "      <td>0</td>\n",
       "      <td>0</td>\n",
       "      <td>0</td>\n",
       "      <td>0</td>\n",
       "      <td>0</td>\n",
       "    </tr>\n",
       "    <tr>\n",
       "      <th>UNIQUE_VALUES</th>\n",
       "      <td>2</td>\n",
       "      <td>2</td>\n",
       "      <td>2</td>\n",
       "      <td>2</td>\n",
       "      <td>2</td>\n",
       "      <td>2</td>\n",
       "      <td>2</td>\n",
       "      <td>2</td>\n",
       "      <td>2</td>\n",
       "      <td>2</td>\n",
       "      <td>...</td>\n",
       "      <td>2</td>\n",
       "      <td>11</td>\n",
       "      <td>2</td>\n",
       "      <td>2</td>\n",
       "      <td>89</td>\n",
       "      <td>2</td>\n",
       "      <td>59</td>\n",
       "      <td>4</td>\n",
       "      <td>5</td>\n",
       "      <td>2</td>\n",
       "    </tr>\n",
       "    <tr>\n",
       "      <th>CARDIN (%)</th>\n",
       "      <td>0.18</td>\n",
       "      <td>0.18</td>\n",
       "      <td>0.18</td>\n",
       "      <td>0.18</td>\n",
       "      <td>0.18</td>\n",
       "      <td>0.18</td>\n",
       "      <td>0.18</td>\n",
       "      <td>0.18</td>\n",
       "      <td>0.18</td>\n",
       "      <td>0.18</td>\n",
       "      <td>...</td>\n",
       "      <td>0.18</td>\n",
       "      <td>1</td>\n",
       "      <td>0.18</td>\n",
       "      <td>0.18</td>\n",
       "      <td>8.09</td>\n",
       "      <td>0.18</td>\n",
       "      <td>5.36</td>\n",
       "      <td>0.36</td>\n",
       "      <td>0.45</td>\n",
       "      <td>0.18</td>\n",
       "    </tr>\n",
       "  </tbody>\n",
       "</table>\n",
       "<p>4 rows × 21 columns</p>\n",
       "</div>"
      ],
      "text/plain": [
       "COL_N         A1_score A2_score A3_score A4_score A5_score A6_score A7_score  \\\n",
       "DATA_TYPE        int64    int64    int64    int64    int64    int64    int64   \n",
       "MISSINGS (%)         0        0        0        0        0        0        0   \n",
       "UNIQUE_VALUES        2        2        2        2        2        2        2   \n",
       "CARDIN (%)        0.18     0.18     0.18     0.18     0.18     0.18     0.18   \n",
       "\n",
       "COL_N         A8_score A9_score A10_score  ...     sex ethnicity jaundice  \\\n",
       "DATA_TYPE        int64    int64     int64  ...  object    object   object   \n",
       "MISSINGS (%)         0        0         0  ...       0         0        0   \n",
       "UNIQUE_VALUES        2        2         2  ...       2        11        2   \n",
       "CARDIN (%)        0.18     0.18      0.18  ...    0.18         1     0.18   \n",
       "\n",
       "COL_N         fam_history_PDD country_of_res used_app_before  age_num  \\\n",
       "DATA_TYPE              object         object          object  float64   \n",
       "MISSINGS (%)                0              0               0        0   \n",
       "UNIQUE_VALUES               2             89               2       59   \n",
       "CARDIN (%)               0.18           8.09            0.18     5.36   \n",
       "\n",
       "COL_N         age_desc relation   class  \n",
       "DATA_TYPE       object   object  object  \n",
       "MISSINGS (%)         0        0       0  \n",
       "UNIQUE_VALUES        4        5       2  \n",
       "CARDIN (%)        0.36     0.45    0.18  \n",
       "\n",
       "[4 rows x 21 columns]"
      ]
     },
     "execution_count": 223,
     "metadata": {},
     "output_type": "execute_result"
    }
   ],
   "source": [
    "data_report(raw_data)"
   ]
  },
  {
   "cell_type": "code",
   "execution_count": null,
   "metadata": {},
   "outputs": [],
   "source": []
  },
  {
   "cell_type": "code",
   "execution_count": null,
   "metadata": {},
   "outputs": [],
   "source": []
  }
 ],
 "metadata": {
  "kernelspec": {
   "display_name": "Python 3",
   "language": "python",
   "name": "python3"
  },
  "language_info": {
   "codemirror_mode": {
    "name": "ipython",
    "version": 3
   },
   "file_extension": ".py",
   "mimetype": "text/x-python",
   "name": "python",
   "nbconvert_exporter": "python",
   "pygments_lexer": "ipython3",
   "version": "3.8.5"
  }
 },
 "nbformat": 4,
 "nbformat_minor": 4
}
