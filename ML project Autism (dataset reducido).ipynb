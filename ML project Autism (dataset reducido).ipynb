{
 "cells": [
  {
   "cell_type": "markdown",
   "metadata": {},
   "source": [
    "# Detección de los trastornos del espectro autista (TEA) usando técnicas de machine learning\n",
    "### Julia María Martínez Tapia \n",
    "#### 31 de marzo de 2021"
   ]
  },
  {
   "cell_type": "markdown",
   "metadata": {},
   "source": [
    "## Introducción "
   ]
  },
  {
   "cell_type": "markdown",
   "metadata": {},
   "source": [
    "**Los trastornos del espectro autista (TEA) son un grupo de afecciones caracterizadas por algún grado de alteración del comportamiento social, la comunicación y el lenguaje, y por un repertorio de intereses y actividades restringido, estereotipado y repetitivo.** \n",
    "\n",
    "La evidencia científica disponible indica la existencia de múltiples factores, entre ellos los genéticos y ambientales, que hacen más probable que un niño pueda padecer un TEA\n",
    "\n",
    "Los TEA aparecen en la infancia y tienden a persistir hasta la adolescencia y la edad adulta. En la mayoría de los casos se manifiestan en los primeros 5 años de vida y se presentan cuatro veces más en hombres que en mujeres. Conllevan a menudo afecciones comórbidas, como epilepsia, depresión, ansiedad y trastorno de déficit de atención e hiperactividad.\n",
    "\n",
    "Las personas con TEA a menudo son objeto de estigmatización y discriminación, que incluye la privación injusta de atención sanitaria, educación y oportunidades para participar en sus comunidades.\n",
    "\n",
    "**Estos trastornos suponen una enorme carga emocional y económica para las personas que los padecen y para sus familiares.** \n",
    "\n",
    "Segun la Organización Mundial de la Salud, se calcula que uno de cada 160 niños tiene un TEA. Esta estimación representa una cifra media, pues la prevalencia observada varía considerablemente entre los distintos estudios. No obstante, en algunos estudios bien controlados se han registrado cifras notablemente mayores. \n",
    "\n",
    "Según los estudios epidemiológicos realizados en los últimos 50 años, la prevalencia mundial de estos trastornos parece estar aumentando. Hay muchas explicaciones posibles para este aparente incremento de la prevalencia, entre ellas una mayor concienciación, la ampliación de los criterios diagnósticos, mejores herramientas diagnósticas y mejor comunicación.\n",
    "\n",
    "**La intervención en la primera infancia es muy importante para optimizar el desarrollo y bienestar de las personas con un TEA. Por lo tanto, la detección temprana de esta enfermedad es clave para el bienestar de las personas que lo padecen.** \n",
    "\n",
    "Sin embargo existen otros trastornos mentales cuyos síntomas son muy similares a los TEA, por lo que la detección es una tarea  difícil \n",
    "\n",
    "**Con el auge de la aplicación de modelos basados en aprendizaje automático en las predicciones de diversas enfermedades humanas, ahora parece posible su detección temprana basada en diversos parámetros fisiológicos y de salud.**"
   ]
  },
  {
   "cell_type": "markdown",
   "metadata": {},
   "source": [
    "## Objetivo del proyecto\n",
    "\n"
   ]
  },
  {
   "cell_type": "markdown",
   "metadata": {},
   "source": [
    "**El objetivo del presente trabajo es evaluar la utilidad de varios modelos de machine learning en la predicción de casos de autismo.** \n",
    "\n",
    "A los efectos del presente proyecto se considera mas perjudicial la obtención de falsos negativos que la obtención de falsos positivos.\n",
    "\n",
    "Ello es porque, a esto efectos, un falso negativo significa una persona que, sufriendo un TEA, es calificadas p0r el modelo como persona sin el trastorno y por tanto, una persona que puede no recibir un tratamiento médico que necesita para tener una calidad de vida aceptable.\n",
    "\n",
    "**Es prioritario, por tanto, que el modelo de machine learning a implementar minimize la obtención de falsos negativos.**\n"
   ]
  },
  {
   "cell_type": "markdown",
   "metadata": {},
   "source": [
    "## Dataset"
   ]
  },
  {
   "cell_type": "markdown",
   "metadata": {},
   "source": [
    "\n",
    "El dataset utilizado procede de la fusión de tres datasets publicamente disponibles en el repositorio UCI.\n",
    "\n",
    "Fadi Fayez Thabtah (2017), “Autistic Spectrum Disorder Screening Data for Adult” https://archive.ics.uci.edu/ml/machine-learning-databases/00426/\n",
    "\n",
    "Fadi Fayez Thabtah (2017), “Autistic Spectrum Disorder Screening Data for children\" https://archive.ics.uci.edu/ml/machine-learning-databases/00419/\n",
    "\n",
    "adi Fayez Thabtah (2017), “Autistic Spectrum Disorder Screening Data for Adolescent” https://archive.ics.uci.edu/ml/machine-learning-databases/00420/\n",
    "\n",
    "El dataset contiene 20 variables independientes, una columna target y 1100 registros.\n",
    "\n",
    "Las variables independientes consisten en diez indicadores de comportamiento (behavioural features) y diez carácterísticas individuales que han probado su efectividad para detectar casos de TEA a partir de controles obtenidos de la ciencia del comportamiento.   \n",
    "\n",
    "Se puede encontrar la descripción de las variables en este [enlace](https://www.kaggle.com/faizunnabi/autism-screening)"
   ]
  },
  {
   "cell_type": "markdown",
   "metadata": {},
   "source": [
    "## I. Análisis exploratorio de datos (EDA)"
   ]
  },
  {
   "cell_type": "code",
   "execution_count": 158,
   "metadata": {},
   "outputs": [],
   "source": [
    "import numpy as np # linear algebra\n",
    "import pandas as pd # data processing, CSV file I/O (e.g. pd.read_csv)\n",
    "import matplotlib.pyplot as plt\n",
    "import seaborn as sns\n",
    "import sklearn as sk\n",
    "import plotly.express as px\n",
    "import warnings\n",
    "from scipy import stats\n",
    "\n",
    "warnings.filterwarnings(\"ignore\")"
   ]
  },
  {
   "cell_type": "markdown",
   "metadata": {},
   "source": [
    "### 1. Análisis preliminar de los datos"
   ]
  },
  {
   "cell_type": "code",
   "execution_count": 2,
   "metadata": {},
   "outputs": [],
   "source": [
    "#1. Carga de los datos"
   ]
  },
  {
   "cell_type": "code",
   "execution_count": 3,
   "metadata": {},
   "outputs": [],
   "source": [
    "raw_data = pd.read_excel(\"Autism_todos_raw_data.xlsx\")"
   ]
  },
  {
   "cell_type": "code",
   "execution_count": 4,
   "metadata": {},
   "outputs": [
    {
     "data": {
      "text/html": [
       "<div>\n",
       "<style scoped>\n",
       "    .dataframe tbody tr th:only-of-type {\n",
       "        vertical-align: middle;\n",
       "    }\n",
       "\n",
       "    .dataframe tbody tr th {\n",
       "        vertical-align: top;\n",
       "    }\n",
       "\n",
       "    .dataframe thead th {\n",
       "        text-align: right;\n",
       "    }\n",
       "</style>\n",
       "<table border=\"1\" class=\"dataframe\">\n",
       "  <thead>\n",
       "    <tr style=\"text-align: right;\">\n",
       "      <th></th>\n",
       "      <th>A1_score</th>\n",
       "      <th>A2_score</th>\n",
       "      <th>A3_score</th>\n",
       "      <th>A4_score</th>\n",
       "      <th>A5_score</th>\n",
       "      <th>A6_score</th>\n",
       "      <th>A7_score</th>\n",
       "      <th>A8_score</th>\n",
       "      <th>A9_score</th>\n",
       "      <th>A10_score</th>\n",
       "      <th>screening_score</th>\n",
       "    </tr>\n",
       "  </thead>\n",
       "  <tbody>\n",
       "    <tr>\n",
       "      <th>0</th>\n",
       "      <td>1</td>\n",
       "      <td>1</td>\n",
       "      <td>1</td>\n",
       "      <td>1</td>\n",
       "      <td>0</td>\n",
       "      <td>0</td>\n",
       "      <td>1</td>\n",
       "      <td>1</td>\n",
       "      <td>0</td>\n",
       "      <td>0</td>\n",
       "      <td>6</td>\n",
       "    </tr>\n",
       "    <tr>\n",
       "      <th>1</th>\n",
       "      <td>1</td>\n",
       "      <td>1</td>\n",
       "      <td>0</td>\n",
       "      <td>1</td>\n",
       "      <td>0</td>\n",
       "      <td>0</td>\n",
       "      <td>0</td>\n",
       "      <td>1</td>\n",
       "      <td>0</td>\n",
       "      <td>1</td>\n",
       "      <td>5</td>\n",
       "    </tr>\n",
       "    <tr>\n",
       "      <th>2</th>\n",
       "      <td>1</td>\n",
       "      <td>1</td>\n",
       "      <td>0</td>\n",
       "      <td>1</td>\n",
       "      <td>1</td>\n",
       "      <td>0</td>\n",
       "      <td>1</td>\n",
       "      <td>1</td>\n",
       "      <td>1</td>\n",
       "      <td>1</td>\n",
       "      <td>8</td>\n",
       "    </tr>\n",
       "    <tr>\n",
       "      <th>3</th>\n",
       "      <td>1</td>\n",
       "      <td>1</td>\n",
       "      <td>0</td>\n",
       "      <td>1</td>\n",
       "      <td>0</td>\n",
       "      <td>0</td>\n",
       "      <td>1</td>\n",
       "      <td>1</td>\n",
       "      <td>0</td>\n",
       "      <td>1</td>\n",
       "      <td>6</td>\n",
       "    </tr>\n",
       "    <tr>\n",
       "      <th>4</th>\n",
       "      <td>1</td>\n",
       "      <td>0</td>\n",
       "      <td>0</td>\n",
       "      <td>0</td>\n",
       "      <td>0</td>\n",
       "      <td>0</td>\n",
       "      <td>0</td>\n",
       "      <td>1</td>\n",
       "      <td>0</td>\n",
       "      <td>0</td>\n",
       "      <td>2</td>\n",
       "    </tr>\n",
       "    <tr>\n",
       "      <th>...</th>\n",
       "      <td>...</td>\n",
       "      <td>...</td>\n",
       "      <td>...</td>\n",
       "      <td>...</td>\n",
       "      <td>...</td>\n",
       "      <td>...</td>\n",
       "      <td>...</td>\n",
       "      <td>...</td>\n",
       "      <td>...</td>\n",
       "      <td>...</td>\n",
       "      <td>...</td>\n",
       "    </tr>\n",
       "    <tr>\n",
       "      <th>1095</th>\n",
       "      <td>1</td>\n",
       "      <td>1</td>\n",
       "      <td>1</td>\n",
       "      <td>1</td>\n",
       "      <td>1</td>\n",
       "      <td>1</td>\n",
       "      <td>1</td>\n",
       "      <td>1</td>\n",
       "      <td>1</td>\n",
       "      <td>1</td>\n",
       "      <td>10</td>\n",
       "    </tr>\n",
       "    <tr>\n",
       "      <th>1096</th>\n",
       "      <td>1</td>\n",
       "      <td>0</td>\n",
       "      <td>0</td>\n",
       "      <td>0</td>\n",
       "      <td>1</td>\n",
       "      <td>0</td>\n",
       "      <td>1</td>\n",
       "      <td>0</td>\n",
       "      <td>0</td>\n",
       "      <td>1</td>\n",
       "      <td>4</td>\n",
       "    </tr>\n",
       "    <tr>\n",
       "      <th>1097</th>\n",
       "      <td>1</td>\n",
       "      <td>0</td>\n",
       "      <td>1</td>\n",
       "      <td>1</td>\n",
       "      <td>1</td>\n",
       "      <td>1</td>\n",
       "      <td>1</td>\n",
       "      <td>0</td>\n",
       "      <td>0</td>\n",
       "      <td>1</td>\n",
       "      <td>7</td>\n",
       "    </tr>\n",
       "    <tr>\n",
       "      <th>1098</th>\n",
       "      <td>1</td>\n",
       "      <td>1</td>\n",
       "      <td>1</td>\n",
       "      <td>0</td>\n",
       "      <td>1</td>\n",
       "      <td>1</td>\n",
       "      <td>1</td>\n",
       "      <td>1</td>\n",
       "      <td>1</td>\n",
       "      <td>1</td>\n",
       "      <td>9</td>\n",
       "    </tr>\n",
       "    <tr>\n",
       "      <th>1099</th>\n",
       "      <td>0</td>\n",
       "      <td>0</td>\n",
       "      <td>1</td>\n",
       "      <td>0</td>\n",
       "      <td>1</td>\n",
       "      <td>0</td>\n",
       "      <td>1</td>\n",
       "      <td>0</td>\n",
       "      <td>0</td>\n",
       "      <td>0</td>\n",
       "      <td>3</td>\n",
       "    </tr>\n",
       "  </tbody>\n",
       "</table>\n",
       "<p>1100 rows × 11 columns</p>\n",
       "</div>"
      ],
      "text/plain": [
       "      A1_score  A2_score  A3_score  A4_score  A5_score  A6_score  A7_score  \\\n",
       "0            1         1         1         1         0         0         1   \n",
       "1            1         1         0         1         0         0         0   \n",
       "2            1         1         0         1         1         0         1   \n",
       "3            1         1         0         1         0         0         1   \n",
       "4            1         0         0         0         0         0         0   \n",
       "...        ...       ...       ...       ...       ...       ...       ...   \n",
       "1095         1         1         1         1         1         1         1   \n",
       "1096         1         0         0         0         1         0         1   \n",
       "1097         1         0         1         1         1         1         1   \n",
       "1098         1         1         1         0         1         1         1   \n",
       "1099         0         0         1         0         1         0         1   \n",
       "\n",
       "      A8_score  A9_score  A10_score  screening_score  \n",
       "0            1         0          0                6  \n",
       "1            1         0          1                5  \n",
       "2            1         1          1                8  \n",
       "3            1         0          1                6  \n",
       "4            1         0          0                2  \n",
       "...        ...       ...        ...              ...  \n",
       "1095         1         1          1               10  \n",
       "1096         0         0          1                4  \n",
       "1097         0         0          1                7  \n",
       "1098         1         1          1                9  \n",
       "1099         0         0          0                3  \n",
       "\n",
       "[1100 rows x 11 columns]"
      ]
     },
     "execution_count": 4,
     "metadata": {},
     "output_type": "execute_result"
    }
   ],
   "source": [
    "raw_data.iloc[:,0:11]"
   ]
  },
  {
   "cell_type": "code",
   "execution_count": 5,
   "metadata": {},
   "outputs": [
    {
     "name": "stdout",
     "output_type": "stream",
     "text": [
      "<class 'pandas.core.frame.DataFrame'>\n",
      "RangeIndex: 1100 entries, 0 to 1099\n",
      "Data columns (total 21 columns):\n",
      " #   Column           Non-Null Count  Dtype  \n",
      "---  ------           --------------  -----  \n",
      " 0   A1_score         1100 non-null   int64  \n",
      " 1   A2_score         1100 non-null   int64  \n",
      " 2   A3_score         1100 non-null   int64  \n",
      " 3   A4_score         1100 non-null   int64  \n",
      " 4   A5_score         1100 non-null   int64  \n",
      " 5   A6_score         1100 non-null   int64  \n",
      " 6   A7_score         1100 non-null   int64  \n",
      " 7   A8_score         1100 non-null   int64  \n",
      " 8   A9_score         1100 non-null   int64  \n",
      " 9   A10_score        1100 non-null   int64  \n",
      " 10  screening_score  1100 non-null   int64  \n",
      " 11  sex              1100 non-null   object \n",
      " 12  ethnicity        956 non-null    object \n",
      " 13  jaundice         1100 non-null   object \n",
      " 14  fam_history_PDD  1100 non-null   object \n",
      " 15  country_of_res   1100 non-null   object \n",
      " 16  used_app_before  1100 non-null   object \n",
      " 17  age_num          1094 non-null   float64\n",
      " 18  age_desc         1100 non-null   object \n",
      " 19  relation         956 non-null    object \n",
      " 20  class            1100 non-null   object \n",
      "dtypes: float64(1), int64(11), object(9)\n",
      "memory usage: 180.6+ KB\n"
     ]
    }
   ],
   "source": [
    "raw_data.info()\n",
    "#Curioso, los missings de ethniciy y relation son los mismos, se dan exactamente en los mismos 144 registros."
   ]
  },
  {
   "cell_type": "code",
   "execution_count": 6,
   "metadata": {},
   "outputs": [
    {
     "data": {
      "text/html": [
       "<div>\n",
       "<style scoped>\n",
       "    .dataframe tbody tr th:only-of-type {\n",
       "        vertical-align: middle;\n",
       "    }\n",
       "\n",
       "    .dataframe tbody tr th {\n",
       "        vertical-align: top;\n",
       "    }\n",
       "\n",
       "    .dataframe thead th {\n",
       "        text-align: right;\n",
       "    }\n",
       "</style>\n",
       "<table border=\"1\" class=\"dataframe\">\n",
       "  <thead>\n",
       "    <tr style=\"text-align: right;\">\n",
       "      <th></th>\n",
       "      <th>A1_score</th>\n",
       "      <th>A2_score</th>\n",
       "      <th>A3_score</th>\n",
       "      <th>A4_score</th>\n",
       "      <th>A5_score</th>\n",
       "      <th>A6_score</th>\n",
       "      <th>A7_score</th>\n",
       "      <th>A8_score</th>\n",
       "      <th>A9_score</th>\n",
       "      <th>A10_score</th>\n",
       "      <th>screening_score</th>\n",
       "      <th>age_num</th>\n",
       "    </tr>\n",
       "  </thead>\n",
       "  <tbody>\n",
       "    <tr>\n",
       "      <th>count</th>\n",
       "      <td>1100.000000</td>\n",
       "      <td>1100.000000</td>\n",
       "      <td>1100.000000</td>\n",
       "      <td>1100.000000</td>\n",
       "      <td>1100.000000</td>\n",
       "      <td>1100.000000</td>\n",
       "      <td>1100.000000</td>\n",
       "      <td>1100.000000</td>\n",
       "      <td>1100.000000</td>\n",
       "      <td>1100.000000</td>\n",
       "      <td>1100.000000</td>\n",
       "      <td>1094.000000</td>\n",
       "    </tr>\n",
       "    <tr>\n",
       "      <th>mean</th>\n",
       "      <td>0.699091</td>\n",
       "      <td>0.482727</td>\n",
       "      <td>0.551818</td>\n",
       "      <td>0.530000</td>\n",
       "      <td>0.587273</td>\n",
       "      <td>0.443636</td>\n",
       "      <td>0.477273</td>\n",
       "      <td>0.605455</td>\n",
       "      <td>0.412727</td>\n",
       "      <td>0.621818</td>\n",
       "      <td>5.411818</td>\n",
       "      <td>22.073126</td>\n",
       "    </tr>\n",
       "    <tr>\n",
       "      <th>std</th>\n",
       "      <td>0.458862</td>\n",
       "      <td>0.499929</td>\n",
       "      <td>0.497534</td>\n",
       "      <td>0.499326</td>\n",
       "      <td>0.492548</td>\n",
       "      <td>0.497039</td>\n",
       "      <td>0.499710</td>\n",
       "      <td>0.488975</td>\n",
       "      <td>0.492548</td>\n",
       "      <td>0.485154</td>\n",
       "      <td>2.523492</td>\n",
       "      <td>16.879373</td>\n",
       "    </tr>\n",
       "    <tr>\n",
       "      <th>min</th>\n",
       "      <td>0.000000</td>\n",
       "      <td>0.000000</td>\n",
       "      <td>0.000000</td>\n",
       "      <td>0.000000</td>\n",
       "      <td>0.000000</td>\n",
       "      <td>0.000000</td>\n",
       "      <td>0.000000</td>\n",
       "      <td>0.000000</td>\n",
       "      <td>0.000000</td>\n",
       "      <td>0.000000</td>\n",
       "      <td>0.000000</td>\n",
       "      <td>4.000000</td>\n",
       "    </tr>\n",
       "    <tr>\n",
       "      <th>25%</th>\n",
       "      <td>0.000000</td>\n",
       "      <td>0.000000</td>\n",
       "      <td>0.000000</td>\n",
       "      <td>0.000000</td>\n",
       "      <td>0.000000</td>\n",
       "      <td>0.000000</td>\n",
       "      <td>0.000000</td>\n",
       "      <td>0.000000</td>\n",
       "      <td>0.000000</td>\n",
       "      <td>0.000000</td>\n",
       "      <td>3.000000</td>\n",
       "      <td>11.000000</td>\n",
       "    </tr>\n",
       "    <tr>\n",
       "      <th>50%</th>\n",
       "      <td>1.000000</td>\n",
       "      <td>0.000000</td>\n",
       "      <td>1.000000</td>\n",
       "      <td>1.000000</td>\n",
       "      <td>1.000000</td>\n",
       "      <td>0.000000</td>\n",
       "      <td>0.000000</td>\n",
       "      <td>1.000000</td>\n",
       "      <td>0.000000</td>\n",
       "      <td>1.000000</td>\n",
       "      <td>5.000000</td>\n",
       "      <td>21.000000</td>\n",
       "    </tr>\n",
       "    <tr>\n",
       "      <th>75%</th>\n",
       "      <td>1.000000</td>\n",
       "      <td>1.000000</td>\n",
       "      <td>1.000000</td>\n",
       "      <td>1.000000</td>\n",
       "      <td>1.000000</td>\n",
       "      <td>1.000000</td>\n",
       "      <td>1.000000</td>\n",
       "      <td>1.000000</td>\n",
       "      <td>1.000000</td>\n",
       "      <td>1.000000</td>\n",
       "      <td>7.250000</td>\n",
       "      <td>30.000000</td>\n",
       "    </tr>\n",
       "    <tr>\n",
       "      <th>max</th>\n",
       "      <td>1.000000</td>\n",
       "      <td>1.000000</td>\n",
       "      <td>1.000000</td>\n",
       "      <td>1.000000</td>\n",
       "      <td>1.000000</td>\n",
       "      <td>1.000000</td>\n",
       "      <td>1.000000</td>\n",
       "      <td>1.000000</td>\n",
       "      <td>1.000000</td>\n",
       "      <td>1.000000</td>\n",
       "      <td>10.000000</td>\n",
       "      <td>383.000000</td>\n",
       "    </tr>\n",
       "  </tbody>\n",
       "</table>\n",
       "</div>"
      ],
      "text/plain": [
       "          A1_score     A2_score     A3_score     A4_score     A5_score  \\\n",
       "count  1100.000000  1100.000000  1100.000000  1100.000000  1100.000000   \n",
       "mean      0.699091     0.482727     0.551818     0.530000     0.587273   \n",
       "std       0.458862     0.499929     0.497534     0.499326     0.492548   \n",
       "min       0.000000     0.000000     0.000000     0.000000     0.000000   \n",
       "25%       0.000000     0.000000     0.000000     0.000000     0.000000   \n",
       "50%       1.000000     0.000000     1.000000     1.000000     1.000000   \n",
       "75%       1.000000     1.000000     1.000000     1.000000     1.000000   \n",
       "max       1.000000     1.000000     1.000000     1.000000     1.000000   \n",
       "\n",
       "          A6_score     A7_score     A8_score     A9_score    A10_score  \\\n",
       "count  1100.000000  1100.000000  1100.000000  1100.000000  1100.000000   \n",
       "mean      0.443636     0.477273     0.605455     0.412727     0.621818   \n",
       "std       0.497039     0.499710     0.488975     0.492548     0.485154   \n",
       "min       0.000000     0.000000     0.000000     0.000000     0.000000   \n",
       "25%       0.000000     0.000000     0.000000     0.000000     0.000000   \n",
       "50%       0.000000     0.000000     1.000000     0.000000     1.000000   \n",
       "75%       1.000000     1.000000     1.000000     1.000000     1.000000   \n",
       "max       1.000000     1.000000     1.000000     1.000000     1.000000   \n",
       "\n",
       "       screening_score      age_num  \n",
       "count      1100.000000  1094.000000  \n",
       "mean          5.411818    22.073126  \n",
       "std           2.523492    16.879373  \n",
       "min           0.000000     4.000000  \n",
       "25%           3.000000    11.000000  \n",
       "50%           5.000000    21.000000  \n",
       "75%           7.250000    30.000000  \n",
       "max          10.000000   383.000000  "
      ]
     },
     "execution_count": 6,
     "metadata": {},
     "output_type": "execute_result"
    }
   ],
   "source": [
    "raw_data.describe()"
   ]
  },
  {
   "cell_type": "markdown",
   "metadata": {},
   "source": [
    "Hay un error en la variable age_number, no tiene sentido un max de edad de 383 años. Se corrije más adelante."
   ]
  },
  {
   "cell_type": "markdown",
   "metadata": {},
   "source": [
    "### 2. Análisis del target"
   ]
  },
  {
   "cell_type": "markdown",
   "metadata": {},
   "source": [
    "Comprobamos si el dataset está desbalanceado comparando el número de registros de las clases que constituyen el target (en este caso, SI o NO autismo)"
   ]
  },
  {
   "cell_type": "code",
   "execution_count": 7,
   "metadata": {},
   "outputs": [
    {
     "data": {
      "text/plain": [
       "0        NO\n",
       "1        NO\n",
       "2       YES\n",
       "3        NO\n",
       "4        NO\n",
       "       ... \n",
       "1095    YES\n",
       "1096     NO\n",
       "1097    YES\n",
       "1098    YES\n",
       "1099     NO\n",
       "Name: class, Length: 1100, dtype: object"
      ]
     },
     "execution_count": 7,
     "metadata": {},
     "output_type": "execute_result"
    }
   ],
   "source": [
    "raw_data[\"class\"]"
   ]
  },
  {
   "cell_type": "code",
   "execution_count": 8,
   "metadata": {},
   "outputs": [
    {
     "data": {
      "text/plain": [
       "False    707\n",
       "True     393\n",
       "Name: class, dtype: int64"
      ]
     },
     "execution_count": 8,
     "metadata": {},
     "output_type": "execute_result"
    }
   ],
   "source": [
    "raw_data[\"class\"].isin([\"YES\"]).value_counts()"
   ]
  },
  {
   "cell_type": "code",
   "execution_count": 9,
   "metadata": {},
   "outputs": [
    {
     "data": {
      "text/plain": [
       "<AxesSubplot:xlabel='class', ylabel='count'>"
      ]
     },
     "execution_count": 9,
     "metadata": {},
     "output_type": "execute_result"
    },
    {
     "data": {
      "image/png": "[encoded data removed]",
      "text/plain": [
       "<Figure size 432x288 with 1 Axes>"
      ]
     },
     "metadata": {
      "needs_background": "light"
     },
     "output_type": "display_data"
    }
   ],
   "source": [
    "sns.countplot(data = raw_data, x = \"class\")"
   ]
  },
  {
   "cell_type": "code",
   "execution_count": 10,
   "metadata": {},
   "outputs": [],
   "source": [
    "# El dataset está desbalanceado, pero no excesivamente. Por tanto no voy a hacer resampling ni a generar datos sintéticos, \n",
    "# pero lo tendré en cuenta a la hora de escoger métricas e hiperparámetros."
   ]
  },
  {
   "cell_type": "code",
   "execution_count": 11,
   "metadata": {},
   "outputs": [
    {
     "data": {
      "text/plain": [
       "0       0\n",
       "1       0\n",
       "2       1\n",
       "3       0\n",
       "4       0\n",
       "       ..\n",
       "1095    1\n",
       "1096    0\n",
       "1097    1\n",
       "1098    1\n",
       "1099    0\n",
       "Name: class, Length: 1100, dtype: int64"
      ]
     },
     "execution_count": 11,
     "metadata": {},
     "output_type": "execute_result"
    }
   ],
   "source": [
    "#Por otro lado, antes de dividir en train y test voy a transformar los valores de columna target \"class\" de YES/NO a 1/0 para poder luego \n",
    "#aplicarle más adelante el coeficiente de correlación de Person. Lo hago con un apply.\n",
    "\n",
    "def mapping(x):\n",
    "    if x == \"YES\":\n",
    "        return 1\n",
    "    elif x == \"NO\":\n",
    "        return 0\n",
    "\n",
    "raw_data[\"class\"] = raw_data[\"class\"].apply(mapping)\n",
    "\n",
    "raw_data[\"class\"]"
   ]
  },
  {
   "cell_type": "code",
   "execution_count": 12,
   "metadata": {},
   "outputs": [],
   "source": [
    "data = raw_data"
   ]
  },
  {
   "cell_type": "markdown",
   "metadata": {},
   "source": [
    "### 3. Comprensión de las variables y su relación con el target. "
   ]
  },
  {
   "cell_type": "code",
   "execution_count": 13,
   "metadata": {},
   "outputs": [
    {
     "name": "stdout",
     "output_type": "stream",
     "text": [
      "<class 'pandas.core.frame.DataFrame'>\n",
      "RangeIndex: 1100 entries, 0 to 1099\n",
      "Data columns (total 21 columns):\n",
      " #   Column           Non-Null Count  Dtype  \n",
      "---  ------           --------------  -----  \n",
      " 0   A1_score         1100 non-null   int64  \n",
      " 1   A2_score         1100 non-null   int64  \n",
      " 2   A3_score         1100 non-null   int64  \n",
      " 3   A4_score         1100 non-null   int64  \n",
      " 4   A5_score         1100 non-null   int64  \n",
      " 5   A6_score         1100 non-null   int64  \n",
      " 6   A7_score         1100 non-null   int64  \n",
      " 7   A8_score         1100 non-null   int64  \n",
      " 8   A9_score         1100 non-null   int64  \n",
      " 9   A10_score        1100 non-null   int64  \n",
      " 10  screening_score  1100 non-null   int64  \n",
      " 11  sex              1100 non-null   object \n",
      " 12  ethnicity        956 non-null    object \n",
      " 13  jaundice         1100 non-null   object \n",
      " 14  fam_history_PDD  1100 non-null   object \n",
      " 15  country_of_res   1100 non-null   object \n",
      " 16  used_app_before  1100 non-null   object \n",
      " 17  age_num          1094 non-null   float64\n",
      " 18  age_desc         1100 non-null   object \n",
      " 19  relation         956 non-null    object \n",
      " 20  class            1100 non-null   int64  \n",
      "dtypes: float64(1), int64(12), object(8)\n",
      "memory usage: 180.6+ KB\n"
     ]
    }
   ],
   "source": [
    "data.info()"
   ]
  },
  {
   "cell_type": "markdown",
   "metadata": {},
   "source": [
    "A continuación obtenemos un reporte de las columnas, con sus tipos, % de missings y cardinalidad."
   ]
  },
  {
   "cell_type": "code",
   "execution_count": 14,
   "metadata": {},
   "outputs": [
    {
     "data": {
      "text/html": [
       "<div>\n",
       "<style scoped>\n",
       "    .dataframe tbody tr th:only-of-type {\n",
       "        vertical-align: middle;\n",
       "    }\n",
       "\n",
       "    .dataframe tbody tr th {\n",
       "        vertical-align: top;\n",
       "    }\n",
       "\n",
       "    .dataframe thead th {\n",
       "        text-align: right;\n",
       "    }\n",
       "</style>\n",
       "<table border=\"1\" class=\"dataframe\">\n",
       "  <thead>\n",
       "    <tr style=\"text-align: right;\">\n",
       "      <th>COL_N</th>\n",
       "      <th>A1_score</th>\n",
       "      <th>A2_score</th>\n",
       "      <th>A3_score</th>\n",
       "      <th>A4_score</th>\n",
       "      <th>A5_score</th>\n",
       "      <th>A6_score</th>\n",
       "      <th>A7_score</th>\n",
       "      <th>A8_score</th>\n",
       "      <th>A9_score</th>\n",
       "      <th>A10_score</th>\n",
       "      <th>...</th>\n",
       "      <th>sex</th>\n",
       "      <th>ethnicity</th>\n",
       "      <th>jaundice</th>\n",
       "      <th>fam_history_PDD</th>\n",
       "      <th>country_of_res</th>\n",
       "      <th>used_app_before</th>\n",
       "      <th>age_num</th>\n",
       "      <th>age_desc</th>\n",
       "      <th>relation</th>\n",
       "      <th>class</th>\n",
       "    </tr>\n",
       "  </thead>\n",
       "  <tbody>\n",
       "    <tr>\n",
       "      <th>DATA_TYPE</th>\n",
       "      <td>int64</td>\n",
       "      <td>int64</td>\n",
       "      <td>int64</td>\n",
       "      <td>int64</td>\n",
       "      <td>int64</td>\n",
       "      <td>int64</td>\n",
       "      <td>int64</td>\n",
       "      <td>int64</td>\n",
       "      <td>int64</td>\n",
       "      <td>int64</td>\n",
       "      <td>...</td>\n",
       "      <td>object</td>\n",
       "      <td>object</td>\n",
       "      <td>object</td>\n",
       "      <td>object</td>\n",
       "      <td>object</td>\n",
       "      <td>object</td>\n",
       "      <td>float64</td>\n",
       "      <td>object</td>\n",
       "      <td>object</td>\n",
       "      <td>int64</td>\n",
       "    </tr>\n",
       "    <tr>\n",
       "      <th>MISSINGS (%)</th>\n",
       "      <td>0</td>\n",
       "      <td>0</td>\n",
       "      <td>0</td>\n",
       "      <td>0</td>\n",
       "      <td>0</td>\n",
       "      <td>0</td>\n",
       "      <td>0</td>\n",
       "      <td>0</td>\n",
       "      <td>0</td>\n",
       "      <td>0</td>\n",
       "      <td>...</td>\n",
       "      <td>0</td>\n",
       "      <td>13.09</td>\n",
       "      <td>0</td>\n",
       "      <td>0</td>\n",
       "      <td>0</td>\n",
       "      <td>0</td>\n",
       "      <td>0.55</td>\n",
       "      <td>0</td>\n",
       "      <td>13.09</td>\n",
       "      <td>0</td>\n",
       "    </tr>\n",
       "    <tr>\n",
       "      <th>UNIQUE_VALUES</th>\n",
       "      <td>2</td>\n",
       "      <td>2</td>\n",
       "      <td>2</td>\n",
       "      <td>2</td>\n",
       "      <td>2</td>\n",
       "      <td>2</td>\n",
       "      <td>2</td>\n",
       "      <td>2</td>\n",
       "      <td>2</td>\n",
       "      <td>2</td>\n",
       "      <td>...</td>\n",
       "      <td>2</td>\n",
       "      <td>11</td>\n",
       "      <td>2</td>\n",
       "      <td>2</td>\n",
       "      <td>89</td>\n",
       "      <td>2</td>\n",
       "      <td>59</td>\n",
       "      <td>4</td>\n",
       "      <td>6</td>\n",
       "      <td>2</td>\n",
       "    </tr>\n",
       "    <tr>\n",
       "      <th>CARDIN (%)</th>\n",
       "      <td>0.18</td>\n",
       "      <td>0.18</td>\n",
       "      <td>0.18</td>\n",
       "      <td>0.18</td>\n",
       "      <td>0.18</td>\n",
       "      <td>0.18</td>\n",
       "      <td>0.18</td>\n",
       "      <td>0.18</td>\n",
       "      <td>0.18</td>\n",
       "      <td>0.18</td>\n",
       "      <td>...</td>\n",
       "      <td>0.18</td>\n",
       "      <td>1</td>\n",
       "      <td>0.18</td>\n",
       "      <td>0.18</td>\n",
       "      <td>8.09</td>\n",
       "      <td>0.18</td>\n",
       "      <td>5.36</td>\n",
       "      <td>0.36</td>\n",
       "      <td>0.55</td>\n",
       "      <td>0.18</td>\n",
       "    </tr>\n",
       "  </tbody>\n",
       "</table>\n",
       "<p>4 rows × 21 columns</p>\n",
       "</div>"
      ],
      "text/plain": [
       "COL_N         A1_score A2_score A3_score A4_score A5_score A6_score A7_score  \\\n",
       "DATA_TYPE        int64    int64    int64    int64    int64    int64    int64   \n",
       "MISSINGS (%)         0        0        0        0        0        0        0   \n",
       "UNIQUE_VALUES        2        2        2        2        2        2        2   \n",
       "CARDIN (%)        0.18     0.18     0.18     0.18     0.18     0.18     0.18   \n",
       "\n",
       "COL_N         A8_score A9_score A10_score  ...     sex ethnicity jaundice  \\\n",
       "DATA_TYPE        int64    int64     int64  ...  object    object   object   \n",
       "MISSINGS (%)         0        0         0  ...       0     13.09        0   \n",
       "UNIQUE_VALUES        2        2         2  ...       2        11        2   \n",
       "CARDIN (%)        0.18     0.18      0.18  ...    0.18         1     0.18   \n",
       "\n",
       "COL_N         fam_history_PDD country_of_res used_app_before  age_num  \\\n",
       "DATA_TYPE              object         object          object  float64   \n",
       "MISSINGS (%)                0              0               0     0.55   \n",
       "UNIQUE_VALUES               2             89               2       59   \n",
       "CARDIN (%)               0.18           8.09            0.18     5.36   \n",
       "\n",
       "COL_N         age_desc relation  class  \n",
       "DATA_TYPE       object   object  int64  \n",
       "MISSINGS (%)         0    13.09      0  \n",
       "UNIQUE_VALUES        4        6      2  \n",
       "CARDIN (%)        0.36     0.55   0.18  \n",
       "\n",
       "[4 rows x 21 columns]"
      ]
     },
     "execution_count": 14,
     "metadata": {},
     "output_type": "execute_result"
    }
   ],
   "source": [
    "def data_report(df):\n",
    "    # Sacamos los NOMBRES\n",
    "    cols = pd.DataFrame(df.columns.values, columns=[\"COL_N\"])\n",
    "\n",
    "    # Sacamos los TIPOS\n",
    "    types = pd.DataFrame(df.dtypes.values, columns=[\"DATA_TYPE\"])\n",
    "\n",
    "    # Sacamos los MISSINGS\n",
    "    percent_missing = round(df.isnull().sum() * 100 / len(df), 2)\n",
    "    percent_missing_df = pd.DataFrame(percent_missing.values, columns=[\"MISSINGS (%)\"])\n",
    "\n",
    "    # Sacamos los VALORES UNICOS\n",
    "    unicos = pd.DataFrame(df.nunique().values, columns=[\"UNIQUE_VALUES\"])\n",
    "    \n",
    "    percent_cardin = round(unicos['UNIQUE_VALUES']*100/len(df), 2)\n",
    "    percent_cardin_df = pd.DataFrame(percent_cardin.values, columns=[\"CARDIN (%)\"])\n",
    "    \n",
    "    #la cardinalidad aporta información en las columnas categóricas. Si la cardinalidad es alta es que hay muchos valores únicos, normalmente \n",
    "    #serán identificadores (como nombres propios) y, dependiendo del dataset es probable que esa columna no aporte nada al target y la podamos\n",
    "    #eliminar. \n",
    "    \n",
    "    concatenado = pd.concat([cols, types, percent_missing_df, unicos, percent_cardin_df], axis=1, sort=False)\n",
    "    concatenado.set_index('COL_N', drop=True, inplace=True)\n",
    "\n",
    "    return concatenado.T\n",
    "        \n",
    "data_report(data)"
   ]
  },
  {
   "cell_type": "code",
   "execution_count": 15,
   "metadata": {},
   "outputs": [
    {
     "name": "stdout",
     "output_type": "stream",
     "text": [
      "class              1.000000\n",
      "screening_score    0.834223\n",
      "A9_score           0.596497\n",
      "A6_score           0.567634\n",
      "A5_score           0.520985\n",
      "A4_score           0.508243\n",
      "A3_score           0.462104\n",
      "A10_score          0.421044\n",
      "A7_score           0.347273\n",
      "A1_score           0.290603\n",
      "A2_score           0.285832\n",
      "A8_score           0.275809\n",
      "age_num            0.102379\n",
      "Name: class, dtype: float64\n"
     ]
    }
   ],
   "source": [
    "#Obtenemos el coeficiente de correlación lineal (Pearson) de las variables independientes numéricas con el target\n",
    "\n",
    "corr = np.abs(data.corr()[\"class\"]).sort_values(ascending = False)\n",
    "print(corr)\n"
   ]
  },
  {
   "cell_type": "code",
   "execution_count": 16,
   "metadata": {},
   "outputs": [
    {
     "data": {
      "image/png": "[encoded data removed]",
      "text/plain": [
       "<Figure size 720x720 with 2 Axes>"
      ]
     },
     "metadata": {
      "needs_background": "light"
     },
     "output_type": "display_data"
    }
   ],
   "source": [
    "#Mostramos la correlación en un heatmap\n",
    "\n",
    "plt.figure(figsize=(10,10))\n",
    "\n",
    "sns.heatmap(data.corr(),\n",
    "            vmin=-1,\n",
    "            vmax=1,\n",
    "            center=0,\n",
    "            cmap=sns.diverging_palette(220, 20, as_cmap=True),\n",
    "            square=True,\n",
    "            annot=True,\n",
    "            linewidths=.5);"
   ]
  },
  {
   "cell_type": "markdown",
   "metadata": {},
   "source": [
    "Observamos que existen 7 variables numéricas con una correlación con el target superior al 0.4, por este orden:\n",
    "    \n",
    "+ screening_score    0.834223 - Puntuación resultante del método de screening.\n",
    "+ A9_score           0.596497 - *9.\tI find easy to work out what someone is thinking or feeling just by looking at their face.*\n",
    "+ A6_score           0.567634 - *6.\tI know how to tell if someone listening to me is getting bored*\n",
    "+ A5_score           0.520985 - *5.\tI find it easy to read between the lines when someone is talking to me.* \n",
    "+ A4_score           0.508243 - *4.\tIf there is an interruption, I can switch back to what I was doing very quickly.*\n",
    "+ A3_score           0.462104 - *3.\tI find it easy to do more than one thing at once.*\n",
    "+ A10_score          0.421044 - *10. I find it difficult to work out people´s intentions*"
   ]
  },
  {
   "cell_type": "markdown",
   "metadata": {},
   "source": [
    "Para poder visualizar la correlacion de las variables categóricas con el target utilizamos una matriz de Phick en lugar del coeficiente de correlación de Pearson, que éstá limitado a las variables numéricas. Como son muchas variables en total, para que no me salga un heatmap imposible de entender voy a tomar para el Phick sólo las columnas categóricas."
   ]
  },
  {
   "cell_type": "code",
   "execution_count": 17,
   "metadata": {},
   "outputs": [
    {
     "data": {
      "text/html": [
       "<div>\n",
       "<style scoped>\n",
       "    .dataframe tbody tr th:only-of-type {\n",
       "        vertical-align: middle;\n",
       "    }\n",
       "\n",
       "    .dataframe tbody tr th {\n",
       "        vertical-align: top;\n",
       "    }\n",
       "\n",
       "    .dataframe thead th {\n",
       "        text-align: right;\n",
       "    }\n",
       "</style>\n",
       "<table border=\"1\" class=\"dataframe\">\n",
       "  <thead>\n",
       "    <tr style=\"text-align: right;\">\n",
       "      <th></th>\n",
       "      <th>sex</th>\n",
       "      <th>ethnicity</th>\n",
       "      <th>jaundice</th>\n",
       "      <th>fam_history_PDD</th>\n",
       "      <th>country_of_res</th>\n",
       "      <th>used_app_before</th>\n",
       "      <th>age_desc</th>\n",
       "      <th>relation</th>\n",
       "      <th>class</th>\n",
       "    </tr>\n",
       "  </thead>\n",
       "  <tbody>\n",
       "    <tr>\n",
       "      <th>0</th>\n",
       "      <td>f</td>\n",
       "      <td>White-European</td>\n",
       "      <td>no</td>\n",
       "      <td>no</td>\n",
       "      <td>'United States'</td>\n",
       "      <td>no</td>\n",
       "      <td>'18 and more'</td>\n",
       "      <td>Self</td>\n",
       "      <td>0</td>\n",
       "    </tr>\n",
       "    <tr>\n",
       "      <th>1</th>\n",
       "      <td>m</td>\n",
       "      <td>Latino</td>\n",
       "      <td>no</td>\n",
       "      <td>yes</td>\n",
       "      <td>Brazil</td>\n",
       "      <td>no</td>\n",
       "      <td>'18 and more'</td>\n",
       "      <td>Self</td>\n",
       "      <td>0</td>\n",
       "    </tr>\n",
       "    <tr>\n",
       "      <th>2</th>\n",
       "      <td>m</td>\n",
       "      <td>Latino</td>\n",
       "      <td>yes</td>\n",
       "      <td>yes</td>\n",
       "      <td>Spain</td>\n",
       "      <td>no</td>\n",
       "      <td>'18 and more'</td>\n",
       "      <td>Parent</td>\n",
       "      <td>1</td>\n",
       "    </tr>\n",
       "    <tr>\n",
       "      <th>3</th>\n",
       "      <td>f</td>\n",
       "      <td>White-European</td>\n",
       "      <td>no</td>\n",
       "      <td>yes</td>\n",
       "      <td>'United States'</td>\n",
       "      <td>no</td>\n",
       "      <td>'18 and more'</td>\n",
       "      <td>Self</td>\n",
       "      <td>0</td>\n",
       "    </tr>\n",
       "    <tr>\n",
       "      <th>4</th>\n",
       "      <td>f</td>\n",
       "      <td>NaN</td>\n",
       "      <td>no</td>\n",
       "      <td>no</td>\n",
       "      <td>Egypt</td>\n",
       "      <td>no</td>\n",
       "      <td>'18 and more'</td>\n",
       "      <td>NaN</td>\n",
       "      <td>0</td>\n",
       "    </tr>\n",
       "    <tr>\n",
       "      <th>...</th>\n",
       "      <td>...</td>\n",
       "      <td>...</td>\n",
       "      <td>...</td>\n",
       "      <td>...</td>\n",
       "      <td>...</td>\n",
       "      <td>...</td>\n",
       "      <td>...</td>\n",
       "      <td>...</td>\n",
       "      <td>...</td>\n",
       "    </tr>\n",
       "    <tr>\n",
       "      <th>1095</th>\n",
       "      <td>f</td>\n",
       "      <td>White-European</td>\n",
       "      <td>yes</td>\n",
       "      <td>yes</td>\n",
       "      <td>'United Kingdom'</td>\n",
       "      <td>no</td>\n",
       "      <td>'4-11 years'</td>\n",
       "      <td>Parent</td>\n",
       "      <td>1</td>\n",
       "    </tr>\n",
       "    <tr>\n",
       "      <th>1096</th>\n",
       "      <td>f</td>\n",
       "      <td>White-European</td>\n",
       "      <td>yes</td>\n",
       "      <td>yes</td>\n",
       "      <td>Australia</td>\n",
       "      <td>no</td>\n",
       "      <td>'4-11 years'</td>\n",
       "      <td>Parent</td>\n",
       "      <td>0</td>\n",
       "    </tr>\n",
       "    <tr>\n",
       "      <th>1097</th>\n",
       "      <td>m</td>\n",
       "      <td>Latino</td>\n",
       "      <td>no</td>\n",
       "      <td>no</td>\n",
       "      <td>Brazil</td>\n",
       "      <td>no</td>\n",
       "      <td>'4-11 years'</td>\n",
       "      <td>Parent</td>\n",
       "      <td>1</td>\n",
       "    </tr>\n",
       "    <tr>\n",
       "      <th>1098</th>\n",
       "      <td>m</td>\n",
       "      <td>'South Asian'</td>\n",
       "      <td>no</td>\n",
       "      <td>no</td>\n",
       "      <td>India</td>\n",
       "      <td>no</td>\n",
       "      <td>'4-11 years'</td>\n",
       "      <td>Parent</td>\n",
       "      <td>1</td>\n",
       "    </tr>\n",
       "    <tr>\n",
       "      <th>1099</th>\n",
       "      <td>f</td>\n",
       "      <td>'South Asian'</td>\n",
       "      <td>no</td>\n",
       "      <td>no</td>\n",
       "      <td>India</td>\n",
       "      <td>no</td>\n",
       "      <td>'4-11 years'</td>\n",
       "      <td>Parent</td>\n",
       "      <td>0</td>\n",
       "    </tr>\n",
       "  </tbody>\n",
       "</table>\n",
       "<p>1100 rows × 9 columns</p>\n",
       "</div>"
      ],
      "text/plain": [
       "     sex       ethnicity jaundice fam_history_PDD    country_of_res  \\\n",
       "0      f  White-European       no              no   'United States'   \n",
       "1      m          Latino       no             yes            Brazil   \n",
       "2      m          Latino      yes             yes             Spain   \n",
       "3      f  White-European       no             yes   'United States'   \n",
       "4      f             NaN       no              no             Egypt   \n",
       "...   ..             ...      ...             ...               ...   \n",
       "1095   f  White-European      yes             yes  'United Kingdom'   \n",
       "1096   f  White-European      yes             yes         Australia   \n",
       "1097   m          Latino       no              no            Brazil   \n",
       "1098   m   'South Asian'       no              no             India   \n",
       "1099   f   'South Asian'       no              no             India   \n",
       "\n",
       "     used_app_before       age_desc relation  class  \n",
       "0                 no  '18 and more'     Self      0  \n",
       "1                 no  '18 and more'     Self      0  \n",
       "2                 no  '18 and more'   Parent      1  \n",
       "3                 no  '18 and more'     Self      0  \n",
       "4                 no  '18 and more'      NaN      0  \n",
       "...              ...            ...      ...    ...  \n",
       "1095              no   '4-11 years'   Parent      1  \n",
       "1096              no   '4-11 years'   Parent      0  \n",
       "1097              no   '4-11 years'   Parent      1  \n",
       "1098              no   '4-11 years'   Parent      1  \n",
       "1099              no   '4-11 years'   Parent      0  \n",
       "\n",
       "[1100 rows x 9 columns]"
      ]
     },
     "execution_count": 17,
     "metadata": {},
     "output_type": "execute_result"
    }
   ],
   "source": [
    "categoricas = data[['sex', 'ethnicity', 'jaundice', 'fam_history_PDD', 'country_of_res',\n",
    "                        'used_app_before','age_desc', 'relation',\"class\"]]\n",
    "\n",
    "categoricas\n"
   ]
  },
  {
   "cell_type": "code",
   "execution_count": 18,
   "metadata": {},
   "outputs": [
    {
     "name": "stdout",
     "output_type": "stream",
     "text": [
      "interval columns not set, guessing: ['class']\n"
     ]
    },
    {
     "data": {
      "image/png": "[encoded data removed]",
      "text/plain": [
       "<Figure size 720x720 with 2 Axes>"
      ]
     },
     "metadata": {
      "needs_background": "light"
     },
     "output_type": "display_data"
    }
   ],
   "source": [
    "import phik\n",
    "phik_matrix = categoricas.phik_matrix()\n",
    "\n",
    "plt.figure(figsize=(10,10))\n",
    "\n",
    "sns.heatmap(phik_matrix,\n",
    "            vmin=-1,\n",
    "            vmax=1,\n",
    "            center=0,\n",
    "            cmap=sns.diverging_palette(220, 20, as_cmap=True),\n",
    "            square=True,\n",
    "            annot=True,\n",
    "            linewidths=.5);\n"
   ]
  },
  {
   "cell_type": "code",
   "execution_count": 19,
   "metadata": {},
   "outputs": [
    {
     "data": {
      "text/plain": [
       "<AxesSubplot:xlabel='sex', ylabel='count'>"
      ]
     },
     "execution_count": 19,
     "metadata": {},
     "output_type": "execute_result"
    },
    {
     "data": {
      "image/png": "[encoded data removed]",
      "text/plain": [
       "<Figure size 432x288 with 1 Axes>"
      ]
     },
     "metadata": {
      "needs_background": "light"
     },
     "output_type": "display_data"
    }
   ],
   "source": [
    "sns.countplot(data = data, x = \"sex\")"
   ]
  },
  {
   "cell_type": "markdown",
   "metadata": {},
   "source": [
    "Me sorprende que la variable sexo no tenga correlación lineal con el target, esperaba que la tuviese. También me sorprende  baja correlación lineal de las variables jaundice y fam_history_PDD.\n",
    "No obstante, por ahora las mantengo. \n",
    "\n",
    "***Sí que elimino, por el contrario, la variable used_app_before***"
   ]
  },
  {
   "cell_type": "markdown",
   "metadata": {},
   "source": [
    "#### 4. Reducción preliminar"
   ]
  },
  {
   "cell_type": "markdown",
   "metadata": {},
   "source": [
    "##### 4.1 Variable *used_app_before*"
   ]
  },
  {
   "cell_type": "code",
   "execution_count": 20,
   "metadata": {},
   "outputs": [],
   "source": [
    "# Reducción preliminar de features sobre X_train:\n",
    "\n",
    "data.drop(columns = [\"used_app_before\"], inplace = True)    "
   ]
  },
  {
   "cell_type": "markdown",
   "metadata": {},
   "source": [
    "##### 4.2 Variables  *A1_score', 'A2_score', 'A3_score', 'A4_score', 'A5_score', 'A6_score','A7_score', 'A8_score', 'A9_score', 'A10_score' y screening_score*"
   ]
  },
  {
   "cell_type": "markdown",
   "metadata": {},
   "source": [
    "Estas variables representan diez indicadores de comportamiento (behavioural features) definidos en el método de screening\n",
    "aplicado por los autores del dataset. Se basan en las respuestas dadas por las personas objeto del screening \n",
    "a un cuestionario de 10 preguntas. Se trata de variables categóricas cuyo valor puede ser 0 o 1 (tipo numérico).  \n",
    "La variable \"screening_score\" recoge la puntuación resultante del método de screening y es la suma de los valores positivos de las variables score A1 a A10. Tiene un coeficiente de correlación de Pearson con el target de 0.834223."
   ]
  },
  {
   "cell_type": "code",
   "execution_count": 21,
   "metadata": {},
   "outputs": [
    {
     "data": {
      "image/png": "[encoded data removed]",
      "text/plain": [
       "<Figure size 432x288 with 1 Axes>"
      ]
     },
     "metadata": {
      "needs_background": "light"
     },
     "output_type": "display_data"
    }
   ],
   "source": [
    "#Relación variable screening score y target\n",
    "scree_class = raw_data[[\"screening_score\", \"class\"]]\n",
    "\n",
    "sns.scatterplot(data=scree_class, x= \"screening_score\",y=\"class\",legend=True) \n",
    "ax= sns.set(style=\"whitegrid\")\n",
    "\n",
    "#CÓMO PONGO LOS NÚMEROS DEL 1 AL 10 EN EL EJE X!!!!??????\n"
   ]
  },
  {
   "cell_type": "raw",
   "metadata": {},
   "source": [
    "A la vista de lo anterior, no necesitamos un modelo de machine learning para determinar la clase que corresponde a cada instancia. \n",
    "Un screening_score entre 1 y 6, ambos inclusive, significa que la clase es 0 o no autismo, y un screening_score de 7 a 10. ambos inclusive, arroja una clase de 1 o si autismo. \n",
    "\n",
    "Elimino la variables relacionadas con el cuestionario para ver si es posible implementar un modelo que permita predecir la clase razonablemente a características individuales, sin que la persona tenga que rellenar  el cuestionario.Aplicando el modelo de regresión logística sobre el dataset configurado de esta manera arroja la siguientes metricas de accuracy:\n",
    "Acc train: 0.6868571428571428\n",
    "Acc test: 0.6529680365296804\n",
    "\n",
    "Viendo su correlación con el target \"clase\" y este resultado del modelo, concluyo que las variables de características individuales no serían suficientes para predecir la clase. \n",
    "\n",
    "Vuelvo a incorporar las variables A1_score a A_10 score al dataset y localizo cuales tienen mayor impacto sobre la determinación de la clase utilizando un Recursive feature elimination más adelante. El objetivo es conseguir un modelo con una buena capacidad de predicción reduciendo lo máximo posible la cantidad de preguntas del cuestionario necesarias para predecir la clase para cada instancia.\n"
   ]
  },
  {
   "cell_type": "code",
   "execution_count": 22,
   "metadata": {},
   "outputs": [
    {
     "data": {
      "text/html": [
       "<div>\n",
       "<style scoped>\n",
       "    .dataframe tbody tr th:only-of-type {\n",
       "        vertical-align: middle;\n",
       "    }\n",
       "\n",
       "    .dataframe tbody tr th {\n",
       "        vertical-align: top;\n",
       "    }\n",
       "\n",
       "    .dataframe thead th {\n",
       "        text-align: right;\n",
       "    }\n",
       "</style>\n",
       "<table border=\"1\" class=\"dataframe\">\n",
       "  <thead>\n",
       "    <tr style=\"text-align: right;\">\n",
       "      <th></th>\n",
       "      <th>A1_score</th>\n",
       "      <th>A2_score</th>\n",
       "      <th>A3_score</th>\n",
       "      <th>A4_score</th>\n",
       "      <th>A5_score</th>\n",
       "      <th>A6_score</th>\n",
       "      <th>A7_score</th>\n",
       "      <th>A8_score</th>\n",
       "      <th>A9_score</th>\n",
       "      <th>A10_score</th>\n",
       "      <th>sex</th>\n",
       "      <th>ethnicity</th>\n",
       "      <th>jaundice</th>\n",
       "      <th>fam_history_PDD</th>\n",
       "      <th>country_of_res</th>\n",
       "      <th>age_num</th>\n",
       "      <th>age_desc</th>\n",
       "      <th>relation</th>\n",
       "      <th>class</th>\n",
       "    </tr>\n",
       "  </thead>\n",
       "  <tbody>\n",
       "    <tr>\n",
       "      <th>0</th>\n",
       "      <td>1</td>\n",
       "      <td>1</td>\n",
       "      <td>1</td>\n",
       "      <td>1</td>\n",
       "      <td>0</td>\n",
       "      <td>0</td>\n",
       "      <td>1</td>\n",
       "      <td>1</td>\n",
       "      <td>0</td>\n",
       "      <td>0</td>\n",
       "      <td>f</td>\n",
       "      <td>White-European</td>\n",
       "      <td>no</td>\n",
       "      <td>no</td>\n",
       "      <td>'United States'</td>\n",
       "      <td>26.0</td>\n",
       "      <td>'18 and more'</td>\n",
       "      <td>Self</td>\n",
       "      <td>0</td>\n",
       "    </tr>\n",
       "    <tr>\n",
       "      <th>1</th>\n",
       "      <td>1</td>\n",
       "      <td>1</td>\n",
       "      <td>0</td>\n",
       "      <td>1</td>\n",
       "      <td>0</td>\n",
       "      <td>0</td>\n",
       "      <td>0</td>\n",
       "      <td>1</td>\n",
       "      <td>0</td>\n",
       "      <td>1</td>\n",
       "      <td>m</td>\n",
       "      <td>Latino</td>\n",
       "      <td>no</td>\n",
       "      <td>yes</td>\n",
       "      <td>Brazil</td>\n",
       "      <td>24.0</td>\n",
       "      <td>'18 and more'</td>\n",
       "      <td>Self</td>\n",
       "      <td>0</td>\n",
       "    </tr>\n",
       "    <tr>\n",
       "      <th>2</th>\n",
       "      <td>1</td>\n",
       "      <td>1</td>\n",
       "      <td>0</td>\n",
       "      <td>1</td>\n",
       "      <td>1</td>\n",
       "      <td>0</td>\n",
       "      <td>1</td>\n",
       "      <td>1</td>\n",
       "      <td>1</td>\n",
       "      <td>1</td>\n",
       "      <td>m</td>\n",
       "      <td>Latino</td>\n",
       "      <td>yes</td>\n",
       "      <td>yes</td>\n",
       "      <td>Spain</td>\n",
       "      <td>27.0</td>\n",
       "      <td>'18 and more'</td>\n",
       "      <td>Parent</td>\n",
       "      <td>1</td>\n",
       "    </tr>\n",
       "    <tr>\n",
       "      <th>3</th>\n",
       "      <td>1</td>\n",
       "      <td>1</td>\n",
       "      <td>0</td>\n",
       "      <td>1</td>\n",
       "      <td>0</td>\n",
       "      <td>0</td>\n",
       "      <td>1</td>\n",
       "      <td>1</td>\n",
       "      <td>0</td>\n",
       "      <td>1</td>\n",
       "      <td>f</td>\n",
       "      <td>White-European</td>\n",
       "      <td>no</td>\n",
       "      <td>yes</td>\n",
       "      <td>'United States'</td>\n",
       "      <td>35.0</td>\n",
       "      <td>'18 and more'</td>\n",
       "      <td>Self</td>\n",
       "      <td>0</td>\n",
       "    </tr>\n",
       "    <tr>\n",
       "      <th>4</th>\n",
       "      <td>1</td>\n",
       "      <td>0</td>\n",
       "      <td>0</td>\n",
       "      <td>0</td>\n",
       "      <td>0</td>\n",
       "      <td>0</td>\n",
       "      <td>0</td>\n",
       "      <td>1</td>\n",
       "      <td>0</td>\n",
       "      <td>0</td>\n",
       "      <td>f</td>\n",
       "      <td>NaN</td>\n",
       "      <td>no</td>\n",
       "      <td>no</td>\n",
       "      <td>Egypt</td>\n",
       "      <td>40.0</td>\n",
       "      <td>'18 and more'</td>\n",
       "      <td>NaN</td>\n",
       "      <td>0</td>\n",
       "    </tr>\n",
       "    <tr>\n",
       "      <th>...</th>\n",
       "      <td>...</td>\n",
       "      <td>...</td>\n",
       "      <td>...</td>\n",
       "      <td>...</td>\n",
       "      <td>...</td>\n",
       "      <td>...</td>\n",
       "      <td>...</td>\n",
       "      <td>...</td>\n",
       "      <td>...</td>\n",
       "      <td>...</td>\n",
       "      <td>...</td>\n",
       "      <td>...</td>\n",
       "      <td>...</td>\n",
       "      <td>...</td>\n",
       "      <td>...</td>\n",
       "      <td>...</td>\n",
       "      <td>...</td>\n",
       "      <td>...</td>\n",
       "      <td>...</td>\n",
       "    </tr>\n",
       "    <tr>\n",
       "      <th>1095</th>\n",
       "      <td>1</td>\n",
       "      <td>1</td>\n",
       "      <td>1</td>\n",
       "      <td>1</td>\n",
       "      <td>1</td>\n",
       "      <td>1</td>\n",
       "      <td>1</td>\n",
       "      <td>1</td>\n",
       "      <td>1</td>\n",
       "      <td>1</td>\n",
       "      <td>f</td>\n",
       "      <td>White-European</td>\n",
       "      <td>yes</td>\n",
       "      <td>yes</td>\n",
       "      <td>'United Kingdom'</td>\n",
       "      <td>7.0</td>\n",
       "      <td>'4-11 years'</td>\n",
       "      <td>Parent</td>\n",
       "      <td>1</td>\n",
       "    </tr>\n",
       "    <tr>\n",
       "      <th>1096</th>\n",
       "      <td>1</td>\n",
       "      <td>0</td>\n",
       "      <td>0</td>\n",
       "      <td>0</td>\n",
       "      <td>1</td>\n",
       "      <td>0</td>\n",
       "      <td>1</td>\n",
       "      <td>0</td>\n",
       "      <td>0</td>\n",
       "      <td>1</td>\n",
       "      <td>f</td>\n",
       "      <td>White-European</td>\n",
       "      <td>yes</td>\n",
       "      <td>yes</td>\n",
       "      <td>Australia</td>\n",
       "      <td>7.0</td>\n",
       "      <td>'4-11 years'</td>\n",
       "      <td>Parent</td>\n",
       "      <td>0</td>\n",
       "    </tr>\n",
       "    <tr>\n",
       "      <th>1097</th>\n",
       "      <td>1</td>\n",
       "      <td>0</td>\n",
       "      <td>1</td>\n",
       "      <td>1</td>\n",
       "      <td>1</td>\n",
       "      <td>1</td>\n",
       "      <td>1</td>\n",
       "      <td>0</td>\n",
       "      <td>0</td>\n",
       "      <td>1</td>\n",
       "      <td>m</td>\n",
       "      <td>Latino</td>\n",
       "      <td>no</td>\n",
       "      <td>no</td>\n",
       "      <td>Brazil</td>\n",
       "      <td>4.0</td>\n",
       "      <td>'4-11 years'</td>\n",
       "      <td>Parent</td>\n",
       "      <td>1</td>\n",
       "    </tr>\n",
       "    <tr>\n",
       "      <th>1098</th>\n",
       "      <td>1</td>\n",
       "      <td>1</td>\n",
       "      <td>1</td>\n",
       "      <td>0</td>\n",
       "      <td>1</td>\n",
       "      <td>1</td>\n",
       "      <td>1</td>\n",
       "      <td>1</td>\n",
       "      <td>1</td>\n",
       "      <td>1</td>\n",
       "      <td>m</td>\n",
       "      <td>'South Asian'</td>\n",
       "      <td>no</td>\n",
       "      <td>no</td>\n",
       "      <td>India</td>\n",
       "      <td>4.0</td>\n",
       "      <td>'4-11 years'</td>\n",
       "      <td>Parent</td>\n",
       "      <td>1</td>\n",
       "    </tr>\n",
       "    <tr>\n",
       "      <th>1099</th>\n",
       "      <td>0</td>\n",
       "      <td>0</td>\n",
       "      <td>1</td>\n",
       "      <td>0</td>\n",
       "      <td>1</td>\n",
       "      <td>0</td>\n",
       "      <td>1</td>\n",
       "      <td>0</td>\n",
       "      <td>0</td>\n",
       "      <td>0</td>\n",
       "      <td>f</td>\n",
       "      <td>'South Asian'</td>\n",
       "      <td>no</td>\n",
       "      <td>no</td>\n",
       "      <td>India</td>\n",
       "      <td>4.0</td>\n",
       "      <td>'4-11 years'</td>\n",
       "      <td>Parent</td>\n",
       "      <td>0</td>\n",
       "    </tr>\n",
       "  </tbody>\n",
       "</table>\n",
       "<p>1100 rows × 19 columns</p>\n",
       "</div>"
      ],
      "text/plain": [
       "      A1_score  A2_score  A3_score  A4_score  A5_score  A6_score  A7_score  \\\n",
       "0            1         1         1         1         0         0         1   \n",
       "1            1         1         0         1         0         0         0   \n",
       "2            1         1         0         1         1         0         1   \n",
       "3            1         1         0         1         0         0         1   \n",
       "4            1         0         0         0         0         0         0   \n",
       "...        ...       ...       ...       ...       ...       ...       ...   \n",
       "1095         1         1         1         1         1         1         1   \n",
       "1096         1         0         0         0         1         0         1   \n",
       "1097         1         0         1         1         1         1         1   \n",
       "1098         1         1         1         0         1         1         1   \n",
       "1099         0         0         1         0         1         0         1   \n",
       "\n",
       "      A8_score  A9_score  A10_score sex       ethnicity jaundice  \\\n",
       "0            1         0          0   f  White-European       no   \n",
       "1            1         0          1   m          Latino       no   \n",
       "2            1         1          1   m          Latino      yes   \n",
       "3            1         0          1   f  White-European       no   \n",
       "4            1         0          0   f             NaN       no   \n",
       "...        ...       ...        ...  ..             ...      ...   \n",
       "1095         1         1          1   f  White-European      yes   \n",
       "1096         0         0          1   f  White-European      yes   \n",
       "1097         0         0          1   m          Latino       no   \n",
       "1098         1         1          1   m   'South Asian'       no   \n",
       "1099         0         0          0   f   'South Asian'       no   \n",
       "\n",
       "     fam_history_PDD    country_of_res  age_num       age_desc relation  class  \n",
       "0                 no   'United States'     26.0  '18 and more'     Self      0  \n",
       "1                yes            Brazil     24.0  '18 and more'     Self      0  \n",
       "2                yes             Spain     27.0  '18 and more'   Parent      1  \n",
       "3                yes   'United States'     35.0  '18 and more'     Self      0  \n",
       "4                 no             Egypt     40.0  '18 and more'      NaN      0  \n",
       "...              ...               ...      ...            ...      ...    ...  \n",
       "1095             yes  'United Kingdom'      7.0   '4-11 years'   Parent      1  \n",
       "1096             yes         Australia      7.0   '4-11 years'   Parent      0  \n",
       "1097              no            Brazil      4.0   '4-11 years'   Parent      1  \n",
       "1098              no             India      4.0   '4-11 years'   Parent      1  \n",
       "1099              no             India      4.0   '4-11 years'   Parent      0  \n",
       "\n",
       "[1100 rows x 19 columns]"
      ]
     },
     "execution_count": 22,
     "metadata": {},
     "output_type": "execute_result"
    }
   ],
   "source": [
    "#data.drop(columns = ['A1_score', 'A2_score', 'A3_score', 'A4_score', 'A5_score', 'A6_score','A7_score', 'A8_score', 'A9_score', 'A10_score', \"screening_score\"], axis = \"columns\", inplace = True)  \n",
    "\n",
    "data.drop(columns = [\"screening_score\"], axis = 1, inplace = True)  \n",
    "\n",
    "data\n"
   ]
  },
  {
   "cell_type": "markdown",
   "metadata": {},
   "source": [
    "### 5. Análisis univariante"
   ]
  },
  {
   "cell_type": "markdown",
   "metadata": {},
   "source": [
    "#### 5.3 Sex, ethnicity, jaundice, fam_history_PDD, country_of_res, age_desc, relation"
   ]
  },
  {
   "cell_type": "markdown",
   "metadata": {},
   "source": [
    "Son variables categóricas, tendré que transformarlas para pasarlas a numéricas y poder usarlas en los modelos de machine learning.\n",
    "Arrojan una correlación lineal baja con el target. Sex, en particular, arroja un correlación lineal de cero con el target. La correlación lineal más alta corresponde a *country of residence* (0.49), pero puede explicarse por la mayor capacidad de detección y atención de unos países respecto de otros en relación con los TEA."
   ]
  },
  {
   "cell_type": "markdown",
   "metadata": {},
   "source": [
    "#### 5.4 Age-number"
   ]
  },
  {
   "cell_type": "markdown",
   "metadata": {},
   "source": [
    "Es una variable numérica que no muestra correlación lineal con el target.\n",
    "Contiene un error, no tiene sentido un valor máximo de 383 años. \n",
    "Ordeno e imprimo los valores por pantalla y hago un boxplot para confirmar que no hay más errores en la variable."
   ]
  },
  {
   "cell_type": "code",
   "execution_count": 23,
   "metadata": {},
   "outputs": [
    {
     "data": {
      "text/plain": [
       "52     383.0\n",
       "7       64.0\n",
       "495     61.0\n",
       "431     61.0\n",
       "203     60.0\n",
       "       ...  \n",
       "91       NaN\n",
       "840      NaN\n",
       "873      NaN\n",
       "934      NaN\n",
       "946      NaN\n",
       "Name: age_num, Length: 1100, dtype: float64"
      ]
     },
     "execution_count": 23,
     "metadata": {},
     "output_type": "execute_result"
    }
   ],
   "source": [
    "data[\"age_num\"].sort_values(ascending = False)"
   ]
  },
  {
   "cell_type": "code",
   "execution_count": 24,
   "metadata": {},
   "outputs": [
    {
     "data": {
      "text/plain": [
       "<AxesSubplot:xlabel='age_num'>"
      ]
     },
     "execution_count": 24,
     "metadata": {},
     "output_type": "execute_result"
    },
    {
     "data": {
      "image/png": "[encoded data removed]",
      "text/plain": [
       "<Figure size 432x288 with 1 Axes>"
      ]
     },
     "metadata": {},
     "output_type": "display_data"
    }
   ],
   "source": [
    "sns.boxplot(x='age_num', data=data)\n",
    "\n",
    "#Viendo esta información parece que la variable solo contiene un error."
   ]
  },
  {
   "cell_type": "markdown",
   "metadata": {},
   "source": [
    "## II Preprocessing \n",
    "\n",
    "### 1.Limpieza de X_train\n",
    "\n",
    "La primera medida, que ya se ha realizado con anterioridad, ha sido la eliminación de la variable \"used_app_before\", con correlación lineal de 0 con el target."
   ]
  },
  {
   "cell_type": "code",
   "execution_count": 25,
   "metadata": {},
   "outputs": [
    {
     "name": "stdout",
     "output_type": "stream",
     "text": [
      "(1100, 19)\n"
     ]
    }
   ],
   "source": [
    "print(data.shape)"
   ]
  },
  {
   "cell_type": "code",
   "execution_count": 26,
   "metadata": {},
   "outputs": [
    {
     "data": {
      "text/plain": [
       "False    1094\n",
       "True        6\n",
       "Name: age_num, dtype: int64"
      ]
     },
     "execution_count": 26,
     "metadata": {},
     "output_type": "execute_result"
    }
   ],
   "source": [
    "data['age_num'].isna().value_counts()"
   ]
  },
  {
   "cell_type": "markdown",
   "metadata": {},
   "source": [
    "### 1.1 Errores"
   ]
  },
  {
   "cell_type": "markdown",
   "metadata": {},
   "source": [
    "La variable age_num contiene un error, una valor de 383 años. Se sustituye por la media de su categoría de edad "
   ]
  },
  {
   "cell_type": "code",
   "execution_count": 27,
   "metadata": {},
   "outputs": [
    {
     "data": {
      "text/plain": [
       "age_desc\n",
       "'12-15 years'    15.000000\n",
       "'12-16 years'    14.072165\n",
       "'18 and more'    29.698006\n",
       "'4-11 years'      6.354167\n",
       "Name: age_num, dtype: float64"
      ]
     },
     "execution_count": 27,
     "metadata": {},
     "output_type": "execute_result"
    }
   ],
   "source": [
    "data.groupby(\"age_desc\")[\"age_num\"].mean()"
   ]
  },
  {
   "cell_type": "code",
   "execution_count": 28,
   "metadata": {},
   "outputs": [],
   "source": [
    "#Sustituimos el error por la media de edad en su rango (ya pasada a entero), que es \"18 and more\"\n",
    "data[\"age_num\"].groupby\n",
    "\n",
    "data[\"age_num\"].isin([383])\n",
    "\n",
    "data[\"age_num\"] = data[\"age_num\"].replace(383.0,29)"
   ]
  },
  {
   "cell_type": "code",
   "execution_count": 29,
   "metadata": {},
   "outputs": [
    {
     "data": {
      "text/plain": [
       "64.0"
      ]
     },
     "execution_count": 29,
     "metadata": {},
     "output_type": "execute_result"
    }
   ],
   "source": [
    "#compruebo que el error ha desaparecido\n",
    "data[\"age_num\"].max()"
   ]
  },
  {
   "cell_type": "code",
   "execution_count": 30,
   "metadata": {},
   "outputs": [
    {
     "data": {
      "text/plain": [
       "False    1094\n",
       "True        6\n",
       "Name: age_num, dtype: int64"
      ]
     },
     "execution_count": 30,
     "metadata": {},
     "output_type": "execute_result"
    }
   ],
   "source": [
    "data['age_num'].isna().value_counts()"
   ]
  },
  {
   "cell_type": "markdown",
   "metadata": {},
   "source": [
    "### 1.2 Missings \n",
    "Las variables \"ethnicity\", \"age_num\" y \"relation\" contienen missings. Sacamos el porcentaje de missings para tomar decisiones."
   ]
  },
  {
   "cell_type": "code",
   "execution_count": 31,
   "metadata": {},
   "outputs": [
    {
     "data": {
      "text/html": [
       "<div>\n",
       "<style scoped>\n",
       "    .dataframe tbody tr th:only-of-type {\n",
       "        vertical-align: middle;\n",
       "    }\n",
       "\n",
       "    .dataframe tbody tr th {\n",
       "        vertical-align: top;\n",
       "    }\n",
       "\n",
       "    .dataframe thead th {\n",
       "        text-align: right;\n",
       "    }\n",
       "</style>\n",
       "<table border=\"1\" class=\"dataframe\">\n",
       "  <thead>\n",
       "    <tr style=\"text-align: right;\">\n",
       "      <th>COL_N</th>\n",
       "      <th>A9_score</th>\n",
       "      <th>A10_score</th>\n",
       "      <th>sex</th>\n",
       "      <th>ethnicity</th>\n",
       "      <th>jaundice</th>\n",
       "      <th>fam_history_PDD</th>\n",
       "      <th>country_of_res</th>\n",
       "      <th>age_num</th>\n",
       "      <th>age_desc</th>\n",
       "      <th>relation</th>\n",
       "      <th>class</th>\n",
       "    </tr>\n",
       "  </thead>\n",
       "  <tbody>\n",
       "    <tr>\n",
       "      <th>DATA_TYPE</th>\n",
       "      <td>int64</td>\n",
       "      <td>int64</td>\n",
       "      <td>object</td>\n",
       "      <td>object</td>\n",
       "      <td>object</td>\n",
       "      <td>object</td>\n",
       "      <td>object</td>\n",
       "      <td>float64</td>\n",
       "      <td>object</td>\n",
       "      <td>object</td>\n",
       "      <td>int64</td>\n",
       "    </tr>\n",
       "    <tr>\n",
       "      <th>MISSINGS (%)</th>\n",
       "      <td>0</td>\n",
       "      <td>0</td>\n",
       "      <td>0</td>\n",
       "      <td>13.09</td>\n",
       "      <td>0</td>\n",
       "      <td>0</td>\n",
       "      <td>0</td>\n",
       "      <td>0.55</td>\n",
       "      <td>0</td>\n",
       "      <td>13.09</td>\n",
       "      <td>0</td>\n",
       "    </tr>\n",
       "    <tr>\n",
       "      <th>UNIQUE_VALUES</th>\n",
       "      <td>2</td>\n",
       "      <td>2</td>\n",
       "      <td>2</td>\n",
       "      <td>11</td>\n",
       "      <td>2</td>\n",
       "      <td>2</td>\n",
       "      <td>89</td>\n",
       "      <td>58</td>\n",
       "      <td>4</td>\n",
       "      <td>6</td>\n",
       "      <td>2</td>\n",
       "    </tr>\n",
       "    <tr>\n",
       "      <th>CARDIN (%)</th>\n",
       "      <td>0.18</td>\n",
       "      <td>0.18</td>\n",
       "      <td>0.18</td>\n",
       "      <td>1</td>\n",
       "      <td>0.18</td>\n",
       "      <td>0.18</td>\n",
       "      <td>8.09</td>\n",
       "      <td>5.27</td>\n",
       "      <td>0.36</td>\n",
       "      <td>0.55</td>\n",
       "      <td>0.18</td>\n",
       "    </tr>\n",
       "  </tbody>\n",
       "</table>\n",
       "</div>"
      ],
      "text/plain": [
       "COL_N         A9_score A10_score     sex ethnicity jaundice fam_history_PDD  \\\n",
       "DATA_TYPE        int64     int64  object    object   object          object   \n",
       "MISSINGS (%)         0         0       0     13.09        0               0   \n",
       "UNIQUE_VALUES        2         2       2        11        2               2   \n",
       "CARDIN (%)        0.18      0.18    0.18         1     0.18            0.18   \n",
       "\n",
       "COL_N         country_of_res  age_num age_desc relation  class  \n",
       "DATA_TYPE             object  float64   object   object  int64  \n",
       "MISSINGS (%)               0     0.55        0    13.09      0  \n",
       "UNIQUE_VALUES             89       58        4        6      2  \n",
       "CARDIN (%)              8.09     5.27     0.36     0.55   0.18  "
      ]
     },
     "execution_count": 31,
     "metadata": {},
     "output_type": "execute_result"
    }
   ],
   "source": [
    "data_report(data.iloc[:,-11:])"
   ]
  },
  {
   "cell_type": "code",
   "execution_count": 32,
   "metadata": {},
   "outputs": [],
   "source": [
    "#Tenemos un 13.18% de missings en etnicity y relation, y sólo un 0,5% en age_num (3 valores)\n",
    "\n",
    "#Respecto de age_num, no puedo hacer un knn porque no tengo ninguna colunma numérica y aplicar un label encoder, pero asigna un orden a los datos y puede dar problemas \n",
    "#al aplicar los modelos de ml. Son sólo tres valores, lo mejor es cargárme las filas con missings en age_num.\n",
    "\n",
    "#en cuanto a las variables categóricas, en este la mejor opción es sustituirlas por la moda, es decir, por el valor más frecuente, que sí se admite en categóricas. \n",
    "#Es la solución que más se aplica en el caso de columnas categóricas. Si tuviera otras columnas numéricas podría usar un knn para precedir esos missings.\n"
   ]
  },
  {
   "cell_type": "code",
   "execution_count": 33,
   "metadata": {},
   "outputs": [
    {
     "name": "stdout",
     "output_type": "stream",
     "text": [
      "['White-European' 'Latino' nan 'Others' 'Black' 'Asian'\n",
      " \"'Middle Eastern '\" 'Pasifika' \"'South Asian'\" 'Hispanic' 'Turkish'\n",
      " 'others']\n",
      "0    White-European\n",
      "dtype: object\n"
     ]
    }
   ],
   "source": [
    "print(data[\"ethnicity\"].unique())\n",
    "\n",
    "print(data[\"ethnicity\"].mode())"
   ]
  },
  {
   "cell_type": "code",
   "execution_count": 34,
   "metadata": {},
   "outputs": [
    {
     "name": "stdout",
     "output_type": "stream",
     "text": [
      "['Self' 'Parent' nan \"'Health care professional'\" 'Relative' 'Others']\n",
      "0    Self\n",
      "dtype: object\n"
     ]
    }
   ],
   "source": [
    "#ojo que en \"relation\" tenemos además un problema con la inicial de self (unos están con mayúscula y otros con minúscula),\n",
    "#lo corrijo lo primero. \n",
    "data[\"relation\"] = data[\"relation\"].replace(\"self\",\"Self\")\n",
    "print(data[\"relation\"].unique())\n",
    "print(data[\"relation\"].mode())\n"
   ]
  },
  {
   "cell_type": "code",
   "execution_count": 35,
   "metadata": {},
   "outputs": [
    {
     "data": {
      "text/plain": [
       "False    1094\n",
       "True        6\n",
       "Name: age_num, dtype: int64"
      ]
     },
     "execution_count": 35,
     "metadata": {},
     "output_type": "execute_result"
    }
   ],
   "source": [
    "data['age_num'].isna().value_counts()"
   ]
  },
  {
   "cell_type": "code",
   "execution_count": 36,
   "metadata": {},
   "outputs": [],
   "source": [
    "#Creo una mascara para aplicarsela más adelante a y_train, pero al final divido más adelante.\n",
    "#mask_na = data['age_num'].isna()"
   ]
  },
  {
   "cell_type": "code",
   "execution_count": 37,
   "metadata": {},
   "outputs": [],
   "source": [
    "#ELIMINO LAS INSTANCIAS CON Nan en AGE NUM\n",
    "\n",
    "data = data.dropna(subset = [\"age_num\"])"
   ]
  },
  {
   "cell_type": "code",
   "execution_count": 38,
   "metadata": {},
   "outputs": [],
   "source": [
    "#fuerzo el tipo de age_num a int:\n",
    "data[\"age_num\"] = data[\"age_num\"].astype(int)"
   ]
  },
  {
   "cell_type": "code",
   "execution_count": 39,
   "metadata": {},
   "outputs": [
    {
     "data": {
      "text/html": [
       "<div>\n",
       "<style scoped>\n",
       "    .dataframe tbody tr th:only-of-type {\n",
       "        vertical-align: middle;\n",
       "    }\n",
       "\n",
       "    .dataframe tbody tr th {\n",
       "        vertical-align: top;\n",
       "    }\n",
       "\n",
       "    .dataframe thead th {\n",
       "        text-align: right;\n",
       "    }\n",
       "</style>\n",
       "<table border=\"1\" class=\"dataframe\">\n",
       "  <thead>\n",
       "    <tr style=\"text-align: right;\">\n",
       "      <th>COL_N</th>\n",
       "      <th>A9_score</th>\n",
       "      <th>A10_score</th>\n",
       "      <th>sex</th>\n",
       "      <th>ethnicity</th>\n",
       "      <th>jaundice</th>\n",
       "      <th>fam_history_PDD</th>\n",
       "      <th>country_of_res</th>\n",
       "      <th>age_num</th>\n",
       "      <th>age_desc</th>\n",
       "      <th>relation</th>\n",
       "      <th>class</th>\n",
       "    </tr>\n",
       "  </thead>\n",
       "  <tbody>\n",
       "    <tr>\n",
       "      <th>DATA_TYPE</th>\n",
       "      <td>int64</td>\n",
       "      <td>int64</td>\n",
       "      <td>object</td>\n",
       "      <td>object</td>\n",
       "      <td>object</td>\n",
       "      <td>object</td>\n",
       "      <td>object</td>\n",
       "      <td>int32</td>\n",
       "      <td>object</td>\n",
       "      <td>object</td>\n",
       "      <td>int64</td>\n",
       "    </tr>\n",
       "    <tr>\n",
       "      <th>MISSINGS (%)</th>\n",
       "      <td>0</td>\n",
       "      <td>0</td>\n",
       "      <td>0</td>\n",
       "      <td>12.71</td>\n",
       "      <td>0</td>\n",
       "      <td>0</td>\n",
       "      <td>0</td>\n",
       "      <td>0</td>\n",
       "      <td>0</td>\n",
       "      <td>12.71</td>\n",
       "      <td>0</td>\n",
       "    </tr>\n",
       "    <tr>\n",
       "      <th>UNIQUE_VALUES</th>\n",
       "      <td>2</td>\n",
       "      <td>2</td>\n",
       "      <td>2</td>\n",
       "      <td>11</td>\n",
       "      <td>2</td>\n",
       "      <td>2</td>\n",
       "      <td>89</td>\n",
       "      <td>58</td>\n",
       "      <td>4</td>\n",
       "      <td>5</td>\n",
       "      <td>2</td>\n",
       "    </tr>\n",
       "    <tr>\n",
       "      <th>CARDIN (%)</th>\n",
       "      <td>0.18</td>\n",
       "      <td>0.18</td>\n",
       "      <td>0.18</td>\n",
       "      <td>1.01</td>\n",
       "      <td>0.18</td>\n",
       "      <td>0.18</td>\n",
       "      <td>8.14</td>\n",
       "      <td>5.3</td>\n",
       "      <td>0.37</td>\n",
       "      <td>0.46</td>\n",
       "      <td>0.18</td>\n",
       "    </tr>\n",
       "  </tbody>\n",
       "</table>\n",
       "</div>"
      ],
      "text/plain": [
       "COL_N         A9_score A10_score     sex ethnicity jaundice fam_history_PDD  \\\n",
       "DATA_TYPE        int64     int64  object    object   object          object   \n",
       "MISSINGS (%)         0         0       0     12.71        0               0   \n",
       "UNIQUE_VALUES        2         2       2        11        2               2   \n",
       "CARDIN (%)        0.18      0.18    0.18      1.01     0.18            0.18   \n",
       "\n",
       "COL_N         country_of_res age_num age_desc relation  class  \n",
       "DATA_TYPE             object   int32   object   object  int64  \n",
       "MISSINGS (%)               0       0        0    12.71      0  \n",
       "UNIQUE_VALUES             89      58        4        5      2  \n",
       "CARDIN (%)              8.14     5.3     0.37     0.46   0.18  "
      ]
     },
     "execution_count": 39,
     "metadata": {},
     "output_type": "execute_result"
    }
   ],
   "source": [
    "data_report(data.iloc[:,-11:])"
   ]
  },
  {
   "cell_type": "code",
   "execution_count": 40,
   "metadata": {},
   "outputs": [
    {
     "data": {
      "text/plain": [
       "(1094, 19)"
      ]
     },
     "execution_count": 40,
     "metadata": {},
     "output_type": "execute_result"
    }
   ],
   "source": [
    "data.shape"
   ]
  },
  {
   "cell_type": "code",
   "execution_count": 41,
   "metadata": {},
   "outputs": [],
   "source": [
    "#reemplazo los missing de ethnicity por la moda, que es White-European.\n",
    "data[\"ethnicity\"] = data[\"ethnicity\"].replace([None],\"White-European\")"
   ]
  },
  {
   "cell_type": "code",
   "execution_count": 42,
   "metadata": {},
   "outputs": [],
   "source": [
    "#reemplazo los missing de relation por la moda, que es Self.\n",
    "data[\"relation\"] = data[\"relation\"].replace([None],\"Self\")\n",
    "#[podría haber hecho esto directamente con un fillna sobre la columna en cuestión .moda]"
   ]
  },
  {
   "cell_type": "code",
   "execution_count": 43,
   "metadata": {},
   "outputs": [
    {
     "data": {
      "text/html": [
       "<div>\n",
       "<style scoped>\n",
       "    .dataframe tbody tr th:only-of-type {\n",
       "        vertical-align: middle;\n",
       "    }\n",
       "\n",
       "    .dataframe tbody tr th {\n",
       "        vertical-align: top;\n",
       "    }\n",
       "\n",
       "    .dataframe thead th {\n",
       "        text-align: right;\n",
       "    }\n",
       "</style>\n",
       "<table border=\"1\" class=\"dataframe\">\n",
       "  <thead>\n",
       "    <tr style=\"text-align: right;\">\n",
       "      <th>COL_N</th>\n",
       "      <th>A1_score</th>\n",
       "      <th>A2_score</th>\n",
       "      <th>A3_score</th>\n",
       "      <th>A4_score</th>\n",
       "      <th>A5_score</th>\n",
       "      <th>A6_score</th>\n",
       "      <th>A7_score</th>\n",
       "      <th>A8_score</th>\n",
       "      <th>A9_score</th>\n",
       "      <th>A10_score</th>\n",
       "      <th>sex</th>\n",
       "      <th>ethnicity</th>\n",
       "      <th>jaundice</th>\n",
       "      <th>fam_history_PDD</th>\n",
       "      <th>country_of_res</th>\n",
       "      <th>age_num</th>\n",
       "      <th>age_desc</th>\n",
       "      <th>relation</th>\n",
       "      <th>class</th>\n",
       "    </tr>\n",
       "  </thead>\n",
       "  <tbody>\n",
       "    <tr>\n",
       "      <th>DATA_TYPE</th>\n",
       "      <td>int64</td>\n",
       "      <td>int64</td>\n",
       "      <td>int64</td>\n",
       "      <td>int64</td>\n",
       "      <td>int64</td>\n",
       "      <td>int64</td>\n",
       "      <td>int64</td>\n",
       "      <td>int64</td>\n",
       "      <td>int64</td>\n",
       "      <td>int64</td>\n",
       "      <td>object</td>\n",
       "      <td>object</td>\n",
       "      <td>object</td>\n",
       "      <td>object</td>\n",
       "      <td>object</td>\n",
       "      <td>int32</td>\n",
       "      <td>object</td>\n",
       "      <td>object</td>\n",
       "      <td>int64</td>\n",
       "    </tr>\n",
       "    <tr>\n",
       "      <th>MISSINGS (%)</th>\n",
       "      <td>0</td>\n",
       "      <td>0</td>\n",
       "      <td>0</td>\n",
       "      <td>0</td>\n",
       "      <td>0</td>\n",
       "      <td>0</td>\n",
       "      <td>0</td>\n",
       "      <td>0</td>\n",
       "      <td>0</td>\n",
       "      <td>0</td>\n",
       "      <td>0</td>\n",
       "      <td>0</td>\n",
       "      <td>0</td>\n",
       "      <td>0</td>\n",
       "      <td>0</td>\n",
       "      <td>0</td>\n",
       "      <td>0</td>\n",
       "      <td>0</td>\n",
       "      <td>0</td>\n",
       "    </tr>\n",
       "    <tr>\n",
       "      <th>UNIQUE_VALUES</th>\n",
       "      <td>2</td>\n",
       "      <td>2</td>\n",
       "      <td>2</td>\n",
       "      <td>2</td>\n",
       "      <td>2</td>\n",
       "      <td>2</td>\n",
       "      <td>2</td>\n",
       "      <td>2</td>\n",
       "      <td>2</td>\n",
       "      <td>2</td>\n",
       "      <td>2</td>\n",
       "      <td>11</td>\n",
       "      <td>2</td>\n",
       "      <td>2</td>\n",
       "      <td>89</td>\n",
       "      <td>58</td>\n",
       "      <td>4</td>\n",
       "      <td>5</td>\n",
       "      <td>2</td>\n",
       "    </tr>\n",
       "    <tr>\n",
       "      <th>CARDIN (%)</th>\n",
       "      <td>0.18</td>\n",
       "      <td>0.18</td>\n",
       "      <td>0.18</td>\n",
       "      <td>0.18</td>\n",
       "      <td>0.18</td>\n",
       "      <td>0.18</td>\n",
       "      <td>0.18</td>\n",
       "      <td>0.18</td>\n",
       "      <td>0.18</td>\n",
       "      <td>0.18</td>\n",
       "      <td>0.18</td>\n",
       "      <td>1.01</td>\n",
       "      <td>0.18</td>\n",
       "      <td>0.18</td>\n",
       "      <td>8.14</td>\n",
       "      <td>5.3</td>\n",
       "      <td>0.37</td>\n",
       "      <td>0.46</td>\n",
       "      <td>0.18</td>\n",
       "    </tr>\n",
       "  </tbody>\n",
       "</table>\n",
       "</div>"
      ],
      "text/plain": [
       "COL_N         A1_score A2_score A3_score A4_score A5_score A6_score A7_score  \\\n",
       "DATA_TYPE        int64    int64    int64    int64    int64    int64    int64   \n",
       "MISSINGS (%)         0        0        0        0        0        0        0   \n",
       "UNIQUE_VALUES        2        2        2        2        2        2        2   \n",
       "CARDIN (%)        0.18     0.18     0.18     0.18     0.18     0.18     0.18   \n",
       "\n",
       "COL_N         A8_score A9_score A10_score     sex ethnicity jaundice  \\\n",
       "DATA_TYPE        int64    int64     int64  object    object   object   \n",
       "MISSINGS (%)         0        0         0       0         0        0   \n",
       "UNIQUE_VALUES        2        2         2       2        11        2   \n",
       "CARDIN (%)        0.18     0.18      0.18    0.18      1.01     0.18   \n",
       "\n",
       "COL_N         fam_history_PDD country_of_res age_num age_desc relation  class  \n",
       "DATA_TYPE              object         object   int32   object   object  int64  \n",
       "MISSINGS (%)                0              0       0        0        0      0  \n",
       "UNIQUE_VALUES               2             89      58        4        5      2  \n",
       "CARDIN (%)               0.18           8.14     5.3     0.37     0.46   0.18  "
      ]
     },
     "execution_count": 43,
     "metadata": {},
     "output_type": "execute_result"
    }
   ],
   "source": [
    "#Verifico que ya no tengo missings:\n",
    "data_report(data)"
   ]
  },
  {
   "cell_type": "markdown",
   "metadata": {},
   "source": [
    "## III. Dividimos el dataset en train y test\n",
    "\n",
    "\n",
    "\n",
    "\n",
    "\n"
   ]
  },
  {
   "cell_type": "code",
   "execution_count": 44,
   "metadata": {},
   "outputs": [],
   "source": [
    "from sklearn.model_selection import train_test_split\n",
    "\n",
    "X_train, X_test, y_train, y_test = train_test_split(data.drop(\"class\", axis=1),\n",
    "                                                    data[\"class\"],\n",
    "                                                    test_size=0.2,\n",
    "                                                    random_state=12)"
   ]
  },
  {
   "cell_type": "code",
   "execution_count": 45,
   "metadata": {},
   "outputs": [
    {
     "name": "stdout",
     "output_type": "stream",
     "text": [
      "(875, 18)\n",
      "(219, 18)\n",
      "(875,)\n",
      "(219,)\n"
     ]
    }
   ],
   "source": [
    "#display(X_train,X_test, y_train, y_test)\n",
    "print(X_train.shape)\n",
    "print(X_test.shape)\n",
    "print(y_train.shape)\n",
    "print(y_test.shape)\n"
   ]
  },
  {
   "cell_type": "markdown",
   "metadata": {},
   "source": [
    "## IV Transformaciones \n",
    "\n",
    "### X_train"
   ]
  },
  {
   "cell_type": "markdown",
   "metadata": {},
   "source": [
    "En primer lugar, el dataset de train tiene siete columnas categóricas. Tres de ellas son binarias y las otras cuatro presentan 4 o más categorias diferentes de valores.\n",
    "\n",
    "Respecto de las columnas categóricas binarias, asigno categorías numéricas 0/1 a los valores m/f y no/yes.\n"
   ]
  },
  {
   "cell_type": "markdown",
   "metadata": {},
   "source": [
    "#### 2.1 Encodings\n",
    "\n",
    "##### 2.1.1 Conversión de columnas categóricas binarias en columnas numéricas.\n",
    "\n",
    "Respecto de las columnas categóricas binarias, asigno los valores numéricos 0/1 a las categorías m/f y no/yes."
   ]
  },
  {
   "cell_type": "code",
   "execution_count": 46,
   "metadata": {},
   "outputs": [
    {
     "data": {
      "text/plain": [
       "490      no\n",
       "277      no\n",
       "657      no\n",
       "1094    yes\n",
       "781     yes\n",
       "       ... \n",
       "420      no\n",
       "475      no\n",
       "49       no\n",
       "280      no\n",
       "434      no\n",
       "Name: jaundice, Length: 875, dtype: object"
      ]
     },
     "execution_count": 46,
     "metadata": {},
     "output_type": "execute_result"
    }
   ],
   "source": [
    "X_train[\"jaundice\"]"
   ]
  },
  {
   "cell_type": "code",
   "execution_count": 47,
   "metadata": {},
   "outputs": [
    {
     "data": {
      "text/plain": [
       "490      no\n",
       "277     yes\n",
       "657      no\n",
       "1094     no\n",
       "781      no\n",
       "       ... \n",
       "420      no\n",
       "475      no\n",
       "49       no\n",
       "280     yes\n",
       "434      no\n",
       "Name: fam_history_PDD, Length: 875, dtype: object"
      ]
     },
     "execution_count": 47,
     "metadata": {},
     "output_type": "execute_result"
    }
   ],
   "source": [
    "X_train[\"fam_history_PDD\"]"
   ]
  },
  {
   "cell_type": "code",
   "execution_count": 48,
   "metadata": {},
   "outputs": [
    {
     "data": {
      "text/plain": [
       "490     m\n",
       "277     f\n",
       "657     m\n",
       "1094    f\n",
       "781     m\n",
       "       ..\n",
       "420     f\n",
       "475     f\n",
       "49      f\n",
       "280     f\n",
       "434     f\n",
       "Name: sex, Length: 875, dtype: object"
      ]
     },
     "execution_count": 48,
     "metadata": {},
     "output_type": "execute_result"
    }
   ],
   "source": [
    "X_train[\"sex\"]"
   ]
  },
  {
   "cell_type": "code",
   "execution_count": 49,
   "metadata": {},
   "outputs": [
    {
     "data": {
      "text/plain": [
       "490     0\n",
       "277     0\n",
       "657     0\n",
       "1094    1\n",
       "781     1\n",
       "       ..\n",
       "420     0\n",
       "475     0\n",
       "49      0\n",
       "280     0\n",
       "434     0\n",
       "Name: jaundice, Length: 875, dtype: int64"
      ]
     },
     "execution_count": 49,
     "metadata": {},
     "output_type": "execute_result"
    }
   ],
   "source": [
    "#Respecto de las columnas categóricas binarias, utilizo un apply para asignar categorías numéricas 0/1 a los valores m/f y no/yes\n",
    "\n",
    "def mapping(x):\n",
    "    if x == \"yes\":\n",
    "        return 1\n",
    "    elif x == \"no\":\n",
    "        return 0\n",
    "\n",
    "X_train[\"jaundice\"] = X_train[\"jaundice\"].apply(mapping)\n",
    "X_train[\"jaundice\"]"
   ]
  },
  {
   "cell_type": "code",
   "execution_count": 50,
   "metadata": {},
   "outputs": [
    {
     "data": {
      "text/plain": [
       "490     0\n",
       "277     1\n",
       "657     0\n",
       "1094    0\n",
       "781     0\n",
       "       ..\n",
       "420     0\n",
       "475     0\n",
       "49      0\n",
       "280     1\n",
       "434     0\n",
       "Name: fam_history_PDD, Length: 875, dtype: int64"
      ]
     },
     "execution_count": 50,
     "metadata": {},
     "output_type": "execute_result"
    }
   ],
   "source": [
    "X_train[\"fam_history_PDD\"] = X_train[\"fam_history_PDD\"].apply(mapping)\n",
    "X_train[\"fam_history_PDD\"]"
   ]
  },
  {
   "cell_type": "code",
   "execution_count": 51,
   "metadata": {},
   "outputs": [
    {
     "data": {
      "text/plain": [
       "490     0\n",
       "277     1\n",
       "657     0\n",
       "1094    1\n",
       "781     0\n",
       "       ..\n",
       "420     1\n",
       "475     1\n",
       "49      1\n",
       "280     1\n",
       "434     1\n",
       "Name: sex, Length: 875, dtype: int64"
      ]
     },
     "execution_count": 51,
     "metadata": {},
     "output_type": "execute_result"
    }
   ],
   "source": [
    "def mapping_2(x):\n",
    "    if x == \"f\":\n",
    "        return 1\n",
    "    elif x == \"m\":\n",
    "        return 0\n",
    "\n",
    "X_train[\"sex\"] = X_train[\"sex\"].apply(mapping_2)\n",
    "X_train[\"sex\"]"
   ]
  },
  {
   "cell_type": "markdown",
   "metadata": {},
   "source": [
    "##### 2.1.2 Conversión de columnas categóricas de 3 o más clases en columnas numéricas."
   ]
  },
  {
   "cell_type": "code",
   "execution_count": 52,
   "metadata": {},
   "outputs": [
    {
     "data": {
      "text/html": [
       "<div>\n",
       "<style scoped>\n",
       "    .dataframe tbody tr th:only-of-type {\n",
       "        vertical-align: middle;\n",
       "    }\n",
       "\n",
       "    .dataframe tbody tr th {\n",
       "        vertical-align: top;\n",
       "    }\n",
       "\n",
       "    .dataframe thead th {\n",
       "        text-align: right;\n",
       "    }\n",
       "</style>\n",
       "<table border=\"1\" class=\"dataframe\">\n",
       "  <thead>\n",
       "    <tr style=\"text-align: right;\">\n",
       "      <th></th>\n",
       "      <th>ethnicity_'Middle Eastern '</th>\n",
       "      <th>ethnicity_'South Asian'</th>\n",
       "      <th>ethnicity_Asian</th>\n",
       "      <th>ethnicity_Black</th>\n",
       "      <th>ethnicity_Hispanic</th>\n",
       "      <th>ethnicity_Latino</th>\n",
       "      <th>ethnicity_Others</th>\n",
       "      <th>ethnicity_Pasifika</th>\n",
       "      <th>ethnicity_Turkish</th>\n",
       "      <th>ethnicity_White-European</th>\n",
       "      <th>ethnicity_others</th>\n",
       "      <th>age_desc_'12-15 years'</th>\n",
       "      <th>age_desc_'12-16 years'</th>\n",
       "      <th>age_desc_'18 and more'</th>\n",
       "      <th>age_desc_'4-11 years'</th>\n",
       "      <th>relation_'Health care professional'</th>\n",
       "      <th>relation_Others</th>\n",
       "      <th>relation_Parent</th>\n",
       "      <th>relation_Relative</th>\n",
       "      <th>relation_Self</th>\n",
       "    </tr>\n",
       "  </thead>\n",
       "  <tbody>\n",
       "    <tr>\n",
       "      <th>0</th>\n",
       "      <td>0.0</td>\n",
       "      <td>0.0</td>\n",
       "      <td>0.0</td>\n",
       "      <td>0.0</td>\n",
       "      <td>0.0</td>\n",
       "      <td>0.0</td>\n",
       "      <td>1.0</td>\n",
       "      <td>0.0</td>\n",
       "      <td>0.0</td>\n",
       "      <td>0.0</td>\n",
       "      <td>0.0</td>\n",
       "      <td>0.0</td>\n",
       "      <td>0.0</td>\n",
       "      <td>1.0</td>\n",
       "      <td>0.0</td>\n",
       "      <td>0.0</td>\n",
       "      <td>0.0</td>\n",
       "      <td>0.0</td>\n",
       "      <td>0.0</td>\n",
       "      <td>1.0</td>\n",
       "    </tr>\n",
       "    <tr>\n",
       "      <th>1</th>\n",
       "      <td>0.0</td>\n",
       "      <td>0.0</td>\n",
       "      <td>0.0</td>\n",
       "      <td>0.0</td>\n",
       "      <td>0.0</td>\n",
       "      <td>0.0</td>\n",
       "      <td>0.0</td>\n",
       "      <td>0.0</td>\n",
       "      <td>0.0</td>\n",
       "      <td>1.0</td>\n",
       "      <td>0.0</td>\n",
       "      <td>0.0</td>\n",
       "      <td>0.0</td>\n",
       "      <td>1.0</td>\n",
       "      <td>0.0</td>\n",
       "      <td>0.0</td>\n",
       "      <td>0.0</td>\n",
       "      <td>0.0</td>\n",
       "      <td>0.0</td>\n",
       "      <td>1.0</td>\n",
       "    </tr>\n",
       "    <tr>\n",
       "      <th>2</th>\n",
       "      <td>0.0</td>\n",
       "      <td>0.0</td>\n",
       "      <td>0.0</td>\n",
       "      <td>0.0</td>\n",
       "      <td>0.0</td>\n",
       "      <td>0.0</td>\n",
       "      <td>0.0</td>\n",
       "      <td>0.0</td>\n",
       "      <td>0.0</td>\n",
       "      <td>0.0</td>\n",
       "      <td>1.0</td>\n",
       "      <td>0.0</td>\n",
       "      <td>0.0</td>\n",
       "      <td>1.0</td>\n",
       "      <td>0.0</td>\n",
       "      <td>0.0</td>\n",
       "      <td>0.0</td>\n",
       "      <td>0.0</td>\n",
       "      <td>0.0</td>\n",
       "      <td>1.0</td>\n",
       "    </tr>\n",
       "    <tr>\n",
       "      <th>3</th>\n",
       "      <td>0.0</td>\n",
       "      <td>0.0</td>\n",
       "      <td>0.0</td>\n",
       "      <td>0.0</td>\n",
       "      <td>0.0</td>\n",
       "      <td>1.0</td>\n",
       "      <td>0.0</td>\n",
       "      <td>0.0</td>\n",
       "      <td>0.0</td>\n",
       "      <td>0.0</td>\n",
       "      <td>0.0</td>\n",
       "      <td>0.0</td>\n",
       "      <td>0.0</td>\n",
       "      <td>0.0</td>\n",
       "      <td>1.0</td>\n",
       "      <td>0.0</td>\n",
       "      <td>0.0</td>\n",
       "      <td>1.0</td>\n",
       "      <td>0.0</td>\n",
       "      <td>0.0</td>\n",
       "    </tr>\n",
       "    <tr>\n",
       "      <th>4</th>\n",
       "      <td>0.0</td>\n",
       "      <td>0.0</td>\n",
       "      <td>1.0</td>\n",
       "      <td>0.0</td>\n",
       "      <td>0.0</td>\n",
       "      <td>0.0</td>\n",
       "      <td>0.0</td>\n",
       "      <td>0.0</td>\n",
       "      <td>0.0</td>\n",
       "      <td>0.0</td>\n",
       "      <td>0.0</td>\n",
       "      <td>0.0</td>\n",
       "      <td>1.0</td>\n",
       "      <td>0.0</td>\n",
       "      <td>0.0</td>\n",
       "      <td>0.0</td>\n",
       "      <td>0.0</td>\n",
       "      <td>0.0</td>\n",
       "      <td>0.0</td>\n",
       "      <td>1.0</td>\n",
       "    </tr>\n",
       "    <tr>\n",
       "      <th>...</th>\n",
       "      <td>...</td>\n",
       "      <td>...</td>\n",
       "      <td>...</td>\n",
       "      <td>...</td>\n",
       "      <td>...</td>\n",
       "      <td>...</td>\n",
       "      <td>...</td>\n",
       "      <td>...</td>\n",
       "      <td>...</td>\n",
       "      <td>...</td>\n",
       "      <td>...</td>\n",
       "      <td>...</td>\n",
       "      <td>...</td>\n",
       "      <td>...</td>\n",
       "      <td>...</td>\n",
       "      <td>...</td>\n",
       "      <td>...</td>\n",
       "      <td>...</td>\n",
       "      <td>...</td>\n",
       "      <td>...</td>\n",
       "    </tr>\n",
       "    <tr>\n",
       "      <th>870</th>\n",
       "      <td>1.0</td>\n",
       "      <td>0.0</td>\n",
       "      <td>0.0</td>\n",
       "      <td>0.0</td>\n",
       "      <td>0.0</td>\n",
       "      <td>0.0</td>\n",
       "      <td>0.0</td>\n",
       "      <td>0.0</td>\n",
       "      <td>0.0</td>\n",
       "      <td>0.0</td>\n",
       "      <td>0.0</td>\n",
       "      <td>0.0</td>\n",
       "      <td>0.0</td>\n",
       "      <td>1.0</td>\n",
       "      <td>0.0</td>\n",
       "      <td>0.0</td>\n",
       "      <td>0.0</td>\n",
       "      <td>0.0</td>\n",
       "      <td>0.0</td>\n",
       "      <td>1.0</td>\n",
       "    </tr>\n",
       "    <tr>\n",
       "      <th>871</th>\n",
       "      <td>0.0</td>\n",
       "      <td>0.0</td>\n",
       "      <td>1.0</td>\n",
       "      <td>0.0</td>\n",
       "      <td>0.0</td>\n",
       "      <td>0.0</td>\n",
       "      <td>0.0</td>\n",
       "      <td>0.0</td>\n",
       "      <td>0.0</td>\n",
       "      <td>0.0</td>\n",
       "      <td>0.0</td>\n",
       "      <td>0.0</td>\n",
       "      <td>0.0</td>\n",
       "      <td>1.0</td>\n",
       "      <td>0.0</td>\n",
       "      <td>0.0</td>\n",
       "      <td>0.0</td>\n",
       "      <td>0.0</td>\n",
       "      <td>0.0</td>\n",
       "      <td>1.0</td>\n",
       "    </tr>\n",
       "    <tr>\n",
       "      <th>872</th>\n",
       "      <td>0.0</td>\n",
       "      <td>0.0</td>\n",
       "      <td>1.0</td>\n",
       "      <td>0.0</td>\n",
       "      <td>0.0</td>\n",
       "      <td>0.0</td>\n",
       "      <td>0.0</td>\n",
       "      <td>0.0</td>\n",
       "      <td>0.0</td>\n",
       "      <td>0.0</td>\n",
       "      <td>0.0</td>\n",
       "      <td>0.0</td>\n",
       "      <td>0.0</td>\n",
       "      <td>1.0</td>\n",
       "      <td>0.0</td>\n",
       "      <td>0.0</td>\n",
       "      <td>0.0</td>\n",
       "      <td>0.0</td>\n",
       "      <td>0.0</td>\n",
       "      <td>1.0</td>\n",
       "    </tr>\n",
       "    <tr>\n",
       "      <th>873</th>\n",
       "      <td>0.0</td>\n",
       "      <td>0.0</td>\n",
       "      <td>0.0</td>\n",
       "      <td>0.0</td>\n",
       "      <td>1.0</td>\n",
       "      <td>0.0</td>\n",
       "      <td>0.0</td>\n",
       "      <td>0.0</td>\n",
       "      <td>0.0</td>\n",
       "      <td>0.0</td>\n",
       "      <td>0.0</td>\n",
       "      <td>0.0</td>\n",
       "      <td>0.0</td>\n",
       "      <td>1.0</td>\n",
       "      <td>0.0</td>\n",
       "      <td>0.0</td>\n",
       "      <td>0.0</td>\n",
       "      <td>0.0</td>\n",
       "      <td>0.0</td>\n",
       "      <td>1.0</td>\n",
       "    </tr>\n",
       "    <tr>\n",
       "      <th>874</th>\n",
       "      <td>0.0</td>\n",
       "      <td>0.0</td>\n",
       "      <td>0.0</td>\n",
       "      <td>0.0</td>\n",
       "      <td>0.0</td>\n",
       "      <td>0.0</td>\n",
       "      <td>0.0</td>\n",
       "      <td>0.0</td>\n",
       "      <td>0.0</td>\n",
       "      <td>1.0</td>\n",
       "      <td>0.0</td>\n",
       "      <td>0.0</td>\n",
       "      <td>0.0</td>\n",
       "      <td>1.0</td>\n",
       "      <td>0.0</td>\n",
       "      <td>0.0</td>\n",
       "      <td>0.0</td>\n",
       "      <td>0.0</td>\n",
       "      <td>0.0</td>\n",
       "      <td>1.0</td>\n",
       "    </tr>\n",
       "  </tbody>\n",
       "</table>\n",
       "<p>875 rows × 20 columns</p>\n",
       "</div>"
      ],
      "text/plain": [
       "     ethnicity_'Middle Eastern '  ethnicity_'South Asian'  ethnicity_Asian  \\\n",
       "0                            0.0                      0.0              0.0   \n",
       "1                            0.0                      0.0              0.0   \n",
       "2                            0.0                      0.0              0.0   \n",
       "3                            0.0                      0.0              0.0   \n",
       "4                            0.0                      0.0              1.0   \n",
       "..                           ...                      ...              ...   \n",
       "870                          1.0                      0.0              0.0   \n",
       "871                          0.0                      0.0              1.0   \n",
       "872                          0.0                      0.0              1.0   \n",
       "873                          0.0                      0.0              0.0   \n",
       "874                          0.0                      0.0              0.0   \n",
       "\n",
       "     ethnicity_Black  ethnicity_Hispanic  ethnicity_Latino  ethnicity_Others  \\\n",
       "0                0.0                 0.0               0.0               1.0   \n",
       "1                0.0                 0.0               0.0               0.0   \n",
       "2                0.0                 0.0               0.0               0.0   \n",
       "3                0.0                 0.0               1.0               0.0   \n",
       "4                0.0                 0.0               0.0               0.0   \n",
       "..               ...                 ...               ...               ...   \n",
       "870              0.0                 0.0               0.0               0.0   \n",
       "871              0.0                 0.0               0.0               0.0   \n",
       "872              0.0                 0.0               0.0               0.0   \n",
       "873              0.0                 1.0               0.0               0.0   \n",
       "874              0.0                 0.0               0.0               0.0   \n",
       "\n",
       "     ethnicity_Pasifika  ethnicity_Turkish  ethnicity_White-European  \\\n",
       "0                   0.0                0.0                       0.0   \n",
       "1                   0.0                0.0                       1.0   \n",
       "2                   0.0                0.0                       0.0   \n",
       "3                   0.0                0.0                       0.0   \n",
       "4                   0.0                0.0                       0.0   \n",
       "..                  ...                ...                       ...   \n",
       "870                 0.0                0.0                       0.0   \n",
       "871                 0.0                0.0                       0.0   \n",
       "872                 0.0                0.0                       0.0   \n",
       "873                 0.0                0.0                       0.0   \n",
       "874                 0.0                0.0                       1.0   \n",
       "\n",
       "     ethnicity_others  age_desc_'12-15 years'  age_desc_'12-16 years'  \\\n",
       "0                 0.0                     0.0                     0.0   \n",
       "1                 0.0                     0.0                     0.0   \n",
       "2                 1.0                     0.0                     0.0   \n",
       "3                 0.0                     0.0                     0.0   \n",
       "4                 0.0                     0.0                     1.0   \n",
       "..                ...                     ...                     ...   \n",
       "870               0.0                     0.0                     0.0   \n",
       "871               0.0                     0.0                     0.0   \n",
       "872               0.0                     0.0                     0.0   \n",
       "873               0.0                     0.0                     0.0   \n",
       "874               0.0                     0.0                     0.0   \n",
       "\n",
       "     age_desc_'18 and more'  age_desc_'4-11 years'  \\\n",
       "0                       1.0                    0.0   \n",
       "1                       1.0                    0.0   \n",
       "2                       1.0                    0.0   \n",
       "3                       0.0                    1.0   \n",
       "4                       0.0                    0.0   \n",
       "..                      ...                    ...   \n",
       "870                     1.0                    0.0   \n",
       "871                     1.0                    0.0   \n",
       "872                     1.0                    0.0   \n",
       "873                     1.0                    0.0   \n",
       "874                     1.0                    0.0   \n",
       "\n",
       "     relation_'Health care professional'  relation_Others  relation_Parent  \\\n",
       "0                                    0.0              0.0              0.0   \n",
       "1                                    0.0              0.0              0.0   \n",
       "2                                    0.0              0.0              0.0   \n",
       "3                                    0.0              0.0              1.0   \n",
       "4                                    0.0              0.0              0.0   \n",
       "..                                   ...              ...              ...   \n",
       "870                                  0.0              0.0              0.0   \n",
       "871                                  0.0              0.0              0.0   \n",
       "872                                  0.0              0.0              0.0   \n",
       "873                                  0.0              0.0              0.0   \n",
       "874                                  0.0              0.0              0.0   \n",
       "\n",
       "     relation_Relative  relation_Self  \n",
       "0                  0.0            1.0  \n",
       "1                  0.0            1.0  \n",
       "2                  0.0            1.0  \n",
       "3                  0.0            0.0  \n",
       "4                  0.0            1.0  \n",
       "..                 ...            ...  \n",
       "870                0.0            1.0  \n",
       "871                0.0            1.0  \n",
       "872                0.0            1.0  \n",
       "873                0.0            1.0  \n",
       "874                0.0            1.0  \n",
       "\n",
       "[875 rows x 20 columns]"
      ]
     },
     "execution_count": 52,
     "metadata": {},
     "output_type": "execute_result"
    }
   ],
   "source": [
    "#Utilizo un get encoder para transformar ethnicity, age_desc y relation. Evito el get dummies porque cuando lo haga en test me va a generar\n",
    "#menos columnas nuevas (18) al faltarle clases en age_desc y ethnicity (1 en cada variable) y cuando intente pasar X_test por el modelo rl entrenado\n",
    "#me da error al no coincidir el número de columnas de X_test (33) con las que espera recibir el modelo (es decir, 35 columnas).\n",
    "\n",
    "#El one-hot encoder crea un objeto nuevo que entreno con los datos de X_train y luego aplico a los datos de X_test con un .transform().\n",
    "#Asi me va a añadir siempre las mismas columnas, las que procedan a partir de los datos de X_train. En X_test tendré dos de las nuevas columnas\n",
    "#todas a cero, pero me las crea en todo caso.\n",
    "\n",
    "from sklearn.preprocessing import OneHotEncoder\n",
    "\n",
    "onehot_train = OneHotEncoder()\n",
    "\n",
    "X_train_onehot = onehot_train.fit(X_train[[\"ethnicity\",\"age_desc\",\"relation\"]])\n",
    "\n",
    "X_train_onehot = onehot_train.transform(X_train[[\"ethnicity\",\"age_desc\",\"relation\"]])\n",
    "\n",
    "columns = onehot_train.get_feature_names([\"ethnicity\",\"age_desc\",\"relation\"])\n",
    "\n",
    "X_train_onehot = pd.DataFrame.sparse.from_spmatrix(X_train_onehot)\n",
    "\n",
    "X_train_onehot.columns = columns\n",
    "\n",
    "X_train_onehot\n"
   ]
  },
  {
   "cell_type": "code",
   "execution_count": 53,
   "metadata": {},
   "outputs": [],
   "source": [
    "X_train.reset_index(drop=True,inplace = True)"
   ]
  },
  {
   "cell_type": "code",
   "execution_count": 54,
   "metadata": {},
   "outputs": [],
   "source": [
    "X_train.drop(columns = [\"ethnicity\",\"age_desc\",\"relation\"], axis = 1,inplace = True)     "
   ]
  },
  {
   "cell_type": "code",
   "execution_count": 55,
   "metadata": {},
   "outputs": [],
   "source": [
    "X_train_encod = pd.concat([X_train, X_train_onehot], axis = 1)"
   ]
  },
  {
   "cell_type": "code",
   "execution_count": 56,
   "metadata": {},
   "outputs": [
    {
     "data": {
      "text/html": [
       "<div>\n",
       "<style scoped>\n",
       "    .dataframe tbody tr th:only-of-type {\n",
       "        vertical-align: middle;\n",
       "    }\n",
       "\n",
       "    .dataframe tbody tr th {\n",
       "        vertical-align: top;\n",
       "    }\n",
       "\n",
       "    .dataframe thead th {\n",
       "        text-align: right;\n",
       "    }\n",
       "</style>\n",
       "<table border=\"1\" class=\"dataframe\">\n",
       "  <thead>\n",
       "    <tr style=\"text-align: right;\">\n",
       "      <th></th>\n",
       "      <th>A1_score</th>\n",
       "      <th>A2_score</th>\n",
       "      <th>A3_score</th>\n",
       "      <th>A4_score</th>\n",
       "      <th>A5_score</th>\n",
       "      <th>A6_score</th>\n",
       "      <th>A7_score</th>\n",
       "      <th>A8_score</th>\n",
       "      <th>A9_score</th>\n",
       "      <th>A10_score</th>\n",
       "      <th>...</th>\n",
       "      <th>ethnicity_others</th>\n",
       "      <th>age_desc_'12-15 years'</th>\n",
       "      <th>age_desc_'12-16 years'</th>\n",
       "      <th>age_desc_'18 and more'</th>\n",
       "      <th>age_desc_'4-11 years'</th>\n",
       "      <th>relation_'Health care professional'</th>\n",
       "      <th>relation_Others</th>\n",
       "      <th>relation_Parent</th>\n",
       "      <th>relation_Relative</th>\n",
       "      <th>relation_Self</th>\n",
       "    </tr>\n",
       "  </thead>\n",
       "  <tbody>\n",
       "    <tr>\n",
       "      <th>0</th>\n",
       "      <td>1</td>\n",
       "      <td>1</td>\n",
       "      <td>1</td>\n",
       "      <td>1</td>\n",
       "      <td>0</td>\n",
       "      <td>0</td>\n",
       "      <td>1</td>\n",
       "      <td>1</td>\n",
       "      <td>1</td>\n",
       "      <td>0</td>\n",
       "      <td>...</td>\n",
       "      <td>0.0</td>\n",
       "      <td>0.0</td>\n",
       "      <td>0.0</td>\n",
       "      <td>1.0</td>\n",
       "      <td>0.0</td>\n",
       "      <td>0.0</td>\n",
       "      <td>0.0</td>\n",
       "      <td>0.0</td>\n",
       "      <td>0.0</td>\n",
       "      <td>1.0</td>\n",
       "    </tr>\n",
       "    <tr>\n",
       "      <th>1</th>\n",
       "      <td>1</td>\n",
       "      <td>1</td>\n",
       "      <td>0</td>\n",
       "      <td>0</td>\n",
       "      <td>0</td>\n",
       "      <td>0</td>\n",
       "      <td>0</td>\n",
       "      <td>0</td>\n",
       "      <td>0</td>\n",
       "      <td>0</td>\n",
       "      <td>...</td>\n",
       "      <td>0.0</td>\n",
       "      <td>0.0</td>\n",
       "      <td>0.0</td>\n",
       "      <td>1.0</td>\n",
       "      <td>0.0</td>\n",
       "      <td>0.0</td>\n",
       "      <td>0.0</td>\n",
       "      <td>0.0</td>\n",
       "      <td>0.0</td>\n",
       "      <td>1.0</td>\n",
       "    </tr>\n",
       "    <tr>\n",
       "      <th>2</th>\n",
       "      <td>1</td>\n",
       "      <td>1</td>\n",
       "      <td>0</td>\n",
       "      <td>0</td>\n",
       "      <td>1</td>\n",
       "      <td>0</td>\n",
       "      <td>1</td>\n",
       "      <td>0</td>\n",
       "      <td>1</td>\n",
       "      <td>0</td>\n",
       "      <td>...</td>\n",
       "      <td>1.0</td>\n",
       "      <td>0.0</td>\n",
       "      <td>0.0</td>\n",
       "      <td>1.0</td>\n",
       "      <td>0.0</td>\n",
       "      <td>0.0</td>\n",
       "      <td>0.0</td>\n",
       "      <td>0.0</td>\n",
       "      <td>0.0</td>\n",
       "      <td>1.0</td>\n",
       "    </tr>\n",
       "    <tr>\n",
       "      <th>3</th>\n",
       "      <td>0</td>\n",
       "      <td>1</td>\n",
       "      <td>1</td>\n",
       "      <td>1</td>\n",
       "      <td>1</td>\n",
       "      <td>1</td>\n",
       "      <td>1</td>\n",
       "      <td>1</td>\n",
       "      <td>1</td>\n",
       "      <td>1</td>\n",
       "      <td>...</td>\n",
       "      <td>0.0</td>\n",
       "      <td>0.0</td>\n",
       "      <td>0.0</td>\n",
       "      <td>0.0</td>\n",
       "      <td>1.0</td>\n",
       "      <td>0.0</td>\n",
       "      <td>0.0</td>\n",
       "      <td>1.0</td>\n",
       "      <td>0.0</td>\n",
       "      <td>0.0</td>\n",
       "    </tr>\n",
       "    <tr>\n",
       "      <th>4</th>\n",
       "      <td>1</td>\n",
       "      <td>1</td>\n",
       "      <td>0</td>\n",
       "      <td>0</td>\n",
       "      <td>1</td>\n",
       "      <td>0</td>\n",
       "      <td>1</td>\n",
       "      <td>0</td>\n",
       "      <td>0</td>\n",
       "      <td>0</td>\n",
       "      <td>...</td>\n",
       "      <td>0.0</td>\n",
       "      <td>0.0</td>\n",
       "      <td>1.0</td>\n",
       "      <td>0.0</td>\n",
       "      <td>0.0</td>\n",
       "      <td>0.0</td>\n",
       "      <td>0.0</td>\n",
       "      <td>0.0</td>\n",
       "      <td>0.0</td>\n",
       "      <td>1.0</td>\n",
       "    </tr>\n",
       "    <tr>\n",
       "      <th>...</th>\n",
       "      <td>...</td>\n",
       "      <td>...</td>\n",
       "      <td>...</td>\n",
       "      <td>...</td>\n",
       "      <td>...</td>\n",
       "      <td>...</td>\n",
       "      <td>...</td>\n",
       "      <td>...</td>\n",
       "      <td>...</td>\n",
       "      <td>...</td>\n",
       "      <td>...</td>\n",
       "      <td>...</td>\n",
       "      <td>...</td>\n",
       "      <td>...</td>\n",
       "      <td>...</td>\n",
       "      <td>...</td>\n",
       "      <td>...</td>\n",
       "      <td>...</td>\n",
       "      <td>...</td>\n",
       "      <td>...</td>\n",
       "      <td>...</td>\n",
       "    </tr>\n",
       "    <tr>\n",
       "      <th>870</th>\n",
       "      <td>1</td>\n",
       "      <td>0</td>\n",
       "      <td>1</td>\n",
       "      <td>0</td>\n",
       "      <td>1</td>\n",
       "      <td>0</td>\n",
       "      <td>1</td>\n",
       "      <td>1</td>\n",
       "      <td>0</td>\n",
       "      <td>1</td>\n",
       "      <td>...</td>\n",
       "      <td>0.0</td>\n",
       "      <td>0.0</td>\n",
       "      <td>0.0</td>\n",
       "      <td>1.0</td>\n",
       "      <td>0.0</td>\n",
       "      <td>0.0</td>\n",
       "      <td>0.0</td>\n",
       "      <td>0.0</td>\n",
       "      <td>0.0</td>\n",
       "      <td>1.0</td>\n",
       "    </tr>\n",
       "    <tr>\n",
       "      <th>871</th>\n",
       "      <td>1</td>\n",
       "      <td>0</td>\n",
       "      <td>0</td>\n",
       "      <td>0</td>\n",
       "      <td>0</td>\n",
       "      <td>1</td>\n",
       "      <td>0</td>\n",
       "      <td>1</td>\n",
       "      <td>0</td>\n",
       "      <td>0</td>\n",
       "      <td>...</td>\n",
       "      <td>0.0</td>\n",
       "      <td>0.0</td>\n",
       "      <td>0.0</td>\n",
       "      <td>1.0</td>\n",
       "      <td>0.0</td>\n",
       "      <td>0.0</td>\n",
       "      <td>0.0</td>\n",
       "      <td>0.0</td>\n",
       "      <td>0.0</td>\n",
       "      <td>1.0</td>\n",
       "    </tr>\n",
       "    <tr>\n",
       "      <th>872</th>\n",
       "      <td>1</td>\n",
       "      <td>1</td>\n",
       "      <td>0</td>\n",
       "      <td>0</td>\n",
       "      <td>0</td>\n",
       "      <td>1</td>\n",
       "      <td>1</td>\n",
       "      <td>1</td>\n",
       "      <td>0</td>\n",
       "      <td>1</td>\n",
       "      <td>...</td>\n",
       "      <td>0.0</td>\n",
       "      <td>0.0</td>\n",
       "      <td>0.0</td>\n",
       "      <td>1.0</td>\n",
       "      <td>0.0</td>\n",
       "      <td>0.0</td>\n",
       "      <td>0.0</td>\n",
       "      <td>0.0</td>\n",
       "      <td>0.0</td>\n",
       "      <td>1.0</td>\n",
       "    </tr>\n",
       "    <tr>\n",
       "      <th>873</th>\n",
       "      <td>1</td>\n",
       "      <td>0</td>\n",
       "      <td>0</td>\n",
       "      <td>0</td>\n",
       "      <td>0</td>\n",
       "      <td>0</td>\n",
       "      <td>0</td>\n",
       "      <td>0</td>\n",
       "      <td>0</td>\n",
       "      <td>0</td>\n",
       "      <td>...</td>\n",
       "      <td>0.0</td>\n",
       "      <td>0.0</td>\n",
       "      <td>0.0</td>\n",
       "      <td>1.0</td>\n",
       "      <td>0.0</td>\n",
       "      <td>0.0</td>\n",
       "      <td>0.0</td>\n",
       "      <td>0.0</td>\n",
       "      <td>0.0</td>\n",
       "      <td>1.0</td>\n",
       "    </tr>\n",
       "    <tr>\n",
       "      <th>874</th>\n",
       "      <td>1</td>\n",
       "      <td>0</td>\n",
       "      <td>0</td>\n",
       "      <td>0</td>\n",
       "      <td>0</td>\n",
       "      <td>1</td>\n",
       "      <td>0</td>\n",
       "      <td>0</td>\n",
       "      <td>0</td>\n",
       "      <td>1</td>\n",
       "      <td>...</td>\n",
       "      <td>0.0</td>\n",
       "      <td>0.0</td>\n",
       "      <td>0.0</td>\n",
       "      <td>1.0</td>\n",
       "      <td>0.0</td>\n",
       "      <td>0.0</td>\n",
       "      <td>0.0</td>\n",
       "      <td>0.0</td>\n",
       "      <td>0.0</td>\n",
       "      <td>1.0</td>\n",
       "    </tr>\n",
       "  </tbody>\n",
       "</table>\n",
       "<p>875 rows × 35 columns</p>\n",
       "</div>"
      ],
      "text/plain": [
       "     A1_score  A2_score  A3_score  A4_score  A5_score  A6_score  A7_score  \\\n",
       "0           1         1         1         1         0         0         1   \n",
       "1           1         1         0         0         0         0         0   \n",
       "2           1         1         0         0         1         0         1   \n",
       "3           0         1         1         1         1         1         1   \n",
       "4           1         1         0         0         1         0         1   \n",
       "..        ...       ...       ...       ...       ...       ...       ...   \n",
       "870         1         0         1         0         1         0         1   \n",
       "871         1         0         0         0         0         1         0   \n",
       "872         1         1         0         0         0         1         1   \n",
       "873         1         0         0         0         0         0         0   \n",
       "874         1         0         0         0         0         1         0   \n",
       "\n",
       "     A8_score  A9_score  A10_score  ...  ethnicity_others  \\\n",
       "0           1         1          0  ...               0.0   \n",
       "1           0         0          0  ...               0.0   \n",
       "2           0         1          0  ...               1.0   \n",
       "3           1         1          1  ...               0.0   \n",
       "4           0         0          0  ...               0.0   \n",
       "..        ...       ...        ...  ...               ...   \n",
       "870         1         0          1  ...               0.0   \n",
       "871         1         0          0  ...               0.0   \n",
       "872         1         0          1  ...               0.0   \n",
       "873         0         0          0  ...               0.0   \n",
       "874         0         0          1  ...               0.0   \n",
       "\n",
       "     age_desc_'12-15 years'  age_desc_'12-16 years' age_desc_'18 and more'  \\\n",
       "0                       0.0                     0.0                    1.0   \n",
       "1                       0.0                     0.0                    1.0   \n",
       "2                       0.0                     0.0                    1.0   \n",
       "3                       0.0                     0.0                    0.0   \n",
       "4                       0.0                     1.0                    0.0   \n",
       "..                      ...                     ...                    ...   \n",
       "870                     0.0                     0.0                    1.0   \n",
       "871                     0.0                     0.0                    1.0   \n",
       "872                     0.0                     0.0                    1.0   \n",
       "873                     0.0                     0.0                    1.0   \n",
       "874                     0.0                     0.0                    1.0   \n",
       "\n",
       "     age_desc_'4-11 years'  relation_'Health care professional'  \\\n",
       "0                      0.0                                  0.0   \n",
       "1                      0.0                                  0.0   \n",
       "2                      0.0                                  0.0   \n",
       "3                      1.0                                  0.0   \n",
       "4                      0.0                                  0.0   \n",
       "..                     ...                                  ...   \n",
       "870                    0.0                                  0.0   \n",
       "871                    0.0                                  0.0   \n",
       "872                    0.0                                  0.0   \n",
       "873                    0.0                                  0.0   \n",
       "874                    0.0                                  0.0   \n",
       "\n",
       "     relation_Others  relation_Parent  relation_Relative  relation_Self  \n",
       "0                0.0              0.0                0.0            1.0  \n",
       "1                0.0              0.0                0.0            1.0  \n",
       "2                0.0              0.0                0.0            1.0  \n",
       "3                0.0              1.0                0.0            0.0  \n",
       "4                0.0              0.0                0.0            1.0  \n",
       "..               ...              ...                ...            ...  \n",
       "870              0.0              0.0                0.0            1.0  \n",
       "871              0.0              0.0                0.0            1.0  \n",
       "872              0.0              0.0                0.0            1.0  \n",
       "873              0.0              0.0                0.0            1.0  \n",
       "874              0.0              0.0                0.0            1.0  \n",
       "\n",
       "[875 rows x 35 columns]"
      ]
     },
     "execution_count": 56,
     "metadata": {},
     "output_type": "execute_result"
    }
   ],
   "source": [
    "X_train_encod"
   ]
  },
  {
   "cell_type": "code",
   "execution_count": 57,
   "metadata": {},
   "outputs": [],
   "source": [
    "# Las columnas tratadas con el one hot encoder me aparecen como valores tipo sparse[float64,0] y eso me da errores más adelante. \n",
    "#Utilizo el método sparse.to_dense() para transformar los valores de vuelta a float normal.\n",
    "X_train_encod.iloc[:,-20:] = X_train_encod.iloc[:,-20:].sparse.to_dense()"
   ]
  },
  {
   "cell_type": "code",
   "execution_count": 58,
   "metadata": {},
   "outputs": [
    {
     "name": "stdout",
     "output_type": "stream",
     "text": [
      "<class 'pandas.core.frame.DataFrame'>\n",
      "RangeIndex: 875 entries, 0 to 874\n",
      "Data columns (total 35 columns):\n",
      " #   Column                               Non-Null Count  Dtype  \n",
      "---  ------                               --------------  -----  \n",
      " 0   A1_score                             875 non-null    int64  \n",
      " 1   A2_score                             875 non-null    int64  \n",
      " 2   A3_score                             875 non-null    int64  \n",
      " 3   A4_score                             875 non-null    int64  \n",
      " 4   A5_score                             875 non-null    int64  \n",
      " 5   A6_score                             875 non-null    int64  \n",
      " 6   A7_score                             875 non-null    int64  \n",
      " 7   A8_score                             875 non-null    int64  \n",
      " 8   A9_score                             875 non-null    int64  \n",
      " 9   A10_score                            875 non-null    int64  \n",
      " 10  sex                                  875 non-null    int64  \n",
      " 11  jaundice                             875 non-null    int64  \n",
      " 12  fam_history_PDD                      875 non-null    int64  \n",
      " 13  country_of_res                       875 non-null    object \n",
      " 14  age_num                              875 non-null    int32  \n",
      " 15  ethnicity_'Middle Eastern '          875 non-null    float64\n",
      " 16  ethnicity_'South Asian'              875 non-null    float64\n",
      " 17  ethnicity_Asian                      875 non-null    float64\n",
      " 18  ethnicity_Black                      875 non-null    float64\n",
      " 19  ethnicity_Hispanic                   875 non-null    float64\n",
      " 20  ethnicity_Latino                     875 non-null    float64\n",
      " 21  ethnicity_Others                     875 non-null    float64\n",
      " 22  ethnicity_Pasifika                   875 non-null    float64\n",
      " 23  ethnicity_Turkish                    875 non-null    float64\n",
      " 24  ethnicity_White-European             875 non-null    float64\n",
      " 25  ethnicity_others                     875 non-null    float64\n",
      " 26  age_desc_'12-15 years'               875 non-null    float64\n",
      " 27  age_desc_'12-16 years'               875 non-null    float64\n",
      " 28  age_desc_'18 and more'               875 non-null    float64\n",
      " 29  age_desc_'4-11 years'                875 non-null    float64\n",
      " 30  relation_'Health care professional'  875 non-null    float64\n",
      " 31  relation_Others                      875 non-null    float64\n",
      " 32  relation_Parent                      875 non-null    float64\n",
      " 33  relation_Relative                    875 non-null    float64\n",
      " 34  relation_Self                        875 non-null    float64\n",
      "dtypes: float64(20), int32(1), int64(13), object(1)\n",
      "memory usage: 236.0+ KB\n"
     ]
    }
   ],
   "source": [
    "X_train_encod.info()"
   ]
  },
  {
   "cell_type": "code",
   "execution_count": 59,
   "metadata": {},
   "outputs": [
    {
     "name": "stdout",
     "output_type": "stream",
     "text": [
      "79\n"
     ]
    }
   ],
   "source": [
    "#Sólo queda una columna categórica, country_of_res: \n",
    "\n",
    "paises = X_train_encod[\"country_of_res\"].unique()\n",
    "print(len(paises))\n",
    "\n",
    "#Tiene 86 clases diferentes, no puedo hacer un get dummies con tantas categorías. \n",
    "\n",
    "#Elimino esta columna del dataset para los modelos de regresión logística y el svm y la dejo para el random forest y el xg boost.\n"
   ]
  },
  {
   "cell_type": "code",
   "execution_count": 60,
   "metadata": {},
   "outputs": [
    {
     "data": {
      "text/plain": [
       "False    875\n",
       "Name: age_num, dtype: int64"
      ]
     },
     "execution_count": 60,
     "metadata": {},
     "output_type": "execute_result"
    }
   ],
   "source": [
    "X_train_encod[\"age_num\"].isna().value_counts()"
   ]
  },
  {
   "cell_type": "markdown",
   "metadata": {},
   "source": [
    "#### 3. Transformación de la distribución de los datos en las variables numéricas"
   ]
  },
  {
   "cell_type": "code",
   "execution_count": 61,
   "metadata": {},
   "outputs": [
    {
     "name": "stdout",
     "output_type": "stream",
     "text": [
      "Asimetria: 0.5102876354230012\n"
     ]
    },
    {
     "data": {
      "text/plain": [
       "<AxesSubplot:xlabel='age_num'>"
      ]
     },
     "execution_count": 61,
     "metadata": {},
     "output_type": "execute_result"
    },
    {
     "data": {
      "image/png": "[encoded data removed]",
      "text/plain": [
       "<Figure size 720x360 with 1 Axes>"
      ]
     },
     "metadata": {},
     "output_type": "display_data"
    }
   ],
   "source": [
    "#Distribución de la variable age_num.\n",
    "\n",
    "#Medimos la asimetría\n",
    "\n",
    "from scipy.stats import skew\n",
    "print(\"Asimetria:\", skew(X_train_encod[\"age_num\"]))\n",
    "\n",
    "plt.figure(figsize=(10,5))\n",
    "\n",
    "sns.distplot(X_train_encod[\"age_num\"], kde = False, color = \"#87CEEB\")\n",
    "\n",
    "#Claramente no es una distribución normal. probar cox box y t log"
   ]
  },
  {
   "cell_type": "code",
   "execution_count": 62,
   "metadata": {},
   "outputs": [
    {
     "name": "stdout",
     "output_type": "stream",
     "text": [
      "Original:  0.5102876354230012\n",
      "Transformación logarítmica:  -0.6831190843571044\n",
      "Transformación de Box-Cox:  -0.11500361902546606\n"
     ]
    },
    {
     "data": {
      "image/png": "[encoded data removed]",
      "text/plain": [
       "<Figure size 1080x360 with 3 Axes>"
      ]
     },
     "metadata": {},
     "output_type": "display_data"
    }
   ],
   "source": [
    "from scipy import stats\n",
    "\n",
    "fig, axes = plt.subplots(1, 3, figsize=(15, 5), sharey=True)\n",
    "\n",
    "print(\"Original: \", skew(X_train_encod[\"age_num\"]))\n",
    "sns.distplot(X_train_encod[\"age_num\"], kde=False, ax=axes[0])\n",
    "\n",
    "# Logaritmic\n",
    "print(\"Transformación logarítmica: \", skew(np.log(X_train_encod[\"age_num\"]),))\n",
    "sns.distplot(np.log(X_train_encod[\"age_num\"]),kde=False, ax=axes[1])\n",
    "# np.exp(log_value) # para invertir la transformación\n",
    "\n",
    "# Box-cox\n",
    "print(\"Transformación de Box-Cox: \", skew(stats.boxcox(X_train_encod[\"age_num\"])[0]))\n",
    "sns.distplot(stats.boxcox(X_train_encod[\"age_num\"])[0],kde=False, ax=axes[2]); "
   ]
  },
  {
   "cell_type": "code",
   "execution_count": 63,
   "metadata": {},
   "outputs": [],
   "source": [
    "#Aplicamos una transformación de box cox que es la que más reduce la asimetría.\n",
    "\n",
    "from sklearn.preprocessing import power_transform\n",
    "\n",
    "array_age_num = X_train_encod[\"age_num\"].to_numpy()\n",
    "array_age_num = array_age_num.reshape(-1, 1)\n",
    "\n",
    "array_age_num = power_transform(array_age_num, method='box-cox')\n",
    "\n",
    "array_age_num = array_age_num.reshape(-1)#volvemos a pasar el array a una sola dimensión para poder convertirlo en Series de nuevo y reescribir el df.\n",
    "\n",
    "X_train_encod[\"age_num\"] = pd.Series(array_age_num)\n"
   ]
  },
  {
   "cell_type": "code",
   "execution_count": 64,
   "metadata": {},
   "outputs": [
    {
     "data": {
      "text/plain": [
       "0      0.690763\n",
       "1      0.813779\n",
       "2      1.048693\n",
       "3     -1.535814\n",
       "4     -0.690353\n",
       "         ...   \n",
       "870    0.431649\n",
       "871    0.498210\n",
       "872    0.690763\n",
       "873    0.627704\n",
       "874    0.932978\n",
       "Name: age_num, Length: 875, dtype: float64"
      ]
     },
     "execution_count": 64,
     "metadata": {},
     "output_type": "execute_result"
    }
   ],
   "source": [
    "X_train_encod[\"age_num\"]"
   ]
  },
  {
   "cell_type": "markdown",
   "metadata": {},
   "source": [
    "#### 4. Estandarización de los datos: \n",
    "\n",
    "Aplico un standard scaler a las variables numéricas age_num y screening_score\n"
   ]
  },
  {
   "cell_type": "code",
   "execution_count": 65,
   "metadata": {},
   "outputs": [
    {
     "data": {
      "text/plain": [
       "2.4159533617236812"
      ]
     },
     "execution_count": 65,
     "metadata": {},
     "output_type": "execute_result"
    }
   ],
   "source": [
    "#Aplico un standard scaler a age_num\n",
    "\n",
    "from sklearn.preprocessing import StandardScaler\n",
    "\n",
    "scal = StandardScaler() # Declaro el scaler\n",
    "\n",
    "array = X_train_encod[\"age_num\"].to_numpy()\n",
    "array = array.reshape(-1, 1)#para poder entrenar el scaler necesitamos hacer un reshape a un array de 2 dimensiones\n",
    "\n",
    "scal.fit(array) # Lo \"entreno\". Calculo su media y std \n",
    "array = scal.transform(array) # Aplico el scaler y sobreescribo ARRAY\n",
    "#print(array)\n",
    "\n",
    "array = array.reshape(-1)#volvemos a pasar el array a una sola dimensión para poder convertirlo en Series de nuevo y reescribir el df. \n",
    "\n",
    "X_train_encod[\"age_num\"] = pd.Series(array)\n",
    "\n",
    "X_train_encod[\"age_num\"].max()\n"
   ]
  },
  {
   "cell_type": "code",
   "execution_count": 66,
   "metadata": {},
   "outputs": [],
   "source": [
    "X_train_scaled = X_train_encod"
   ]
  },
  {
   "cell_type": "markdown",
   "metadata": {},
   "source": [
    "#### 5. Dataset X_train para modelar"
   ]
  },
  {
   "cell_type": "code",
   "execution_count": 67,
   "metadata": {},
   "outputs": [],
   "source": [
    "X_train_encod.to_csv(\"Autism_todos_limpio.csv\", index = False)"
   ]
  },
  {
   "cell_type": "markdown",
   "metadata": {},
   "source": [
    "### 6. Tratamiento de X_test "
   ]
  },
  {
   "cell_type": "code",
   "execution_count": 68,
   "metadata": {},
   "outputs": [
    {
     "name": "stdout",
     "output_type": "stream",
     "text": [
      "<class 'pandas.core.frame.DataFrame'>\n",
      "Int64Index: 219 entries, 931 to 220\n",
      "Data columns (total 18 columns):\n",
      " #   Column           Non-Null Count  Dtype \n",
      "---  ------           --------------  ----- \n",
      " 0   A1_score         219 non-null    int64 \n",
      " 1   A2_score         219 non-null    int64 \n",
      " 2   A3_score         219 non-null    int64 \n",
      " 3   A4_score         219 non-null    int64 \n",
      " 4   A5_score         219 non-null    int64 \n",
      " 5   A6_score         219 non-null    int64 \n",
      " 6   A7_score         219 non-null    int64 \n",
      " 7   A8_score         219 non-null    int64 \n",
      " 8   A9_score         219 non-null    int64 \n",
      " 9   A10_score        219 non-null    int64 \n",
      " 10  sex              219 non-null    object\n",
      " 11  ethnicity        219 non-null    object\n",
      " 12  jaundice         219 non-null    object\n",
      " 13  fam_history_PDD  219 non-null    object\n",
      " 14  country_of_res   219 non-null    object\n",
      " 15  age_num          219 non-null    int32 \n",
      " 16  age_desc         219 non-null    object\n",
      " 17  relation         219 non-null    object\n",
      "dtypes: int32(1), int64(10), object(7)\n",
      "memory usage: 31.7+ KB\n"
     ]
    },
    {
     "data": {
      "text/html": [
       "<div>\n",
       "<style scoped>\n",
       "    .dataframe tbody tr th:only-of-type {\n",
       "        vertical-align: middle;\n",
       "    }\n",
       "\n",
       "    .dataframe tbody tr th {\n",
       "        vertical-align: top;\n",
       "    }\n",
       "\n",
       "    .dataframe thead th {\n",
       "        text-align: right;\n",
       "    }\n",
       "</style>\n",
       "<table border=\"1\" class=\"dataframe\">\n",
       "  <thead>\n",
       "    <tr style=\"text-align: right;\">\n",
       "      <th>COL_N</th>\n",
       "      <th>A1_score</th>\n",
       "      <th>A2_score</th>\n",
       "      <th>A3_score</th>\n",
       "      <th>A4_score</th>\n",
       "      <th>A5_score</th>\n",
       "      <th>A6_score</th>\n",
       "      <th>A7_score</th>\n",
       "      <th>A8_score</th>\n",
       "      <th>A9_score</th>\n",
       "      <th>A10_score</th>\n",
       "      <th>sex</th>\n",
       "      <th>ethnicity</th>\n",
       "      <th>jaundice</th>\n",
       "      <th>fam_history_PDD</th>\n",
       "      <th>country_of_res</th>\n",
       "      <th>age_num</th>\n",
       "      <th>age_desc</th>\n",
       "      <th>relation</th>\n",
       "    </tr>\n",
       "  </thead>\n",
       "  <tbody>\n",
       "    <tr>\n",
       "      <th>DATA_TYPE</th>\n",
       "      <td>int64</td>\n",
       "      <td>int64</td>\n",
       "      <td>int64</td>\n",
       "      <td>int64</td>\n",
       "      <td>int64</td>\n",
       "      <td>int64</td>\n",
       "      <td>int64</td>\n",
       "      <td>int64</td>\n",
       "      <td>int64</td>\n",
       "      <td>int64</td>\n",
       "      <td>object</td>\n",
       "      <td>object</td>\n",
       "      <td>object</td>\n",
       "      <td>object</td>\n",
       "      <td>object</td>\n",
       "      <td>int32</td>\n",
       "      <td>object</td>\n",
       "      <td>object</td>\n",
       "    </tr>\n",
       "    <tr>\n",
       "      <th>MISSINGS (%)</th>\n",
       "      <td>0</td>\n",
       "      <td>0</td>\n",
       "      <td>0</td>\n",
       "      <td>0</td>\n",
       "      <td>0</td>\n",
       "      <td>0</td>\n",
       "      <td>0</td>\n",
       "      <td>0</td>\n",
       "      <td>0</td>\n",
       "      <td>0</td>\n",
       "      <td>0</td>\n",
       "      <td>0</td>\n",
       "      <td>0</td>\n",
       "      <td>0</td>\n",
       "      <td>0</td>\n",
       "      <td>0</td>\n",
       "      <td>0</td>\n",
       "      <td>0</td>\n",
       "    </tr>\n",
       "    <tr>\n",
       "      <th>UNIQUE_VALUES</th>\n",
       "      <td>2</td>\n",
       "      <td>2</td>\n",
       "      <td>2</td>\n",
       "      <td>2</td>\n",
       "      <td>2</td>\n",
       "      <td>2</td>\n",
       "      <td>2</td>\n",
       "      <td>2</td>\n",
       "      <td>2</td>\n",
       "      <td>2</td>\n",
       "      <td>2</td>\n",
       "      <td>10</td>\n",
       "      <td>2</td>\n",
       "      <td>2</td>\n",
       "      <td>49</td>\n",
       "      <td>46</td>\n",
       "      <td>4</td>\n",
       "      <td>4</td>\n",
       "    </tr>\n",
       "    <tr>\n",
       "      <th>CARDIN (%)</th>\n",
       "      <td>0.91</td>\n",
       "      <td>0.91</td>\n",
       "      <td>0.91</td>\n",
       "      <td>0.91</td>\n",
       "      <td>0.91</td>\n",
       "      <td>0.91</td>\n",
       "      <td>0.91</td>\n",
       "      <td>0.91</td>\n",
       "      <td>0.91</td>\n",
       "      <td>0.91</td>\n",
       "      <td>0.91</td>\n",
       "      <td>4.57</td>\n",
       "      <td>0.91</td>\n",
       "      <td>0.91</td>\n",
       "      <td>22.37</td>\n",
       "      <td>21</td>\n",
       "      <td>1.83</td>\n",
       "      <td>1.83</td>\n",
       "    </tr>\n",
       "  </tbody>\n",
       "</table>\n",
       "</div>"
      ],
      "text/plain": [
       "COL_N         A1_score A2_score A3_score A4_score A5_score A6_score A7_score  \\\n",
       "DATA_TYPE        int64    int64    int64    int64    int64    int64    int64   \n",
       "MISSINGS (%)         0        0        0        0        0        0        0   \n",
       "UNIQUE_VALUES        2        2        2        2        2        2        2   \n",
       "CARDIN (%)        0.91     0.91     0.91     0.91     0.91     0.91     0.91   \n",
       "\n",
       "COL_N         A8_score A9_score A10_score     sex ethnicity jaundice  \\\n",
       "DATA_TYPE        int64    int64     int64  object    object   object   \n",
       "MISSINGS (%)         0        0         0       0         0        0   \n",
       "UNIQUE_VALUES        2        2         2       2        10        2   \n",
       "CARDIN (%)        0.91     0.91      0.91    0.91      4.57     0.91   \n",
       "\n",
       "COL_N         fam_history_PDD country_of_res age_num age_desc relation  \n",
       "DATA_TYPE              object         object   int32   object   object  \n",
       "MISSINGS (%)                0              0       0        0        0  \n",
       "UNIQUE_VALUES               2             49      46        4        4  \n",
       "CARDIN (%)               0.91          22.37      21     1.83     1.83  "
      ]
     },
     "execution_count": 68,
     "metadata": {},
     "output_type": "execute_result"
    }
   ],
   "source": [
    "## 9. Processing X_test\n",
    "\n",
    "X_test.info()\n",
    "X_test.describe()\n",
    "data_report(X_test)"
   ]
  },
  {
   "cell_type": "code",
   "execution_count": 69,
   "metadata": {},
   "outputs": [
    {
     "data": {
      "text/html": [
       "<div>\n",
       "<style scoped>\n",
       "    .dataframe tbody tr th:only-of-type {\n",
       "        vertical-align: middle;\n",
       "    }\n",
       "\n",
       "    .dataframe tbody tr th {\n",
       "        vertical-align: top;\n",
       "    }\n",
       "\n",
       "    .dataframe thead th {\n",
       "        text-align: right;\n",
       "    }\n",
       "</style>\n",
       "<table border=\"1\" class=\"dataframe\">\n",
       "  <thead>\n",
       "    <tr style=\"text-align: right;\">\n",
       "      <th></th>\n",
       "      <th>A1_score</th>\n",
       "      <th>A2_score</th>\n",
       "      <th>A3_score</th>\n",
       "      <th>A4_score</th>\n",
       "      <th>A5_score</th>\n",
       "      <th>A6_score</th>\n",
       "      <th>A7_score</th>\n",
       "      <th>A8_score</th>\n",
       "      <th>A9_score</th>\n",
       "      <th>A10_score</th>\n",
       "      <th>age_num</th>\n",
       "    </tr>\n",
       "  </thead>\n",
       "  <tbody>\n",
       "    <tr>\n",
       "      <th>count</th>\n",
       "      <td>219.000000</td>\n",
       "      <td>219.000000</td>\n",
       "      <td>219.000000</td>\n",
       "      <td>219.000000</td>\n",
       "      <td>219.000000</td>\n",
       "      <td>219.000000</td>\n",
       "      <td>219.000000</td>\n",
       "      <td>219.000000</td>\n",
       "      <td>219.000000</td>\n",
       "      <td>219.000000</td>\n",
       "      <td>219.000000</td>\n",
       "    </tr>\n",
       "    <tr>\n",
       "      <th>mean</th>\n",
       "      <td>0.726027</td>\n",
       "      <td>0.465753</td>\n",
       "      <td>0.616438</td>\n",
       "      <td>0.561644</td>\n",
       "      <td>0.598174</td>\n",
       "      <td>0.470320</td>\n",
       "      <td>0.465753</td>\n",
       "      <td>0.634703</td>\n",
       "      <td>0.420091</td>\n",
       "      <td>0.616438</td>\n",
       "      <td>20.283105</td>\n",
       "    </tr>\n",
       "    <tr>\n",
       "      <th>std</th>\n",
       "      <td>0.447017</td>\n",
       "      <td>0.499969</td>\n",
       "      <td>0.487367</td>\n",
       "      <td>0.497322</td>\n",
       "      <td>0.491390</td>\n",
       "      <td>0.500262</td>\n",
       "      <td>0.499969</td>\n",
       "      <td>0.482616</td>\n",
       "      <td>0.494704</td>\n",
       "      <td>0.487367</td>\n",
       "      <td>12.204009</td>\n",
       "    </tr>\n",
       "    <tr>\n",
       "      <th>min</th>\n",
       "      <td>0.000000</td>\n",
       "      <td>0.000000</td>\n",
       "      <td>0.000000</td>\n",
       "      <td>0.000000</td>\n",
       "      <td>0.000000</td>\n",
       "      <td>0.000000</td>\n",
       "      <td>0.000000</td>\n",
       "      <td>0.000000</td>\n",
       "      <td>0.000000</td>\n",
       "      <td>0.000000</td>\n",
       "      <td>4.000000</td>\n",
       "    </tr>\n",
       "    <tr>\n",
       "      <th>25%</th>\n",
       "      <td>0.000000</td>\n",
       "      <td>0.000000</td>\n",
       "      <td>0.000000</td>\n",
       "      <td>0.000000</td>\n",
       "      <td>0.000000</td>\n",
       "      <td>0.000000</td>\n",
       "      <td>0.000000</td>\n",
       "      <td>0.000000</td>\n",
       "      <td>0.000000</td>\n",
       "      <td>0.000000</td>\n",
       "      <td>10.000000</td>\n",
       "    </tr>\n",
       "    <tr>\n",
       "      <th>50%</th>\n",
       "      <td>1.000000</td>\n",
       "      <td>0.000000</td>\n",
       "      <td>1.000000</td>\n",
       "      <td>1.000000</td>\n",
       "      <td>1.000000</td>\n",
       "      <td>0.000000</td>\n",
       "      <td>0.000000</td>\n",
       "      <td>1.000000</td>\n",
       "      <td>0.000000</td>\n",
       "      <td>1.000000</td>\n",
       "      <td>20.000000</td>\n",
       "    </tr>\n",
       "    <tr>\n",
       "      <th>75%</th>\n",
       "      <td>1.000000</td>\n",
       "      <td>1.000000</td>\n",
       "      <td>1.000000</td>\n",
       "      <td>1.000000</td>\n",
       "      <td>1.000000</td>\n",
       "      <td>1.000000</td>\n",
       "      <td>1.000000</td>\n",
       "      <td>1.000000</td>\n",
       "      <td>1.000000</td>\n",
       "      <td>1.000000</td>\n",
       "      <td>28.000000</td>\n",
       "    </tr>\n",
       "    <tr>\n",
       "      <th>max</th>\n",
       "      <td>1.000000</td>\n",
       "      <td>1.000000</td>\n",
       "      <td>1.000000</td>\n",
       "      <td>1.000000</td>\n",
       "      <td>1.000000</td>\n",
       "      <td>1.000000</td>\n",
       "      <td>1.000000</td>\n",
       "      <td>1.000000</td>\n",
       "      <td>1.000000</td>\n",
       "      <td>1.000000</td>\n",
       "      <td>60.000000</td>\n",
       "    </tr>\n",
       "  </tbody>\n",
       "</table>\n",
       "</div>"
      ],
      "text/plain": [
       "         A1_score    A2_score    A3_score    A4_score    A5_score    A6_score  \\\n",
       "count  219.000000  219.000000  219.000000  219.000000  219.000000  219.000000   \n",
       "mean     0.726027    0.465753    0.616438    0.561644    0.598174    0.470320   \n",
       "std      0.447017    0.499969    0.487367    0.497322    0.491390    0.500262   \n",
       "min      0.000000    0.000000    0.000000    0.000000    0.000000    0.000000   \n",
       "25%      0.000000    0.000000    0.000000    0.000000    0.000000    0.000000   \n",
       "50%      1.000000    0.000000    1.000000    1.000000    1.000000    0.000000   \n",
       "75%      1.000000    1.000000    1.000000    1.000000    1.000000    1.000000   \n",
       "max      1.000000    1.000000    1.000000    1.000000    1.000000    1.000000   \n",
       "\n",
       "         A7_score    A8_score    A9_score   A10_score     age_num  \n",
       "count  219.000000  219.000000  219.000000  219.000000  219.000000  \n",
       "mean     0.465753    0.634703    0.420091    0.616438   20.283105  \n",
       "std      0.499969    0.482616    0.494704    0.487367   12.204009  \n",
       "min      0.000000    0.000000    0.000000    0.000000    4.000000  \n",
       "25%      0.000000    0.000000    0.000000    0.000000   10.000000  \n",
       "50%      0.000000    1.000000    0.000000    1.000000   20.000000  \n",
       "75%      1.000000    1.000000    1.000000    1.000000   28.000000  \n",
       "max      1.000000    1.000000    1.000000    1.000000   60.000000  "
      ]
     },
     "execution_count": 69,
     "metadata": {},
     "output_type": "execute_result"
    }
   ],
   "source": [
    "X_test.describe()"
   ]
  },
  {
   "cell_type": "code",
   "execution_count": 70,
   "metadata": {},
   "outputs": [
    {
     "name": "stdout",
     "output_type": "stream",
     "text": [
      "['White-European' 'Others' 'Asian' \"'South Asian'\" \"'Middle Eastern '\"\n",
      " 'Hispanic' 'Turkish' 'Latino' 'Pasifika' 'Black']\n",
      "[\"'4-11 years'\" \"'18 and more'\" \"'12-16 years'\" \"'12-15 years'\"]\n",
      "['Self' 'Parent' 'Relative' \"'Health care professional'\"]\n"
     ]
    }
   ],
   "source": [
    "print(X_test[\"ethnicity\"].unique())\n",
    "print(X_test[\"age_desc\"].unique())\n",
    "print(X_test[\"relation\"].unique())\n",
    "\n",
    "#En ethnicity me falta 1 categoría y en age_desc otra. En total, me faltan dos. Por eso al hacer el get dummies me quedo\n",
    "#dos columnas más corta."
   ]
  },
  {
   "cell_type": "code",
   "execution_count": 71,
   "metadata": {},
   "outputs": [
    {
     "data": {
      "text/html": [
       "<div>\n",
       "<style scoped>\n",
       "    .dataframe tbody tr th:only-of-type {\n",
       "        vertical-align: middle;\n",
       "    }\n",
       "\n",
       "    .dataframe tbody tr th {\n",
       "        vertical-align: top;\n",
       "    }\n",
       "\n",
       "    .dataframe thead th {\n",
       "        text-align: right;\n",
       "    }\n",
       "</style>\n",
       "<table border=\"1\" class=\"dataframe\">\n",
       "  <thead>\n",
       "    <tr style=\"text-align: right;\">\n",
       "      <th></th>\n",
       "      <th>ethnicity_'Middle Eastern '</th>\n",
       "      <th>ethnicity_'South Asian'</th>\n",
       "      <th>ethnicity_Asian</th>\n",
       "      <th>ethnicity_Black</th>\n",
       "      <th>ethnicity_Hispanic</th>\n",
       "      <th>ethnicity_Latino</th>\n",
       "      <th>ethnicity_Others</th>\n",
       "      <th>ethnicity_Pasifika</th>\n",
       "      <th>ethnicity_Turkish</th>\n",
       "      <th>ethnicity_White-European</th>\n",
       "      <th>ethnicity_others</th>\n",
       "      <th>age_desc_'12-15 years'</th>\n",
       "      <th>age_desc_'12-16 years'</th>\n",
       "      <th>age_desc_'18 and more'</th>\n",
       "      <th>age_desc_'4-11 years'</th>\n",
       "      <th>relation_'Health care professional'</th>\n",
       "      <th>relation_Others</th>\n",
       "      <th>relation_Parent</th>\n",
       "      <th>relation_Relative</th>\n",
       "      <th>relation_Self</th>\n",
       "    </tr>\n",
       "  </thead>\n",
       "  <tbody>\n",
       "    <tr>\n",
       "      <th>0</th>\n",
       "      <td>0.0</td>\n",
       "      <td>0.0</td>\n",
       "      <td>0.0</td>\n",
       "      <td>0.0</td>\n",
       "      <td>0.0</td>\n",
       "      <td>0.0</td>\n",
       "      <td>0.0</td>\n",
       "      <td>0.0</td>\n",
       "      <td>0.0</td>\n",
       "      <td>1.0</td>\n",
       "      <td>0.0</td>\n",
       "      <td>0.0</td>\n",
       "      <td>0.0</td>\n",
       "      <td>0.0</td>\n",
       "      <td>1.0</td>\n",
       "      <td>0.0</td>\n",
       "      <td>0.0</td>\n",
       "      <td>0.0</td>\n",
       "      <td>0.0</td>\n",
       "      <td>1.0</td>\n",
       "    </tr>\n",
       "    <tr>\n",
       "      <th>1</th>\n",
       "      <td>0.0</td>\n",
       "      <td>0.0</td>\n",
       "      <td>0.0</td>\n",
       "      <td>0.0</td>\n",
       "      <td>0.0</td>\n",
       "      <td>0.0</td>\n",
       "      <td>1.0</td>\n",
       "      <td>0.0</td>\n",
       "      <td>0.0</td>\n",
       "      <td>0.0</td>\n",
       "      <td>0.0</td>\n",
       "      <td>0.0</td>\n",
       "      <td>0.0</td>\n",
       "      <td>1.0</td>\n",
       "      <td>0.0</td>\n",
       "      <td>0.0</td>\n",
       "      <td>0.0</td>\n",
       "      <td>0.0</td>\n",
       "      <td>0.0</td>\n",
       "      <td>1.0</td>\n",
       "    </tr>\n",
       "    <tr>\n",
       "      <th>2</th>\n",
       "      <td>0.0</td>\n",
       "      <td>0.0</td>\n",
       "      <td>1.0</td>\n",
       "      <td>0.0</td>\n",
       "      <td>0.0</td>\n",
       "      <td>0.0</td>\n",
       "      <td>0.0</td>\n",
       "      <td>0.0</td>\n",
       "      <td>0.0</td>\n",
       "      <td>0.0</td>\n",
       "      <td>0.0</td>\n",
       "      <td>0.0</td>\n",
       "      <td>0.0</td>\n",
       "      <td>0.0</td>\n",
       "      <td>1.0</td>\n",
       "      <td>0.0</td>\n",
       "      <td>0.0</td>\n",
       "      <td>1.0</td>\n",
       "      <td>0.0</td>\n",
       "      <td>0.0</td>\n",
       "    </tr>\n",
       "    <tr>\n",
       "      <th>3</th>\n",
       "      <td>0.0</td>\n",
       "      <td>1.0</td>\n",
       "      <td>0.0</td>\n",
       "      <td>0.0</td>\n",
       "      <td>0.0</td>\n",
       "      <td>0.0</td>\n",
       "      <td>0.0</td>\n",
       "      <td>0.0</td>\n",
       "      <td>0.0</td>\n",
       "      <td>0.0</td>\n",
       "      <td>0.0</td>\n",
       "      <td>0.0</td>\n",
       "      <td>0.0</td>\n",
       "      <td>1.0</td>\n",
       "      <td>0.0</td>\n",
       "      <td>0.0</td>\n",
       "      <td>0.0</td>\n",
       "      <td>0.0</td>\n",
       "      <td>0.0</td>\n",
       "      <td>1.0</td>\n",
       "    </tr>\n",
       "    <tr>\n",
       "      <th>4</th>\n",
       "      <td>0.0</td>\n",
       "      <td>0.0</td>\n",
       "      <td>0.0</td>\n",
       "      <td>0.0</td>\n",
       "      <td>0.0</td>\n",
       "      <td>0.0</td>\n",
       "      <td>0.0</td>\n",
       "      <td>0.0</td>\n",
       "      <td>0.0</td>\n",
       "      <td>1.0</td>\n",
       "      <td>0.0</td>\n",
       "      <td>0.0</td>\n",
       "      <td>0.0</td>\n",
       "      <td>0.0</td>\n",
       "      <td>1.0</td>\n",
       "      <td>0.0</td>\n",
       "      <td>0.0</td>\n",
       "      <td>0.0</td>\n",
       "      <td>1.0</td>\n",
       "      <td>0.0</td>\n",
       "    </tr>\n",
       "    <tr>\n",
       "      <th>...</th>\n",
       "      <td>...</td>\n",
       "      <td>...</td>\n",
       "      <td>...</td>\n",
       "      <td>...</td>\n",
       "      <td>...</td>\n",
       "      <td>...</td>\n",
       "      <td>...</td>\n",
       "      <td>...</td>\n",
       "      <td>...</td>\n",
       "      <td>...</td>\n",
       "      <td>...</td>\n",
       "      <td>...</td>\n",
       "      <td>...</td>\n",
       "      <td>...</td>\n",
       "      <td>...</td>\n",
       "      <td>...</td>\n",
       "      <td>...</td>\n",
       "      <td>...</td>\n",
       "      <td>...</td>\n",
       "      <td>...</td>\n",
       "    </tr>\n",
       "    <tr>\n",
       "      <th>214</th>\n",
       "      <td>0.0</td>\n",
       "      <td>0.0</td>\n",
       "      <td>0.0</td>\n",
       "      <td>0.0</td>\n",
       "      <td>0.0</td>\n",
       "      <td>0.0</td>\n",
       "      <td>0.0</td>\n",
       "      <td>0.0</td>\n",
       "      <td>0.0</td>\n",
       "      <td>1.0</td>\n",
       "      <td>0.0</td>\n",
       "      <td>0.0</td>\n",
       "      <td>0.0</td>\n",
       "      <td>0.0</td>\n",
       "      <td>1.0</td>\n",
       "      <td>0.0</td>\n",
       "      <td>0.0</td>\n",
       "      <td>0.0</td>\n",
       "      <td>0.0</td>\n",
       "      <td>1.0</td>\n",
       "    </tr>\n",
       "    <tr>\n",
       "      <th>215</th>\n",
       "      <td>0.0</td>\n",
       "      <td>0.0</td>\n",
       "      <td>0.0</td>\n",
       "      <td>0.0</td>\n",
       "      <td>0.0</td>\n",
       "      <td>0.0</td>\n",
       "      <td>0.0</td>\n",
       "      <td>1.0</td>\n",
       "      <td>0.0</td>\n",
       "      <td>0.0</td>\n",
       "      <td>0.0</td>\n",
       "      <td>0.0</td>\n",
       "      <td>0.0</td>\n",
       "      <td>0.0</td>\n",
       "      <td>1.0</td>\n",
       "      <td>1.0</td>\n",
       "      <td>0.0</td>\n",
       "      <td>0.0</td>\n",
       "      <td>0.0</td>\n",
       "      <td>0.0</td>\n",
       "    </tr>\n",
       "    <tr>\n",
       "      <th>216</th>\n",
       "      <td>0.0</td>\n",
       "      <td>0.0</td>\n",
       "      <td>0.0</td>\n",
       "      <td>0.0</td>\n",
       "      <td>0.0</td>\n",
       "      <td>0.0</td>\n",
       "      <td>0.0</td>\n",
       "      <td>0.0</td>\n",
       "      <td>0.0</td>\n",
       "      <td>1.0</td>\n",
       "      <td>0.0</td>\n",
       "      <td>0.0</td>\n",
       "      <td>0.0</td>\n",
       "      <td>1.0</td>\n",
       "      <td>0.0</td>\n",
       "      <td>0.0</td>\n",
       "      <td>0.0</td>\n",
       "      <td>0.0</td>\n",
       "      <td>0.0</td>\n",
       "      <td>1.0</td>\n",
       "    </tr>\n",
       "    <tr>\n",
       "      <th>217</th>\n",
       "      <td>0.0</td>\n",
       "      <td>0.0</td>\n",
       "      <td>0.0</td>\n",
       "      <td>0.0</td>\n",
       "      <td>1.0</td>\n",
       "      <td>0.0</td>\n",
       "      <td>0.0</td>\n",
       "      <td>0.0</td>\n",
       "      <td>0.0</td>\n",
       "      <td>0.0</td>\n",
       "      <td>0.0</td>\n",
       "      <td>0.0</td>\n",
       "      <td>0.0</td>\n",
       "      <td>0.0</td>\n",
       "      <td>1.0</td>\n",
       "      <td>0.0</td>\n",
       "      <td>0.0</td>\n",
       "      <td>1.0</td>\n",
       "      <td>0.0</td>\n",
       "      <td>0.0</td>\n",
       "    </tr>\n",
       "    <tr>\n",
       "      <th>218</th>\n",
       "      <td>0.0</td>\n",
       "      <td>0.0</td>\n",
       "      <td>0.0</td>\n",
       "      <td>0.0</td>\n",
       "      <td>0.0</td>\n",
       "      <td>0.0</td>\n",
       "      <td>0.0</td>\n",
       "      <td>0.0</td>\n",
       "      <td>0.0</td>\n",
       "      <td>1.0</td>\n",
       "      <td>0.0</td>\n",
       "      <td>0.0</td>\n",
       "      <td>0.0</td>\n",
       "      <td>1.0</td>\n",
       "      <td>0.0</td>\n",
       "      <td>0.0</td>\n",
       "      <td>0.0</td>\n",
       "      <td>0.0</td>\n",
       "      <td>0.0</td>\n",
       "      <td>1.0</td>\n",
       "    </tr>\n",
       "  </tbody>\n",
       "</table>\n",
       "<p>219 rows × 20 columns</p>\n",
       "</div>"
      ],
      "text/plain": [
       "     ethnicity_'Middle Eastern '  ethnicity_'South Asian'  ethnicity_Asian  \\\n",
       "0                            0.0                      0.0              0.0   \n",
       "1                            0.0                      0.0              0.0   \n",
       "2                            0.0                      0.0              1.0   \n",
       "3                            0.0                      1.0              0.0   \n",
       "4                            0.0                      0.0              0.0   \n",
       "..                           ...                      ...              ...   \n",
       "214                          0.0                      0.0              0.0   \n",
       "215                          0.0                      0.0              0.0   \n",
       "216                          0.0                      0.0              0.0   \n",
       "217                          0.0                      0.0              0.0   \n",
       "218                          0.0                      0.0              0.0   \n",
       "\n",
       "     ethnicity_Black  ethnicity_Hispanic  ethnicity_Latino  ethnicity_Others  \\\n",
       "0                0.0                 0.0               0.0               0.0   \n",
       "1                0.0                 0.0               0.0               1.0   \n",
       "2                0.0                 0.0               0.0               0.0   \n",
       "3                0.0                 0.0               0.0               0.0   \n",
       "4                0.0                 0.0               0.0               0.0   \n",
       "..               ...                 ...               ...               ...   \n",
       "214              0.0                 0.0               0.0               0.0   \n",
       "215              0.0                 0.0               0.0               0.0   \n",
       "216              0.0                 0.0               0.0               0.0   \n",
       "217              0.0                 1.0               0.0               0.0   \n",
       "218              0.0                 0.0               0.0               0.0   \n",
       "\n",
       "     ethnicity_Pasifika  ethnicity_Turkish  ethnicity_White-European  \\\n",
       "0                   0.0                0.0                       1.0   \n",
       "1                   0.0                0.0                       0.0   \n",
       "2                   0.0                0.0                       0.0   \n",
       "3                   0.0                0.0                       0.0   \n",
       "4                   0.0                0.0                       1.0   \n",
       "..                  ...                ...                       ...   \n",
       "214                 0.0                0.0                       1.0   \n",
       "215                 1.0                0.0                       0.0   \n",
       "216                 0.0                0.0                       1.0   \n",
       "217                 0.0                0.0                       0.0   \n",
       "218                 0.0                0.0                       1.0   \n",
       "\n",
       "     ethnicity_others  age_desc_'12-15 years'  age_desc_'12-16 years'  \\\n",
       "0                 0.0                     0.0                     0.0   \n",
       "1                 0.0                     0.0                     0.0   \n",
       "2                 0.0                     0.0                     0.0   \n",
       "3                 0.0                     0.0                     0.0   \n",
       "4                 0.0                     0.0                     0.0   \n",
       "..                ...                     ...                     ...   \n",
       "214               0.0                     0.0                     0.0   \n",
       "215               0.0                     0.0                     0.0   \n",
       "216               0.0                     0.0                     0.0   \n",
       "217               0.0                     0.0                     0.0   \n",
       "218               0.0                     0.0                     0.0   \n",
       "\n",
       "     age_desc_'18 and more'  age_desc_'4-11 years'  \\\n",
       "0                       0.0                    1.0   \n",
       "1                       1.0                    0.0   \n",
       "2                       0.0                    1.0   \n",
       "3                       1.0                    0.0   \n",
       "4                       0.0                    1.0   \n",
       "..                      ...                    ...   \n",
       "214                     0.0                    1.0   \n",
       "215                     0.0                    1.0   \n",
       "216                     1.0                    0.0   \n",
       "217                     0.0                    1.0   \n",
       "218                     1.0                    0.0   \n",
       "\n",
       "     relation_'Health care professional'  relation_Others  relation_Parent  \\\n",
       "0                                    0.0              0.0              0.0   \n",
       "1                                    0.0              0.0              0.0   \n",
       "2                                    0.0              0.0              1.0   \n",
       "3                                    0.0              0.0              0.0   \n",
       "4                                    0.0              0.0              0.0   \n",
       "..                                   ...              ...              ...   \n",
       "214                                  0.0              0.0              0.0   \n",
       "215                                  1.0              0.0              0.0   \n",
       "216                                  0.0              0.0              0.0   \n",
       "217                                  0.0              0.0              1.0   \n",
       "218                                  0.0              0.0              0.0   \n",
       "\n",
       "     relation_Relative  relation_Self  \n",
       "0                  0.0            1.0  \n",
       "1                  0.0            1.0  \n",
       "2                  0.0            0.0  \n",
       "3                  0.0            1.0  \n",
       "4                  1.0            0.0  \n",
       "..                 ...            ...  \n",
       "214                0.0            1.0  \n",
       "215                0.0            0.0  \n",
       "216                0.0            1.0  \n",
       "217                0.0            0.0  \n",
       "218                0.0            1.0  \n",
       "\n",
       "[219 rows x 20 columns]"
      ]
     },
     "execution_count": 71,
     "metadata": {},
     "output_type": "execute_result"
    }
   ],
   "source": [
    "#Encodings (categorical features)\n",
    "\n",
    "X_test[\"jaundice\"] = X_test[\"jaundice\"].apply(mapping)\n",
    "X_test[\"fam_history_PDD\"] =X_test[\"fam_history_PDD\"].apply(mapping)\n",
    "X_test[\"sex\"] = X_test[\"sex\"].apply(mapping_2)\n",
    "\n",
    "#Encodings: one hot encoder (numerical features)\n",
    "\n",
    "X_test_onehot = onehot_train.transform(X_test[[\"ethnicity\",\"age_desc\",\"relation\"]])\n",
    "columns = onehot_train.get_feature_names([\"ethnicity\",\"age_desc\",\"relation\"])\n",
    "X_test_onehot = pd.DataFrame.sparse.from_spmatrix(X_test_onehot)\n",
    "X_test_onehot.columns = columns\n",
    "X_test_onehot\n"
   ]
  },
  {
   "cell_type": "code",
   "execution_count": 72,
   "metadata": {},
   "outputs": [],
   "source": [
    "\n",
    "X_test.drop(columns = [\"ethnicity\",\"age_desc\",\"relation\"], axis = 1,inplace = True)   \n",
    "X_test.reset_index(inplace = True, drop=True)\n",
    "X_test_encod = pd.concat([X_test, X_test_onehot], axis = 1)\n",
    "\n",
    "#Transformaciones logarítmicas: box cox\n",
    "\n",
    "array_age_num_test = X_test_encod[\"age_num\"].to_numpy()\n",
    "array_age_num_test = array_age_num_test.reshape(-1, 1)\n",
    "array_age_num_test = power_transform(array_age_num_test, method='box-cox')\n",
    "array_age_num_test = array_age_num_test.reshape(-1)\n",
    "X_test_encod[\"age_num\"] = pd.Series(array_age_num_test)\n",
    "\n",
    "#Standard scaler\n",
    "\n",
    "array = X_test_encod[\"age_num\"].to_numpy()\n",
    "array = array.reshape(-1, 1)#para poder entrenar el scaler necesitamos hacer un reshape a un array de 2 dimensiones\n",
    "array = scal.transform(array) # Aplico el scaler que he entrenando con X_train y sobreescribo ARRAY\n",
    "array = array.reshape(-1)#volvemos a pasar el array a una sola dimensión para poder convertirlo en Series de nuevo y reescribir el df. \n",
    "X_test_encod[\"age_num\"] = pd.Series(array)\n"
   ]
  },
  {
   "cell_type": "code",
   "execution_count": 73,
   "metadata": {},
   "outputs": [
    {
     "data": {
      "text/html": [
       "<div>\n",
       "<style scoped>\n",
       "    .dataframe tbody tr th:only-of-type {\n",
       "        vertical-align: middle;\n",
       "    }\n",
       "\n",
       "    .dataframe tbody tr th {\n",
       "        vertical-align: top;\n",
       "    }\n",
       "\n",
       "    .dataframe thead th {\n",
       "        text-align: right;\n",
       "    }\n",
       "</style>\n",
       "<table border=\"1\" class=\"dataframe\">\n",
       "  <thead>\n",
       "    <tr style=\"text-align: right;\">\n",
       "      <th></th>\n",
       "      <th>A1_score</th>\n",
       "      <th>A2_score</th>\n",
       "      <th>A3_score</th>\n",
       "      <th>A4_score</th>\n",
       "      <th>A5_score</th>\n",
       "      <th>A6_score</th>\n",
       "      <th>A7_score</th>\n",
       "      <th>A8_score</th>\n",
       "      <th>A9_score</th>\n",
       "      <th>A10_score</th>\n",
       "      <th>...</th>\n",
       "      <th>ethnicity_others</th>\n",
       "      <th>age_desc_'12-15 years'</th>\n",
       "      <th>age_desc_'12-16 years'</th>\n",
       "      <th>age_desc_'18 and more'</th>\n",
       "      <th>age_desc_'4-11 years'</th>\n",
       "      <th>relation_'Health care professional'</th>\n",
       "      <th>relation_Others</th>\n",
       "      <th>relation_Parent</th>\n",
       "      <th>relation_Relative</th>\n",
       "      <th>relation_Self</th>\n",
       "    </tr>\n",
       "  </thead>\n",
       "  <tbody>\n",
       "    <tr>\n",
       "      <th>0</th>\n",
       "      <td>0</td>\n",
       "      <td>1</td>\n",
       "      <td>1</td>\n",
       "      <td>0</td>\n",
       "      <td>0</td>\n",
       "      <td>1</td>\n",
       "      <td>1</td>\n",
       "      <td>1</td>\n",
       "      <td>0</td>\n",
       "      <td>0</td>\n",
       "      <td>...</td>\n",
       "      <td>0.0</td>\n",
       "      <td>0.0</td>\n",
       "      <td>0.0</td>\n",
       "      <td>0.0</td>\n",
       "      <td>1.0</td>\n",
       "      <td>0.0</td>\n",
       "      <td>0.0</td>\n",
       "      <td>0.0</td>\n",
       "      <td>0.0</td>\n",
       "      <td>1.0</td>\n",
       "    </tr>\n",
       "    <tr>\n",
       "      <th>1</th>\n",
       "      <td>1</td>\n",
       "      <td>0</td>\n",
       "      <td>1</td>\n",
       "      <td>1</td>\n",
       "      <td>0</td>\n",
       "      <td>0</td>\n",
       "      <td>1</td>\n",
       "      <td>1</td>\n",
       "      <td>0</td>\n",
       "      <td>0</td>\n",
       "      <td>...</td>\n",
       "      <td>0.0</td>\n",
       "      <td>0.0</td>\n",
       "      <td>0.0</td>\n",
       "      <td>1.0</td>\n",
       "      <td>0.0</td>\n",
       "      <td>0.0</td>\n",
       "      <td>0.0</td>\n",
       "      <td>0.0</td>\n",
       "      <td>0.0</td>\n",
       "      <td>1.0</td>\n",
       "    </tr>\n",
       "    <tr>\n",
       "      <th>2</th>\n",
       "      <td>1</td>\n",
       "      <td>0</td>\n",
       "      <td>1</td>\n",
       "      <td>0</td>\n",
       "      <td>1</td>\n",
       "      <td>1</td>\n",
       "      <td>1</td>\n",
       "      <td>1</td>\n",
       "      <td>0</td>\n",
       "      <td>0</td>\n",
       "      <td>...</td>\n",
       "      <td>0.0</td>\n",
       "      <td>0.0</td>\n",
       "      <td>0.0</td>\n",
       "      <td>0.0</td>\n",
       "      <td>1.0</td>\n",
       "      <td>0.0</td>\n",
       "      <td>0.0</td>\n",
       "      <td>1.0</td>\n",
       "      <td>0.0</td>\n",
       "      <td>0.0</td>\n",
       "    </tr>\n",
       "    <tr>\n",
       "      <th>3</th>\n",
       "      <td>0</td>\n",
       "      <td>1</td>\n",
       "      <td>1</td>\n",
       "      <td>0</td>\n",
       "      <td>0</td>\n",
       "      <td>0</td>\n",
       "      <td>0</td>\n",
       "      <td>1</td>\n",
       "      <td>0</td>\n",
       "      <td>0</td>\n",
       "      <td>...</td>\n",
       "      <td>0.0</td>\n",
       "      <td>0.0</td>\n",
       "      <td>0.0</td>\n",
       "      <td>1.0</td>\n",
       "      <td>0.0</td>\n",
       "      <td>0.0</td>\n",
       "      <td>0.0</td>\n",
       "      <td>0.0</td>\n",
       "      <td>0.0</td>\n",
       "      <td>1.0</td>\n",
       "    </tr>\n",
       "    <tr>\n",
       "      <th>4</th>\n",
       "      <td>1</td>\n",
       "      <td>1</td>\n",
       "      <td>0</td>\n",
       "      <td>1</td>\n",
       "      <td>0</td>\n",
       "      <td>1</td>\n",
       "      <td>1</td>\n",
       "      <td>0</td>\n",
       "      <td>1</td>\n",
       "      <td>0</td>\n",
       "      <td>...</td>\n",
       "      <td>0.0</td>\n",
       "      <td>0.0</td>\n",
       "      <td>0.0</td>\n",
       "      <td>0.0</td>\n",
       "      <td>1.0</td>\n",
       "      <td>0.0</td>\n",
       "      <td>0.0</td>\n",
       "      <td>0.0</td>\n",
       "      <td>1.0</td>\n",
       "      <td>0.0</td>\n",
       "    </tr>\n",
       "    <tr>\n",
       "      <th>...</th>\n",
       "      <td>...</td>\n",
       "      <td>...</td>\n",
       "      <td>...</td>\n",
       "      <td>...</td>\n",
       "      <td>...</td>\n",
       "      <td>...</td>\n",
       "      <td>...</td>\n",
       "      <td>...</td>\n",
       "      <td>...</td>\n",
       "      <td>...</td>\n",
       "      <td>...</td>\n",
       "      <td>...</td>\n",
       "      <td>...</td>\n",
       "      <td>...</td>\n",
       "      <td>...</td>\n",
       "      <td>...</td>\n",
       "      <td>...</td>\n",
       "      <td>...</td>\n",
       "      <td>...</td>\n",
       "      <td>...</td>\n",
       "      <td>...</td>\n",
       "    </tr>\n",
       "    <tr>\n",
       "      <th>214</th>\n",
       "      <td>0</td>\n",
       "      <td>1</td>\n",
       "      <td>0</td>\n",
       "      <td>0</td>\n",
       "      <td>1</td>\n",
       "      <td>0</td>\n",
       "      <td>1</td>\n",
       "      <td>0</td>\n",
       "      <td>0</td>\n",
       "      <td>1</td>\n",
       "      <td>...</td>\n",
       "      <td>0.0</td>\n",
       "      <td>0.0</td>\n",
       "      <td>0.0</td>\n",
       "      <td>0.0</td>\n",
       "      <td>1.0</td>\n",
       "      <td>0.0</td>\n",
       "      <td>0.0</td>\n",
       "      <td>0.0</td>\n",
       "      <td>0.0</td>\n",
       "      <td>1.0</td>\n",
       "    </tr>\n",
       "    <tr>\n",
       "      <th>215</th>\n",
       "      <td>0</td>\n",
       "      <td>0</td>\n",
       "      <td>1</td>\n",
       "      <td>0</td>\n",
       "      <td>1</td>\n",
       "      <td>1</td>\n",
       "      <td>1</td>\n",
       "      <td>1</td>\n",
       "      <td>1</td>\n",
       "      <td>1</td>\n",
       "      <td>...</td>\n",
       "      <td>0.0</td>\n",
       "      <td>0.0</td>\n",
       "      <td>0.0</td>\n",
       "      <td>0.0</td>\n",
       "      <td>1.0</td>\n",
       "      <td>1.0</td>\n",
       "      <td>0.0</td>\n",
       "      <td>0.0</td>\n",
       "      <td>0.0</td>\n",
       "      <td>0.0</td>\n",
       "    </tr>\n",
       "    <tr>\n",
       "      <th>216</th>\n",
       "      <td>0</td>\n",
       "      <td>0</td>\n",
       "      <td>0</td>\n",
       "      <td>1</td>\n",
       "      <td>1</td>\n",
       "      <td>1</td>\n",
       "      <td>1</td>\n",
       "      <td>0</td>\n",
       "      <td>1</td>\n",
       "      <td>1</td>\n",
       "      <td>...</td>\n",
       "      <td>0.0</td>\n",
       "      <td>0.0</td>\n",
       "      <td>0.0</td>\n",
       "      <td>1.0</td>\n",
       "      <td>0.0</td>\n",
       "      <td>0.0</td>\n",
       "      <td>0.0</td>\n",
       "      <td>0.0</td>\n",
       "      <td>0.0</td>\n",
       "      <td>1.0</td>\n",
       "    </tr>\n",
       "    <tr>\n",
       "      <th>217</th>\n",
       "      <td>1</td>\n",
       "      <td>0</td>\n",
       "      <td>1</td>\n",
       "      <td>1</td>\n",
       "      <td>1</td>\n",
       "      <td>1</td>\n",
       "      <td>0</td>\n",
       "      <td>0</td>\n",
       "      <td>1</td>\n",
       "      <td>1</td>\n",
       "      <td>...</td>\n",
       "      <td>0.0</td>\n",
       "      <td>0.0</td>\n",
       "      <td>0.0</td>\n",
       "      <td>0.0</td>\n",
       "      <td>1.0</td>\n",
       "      <td>0.0</td>\n",
       "      <td>0.0</td>\n",
       "      <td>1.0</td>\n",
       "      <td>0.0</td>\n",
       "      <td>0.0</td>\n",
       "    </tr>\n",
       "    <tr>\n",
       "      <th>218</th>\n",
       "      <td>1</td>\n",
       "      <td>1</td>\n",
       "      <td>0</td>\n",
       "      <td>0</td>\n",
       "      <td>0</td>\n",
       "      <td>0</td>\n",
       "      <td>0</td>\n",
       "      <td>1</td>\n",
       "      <td>0</td>\n",
       "      <td>0</td>\n",
       "      <td>...</td>\n",
       "      <td>0.0</td>\n",
       "      <td>0.0</td>\n",
       "      <td>0.0</td>\n",
       "      <td>1.0</td>\n",
       "      <td>0.0</td>\n",
       "      <td>0.0</td>\n",
       "      <td>0.0</td>\n",
       "      <td>0.0</td>\n",
       "      <td>0.0</td>\n",
       "      <td>1.0</td>\n",
       "    </tr>\n",
       "  </tbody>\n",
       "</table>\n",
       "<p>219 rows × 35 columns</p>\n",
       "</div>"
      ],
      "text/plain": [
       "     A1_score  A2_score  A3_score  A4_score  A5_score  A6_score  A7_score  \\\n",
       "0           0         1         1         0         0         1         1   \n",
       "1           1         0         1         1         0         0         1   \n",
       "2           1         0         1         0         1         1         1   \n",
       "3           0         1         1         0         0         0         0   \n",
       "4           1         1         0         1         0         1         1   \n",
       "..        ...       ...       ...       ...       ...       ...       ...   \n",
       "214         0         1         0         0         1         0         1   \n",
       "215         0         0         1         0         1         1         1   \n",
       "216         0         0         0         1         1         1         1   \n",
       "217         1         0         1         1         1         1         0   \n",
       "218         1         1         0         0         0         0         0   \n",
       "\n",
       "     A8_score  A9_score  A10_score  ...  ethnicity_others  \\\n",
       "0           1         0          0  ...               0.0   \n",
       "1           1         0          0  ...               0.0   \n",
       "2           1         0          0  ...               0.0   \n",
       "3           1         0          0  ...               0.0   \n",
       "4           0         1          0  ...               0.0   \n",
       "..        ...       ...        ...  ...               ...   \n",
       "214         0         0          1  ...               0.0   \n",
       "215         1         1          1  ...               0.0   \n",
       "216         0         1          1  ...               0.0   \n",
       "217         0         1          1  ...               0.0   \n",
       "218         1         0          0  ...               0.0   \n",
       "\n",
       "     age_desc_'12-15 years'  age_desc_'12-16 years' age_desc_'18 and more'  \\\n",
       "0                       0.0                     0.0                    0.0   \n",
       "1                       0.0                     0.0                    1.0   \n",
       "2                       0.0                     0.0                    0.0   \n",
       "3                       0.0                     0.0                    1.0   \n",
       "4                       0.0                     0.0                    0.0   \n",
       "..                      ...                     ...                    ...   \n",
       "214                     0.0                     0.0                    0.0   \n",
       "215                     0.0                     0.0                    0.0   \n",
       "216                     0.0                     0.0                    1.0   \n",
       "217                     0.0                     0.0                    0.0   \n",
       "218                     0.0                     0.0                    1.0   \n",
       "\n",
       "     age_desc_'4-11 years'  relation_'Health care professional'  \\\n",
       "0                      1.0                                  0.0   \n",
       "1                      0.0                                  0.0   \n",
       "2                      1.0                                  0.0   \n",
       "3                      0.0                                  0.0   \n",
       "4                      1.0                                  0.0   \n",
       "..                     ...                                  ...   \n",
       "214                    1.0                                  0.0   \n",
       "215                    1.0                                  1.0   \n",
       "216                    0.0                                  0.0   \n",
       "217                    1.0                                  0.0   \n",
       "218                    0.0                                  0.0   \n",
       "\n",
       "     relation_Others  relation_Parent  relation_Relative  relation_Self  \n",
       "0                0.0              0.0                0.0            1.0  \n",
       "1                0.0              0.0                0.0            1.0  \n",
       "2                0.0              1.0                0.0            0.0  \n",
       "3                0.0              0.0                0.0            1.0  \n",
       "4                0.0              0.0                1.0            0.0  \n",
       "..               ...              ...                ...            ...  \n",
       "214              0.0              0.0                0.0            1.0  \n",
       "215              0.0              0.0                0.0            0.0  \n",
       "216              0.0              0.0                0.0            1.0  \n",
       "217              0.0              1.0                0.0            0.0  \n",
       "218              0.0              0.0                0.0            1.0  \n",
       "\n",
       "[219 rows x 35 columns]"
      ]
     },
     "execution_count": 73,
     "metadata": {},
     "output_type": "execute_result"
    }
   ],
   "source": [
    "X_test_encod"
   ]
  },
  {
   "cell_type": "code",
   "execution_count": 74,
   "metadata": {},
   "outputs": [],
   "source": [
    "# Las columnas tratadas con el one hot encoder me aparecen como valores tipo sparse[float64,0] y eso me da errores más adelante. \n",
    "#Utilizo el método sparse.to_dense() para transformar los valores de vuelta a float normal.\n",
    "X_test_encod.iloc[:,-20:] = X_test_encod.iloc[:,-20:].sparse.to_dense() "
   ]
  },
  {
   "cell_type": "code",
   "execution_count": 75,
   "metadata": {},
   "outputs": [
    {
     "name": "stdout",
     "output_type": "stream",
     "text": [
      "<class 'pandas.core.frame.DataFrame'>\n",
      "RangeIndex: 219 entries, 0 to 218\n",
      "Data columns (total 35 columns):\n",
      " #   Column                               Non-Null Count  Dtype  \n",
      "---  ------                               --------------  -----  \n",
      " 0   A1_score                             219 non-null    int64  \n",
      " 1   A2_score                             219 non-null    int64  \n",
      " 2   A3_score                             219 non-null    int64  \n",
      " 3   A4_score                             219 non-null    int64  \n",
      " 4   A5_score                             219 non-null    int64  \n",
      " 5   A6_score                             219 non-null    int64  \n",
      " 6   A7_score                             219 non-null    int64  \n",
      " 7   A8_score                             219 non-null    int64  \n",
      " 8   A9_score                             219 non-null    int64  \n",
      " 9   A10_score                            219 non-null    int64  \n",
      " 10  sex                                  219 non-null    int64  \n",
      " 11  jaundice                             219 non-null    int64  \n",
      " 12  fam_history_PDD                      219 non-null    int64  \n",
      " 13  country_of_res                       219 non-null    object \n",
      " 14  age_num                              219 non-null    float64\n",
      " 15  ethnicity_'Middle Eastern '          219 non-null    float64\n",
      " 16  ethnicity_'South Asian'              219 non-null    float64\n",
      " 17  ethnicity_Asian                      219 non-null    float64\n",
      " 18  ethnicity_Black                      219 non-null    float64\n",
      " 19  ethnicity_Hispanic                   219 non-null    float64\n",
      " 20  ethnicity_Latino                     219 non-null    float64\n",
      " 21  ethnicity_Others                     219 non-null    float64\n",
      " 22  ethnicity_Pasifika                   219 non-null    float64\n",
      " 23  ethnicity_Turkish                    219 non-null    float64\n",
      " 24  ethnicity_White-European             219 non-null    float64\n",
      " 25  ethnicity_others                     219 non-null    float64\n",
      " 26  age_desc_'12-15 years'               219 non-null    float64\n",
      " 27  age_desc_'12-16 years'               219 non-null    float64\n",
      " 28  age_desc_'18 and more'               219 non-null    float64\n",
      " 29  age_desc_'4-11 years'                219 non-null    float64\n",
      " 30  relation_'Health care professional'  219 non-null    float64\n",
      " 31  relation_Others                      219 non-null    float64\n",
      " 32  relation_Parent                      219 non-null    float64\n",
      " 33  relation_Relative                    219 non-null    float64\n",
      " 34  relation_Self                        219 non-null    float64\n",
      "dtypes: float64(21), int64(13), object(1)\n",
      "memory usage: 60.0+ KB\n"
     ]
    }
   ],
   "source": [
    "X_test_encod.info()"
   ]
  },
  {
   "cell_type": "markdown",
   "metadata": {},
   "source": [
    "## III Modelado\n",
    "\n",
    "En este proyecto se van a utilizar los siguientes algoritmos:\n",
    "\n",
    "- Logistic Regression\n",
    "- Random Forest Classifier (Bagging)\n",
    "- ADA Boosting\n",
    "- Red neuronal (deep learning)"
   ]
  },
  {
   "cell_type": "markdown",
   "metadata": {},
   "source": [
    "## 1. Logistic regression"
   ]
  },
  {
   "cell_type": "code",
   "execution_count": 76,
   "metadata": {},
   "outputs": [],
   "source": [
    "#Primero elimino la columna categórica que me queda en X_train y más adelante en X_test, que el modelo de regresión logística no me permite usarlas.\n",
    "X_train_encod.drop(columns = [\"country_of_res\"], axis = 1,inplace = True)  "
   ]
  },
  {
   "cell_type": "code",
   "execution_count": 77,
   "metadata": {},
   "outputs": [
    {
     "data": {
      "text/plain": [
       "LogisticRegression()"
      ]
     },
     "execution_count": 77,
     "metadata": {},
     "output_type": "execute_result"
    }
   ],
   "source": [
    "from sklearn.linear_model import LogisticRegression\n",
    "autism_log_reg = LogisticRegression()\n",
    "autism_log_reg.fit(X_train_encod,y_train)"
   ]
  },
  {
   "cell_type": "code",
   "execution_count": 104,
   "metadata": {},
   "outputs": [
    {
     "name": "stdout",
     "output_type": "stream",
     "text": [
      "[[ 2.47679424  2.82634488  0.18024508  0.23232629 -0.13589207  0.38884254\n",
      "  -0.98321009 -0.54543232 -0.17582468  0.73447187  0.61800838  0.40339261\n",
      "   0.50353495 -0.62005984  0.02806346  0.17357971 -0.1364107   0.16823727\n",
      "   0.37601497 -0.88486734  0.34072845  0.53017915 -0.44199643  0.40904942\n",
      "  -0.28593613 -0.21118266]]\n",
      "[-3.85336045]\n",
      "[0 1]\n"
     ]
    }
   ],
   "source": [
    "#print(len(np.unique(autism_log_reg.coef_)))\n",
    "print(autism_log_reg.coef_)\n",
    "print(autism_log_reg.intercept_)\n",
    "print(autism_log_reg.classes_)"
   ]
  },
  {
   "cell_type": "markdown",
   "metadata": {},
   "source": [
    "#### Feature importance "
   ]
  },
  {
   "cell_type": "code",
   "execution_count": 79,
   "metadata": {},
   "outputs": [
    {
     "data": {
      "text/html": [
       "<div>\n",
       "<style scoped>\n",
       "    .dataframe tbody tr th:only-of-type {\n",
       "        vertical-align: middle;\n",
       "    }\n",
       "\n",
       "    .dataframe tbody tr th {\n",
       "        vertical-align: top;\n",
       "    }\n",
       "\n",
       "    .dataframe thead th {\n",
       "        text-align: right;\n",
       "    }\n",
       "</style>\n",
       "<table border=\"1\" class=\"dataframe\">\n",
       "  <thead>\n",
       "    <tr style=\"text-align: right;\">\n",
       "      <th></th>\n",
       "      <th>coefficient</th>\n",
       "    </tr>\n",
       "  </thead>\n",
       "  <tbody>\n",
       "    <tr>\n",
       "      <th>A5_score</th>\n",
       "      <td>2.907991</td>\n",
       "    </tr>\n",
       "    <tr>\n",
       "      <th>A4_score</th>\n",
       "      <td>2.759498</td>\n",
       "    </tr>\n",
       "    <tr>\n",
       "      <th>A1_score</th>\n",
       "      <td>2.711664</td>\n",
       "    </tr>\n",
       "    <tr>\n",
       "      <th>A7_score</th>\n",
       "      <td>2.601813</td>\n",
       "    </tr>\n",
       "    <tr>\n",
       "      <th>A10_score</th>\n",
       "      <td>2.572138</td>\n",
       "    </tr>\n",
       "    <tr>\n",
       "      <th>A9_score</th>\n",
       "      <td>2.486265</td>\n",
       "    </tr>\n",
       "    <tr>\n",
       "      <th>A3_score</th>\n",
       "      <td>2.472605</td>\n",
       "    </tr>\n",
       "    <tr>\n",
       "      <th>A6_score</th>\n",
       "      <td>2.457421</td>\n",
       "    </tr>\n",
       "    <tr>\n",
       "      <th>A8_score</th>\n",
       "      <td>2.444377</td>\n",
       "    </tr>\n",
       "    <tr>\n",
       "      <th>A2_score</th>\n",
       "      <td>2.248296</td>\n",
       "    </tr>\n",
       "    <tr>\n",
       "      <th>ethnicity_Hispanic</th>\n",
       "      <td>0.382861</td>\n",
       "    </tr>\n",
       "    <tr>\n",
       "      <th>age_desc_'4-11 years'</th>\n",
       "      <td>0.352645</td>\n",
       "    </tr>\n",
       "    <tr>\n",
       "      <th>ethnicity_'Middle Eastern '</th>\n",
       "      <td>0.333567</td>\n",
       "    </tr>\n",
       "    <tr>\n",
       "      <th>age_desc_'18 and more'</th>\n",
       "      <td>0.333512</td>\n",
       "    </tr>\n",
       "    <tr>\n",
       "      <th>ethnicity_Others</th>\n",
       "      <td>0.232712</td>\n",
       "    </tr>\n",
       "    <tr>\n",
       "      <th>ethnicity_'South Asian'</th>\n",
       "      <td>0.210801</td>\n",
       "    </tr>\n",
       "    <tr>\n",
       "      <th>age_num</th>\n",
       "      <td>0.209794</td>\n",
       "    </tr>\n",
       "    <tr>\n",
       "      <th>ethnicity_Black</th>\n",
       "      <td>0.206647</td>\n",
       "    </tr>\n",
       "    <tr>\n",
       "      <th>ethnicity_Asian</th>\n",
       "      <td>0.205736</td>\n",
       "    </tr>\n",
       "    <tr>\n",
       "      <th>age_desc_'12-15 years'</th>\n",
       "      <td>0.197735</td>\n",
       "    </tr>\n",
       "    <tr>\n",
       "      <th>fam_history_PDD</th>\n",
       "      <td>0.183710</td>\n",
       "    </tr>\n",
       "    <tr>\n",
       "      <th>age_desc_'12-16 years'</th>\n",
       "      <td>0.178273</td>\n",
       "    </tr>\n",
       "    <tr>\n",
       "      <th>relation_'Health care professional'</th>\n",
       "      <td>0.176015</td>\n",
       "    </tr>\n",
       "    <tr>\n",
       "      <th>sex</th>\n",
       "      <td>0.165173</td>\n",
       "    </tr>\n",
       "    <tr>\n",
       "      <th>ethnicity_White-European</th>\n",
       "      <td>0.141262</td>\n",
       "    </tr>\n",
       "    <tr>\n",
       "      <th>ethnicity_Latino</th>\n",
       "      <td>0.133536</td>\n",
       "    </tr>\n",
       "    <tr>\n",
       "      <th>relation_Self</th>\n",
       "      <td>0.060511</td>\n",
       "    </tr>\n",
       "    <tr>\n",
       "      <th>relation_Others</th>\n",
       "      <td>0.053705</td>\n",
       "    </tr>\n",
       "    <tr>\n",
       "      <th>ethnicity_Pasifika</th>\n",
       "      <td>0.042917</td>\n",
       "    </tr>\n",
       "    <tr>\n",
       "      <th>relation_Parent</th>\n",
       "      <td>0.037203</td>\n",
       "    </tr>\n",
       "    <tr>\n",
       "      <th>relation_Relative</th>\n",
       "      <td>0.024269</td>\n",
       "    </tr>\n",
       "    <tr>\n",
       "      <th>ethnicity_others</th>\n",
       "      <td>0.021353</td>\n",
       "    </tr>\n",
       "    <tr>\n",
       "      <th>jaundice</th>\n",
       "      <td>0.019222</td>\n",
       "    </tr>\n",
       "    <tr>\n",
       "      <th>ethnicity_Turkish</th>\n",
       "      <td>0.000450</td>\n",
       "    </tr>\n",
       "  </tbody>\n",
       "</table>\n",
       "</div>"
      ],
      "text/plain": [
       "                                     coefficient\n",
       "A5_score                                2.907991\n",
       "A4_score                                2.759498\n",
       "A1_score                                2.711664\n",
       "A7_score                                2.601813\n",
       "A10_score                               2.572138\n",
       "A9_score                                2.486265\n",
       "A3_score                                2.472605\n",
       "A6_score                                2.457421\n",
       "A8_score                                2.444377\n",
       "A2_score                                2.248296\n",
       "ethnicity_Hispanic                      0.382861\n",
       "age_desc_'4-11 years'                   0.352645\n",
       "ethnicity_'Middle Eastern '             0.333567\n",
       "age_desc_'18 and more'                  0.333512\n",
       "ethnicity_Others                        0.232712\n",
       "ethnicity_'South Asian'                 0.210801\n",
       "age_num                                 0.209794\n",
       "ethnicity_Black                         0.206647\n",
       "ethnicity_Asian                         0.205736\n",
       "age_desc_'12-15 years'                  0.197735\n",
       "fam_history_PDD                         0.183710\n",
       "age_desc_'12-16 years'                  0.178273\n",
       "relation_'Health care professional'     0.176015\n",
       "sex                                     0.165173\n",
       "ethnicity_White-European                0.141262\n",
       "ethnicity_Latino                        0.133536\n",
       "relation_Self                           0.060511\n",
       "relation_Others                         0.053705\n",
       "ethnicity_Pasifika                      0.042917\n",
       "relation_Parent                         0.037203\n",
       "relation_Relative                       0.024269\n",
       "ethnicity_others                        0.021353\n",
       "jaundice                                0.019222\n",
       "ethnicity_Turkish                       0.000450"
      ]
     },
     "execution_count": 79,
     "metadata": {},
     "output_type": "execute_result"
    }
   ],
   "source": [
    "intercept = autism_log_reg.intercept_\n",
    "coefs = autism_log_reg.coef_.ravel()\n",
    "\n",
    "features = pd.DataFrame(coefs, X_train_encod.columns, columns=['coefficient']).copy()\n",
    "features['coefficient'] = np.abs(features['coefficient'])\n",
    "\n",
    "features.sort_values('coefficient', ascending=False)"
   ]
  },
  {
   "cell_type": "code",
   "execution_count": 80,
   "metadata": {},
   "outputs": [
    {
     "data": {
      "image/png": "[encoded data removed]",
      "text/plain": [
       "<Figure size 1440x720 with 1 Axes>"
      ]
     },
     "metadata": {},
     "output_type": "display_data"
    }
   ],
   "source": [
    "plt.figure(figsize=(20,10))\n",
    "\n",
    "stdevs = []\n",
    "for i in X_train_encod.columns:\n",
    "    stdev = X_train_encod[i].std()\n",
    "    stdevs.append(stdev)\n",
    "\n",
    "features[\"stdev\"] = np.array(stdevs).reshape(-1,1)\n",
    "features[\"importance\"] = features[\"coefficient\"] * features[\"stdev\"]\n",
    "features['importance_standarized'] = features['importance'] / y_train.std()\n",
    "\n",
    "features = features.sort_values('importance_standarized', ascending=True)\n",
    "plt.barh(features.index, features.importance_standarized);"
   ]
  },
  {
   "cell_type": "markdown",
   "metadata": {},
   "source": [
    "#### Predictions"
   ]
  },
  {
   "cell_type": "code",
   "execution_count": 81,
   "metadata": {
    "collapsed": true,
    "jupyter": {
     "outputs_hidden": true
    }
   },
   "outputs": [
    {
     "name": "stdout",
     "output_type": "stream",
     "text": [
      "[1 0 0 1 0 0 1 1 0 1 0 0 0 1 0 0 0 0 1 1 1 1 1 1 1 1 1 0 1 0 1 1 1 1 1 0 1\n",
      " 0 1 1 0 0 0 1 0 1 1 0 0 0 0 1 0 1 0 0 1 0 0 1 0 1 1 1 0 0 0 1 0 0 0 0 0 0\n",
      " 1 0 0 0 0 0 0 0 0 1 1 1 1 0 0 0 1 1 1 1 1 1 0 0 0 0 0 0 0 0 1 0 1 1 0 0 0\n",
      " 1 0 0 0 1 1 1 1 1 0 1 1 0 0 0 0 1 1 1 0 1 0 0 1 1 0 0 0 0 0 1 0 0 1 0 0 0\n",
      " 0 0 0 0 1 1 0 0 1 0 0 0 1 0 0 1 0 0 0 0 0 1 0 0 1 1 1 1 0 1 0 0 1 0 1 0 0\n",
      " 0 0 1 0 0 1 1 1 1 0 0 0 0 1 1 0 1 1 1 1 1 0 0 1 0 1 0 1 1 0 1 0 0 0 1 0 1\n",
      " 1 0 0 1 1 0 1 1 0 0 0 1 1 0 1 0 1 1 0 0 0 0 0 0 0 0 0 0 0 1 0 0 1 0 0 1 0\n",
      " 0 0 0 1 0 0 0 0 0 0 0 0 1 0 0 0 1 1 1 0 1 1 0 1 0 0 1 0 0 1 1 0 1 1 0 0 0\n",
      " 0 1 0 1 1 1 0 1 0 0 0 1 1 0 0 0 0 0 0 1 0 1 0 0 0 0 1 1 0 1 0 1 0 1 0 0 0\n",
      " 1 0 0 0 0 1 0 0 0 0 1 0 0 1 1 1 1 0 1 0 0 0 1 0 0 0 0 0 0 0 1 0 0 0 0 1 0\n",
      " 1 0 1 0 0 1 0 1 0 1 0 0 0 0 0 0 0 0 0 0 0 0 1 0 1 0 0 1 1 1 0 1 0 0 0 0 0\n",
      " 0 0 0 1 0 1 0 1 0 1 0 0 0 1 1 0 0 0 0 0 1 0 0 0 0 1 0 1 1 0 0 1 0 0 1 0 0\n",
      " 0 1 0 0 1 0 0 1 1 0 0 0 1 0 0 0 1 0 1 1 1 0 1 1 0 0 0 0 0 0 0 0 0 0 0 0 0\n",
      " 1 0 1 0 1 0 0 0 0 0 0 1 0 1 0 0 1 0 0 0 0 0 0 1 1 0 0 0 0 0 0 1 1 0 0 0 0\n",
      " 1 0 0 1 1 0 0 0 0 0 0 1 1 0 0 0 1 1 0 0 0 1 0 0 1 0 0 1 1 0 0 0 1 0 1 0 0\n",
      " 1 1 0 0 0 0 0 0 0 1 0 1 0 0 1 1 0 0 1 0 0 0 0 1 0 0 1 1 1 0 1 0 1 1 0 0 1\n",
      " 1 0 1 0 0 1 0 0 1 0 0 0 1 0 1 0 0 1 0 0 1 1 0 0 0 0 1 0 0 0 0 1 0 0 0 0 1\n",
      " 0 1 1 0 1 1 1 1 1 1 0 1 0 0 0 0 0 0 0 1 0 1 0 0 0 0 0 0 0 0 1 0 1 0 0 1 1\n",
      " 1 1 1 0 0 0 0 1 1 0 1 0 0 0 1 0 0 0 1 0 0 0 1 1 1 0 1 0 1 0 0 1 0 0 0 1 0\n",
      " 1 1 1 0 1 0 0 0 1 0 1 0 0 1 0 1 0 0 1 0 0 0 0 0 0 0 0 0 0 1 0 0 0 0 0 0 0\n",
      " 0 0 0 1 0 0 0 0 1 0 1 0 0 1 0 0 1 0 1 0 1 0 0 1 0 0 0 0 0 0 1 1 1 0 0 0 1\n",
      " 1 0 1 0 1 1 1 0 0 0 0 0 0 0 0 1 1 1 0 0 0 0 0 0 1 0 0 0 1 0 0 0 1 1 1 0 0\n",
      " 0 1 0 0 1 0 1 0 0 0 0 0 0 1 0 0 0 1 1 0 1 0 0 0 0 0 0 0 0 0 1 0 1 1 0 0 0\n",
      " 1 0 0 0 0 0 1 1 1 0 1 0 1 0 0 0 0 0 0 0 0 0 0 0]\n"
     ]
    }
   ],
   "source": [
    "train_predictions = autism_log_reg.predict(X_train_encod)\n",
    "print(train_predictions)"
   ]
  },
  {
   "cell_type": "code",
   "execution_count": 82,
   "metadata": {
    "collapsed": true,
    "jupyter": {
     "outputs_hidden": true
    }
   },
   "outputs": [
    {
     "data": {
      "text/plain": [
       "490     1\n",
       "277     0\n",
       "657     0\n",
       "1094    1\n",
       "781     0\n",
       "       ..\n",
       "420     0\n",
       "475     0\n",
       "49      0\n",
       "280     0\n",
       "434     0\n",
       "Name: class, Length: 875, dtype: int64"
      ]
     },
     "execution_count": 82,
     "metadata": {},
     "output_type": "execute_result"
    }
   ],
   "source": [
    "y_train"
   ]
  },
  {
   "cell_type": "code",
   "execution_count": 83,
   "metadata": {},
   "outputs": [],
   "source": [
    "X_test_encod.drop(columns = [\"country_of_res\"], axis = 1,inplace = True)   "
   ]
  },
  {
   "cell_type": "code",
   "execution_count": 84,
   "metadata": {
    "collapsed": true,
    "jupyter": {
     "outputs_hidden": true
    }
   },
   "outputs": [
    {
     "name": "stdout",
     "output_type": "stream",
     "text": [
      "[0 0 0 0 0 1 0 1 0 0 1 1 0 0 0 0 0 0 1 1 0 0 1 0 1 1 0 1 0 0 1 0 1 1 0 1 0\n",
      " 1 0 1 1 0 0 0 1 0 0 0 0 1 0 0 1 0 0 1 1 0 0 0 0 0 0 0 1 0 1 0 0 1 0 0 0 1\n",
      " 0 0 1 0 0 0 1 0 0 0 1 1 0 0 1 0 1 1 0 0 0 1 0 0 0 0 1 1 0 1 0 1 0 1 0 1 0\n",
      " 0 0 1 0 0 1 0 1 0 1 0 0 1 1 0 0 1 0 0 0 0 0 0 0 0 1 1 1 0 0 0 1 0 1 0 0 1\n",
      " 0 0 0 0 0 0 1 0 1 0 1 0 0 1 0 1 0 0 0 1 1 0 0 0 0 1 0 1 1 0 1 0 1 1 0 0 0\n",
      " 0 1 1 0 0 0 1 0 0 0 1 1 0 0 1 0 0 1 0 0 0 0 1 0 1 0 1 0 0 0 1 0 1 0]\n"
     ]
    }
   ],
   "source": [
    "test_predictions = autism_log_reg.predict(X_test_encod)\n",
    "print(test_predictions)"
   ]
  },
  {
   "cell_type": "markdown",
   "metadata": {},
   "source": [
    "#### Accuracy"
   ]
  },
  {
   "cell_type": "code",
   "execution_count": 85,
   "metadata": {},
   "outputs": [
    {
     "name": "stdout",
     "output_type": "stream",
     "text": [
      "Acc train: 1.0\n",
      "Acc test: 1.0\n"
     ]
    }
   ],
   "source": [
    "from sklearn.metrics import accuracy_score\n",
    "\n",
    "acc_train = accuracy_score(train_predictions, y_train)\n",
    "\n",
    "acc_test = accuracy_score(test_predictions, y_test)\n",
    "\n",
    "print(\"Acc train:\", acc_train)\n",
    "print(\"Acc test:\", acc_test)"
   ]
  },
  {
   "cell_type": "markdown",
   "metadata": {},
   "source": [
    "### Eliminacion de variables relativas al cuestionario\n",
    "\n",
    "Las 4 variables procedentes del cuestionario que tienen mayor coefficiente según el feature importance anterior son las siguientes:  A5_score,A4_score, A1_score y A7_score.\n",
    "Las preguntas correspondientes en el cuestionario son las siguientes:\n",
    "\n",
    "1.\tI often notice small sounds when others do not:\n",
    "\n",
    "    •\tDefinitely agree\n",
    "    \n",
    "    •\tSlightly agree\n",
    "    \n",
    "    •\tSlightly disagree\n",
    "    \n",
    "    •\tDefinitely disagree\n",
    "    \n",
    "    \n",
    "4.\tIf there is an interruption, I can switch back to what I was doing very quickly.\n",
    "\n",
    "    •\tDefinitely agree\n",
    "    \n",
    "    •\tSlightly agree\n",
    "    \n",
    "    •\tSlightly disagree\n",
    "    \n",
    "    •\tDefinitely disagree\n",
    "    \n",
    "    \n",
    "5.\tI find it easy to read between the lines when someone is talking to me. \n",
    "\n",
    "    •\tDefinitely agree\n",
    "    \n",
    "    •\tSlightly agree\n",
    "    \n",
    "    •\tSlightly disagree\n",
    "    \n",
    "    •\tDefinitely disagree\n",
    "    \n",
    "    \n",
    "7.\tWhen I am reading a story I find it is difficult to work out the character´s intentions.\n",
    "\n",
    "    •\tDefinitely agree\n",
    "    \n",
    "    •\tSlightly agree\n",
    "    \n",
    "    •\tSlightly disagree\n",
    "    \n",
    "    •\tDefinitely disagree\n",
    "    \n",
    "Tomo solo las dos primeras, A5_score y A4_score, y vuelvo a modelar. "
   ]
  },
  {
   "cell_type": "code",
   "execution_count": 86,
   "metadata": {},
   "outputs": [],
   "source": [
    "X_train_encod.drop(columns = [\"A1_score\",'A2_score', 'A3_score','A6_score',\"A7_score\",'A8_score', 'A9_score', 'A10_score'], axis = \"columns\", inplace = True)  "
   ]
  },
  {
   "cell_type": "code",
   "execution_count": 87,
   "metadata": {},
   "outputs": [],
   "source": [
    "X_test_encod.drop(columns = [\"A1_score\",'A2_score', 'A3_score','A6_score',\"A7_score\",'A8_score', 'A9_score', 'A10_score'], axis = \"columns\", inplace = True)  "
   ]
  },
  {
   "cell_type": "markdown",
   "metadata": {},
   "source": [
    "#### Training"
   ]
  },
  {
   "cell_type": "code",
   "execution_count": 107,
   "metadata": {},
   "outputs": [
    {
     "data": {
      "text/plain": [
       "LogisticRegression()"
      ]
     },
     "execution_count": 107,
     "metadata": {},
     "output_type": "execute_result"
    }
   ],
   "source": [
    "#Genero y entreno el modelo de regresión logística\n",
    "\n",
    "from sklearn.linear_model import LogisticRegression\n",
    "autism_log_reg = LogisticRegression()\n",
    "autism_log_reg.fit(X_train_encod,y_train)"
   ]
  },
  {
   "cell_type": "markdown",
   "metadata": {},
   "source": [
    "#### Feature importance "
   ]
  },
  {
   "cell_type": "code",
   "execution_count": 108,
   "metadata": {},
   "outputs": [
    {
     "data": {
      "text/html": [
       "<div>\n",
       "<style scoped>\n",
       "    .dataframe tbody tr th:only-of-type {\n",
       "        vertical-align: middle;\n",
       "    }\n",
       "\n",
       "    .dataframe tbody tr th {\n",
       "        vertical-align: top;\n",
       "    }\n",
       "\n",
       "    .dataframe thead th {\n",
       "        text-align: right;\n",
       "    }\n",
       "</style>\n",
       "<table border=\"1\" class=\"dataframe\">\n",
       "  <thead>\n",
       "    <tr style=\"text-align: right;\">\n",
       "      <th></th>\n",
       "      <th>coefficient</th>\n",
       "    </tr>\n",
       "  </thead>\n",
       "  <tbody>\n",
       "    <tr>\n",
       "      <th>A5_score</th>\n",
       "      <td>2.826345</td>\n",
       "    </tr>\n",
       "    <tr>\n",
       "      <th>A4_score</th>\n",
       "      <td>2.476794</td>\n",
       "    </tr>\n",
       "    <tr>\n",
       "      <th>ethnicity_'Middle Eastern '</th>\n",
       "      <td>0.983210</td>\n",
       "    </tr>\n",
       "    <tr>\n",
       "      <th>age_desc_'18 and more'</th>\n",
       "      <td>0.884867</td>\n",
       "    </tr>\n",
       "    <tr>\n",
       "      <th>ethnicity_Black</th>\n",
       "      <td>0.734472</td>\n",
       "    </tr>\n",
       "    <tr>\n",
       "      <th>ethnicity_Pasifika</th>\n",
       "      <td>0.620060</td>\n",
       "    </tr>\n",
       "    <tr>\n",
       "      <th>ethnicity_Hispanic</th>\n",
       "      <td>0.618008</td>\n",
       "    </tr>\n",
       "    <tr>\n",
       "      <th>ethnicity_'South Asian'</th>\n",
       "      <td>0.545432</td>\n",
       "    </tr>\n",
       "    <tr>\n",
       "      <th>relation_'Health care professional'</th>\n",
       "      <td>0.530179</td>\n",
       "    </tr>\n",
       "    <tr>\n",
       "      <th>ethnicity_Others</th>\n",
       "      <td>0.503535</td>\n",
       "    </tr>\n",
       "    <tr>\n",
       "      <th>relation_Others</th>\n",
       "      <td>0.441996</td>\n",
       "    </tr>\n",
       "    <tr>\n",
       "      <th>relation_Parent</th>\n",
       "      <td>0.409049</td>\n",
       "    </tr>\n",
       "    <tr>\n",
       "      <th>ethnicity_Latino</th>\n",
       "      <td>0.403393</td>\n",
       "    </tr>\n",
       "    <tr>\n",
       "      <th>age_num</th>\n",
       "      <td>0.388843</td>\n",
       "    </tr>\n",
       "    <tr>\n",
       "      <th>age_desc_'12-16 years'</th>\n",
       "      <td>0.376015</td>\n",
       "    </tr>\n",
       "    <tr>\n",
       "      <th>age_desc_'4-11 years'</th>\n",
       "      <td>0.340728</td>\n",
       "    </tr>\n",
       "    <tr>\n",
       "      <th>relation_Relative</th>\n",
       "      <td>0.285936</td>\n",
       "    </tr>\n",
       "    <tr>\n",
       "      <th>jaundice</th>\n",
       "      <td>0.232326</td>\n",
       "    </tr>\n",
       "    <tr>\n",
       "      <th>relation_Self</th>\n",
       "      <td>0.211183</td>\n",
       "    </tr>\n",
       "    <tr>\n",
       "      <th>sex</th>\n",
       "      <td>0.180245</td>\n",
       "    </tr>\n",
       "    <tr>\n",
       "      <th>ethnicity_Asian</th>\n",
       "      <td>0.175825</td>\n",
       "    </tr>\n",
       "    <tr>\n",
       "      <th>ethnicity_White-European</th>\n",
       "      <td>0.173580</td>\n",
       "    </tr>\n",
       "    <tr>\n",
       "      <th>age_desc_'12-15 years'</th>\n",
       "      <td>0.168237</td>\n",
       "    </tr>\n",
       "    <tr>\n",
       "      <th>ethnicity_others</th>\n",
       "      <td>0.136411</td>\n",
       "    </tr>\n",
       "    <tr>\n",
       "      <th>fam_history_PDD</th>\n",
       "      <td>0.135892</td>\n",
       "    </tr>\n",
       "    <tr>\n",
       "      <th>ethnicity_Turkish</th>\n",
       "      <td>0.028063</td>\n",
       "    </tr>\n",
       "  </tbody>\n",
       "</table>\n",
       "</div>"
      ],
      "text/plain": [
       "                                     coefficient\n",
       "A5_score                                2.826345\n",
       "A4_score                                2.476794\n",
       "ethnicity_'Middle Eastern '             0.983210\n",
       "age_desc_'18 and more'                  0.884867\n",
       "ethnicity_Black                         0.734472\n",
       "ethnicity_Pasifika                      0.620060\n",
       "ethnicity_Hispanic                      0.618008\n",
       "ethnicity_'South Asian'                 0.545432\n",
       "relation_'Health care professional'     0.530179\n",
       "ethnicity_Others                        0.503535\n",
       "relation_Others                         0.441996\n",
       "relation_Parent                         0.409049\n",
       "ethnicity_Latino                        0.403393\n",
       "age_num                                 0.388843\n",
       "age_desc_'12-16 years'                  0.376015\n",
       "age_desc_'4-11 years'                   0.340728\n",
       "relation_Relative                       0.285936\n",
       "jaundice                                0.232326\n",
       "relation_Self                           0.211183\n",
       "sex                                     0.180245\n",
       "ethnicity_Asian                         0.175825\n",
       "ethnicity_White-European                0.173580\n",
       "age_desc_'12-15 years'                  0.168237\n",
       "ethnicity_others                        0.136411\n",
       "fam_history_PDD                         0.135892\n",
       "ethnicity_Turkish                       0.028063"
      ]
     },
     "execution_count": 108,
     "metadata": {},
     "output_type": "execute_result"
    }
   ],
   "source": [
    "intercept = autism_log_reg.intercept_\n",
    "coefs = autism_log_reg.coef_.ravel()\n",
    "\n",
    "features = pd.DataFrame(coefs, X_train_encod.columns, columns=['coefficient']).copy()\n",
    "features['coefficient'] = np.abs(features['coefficient'])\n",
    "\n",
    "features.sort_values('coefficient', ascending=False)"
   ]
  },
  {
   "cell_type": "markdown",
   "metadata": {},
   "source": [
    "#### Predictions"
   ]
  },
  {
   "cell_type": "code",
   "execution_count": 186,
   "metadata": {
    "collapsed": true,
    "jupyter": {
     "outputs_hidden": true
    }
   },
   "outputs": [
    {
     "name": "stdout",
     "output_type": "stream",
     "text": [
      "[0 0 0 1 0 0 1 1 0 1 0 0 0 1 0 0 1 0 1 1 1 1 0 1 1 1 1 0 0 0 0 1 0 1 0 0 1\n",
      " 0 0 1 1 0 0 1 0 1 1 0 0 0 1 0 0 0 0 0 1 0 0 0 0 1 0 1 0 0 0 1 0 0 0 1 0 0\n",
      " 1 0 0 0 0 0 1 0 0 0 1 1 0 0 0 0 1 1 1 1 0 1 0 0 1 0 0 0 1 0 1 0 1 0 0 1 0\n",
      " 1 0 0 0 1 1 0 0 1 0 1 1 0 0 0 0 1 1 1 0 1 0 0 1 1 0 0 0 0 0 1 0 1 1 0 0 0\n",
      " 0 1 0 0 0 1 0 0 1 1 0 0 1 0 0 1 0 0 0 0 0 1 1 0 1 1 0 1 0 1 0 0 1 0 1 0 1\n",
      " 1 0 1 0 0 1 0 1 1 0 0 1 0 1 1 0 0 1 1 1 1 0 0 1 0 1 0 1 1 0 1 1 0 1 1 0 1\n",
      " 1 0 1 0 1 0 1 1 0 0 0 1 0 0 1 0 0 1 0 1 0 0 0 0 0 0 1 1 0 0 0 0 0 0 0 1 1\n",
      " 0 0 1 1 0 0 0 0 0 0 0 0 0 1 0 0 1 1 1 0 0 1 0 0 0 0 1 0 0 1 1 0 1 1 0 0 0\n",
      " 0 1 0 1 1 1 0 1 1 0 0 1 1 0 0 0 1 0 0 0 0 1 0 0 0 0 0 1 0 0 0 0 0 1 0 1 0\n",
      " 1 0 0 0 0 0 0 0 1 0 1 0 0 1 1 1 1 0 1 0 0 1 1 0 0 1 0 0 0 0 1 0 0 0 0 1 0\n",
      " 1 0 1 0 1 1 0 1 0 0 0 0 0 1 0 0 1 0 0 0 0 1 1 0 1 0 0 1 1 0 0 1 0 1 0 0 0\n",
      " 0 0 0 0 0 1 0 1 0 1 0 0 0 1 1 0 0 0 0 0 1 0 0 0 0 1 0 1 1 0 0 1 1 0 1 0 0\n",
      " 0 1 0 0 1 0 0 1 0 0 0 0 1 0 0 0 1 1 1 0 1 0 1 1 0 0 0 0 0 1 0 1 0 0 0 0 1\n",
      " 1 0 0 0 1 0 1 0 0 0 0 1 0 0 0 0 1 0 0 0 0 0 0 1 1 0 0 0 0 0 0 1 1 0 0 0 0\n",
      " 0 0 0 1 1 0 0 0 0 0 0 0 1 0 0 0 0 0 0 0 0 1 0 0 1 0 0 1 1 0 1 0 1 1 1 0 0\n",
      " 0 1 0 0 0 0 0 0 0 1 0 1 0 0 1 0 0 0 1 0 0 0 0 1 0 0 0 1 1 0 1 0 1 1 0 0 1\n",
      " 1 0 1 0 1 1 0 0 0 0 0 0 1 0 1 0 0 1 0 0 1 1 0 0 0 0 1 0 0 0 0 1 0 0 0 0 1\n",
      " 0 1 0 1 0 1 1 1 1 0 0 1 0 0 0 0 0 0 0 0 0 1 0 1 0 0 1 1 0 1 0 0 1 0 0 1 1\n",
      " 1 0 1 0 0 0 0 1 0 0 1 1 0 0 1 0 0 0 1 0 0 0 1 1 1 0 1 0 1 0 1 1 0 0 0 0 0\n",
      " 1 1 1 0 1 0 0 0 1 1 1 0 0 1 0 1 0 0 1 0 1 0 0 1 0 0 0 0 0 0 0 0 0 0 0 0 1\n",
      " 0 0 0 1 1 0 0 0 1 0 0 0 0 1 0 0 1 0 1 0 1 0 0 0 0 0 0 0 0 1 1 1 0 0 0 0 0\n",
      " 1 0 1 0 0 1 1 0 0 0 1 0 0 0 0 1 1 1 0 0 1 0 0 0 1 0 0 0 1 0 0 0 1 1 1 0 0\n",
      " 0 1 0 0 0 0 1 0 1 0 0 1 1 1 0 1 0 1 1 1 1 0 0 0 0 0 0 0 0 0 1 0 1 1 0 0 0\n",
      " 1 0 0 0 0 0 1 1 1 0 1 1 0 0 0 0 0 0 0 0 0 0 0 0]\n"
     ]
    }
   ],
   "source": [
    "train_predictions = autism_log_reg.predict(X_train_encod)\n",
    "print(train_predictions)"
   ]
  },
  {
   "cell_type": "code",
   "execution_count": 187,
   "metadata": {
    "collapsed": true,
    "jupyter": {
     "outputs_hidden": true
    }
   },
   "outputs": [
    {
     "name": "stdout",
     "output_type": "stream",
     "text": [
      "[0 0 0 0 0 1 0 1 1 0 1 1 1 0 0 0 0 0 0 0 0 0 1 0 1 1 0 1 0 0 1 0 0 1 0 1 0\n",
      " 1 0 1 1 0 0 1 1 0 0 0 0 1 0 0 1 0 0 1 1 0 0 1 0 0 0 0 1 0 1 0 0 0 0 0 0 1\n",
      " 0 0 1 0 0 0 0 0 0 0 1 0 0 0 1 0 1 1 1 0 0 1 0 0 0 0 1 1 0 1 1 0 0 0 0 1 0\n",
      " 0 1 0 0 1 0 0 1 0 1 0 0 1 1 0 0 1 1 0 1 1 1 0 0 1 1 1 1 0 0 0 1 0 1 1 1 1\n",
      " 0 0 0 0 0 0 1 0 1 0 1 0 0 1 0 1 0 0 0 1 0 1 0 0 0 1 0 1 1 1 1 0 1 0 0 1 0\n",
      " 0 1 1 0 0 0 1 0 0 0 1 1 0 0 1 0 0 1 0 0 0 0 1 0 0 0 1 0 1 0 0 1 1 0]\n"
     ]
    }
   ],
   "source": [
    "test_predictions = autism_log_reg.predict(X_test_encod)\n",
    "print(test_predictions)"
   ]
  },
  {
   "cell_type": "code",
   "execution_count": null,
   "metadata": {},
   "outputs": [],
   "source": [
    "#compruebo que estoy cogiendo el dataset reducido en ambos casos\n",
    "X_train_encod.columns"
   ]
  },
  {
   "cell_type": "markdown",
   "metadata": {},
   "source": [
    "#### Accuracy"
   ]
  },
  {
   "cell_type": "code",
   "execution_count": 188,
   "metadata": {},
   "outputs": [
    {
     "name": "stdout",
     "output_type": "stream",
     "text": [
      "Acc train: 0.8514285714285714\n",
      "Acc test: 0.8447488584474886\n"
     ]
    }
   ],
   "source": [
    "acc_train = accuracy_score(train_predictions, y_train)\n",
    "\n",
    "acc_test = accuracy_score(test_predictions, y_test)\n",
    "\n",
    "print(\"Acc train:\", acc_train)\n",
    "print(\"Acc test:\", acc_test)"
   ]
  },
  {
   "cell_type": "markdown",
   "metadata": {},
   "source": [
    "#### Radial chart"
   ]
  },
  {
   "cell_type": "code",
   "execution_count": 190,
   "metadata": {
    "collapsed": true,
    "jupyter": {
     "outputs_hidden": true,
     "source_hidden": true
    }
   },
   "outputs": [
    {
     "data": {
      "image/png": "[encoded data removed]",
      "text/plain": [
       "<Figure size 576x396 with 1 Axes>"
      ]
     },
     "metadata": {},
     "output_type": "display_data"
    }
   ],
   "source": [
    "from yellowbrick.features.radviz import radviz\n",
    "\n",
    "# Specify the target classes\n",
    "classes = [\"No autism\", \"Autism\"]\n",
    "\n",
    "# Instantiate the visualizer\n",
    "radviz(X_train_encod, y_train.values, classes=classes);"
   ]
  },
  {
   "cell_type": "markdown",
   "metadata": {},
   "source": [
    "#### Confusion matrix"
   ]
  },
  {
   "cell_type": "markdown",
   "metadata": {},
   "source": [
    "La composición del target del modelo es la siguiente, siendo 0 la clase \"No autismo\" y 1 la clase \"Autismo\":"
   ]
  },
  {
   "cell_type": "code",
   "execution_count": 281,
   "metadata": {
    "jupyter": {
     "source_hidden": true
    }
   },
   "outputs": [
    {
     "data": {
      "text/plain": [
       "0    141\n",
       "1     78\n",
       "Name: class, dtype: int64"
      ]
     },
     "execution_count": 281,
     "metadata": {},
     "output_type": "execute_result"
    }
   ],
   "source": [
    "y_test.value_counts()"
   ]
  },
  {
   "cell_type": "markdown",
   "metadata": {},
   "source": [
    "La matriz de confusión es la siguiente: "
   ]
  },
  {
   "cell_type": "code",
   "execution_count": 291,
   "metadata": {},
   "outputs": [
    {
     "name": "stdout",
     "output_type": "stream",
     "text": [
      "[[121  20]\n",
      " [ 14  64]]\n"
     ]
    }
   ],
   "source": [
    "from sklearn.metrics import confusion_matrix\n",
    "\n",
    "c_matrix_lr = confusion_matrix(y_test,test_predictions)\n",
    "print(c_matrix_lr)"
   ]
  },
  {
   "cell_type": "code",
   "execution_count": 294,
   "metadata": {},
   "outputs": [
    {
     "data": {
      "image/png": "[encoded data removed]",
      "text/plain": [
       "<Figure size 576x396 with 2 Axes>"
      ]
     },
     "metadata": {},
     "output_type": "display_data"
    }
   ],
   "source": [
    "c_matrix_lr_df = pd.DataFrame(c_matrix_lr,\n",
    "                         columns = {\"Pred No autism\",\"Pred Autism\"},\n",
    "                         index = {\"Actual No Autism\", \"Actual Autism\"})\n",
    "\n",
    "sns.heatmap(c_matrix_df, annot = True, fmt = \"g\");\n"
   ]
  },
  {
   "cell_type": "markdown",
   "metadata": {},
   "source": [
    "El modelo obtiene 185 aciertos y 34 errores sobre los datos de test. \n",
    "\n",
    "En cuanto a la composición de los errores, 20 son falsos positivos y 14 son falsos negativos."
   ]
  },
  {
   "cell_type": "markdown",
   "metadata": {},
   "source": [
    "#### Classification report"
   ]
  },
  {
   "cell_type": "code",
   "execution_count": 192,
   "metadata": {
    "collapsed": true,
    "jupyter": {
     "outputs_hidden": true,
     "source_hidden": true
    }
   },
   "outputs": [
    {
     "data": {
      "image/png": "[encoded data removed]",
      "text/plain": [
       "<Figure size 576x396 with 2 Axes>"
      ]
     },
     "metadata": {},
     "output_type": "display_data"
    }
   ],
   "source": [
    "from sklearn.model_selection import TimeSeriesSplit\n",
    "from sklearn.naive_bayes import GaussianNB\n",
    "\n",
    "from yellowbrick.classifier import ClassificationReport\n",
    "from yellowbrick.datasets import load_occupancy\n",
    "\n",
    "# Specify the target classes\n",
    "classes = [\"No Autism\", \"Autism\"]\n",
    "\n",
    "visualizer = ClassificationReport(LogisticRegression(max_iter = 5000), classes=classes, support=True)\n",
    "\n",
    "visualizer.fit(X_train_encod, y_train)        # Fit the visualizer and the model\n",
    "visualizer.score(X_test_encod, y_test)        # Evaluate the model on the test data\n",
    "visualizer.show();                       # Finalize and show the figure"
   ]
  },
  {
   "cell_type": "markdown",
   "metadata": {},
   "source": [
    "Según el gráfico, el modelo tiene mejor recall (0.821) que precisión (0.762). Esto parece tener sentido, puesto que el modelo incurre en menos falsos negativos (14) que falsos positivos (20).\n",
    "\n",
    "**Analizamos recall y precisión**:\n",
    "\n",
    "**Recall de 0.821** = De entre todos los casos de la clase 1 \"sí autismo\", el modelo es capaz de localizar 64 casos y se le escapan 14, que son los falsos negativos i.e. TP / (TP + FN)\n",
    "\n",
    "**Precisión de 0.762** = De entre todos los casos que el modelo predice como clase 1 \"sí autismo\", el modelo está clasificando bien 64 y se está equivocando en 20 casos, que son los falsos negativos i.e.TP/(FP + TP)."
   ]
  },
  {
   "cell_type": "markdown",
   "metadata": {},
   "source": [
    "#### ROC Curve"
   ]
  },
  {
   "cell_type": "code",
   "execution_count": 193,
   "metadata": {
    "collapsed": true,
    "jupyter": {
     "outputs_hidden": true,
     "source_hidden": true
    }
   },
   "outputs": [
    {
     "data": {
      "image/png": "[encoded data removed]",
      "text/plain": [
       "<Figure size 576x396 with 1 Axes>"
      ]
     },
     "metadata": {},
     "output_type": "display_data"
    }
   ],
   "source": [
    "from yellowbrick.classifier import ROCAUC\n",
    "\n",
    "# Instantiate the visualizer with the classification model\n",
    "model = LogisticRegression(max_iter = 5000)\n",
    "classes = [\"No Autism\", \"Autism\"]\n",
    "\n",
    "visualizer = ROCAUC(model, classes = classes)\n",
    "visualizer.fit(X_train_encod, y_train)        # Fit the training data to the visualizer\n",
    "visualizer.score(X_test_encod, y_test)        # Evaluate the model on the test data\n",
    "visualizer.show();                    # Finalize and show the figure"
   ]
  },
  {
   "cell_type": "markdown",
   "metadata": {},
   "source": [
    "#### Threshold"
   ]
  },
  {
   "cell_type": "code",
   "execution_count": 189,
   "metadata": {},
   "outputs": [
    {
     "data": {
      "image/png": "[encoded data removed]",
      "text/plain": [
       "<Figure size 576x396 with 1 Axes>"
      ]
     },
     "metadata": {},
     "output_type": "display_data"
    }
   ],
   "source": [
    "from yellowbrick.classifier import DiscriminationThreshold\n",
    "import warnings\n",
    "warnings.filterwarnings('ignore')\n",
    "\n",
    "# Instantiate the classification model and visualizer\n",
    "model = LogisticRegression(multi_class=\"auto\", solver=\"liblinear\")\n",
    "classes = [\"No Autism\", \"Autism\"]\n",
    "\n",
    "visualizer = DiscriminationThreshold(model)\n",
    "\n",
    "#Con train\n",
    "visualizer.fit(X_train_encod, y_train)        # Fit the data to the visualizer\n",
    "visualizer.show();           # Finalize and render the figure"
   ]
  },
  {
   "cell_type": "code",
   "execution_count": 194,
   "metadata": {},
   "outputs": [
    {
     "data": {
      "image/png": "[encoded data removed]",
      "text/plain": [
       "<Figure size 576x396 with 1 Axes>"
      ]
     },
     "metadata": {},
     "output_type": "display_data"
    }
   ],
   "source": [
    "#Con test\n",
    "\n",
    "model = LogisticRegression(multi_class=\"auto\", solver=\"liblinear\")\n",
    "classes = [\"No Autism\", \"Autism\"]\n",
    "visualizer = DiscriminationThreshold(model)\n",
    "\n",
    "visualizer.fit(X_test_encod, y_test)        # Fit the data to the visualizer\n",
    "visualizer.show(); "
   ]
  },
  {
   "cell_type": "markdown",
   "metadata": {},
   "source": [
    "#### OJOOOO PENDIENTE, NO ME SALEEEE??? PARECE QUE SE CRUZAN COMO EN 0.45 PERO PORQUÉ NO ME pinta el umbral? PORQUÉ DA CERO???"
   ]
  },
  {
   "cell_type": "markdown",
   "metadata": {},
   "source": [
    "#### Probabilidades para cada instancia"
   ]
  },
  {
   "cell_type": "code",
   "execution_count": 195,
   "metadata": {
    "collapsed": true,
    "jupyter": {
     "outputs_hidden": true
    }
   },
   "outputs": [
    {
     "name": "stdout",
     "output_type": "stream",
     "text": [
      "[[0.96387764 0.03612236]\n",
      " [0.95620997 0.04379003]\n",
      " [0.7252063  0.2747937 ]\n",
      " [0.98489553 0.01510447]\n",
      " [0.70265048 0.29734952]\n",
      " [0.46970113 0.53029887]\n",
      " [0.9905657  0.0094343 ]\n",
      " [0.16875601 0.83124399]\n",
      " [0.51266277 0.48733723]\n",
      " [0.99187066 0.00812934]\n",
      " [0.29669596 0.70330404]\n",
      " [0.41018943 0.58981057]\n",
      " [0.17844518 0.82155482]\n",
      " [0.98090489 0.01909511]\n",
      " [0.98496252 0.01503748]\n",
      " [0.96594469 0.03405531]\n",
      " [0.96721004 0.03278996]\n",
      " [0.75419742 0.24580258]\n",
      " [0.69015706 0.30984294]\n",
      " [0.67143544 0.32856456]\n",
      " [0.96376634 0.03623366]\n",
      " [0.92186129 0.07813871]\n",
      " [0.19595638 0.80404362]\n",
      " [0.98535524 0.01464476]\n",
      " [0.33358603 0.66641397]\n",
      " [0.17588228 0.82411772]\n",
      " [0.84901954 0.15098046]\n",
      " [0.20865983 0.79134017]\n",
      " [0.98595859 0.01404141]\n",
      " [0.98831413 0.01168587]\n",
      " [0.28220336 0.71779664]\n",
      " [0.75419742 0.24580258]\n",
      " [0.84286247 0.15713753]\n",
      " [0.20113826 0.79886174]\n",
      " [0.82283286 0.17716714]\n",
      " [0.33746841 0.66253159]\n",
      " [0.71376232 0.28623768]\n",
      " [0.51182206 0.48817794]\n",
      " [0.97186124 0.02813876]\n",
      " [0.29669596 0.70330404]\n",
      " [0.12241449 0.87758551]\n",
      " [0.85337268 0.14662732]\n",
      " [0.83526777 0.16473223]\n",
      " [0.45787298 0.54212702]\n",
      " [0.06381177 0.93618823]\n",
      " [0.84096307 0.15903693]\n",
      " [0.98515994 0.01484006]\n",
      " [0.94227819 0.05772181]\n",
      " [0.85088537 0.14911463]\n",
      " [0.20750632 0.79249368]\n",
      " [0.98555431 0.01444569]\n",
      " [0.95856098 0.04143902]\n",
      " [0.08397006 0.91602994]\n",
      " [0.98575537 0.01424463]\n",
      " [0.74348377 0.25651623]\n",
      " [0.15467302 0.84532698]\n",
      " [0.30474082 0.69525918]\n",
      " [0.93789824 0.06210176]\n",
      " [0.92538888 0.07461112]\n",
      " [0.46663852 0.53336148]\n",
      " [0.69051094 0.30948906]\n",
      " [0.94046229 0.05953771]\n",
      " [0.87082565 0.12917435]\n",
      " [0.59847035 0.40152965]\n",
      " [0.28177412 0.71822588]\n",
      " [0.98558481 0.01441519]\n",
      " [0.32003041 0.67996959]\n",
      " [0.85337268 0.14662732]\n",
      " [0.96684612 0.03315388]\n",
      " [0.70680084 0.29319916]\n",
      " [0.98039349 0.01960651]\n",
      " [0.96562339 0.03437661]\n",
      " [0.98676891 0.01323109]\n",
      " [0.10068322 0.89931678]\n",
      " [0.69847922 0.30152078]\n",
      " [0.95980397 0.04019603]\n",
      " [0.08059903 0.91940097]\n",
      " [0.98128971 0.01871029]\n",
      " [0.92261671 0.07738329]\n",
      " [0.74348377 0.25651623]\n",
      " [0.728267   0.271733  ]\n",
      " [0.92896529 0.07103471]\n",
      " [0.83990741 0.16009259]\n",
      " [0.98679691 0.01320309]\n",
      " [0.15227334 0.84772666]\n",
      " [0.71063723 0.28936277]\n",
      " [0.93471469 0.06528531]\n",
      " [0.7267004  0.2732996 ]\n",
      " [0.33714077 0.66285923]\n",
      " [0.98514764 0.01485236]\n",
      " [0.46023383 0.53976617]\n",
      " [0.27213607 0.72786393]\n",
      " [0.39918949 0.60081051]\n",
      " [0.91470815 0.08529185]\n",
      " [0.83270157 0.16729843]\n",
      " [0.25787914 0.74212086]\n",
      " [0.96376634 0.03623366]\n",
      " [0.94293413 0.05706587]\n",
      " [0.73553996 0.26446004]\n",
      " [0.98555431 0.01444569]\n",
      " [0.5537529  0.4462471 ]\n",
      " [0.26879127 0.73120873]\n",
      " [0.93821581 0.06178419]\n",
      " [0.22290786 0.77709214]\n",
      " [0.17698314 0.82301686]\n",
      " [0.35014728 0.64985272]\n",
      " [0.4741809  0.5258191 ]\n",
      " [0.86182104 0.13817896]\n",
      " [0.95176873 0.04823127]\n",
      " [0.15575577 0.84424423]\n",
      " [0.86879292 0.13120708]\n",
      " [0.84417546 0.15582454]\n",
      " [0.12301136 0.87698864]\n",
      " [0.72169804 0.27830196]\n",
      " [0.9704464  0.0295536 ]\n",
      " [0.64661158 0.35338842]\n",
      " [0.83526777 0.16473223]\n",
      " [0.85970538 0.14029462]\n",
      " [0.26176352 0.73823648]\n",
      " [0.84202132 0.15797868]\n",
      " [0.179355   0.820645  ]\n",
      " [0.84392924 0.15607076]\n",
      " [0.97536842 0.02463158]\n",
      " [0.3247472  0.6752528 ]\n",
      " [0.36430381 0.63569619]\n",
      " [0.98785295 0.01214705]\n",
      " [0.53451224 0.46548776]\n",
      " [0.29931123 0.70068877]\n",
      " [0.25793314 0.74206686]\n",
      " [0.78520973 0.21479027]\n",
      " [0.73083586 0.26916414]\n",
      " [0.3882592  0.6117408 ]\n",
      " [0.21231321 0.78768679]\n",
      " [0.89654475 0.10345525]\n",
      " [0.79171651 0.20828349]\n",
      " [0.66848633 0.33151367]\n",
      " [0.29431595 0.70568405]\n",
      " [0.31511722 0.68488278]\n",
      " [0.16642627 0.83357373]\n",
      " [0.98804115 0.01195885]\n",
      " [0.84202132 0.15797868]\n",
      " [0.81648989 0.18351011]\n",
      " [0.30199164 0.69800836]\n",
      " [0.96429907 0.03570093]\n",
      " [0.14779977 0.85220023]\n",
      " [0.56103803 0.43896197]\n",
      " [0.15871602 0.84128398]\n",
      " [0.11421515 0.88578485]\n",
      " [0.95138509 0.04861491]\n",
      " [0.76703897 0.23296103]\n",
      " [0.84972722 0.15027278]\n",
      " [0.92160708 0.07839292]\n",
      " [0.68473192 0.31526808]\n",
      " [0.8222675  0.1777325 ]\n",
      " [0.16642627 0.83357373]\n",
      " [0.58935788 0.41064212]\n",
      " [0.06799219 0.93200781]\n",
      " [0.55647632 0.44352368]\n",
      " [0.29032922 0.70967078]\n",
      " [0.64945231 0.35054769]\n",
      " [0.77408955 0.22591045]\n",
      " [0.51473459 0.48526541]\n",
      " [0.87890689 0.12109311]\n",
      " [0.27098283 0.72901717]\n",
      " [0.86125641 0.13874359]\n",
      " [0.98407888 0.01592112]\n",
      " [0.97269089 0.02730911]\n",
      " [0.21124373 0.78875627]\n",
      " [0.54105665 0.45894335]\n",
      " [0.52084895 0.47915105]\n",
      " [0.82827803 0.17172197]\n",
      " [0.63731273 0.36268727]\n",
      " [0.8324376  0.1675624 ]\n",
      " [0.36430381 0.63569619]\n",
      " [0.98590939 0.01409061]\n",
      " [0.33571649 0.66428351]\n",
      " [0.41120529 0.58879471]\n",
      " [0.54191439 0.45808561]\n",
      " [0.04294209 0.95705791]\n",
      " [0.53692583 0.46307417]\n",
      " [0.36546413 0.63453587]\n",
      " [0.70843102 0.29156898]\n",
      " [0.94686365 0.05313635]\n",
      " [0.32118647 0.67881353]\n",
      " [0.92755224 0.07244776]\n",
      " [0.959167   0.040833  ]\n",
      " [0.18042866 0.81957134]\n",
      " [0.25026031 0.74973969]\n",
      " [0.78520973 0.21479027]\n",
      " [0.87822425 0.12177575]\n",
      " [0.98319538 0.01680462]\n",
      " [0.20540032 0.79459968]\n",
      " [0.98778409 0.01221591]\n",
      " [0.59702161 0.40297839]\n",
      " [0.82228668 0.17771332]\n",
      " [0.07872384 0.92127616]\n",
      " [0.31884904 0.68115096]\n",
      " [0.96020291 0.03979709]\n",
      " [0.97235582 0.02764418]\n",
      " [0.30474082 0.69525918]\n",
      " [0.70680084 0.29319916]\n",
      " [0.73553996 0.26446004]\n",
      " [0.29414251 0.70585749]\n",
      " [0.82414193 0.17585807]\n",
      " [0.86019457 0.13980543]\n",
      " [0.84518465 0.15481535]\n",
      " [0.91806084 0.08193916]\n",
      " [0.53610082 0.46389918]\n",
      " [0.98720985 0.01279015]\n",
      " [0.69015706 0.30984294]\n",
      " [0.86141481 0.13858519]\n",
      " [0.20750632 0.79249368]\n",
      " [0.98043486 0.01956514]\n",
      " [0.48704414 0.51295586]\n",
      " [0.6906894  0.3093106 ]\n",
      " [0.45690509 0.54309491]\n",
      " [0.29164782 0.70835218]\n",
      " [0.19619497 0.80380503]\n",
      " [0.953626   0.046374  ]]\n",
      "219\n"
     ]
    }
   ],
   "source": [
    "probab = model.predict_proba(X_test_encod)\n",
    "print(probab)\n",
    "\n",
    "print(len(model.predict_proba(X_test_encod)))"
   ]
  },
  {
   "cell_type": "code",
   "execution_count": 196,
   "metadata": {},
   "outputs": [
    {
     "data": {
      "text/plain": [
       "array([0.5537529, 0.4462471])"
      ]
     },
     "execution_count": 196,
     "metadata": {},
     "output_type": "execute_result"
    }
   ],
   "source": [
    "ins = 100\n",
    "test_predictions[ins]\n",
    "probab[ins]"
   ]
  },
  {
   "cell_type": "code",
   "execution_count": 197,
   "metadata": {},
   "outputs": [
    {
     "name": "stdout",
     "output_type": "stream",
     "text": [
      "La predicción para la instancia 100 de test ha sido la siguiente: 1 y su probabilidad [0.5537529 0.4462471]\n"
     ]
    }
   ],
   "source": [
    "print(\"La predicción para la instancia\",ins,\"de test ha sido la siguiente:\",test_predictions[ins], \"y su probabilidad\",probab[ins])"
   ]
  },
  {
   "cell_type": "markdown",
   "metadata": {},
   "source": [
    "### OJOOOO NO ENTIENDO PORQUÉ HACE ESTA PREDICCIÓN CON LA INSTANCIA 100, NO LO ENTIENDO, PREGUNTAAAR!!!!"
   ]
  },
  {
   "cell_type": "markdown",
   "metadata": {},
   "source": [
    "#### **CONCLUSION**\n",
    "\n",
    "El modelo de regresión logística generaliza bien, con un accurate del 0.84. El recall, que es lo que más nos interesa en este caso, es muy razonable con un 0.821.\n",
    "Voy a probar otros modelos para intentar mejorarlo. "
   ]
  },
  {
   "cell_type": "markdown",
   "metadata": {},
   "source": [
    "## 2. Random Forest Classifier "
   ]
  },
  {
   "cell_type": "code",
   "execution_count": 301,
   "metadata": {},
   "outputs": [],
   "source": [
    "from sklearn.ensemble import RandomForestClassifier\n",
    "\n",
    "autism_rnd_clf = RandomForestClassifier(n_estimators = 400, \n",
    "                                max_depth = 3,\n",
    "                                random_state = 42)"
   ]
  },
  {
   "cell_type": "markdown",
   "metadata": {},
   "source": [
    "#### Training"
   ]
  },
  {
   "cell_type": "code",
   "execution_count": 302,
   "metadata": {},
   "outputs": [
    {
     "data": {
      "text/plain": [
       "RandomForestClassifier(max_depth=3, n_estimators=400, random_state=42)"
      ]
     },
     "execution_count": 302,
     "metadata": {},
     "output_type": "execute_result"
    }
   ],
   "source": [
    "autism_rnd_clf.fit(X_train_encod,y_train)"
   ]
  },
  {
   "cell_type": "markdown",
   "metadata": {},
   "source": [
    "### Feature importance"
   ]
  },
  {
   "cell_type": "code",
   "execution_count": 259,
   "metadata": {
    "collapsed": true,
    "jupyter": {
     "outputs_hidden": true,
     "source_hidden": true
    }
   },
   "outputs": [
    {
     "data": {
      "text/html": [
       "<div>\n",
       "<style scoped>\n",
       "    .dataframe tbody tr th:only-of-type {\n",
       "        vertical-align: middle;\n",
       "    }\n",
       "\n",
       "    .dataframe tbody tr th {\n",
       "        vertical-align: top;\n",
       "    }\n",
       "\n",
       "    .dataframe thead th {\n",
       "        text-align: right;\n",
       "    }\n",
       "</style>\n",
       "<table border=\"1\" class=\"dataframe\">\n",
       "  <thead>\n",
       "    <tr style=\"text-align: right;\">\n",
       "      <th></th>\n",
       "      <th>coefficient</th>\n",
       "    </tr>\n",
       "  </thead>\n",
       "  <tbody>\n",
       "    <tr>\n",
       "      <th>A4_score</th>\n",
       "      <td>0.339514</td>\n",
       "    </tr>\n",
       "    <tr>\n",
       "      <th>A5_score</th>\n",
       "      <td>0.327124</td>\n",
       "    </tr>\n",
       "    <tr>\n",
       "      <th>age_num</th>\n",
       "      <td>0.082524</td>\n",
       "    </tr>\n",
       "    <tr>\n",
       "      <th>age_desc_'18 and more'</th>\n",
       "      <td>0.052479</td>\n",
       "    </tr>\n",
       "    <tr>\n",
       "      <th>ethnicity_'Middle Eastern '</th>\n",
       "      <td>0.027846</td>\n",
       "    </tr>\n",
       "    <tr>\n",
       "      <th>relation_Parent</th>\n",
       "      <td>0.022305</td>\n",
       "    </tr>\n",
       "    <tr>\n",
       "      <th>relation_Self</th>\n",
       "      <td>0.022010</td>\n",
       "    </tr>\n",
       "    <tr>\n",
       "      <th>age_desc_'12-16 years'</th>\n",
       "      <td>0.020167</td>\n",
       "    </tr>\n",
       "    <tr>\n",
       "      <th>fam_history_PDD</th>\n",
       "      <td>0.014128</td>\n",
       "    </tr>\n",
       "    <tr>\n",
       "      <th>ethnicity_Asian</th>\n",
       "      <td>0.012867</td>\n",
       "    </tr>\n",
       "    <tr>\n",
       "      <th>ethnicity_White-European</th>\n",
       "      <td>0.012411</td>\n",
       "    </tr>\n",
       "    <tr>\n",
       "      <th>age_desc_'4-11 years'</th>\n",
       "      <td>0.011110</td>\n",
       "    </tr>\n",
       "    <tr>\n",
       "      <th>jaundice</th>\n",
       "      <td>0.010485</td>\n",
       "    </tr>\n",
       "    <tr>\n",
       "      <th>ethnicity_'South Asian'</th>\n",
       "      <td>0.008044</td>\n",
       "    </tr>\n",
       "    <tr>\n",
       "      <th>ethnicity_Black</th>\n",
       "      <td>0.006100</td>\n",
       "    </tr>\n",
       "    <tr>\n",
       "      <th>sex</th>\n",
       "      <td>0.005439</td>\n",
       "    </tr>\n",
       "    <tr>\n",
       "      <th>ethnicity_Latino</th>\n",
       "      <td>0.005421</td>\n",
       "    </tr>\n",
       "    <tr>\n",
       "      <th>ethnicity_Others</th>\n",
       "      <td>0.004468</td>\n",
       "    </tr>\n",
       "    <tr>\n",
       "      <th>relation_Relative</th>\n",
       "      <td>0.003556</td>\n",
       "    </tr>\n",
       "    <tr>\n",
       "      <th>age_desc_'12-15 years'</th>\n",
       "      <td>0.002870</td>\n",
       "    </tr>\n",
       "    <tr>\n",
       "      <th>relation_Others</th>\n",
       "      <td>0.002820</td>\n",
       "    </tr>\n",
       "    <tr>\n",
       "      <th>relation_'Health care professional'</th>\n",
       "      <td>0.002613</td>\n",
       "    </tr>\n",
       "    <tr>\n",
       "      <th>ethnicity_Hispanic</th>\n",
       "      <td>0.001541</td>\n",
       "    </tr>\n",
       "    <tr>\n",
       "      <th>ethnicity_Pasifika</th>\n",
       "      <td>0.001416</td>\n",
       "    </tr>\n",
       "    <tr>\n",
       "      <th>ethnicity_Turkish</th>\n",
       "      <td>0.000696</td>\n",
       "    </tr>\n",
       "    <tr>\n",
       "      <th>ethnicity_others</th>\n",
       "      <td>0.000047</td>\n",
       "    </tr>\n",
       "  </tbody>\n",
       "</table>\n",
       "</div>"
      ],
      "text/plain": [
       "                                     coefficient\n",
       "A4_score                                0.339514\n",
       "A5_score                                0.327124\n",
       "age_num                                 0.082524\n",
       "age_desc_'18 and more'                  0.052479\n",
       "ethnicity_'Middle Eastern '             0.027846\n",
       "relation_Parent                         0.022305\n",
       "relation_Self                           0.022010\n",
       "age_desc_'12-16 years'                  0.020167\n",
       "fam_history_PDD                         0.014128\n",
       "ethnicity_Asian                         0.012867\n",
       "ethnicity_White-European                0.012411\n",
       "age_desc_'4-11 years'                   0.011110\n",
       "jaundice                                0.010485\n",
       "ethnicity_'South Asian'                 0.008044\n",
       "ethnicity_Black                         0.006100\n",
       "sex                                     0.005439\n",
       "ethnicity_Latino                        0.005421\n",
       "ethnicity_Others                        0.004468\n",
       "relation_Relative                       0.003556\n",
       "age_desc_'12-15 years'                  0.002870\n",
       "relation_Others                         0.002820\n",
       "relation_'Health care professional'     0.002613\n",
       "ethnicity_Hispanic                      0.001541\n",
       "ethnicity_Pasifika                      0.001416\n",
       "ethnicity_Turkish                       0.000696\n",
       "ethnicity_others                        0.000047"
      ]
     },
     "execution_count": 259,
     "metadata": {},
     "output_type": "execute_result"
    }
   ],
   "source": [
    "coeffs = autism_rnd_clf.feature_importances_\n",
    "\n",
    "features = pd.DataFrame(coefs, X_train_encod.columns, columns=['coefficient']).copy()\n",
    "features['coefficient'] = np.abs(features['coefficient'])\n",
    "features.sort_values('coefficient', ascending=False)"
   ]
  },
  {
   "cell_type": "code",
   "execution_count": 201,
   "metadata": {
    "collapsed": true,
    "jupyter": {
     "outputs_hidden": true,
     "source_hidden": true
    }
   },
   "outputs": [
    {
     "data": {
      "image/png": "[encoded data removed]",
      "text/plain": [
       "<Figure size 1080x720 with 1 Axes>"
      ]
     },
     "metadata": {},
     "output_type": "display_data"
    }
   ],
   "source": [
    "#ordeno los coeficientes de forma descendente. \n",
    "coeffs_plot = coeffs[::-1].sort()\n",
    "\n",
    "#ploteo\n",
    "plt.figure(figsize=(15,10))\n",
    "sns.barplot(x =  X_train_encod.columns, y = coeffs)\n",
    "plt.xticks(rotation=70);"
   ]
  },
  {
   "cell_type": "markdown",
   "metadata": {},
   "source": [
    "### Predictions"
   ]
  },
  {
   "cell_type": "code",
   "execution_count": 303,
   "metadata": {},
   "outputs": [],
   "source": [
    "train_predictions_rnd = autism_rnd_clf.predict(X_train_encod)\n",
    "\n",
    "test_predictions_rnd = autism_rnd_clf.predict(X_test_encod)"
   ]
  },
  {
   "cell_type": "markdown",
   "metadata": {},
   "source": [
    "### Accuracy"
   ]
  },
  {
   "cell_type": "code",
   "execution_count": 304,
   "metadata": {},
   "outputs": [
    {
     "name": "stdout",
     "output_type": "stream",
     "text": [
      "Acc train: 0.8445714285714285\n",
      "Acc test: 0.867579908675799\n"
     ]
    }
   ],
   "source": [
    "acc_train_rnd = accuracy_score(train_predictions_rnd, y_train)\n",
    "\n",
    "acc_test_rnd = accuracy_score(test_predictions_rnd, y_test)\n",
    "\n",
    "print(\"Acc train:\", acc_train_rnd )\n",
    "print(\"Acc test:\", acc_test_rnd)"
   ]
  },
  {
   "cell_type": "markdown",
   "metadata": {},
   "source": [
    "Los hiperparámetros que dan mejor accuracy para el random forest son 400 árboles y un máximo de 3 ramas de profundidad. Más allá empiezo a sobreentrenar. "
   ]
  },
  {
   "cell_type": "markdown",
   "metadata": {},
   "source": [
    "#### Confusion matrix"
   ]
  },
  {
   "cell_type": "code",
   "execution_count": 309,
   "metadata": {},
   "outputs": [
    {
     "name": "stdout",
     "output_type": "stream",
     "text": [
      "[[131  10]\n",
      " [ 19  59]]\n"
     ]
    }
   ],
   "source": [
    "#Calculo la matriz de confusión\n",
    "from sklearn.metrics import confusion_matrix\n",
    "\n",
    "c_matrix_rnd = confusion_matrix(y_test,test_predictions_rnd)\n",
    "print(c_matrix_rnd)"
   ]
  },
  {
   "cell_type": "code",
   "execution_count": 312,
   "metadata": {},
   "outputs": [
    {
     "data": {
      "image/png": "[encoded data removed]",
      "text/plain": [
       "<Figure size 576x396 with 2 Axes>"
      ]
     },
     "metadata": {},
     "output_type": "display_data"
    }
   ],
   "source": [
    "#Ploteo\n",
    "\n",
    "c_matrix_rnd_df = pd.DataFrame(c_matrix_rnd,\n",
    "                         columns = {\"Pred No autism\",\"Pred Autism\"},\n",
    "                         index = {\"Actual No Autism\", \"Actual Autism\"})\n",
    "\n",
    "sns.heatmap(c_matrix_rnd_df, annot = True, fmt = \"g\");"
   ]
  },
  {
   "cell_type": "markdown",
   "metadata": {},
   "source": [
    "El modelo obtiene 190 aciertos y 29 errores sobre los 219 datos de test. \n",
    "\n",
    "En cuanto a la composición de los errores, 10 son falsos positivos y 19 son falsos negativos."
   ]
  },
  {
   "cell_type": "markdown",
   "metadata": {},
   "source": [
    "#### CONCLUSIÓN\n",
    "\n",
    "Aunque el accuracy y la precisión del random forest mejoran los de la regresión logística, el recall empeora, pasando de los 14 de la regresión logística a 19 en el random forest.\n",
    "\n",
    "**Siendo prioritario en este proyecto reducir el numero de falsos negativos, es decir, mejorar el recall, el modelo de random forest tiene peor comportamiento que la regresión logística.**"
   ]
  },
  {
   "cell_type": "markdown",
   "metadata": {},
   "source": [
    "## COMPARATIVA "
   ]
  },
  {
   "cell_type": "code",
   "execution_count": 316,
   "metadata": {},
   "outputs": [
    {
     "data": {
      "text/plain": [
       "array([20, 14], dtype=int64)"
      ]
     },
     "execution_count": 316,
     "metadata": {},
     "output_type": "execute_result"
    }
   ],
   "source": [
    "prec_rec_lr = c_matrix_lr[[0,1],[1,0]]\n",
    "prec_rec_lr "
   ]
  },
  {
   "cell_type": "code",
   "execution_count": 317,
   "metadata": {},
   "outputs": [
    {
     "data": {
      "text/plain": [
       "array([10, 19], dtype=int64)"
      ]
     },
     "execution_count": 317,
     "metadata": {},
     "output_type": "execute_result"
    }
   ],
   "source": [
    "prec_rec_rnd = c_matrix_rnd[[0,1],[1,0]]\n",
    "prec_rec_rnd"
   ]
  },
  {
   "cell_type": "code",
   "execution_count": 323,
   "metadata": {},
   "outputs": [
    {
     "data": {
      "text/plain": [
       "array([[20, 10],\n",
       "       [14, 19]], dtype=int64)"
      ]
     },
     "execution_count": 323,
     "metadata": {},
     "output_type": "execute_result"
    }
   ],
   "source": [
    "c_matrix_comp = np.concatenate([prec_rec_lr,prec_rec_rnd]).reshape(2,2).T\n",
    "c_matrix_comp"
   ]
  },
  {
   "cell_type": "code",
   "execution_count": 332,
   "metadata": {},
   "outputs": [
    {
     "data": {
      "text/html": [
       "<div>\n",
       "<style scoped>\n",
       "    .dataframe tbody tr th:only-of-type {\n",
       "        vertical-align: middle;\n",
       "    }\n",
       "\n",
       "    .dataframe tbody tr th {\n",
       "        vertical-align: top;\n",
       "    }\n",
       "\n",
       "    .dataframe thead th {\n",
       "        text-align: right;\n",
       "    }\n",
       "</style>\n",
       "<table border=\"1\" class=\"dataframe\">\n",
       "  <thead>\n",
       "    <tr style=\"text-align: right;\">\n",
       "      <th></th>\n",
       "      <th>Logistic Regression</th>\n",
       "      <th>Random Forest</th>\n",
       "    </tr>\n",
       "  </thead>\n",
       "  <tbody>\n",
       "    <tr>\n",
       "      <th>Falsos positivos</th>\n",
       "      <td>20</td>\n",
       "      <td>10</td>\n",
       "    </tr>\n",
       "    <tr>\n",
       "      <th>Falsos negativos</th>\n",
       "      <td>14</td>\n",
       "      <td>19</td>\n",
       "    </tr>\n",
       "  </tbody>\n",
       "</table>\n",
       "</div>"
      ],
      "text/plain": [
       "                  Logistic Regression  Random Forest\n",
       "Falsos positivos                   20             10\n",
       "Falsos negativos                   14             19"
      ]
     },
     "execution_count": 332,
     "metadata": {},
     "output_type": "execute_result"
    }
   ],
   "source": [
    "c_matrix_df_comp = pd.DataFrame(c_matrix_comp,\n",
    "                         columns = [\"Logistic Regression\",\"Random Forest\"],\n",
    "                         index = [\"Falsos positivos\", \"Falsos negativos\"])\n",
    "c_matrix_df_comp"
   ]
  }
 ],
 "metadata": {
  "kernelspec": {
   "display_name": "Python 3",
   "language": "python",
   "name": "python3"
  },
  "language_info": {
   "codemirror_mode": {
    "name": "ipython",
    "version": 3
   },
   "file_extension": ".py",
   "mimetype": "text/x-python",
   "name": "python",
   "nbconvert_exporter": "python",
   "pygments_lexer": "ipython3",
   "version": "3.8.5"
  }
 },
 "nbformat": 4,
 "nbformat_minor": 4
}
