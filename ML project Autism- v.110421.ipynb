{
 "cells": [
  {
   "cell_type": "markdown",
   "metadata": {},
   "source": [
    "# Detección de los trastornos del espectro autista (TEA) usando técnicas de machine learning\n",
    "### Julia María Martínez Tapia \n",
    "#### 31 de marzo de 2021"
   ]
  },
  {
   "cell_type": "markdown",
   "metadata": {},
   "source": [
    "## Introducción "
   ]
  },
  {
   "cell_type": "markdown",
   "metadata": {},
   "source": [
    "**Los trastornos del espectro autista (TEA) son un grupo de afecciones caracterizadas por algún grado de alteración del comportamiento social, la comunicación y el lenguaje, y por un repertorio de intereses y actividades restringido, estereotipado y repetitivo.** \n",
    "\n",
    "La evidencia científica disponible indica la existencia de múltiples factores, entre ellos los genéticos y ambientales, que hacen más probable que un niño pueda padecer un TEA\n",
    "\n",
    "Los TEA aparecen en la infancia y tienden a persistir hasta la adolescencia y la edad adulta. En la mayoría de los casos se manifiestan en los primeros 5 años de vida y se presentan cuatro veces más en hombres que en mujeres. Conllevan a menudo afecciones comórbidas, como epilepsia, depresión, ansiedad y trastorno de déficit de atención e hiperactividad.\n",
    "\n",
    "Las personas con TEA a menudo son objeto de estigmatización y discriminación, que incluye la privación injusta de atención sanitaria, educación y oportunidades para participar en sus comunidades.\n",
    "\n",
    "**Estos trastornos suponen una enorme carga emocional y económica para las personas que los padecen y para sus familiares.** \n",
    "\n",
    "Segun la Organización Mundial de la Salud, se calcula que uno de cada 160 niños tiene un TEA. Esta estimación representa una cifra media, pues la prevalencia observada varía considerablemente entre los distintos estudios. No obstante, en algunos estudios bien controlados se han registrado cifras notablemente mayores. \n",
    "\n",
    "Según los estudios epidemiológicos realizados en los últimos 50 años, la prevalencia mundial de estos trastornos parece estar aumentando. Hay muchas explicaciones posibles para este aparente incremento de la prevalencia, entre ellas una mayor concienciación, la ampliación de los criterios diagnósticos, mejores herramientas diagnósticas y mejor comunicación.\n",
    "\n",
    "**La intervención en la primera infancia es muy importante para optimizar el desarrollo y bienestar de las personas con un TEA. Por lo tanto, la detección temprana de esta enfermedad es clave para el bienestar de las personas que lo padecen.** \n",
    "\n",
    "Sin embargo existen otros trastornos mentales cuyos síntomas son muy similares a los TEA, por lo que la detección es una tarea  difícil \n",
    "\n",
    "**Con el auge de la aplicación de modelos basados en aprendizaje automático en las predicciones de diversas enfermedades humanas, ahora parece posible su detección temprana basada en diversos parámetros fisiológicos y de salud.**"
   ]
  },
  {
   "cell_type": "markdown",
   "metadata": {},
   "source": [
    "## Objetivo del proyecto\n",
    "\n"
   ]
  },
  {
   "cell_type": "markdown",
   "metadata": {},
   "source": [
    "**El objetivo del presente trabajo es evaluar la utilidad de varios modelos de machine learning en la predicción de casos de autismo.** \n",
    "\n",
    "El dataset utilizado procede de la fusión de tres datasets publicamente disponibles en el repositorio UCI.\n",
    "\n",
    "Fadi Fayez Thabtah (2017), “Autistic Spectrum Disorder Screening Data for Adult” https://archive.ics.uci.edu/ml/machine-learning-databases/00426/\n",
    "\n",
    "Fadi Fayez Thabtah (2017), “Autistic Spectrum Disorder Screening Data for children\" https://archive.ics.uci.edu/ml/machine-learning-databases/00419/\n",
    "\n",
    "adi Fayez Thabtah (2017), “Autistic Spectrum Disorder Screening Data for Adolescent” https://archive.ics.uci.edu/ml/machine-learning-databases/00420/\n",
    "\n",
    "El dataset contiene 20 variables independientes, una columna target y 1100 registros.\n",
    "\n",
    "Las variables independientes consisten en diez indicadores de comportamiento (behavioural features) y diez carácterísticas individuales que han probado su efectividad para detectar casos de TEA a partir de controles obtenidos de la ciencia del comportamiento.   \n",
    "\n",
    "Se puede encontrar la descripción de las variables en este [enlace](https://www.kaggle.com/faizunnabi/autism-screening)"
   ]
  },
  {
   "cell_type": "markdown",
   "metadata": {},
   "source": [
    "## I. Análisis exploratorio de datos (EDA)"
   ]
  },
  {
   "cell_type": "code",
   "execution_count": 1,
   "metadata": {},
   "outputs": [],
   "source": [
    "import numpy as np # linear algebra\n",
    "import pandas as pd # data processing, CSV file I/O (e.g. pd.read_csv)\n",
    "import matplotlib.pyplot as plt\n",
    "import seaborn as sns\n",
    "import sklearn as sk\n",
    "import plotly.express as px\n",
    "import warnings\n",
    "\n",
    "warnings.filterwarnings(\"ignore\")"
   ]
  },
  {
   "cell_type": "markdown",
   "metadata": {},
   "source": [
    "### 1. Análisis preliminar de los datos"
   ]
  },
  {
   "cell_type": "code",
   "execution_count": null,
   "metadata": {},
   "outputs": [],
   "source": [
    "#1. Carga de los datos"
   ]
  },
  {
   "cell_type": "code",
   "execution_count": 2,
   "metadata": {},
   "outputs": [],
   "source": [
    "raw_data = pd.read_excel(\"Autism_todos_raw_data.xlsx\")"
   ]
  },
  {
   "cell_type": "code",
   "execution_count": 180,
   "metadata": {
    "jupyter": {
     "outputs_hidden": true
    }
   },
   "outputs": [
    {
     "data": {
      "text/html": [
       "<div>\n",
       "<style scoped>\n",
       "    .dataframe tbody tr th:only-of-type {\n",
       "        vertical-align: middle;\n",
       "    }\n",
       "\n",
       "    .dataframe tbody tr th {\n",
       "        vertical-align: top;\n",
       "    }\n",
       "\n",
       "    .dataframe thead th {\n",
       "        text-align: right;\n",
       "    }\n",
       "</style>\n",
       "<table border=\"1\" class=\"dataframe\">\n",
       "  <thead>\n",
       "    <tr style=\"text-align: right;\">\n",
       "      <th></th>\n",
       "      <th>A1_score</th>\n",
       "      <th>A2_score</th>\n",
       "      <th>A3_score</th>\n",
       "      <th>A4_score</th>\n",
       "      <th>A5_score</th>\n",
       "      <th>A6_score</th>\n",
       "      <th>A7_score</th>\n",
       "      <th>A8_score</th>\n",
       "      <th>A9_score</th>\n",
       "      <th>A10_score</th>\n",
       "      <th>screening_score</th>\n",
       "      <th>sex</th>\n",
       "      <th>ethnicity</th>\n",
       "      <th>jaundice</th>\n",
       "      <th>fam_history_PDD</th>\n",
       "      <th>country_of_res</th>\n",
       "      <th>age_num</th>\n",
       "      <th>age_desc</th>\n",
       "      <th>relation</th>\n",
       "      <th>class</th>\n",
       "    </tr>\n",
       "  </thead>\n",
       "  <tbody>\n",
       "    <tr>\n",
       "      <th>0</th>\n",
       "      <td>1</td>\n",
       "      <td>1</td>\n",
       "      <td>1</td>\n",
       "      <td>1</td>\n",
       "      <td>0</td>\n",
       "      <td>0</td>\n",
       "      <td>1</td>\n",
       "      <td>1</td>\n",
       "      <td>0</td>\n",
       "      <td>0</td>\n",
       "      <td>6</td>\n",
       "      <td>f</td>\n",
       "      <td>White-European</td>\n",
       "      <td>no</td>\n",
       "      <td>no</td>\n",
       "      <td>'United States'</td>\n",
       "      <td>26.0</td>\n",
       "      <td>'18 and more'</td>\n",
       "      <td>Self</td>\n",
       "      <td>0</td>\n",
       "    </tr>\n",
       "    <tr>\n",
       "      <th>1</th>\n",
       "      <td>1</td>\n",
       "      <td>1</td>\n",
       "      <td>0</td>\n",
       "      <td>1</td>\n",
       "      <td>0</td>\n",
       "      <td>0</td>\n",
       "      <td>0</td>\n",
       "      <td>1</td>\n",
       "      <td>0</td>\n",
       "      <td>1</td>\n",
       "      <td>5</td>\n",
       "      <td>m</td>\n",
       "      <td>Latino</td>\n",
       "      <td>no</td>\n",
       "      <td>yes</td>\n",
       "      <td>Brazil</td>\n",
       "      <td>24.0</td>\n",
       "      <td>'18 and more'</td>\n",
       "      <td>Self</td>\n",
       "      <td>0</td>\n",
       "    </tr>\n",
       "    <tr>\n",
       "      <th>2</th>\n",
       "      <td>1</td>\n",
       "      <td>1</td>\n",
       "      <td>0</td>\n",
       "      <td>1</td>\n",
       "      <td>1</td>\n",
       "      <td>0</td>\n",
       "      <td>1</td>\n",
       "      <td>1</td>\n",
       "      <td>1</td>\n",
       "      <td>1</td>\n",
       "      <td>8</td>\n",
       "      <td>m</td>\n",
       "      <td>Latino</td>\n",
       "      <td>yes</td>\n",
       "      <td>yes</td>\n",
       "      <td>Spain</td>\n",
       "      <td>27.0</td>\n",
       "      <td>'18 and more'</td>\n",
       "      <td>Parent</td>\n",
       "      <td>1</td>\n",
       "    </tr>\n",
       "    <tr>\n",
       "      <th>3</th>\n",
       "      <td>1</td>\n",
       "      <td>1</td>\n",
       "      <td>0</td>\n",
       "      <td>1</td>\n",
       "      <td>0</td>\n",
       "      <td>0</td>\n",
       "      <td>1</td>\n",
       "      <td>1</td>\n",
       "      <td>0</td>\n",
       "      <td>1</td>\n",
       "      <td>6</td>\n",
       "      <td>f</td>\n",
       "      <td>White-European</td>\n",
       "      <td>no</td>\n",
       "      <td>yes</td>\n",
       "      <td>'United States'</td>\n",
       "      <td>35.0</td>\n",
       "      <td>'18 and more'</td>\n",
       "      <td>Self</td>\n",
       "      <td>0</td>\n",
       "    </tr>\n",
       "    <tr>\n",
       "      <th>4</th>\n",
       "      <td>1</td>\n",
       "      <td>0</td>\n",
       "      <td>0</td>\n",
       "      <td>0</td>\n",
       "      <td>0</td>\n",
       "      <td>0</td>\n",
       "      <td>0</td>\n",
       "      <td>1</td>\n",
       "      <td>0</td>\n",
       "      <td>0</td>\n",
       "      <td>2</td>\n",
       "      <td>f</td>\n",
       "      <td>NaN</td>\n",
       "      <td>no</td>\n",
       "      <td>no</td>\n",
       "      <td>Egypt</td>\n",
       "      <td>40.0</td>\n",
       "      <td>'18 and more'</td>\n",
       "      <td>NaN</td>\n",
       "      <td>0</td>\n",
       "    </tr>\n",
       "    <tr>\n",
       "      <th>...</th>\n",
       "      <td>...</td>\n",
       "      <td>...</td>\n",
       "      <td>...</td>\n",
       "      <td>...</td>\n",
       "      <td>...</td>\n",
       "      <td>...</td>\n",
       "      <td>...</td>\n",
       "      <td>...</td>\n",
       "      <td>...</td>\n",
       "      <td>...</td>\n",
       "      <td>...</td>\n",
       "      <td>...</td>\n",
       "      <td>...</td>\n",
       "      <td>...</td>\n",
       "      <td>...</td>\n",
       "      <td>...</td>\n",
       "      <td>...</td>\n",
       "      <td>...</td>\n",
       "      <td>...</td>\n",
       "      <td>...</td>\n",
       "    </tr>\n",
       "    <tr>\n",
       "      <th>1095</th>\n",
       "      <td>1</td>\n",
       "      <td>1</td>\n",
       "      <td>1</td>\n",
       "      <td>1</td>\n",
       "      <td>1</td>\n",
       "      <td>1</td>\n",
       "      <td>1</td>\n",
       "      <td>1</td>\n",
       "      <td>1</td>\n",
       "      <td>1</td>\n",
       "      <td>10</td>\n",
       "      <td>f</td>\n",
       "      <td>White-European</td>\n",
       "      <td>yes</td>\n",
       "      <td>yes</td>\n",
       "      <td>'United Kingdom'</td>\n",
       "      <td>7.0</td>\n",
       "      <td>'4-11 years'</td>\n",
       "      <td>Parent</td>\n",
       "      <td>1</td>\n",
       "    </tr>\n",
       "    <tr>\n",
       "      <th>1096</th>\n",
       "      <td>1</td>\n",
       "      <td>0</td>\n",
       "      <td>0</td>\n",
       "      <td>0</td>\n",
       "      <td>1</td>\n",
       "      <td>0</td>\n",
       "      <td>1</td>\n",
       "      <td>0</td>\n",
       "      <td>0</td>\n",
       "      <td>1</td>\n",
       "      <td>4</td>\n",
       "      <td>f</td>\n",
       "      <td>White-European</td>\n",
       "      <td>yes</td>\n",
       "      <td>yes</td>\n",
       "      <td>Australia</td>\n",
       "      <td>7.0</td>\n",
       "      <td>'4-11 years'</td>\n",
       "      <td>Parent</td>\n",
       "      <td>0</td>\n",
       "    </tr>\n",
       "    <tr>\n",
       "      <th>1097</th>\n",
       "      <td>1</td>\n",
       "      <td>0</td>\n",
       "      <td>1</td>\n",
       "      <td>1</td>\n",
       "      <td>1</td>\n",
       "      <td>1</td>\n",
       "      <td>1</td>\n",
       "      <td>0</td>\n",
       "      <td>0</td>\n",
       "      <td>1</td>\n",
       "      <td>7</td>\n",
       "      <td>m</td>\n",
       "      <td>Latino</td>\n",
       "      <td>no</td>\n",
       "      <td>no</td>\n",
       "      <td>Brazil</td>\n",
       "      <td>4.0</td>\n",
       "      <td>'4-11 years'</td>\n",
       "      <td>Parent</td>\n",
       "      <td>1</td>\n",
       "    </tr>\n",
       "    <tr>\n",
       "      <th>1098</th>\n",
       "      <td>1</td>\n",
       "      <td>1</td>\n",
       "      <td>1</td>\n",
       "      <td>0</td>\n",
       "      <td>1</td>\n",
       "      <td>1</td>\n",
       "      <td>1</td>\n",
       "      <td>1</td>\n",
       "      <td>1</td>\n",
       "      <td>1</td>\n",
       "      <td>9</td>\n",
       "      <td>m</td>\n",
       "      <td>'South Asian'</td>\n",
       "      <td>no</td>\n",
       "      <td>no</td>\n",
       "      <td>India</td>\n",
       "      <td>4.0</td>\n",
       "      <td>'4-11 years'</td>\n",
       "      <td>Parent</td>\n",
       "      <td>1</td>\n",
       "    </tr>\n",
       "    <tr>\n",
       "      <th>1099</th>\n",
       "      <td>0</td>\n",
       "      <td>0</td>\n",
       "      <td>1</td>\n",
       "      <td>0</td>\n",
       "      <td>1</td>\n",
       "      <td>0</td>\n",
       "      <td>1</td>\n",
       "      <td>0</td>\n",
       "      <td>0</td>\n",
       "      <td>0</td>\n",
       "      <td>3</td>\n",
       "      <td>f</td>\n",
       "      <td>'South Asian'</td>\n",
       "      <td>no</td>\n",
       "      <td>no</td>\n",
       "      <td>India</td>\n",
       "      <td>4.0</td>\n",
       "      <td>'4-11 years'</td>\n",
       "      <td>Parent</td>\n",
       "      <td>0</td>\n",
       "    </tr>\n",
       "  </tbody>\n",
       "</table>\n",
       "<p>1100 rows × 20 columns</p>\n",
       "</div>"
      ],
      "text/plain": [
       "      A1_score  A2_score  A3_score  A4_score  A5_score  A6_score  A7_score  \\\n",
       "0            1         1         1         1         0         0         1   \n",
       "1            1         1         0         1         0         0         0   \n",
       "2            1         1         0         1         1         0         1   \n",
       "3            1         1         0         1         0         0         1   \n",
       "4            1         0         0         0         0         0         0   \n",
       "...        ...       ...       ...       ...       ...       ...       ...   \n",
       "1095         1         1         1         1         1         1         1   \n",
       "1096         1         0         0         0         1         0         1   \n",
       "1097         1         0         1         1         1         1         1   \n",
       "1098         1         1         1         0         1         1         1   \n",
       "1099         0         0         1         0         1         0         1   \n",
       "\n",
       "      A8_score  A9_score  A10_score  screening_score sex       ethnicity  \\\n",
       "0            1         0          0                6   f  White-European   \n",
       "1            1         0          1                5   m          Latino   \n",
       "2            1         1          1                8   m          Latino   \n",
       "3            1         0          1                6   f  White-European   \n",
       "4            1         0          0                2   f             NaN   \n",
       "...        ...       ...        ...              ...  ..             ...   \n",
       "1095         1         1          1               10   f  White-European   \n",
       "1096         0         0          1                4   f  White-European   \n",
       "1097         0         0          1                7   m          Latino   \n",
       "1098         1         1          1                9   m   'South Asian'   \n",
       "1099         0         0          0                3   f   'South Asian'   \n",
       "\n",
       "     jaundice fam_history_PDD    country_of_res  age_num       age_desc  \\\n",
       "0          no              no   'United States'     26.0  '18 and more'   \n",
       "1          no             yes            Brazil     24.0  '18 and more'   \n",
       "2         yes             yes             Spain     27.0  '18 and more'   \n",
       "3          no             yes   'United States'     35.0  '18 and more'   \n",
       "4          no              no             Egypt     40.0  '18 and more'   \n",
       "...       ...             ...               ...      ...            ...   \n",
       "1095      yes             yes  'United Kingdom'      7.0   '4-11 years'   \n",
       "1096      yes             yes         Australia      7.0   '4-11 years'   \n",
       "1097       no              no            Brazil      4.0   '4-11 years'   \n",
       "1098       no              no             India      4.0   '4-11 years'   \n",
       "1099       no              no             India      4.0   '4-11 years'   \n",
       "\n",
       "     relation  class  \n",
       "0        Self      0  \n",
       "1        Self      0  \n",
       "2      Parent      1  \n",
       "3        Self      0  \n",
       "4         NaN      0  \n",
       "...       ...    ...  \n",
       "1095   Parent      1  \n",
       "1096   Parent      0  \n",
       "1097   Parent      1  \n",
       "1098   Parent      1  \n",
       "1099   Parent      0  \n",
       "\n",
       "[1100 rows x 20 columns]"
      ]
     },
     "execution_count": 180,
     "metadata": {},
     "output_type": "execute_result"
    }
   ],
   "source": [
    "raw_data\n"
   ]
  },
  {
   "cell_type": "code",
   "execution_count": null,
   "metadata": {
    "jupyter": {
     "outputs_hidden": true
    }
   },
   "outputs": [],
   "source": [
    "raw_data.info()\n",
    "#Curioso, los missings de ethniciy y relation son los mismos, se dan exactamente en los mismos 144 registros."
   ]
  },
  {
   "cell_type": "code",
   "execution_count": 4,
   "metadata": {
    "jupyter": {
     "outputs_hidden": true
    }
   },
   "outputs": [
    {
     "data": {
      "text/html": [
       "<div>\n",
       "<style scoped>\n",
       "    .dataframe tbody tr th:only-of-type {\n",
       "        vertical-align: middle;\n",
       "    }\n",
       "\n",
       "    .dataframe tbody tr th {\n",
       "        vertical-align: top;\n",
       "    }\n",
       "\n",
       "    .dataframe thead th {\n",
       "        text-align: right;\n",
       "    }\n",
       "</style>\n",
       "<table border=\"1\" class=\"dataframe\">\n",
       "  <thead>\n",
       "    <tr style=\"text-align: right;\">\n",
       "      <th></th>\n",
       "      <th>A1_score</th>\n",
       "      <th>A2_score</th>\n",
       "      <th>A3_score</th>\n",
       "      <th>A4_score</th>\n",
       "      <th>A5_score</th>\n",
       "      <th>A6_score</th>\n",
       "      <th>A7_score</th>\n",
       "      <th>A8_score</th>\n",
       "      <th>A9_score</th>\n",
       "      <th>A10_score</th>\n",
       "      <th>screening_score</th>\n",
       "      <th>age_num</th>\n",
       "    </tr>\n",
       "  </thead>\n",
       "  <tbody>\n",
       "    <tr>\n",
       "      <th>count</th>\n",
       "      <td>1100.000000</td>\n",
       "      <td>1100.000000</td>\n",
       "      <td>1100.000000</td>\n",
       "      <td>1100.000000</td>\n",
       "      <td>1100.000000</td>\n",
       "      <td>1100.000000</td>\n",
       "      <td>1100.000000</td>\n",
       "      <td>1100.000000</td>\n",
       "      <td>1100.000000</td>\n",
       "      <td>1100.000000</td>\n",
       "      <td>1100.000000</td>\n",
       "      <td>1094.000000</td>\n",
       "    </tr>\n",
       "    <tr>\n",
       "      <th>mean</th>\n",
       "      <td>0.699091</td>\n",
       "      <td>0.482727</td>\n",
       "      <td>0.551818</td>\n",
       "      <td>0.530000</td>\n",
       "      <td>0.587273</td>\n",
       "      <td>0.443636</td>\n",
       "      <td>0.477273</td>\n",
       "      <td>0.605455</td>\n",
       "      <td>0.412727</td>\n",
       "      <td>0.621818</td>\n",
       "      <td>5.411818</td>\n",
       "      <td>22.073126</td>\n",
       "    </tr>\n",
       "    <tr>\n",
       "      <th>std</th>\n",
       "      <td>0.458862</td>\n",
       "      <td>0.499929</td>\n",
       "      <td>0.497534</td>\n",
       "      <td>0.499326</td>\n",
       "      <td>0.492548</td>\n",
       "      <td>0.497039</td>\n",
       "      <td>0.499710</td>\n",
       "      <td>0.488975</td>\n",
       "      <td>0.492548</td>\n",
       "      <td>0.485154</td>\n",
       "      <td>2.523492</td>\n",
       "      <td>16.879373</td>\n",
       "    </tr>\n",
       "    <tr>\n",
       "      <th>min</th>\n",
       "      <td>0.000000</td>\n",
       "      <td>0.000000</td>\n",
       "      <td>0.000000</td>\n",
       "      <td>0.000000</td>\n",
       "      <td>0.000000</td>\n",
       "      <td>0.000000</td>\n",
       "      <td>0.000000</td>\n",
       "      <td>0.000000</td>\n",
       "      <td>0.000000</td>\n",
       "      <td>0.000000</td>\n",
       "      <td>0.000000</td>\n",
       "      <td>4.000000</td>\n",
       "    </tr>\n",
       "    <tr>\n",
       "      <th>25%</th>\n",
       "      <td>0.000000</td>\n",
       "      <td>0.000000</td>\n",
       "      <td>0.000000</td>\n",
       "      <td>0.000000</td>\n",
       "      <td>0.000000</td>\n",
       "      <td>0.000000</td>\n",
       "      <td>0.000000</td>\n",
       "      <td>0.000000</td>\n",
       "      <td>0.000000</td>\n",
       "      <td>0.000000</td>\n",
       "      <td>3.000000</td>\n",
       "      <td>11.000000</td>\n",
       "    </tr>\n",
       "    <tr>\n",
       "      <th>50%</th>\n",
       "      <td>1.000000</td>\n",
       "      <td>0.000000</td>\n",
       "      <td>1.000000</td>\n",
       "      <td>1.000000</td>\n",
       "      <td>1.000000</td>\n",
       "      <td>0.000000</td>\n",
       "      <td>0.000000</td>\n",
       "      <td>1.000000</td>\n",
       "      <td>0.000000</td>\n",
       "      <td>1.000000</td>\n",
       "      <td>5.000000</td>\n",
       "      <td>21.000000</td>\n",
       "    </tr>\n",
       "    <tr>\n",
       "      <th>75%</th>\n",
       "      <td>1.000000</td>\n",
       "      <td>1.000000</td>\n",
       "      <td>1.000000</td>\n",
       "      <td>1.000000</td>\n",
       "      <td>1.000000</td>\n",
       "      <td>1.000000</td>\n",
       "      <td>1.000000</td>\n",
       "      <td>1.000000</td>\n",
       "      <td>1.000000</td>\n",
       "      <td>1.000000</td>\n",
       "      <td>7.250000</td>\n",
       "      <td>30.000000</td>\n",
       "    </tr>\n",
       "    <tr>\n",
       "      <th>max</th>\n",
       "      <td>1.000000</td>\n",
       "      <td>1.000000</td>\n",
       "      <td>1.000000</td>\n",
       "      <td>1.000000</td>\n",
       "      <td>1.000000</td>\n",
       "      <td>1.000000</td>\n",
       "      <td>1.000000</td>\n",
       "      <td>1.000000</td>\n",
       "      <td>1.000000</td>\n",
       "      <td>1.000000</td>\n",
       "      <td>10.000000</td>\n",
       "      <td>383.000000</td>\n",
       "    </tr>\n",
       "  </tbody>\n",
       "</table>\n",
       "</div>"
      ],
      "text/plain": [
       "          A1_score     A2_score     A3_score     A4_score     A5_score  \\\n",
       "count  1100.000000  1100.000000  1100.000000  1100.000000  1100.000000   \n",
       "mean      0.699091     0.482727     0.551818     0.530000     0.587273   \n",
       "std       0.458862     0.499929     0.497534     0.499326     0.492548   \n",
       "min       0.000000     0.000000     0.000000     0.000000     0.000000   \n",
       "25%       0.000000     0.000000     0.000000     0.000000     0.000000   \n",
       "50%       1.000000     0.000000     1.000000     1.000000     1.000000   \n",
       "75%       1.000000     1.000000     1.000000     1.000000     1.000000   \n",
       "max       1.000000     1.000000     1.000000     1.000000     1.000000   \n",
       "\n",
       "          A6_score     A7_score     A8_score     A9_score    A10_score  \\\n",
       "count  1100.000000  1100.000000  1100.000000  1100.000000  1100.000000   \n",
       "mean      0.443636     0.477273     0.605455     0.412727     0.621818   \n",
       "std       0.497039     0.499710     0.488975     0.492548     0.485154   \n",
       "min       0.000000     0.000000     0.000000     0.000000     0.000000   \n",
       "25%       0.000000     0.000000     0.000000     0.000000     0.000000   \n",
       "50%       0.000000     0.000000     1.000000     0.000000     1.000000   \n",
       "75%       1.000000     1.000000     1.000000     1.000000     1.000000   \n",
       "max       1.000000     1.000000     1.000000     1.000000     1.000000   \n",
       "\n",
       "       screening_score      age_num  \n",
       "count      1100.000000  1094.000000  \n",
       "mean          5.411818    22.073126  \n",
       "std           2.523492    16.879373  \n",
       "min           0.000000     4.000000  \n",
       "25%           3.000000    11.000000  \n",
       "50%           5.000000    21.000000  \n",
       "75%           7.250000    30.000000  \n",
       "max          10.000000   383.000000  "
      ]
     },
     "execution_count": 4,
     "metadata": {},
     "output_type": "execute_result"
    }
   ],
   "source": [
    "raw_data.describe()"
   ]
  },
  {
   "cell_type": "markdown",
   "metadata": {},
   "source": [
    "Hay un error en la variable age_number, no tiene sentido un max de edad de 383 años. Se corrije más adelante."
   ]
  },
  {
   "cell_type": "markdown",
   "metadata": {},
   "source": [
    "### 2. Análisis del target"
   ]
  },
  {
   "cell_type": "markdown",
   "metadata": {},
   "source": [
    "Comprobamos si el dataset está desbalanceado comparando el número de registros de las clases que constituyen el target (en este caso, SI o NO autismo)"
   ]
  },
  {
   "cell_type": "code",
   "execution_count": 5,
   "metadata": {
    "jupyter": {
     "outputs_hidden": true
    }
   },
   "outputs": [
    {
     "data": {
      "text/plain": [
       "0        NO\n",
       "1        NO\n",
       "2       YES\n",
       "3        NO\n",
       "4        NO\n",
       "       ... \n",
       "1095    YES\n",
       "1096     NO\n",
       "1097    YES\n",
       "1098    YES\n",
       "1099     NO\n",
       "Name: class, Length: 1100, dtype: object"
      ]
     },
     "execution_count": 5,
     "metadata": {},
     "output_type": "execute_result"
    }
   ],
   "source": [
    "raw_data[\"class\"]"
   ]
  },
  {
   "cell_type": "code",
   "execution_count": 6,
   "metadata": {},
   "outputs": [
    {
     "data": {
      "text/plain": [
       "False    707\n",
       "True     393\n",
       "Name: class, dtype: int64"
      ]
     },
     "execution_count": 6,
     "metadata": {},
     "output_type": "execute_result"
    }
   ],
   "source": [
    "raw_data[\"class\"].isin([\"YES\"]).value_counts()"
   ]
  },
  {
   "cell_type": "code",
   "execution_count": 7,
   "metadata": {},
   "outputs": [
    {
     "data": {
      "text/plain": [
       "<AxesSubplot:xlabel='class', ylabel='count'>"
      ]
     },
     "execution_count": 7,
     "metadata": {},
     "output_type": "execute_result"
    },
    {
     "data": {
      "image/png": "[encoded data removed]",
      "text/plain": [
       "<Figure size 432x288 with 1 Axes>"
      ]
     },
     "metadata": {
      "needs_background": "light"
     },
     "output_type": "display_data"
    }
   ],
   "source": [
    "sns.countplot(data = raw_data, x = \"class\")"
   ]
  },
  {
   "cell_type": "code",
   "execution_count": null,
   "metadata": {},
   "outputs": [],
   "source": [
    "# El dataset está desbalanceado, pero no excesivamente. Por tanto no voy a hacer resampling ni a generar datos sintéticos, \n",
    "# pero lo tendré en cuenta a la hora de escoger métricas e hiperparámetros."
   ]
  },
  {
   "cell_type": "code",
   "execution_count": 8,
   "metadata": {
    "jupyter": {
     "outputs_hidden": true
    }
   },
   "outputs": [
    {
     "data": {
      "text/plain": [
       "0       0\n",
       "1       0\n",
       "2       1\n",
       "3       0\n",
       "4       0\n",
       "       ..\n",
       "1095    1\n",
       "1096    0\n",
       "1097    1\n",
       "1098    1\n",
       "1099    0\n",
       "Name: class, Length: 1100, dtype: int64"
      ]
     },
     "execution_count": 8,
     "metadata": {},
     "output_type": "execute_result"
    }
   ],
   "source": [
    "#Por otro lado, antes de dividir en train y test voy a transformar los valores de columna target \"class\" de YES/NO a 1/0 para poder luego \n",
    "#aplicarle más adelante el coeficiente de correlación de Person. Lo hago con un apply.\n",
    "\n",
    "def mapping(x):\n",
    "    if x == \"YES\":\n",
    "        return 1\n",
    "    elif x == \"NO\":\n",
    "        return 0\n",
    "\n",
    "raw_data[\"class\"] = raw_data[\"class\"].apply(mapping)\n",
    "\n",
    "raw_data[\"class\"]\n"
   ]
  },
  {
   "cell_type": "code",
   "execution_count": 9,
   "metadata": {},
   "outputs": [],
   "source": [
    "data = raw_data"
   ]
  },
  {
   "cell_type": "markdown",
   "metadata": {},
   "source": [
    "### 3. Comprensión de las variables y su relación con el target. Reducción preliminar."
   ]
  },
  {
   "cell_type": "code",
   "execution_count": 10,
   "metadata": {
    "jupyter": {
     "outputs_hidden": true
    }
   },
   "outputs": [
    {
     "name": "stdout",
     "output_type": "stream",
     "text": [
      "<class 'pandas.core.frame.DataFrame'>\n",
      "RangeIndex: 1100 entries, 0 to 1099\n",
      "Data columns (total 21 columns):\n",
      " #   Column           Non-Null Count  Dtype  \n",
      "---  ------           --------------  -----  \n",
      " 0   A1_score         1100 non-null   int64  \n",
      " 1   A2_score         1100 non-null   int64  \n",
      " 2   A3_score         1100 non-null   int64  \n",
      " 3   A4_score         1100 non-null   int64  \n",
      " 4   A5_score         1100 non-null   int64  \n",
      " 5   A6_score         1100 non-null   int64  \n",
      " 6   A7_score         1100 non-null   int64  \n",
      " 7   A8_score         1100 non-null   int64  \n",
      " 8   A9_score         1100 non-null   int64  \n",
      " 9   A10_score        1100 non-null   int64  \n",
      " 10  screening_score  1100 non-null   int64  \n",
      " 11  sex              1100 non-null   object \n",
      " 12  ethnicity        956 non-null    object \n",
      " 13  jaundice         1100 non-null   object \n",
      " 14  fam_history_PDD  1100 non-null   object \n",
      " 15  country_of_res   1100 non-null   object \n",
      " 16  used_app_before  1100 non-null   object \n",
      " 17  age_num          1094 non-null   float64\n",
      " 18  age_desc         1100 non-null   object \n",
      " 19  relation         956 non-null    object \n",
      " 20  class            1100 non-null   int64  \n",
      "dtypes: float64(1), int64(12), object(8)\n",
      "memory usage: 180.6+ KB\n"
     ]
    }
   ],
   "source": [
    "data.info()"
   ]
  },
  {
   "cell_type": "markdown",
   "metadata": {},
   "source": [
    "A continuación obtenemos un reporte de las columnas, con sus tipos, % de missings y cardinalidad."
   ]
  },
  {
   "cell_type": "code",
   "execution_count": 11,
   "metadata": {
    "jupyter": {
     "outputs_hidden": true,
     "source_hidden": true
    }
   },
   "outputs": [
    {
     "data": {
      "text/html": [
       "<div>\n",
       "<style scoped>\n",
       "    .dataframe tbody tr th:only-of-type {\n",
       "        vertical-align: middle;\n",
       "    }\n",
       "\n",
       "    .dataframe tbody tr th {\n",
       "        vertical-align: top;\n",
       "    }\n",
       "\n",
       "    .dataframe thead th {\n",
       "        text-align: right;\n",
       "    }\n",
       "</style>\n",
       "<table border=\"1\" class=\"dataframe\">\n",
       "  <thead>\n",
       "    <tr style=\"text-align: right;\">\n",
       "      <th>COL_N</th>\n",
       "      <th>A1_score</th>\n",
       "      <th>A2_score</th>\n",
       "      <th>A3_score</th>\n",
       "      <th>A4_score</th>\n",
       "      <th>A5_score</th>\n",
       "      <th>A6_score</th>\n",
       "      <th>A7_score</th>\n",
       "      <th>A8_score</th>\n",
       "      <th>A9_score</th>\n",
       "      <th>A10_score</th>\n",
       "      <th>...</th>\n",
       "      <th>sex</th>\n",
       "      <th>ethnicity</th>\n",
       "      <th>jaundice</th>\n",
       "      <th>fam_history_PDD</th>\n",
       "      <th>country_of_res</th>\n",
       "      <th>used_app_before</th>\n",
       "      <th>age_num</th>\n",
       "      <th>age_desc</th>\n",
       "      <th>relation</th>\n",
       "      <th>class</th>\n",
       "    </tr>\n",
       "  </thead>\n",
       "  <tbody>\n",
       "    <tr>\n",
       "      <th>DATA_TYPE</th>\n",
       "      <td>int64</td>\n",
       "      <td>int64</td>\n",
       "      <td>int64</td>\n",
       "      <td>int64</td>\n",
       "      <td>int64</td>\n",
       "      <td>int64</td>\n",
       "      <td>int64</td>\n",
       "      <td>int64</td>\n",
       "      <td>int64</td>\n",
       "      <td>int64</td>\n",
       "      <td>...</td>\n",
       "      <td>object</td>\n",
       "      <td>object</td>\n",
       "      <td>object</td>\n",
       "      <td>object</td>\n",
       "      <td>object</td>\n",
       "      <td>object</td>\n",
       "      <td>float64</td>\n",
       "      <td>object</td>\n",
       "      <td>object</td>\n",
       "      <td>int64</td>\n",
       "    </tr>\n",
       "    <tr>\n",
       "      <th>MISSINGS (%)</th>\n",
       "      <td>0</td>\n",
       "      <td>0</td>\n",
       "      <td>0</td>\n",
       "      <td>0</td>\n",
       "      <td>0</td>\n",
       "      <td>0</td>\n",
       "      <td>0</td>\n",
       "      <td>0</td>\n",
       "      <td>0</td>\n",
       "      <td>0</td>\n",
       "      <td>...</td>\n",
       "      <td>0</td>\n",
       "      <td>13.09</td>\n",
       "      <td>0</td>\n",
       "      <td>0</td>\n",
       "      <td>0</td>\n",
       "      <td>0</td>\n",
       "      <td>0.55</td>\n",
       "      <td>0</td>\n",
       "      <td>13.09</td>\n",
       "      <td>0</td>\n",
       "    </tr>\n",
       "    <tr>\n",
       "      <th>UNIQUE_VALUES</th>\n",
       "      <td>2</td>\n",
       "      <td>2</td>\n",
       "      <td>2</td>\n",
       "      <td>2</td>\n",
       "      <td>2</td>\n",
       "      <td>2</td>\n",
       "      <td>2</td>\n",
       "      <td>2</td>\n",
       "      <td>2</td>\n",
       "      <td>2</td>\n",
       "      <td>...</td>\n",
       "      <td>2</td>\n",
       "      <td>11</td>\n",
       "      <td>2</td>\n",
       "      <td>2</td>\n",
       "      <td>89</td>\n",
       "      <td>2</td>\n",
       "      <td>59</td>\n",
       "      <td>4</td>\n",
       "      <td>6</td>\n",
       "      <td>2</td>\n",
       "    </tr>\n",
       "    <tr>\n",
       "      <th>CARDIN (%)</th>\n",
       "      <td>0.18</td>\n",
       "      <td>0.18</td>\n",
       "      <td>0.18</td>\n",
       "      <td>0.18</td>\n",
       "      <td>0.18</td>\n",
       "      <td>0.18</td>\n",
       "      <td>0.18</td>\n",
       "      <td>0.18</td>\n",
       "      <td>0.18</td>\n",
       "      <td>0.18</td>\n",
       "      <td>...</td>\n",
       "      <td>0.18</td>\n",
       "      <td>1</td>\n",
       "      <td>0.18</td>\n",
       "      <td>0.18</td>\n",
       "      <td>8.09</td>\n",
       "      <td>0.18</td>\n",
       "      <td>5.36</td>\n",
       "      <td>0.36</td>\n",
       "      <td>0.55</td>\n",
       "      <td>0.18</td>\n",
       "    </tr>\n",
       "  </tbody>\n",
       "</table>\n",
       "<p>4 rows × 21 columns</p>\n",
       "</div>"
      ],
      "text/plain": [
       "COL_N         A1_score A2_score A3_score A4_score A5_score A6_score A7_score  \\\n",
       "DATA_TYPE        int64    int64    int64    int64    int64    int64    int64   \n",
       "MISSINGS (%)         0        0        0        0        0        0        0   \n",
       "UNIQUE_VALUES        2        2        2        2        2        2        2   \n",
       "CARDIN (%)        0.18     0.18     0.18     0.18     0.18     0.18     0.18   \n",
       "\n",
       "COL_N         A8_score A9_score A10_score  ...     sex ethnicity jaundice  \\\n",
       "DATA_TYPE        int64    int64     int64  ...  object    object   object   \n",
       "MISSINGS (%)         0        0         0  ...       0     13.09        0   \n",
       "UNIQUE_VALUES        2        2         2  ...       2        11        2   \n",
       "CARDIN (%)        0.18     0.18      0.18  ...    0.18         1     0.18   \n",
       "\n",
       "COL_N         fam_history_PDD country_of_res used_app_before  age_num  \\\n",
       "DATA_TYPE              object         object          object  float64   \n",
       "MISSINGS (%)                0              0               0     0.55   \n",
       "UNIQUE_VALUES               2             89               2       59   \n",
       "CARDIN (%)               0.18           8.09            0.18     5.36   \n",
       "\n",
       "COL_N         age_desc relation  class  \n",
       "DATA_TYPE       object   object  int64  \n",
       "MISSINGS (%)         0    13.09      0  \n",
       "UNIQUE_VALUES        4        6      2  \n",
       "CARDIN (%)        0.36     0.55   0.18  \n",
       "\n",
       "[4 rows x 21 columns]"
      ]
     },
     "execution_count": 11,
     "metadata": {},
     "output_type": "execute_result"
    }
   ],
   "source": [
    "def data_report(df):\n",
    "    # Sacamos los NOMBRES\n",
    "    cols = pd.DataFrame(df.columns.values, columns=[\"COL_N\"])\n",
    "\n",
    "    # Sacamos los TIPOS\n",
    "    types = pd.DataFrame(df.dtypes.values, columns=[\"DATA_TYPE\"])\n",
    "\n",
    "    # Sacamos los MISSINGS\n",
    "    percent_missing = round(df.isnull().sum() * 100 / len(df), 2)\n",
    "    percent_missing_df = pd.DataFrame(percent_missing.values, columns=[\"MISSINGS (%)\"])\n",
    "\n",
    "    # Sacamos los VALORES UNICOS\n",
    "    unicos = pd.DataFrame(df.nunique().values, columns=[\"UNIQUE_VALUES\"])\n",
    "    \n",
    "    percent_cardin = round(unicos['UNIQUE_VALUES']*100/len(df), 2)\n",
    "    percent_cardin_df = pd.DataFrame(percent_cardin.values, columns=[\"CARDIN (%)\"])\n",
    "    \n",
    "    #la cardinalidad aporta información en las columnas categóricas. Si la cardinalidad es alta es que hay muchos valores únicos, normalmente \n",
    "    #serán identificadores (como nombres propios) y, dependiendo del dataset es probable que esa columna no aporte nada al target y la podamos\n",
    "    #eliminar. \n",
    "    \n",
    "    concatenado = pd.concat([cols, types, percent_missing_df, unicos, percent_cardin_df], axis=1, sort=False)\n",
    "    concatenado.set_index('COL_N', drop=True, inplace=True)\n",
    "\n",
    "    return concatenado.T\n",
    "        \n",
    "data_report(data)\n"
   ]
  },
  {
   "cell_type": "code",
   "execution_count": 12,
   "metadata": {
    "jupyter": {
     "outputs_hidden": true
    }
   },
   "outputs": [
    {
     "name": "stdout",
     "output_type": "stream",
     "text": [
      "class              1.000000\n",
      "screening_score    0.834223\n",
      "A9_score           0.596497\n",
      "A6_score           0.567634\n",
      "A5_score           0.520985\n",
      "A4_score           0.508243\n",
      "A3_score           0.462104\n",
      "A10_score          0.421044\n",
      "A7_score           0.347273\n",
      "A1_score           0.290603\n",
      "A2_score           0.285832\n",
      "A8_score           0.275809\n",
      "age_num            0.102379\n",
      "Name: class, dtype: float64\n"
     ]
    }
   ],
   "source": [
    "#Obtenemos el coeficiente de correlación lineal (Pearson) de las variables independientes numéricas con el target\n",
    "\n",
    "corr = np.abs(data.corr()[\"class\"]).sort_values(ascending = False)\n",
    "print(corr)\n"
   ]
  },
  {
   "cell_type": "code",
   "execution_count": 13,
   "metadata": {
    "jupyter": {
     "source_hidden": true
    }
   },
   "outputs": [
    {
     "data": {
      "image/png": "[encoded data removed]",
      "text/plain": [
       "<Figure size 720x720 with 2 Axes>"
      ]
     },
     "metadata": {
      "needs_background": "light"
     },
     "output_type": "display_data"
    }
   ],
   "source": [
    "#Mostramos la correlación en un heatmap\n",
    "\n",
    "plt.figure(figsize=(10,10))\n",
    "\n",
    "sns.heatmap(data.corr(),\n",
    "            vmin=-1,\n",
    "            vmax=1,\n",
    "            center=0,\n",
    "            cmap=sns.diverging_palette(220, 20, as_cmap=True),\n",
    "            square=True,\n",
    "            annot=True,\n",
    "            linewidths=.5);"
   ]
  },
  {
   "cell_type": "markdown",
   "metadata": {},
   "source": [
    "Observamos que existen 7 variables numéricas con una correlación con el target superior al 0.4, por este orden:\n",
    "    \n",
    "+ screening_score    0.834223 - Puntuación resultante del método de screening.\n",
    "+ A9_score           0.596497 - *9.\tI find easy to work out what someone is thinking or feeling just by looking at their face.*\n",
    "+ A6_score           0.567634 - *6.\tI know how to tell if someone listening to me is getting bored*\n",
    "+ A5_score           0.520985 - *5.\tI find it easy to read between the lines when someone is talking to me.* \n",
    "+ A4_score           0.508243 - *4.\tIf there is an interruption, I can switch back to what I was doing very quickly.*\n",
    "+ A3_score           0.462104 - *3.\tI find it easy to do more than one thing at once.*\n",
    "+ A10_score          0.421044 - *10. I find it difficult to work out people´s intentions*"
   ]
  },
  {
   "cell_type": "markdown",
   "metadata": {},
   "source": [
    "Para poder visualizar la correlacion de las variables categóricas con el target utilizamos una matriz de Phick en lugar del coeficiente de correlación de Pearson, que éstá limitado a las variables numéricas. Como son muchas variables en total, para que no me salga un heatmap imposible de entender voy a tomar para el Phick sólo las columnas categóricas."
   ]
  },
  {
   "cell_type": "code",
   "execution_count": 14,
   "metadata": {
    "jupyter": {
     "outputs_hidden": true
    }
   },
   "outputs": [
    {
     "data": {
      "text/html": [
       "<div>\n",
       "<style scoped>\n",
       "    .dataframe tbody tr th:only-of-type {\n",
       "        vertical-align: middle;\n",
       "    }\n",
       "\n",
       "    .dataframe tbody tr th {\n",
       "        vertical-align: top;\n",
       "    }\n",
       "\n",
       "    .dataframe thead th {\n",
       "        text-align: right;\n",
       "    }\n",
       "</style>\n",
       "<table border=\"1\" class=\"dataframe\">\n",
       "  <thead>\n",
       "    <tr style=\"text-align: right;\">\n",
       "      <th></th>\n",
       "      <th>sex</th>\n",
       "      <th>ethnicity</th>\n",
       "      <th>jaundice</th>\n",
       "      <th>fam_history_PDD</th>\n",
       "      <th>country_of_res</th>\n",
       "      <th>used_app_before</th>\n",
       "      <th>age_desc</th>\n",
       "      <th>relation</th>\n",
       "      <th>class</th>\n",
       "    </tr>\n",
       "  </thead>\n",
       "  <tbody>\n",
       "    <tr>\n",
       "      <th>0</th>\n",
       "      <td>f</td>\n",
       "      <td>White-European</td>\n",
       "      <td>no</td>\n",
       "      <td>no</td>\n",
       "      <td>'United States'</td>\n",
       "      <td>no</td>\n",
       "      <td>'18 and more'</td>\n",
       "      <td>Self</td>\n",
       "      <td>0</td>\n",
       "    </tr>\n",
       "    <tr>\n",
       "      <th>1</th>\n",
       "      <td>m</td>\n",
       "      <td>Latino</td>\n",
       "      <td>no</td>\n",
       "      <td>yes</td>\n",
       "      <td>Brazil</td>\n",
       "      <td>no</td>\n",
       "      <td>'18 and more'</td>\n",
       "      <td>Self</td>\n",
       "      <td>0</td>\n",
       "    </tr>\n",
       "    <tr>\n",
       "      <th>2</th>\n",
       "      <td>m</td>\n",
       "      <td>Latino</td>\n",
       "      <td>yes</td>\n",
       "      <td>yes</td>\n",
       "      <td>Spain</td>\n",
       "      <td>no</td>\n",
       "      <td>'18 and more'</td>\n",
       "      <td>Parent</td>\n",
       "      <td>1</td>\n",
       "    </tr>\n",
       "    <tr>\n",
       "      <th>3</th>\n",
       "      <td>f</td>\n",
       "      <td>White-European</td>\n",
       "      <td>no</td>\n",
       "      <td>yes</td>\n",
       "      <td>'United States'</td>\n",
       "      <td>no</td>\n",
       "      <td>'18 and more'</td>\n",
       "      <td>Self</td>\n",
       "      <td>0</td>\n",
       "    </tr>\n",
       "    <tr>\n",
       "      <th>4</th>\n",
       "      <td>f</td>\n",
       "      <td>NaN</td>\n",
       "      <td>no</td>\n",
       "      <td>no</td>\n",
       "      <td>Egypt</td>\n",
       "      <td>no</td>\n",
       "      <td>'18 and more'</td>\n",
       "      <td>NaN</td>\n",
       "      <td>0</td>\n",
       "    </tr>\n",
       "    <tr>\n",
       "      <th>...</th>\n",
       "      <td>...</td>\n",
       "      <td>...</td>\n",
       "      <td>...</td>\n",
       "      <td>...</td>\n",
       "      <td>...</td>\n",
       "      <td>...</td>\n",
       "      <td>...</td>\n",
       "      <td>...</td>\n",
       "      <td>...</td>\n",
       "    </tr>\n",
       "    <tr>\n",
       "      <th>1095</th>\n",
       "      <td>f</td>\n",
       "      <td>White-European</td>\n",
       "      <td>yes</td>\n",
       "      <td>yes</td>\n",
       "      <td>'United Kingdom'</td>\n",
       "      <td>no</td>\n",
       "      <td>'4-11 years'</td>\n",
       "      <td>Parent</td>\n",
       "      <td>1</td>\n",
       "    </tr>\n",
       "    <tr>\n",
       "      <th>1096</th>\n",
       "      <td>f</td>\n",
       "      <td>White-European</td>\n",
       "      <td>yes</td>\n",
       "      <td>yes</td>\n",
       "      <td>Australia</td>\n",
       "      <td>no</td>\n",
       "      <td>'4-11 years'</td>\n",
       "      <td>Parent</td>\n",
       "      <td>0</td>\n",
       "    </tr>\n",
       "    <tr>\n",
       "      <th>1097</th>\n",
       "      <td>m</td>\n",
       "      <td>Latino</td>\n",
       "      <td>no</td>\n",
       "      <td>no</td>\n",
       "      <td>Brazil</td>\n",
       "      <td>no</td>\n",
       "      <td>'4-11 years'</td>\n",
       "      <td>Parent</td>\n",
       "      <td>1</td>\n",
       "    </tr>\n",
       "    <tr>\n",
       "      <th>1098</th>\n",
       "      <td>m</td>\n",
       "      <td>'South Asian'</td>\n",
       "      <td>no</td>\n",
       "      <td>no</td>\n",
       "      <td>India</td>\n",
       "      <td>no</td>\n",
       "      <td>'4-11 years'</td>\n",
       "      <td>Parent</td>\n",
       "      <td>1</td>\n",
       "    </tr>\n",
       "    <tr>\n",
       "      <th>1099</th>\n",
       "      <td>f</td>\n",
       "      <td>'South Asian'</td>\n",
       "      <td>no</td>\n",
       "      <td>no</td>\n",
       "      <td>India</td>\n",
       "      <td>no</td>\n",
       "      <td>'4-11 years'</td>\n",
       "      <td>Parent</td>\n",
       "      <td>0</td>\n",
       "    </tr>\n",
       "  </tbody>\n",
       "</table>\n",
       "<p>1100 rows × 9 columns</p>\n",
       "</div>"
      ],
      "text/plain": [
       "     sex       ethnicity jaundice fam_history_PDD    country_of_res  \\\n",
       "0      f  White-European       no              no   'United States'   \n",
       "1      m          Latino       no             yes            Brazil   \n",
       "2      m          Latino      yes             yes             Spain   \n",
       "3      f  White-European       no             yes   'United States'   \n",
       "4      f             NaN       no              no             Egypt   \n",
       "...   ..             ...      ...             ...               ...   \n",
       "1095   f  White-European      yes             yes  'United Kingdom'   \n",
       "1096   f  White-European      yes             yes         Australia   \n",
       "1097   m          Latino       no              no            Brazil   \n",
       "1098   m   'South Asian'       no              no             India   \n",
       "1099   f   'South Asian'       no              no             India   \n",
       "\n",
       "     used_app_before       age_desc relation  class  \n",
       "0                 no  '18 and more'     Self      0  \n",
       "1                 no  '18 and more'     Self      0  \n",
       "2                 no  '18 and more'   Parent      1  \n",
       "3                 no  '18 and more'     Self      0  \n",
       "4                 no  '18 and more'      NaN      0  \n",
       "...              ...            ...      ...    ...  \n",
       "1095              no   '4-11 years'   Parent      1  \n",
       "1096              no   '4-11 years'   Parent      0  \n",
       "1097              no   '4-11 years'   Parent      1  \n",
       "1098              no   '4-11 years'   Parent      1  \n",
       "1099              no   '4-11 years'   Parent      0  \n",
       "\n",
       "[1100 rows x 9 columns]"
      ]
     },
     "execution_count": 14,
     "metadata": {},
     "output_type": "execute_result"
    }
   ],
   "source": [
    "categoricas = data[['sex', 'ethnicity', 'jaundice', 'fam_history_PDD', 'country_of_res',\n",
    "                        'used_app_before','age_desc', 'relation',\"class\"]]\n",
    "\n",
    "categoricas\n"
   ]
  },
  {
   "cell_type": "code",
   "execution_count": 15,
   "metadata": {
    "jupyter": {
     "source_hidden": true
    }
   },
   "outputs": [
    {
     "name": "stdout",
     "output_type": "stream",
     "text": [
      "interval columns not set, guessing: ['class']\n"
     ]
    },
    {
     "data": {
      "image/png": "[encoded data removed]",
      "text/plain": [
       "<Figure size 720x720 with 2 Axes>"
      ]
     },
     "metadata": {
      "needs_background": "light"
     },
     "output_type": "display_data"
    }
   ],
   "source": [
    "import phik\n",
    "phik_matrix = categoricas.phik_matrix()\n",
    "\n",
    "plt.figure(figsize=(10,10))\n",
    "\n",
    "sns.heatmap(phik_matrix,\n",
    "            vmin=-1,\n",
    "            vmax=1,\n",
    "            center=0,\n",
    "            cmap=sns.diverging_palette(220, 20, as_cmap=True),\n",
    "            square=True,\n",
    "            annot=True,\n",
    "            linewidths=.5);\n"
   ]
  },
  {
   "cell_type": "code",
   "execution_count": 16,
   "metadata": {},
   "outputs": [
    {
     "data": {
      "text/plain": [
       "<AxesSubplot:xlabel='sex', ylabel='count'>"
      ]
     },
     "execution_count": 16,
     "metadata": {},
     "output_type": "execute_result"
    },
    {
     "data": {
      "image/png": "[encoded data removed]",
      "text/plain": [
       "<Figure size 432x288 with 1 Axes>"
      ]
     },
     "metadata": {
      "needs_background": "light"
     },
     "output_type": "display_data"
    }
   ],
   "source": [
    "sns.countplot(data = data, x = \"sex\")"
   ]
  },
  {
   "cell_type": "markdown",
   "metadata": {},
   "source": [
    "Me sorprende que la variable sexo no tenga correlación lineal con el target, esperaba que la tuviese. También me sorprende  baja correlación lineal de las variables jaundice y fam_history_PDD.\n",
    "No obstante, por ahora las mantengo. \n",
    "\n",
    "***Sí que elimino, por el contrario, la variable used_app_before***"
   ]
  },
  {
   "cell_type": "code",
   "execution_count": 17,
   "metadata": {},
   "outputs": [],
   "source": [
    "# Reducción preliminar de features sobre X_train:\n",
    "\n",
    "data.drop(columns = [\"used_app_before\"], inplace = True)    "
   ]
  },
  {
   "cell_type": "markdown",
   "metadata": {},
   "source": [
    "### 5. Análisis univariante"
   ]
  },
  {
   "cell_type": "markdown",
   "metadata": {},
   "source": [
    "**5.1 A1_score', 'A2_score', 'A3_score', 'A4_score', 'A5_score', 'A6_score','A7_score', 'A8_score', 'A9_score', 'A10_score'**\n",
    "\n",
    "Estas variables representan diez indicadores de comportamiento (behavioural features) definidos en el método de screening\n",
    "aplicado por los autores del dataset. Se basan en las respuestas dadas por las personas objeto del screening \n",
    "a un cuestionario de 10 preguntas.\n",
    "Se trata de variables categóricas cuyo valor puede ser 0 o 1 (tipo numérico).  "
   ]
  },
  {
   "cell_type": "code",
   "execution_count": 18,
   "metadata": {
    "jupyter": {
     "outputs_hidden": true,
     "source_hidden": true
    }
   },
   "outputs": [
    {
     "data": {
      "image/png": "[encoded data removed]",
      "text/plain": [
       "<Figure size 1440x360 with 10 Axes>"
      ]
     },
     "metadata": {
      "needs_background": "light"
     },
     "output_type": "display_data"
    }
   ],
   "source": [
    "#Analizamos su distribución \n",
    "\n",
    "fig, axes = plt.subplots(1, 10, figsize=(20, 5), sharey=True)\n",
    "plt.plot(color = \"viridis\")\n",
    "\n",
    "sns.countplot(data[\"A1_score\"], ax=axes[0], color = \"lightblue\")\n",
    "#axes[0].set_title(\"A1_score\")\n",
    "\n",
    "sns.countplot(data[\"A2_score\"], ax=axes[1],color = \"lightblue\")\n",
    "#axes[1].set_title(\"A2_score\")\n",
    "\n",
    "sns.countplot(data[\"A3_score\"], ax=axes[2],color = \"lightblue\")\n",
    "#axes[2].set_title(\"A3_score\")\n",
    "\n",
    "sns.countplot(data[\"A4_score\"], ax=axes[3],color = \"lightblue\")\n",
    "#axes[3].set_title(\"A4_score\")\n",
    "\n",
    "sns.countplot(data[\"A5_score\"], ax=axes[4],color = \"lightblue\")\n",
    "#axes[4].set_title(\"A5_score\")\n",
    "\n",
    "sns.countplot(data[\"A6_score\"], ax=axes[5],color = \"lightblue\")\n",
    "#axes[5].set_title(\"A6_score\")\n",
    "\n",
    "sns.countplot(data[\"A7_score\"], ax=axes[6],color = \"lightblue\")\n",
    "#axes[6].set_title(\"A7_score\")\n",
    "\n",
    "sns.countplot(data[\"A8_score\"], ax=axes[7],color = \"lightblue\");\n",
    "#axes[7].set_title(\"A8_score\")\n",
    "\n",
    "sns.countplot(data[\"A9_score\"], ax=axes[8],color = \"lightblue\");\n",
    "#axes[8].set_title(\"A9_score\")\n",
    "\n",
    "sns.countplot(data[\"A10_score\"], ax=axes[9],color = \"lightblue\");\n",
    "#axes[9].set_title(\"A10_score\");\n"
   ]
  },
  {
   "cell_type": "markdown",
   "metadata": {},
   "source": [
    "#### 5.2 Screening score\n",
    "\n",
    "Puntuación resultante del método de screening. Tiene un coeficiente de correlación de Pearson con el target de 0.834223  \n"
   ]
  },
  {
   "cell_type": "code",
   "execution_count": 19,
   "metadata": {
    "jupyter": {
     "source_hidden": true
    }
   },
   "outputs": [
    {
     "data": {
      "text/plain": [
       "<Figure size 720x360 with 0 Axes>"
      ]
     },
     "metadata": {},
     "output_type": "display_data"
    },
    {
     "data": {
      "image/png": "[encoded data removed]",
      "text/plain": [
       "<Figure size 360x360 with 1 Axes>"
      ]
     },
     "metadata": {
      "needs_background": "light"
     },
     "output_type": "display_data"
    }
   ],
   "source": [
    "#Distribución \n",
    "\n",
    "plt.figure(figsize=(10,5))\n",
    "\n",
    "sns.displot(data[\"screening_score\"], kde = False, color = \"lightblue\", bins=11);\n",
    "\n"
   ]
  },
  {
   "cell_type": "code",
   "execution_count": 20,
   "metadata": {
    "jupyter": {
     "outputs_hidden": true,
     "source_hidden": true
    }
   },
   "outputs": [
    {
     "data": {
      "text/plain": [
       "array([6, 5, 8, ..., 7, 9, 3], dtype=int64)"
      ]
     },
     "execution_count": 20,
     "metadata": {},
     "output_type": "execute_result"
    }
   ],
   "source": [
    "data[\"screening_score\"].values"
   ]
  },
  {
   "cell_type": "code",
   "execution_count": 21,
   "metadata": {
    "jupyter": {
     "outputs_hidden": true,
     "source_hidden": true
    }
   },
   "outputs": [
    {
     "data": {
      "text/plain": [
       "4     174\n",
       "3     136\n",
       "5     129\n",
       "6     126\n",
       "8     121\n",
       "7     118\n",
       "9      98\n",
       "2      85\n",
       "10     56\n",
       "1      42\n",
       "0      15\n",
       "Name: screening_score, dtype: int64"
      ]
     },
     "execution_count": 21,
     "metadata": {},
     "output_type": "execute_result"
    }
   ],
   "source": [
    "data[\"screening_score\"].value_counts()"
   ]
  },
  {
   "cell_type": "markdown",
   "metadata": {},
   "source": [
    "### 5.3 Sex, ethnicity, jaundice, fam_history_PDD, country_of_res, age_desc, relation"
   ]
  },
  {
   "cell_type": "markdown",
   "metadata": {},
   "source": [
    "Son variables categóricas, tendré que transformarlas para pasarlas a numéricas y poder usarlas en los modelos de machine learning.\n",
    "Arrojan una correlación lineal baja con el target. Sex, en particular, arroja un correlación lineal de cero con el target. La correlación lineal más alta corresponde a *country of residence* (0.49), pero puede explicarse por la mayor capacidad de detección y atención de unos países respecto de otros en relación con los TEA."
   ]
  },
  {
   "cell_type": "markdown",
   "metadata": {},
   "source": [
    "### 5.4 Age-number"
   ]
  },
  {
   "cell_type": "markdown",
   "metadata": {},
   "source": [
    "Es una variable numérica que no muestra correlación lineal con el target.\n",
    "Contiene un error, no tiene sentido un valor máximo de 383 años. \n",
    "Ordeno e imprimo los valores por pantalla y hago un boxplot para confirmar que no hay más errores en la variable."
   ]
  },
  {
   "cell_type": "code",
   "execution_count": 22,
   "metadata": {
    "jupyter": {
     "outputs_hidden": true,
     "source_hidden": true
    }
   },
   "outputs": [
    {
     "data": {
      "text/plain": [
       "52     383.0\n",
       "7       64.0\n",
       "495     61.0\n",
       "431     61.0\n",
       "203     60.0\n",
       "       ...  \n",
       "91       NaN\n",
       "840      NaN\n",
       "873      NaN\n",
       "934      NaN\n",
       "946      NaN\n",
       "Name: age_num, Length: 1100, dtype: float64"
      ]
     },
     "execution_count": 22,
     "metadata": {},
     "output_type": "execute_result"
    }
   ],
   "source": [
    "data[\"age_num\"].sort_values(ascending = False)"
   ]
  },
  {
   "cell_type": "code",
   "execution_count": 23,
   "metadata": {
    "jupyter": {
     "source_hidden": true
    }
   },
   "outputs": [
    {
     "data": {
      "text/plain": [
       "<AxesSubplot:xlabel='age_num'>"
      ]
     },
     "execution_count": 23,
     "metadata": {},
     "output_type": "execute_result"
    },
    {
     "data": {
      "image/png": "[encoded data removed]",
      "text/plain": [
       "<Figure size 432x288 with 1 Axes>"
      ]
     },
     "metadata": {
      "needs_background": "light"
     },
     "output_type": "display_data"
    }
   ],
   "source": [
    "sns.boxplot(x='age_num', data=data)\n",
    "\n",
    "#Viendo esta información parece que la variable solo contiene un error."
   ]
  },
  {
   "cell_type": "markdown",
   "metadata": {},
   "source": [
    "## II Preprocessing \n",
    "\n",
    "### 1.Limpieza de X_train\n",
    "\n",
    "La primera medida, que ya se ha realizado con anterioridad, ha sido la eliminación de la variable \"used_app_before\", con correlación lineal de 0 con el target."
   ]
  },
  {
   "cell_type": "code",
   "execution_count": 24,
   "metadata": {},
   "outputs": [
    {
     "name": "stdout",
     "output_type": "stream",
     "text": [
      "(1100, 20)\n"
     ]
    }
   ],
   "source": [
    "print(data.shape)"
   ]
  },
  {
   "cell_type": "code",
   "execution_count": 25,
   "metadata": {},
   "outputs": [
    {
     "data": {
      "text/plain": [
       "False    1094\n",
       "True        6\n",
       "Name: age_num, dtype: int64"
      ]
     },
     "execution_count": 25,
     "metadata": {},
     "output_type": "execute_result"
    }
   ],
   "source": [
    "data['age_num'].isna().value_counts()"
   ]
  },
  {
   "cell_type": "markdown",
   "metadata": {},
   "source": [
    "### 1.1 Errores"
   ]
  },
  {
   "cell_type": "markdown",
   "metadata": {},
   "source": [
    "La variable age_num contiene un error, una valor de 383 años. Se sustituye por la media de su categoría de edad "
   ]
  },
  {
   "cell_type": "code",
   "execution_count": 26,
   "metadata": {},
   "outputs": [
    {
     "data": {
      "text/plain": [
       "age_desc\n",
       "'12-15 years'    15.000000\n",
       "'12-16 years'    14.072165\n",
       "'18 and more'    29.698006\n",
       "'4-11 years'      6.354167\n",
       "Name: age_num, dtype: float64"
      ]
     },
     "execution_count": 26,
     "metadata": {},
     "output_type": "execute_result"
    }
   ],
   "source": [
    "data.groupby(\"age_desc\")[\"age_num\"].mean()"
   ]
  },
  {
   "cell_type": "code",
   "execution_count": 27,
   "metadata": {},
   "outputs": [],
   "source": [
    "#Sustituimos el error por la media de edad en su rango (ya pasada a entero), que es \"18 and more\"\n",
    "data[\"age_num\"].groupby\n",
    "\n",
    "data[\"age_num\"].isin([383])\n",
    "\n",
    "data[\"age_num\"] = data[\"age_num\"].replace(383.0,29)"
   ]
  },
  {
   "cell_type": "code",
   "execution_count": 28,
   "metadata": {},
   "outputs": [
    {
     "data": {
      "text/plain": [
       "64.0"
      ]
     },
     "execution_count": 28,
     "metadata": {},
     "output_type": "execute_result"
    }
   ],
   "source": [
    "#compruebo que el error ha desaparecido\n",
    "data[\"age_num\"].max()"
   ]
  },
  {
   "cell_type": "code",
   "execution_count": 29,
   "metadata": {},
   "outputs": [
    {
     "data": {
      "text/plain": [
       "False    1094\n",
       "True        6\n",
       "Name: age_num, dtype: int64"
      ]
     },
     "execution_count": 29,
     "metadata": {},
     "output_type": "execute_result"
    }
   ],
   "source": [
    "data['age_num'].isna().value_counts()"
   ]
  },
  {
   "cell_type": "markdown",
   "metadata": {},
   "source": [
    "### 1.2 Missings \n",
    "Las variables \"ethnicity\", \"age_num\" y \"relation\" contienen missings. Sacamos el porcentaje de missings para tomar decisiones."
   ]
  },
  {
   "cell_type": "code",
   "execution_count": 30,
   "metadata": {},
   "outputs": [
    {
     "data": {
      "text/html": [
       "<div>\n",
       "<style scoped>\n",
       "    .dataframe tbody tr th:only-of-type {\n",
       "        vertical-align: middle;\n",
       "    }\n",
       "\n",
       "    .dataframe tbody tr th {\n",
       "        vertical-align: top;\n",
       "    }\n",
       "\n",
       "    .dataframe thead th {\n",
       "        text-align: right;\n",
       "    }\n",
       "</style>\n",
       "<table border=\"1\" class=\"dataframe\">\n",
       "  <thead>\n",
       "    <tr style=\"text-align: right;\">\n",
       "      <th>COL_N</th>\n",
       "      <th>A10_score</th>\n",
       "      <th>screening_score</th>\n",
       "      <th>sex</th>\n",
       "      <th>ethnicity</th>\n",
       "      <th>jaundice</th>\n",
       "      <th>fam_history_PDD</th>\n",
       "      <th>country_of_res</th>\n",
       "      <th>age_num</th>\n",
       "      <th>age_desc</th>\n",
       "      <th>relation</th>\n",
       "      <th>class</th>\n",
       "    </tr>\n",
       "  </thead>\n",
       "  <tbody>\n",
       "    <tr>\n",
       "      <th>DATA_TYPE</th>\n",
       "      <td>int64</td>\n",
       "      <td>int64</td>\n",
       "      <td>object</td>\n",
       "      <td>object</td>\n",
       "      <td>object</td>\n",
       "      <td>object</td>\n",
       "      <td>object</td>\n",
       "      <td>float64</td>\n",
       "      <td>object</td>\n",
       "      <td>object</td>\n",
       "      <td>int64</td>\n",
       "    </tr>\n",
       "    <tr>\n",
       "      <th>MISSINGS (%)</th>\n",
       "      <td>0</td>\n",
       "      <td>0</td>\n",
       "      <td>0</td>\n",
       "      <td>13.09</td>\n",
       "      <td>0</td>\n",
       "      <td>0</td>\n",
       "      <td>0</td>\n",
       "      <td>0.55</td>\n",
       "      <td>0</td>\n",
       "      <td>13.09</td>\n",
       "      <td>0</td>\n",
       "    </tr>\n",
       "    <tr>\n",
       "      <th>UNIQUE_VALUES</th>\n",
       "      <td>2</td>\n",
       "      <td>11</td>\n",
       "      <td>2</td>\n",
       "      <td>11</td>\n",
       "      <td>2</td>\n",
       "      <td>2</td>\n",
       "      <td>89</td>\n",
       "      <td>58</td>\n",
       "      <td>4</td>\n",
       "      <td>6</td>\n",
       "      <td>2</td>\n",
       "    </tr>\n",
       "    <tr>\n",
       "      <th>CARDIN (%)</th>\n",
       "      <td>0.18</td>\n",
       "      <td>1</td>\n",
       "      <td>0.18</td>\n",
       "      <td>1</td>\n",
       "      <td>0.18</td>\n",
       "      <td>0.18</td>\n",
       "      <td>8.09</td>\n",
       "      <td>5.27</td>\n",
       "      <td>0.36</td>\n",
       "      <td>0.55</td>\n",
       "      <td>0.18</td>\n",
       "    </tr>\n",
       "  </tbody>\n",
       "</table>\n",
       "</div>"
      ],
      "text/plain": [
       "COL_N         A10_score screening_score     sex ethnicity jaundice  \\\n",
       "DATA_TYPE         int64           int64  object    object   object   \n",
       "MISSINGS (%)          0               0       0     13.09        0   \n",
       "UNIQUE_VALUES         2              11       2        11        2   \n",
       "CARDIN (%)         0.18               1    0.18         1     0.18   \n",
       "\n",
       "COL_N         fam_history_PDD country_of_res  age_num age_desc relation  class  \n",
       "DATA_TYPE              object         object  float64   object   object  int64  \n",
       "MISSINGS (%)                0              0     0.55        0    13.09      0  \n",
       "UNIQUE_VALUES               2             89       58        4        6      2  \n",
       "CARDIN (%)               0.18           8.09     5.27     0.36     0.55   0.18  "
      ]
     },
     "execution_count": 30,
     "metadata": {},
     "output_type": "execute_result"
    }
   ],
   "source": [
    "data_report(data.iloc[:,-11:])"
   ]
  },
  {
   "cell_type": "code",
   "execution_count": null,
   "metadata": {
    "jupyter": {
     "source_hidden": true
    }
   },
   "outputs": [],
   "source": [
    "#Tenemos un 13.18% de missings en etnicity y relation, y sólo un 0,5% en age_num (3 valores)\n",
    "\n",
    "#Respecto de age_num, no puedo hacer un knn porque no tengo ninguna colunma numérica y aplicar un label encoder, pero asigna un orden a los datos y puede dar problemas \n",
    "#al aplicar los modelos de ml. Son sólo tres valores, lo mejor es cargárme las filas con missings en age_num.\n",
    "\n",
    "#en cuanto a las variables categóricas, en este la mejor opción es sustituirlas por la moda, es decir, por el valor más frecuente, que sí se admite en categóricas. \n",
    "#Es la solución que más se aplica en el caso de columnas categóricas. Si tuviera otras columnas numéricas podría usar un knn para precedir esos missings.\n"
   ]
  },
  {
   "cell_type": "code",
   "execution_count": 31,
   "metadata": {
    "jupyter": {
     "outputs_hidden": true,
     "source_hidden": true
    }
   },
   "outputs": [
    {
     "name": "stdout",
     "output_type": "stream",
     "text": [
      "['White-European' 'Latino' nan 'Others' 'Black' 'Asian'\n",
      " \"'Middle Eastern '\" 'Pasifika' \"'South Asian'\" 'Hispanic' 'Turkish'\n",
      " 'others']\n",
      "0    White-European\n",
      "dtype: object\n"
     ]
    }
   ],
   "source": [
    "print(data[\"ethnicity\"].unique())\n",
    "\n",
    "print(data[\"ethnicity\"].mode())"
   ]
  },
  {
   "cell_type": "code",
   "execution_count": 32,
   "metadata": {
    "jupyter": {
     "outputs_hidden": true,
     "source_hidden": true
    }
   },
   "outputs": [
    {
     "name": "stdout",
     "output_type": "stream",
     "text": [
      "['Self' 'Parent' nan \"'Health care professional'\" 'Relative' 'Others']\n",
      "0    Self\n",
      "dtype: object\n"
     ]
    }
   ],
   "source": [
    "#ojo que en \"relation\" tenemos además un problema con la inicial de self (unos están con mayúscula y otros con minúscula),\n",
    "#lo corrijo lo primero. \n",
    "data[\"relation\"] = data[\"relation\"].replace(\"self\",\"Self\")\n",
    "print(data[\"relation\"].unique())\n",
    "print(data[\"relation\"].mode())\n"
   ]
  },
  {
   "cell_type": "code",
   "execution_count": 33,
   "metadata": {
    "jupyter": {
     "outputs_hidden": true
    }
   },
   "outputs": [
    {
     "data": {
      "text/plain": [
       "False    1094\n",
       "True        6\n",
       "Name: age_num, dtype: int64"
      ]
     },
     "execution_count": 33,
     "metadata": {},
     "output_type": "execute_result"
    }
   ],
   "source": [
    "data['age_num'].isna().value_counts()"
   ]
  },
  {
   "cell_type": "code",
   "execution_count": 34,
   "metadata": {},
   "outputs": [],
   "source": [
    "#ELIMINO LAS INSTANCIAS CON Nan en AGE NUM\n",
    "\n",
    "data = data.dropna(subset = [\"age_num\"])"
   ]
  },
  {
   "cell_type": "code",
   "execution_count": 35,
   "metadata": {},
   "outputs": [],
   "source": [
    "#fuerzo el tipo de age_num a int:\n",
    "data[\"age_num\"] = data[\"age_num\"].astype(int)"
   ]
  },
  {
   "cell_type": "code",
   "execution_count": 36,
   "metadata": {
    "jupyter": {
     "outputs_hidden": true
    }
   },
   "outputs": [
    {
     "data": {
      "text/html": [
       "<div>\n",
       "<style scoped>\n",
       "    .dataframe tbody tr th:only-of-type {\n",
       "        vertical-align: middle;\n",
       "    }\n",
       "\n",
       "    .dataframe tbody tr th {\n",
       "        vertical-align: top;\n",
       "    }\n",
       "\n",
       "    .dataframe thead th {\n",
       "        text-align: right;\n",
       "    }\n",
       "</style>\n",
       "<table border=\"1\" class=\"dataframe\">\n",
       "  <thead>\n",
       "    <tr style=\"text-align: right;\">\n",
       "      <th>COL_N</th>\n",
       "      <th>A10_score</th>\n",
       "      <th>screening_score</th>\n",
       "      <th>sex</th>\n",
       "      <th>ethnicity</th>\n",
       "      <th>jaundice</th>\n",
       "      <th>fam_history_PDD</th>\n",
       "      <th>country_of_res</th>\n",
       "      <th>age_num</th>\n",
       "      <th>age_desc</th>\n",
       "      <th>relation</th>\n",
       "      <th>class</th>\n",
       "    </tr>\n",
       "  </thead>\n",
       "  <tbody>\n",
       "    <tr>\n",
       "      <th>DATA_TYPE</th>\n",
       "      <td>int64</td>\n",
       "      <td>int64</td>\n",
       "      <td>object</td>\n",
       "      <td>object</td>\n",
       "      <td>object</td>\n",
       "      <td>object</td>\n",
       "      <td>object</td>\n",
       "      <td>int32</td>\n",
       "      <td>object</td>\n",
       "      <td>object</td>\n",
       "      <td>int64</td>\n",
       "    </tr>\n",
       "    <tr>\n",
       "      <th>MISSINGS (%)</th>\n",
       "      <td>0</td>\n",
       "      <td>0</td>\n",
       "      <td>0</td>\n",
       "      <td>12.71</td>\n",
       "      <td>0</td>\n",
       "      <td>0</td>\n",
       "      <td>0</td>\n",
       "      <td>0</td>\n",
       "      <td>0</td>\n",
       "      <td>12.71</td>\n",
       "      <td>0</td>\n",
       "    </tr>\n",
       "    <tr>\n",
       "      <th>UNIQUE_VALUES</th>\n",
       "      <td>2</td>\n",
       "      <td>11</td>\n",
       "      <td>2</td>\n",
       "      <td>11</td>\n",
       "      <td>2</td>\n",
       "      <td>2</td>\n",
       "      <td>89</td>\n",
       "      <td>58</td>\n",
       "      <td>4</td>\n",
       "      <td>5</td>\n",
       "      <td>2</td>\n",
       "    </tr>\n",
       "    <tr>\n",
       "      <th>CARDIN (%)</th>\n",
       "      <td>0.18</td>\n",
       "      <td>1.01</td>\n",
       "      <td>0.18</td>\n",
       "      <td>1.01</td>\n",
       "      <td>0.18</td>\n",
       "      <td>0.18</td>\n",
       "      <td>8.14</td>\n",
       "      <td>5.3</td>\n",
       "      <td>0.37</td>\n",
       "      <td>0.46</td>\n",
       "      <td>0.18</td>\n",
       "    </tr>\n",
       "  </tbody>\n",
       "</table>\n",
       "</div>"
      ],
      "text/plain": [
       "COL_N         A10_score screening_score     sex ethnicity jaundice  \\\n",
       "DATA_TYPE         int64           int64  object    object   object   \n",
       "MISSINGS (%)          0               0       0     12.71        0   \n",
       "UNIQUE_VALUES         2              11       2        11        2   \n",
       "CARDIN (%)         0.18            1.01    0.18      1.01     0.18   \n",
       "\n",
       "COL_N         fam_history_PDD country_of_res age_num age_desc relation  class  \n",
       "DATA_TYPE              object         object   int32   object   object  int64  \n",
       "MISSINGS (%)                0              0       0        0    12.71      0  \n",
       "UNIQUE_VALUES               2             89      58        4        5      2  \n",
       "CARDIN (%)               0.18           8.14     5.3     0.37     0.46   0.18  "
      ]
     },
     "execution_count": 36,
     "metadata": {},
     "output_type": "execute_result"
    }
   ],
   "source": [
    "data_report(data.iloc[:,-11:])"
   ]
  },
  {
   "cell_type": "code",
   "execution_count": 37,
   "metadata": {},
   "outputs": [
    {
     "data": {
      "text/plain": [
       "(1094, 20)"
      ]
     },
     "execution_count": 37,
     "metadata": {},
     "output_type": "execute_result"
    }
   ],
   "source": [
    "data.shape"
   ]
  },
  {
   "cell_type": "code",
   "execution_count": 38,
   "metadata": {},
   "outputs": [],
   "source": [
    "#reemplazo los missing de ethnicity por la moda, que es White-European.\n",
    "data[\"ethnicity\"] = data[\"ethnicity\"].replace([None],\"White-European\")"
   ]
  },
  {
   "cell_type": "code",
   "execution_count": 39,
   "metadata": {},
   "outputs": [],
   "source": [
    "#reemplazo los missing de relation por la moda, que es Self.\n",
    "data[\"relation\"] = data[\"relation\"].replace([None],\"Self\")\n",
    "#[podría haber hecho esto directamente con un fillna sobre la columna en cuestión .moda]"
   ]
  },
  {
   "cell_type": "code",
   "execution_count": 40,
   "metadata": {},
   "outputs": [
    {
     "data": {
      "text/html": [
       "<div>\n",
       "<style scoped>\n",
       "    .dataframe tbody tr th:only-of-type {\n",
       "        vertical-align: middle;\n",
       "    }\n",
       "\n",
       "    .dataframe tbody tr th {\n",
       "        vertical-align: top;\n",
       "    }\n",
       "\n",
       "    .dataframe thead th {\n",
       "        text-align: right;\n",
       "    }\n",
       "</style>\n",
       "<table border=\"1\" class=\"dataframe\">\n",
       "  <thead>\n",
       "    <tr style=\"text-align: right;\">\n",
       "      <th>COL_N</th>\n",
       "      <th>A1_score</th>\n",
       "      <th>A2_score</th>\n",
       "      <th>A3_score</th>\n",
       "      <th>A4_score</th>\n",
       "      <th>A5_score</th>\n",
       "      <th>A6_score</th>\n",
       "      <th>A7_score</th>\n",
       "      <th>A8_score</th>\n",
       "      <th>A9_score</th>\n",
       "      <th>A10_score</th>\n",
       "      <th>screening_score</th>\n",
       "      <th>sex</th>\n",
       "      <th>ethnicity</th>\n",
       "      <th>jaundice</th>\n",
       "      <th>fam_history_PDD</th>\n",
       "      <th>country_of_res</th>\n",
       "      <th>age_num</th>\n",
       "      <th>age_desc</th>\n",
       "      <th>relation</th>\n",
       "      <th>class</th>\n",
       "    </tr>\n",
       "  </thead>\n",
       "  <tbody>\n",
       "    <tr>\n",
       "      <th>DATA_TYPE</th>\n",
       "      <td>int64</td>\n",
       "      <td>int64</td>\n",
       "      <td>int64</td>\n",
       "      <td>int64</td>\n",
       "      <td>int64</td>\n",
       "      <td>int64</td>\n",
       "      <td>int64</td>\n",
       "      <td>int64</td>\n",
       "      <td>int64</td>\n",
       "      <td>int64</td>\n",
       "      <td>int64</td>\n",
       "      <td>object</td>\n",
       "      <td>object</td>\n",
       "      <td>object</td>\n",
       "      <td>object</td>\n",
       "      <td>object</td>\n",
       "      <td>int32</td>\n",
       "      <td>object</td>\n",
       "      <td>object</td>\n",
       "      <td>int64</td>\n",
       "    </tr>\n",
       "    <tr>\n",
       "      <th>MISSINGS (%)</th>\n",
       "      <td>0</td>\n",
       "      <td>0</td>\n",
       "      <td>0</td>\n",
       "      <td>0</td>\n",
       "      <td>0</td>\n",
       "      <td>0</td>\n",
       "      <td>0</td>\n",
       "      <td>0</td>\n",
       "      <td>0</td>\n",
       "      <td>0</td>\n",
       "      <td>0</td>\n",
       "      <td>0</td>\n",
       "      <td>0</td>\n",
       "      <td>0</td>\n",
       "      <td>0</td>\n",
       "      <td>0</td>\n",
       "      <td>0</td>\n",
       "      <td>0</td>\n",
       "      <td>0</td>\n",
       "      <td>0</td>\n",
       "    </tr>\n",
       "    <tr>\n",
       "      <th>UNIQUE_VALUES</th>\n",
       "      <td>2</td>\n",
       "      <td>2</td>\n",
       "      <td>2</td>\n",
       "      <td>2</td>\n",
       "      <td>2</td>\n",
       "      <td>2</td>\n",
       "      <td>2</td>\n",
       "      <td>2</td>\n",
       "      <td>2</td>\n",
       "      <td>2</td>\n",
       "      <td>11</td>\n",
       "      <td>2</td>\n",
       "      <td>11</td>\n",
       "      <td>2</td>\n",
       "      <td>2</td>\n",
       "      <td>89</td>\n",
       "      <td>58</td>\n",
       "      <td>4</td>\n",
       "      <td>5</td>\n",
       "      <td>2</td>\n",
       "    </tr>\n",
       "    <tr>\n",
       "      <th>CARDIN (%)</th>\n",
       "      <td>0.18</td>\n",
       "      <td>0.18</td>\n",
       "      <td>0.18</td>\n",
       "      <td>0.18</td>\n",
       "      <td>0.18</td>\n",
       "      <td>0.18</td>\n",
       "      <td>0.18</td>\n",
       "      <td>0.18</td>\n",
       "      <td>0.18</td>\n",
       "      <td>0.18</td>\n",
       "      <td>1.01</td>\n",
       "      <td>0.18</td>\n",
       "      <td>1.01</td>\n",
       "      <td>0.18</td>\n",
       "      <td>0.18</td>\n",
       "      <td>8.14</td>\n",
       "      <td>5.3</td>\n",
       "      <td>0.37</td>\n",
       "      <td>0.46</td>\n",
       "      <td>0.18</td>\n",
       "    </tr>\n",
       "  </tbody>\n",
       "</table>\n",
       "</div>"
      ],
      "text/plain": [
       "COL_N         A1_score A2_score A3_score A4_score A5_score A6_score A7_score  \\\n",
       "DATA_TYPE        int64    int64    int64    int64    int64    int64    int64   \n",
       "MISSINGS (%)         0        0        0        0        0        0        0   \n",
       "UNIQUE_VALUES        2        2        2        2        2        2        2   \n",
       "CARDIN (%)        0.18     0.18     0.18     0.18     0.18     0.18     0.18   \n",
       "\n",
       "COL_N         A8_score A9_score A10_score screening_score     sex ethnicity  \\\n",
       "DATA_TYPE        int64    int64     int64           int64  object    object   \n",
       "MISSINGS (%)         0        0         0               0       0         0   \n",
       "UNIQUE_VALUES        2        2         2              11       2        11   \n",
       "CARDIN (%)        0.18     0.18      0.18            1.01    0.18      1.01   \n",
       "\n",
       "COL_N         jaundice fam_history_PDD country_of_res age_num age_desc  \\\n",
       "DATA_TYPE       object          object         object   int32   object   \n",
       "MISSINGS (%)         0               0              0       0        0   \n",
       "UNIQUE_VALUES        2               2             89      58        4   \n",
       "CARDIN (%)        0.18            0.18           8.14     5.3     0.37   \n",
       "\n",
       "COL_N         relation  class  \n",
       "DATA_TYPE       object  int64  \n",
       "MISSINGS (%)         0      0  \n",
       "UNIQUE_VALUES        5      2  \n",
       "CARDIN (%)        0.46   0.18  "
      ]
     },
     "execution_count": 40,
     "metadata": {},
     "output_type": "execute_result"
    }
   ],
   "source": [
    "#Verifico que ya no tengo missings:\n",
    "data_report(data)"
   ]
  },
  {
   "cell_type": "markdown",
   "metadata": {},
   "source": [
    "## III. Dividimos el dataset en train y test\n",
    "\n",
    "\n",
    "\n",
    "\n",
    "\n"
   ]
  },
  {
   "cell_type": "code",
   "execution_count": 192,
   "metadata": {},
   "outputs": [],
   "source": [
    "from sklearn.model_selection import train_test_split\n",
    "\n",
    "X_train, X_test, y_train, y_test = train_test_split(data.drop(\"class\", axis=1),\n",
    "                                                    data[\"class\"],\n",
    "                                                    test_size=0.2,\n",
    "                                                    random_state=42)"
   ]
  },
  {
   "cell_type": "code",
   "execution_count": 132,
   "metadata": {},
   "outputs": [
    {
     "name": "stdout",
     "output_type": "stream",
     "text": [
      "(875, 19)\n",
      "(219, 19)\n",
      "(875,)\n",
      "(219,)\n"
     ]
    }
   ],
   "source": [
    "#display(X_train,X_test, y_train, y_test)\n",
    "print(X_train.shape)\n",
    "print(X_test.shape)\n",
    "print(y_train.shape)\n",
    "print(y_test.shape)\n"
   ]
  },
  {
   "cell_type": "markdown",
   "metadata": {},
   "source": [
    "## IV Transformaciones \n",
    "\n",
    "### X_train"
   ]
  },
  {
   "cell_type": "markdown",
   "metadata": {},
   "source": [
    "En primer lugar, el dataset de train tiene siete columnas categóricas. Tres de ellas son binarias y las otras cuatro presentan 4 o más categorias diferentes de valores.\n",
    "\n",
    "Respecto de las columnas categóricas binarias, asigno categorías numéricas 0/1 a los valores m/f y no/yes.\n"
   ]
  },
  {
   "cell_type": "markdown",
   "metadata": {},
   "source": [
    "#### 2.1 Encodings\n",
    "\n",
    "##### 2.1.1 Conversión de columnas categóricas binarias en columnas numéricas.\n",
    "\n",
    "Respecto de las columnas categóricas binarias, asigno los valores numéricos 0/1 a las categorías m/f y no/yes."
   ]
  },
  {
   "cell_type": "code",
   "execution_count": null,
   "metadata": {
    "jupyter": {
     "outputs_hidden": true
    }
   },
   "outputs": [],
   "source": [
    "X_train[\"jaundice\"]"
   ]
  },
  {
   "cell_type": "code",
   "execution_count": null,
   "metadata": {
    "jupyter": {
     "outputs_hidden": true
    }
   },
   "outputs": [],
   "source": [
    "X_train[\"fam_history_PDD\"]"
   ]
  },
  {
   "cell_type": "code",
   "execution_count": null,
   "metadata": {
    "jupyter": {
     "outputs_hidden": true
    }
   },
   "outputs": [],
   "source": [
    "X_train[\"sex\"]"
   ]
  },
  {
   "cell_type": "code",
   "execution_count": 193,
   "metadata": {
    "jupyter": {
     "outputs_hidden": true
    }
   },
   "outputs": [
    {
     "data": {
      "text/plain": [
       "6       0\n",
       "791     1\n",
       "1055    0\n",
       "839     1\n",
       "663     0\n",
       "       ..\n",
       "332     0\n",
       "468     0\n",
       "123     1\n",
       "1050    1\n",
       "863     0\n",
       "Name: jaundice, Length: 875, dtype: int64"
      ]
     },
     "execution_count": 193,
     "metadata": {},
     "output_type": "execute_result"
    }
   ],
   "source": [
    "#Respecto de las columnas categóricas binarias, utilizo un apply para asignar categorías numéricas 0/1 a los valores m/f y no/yes\n",
    "\n",
    "def mapping(x):\n",
    "    if x == \"yes\":\n",
    "        return 1\n",
    "    elif x == \"no\":\n",
    "        return 0\n",
    "\n",
    "X_train[\"jaundice\"] = X_train[\"jaundice\"].apply(mapping)\n",
    "X_train[\"jaundice\"]"
   ]
  },
  {
   "cell_type": "code",
   "execution_count": 194,
   "metadata": {
    "jupyter": {
     "outputs_hidden": true
    }
   },
   "outputs": [
    {
     "data": {
      "text/plain": [
       "6       0\n",
       "791     0\n",
       "1055    1\n",
       "839     0\n",
       "663     0\n",
       "       ..\n",
       "332     0\n",
       "468     0\n",
       "123     0\n",
       "1050    0\n",
       "863     0\n",
       "Name: fam_history_PDD, Length: 875, dtype: int64"
      ]
     },
     "execution_count": 194,
     "metadata": {},
     "output_type": "execute_result"
    }
   ],
   "source": [
    "X_train[\"fam_history_PDD\"] = X_train[\"fam_history_PDD\"].apply(mapping)\n",
    "X_train[\"fam_history_PDD\"]"
   ]
  },
  {
   "cell_type": "code",
   "execution_count": 195,
   "metadata": {
    "jupyter": {
     "outputs_hidden": true
    }
   },
   "outputs": [
    {
     "data": {
      "text/plain": [
       "6       1\n",
       "791     1\n",
       "1055    0\n",
       "839     0\n",
       "663     0\n",
       "       ..\n",
       "332     0\n",
       "468     1\n",
       "123     0\n",
       "1050    0\n",
       "863     0\n",
       "Name: sex, Length: 875, dtype: int64"
      ]
     },
     "execution_count": 195,
     "metadata": {},
     "output_type": "execute_result"
    }
   ],
   "source": [
    "def mapping_2(x):\n",
    "    if x == \"f\":\n",
    "        return 1\n",
    "    elif x == \"m\":\n",
    "        return 0\n",
    "\n",
    "X_train[\"sex\"] = X_train[\"sex\"].apply(mapping_2)\n",
    "X_train[\"sex\"]"
   ]
  },
  {
   "cell_type": "markdown",
   "metadata": {},
   "source": [
    "##### 2.1.2 Conversión de columnas categóricas de 3 o más clases en columnas numéricas."
   ]
  },
  {
   "cell_type": "code",
   "execution_count": 196,
   "metadata": {
    "jupyter": {
     "outputs_hidden": true
    }
   },
   "outputs": [
    {
     "data": {
      "text/html": [
       "<div>\n",
       "<style scoped>\n",
       "    .dataframe tbody tr th:only-of-type {\n",
       "        vertical-align: middle;\n",
       "    }\n",
       "\n",
       "    .dataframe tbody tr th {\n",
       "        vertical-align: top;\n",
       "    }\n",
       "\n",
       "    .dataframe thead th {\n",
       "        text-align: right;\n",
       "    }\n",
       "</style>\n",
       "<table border=\"1\" class=\"dataframe\">\n",
       "  <thead>\n",
       "    <tr style=\"text-align: right;\">\n",
       "      <th></th>\n",
       "      <th>ethnicity_'Middle Eastern '</th>\n",
       "      <th>ethnicity_'South Asian'</th>\n",
       "      <th>ethnicity_Asian</th>\n",
       "      <th>ethnicity_Black</th>\n",
       "      <th>ethnicity_Hispanic</th>\n",
       "      <th>ethnicity_Latino</th>\n",
       "      <th>ethnicity_Others</th>\n",
       "      <th>ethnicity_Pasifika</th>\n",
       "      <th>ethnicity_Turkish</th>\n",
       "      <th>ethnicity_White-European</th>\n",
       "      <th>ethnicity_others</th>\n",
       "      <th>age_desc_'12-15 years'</th>\n",
       "      <th>age_desc_'12-16 years'</th>\n",
       "      <th>age_desc_'18 and more'</th>\n",
       "      <th>age_desc_'4-11 years'</th>\n",
       "      <th>relation_'Health care professional'</th>\n",
       "      <th>relation_Others</th>\n",
       "      <th>relation_Parent</th>\n",
       "      <th>relation_Relative</th>\n",
       "      <th>relation_Self</th>\n",
       "    </tr>\n",
       "  </thead>\n",
       "  <tbody>\n",
       "    <tr>\n",
       "      <th>6</th>\n",
       "      <td>0</td>\n",
       "      <td>0</td>\n",
       "      <td>0</td>\n",
       "      <td>1</td>\n",
       "      <td>0</td>\n",
       "      <td>0</td>\n",
       "      <td>0</td>\n",
       "      <td>0</td>\n",
       "      <td>0</td>\n",
       "      <td>0</td>\n",
       "      <td>0</td>\n",
       "      <td>0</td>\n",
       "      <td>0</td>\n",
       "      <td>1</td>\n",
       "      <td>0</td>\n",
       "      <td>0</td>\n",
       "      <td>0</td>\n",
       "      <td>0</td>\n",
       "      <td>0</td>\n",
       "      <td>1</td>\n",
       "    </tr>\n",
       "    <tr>\n",
       "      <th>791</th>\n",
       "      <td>0</td>\n",
       "      <td>0</td>\n",
       "      <td>0</td>\n",
       "      <td>0</td>\n",
       "      <td>0</td>\n",
       "      <td>0</td>\n",
       "      <td>0</td>\n",
       "      <td>0</td>\n",
       "      <td>0</td>\n",
       "      <td>1</td>\n",
       "      <td>0</td>\n",
       "      <td>0</td>\n",
       "      <td>1</td>\n",
       "      <td>0</td>\n",
       "      <td>0</td>\n",
       "      <td>0</td>\n",
       "      <td>0</td>\n",
       "      <td>0</td>\n",
       "      <td>0</td>\n",
       "      <td>1</td>\n",
       "    </tr>\n",
       "    <tr>\n",
       "      <th>1055</th>\n",
       "      <td>1</td>\n",
       "      <td>0</td>\n",
       "      <td>0</td>\n",
       "      <td>0</td>\n",
       "      <td>0</td>\n",
       "      <td>0</td>\n",
       "      <td>0</td>\n",
       "      <td>0</td>\n",
       "      <td>0</td>\n",
       "      <td>0</td>\n",
       "      <td>0</td>\n",
       "      <td>0</td>\n",
       "      <td>0</td>\n",
       "      <td>0</td>\n",
       "      <td>1</td>\n",
       "      <td>0</td>\n",
       "      <td>0</td>\n",
       "      <td>1</td>\n",
       "      <td>0</td>\n",
       "      <td>0</td>\n",
       "    </tr>\n",
       "    <tr>\n",
       "      <th>839</th>\n",
       "      <td>0</td>\n",
       "      <td>0</td>\n",
       "      <td>0</td>\n",
       "      <td>0</td>\n",
       "      <td>0</td>\n",
       "      <td>0</td>\n",
       "      <td>0</td>\n",
       "      <td>1</td>\n",
       "      <td>0</td>\n",
       "      <td>0</td>\n",
       "      <td>0</td>\n",
       "      <td>0</td>\n",
       "      <td>0</td>\n",
       "      <td>0</td>\n",
       "      <td>1</td>\n",
       "      <td>0</td>\n",
       "      <td>0</td>\n",
       "      <td>1</td>\n",
       "      <td>0</td>\n",
       "      <td>0</td>\n",
       "    </tr>\n",
       "    <tr>\n",
       "      <th>663</th>\n",
       "      <td>0</td>\n",
       "      <td>0</td>\n",
       "      <td>0</td>\n",
       "      <td>0</td>\n",
       "      <td>0</td>\n",
       "      <td>0</td>\n",
       "      <td>0</td>\n",
       "      <td>0</td>\n",
       "      <td>0</td>\n",
       "      <td>1</td>\n",
       "      <td>0</td>\n",
       "      <td>0</td>\n",
       "      <td>0</td>\n",
       "      <td>1</td>\n",
       "      <td>0</td>\n",
       "      <td>0</td>\n",
       "      <td>0</td>\n",
       "      <td>0</td>\n",
       "      <td>0</td>\n",
       "      <td>1</td>\n",
       "    </tr>\n",
       "    <tr>\n",
       "      <th>...</th>\n",
       "      <td>...</td>\n",
       "      <td>...</td>\n",
       "      <td>...</td>\n",
       "      <td>...</td>\n",
       "      <td>...</td>\n",
       "      <td>...</td>\n",
       "      <td>...</td>\n",
       "      <td>...</td>\n",
       "      <td>...</td>\n",
       "      <td>...</td>\n",
       "      <td>...</td>\n",
       "      <td>...</td>\n",
       "      <td>...</td>\n",
       "      <td>...</td>\n",
       "      <td>...</td>\n",
       "      <td>...</td>\n",
       "      <td>...</td>\n",
       "      <td>...</td>\n",
       "      <td>...</td>\n",
       "      <td>...</td>\n",
       "    </tr>\n",
       "    <tr>\n",
       "      <th>332</th>\n",
       "      <td>0</td>\n",
       "      <td>0</td>\n",
       "      <td>0</td>\n",
       "      <td>0</td>\n",
       "      <td>0</td>\n",
       "      <td>0</td>\n",
       "      <td>0</td>\n",
       "      <td>0</td>\n",
       "      <td>0</td>\n",
       "      <td>1</td>\n",
       "      <td>0</td>\n",
       "      <td>0</td>\n",
       "      <td>0</td>\n",
       "      <td>1</td>\n",
       "      <td>0</td>\n",
       "      <td>0</td>\n",
       "      <td>0</td>\n",
       "      <td>0</td>\n",
       "      <td>0</td>\n",
       "      <td>1</td>\n",
       "    </tr>\n",
       "    <tr>\n",
       "      <th>468</th>\n",
       "      <td>0</td>\n",
       "      <td>0</td>\n",
       "      <td>1</td>\n",
       "      <td>0</td>\n",
       "      <td>0</td>\n",
       "      <td>0</td>\n",
       "      <td>0</td>\n",
       "      <td>0</td>\n",
       "      <td>0</td>\n",
       "      <td>0</td>\n",
       "      <td>0</td>\n",
       "      <td>0</td>\n",
       "      <td>0</td>\n",
       "      <td>1</td>\n",
       "      <td>0</td>\n",
       "      <td>0</td>\n",
       "      <td>0</td>\n",
       "      <td>0</td>\n",
       "      <td>0</td>\n",
       "      <td>1</td>\n",
       "    </tr>\n",
       "    <tr>\n",
       "      <th>123</th>\n",
       "      <td>0</td>\n",
       "      <td>0</td>\n",
       "      <td>1</td>\n",
       "      <td>0</td>\n",
       "      <td>0</td>\n",
       "      <td>0</td>\n",
       "      <td>0</td>\n",
       "      <td>0</td>\n",
       "      <td>0</td>\n",
       "      <td>0</td>\n",
       "      <td>0</td>\n",
       "      <td>0</td>\n",
       "      <td>0</td>\n",
       "      <td>1</td>\n",
       "      <td>0</td>\n",
       "      <td>0</td>\n",
       "      <td>0</td>\n",
       "      <td>0</td>\n",
       "      <td>0</td>\n",
       "      <td>1</td>\n",
       "    </tr>\n",
       "    <tr>\n",
       "      <th>1050</th>\n",
       "      <td>0</td>\n",
       "      <td>0</td>\n",
       "      <td>0</td>\n",
       "      <td>0</td>\n",
       "      <td>0</td>\n",
       "      <td>0</td>\n",
       "      <td>0</td>\n",
       "      <td>0</td>\n",
       "      <td>0</td>\n",
       "      <td>1</td>\n",
       "      <td>0</td>\n",
       "      <td>0</td>\n",
       "      <td>0</td>\n",
       "      <td>0</td>\n",
       "      <td>1</td>\n",
       "      <td>0</td>\n",
       "      <td>0</td>\n",
       "      <td>0</td>\n",
       "      <td>0</td>\n",
       "      <td>1</td>\n",
       "    </tr>\n",
       "    <tr>\n",
       "      <th>863</th>\n",
       "      <td>0</td>\n",
       "      <td>0</td>\n",
       "      <td>0</td>\n",
       "      <td>0</td>\n",
       "      <td>0</td>\n",
       "      <td>0</td>\n",
       "      <td>0</td>\n",
       "      <td>0</td>\n",
       "      <td>0</td>\n",
       "      <td>1</td>\n",
       "      <td>0</td>\n",
       "      <td>0</td>\n",
       "      <td>0</td>\n",
       "      <td>0</td>\n",
       "      <td>1</td>\n",
       "      <td>0</td>\n",
       "      <td>0</td>\n",
       "      <td>1</td>\n",
       "      <td>0</td>\n",
       "      <td>0</td>\n",
       "    </tr>\n",
       "  </tbody>\n",
       "</table>\n",
       "<p>875 rows × 20 columns</p>\n",
       "</div>"
      ],
      "text/plain": [
       "      ethnicity_'Middle Eastern '  ethnicity_'South Asian'  ethnicity_Asian  \\\n",
       "6                               0                        0                0   \n",
       "791                             0                        0                0   \n",
       "1055                            1                        0                0   \n",
       "839                             0                        0                0   \n",
       "663                             0                        0                0   \n",
       "...                           ...                      ...              ...   \n",
       "332                             0                        0                0   \n",
       "468                             0                        0                1   \n",
       "123                             0                        0                1   \n",
       "1050                            0                        0                0   \n",
       "863                             0                        0                0   \n",
       "\n",
       "      ethnicity_Black  ethnicity_Hispanic  ethnicity_Latino  ethnicity_Others  \\\n",
       "6                   1                   0                 0                 0   \n",
       "791                 0                   0                 0                 0   \n",
       "1055                0                   0                 0                 0   \n",
       "839                 0                   0                 0                 0   \n",
       "663                 0                   0                 0                 0   \n",
       "...               ...                 ...               ...               ...   \n",
       "332                 0                   0                 0                 0   \n",
       "468                 0                   0                 0                 0   \n",
       "123                 0                   0                 0                 0   \n",
       "1050                0                   0                 0                 0   \n",
       "863                 0                   0                 0                 0   \n",
       "\n",
       "      ethnicity_Pasifika  ethnicity_Turkish  ethnicity_White-European  \\\n",
       "6                      0                  0                         0   \n",
       "791                    0                  0                         1   \n",
       "1055                   0                  0                         0   \n",
       "839                    1                  0                         0   \n",
       "663                    0                  0                         1   \n",
       "...                  ...                ...                       ...   \n",
       "332                    0                  0                         1   \n",
       "468                    0                  0                         0   \n",
       "123                    0                  0                         0   \n",
       "1050                   0                  0                         1   \n",
       "863                    0                  0                         1   \n",
       "\n",
       "      ethnicity_others  age_desc_'12-15 years'  age_desc_'12-16 years'  \\\n",
       "6                    0                       0                       0   \n",
       "791                  0                       0                       1   \n",
       "1055                 0                       0                       0   \n",
       "839                  0                       0                       0   \n",
       "663                  0                       0                       0   \n",
       "...                ...                     ...                     ...   \n",
       "332                  0                       0                       0   \n",
       "468                  0                       0                       0   \n",
       "123                  0                       0                       0   \n",
       "1050                 0                       0                       0   \n",
       "863                  0                       0                       0   \n",
       "\n",
       "      age_desc_'18 and more'  age_desc_'4-11 years'  \\\n",
       "6                          1                      0   \n",
       "791                        0                      0   \n",
       "1055                       0                      1   \n",
       "839                        0                      1   \n",
       "663                        1                      0   \n",
       "...                      ...                    ...   \n",
       "332                        1                      0   \n",
       "468                        1                      0   \n",
       "123                        1                      0   \n",
       "1050                       0                      1   \n",
       "863                        0                      1   \n",
       "\n",
       "      relation_'Health care professional'  relation_Others  relation_Parent  \\\n",
       "6                                       0                0                0   \n",
       "791                                     0                0                0   \n",
       "1055                                    0                0                1   \n",
       "839                                     0                0                1   \n",
       "663                                     0                0                0   \n",
       "...                                   ...              ...              ...   \n",
       "332                                     0                0                0   \n",
       "468                                     0                0                0   \n",
       "123                                     0                0                0   \n",
       "1050                                    0                0                0   \n",
       "863                                     0                0                1   \n",
       "\n",
       "      relation_Relative  relation_Self  \n",
       "6                     0              1  \n",
       "791                   0              1  \n",
       "1055                  0              0  \n",
       "839                   0              0  \n",
       "663                   0              1  \n",
       "...                 ...            ...  \n",
       "332                   0              1  \n",
       "468                   0              1  \n",
       "123                   0              1  \n",
       "1050                  0              1  \n",
       "863                   0              0  \n",
       "\n",
       "[875 rows x 20 columns]"
      ]
     },
     "execution_count": 196,
     "metadata": {},
     "output_type": "execute_result"
    }
   ],
   "source": [
    "#Utilizo un get dummies para transformar ethnicity, age_desc y relation, aunque me va a añadir 17 columnas nuevas al dataframe...\n",
    "\n",
    "X_train_dummy = pd.get_dummies(X_train[[\"ethnicity\",\"age_desc\",\"relation\"]])\n",
    "X_train_dummy       "
   ]
  },
  {
   "cell_type": "code",
   "execution_count": 197,
   "metadata": {},
   "outputs": [],
   "source": [
    "X_train.drop(columns = [\"ethnicity\",\"age_desc\",\"relation\"], axis = 1,inplace = True)     "
   ]
  },
  {
   "cell_type": "code",
   "execution_count": 198,
   "metadata": {},
   "outputs": [],
   "source": [
    "X_train_encod = pd.concat([X_train, X_train_dummy], axis = 1)"
   ]
  },
  {
   "cell_type": "code",
   "execution_count": 199,
   "metadata": {
    "jupyter": {
     "outputs_hidden": true
    }
   },
   "outputs": [
    {
     "data": {
      "text/html": [
       "<div>\n",
       "<style scoped>\n",
       "    .dataframe tbody tr th:only-of-type {\n",
       "        vertical-align: middle;\n",
       "    }\n",
       "\n",
       "    .dataframe tbody tr th {\n",
       "        vertical-align: top;\n",
       "    }\n",
       "\n",
       "    .dataframe thead th {\n",
       "        text-align: right;\n",
       "    }\n",
       "</style>\n",
       "<table border=\"1\" class=\"dataframe\">\n",
       "  <thead>\n",
       "    <tr style=\"text-align: right;\">\n",
       "      <th></th>\n",
       "      <th>A1_score</th>\n",
       "      <th>A2_score</th>\n",
       "      <th>A3_score</th>\n",
       "      <th>A4_score</th>\n",
       "      <th>A5_score</th>\n",
       "      <th>A6_score</th>\n",
       "      <th>A7_score</th>\n",
       "      <th>A8_score</th>\n",
       "      <th>A9_score</th>\n",
       "      <th>A10_score</th>\n",
       "      <th>...</th>\n",
       "      <th>ethnicity_others</th>\n",
       "      <th>age_desc_'12-15 years'</th>\n",
       "      <th>age_desc_'12-16 years'</th>\n",
       "      <th>age_desc_'18 and more'</th>\n",
       "      <th>age_desc_'4-11 years'</th>\n",
       "      <th>relation_'Health care professional'</th>\n",
       "      <th>relation_Others</th>\n",
       "      <th>relation_Parent</th>\n",
       "      <th>relation_Relative</th>\n",
       "      <th>relation_Self</th>\n",
       "    </tr>\n",
       "  </thead>\n",
       "  <tbody>\n",
       "    <tr>\n",
       "      <th>6</th>\n",
       "      <td>0</td>\n",
       "      <td>1</td>\n",
       "      <td>0</td>\n",
       "      <td>0</td>\n",
       "      <td>0</td>\n",
       "      <td>0</td>\n",
       "      <td>0</td>\n",
       "      <td>1</td>\n",
       "      <td>0</td>\n",
       "      <td>0</td>\n",
       "      <td>...</td>\n",
       "      <td>0</td>\n",
       "      <td>0</td>\n",
       "      <td>0</td>\n",
       "      <td>1</td>\n",
       "      <td>0</td>\n",
       "      <td>0</td>\n",
       "      <td>0</td>\n",
       "      <td>0</td>\n",
       "      <td>0</td>\n",
       "      <td>1</td>\n",
       "    </tr>\n",
       "    <tr>\n",
       "      <th>791</th>\n",
       "      <td>0</td>\n",
       "      <td>1</td>\n",
       "      <td>1</td>\n",
       "      <td>1</td>\n",
       "      <td>0</td>\n",
       "      <td>0</td>\n",
       "      <td>0</td>\n",
       "      <td>1</td>\n",
       "      <td>1</td>\n",
       "      <td>1</td>\n",
       "      <td>...</td>\n",
       "      <td>0</td>\n",
       "      <td>0</td>\n",
       "      <td>1</td>\n",
       "      <td>0</td>\n",
       "      <td>0</td>\n",
       "      <td>0</td>\n",
       "      <td>0</td>\n",
       "      <td>0</td>\n",
       "      <td>0</td>\n",
       "      <td>1</td>\n",
       "    </tr>\n",
       "    <tr>\n",
       "      <th>1055</th>\n",
       "      <td>0</td>\n",
       "      <td>0</td>\n",
       "      <td>0</td>\n",
       "      <td>0</td>\n",
       "      <td>0</td>\n",
       "      <td>0</td>\n",
       "      <td>1</td>\n",
       "      <td>0</td>\n",
       "      <td>0</td>\n",
       "      <td>0</td>\n",
       "      <td>...</td>\n",
       "      <td>0</td>\n",
       "      <td>0</td>\n",
       "      <td>0</td>\n",
       "      <td>0</td>\n",
       "      <td>1</td>\n",
       "      <td>0</td>\n",
       "      <td>0</td>\n",
       "      <td>1</td>\n",
       "      <td>0</td>\n",
       "      <td>0</td>\n",
       "    </tr>\n",
       "    <tr>\n",
       "      <th>839</th>\n",
       "      <td>0</td>\n",
       "      <td>0</td>\n",
       "      <td>1</td>\n",
       "      <td>0</td>\n",
       "      <td>0</td>\n",
       "      <td>1</td>\n",
       "      <td>0</td>\n",
       "      <td>0</td>\n",
       "      <td>1</td>\n",
       "      <td>1</td>\n",
       "      <td>...</td>\n",
       "      <td>0</td>\n",
       "      <td>0</td>\n",
       "      <td>0</td>\n",
       "      <td>0</td>\n",
       "      <td>1</td>\n",
       "      <td>0</td>\n",
       "      <td>0</td>\n",
       "      <td>1</td>\n",
       "      <td>0</td>\n",
       "      <td>0</td>\n",
       "    </tr>\n",
       "    <tr>\n",
       "      <th>663</th>\n",
       "      <td>1</td>\n",
       "      <td>0</td>\n",
       "      <td>0</td>\n",
       "      <td>0</td>\n",
       "      <td>0</td>\n",
       "      <td>0</td>\n",
       "      <td>1</td>\n",
       "      <td>1</td>\n",
       "      <td>0</td>\n",
       "      <td>1</td>\n",
       "      <td>...</td>\n",
       "      <td>0</td>\n",
       "      <td>0</td>\n",
       "      <td>0</td>\n",
       "      <td>1</td>\n",
       "      <td>0</td>\n",
       "      <td>0</td>\n",
       "      <td>0</td>\n",
       "      <td>0</td>\n",
       "      <td>0</td>\n",
       "      <td>1</td>\n",
       "    </tr>\n",
       "    <tr>\n",
       "      <th>334</th>\n",
       "      <td>1</td>\n",
       "      <td>1</td>\n",
       "      <td>0</td>\n",
       "      <td>1</td>\n",
       "      <td>0</td>\n",
       "      <td>0</td>\n",
       "      <td>1</td>\n",
       "      <td>1</td>\n",
       "      <td>0</td>\n",
       "      <td>0</td>\n",
       "      <td>...</td>\n",
       "      <td>0</td>\n",
       "      <td>0</td>\n",
       "      <td>0</td>\n",
       "      <td>1</td>\n",
       "      <td>0</td>\n",
       "      <td>0</td>\n",
       "      <td>0</td>\n",
       "      <td>0</td>\n",
       "      <td>0</td>\n",
       "      <td>1</td>\n",
       "    </tr>\n",
       "    <tr>\n",
       "      <th>530</th>\n",
       "      <td>1</td>\n",
       "      <td>0</td>\n",
       "      <td>0</td>\n",
       "      <td>0</td>\n",
       "      <td>1</td>\n",
       "      <td>0</td>\n",
       "      <td>0</td>\n",
       "      <td>0</td>\n",
       "      <td>0</td>\n",
       "      <td>0</td>\n",
       "      <td>...</td>\n",
       "      <td>0</td>\n",
       "      <td>0</td>\n",
       "      <td>0</td>\n",
       "      <td>1</td>\n",
       "      <td>0</td>\n",
       "      <td>0</td>\n",
       "      <td>0</td>\n",
       "      <td>0</td>\n",
       "      <td>0</td>\n",
       "      <td>1</td>\n",
       "    </tr>\n",
       "    <tr>\n",
       "      <th>962</th>\n",
       "      <td>1</td>\n",
       "      <td>1</td>\n",
       "      <td>1</td>\n",
       "      <td>1</td>\n",
       "      <td>1</td>\n",
       "      <td>0</td>\n",
       "      <td>1</td>\n",
       "      <td>0</td>\n",
       "      <td>1</td>\n",
       "      <td>1</td>\n",
       "      <td>...</td>\n",
       "      <td>0</td>\n",
       "      <td>0</td>\n",
       "      <td>0</td>\n",
       "      <td>0</td>\n",
       "      <td>1</td>\n",
       "      <td>0</td>\n",
       "      <td>0</td>\n",
       "      <td>1</td>\n",
       "      <td>0</td>\n",
       "      <td>0</td>\n",
       "    </tr>\n",
       "    <tr>\n",
       "      <th>217</th>\n",
       "      <td>1</td>\n",
       "      <td>1</td>\n",
       "      <td>0</td>\n",
       "      <td>0</td>\n",
       "      <td>0</td>\n",
       "      <td>0</td>\n",
       "      <td>0</td>\n",
       "      <td>1</td>\n",
       "      <td>0</td>\n",
       "      <td>1</td>\n",
       "      <td>...</td>\n",
       "      <td>0</td>\n",
       "      <td>0</td>\n",
       "      <td>0</td>\n",
       "      <td>1</td>\n",
       "      <td>0</td>\n",
       "      <td>0</td>\n",
       "      <td>0</td>\n",
       "      <td>1</td>\n",
       "      <td>0</td>\n",
       "      <td>0</td>\n",
       "    </tr>\n",
       "    <tr>\n",
       "      <th>976</th>\n",
       "      <td>0</td>\n",
       "      <td>1</td>\n",
       "      <td>1</td>\n",
       "      <td>1</td>\n",
       "      <td>1</td>\n",
       "      <td>1</td>\n",
       "      <td>0</td>\n",
       "      <td>1</td>\n",
       "      <td>1</td>\n",
       "      <td>1</td>\n",
       "      <td>...</td>\n",
       "      <td>0</td>\n",
       "      <td>0</td>\n",
       "      <td>0</td>\n",
       "      <td>0</td>\n",
       "      <td>1</td>\n",
       "      <td>0</td>\n",
       "      <td>0</td>\n",
       "      <td>0</td>\n",
       "      <td>0</td>\n",
       "      <td>1</td>\n",
       "    </tr>\n",
       "  </tbody>\n",
       "</table>\n",
       "<p>10 rows × 36 columns</p>\n",
       "</div>"
      ],
      "text/plain": [
       "      A1_score  A2_score  A3_score  A4_score  A5_score  A6_score  A7_score  \\\n",
       "6            0         1         0         0         0         0         0   \n",
       "791          0         1         1         1         0         0         0   \n",
       "1055         0         0         0         0         0         0         1   \n",
       "839          0         0         1         0         0         1         0   \n",
       "663          1         0         0         0         0         0         1   \n",
       "334          1         1         0         1         0         0         1   \n",
       "530          1         0         0         0         1         0         0   \n",
       "962          1         1         1         1         1         0         1   \n",
       "217          1         1         0         0         0         0         0   \n",
       "976          0         1         1         1         1         1         0   \n",
       "\n",
       "      A8_score  A9_score  A10_score  ...  ethnicity_others  \\\n",
       "6            1         0          0  ...                 0   \n",
       "791          1         1          1  ...                 0   \n",
       "1055         0         0          0  ...                 0   \n",
       "839          0         1          1  ...                 0   \n",
       "663          1         0          1  ...                 0   \n",
       "334          1         0          0  ...                 0   \n",
       "530          0         0          0  ...                 0   \n",
       "962          0         1          1  ...                 0   \n",
       "217          1         0          1  ...                 0   \n",
       "976          1         1          1  ...                 0   \n",
       "\n",
       "      age_desc_'12-15 years'  age_desc_'12-16 years'  age_desc_'18 and more'  \\\n",
       "6                          0                       0                       1   \n",
       "791                        0                       1                       0   \n",
       "1055                       0                       0                       0   \n",
       "839                        0                       0                       0   \n",
       "663                        0                       0                       1   \n",
       "334                        0                       0                       1   \n",
       "530                        0                       0                       1   \n",
       "962                        0                       0                       0   \n",
       "217                        0                       0                       1   \n",
       "976                        0                       0                       0   \n",
       "\n",
       "     age_desc_'4-11 years'  relation_'Health care professional'  \\\n",
       "6                        0                                    0   \n",
       "791                      0                                    0   \n",
       "1055                     1                                    0   \n",
       "839                      1                                    0   \n",
       "663                      0                                    0   \n",
       "334                      0                                    0   \n",
       "530                      0                                    0   \n",
       "962                      1                                    0   \n",
       "217                      0                                    0   \n",
       "976                      1                                    0   \n",
       "\n",
       "      relation_Others  relation_Parent  relation_Relative  relation_Self  \n",
       "6                   0                0                  0              1  \n",
       "791                 0                0                  0              1  \n",
       "1055                0                1                  0              0  \n",
       "839                 0                1                  0              0  \n",
       "663                 0                0                  0              1  \n",
       "334                 0                0                  0              1  \n",
       "530                 0                0                  0              1  \n",
       "962                 0                1                  0              0  \n",
       "217                 0                1                  0              0  \n",
       "976                 0                0                  0              1  \n",
       "\n",
       "[10 rows x 36 columns]"
      ]
     },
     "execution_count": 199,
     "metadata": {},
     "output_type": "execute_result"
    }
   ],
   "source": [
    "X_train_encod.head(10)"
   ]
  },
  {
   "cell_type": "code",
   "execution_count": 50,
   "metadata": {
    "jupyter": {
     "outputs_hidden": true
    }
   },
   "outputs": [
    {
     "name": "stdout",
     "output_type": "stream",
     "text": [
      "<class 'pandas.core.frame.DataFrame'>\n",
      "Int64Index: 875 entries, 6 to 863\n",
      "Data columns (total 36 columns):\n",
      " #   Column                               Non-Null Count  Dtype \n",
      "---  ------                               --------------  ----- \n",
      " 0   A1_score                             875 non-null    int64 \n",
      " 1   A2_score                             875 non-null    int64 \n",
      " 2   A3_score                             875 non-null    int64 \n",
      " 3   A4_score                             875 non-null    int64 \n",
      " 4   A5_score                             875 non-null    int64 \n",
      " 5   A6_score                             875 non-null    int64 \n",
      " 6   A7_score                             875 non-null    int64 \n",
      " 7   A8_score                             875 non-null    int64 \n",
      " 8   A9_score                             875 non-null    int64 \n",
      " 9   A10_score                            875 non-null    int64 \n",
      " 10  screening_score                      875 non-null    int64 \n",
      " 11  sex                                  875 non-null    int64 \n",
      " 12  jaundice                             875 non-null    int64 \n",
      " 13  fam_history_PDD                      875 non-null    int64 \n",
      " 14  country_of_res                       875 non-null    object\n",
      " 15  age_num                              875 non-null    int32 \n",
      " 16  ethnicity_'Middle Eastern '          875 non-null    uint8 \n",
      " 17  ethnicity_'South Asian'              875 non-null    uint8 \n",
      " 18  ethnicity_Asian                      875 non-null    uint8 \n",
      " 19  ethnicity_Black                      875 non-null    uint8 \n",
      " 20  ethnicity_Hispanic                   875 non-null    uint8 \n",
      " 21  ethnicity_Latino                     875 non-null    uint8 \n",
      " 22  ethnicity_Others                     875 non-null    uint8 \n",
      " 23  ethnicity_Pasifika                   875 non-null    uint8 \n",
      " 24  ethnicity_Turkish                    875 non-null    uint8 \n",
      " 25  ethnicity_White-European             875 non-null    uint8 \n",
      " 26  ethnicity_others                     875 non-null    uint8 \n",
      " 27  age_desc_'12-15 years'               875 non-null    uint8 \n",
      " 28  age_desc_'12-16 years'               875 non-null    uint8 \n",
      " 29  age_desc_'18 and more'               875 non-null    uint8 \n",
      " 30  age_desc_'4-11 years'                875 non-null    uint8 \n",
      " 31  relation_'Health care professional'  875 non-null    uint8 \n",
      " 32  relation_Others                      875 non-null    uint8 \n",
      " 33  relation_Parent                      875 non-null    uint8 \n",
      " 34  relation_Relative                    875 non-null    uint8 \n",
      " 35  relation_Self                        875 non-null    uint8 \n",
      "dtypes: int32(1), int64(14), object(1), uint8(20)\n",
      "memory usage: 129.9+ KB\n"
     ]
    }
   ],
   "source": [
    "X_train_encod.info()"
   ]
  },
  {
   "cell_type": "code",
   "execution_count": 71,
   "metadata": {},
   "outputs": [
    {
     "name": "stdout",
     "output_type": "stream",
     "text": [
      "84\n"
     ]
    }
   ],
   "source": [
    "#Sólo queda una columna categórica, country_of_res: \n",
    "\n",
    "paises = X_train_encod[\"country_of_res\"].unique()\n",
    "print(len(paises))\n",
    "\n",
    "#Tiene 86 clases diferentes, no puedo hacer un get dummies con tantas categorías. \n",
    "\n",
    "#Elimino esta columna del dataset para los modelos de regresión logística y el svm y la dejo para el random forest y el xg boost.\n"
   ]
  },
  {
   "cell_type": "code",
   "execution_count": 72,
   "metadata": {},
   "outputs": [
    {
     "data": {
      "text/plain": [
       "False    875\n",
       "Name: age_num, dtype: int64"
      ]
     },
     "execution_count": 72,
     "metadata": {},
     "output_type": "execute_result"
    }
   ],
   "source": [
    "X_train_encod[\"age_num\"].isna().value_counts()"
   ]
  },
  {
   "cell_type": "markdown",
   "metadata": {},
   "source": [
    "#### 3. Transformación de la distribución de los datos en las variables numéricas. PENDIENTEEEE PREGUNTAR!!!!!!"
   ]
  },
  {
   "cell_type": "code",
   "execution_count": null,
   "metadata": {
    "jupyter": {
     "outputs_hidden": true,
     "source_hidden": true
    }
   },
   "outputs": [],
   "source": [
    "#Distribución de la variable age_num.\n",
    "\n",
    "#Medimos la asimetría\n",
    "\n",
    "from scipy.stats import skew\n",
    "print(\"Asimetria:\", skew(X_train_encod[\"age_num\"]))\n",
    "\n",
    "plt.figure(figsize=(10,5))\n",
    "\n",
    "sns.distplot(X_train_transf[\"age_num\"], kde = False, color = \"#87CEEB\")\n",
    "\n",
    "#Claramente no es una distribución normal. probar cox box y t log"
   ]
  },
  {
   "cell_type": "code",
   "execution_count": null,
   "metadata": {
    "jupyter": {
     "outputs_hidden": true,
     "source_hidden": true
    }
   },
   "outputs": [],
   "source": [
    "from scipy import stats\n",
    "\n",
    "fig, axes = plt.subplots(1, 3, figsize=(15, 5), sharey=True)\n",
    "\n",
    "print(\"Original: \", skew(X_train_transf[\"age_num\"]))\n",
    "sns.distplot(X_train_transf[\"age_num\"], kde=False, ax=axes[0])\n",
    "\n",
    "# Logaritmic\n",
    "print(\"Transformación logarítmica: \", skew(np.log(X_train_transf[\"age_num\"]),))\n",
    "sns.distplot(np.log(X_train_transf[\"age_num\"]),kde=False, ax=axes[1])\n",
    "# np.exp(log_value) # para invertir la transformación\n",
    "\n",
    "# Box-cox\n",
    "print(\"Transformación de Box-Cox: \", skew(stats.boxcox(X_train_transf[\"age_num\"])[0]))\n",
    "sns.distplot(stats.boxcox(X_train_transf[\"age_num\"])[0],kde=False, ax=axes[2]); "
   ]
  },
  {
   "cell_type": "code",
   "execution_count": null,
   "metadata": {
    "jupyter": {
     "outputs_hidden": true,
     "source_hidden": true
    }
   },
   "outputs": [],
   "source": [
    "#Aplicamos una transformación de box cox que es la que más reduce la asimetría.\n",
    "\n",
    "from sklearn.preprocessing import power_transform\n",
    "\n",
    "array_age_num = X_train_transf[\"age_num\"].to_numpy()\n",
    "array_age_num = array_age_num.reshape(-1, 1)\n",
    "\n",
    "print(power_transform(array, method='box-cox'))\n",
    "\n",
    "array_age_num = array_age_num.reshape(-1)#volvemos a pasar el array a una sola dimensión para poder convertirlo en Series de nuevo y reescribir el df.\n",
    "\n",
    "X_train_transf[\"age_num\"] = pd.Series(array_age_num)\n",
    "\n",
    "#OJO, ME DA ERROR AL APLICAR LA TRANSFORMACIÓN DE BOX COX, PREGUTNAR DANI/ANDER\n"
   ]
  },
  {
   "cell_type": "code",
   "execution_count": null,
   "metadata": {
    "jupyter": {
     "outputs_hidden": true,
     "source_hidden": true
    }
   },
   "outputs": [],
   "source": [
    "X_train_transf[\"age_num\"]"
   ]
  },
  {
   "cell_type": "code",
   "execution_count": null,
   "metadata": {
    "jupyter": {
     "outputs_hidden": true,
     "source_hidden": true
    }
   },
   "outputs": [],
   "source": [
    "#Distribución de screening_score\n",
    "\n",
    "print(\"Asimetria:\", skew(X_train_transf[\"screening_score\"]))\n",
    "\n",
    "plt.figure(figsize=(10,5))\n",
    "\n",
    "sns.distplot(X_train_transf[\"screening_score\"], kde = False, color = \"#FF6347\", bins=11)\n",
    "\n"
   ]
  },
  {
   "cell_type": "code",
   "execution_count": null,
   "metadata": {
    "jupyter": {
     "source_hidden": true
    }
   },
   "outputs": [],
   "source": [
    "from scipy import stats\n",
    "\n",
    "fig, axes = plt.subplots(1, 3, figsize=(15, 5), sharey=True)\n",
    "\n",
    "print(\"Original: \", skew(X_train_transf[\"screening_score\"]))\n",
    "sns.distplot(X_train_transf[\"screening_score\"], kde=False, ax=axes[0],bins = 11)\n",
    "\n",
    "# Logaritmic\n",
    "print(\"Transformación logarítmica: \", skew(np.log(X_train_transf[\"screening_score\"]),))\n",
    "sns.distplot(np.log(X_train_transf[\"screening_score\"]),kde=False, ax=axes[1],bins = 11)\n",
    "# np.exp(log_value) # para invertir la transformación\n",
    "\n",
    "# Box-cox\n",
    "print(\"Transformación de Box-Cox: \", skew(stats.boxcox(X_train_transf[\"screening_score\"])[0]))\n",
    "sns.distplot(stats.boxcox(X_train_transf[\"screening_score\"])[0],kde=False, ax=axes[2],bins = 11); \n",
    "\n",
    "#No soy capaz de aplicar las transformaciones, preguntar DANI/ANDER"
   ]
  },
  {
   "cell_type": "markdown",
   "metadata": {},
   "source": [
    "#### 4. Estandarización de los datos: Escalados PENDIENTEEEEE\n",
    "\n",
    "#Aplico un standard scaler a la única variable numérica: age_num\n"
   ]
  },
  {
   "cell_type": "code",
   "execution_count": null,
   "metadata": {
    "jupyter": {
     "source_hidden": true
    }
   },
   "outputs": [],
   "source": [
    "#Aplico un standard scaler a la única variable numérica: age_num\n",
    "\n",
    "from sklearn.preprocessing import StandardScaler\n",
    "\n",
    "scal = StandardScaler() # Declaro el scaler\n",
    "\n",
    "array = X_train_encod[\"age_num\"].to_numpy()\n",
    "array = array.reshape(-1, 1)#para poder entrenar el scaler necesitamos hacer un reshape a un array de 2 dimensiones\n",
    "\n",
    "scal.fit(array) # Lo \"entreno\". Calculo su media y std \n",
    "array = scal.transform(array) # Aplico el scaler y sobreescribo ARRAY\n",
    "#print(array)\n",
    "\n",
    "array = array.reshape(-1)#volvemos a pasar el array a una sola dimensión para poder convertirlo en Series de nuevo y reescribir el df. \n",
    "\n",
    "#OJO EN ESTE RESHAPE ME LLENA LOS DATOS DE NAN Y NO SÉ PORQUÉ!!!\n",
    "\n",
    "#print(array)\n",
    "\n",
    "X_train_encod[\"age_num\"] = pd.Series(array)\n"
   ]
  },
  {
   "cell_type": "code",
   "execution_count": null,
   "metadata": {
    "jupyter": {
     "source_hidden": true
    }
   },
   "outputs": [],
   "source": [
    "X_train_scaled = X_train_encod"
   ]
  },
  {
   "cell_type": "code",
   "execution_count": null,
   "metadata": {
    "jupyter": {
     "outputs_hidden": true,
     "source_hidden": true
    }
   },
   "outputs": [],
   "source": [
    "X_train_scaled.iloc[:,14:16]"
   ]
  },
  {
   "cell_type": "code",
   "execution_count": null,
   "metadata": {
    "jupyter": {
     "outputs_hidden": true,
     "source_hidden": true
    }
   },
   "outputs": [],
   "source": [
    "X_train_scaled[\"age_num\"].isna().value_counts()"
   ]
  },
  {
   "cell_type": "markdown",
   "metadata": {},
   "source": [
    "#### 5. Dataset X_train para modelar"
   ]
  },
  {
   "cell_type": "code",
   "execution_count": null,
   "metadata": {},
   "outputs": [],
   "source": [
    "#Guardamos el dataset en un nuevo csv ya preparado para empezar a modelar\n",
    "#[Por ahora utilizo X_train_encod, puesto que no he sido capaz ni de standarizar ni de transformar los datos. El dataset en este estado me irá mal para log reg y svm, pero bien para el random forest y XG boost]\n",
    "X_train_encod.to_csv(\"Autism_todos_limpio.csv\", index = False)"
   ]
  },
  {
   "cell_type": "markdown",
   "metadata": {},
   "source": [
    "### 6. Tratamiento de X_test"
   ]
  },
  {
   "cell_type": "code",
   "execution_count": 200,
   "metadata": {
    "jupyter": {
     "outputs_hidden": true
    }
   },
   "outputs": [
    {
     "name": "stdout",
     "output_type": "stream",
     "text": [
      "<class 'pandas.core.frame.DataFrame'>\n",
      "Int64Index: 219 entries, 484 to 2\n",
      "Data columns (total 19 columns):\n",
      " #   Column           Non-Null Count  Dtype \n",
      "---  ------           --------------  ----- \n",
      " 0   A1_score         219 non-null    int64 \n",
      " 1   A2_score         219 non-null    int64 \n",
      " 2   A3_score         219 non-null    int64 \n",
      " 3   A4_score         219 non-null    int64 \n",
      " 4   A5_score         219 non-null    int64 \n",
      " 5   A6_score         219 non-null    int64 \n",
      " 6   A7_score         219 non-null    int64 \n",
      " 7   A8_score         219 non-null    int64 \n",
      " 8   A9_score         219 non-null    int64 \n",
      " 9   A10_score        219 non-null    int64 \n",
      " 10  screening_score  219 non-null    int64 \n",
      " 11  sex              219 non-null    object\n",
      " 12  ethnicity        219 non-null    object\n",
      " 13  jaundice         219 non-null    object\n",
      " 14  fam_history_PDD  219 non-null    object\n",
      " 15  country_of_res   219 non-null    object\n",
      " 16  age_num          219 non-null    int32 \n",
      " 17  age_desc         219 non-null    object\n",
      " 18  relation         219 non-null    object\n",
      "dtypes: int32(1), int64(11), object(7)\n",
      "memory usage: 33.4+ KB\n"
     ]
    },
    {
     "data": {
      "text/html": [
       "<div>\n",
       "<style scoped>\n",
       "    .dataframe tbody tr th:only-of-type {\n",
       "        vertical-align: middle;\n",
       "    }\n",
       "\n",
       "    .dataframe tbody tr th {\n",
       "        vertical-align: top;\n",
       "    }\n",
       "\n",
       "    .dataframe thead th {\n",
       "        text-align: right;\n",
       "    }\n",
       "</style>\n",
       "<table border=\"1\" class=\"dataframe\">\n",
       "  <thead>\n",
       "    <tr style=\"text-align: right;\">\n",
       "      <th>COL_N</th>\n",
       "      <th>A1_score</th>\n",
       "      <th>A2_score</th>\n",
       "      <th>A3_score</th>\n",
       "      <th>A4_score</th>\n",
       "      <th>A5_score</th>\n",
       "      <th>A6_score</th>\n",
       "      <th>A7_score</th>\n",
       "      <th>A8_score</th>\n",
       "      <th>A9_score</th>\n",
       "      <th>A10_score</th>\n",
       "      <th>screening_score</th>\n",
       "      <th>sex</th>\n",
       "      <th>ethnicity</th>\n",
       "      <th>jaundice</th>\n",
       "      <th>fam_history_PDD</th>\n",
       "      <th>country_of_res</th>\n",
       "      <th>age_num</th>\n",
       "      <th>age_desc</th>\n",
       "      <th>relation</th>\n",
       "    </tr>\n",
       "  </thead>\n",
       "  <tbody>\n",
       "    <tr>\n",
       "      <th>DATA_TYPE</th>\n",
       "      <td>int64</td>\n",
       "      <td>int64</td>\n",
       "      <td>int64</td>\n",
       "      <td>int64</td>\n",
       "      <td>int64</td>\n",
       "      <td>int64</td>\n",
       "      <td>int64</td>\n",
       "      <td>int64</td>\n",
       "      <td>int64</td>\n",
       "      <td>int64</td>\n",
       "      <td>int64</td>\n",
       "      <td>object</td>\n",
       "      <td>object</td>\n",
       "      <td>object</td>\n",
       "      <td>object</td>\n",
       "      <td>object</td>\n",
       "      <td>int32</td>\n",
       "      <td>object</td>\n",
       "      <td>object</td>\n",
       "    </tr>\n",
       "    <tr>\n",
       "      <th>MISSINGS (%)</th>\n",
       "      <td>0</td>\n",
       "      <td>0</td>\n",
       "      <td>0</td>\n",
       "      <td>0</td>\n",
       "      <td>0</td>\n",
       "      <td>0</td>\n",
       "      <td>0</td>\n",
       "      <td>0</td>\n",
       "      <td>0</td>\n",
       "      <td>0</td>\n",
       "      <td>0</td>\n",
       "      <td>0</td>\n",
       "      <td>0</td>\n",
       "      <td>0</td>\n",
       "      <td>0</td>\n",
       "      <td>0</td>\n",
       "      <td>0</td>\n",
       "      <td>0</td>\n",
       "      <td>0</td>\n",
       "    </tr>\n",
       "    <tr>\n",
       "      <th>UNIQUE_VALUES</th>\n",
       "      <td>2</td>\n",
       "      <td>2</td>\n",
       "      <td>2</td>\n",
       "      <td>2</td>\n",
       "      <td>2</td>\n",
       "      <td>2</td>\n",
       "      <td>2</td>\n",
       "      <td>2</td>\n",
       "      <td>2</td>\n",
       "      <td>2</td>\n",
       "      <td>11</td>\n",
       "      <td>2</td>\n",
       "      <td>10</td>\n",
       "      <td>2</td>\n",
       "      <td>2</td>\n",
       "      <td>44</td>\n",
       "      <td>48</td>\n",
       "      <td>3</td>\n",
       "      <td>5</td>\n",
       "    </tr>\n",
       "    <tr>\n",
       "      <th>CARDIN (%)</th>\n",
       "      <td>0.91</td>\n",
       "      <td>0.91</td>\n",
       "      <td>0.91</td>\n",
       "      <td>0.91</td>\n",
       "      <td>0.91</td>\n",
       "      <td>0.91</td>\n",
       "      <td>0.91</td>\n",
       "      <td>0.91</td>\n",
       "      <td>0.91</td>\n",
       "      <td>0.91</td>\n",
       "      <td>5.02</td>\n",
       "      <td>0.91</td>\n",
       "      <td>4.57</td>\n",
       "      <td>0.91</td>\n",
       "      <td>0.91</td>\n",
       "      <td>20.09</td>\n",
       "      <td>21.92</td>\n",
       "      <td>1.37</td>\n",
       "      <td>2.28</td>\n",
       "    </tr>\n",
       "  </tbody>\n",
       "</table>\n",
       "</div>"
      ],
      "text/plain": [
       "COL_N         A1_score A2_score A3_score A4_score A5_score A6_score A7_score  \\\n",
       "DATA_TYPE        int64    int64    int64    int64    int64    int64    int64   \n",
       "MISSINGS (%)         0        0        0        0        0        0        0   \n",
       "UNIQUE_VALUES        2        2        2        2        2        2        2   \n",
       "CARDIN (%)        0.91     0.91     0.91     0.91     0.91     0.91     0.91   \n",
       "\n",
       "COL_N         A8_score A9_score A10_score screening_score     sex ethnicity  \\\n",
       "DATA_TYPE        int64    int64     int64           int64  object    object   \n",
       "MISSINGS (%)         0        0         0               0       0         0   \n",
       "UNIQUE_VALUES        2        2         2              11       2        10   \n",
       "CARDIN (%)        0.91     0.91      0.91            5.02    0.91      4.57   \n",
       "\n",
       "COL_N         jaundice fam_history_PDD country_of_res age_num age_desc  \\\n",
       "DATA_TYPE       object          object         object   int32   object   \n",
       "MISSINGS (%)         0               0              0       0        0   \n",
       "UNIQUE_VALUES        2               2             44      48        3   \n",
       "CARDIN (%)        0.91            0.91          20.09   21.92     1.37   \n",
       "\n",
       "COL_N         relation  \n",
       "DATA_TYPE       object  \n",
       "MISSINGS (%)         0  \n",
       "UNIQUE_VALUES        5  \n",
       "CARDIN (%)        2.28  "
      ]
     },
     "execution_count": 200,
     "metadata": {},
     "output_type": "execute_result"
    }
   ],
   "source": [
    "## 9. Processing X_test\n",
    "\n",
    "X_test.info()\n",
    "X_test.describe()\n",
    "data_report(X_test)"
   ]
  },
  {
   "cell_type": "code",
   "execution_count": 201,
   "metadata": {
    "jupyter": {
     "outputs_hidden": true
    }
   },
   "outputs": [
    {
     "data": {
      "text/html": [
       "<div>\n",
       "<style scoped>\n",
       "    .dataframe tbody tr th:only-of-type {\n",
       "        vertical-align: middle;\n",
       "    }\n",
       "\n",
       "    .dataframe tbody tr th {\n",
       "        vertical-align: top;\n",
       "    }\n",
       "\n",
       "    .dataframe thead th {\n",
       "        text-align: right;\n",
       "    }\n",
       "</style>\n",
       "<table border=\"1\" class=\"dataframe\">\n",
       "  <thead>\n",
       "    <tr style=\"text-align: right;\">\n",
       "      <th></th>\n",
       "      <th>A1_score</th>\n",
       "      <th>A2_score</th>\n",
       "      <th>A3_score</th>\n",
       "      <th>A4_score</th>\n",
       "      <th>A5_score</th>\n",
       "      <th>A6_score</th>\n",
       "      <th>A7_score</th>\n",
       "      <th>A8_score</th>\n",
       "      <th>A9_score</th>\n",
       "      <th>A10_score</th>\n",
       "      <th>screening_score</th>\n",
       "      <th>age_num</th>\n",
       "    </tr>\n",
       "  </thead>\n",
       "  <tbody>\n",
       "    <tr>\n",
       "      <th>count</th>\n",
       "      <td>219.000000</td>\n",
       "      <td>219.000000</td>\n",
       "      <td>219.000000</td>\n",
       "      <td>219.000000</td>\n",
       "      <td>219.000000</td>\n",
       "      <td>219.000000</td>\n",
       "      <td>219.000000</td>\n",
       "      <td>219.000000</td>\n",
       "      <td>219.000000</td>\n",
       "      <td>219.000000</td>\n",
       "      <td>219.000000</td>\n",
       "      <td>219.000000</td>\n",
       "    </tr>\n",
       "    <tr>\n",
       "      <th>mean</th>\n",
       "      <td>0.684932</td>\n",
       "      <td>0.534247</td>\n",
       "      <td>0.534247</td>\n",
       "      <td>0.538813</td>\n",
       "      <td>0.566210</td>\n",
       "      <td>0.465753</td>\n",
       "      <td>0.488584</td>\n",
       "      <td>0.643836</td>\n",
       "      <td>0.401826</td>\n",
       "      <td>0.621005</td>\n",
       "      <td>5.479452</td>\n",
       "      <td>23.141553</td>\n",
       "    </tr>\n",
       "    <tr>\n",
       "      <th>std</th>\n",
       "      <td>0.465607</td>\n",
       "      <td>0.499969</td>\n",
       "      <td>0.499969</td>\n",
       "      <td>0.499633</td>\n",
       "      <td>0.496732</td>\n",
       "      <td>0.499969</td>\n",
       "      <td>0.501015</td>\n",
       "      <td>0.479962</td>\n",
       "      <td>0.491390</td>\n",
       "      <td>0.486248</td>\n",
       "      <td>2.593798</td>\n",
       "      <td>13.099585</td>\n",
       "    </tr>\n",
       "    <tr>\n",
       "      <th>min</th>\n",
       "      <td>0.000000</td>\n",
       "      <td>0.000000</td>\n",
       "      <td>0.000000</td>\n",
       "      <td>0.000000</td>\n",
       "      <td>0.000000</td>\n",
       "      <td>0.000000</td>\n",
       "      <td>0.000000</td>\n",
       "      <td>0.000000</td>\n",
       "      <td>0.000000</td>\n",
       "      <td>0.000000</td>\n",
       "      <td>0.000000</td>\n",
       "      <td>4.000000</td>\n",
       "    </tr>\n",
       "    <tr>\n",
       "      <th>25%</th>\n",
       "      <td>0.000000</td>\n",
       "      <td>0.000000</td>\n",
       "      <td>0.000000</td>\n",
       "      <td>0.000000</td>\n",
       "      <td>0.000000</td>\n",
       "      <td>0.000000</td>\n",
       "      <td>0.000000</td>\n",
       "      <td>0.000000</td>\n",
       "      <td>0.000000</td>\n",
       "      <td>0.000000</td>\n",
       "      <td>3.000000</td>\n",
       "      <td>13.000000</td>\n",
       "    </tr>\n",
       "    <tr>\n",
       "      <th>50%</th>\n",
       "      <td>1.000000</td>\n",
       "      <td>1.000000</td>\n",
       "      <td>1.000000</td>\n",
       "      <td>1.000000</td>\n",
       "      <td>1.000000</td>\n",
       "      <td>0.000000</td>\n",
       "      <td>0.000000</td>\n",
       "      <td>1.000000</td>\n",
       "      <td>0.000000</td>\n",
       "      <td>1.000000</td>\n",
       "      <td>5.000000</td>\n",
       "      <td>22.000000</td>\n",
       "    </tr>\n",
       "    <tr>\n",
       "      <th>75%</th>\n",
       "      <td>1.000000</td>\n",
       "      <td>1.000000</td>\n",
       "      <td>1.000000</td>\n",
       "      <td>1.000000</td>\n",
       "      <td>1.000000</td>\n",
       "      <td>1.000000</td>\n",
       "      <td>1.000000</td>\n",
       "      <td>1.000000</td>\n",
       "      <td>1.000000</td>\n",
       "      <td>1.000000</td>\n",
       "      <td>8.000000</td>\n",
       "      <td>32.000000</td>\n",
       "    </tr>\n",
       "    <tr>\n",
       "      <th>max</th>\n",
       "      <td>1.000000</td>\n",
       "      <td>1.000000</td>\n",
       "      <td>1.000000</td>\n",
       "      <td>1.000000</td>\n",
       "      <td>1.000000</td>\n",
       "      <td>1.000000</td>\n",
       "      <td>1.000000</td>\n",
       "      <td>1.000000</td>\n",
       "      <td>1.000000</td>\n",
       "      <td>1.000000</td>\n",
       "      <td>10.000000</td>\n",
       "      <td>61.000000</td>\n",
       "    </tr>\n",
       "  </tbody>\n",
       "</table>\n",
       "</div>"
      ],
      "text/plain": [
       "         A1_score    A2_score    A3_score    A4_score    A5_score    A6_score  \\\n",
       "count  219.000000  219.000000  219.000000  219.000000  219.000000  219.000000   \n",
       "mean     0.684932    0.534247    0.534247    0.538813    0.566210    0.465753   \n",
       "std      0.465607    0.499969    0.499969    0.499633    0.496732    0.499969   \n",
       "min      0.000000    0.000000    0.000000    0.000000    0.000000    0.000000   \n",
       "25%      0.000000    0.000000    0.000000    0.000000    0.000000    0.000000   \n",
       "50%      1.000000    1.000000    1.000000    1.000000    1.000000    0.000000   \n",
       "75%      1.000000    1.000000    1.000000    1.000000    1.000000    1.000000   \n",
       "max      1.000000    1.000000    1.000000    1.000000    1.000000    1.000000   \n",
       "\n",
       "         A7_score    A8_score    A9_score   A10_score  screening_score  \\\n",
       "count  219.000000  219.000000  219.000000  219.000000       219.000000   \n",
       "mean     0.488584    0.643836    0.401826    0.621005         5.479452   \n",
       "std      0.501015    0.479962    0.491390    0.486248         2.593798   \n",
       "min      0.000000    0.000000    0.000000    0.000000         0.000000   \n",
       "25%      0.000000    0.000000    0.000000    0.000000         3.000000   \n",
       "50%      0.000000    1.000000    0.000000    1.000000         5.000000   \n",
       "75%      1.000000    1.000000    1.000000    1.000000         8.000000   \n",
       "max      1.000000    1.000000    1.000000    1.000000        10.000000   \n",
       "\n",
       "          age_num  \n",
       "count  219.000000  \n",
       "mean    23.141553  \n",
       "std     13.099585  \n",
       "min      4.000000  \n",
       "25%     13.000000  \n",
       "50%     22.000000  \n",
       "75%     32.000000  \n",
       "max     61.000000  "
      ]
     },
     "execution_count": 201,
     "metadata": {},
     "output_type": "execute_result"
    }
   ],
   "source": [
    "X_test.describe()"
   ]
  },
  {
   "cell_type": "code",
   "execution_count": 202,
   "metadata": {},
   "outputs": [
    {
     "name": "stdout",
     "output_type": "stream",
     "text": [
      "['Others' \"'South Asian'\" 'White-European' 'Latino' \"'Middle Eastern '\"\n",
      " 'Asian' 'Pasifika' 'Black' 'Hispanic' 'Turkish']\n",
      "[\"'18 and more'\" \"'4-11 years'\" \"'12-16 years'\"]\n",
      "['Self' 'Parent' 'Relative' \"'Health care professional'\" 'Others']\n"
     ]
    }
   ],
   "source": [
    "print(X_test[\"ethnicity\"].unique())\n",
    "print(X_test[\"age_desc\"].unique())\n",
    "print(X_test[\"relation\"].unique())\n",
    "\n",
    "#En ethnicity me falta 1 categoría y en age_desc otra. En total, me faltan dos. Por eso al hacer el get dummies me quedo\n",
    "#dos columnas más corta."
   ]
  },
  {
   "cell_type": "code",
   "execution_count": 203,
   "metadata": {},
   "outputs": [
    {
     "data": {
      "text/html": [
       "<div>\n",
       "<style scoped>\n",
       "    .dataframe tbody tr th:only-of-type {\n",
       "        vertical-align: middle;\n",
       "    }\n",
       "\n",
       "    .dataframe tbody tr th {\n",
       "        vertical-align: top;\n",
       "    }\n",
       "\n",
       "    .dataframe thead th {\n",
       "        text-align: right;\n",
       "    }\n",
       "</style>\n",
       "<table border=\"1\" class=\"dataframe\">\n",
       "  <thead>\n",
       "    <tr style=\"text-align: right;\">\n",
       "      <th></th>\n",
       "      <th>ethnicity_'Middle Eastern '</th>\n",
       "      <th>ethnicity_'South Asian'</th>\n",
       "      <th>ethnicity_Asian</th>\n",
       "      <th>ethnicity_Black</th>\n",
       "      <th>ethnicity_Hispanic</th>\n",
       "      <th>ethnicity_Latino</th>\n",
       "      <th>ethnicity_Others</th>\n",
       "      <th>ethnicity_Pasifika</th>\n",
       "      <th>ethnicity_Turkish</th>\n",
       "      <th>ethnicity_White-European</th>\n",
       "      <th>age_desc_'12-16 years'</th>\n",
       "      <th>age_desc_'18 and more'</th>\n",
       "      <th>age_desc_'4-11 years'</th>\n",
       "      <th>relation_'Health care professional'</th>\n",
       "      <th>relation_Others</th>\n",
       "      <th>relation_Parent</th>\n",
       "      <th>relation_Relative</th>\n",
       "      <th>relation_Self</th>\n",
       "    </tr>\n",
       "  </thead>\n",
       "  <tbody>\n",
       "    <tr>\n",
       "      <th>484</th>\n",
       "      <td>0</td>\n",
       "      <td>0</td>\n",
       "      <td>0</td>\n",
       "      <td>0</td>\n",
       "      <td>0</td>\n",
       "      <td>0</td>\n",
       "      <td>1</td>\n",
       "      <td>0</td>\n",
       "      <td>0</td>\n",
       "      <td>0</td>\n",
       "      <td>0</td>\n",
       "      <td>1</td>\n",
       "      <td>0</td>\n",
       "      <td>0</td>\n",
       "      <td>0</td>\n",
       "      <td>0</td>\n",
       "      <td>0</td>\n",
       "      <td>1</td>\n",
       "    </tr>\n",
       "    <tr>\n",
       "      <th>141</th>\n",
       "      <td>0</td>\n",
       "      <td>1</td>\n",
       "      <td>0</td>\n",
       "      <td>0</td>\n",
       "      <td>0</td>\n",
       "      <td>0</td>\n",
       "      <td>0</td>\n",
       "      <td>0</td>\n",
       "      <td>0</td>\n",
       "      <td>0</td>\n",
       "      <td>0</td>\n",
       "      <td>1</td>\n",
       "      <td>0</td>\n",
       "      <td>0</td>\n",
       "      <td>0</td>\n",
       "      <td>0</td>\n",
       "      <td>0</td>\n",
       "      <td>1</td>\n",
       "    </tr>\n",
       "    <tr>\n",
       "      <th>89</th>\n",
       "      <td>0</td>\n",
       "      <td>0</td>\n",
       "      <td>0</td>\n",
       "      <td>0</td>\n",
       "      <td>0</td>\n",
       "      <td>0</td>\n",
       "      <td>0</td>\n",
       "      <td>0</td>\n",
       "      <td>0</td>\n",
       "      <td>1</td>\n",
       "      <td>0</td>\n",
       "      <td>1</td>\n",
       "      <td>0</td>\n",
       "      <td>0</td>\n",
       "      <td>0</td>\n",
       "      <td>0</td>\n",
       "      <td>0</td>\n",
       "      <td>1</td>\n",
       "    </tr>\n",
       "    <tr>\n",
       "      <th>944</th>\n",
       "      <td>0</td>\n",
       "      <td>0</td>\n",
       "      <td>0</td>\n",
       "      <td>0</td>\n",
       "      <td>0</td>\n",
       "      <td>0</td>\n",
       "      <td>0</td>\n",
       "      <td>0</td>\n",
       "      <td>0</td>\n",
       "      <td>1</td>\n",
       "      <td>0</td>\n",
       "      <td>0</td>\n",
       "      <td>1</td>\n",
       "      <td>0</td>\n",
       "      <td>0</td>\n",
       "      <td>1</td>\n",
       "      <td>0</td>\n",
       "      <td>0</td>\n",
       "    </tr>\n",
       "    <tr>\n",
       "      <th>734</th>\n",
       "      <td>0</td>\n",
       "      <td>0</td>\n",
       "      <td>0</td>\n",
       "      <td>0</td>\n",
       "      <td>0</td>\n",
       "      <td>0</td>\n",
       "      <td>0</td>\n",
       "      <td>0</td>\n",
       "      <td>0</td>\n",
       "      <td>1</td>\n",
       "      <td>1</td>\n",
       "      <td>0</td>\n",
       "      <td>0</td>\n",
       "      <td>0</td>\n",
       "      <td>0</td>\n",
       "      <td>0</td>\n",
       "      <td>0</td>\n",
       "      <td>1</td>\n",
       "    </tr>\n",
       "    <tr>\n",
       "      <th>...</th>\n",
       "      <td>...</td>\n",
       "      <td>...</td>\n",
       "      <td>...</td>\n",
       "      <td>...</td>\n",
       "      <td>...</td>\n",
       "      <td>...</td>\n",
       "      <td>...</td>\n",
       "      <td>...</td>\n",
       "      <td>...</td>\n",
       "      <td>...</td>\n",
       "      <td>...</td>\n",
       "      <td>...</td>\n",
       "      <td>...</td>\n",
       "      <td>...</td>\n",
       "      <td>...</td>\n",
       "      <td>...</td>\n",
       "      <td>...</td>\n",
       "      <td>...</td>\n",
       "    </tr>\n",
       "    <tr>\n",
       "      <th>710</th>\n",
       "      <td>0</td>\n",
       "      <td>0</td>\n",
       "      <td>0</td>\n",
       "      <td>0</td>\n",
       "      <td>0</td>\n",
       "      <td>0</td>\n",
       "      <td>0</td>\n",
       "      <td>0</td>\n",
       "      <td>0</td>\n",
       "      <td>1</td>\n",
       "      <td>1</td>\n",
       "      <td>0</td>\n",
       "      <td>0</td>\n",
       "      <td>0</td>\n",
       "      <td>0</td>\n",
       "      <td>0</td>\n",
       "      <td>0</td>\n",
       "      <td>1</td>\n",
       "    </tr>\n",
       "    <tr>\n",
       "      <th>333</th>\n",
       "      <td>0</td>\n",
       "      <td>0</td>\n",
       "      <td>1</td>\n",
       "      <td>0</td>\n",
       "      <td>0</td>\n",
       "      <td>0</td>\n",
       "      <td>0</td>\n",
       "      <td>0</td>\n",
       "      <td>0</td>\n",
       "      <td>0</td>\n",
       "      <td>0</td>\n",
       "      <td>1</td>\n",
       "      <td>0</td>\n",
       "      <td>0</td>\n",
       "      <td>0</td>\n",
       "      <td>1</td>\n",
       "      <td>0</td>\n",
       "      <td>0</td>\n",
       "    </tr>\n",
       "    <tr>\n",
       "      <th>363</th>\n",
       "      <td>1</td>\n",
       "      <td>0</td>\n",
       "      <td>0</td>\n",
       "      <td>0</td>\n",
       "      <td>0</td>\n",
       "      <td>0</td>\n",
       "      <td>0</td>\n",
       "      <td>0</td>\n",
       "      <td>0</td>\n",
       "      <td>0</td>\n",
       "      <td>0</td>\n",
       "      <td>1</td>\n",
       "      <td>0</td>\n",
       "      <td>0</td>\n",
       "      <td>0</td>\n",
       "      <td>0</td>\n",
       "      <td>0</td>\n",
       "      <td>1</td>\n",
       "    </tr>\n",
       "    <tr>\n",
       "      <th>816</th>\n",
       "      <td>1</td>\n",
       "      <td>0</td>\n",
       "      <td>0</td>\n",
       "      <td>0</td>\n",
       "      <td>0</td>\n",
       "      <td>0</td>\n",
       "      <td>0</td>\n",
       "      <td>0</td>\n",
       "      <td>0</td>\n",
       "      <td>0</td>\n",
       "      <td>0</td>\n",
       "      <td>0</td>\n",
       "      <td>1</td>\n",
       "      <td>0</td>\n",
       "      <td>0</td>\n",
       "      <td>1</td>\n",
       "      <td>0</td>\n",
       "      <td>0</td>\n",
       "    </tr>\n",
       "    <tr>\n",
       "      <th>2</th>\n",
       "      <td>0</td>\n",
       "      <td>0</td>\n",
       "      <td>0</td>\n",
       "      <td>0</td>\n",
       "      <td>0</td>\n",
       "      <td>1</td>\n",
       "      <td>0</td>\n",
       "      <td>0</td>\n",
       "      <td>0</td>\n",
       "      <td>0</td>\n",
       "      <td>0</td>\n",
       "      <td>1</td>\n",
       "      <td>0</td>\n",
       "      <td>0</td>\n",
       "      <td>0</td>\n",
       "      <td>1</td>\n",
       "      <td>0</td>\n",
       "      <td>0</td>\n",
       "    </tr>\n",
       "  </tbody>\n",
       "</table>\n",
       "<p>219 rows × 18 columns</p>\n",
       "</div>"
      ],
      "text/plain": [
       "     ethnicity_'Middle Eastern '  ethnicity_'South Asian'  ethnicity_Asian  \\\n",
       "484                            0                        0                0   \n",
       "141                            0                        1                0   \n",
       "89                             0                        0                0   \n",
       "944                            0                        0                0   \n",
       "734                            0                        0                0   \n",
       "..                           ...                      ...              ...   \n",
       "710                            0                        0                0   \n",
       "333                            0                        0                1   \n",
       "363                            1                        0                0   \n",
       "816                            1                        0                0   \n",
       "2                              0                        0                0   \n",
       "\n",
       "     ethnicity_Black  ethnicity_Hispanic  ethnicity_Latino  ethnicity_Others  \\\n",
       "484                0                   0                 0                 1   \n",
       "141                0                   0                 0                 0   \n",
       "89                 0                   0                 0                 0   \n",
       "944                0                   0                 0                 0   \n",
       "734                0                   0                 0                 0   \n",
       "..               ...                 ...               ...               ...   \n",
       "710                0                   0                 0                 0   \n",
       "333                0                   0                 0                 0   \n",
       "363                0                   0                 0                 0   \n",
       "816                0                   0                 0                 0   \n",
       "2                  0                   0                 1                 0   \n",
       "\n",
       "     ethnicity_Pasifika  ethnicity_Turkish  ethnicity_White-European  \\\n",
       "484                   0                  0                         0   \n",
       "141                   0                  0                         0   \n",
       "89                    0                  0                         1   \n",
       "944                   0                  0                         1   \n",
       "734                   0                  0                         1   \n",
       "..                  ...                ...                       ...   \n",
       "710                   0                  0                         1   \n",
       "333                   0                  0                         0   \n",
       "363                   0                  0                         0   \n",
       "816                   0                  0                         0   \n",
       "2                     0                  0                         0   \n",
       "\n",
       "     age_desc_'12-16 years'  age_desc_'18 and more'  age_desc_'4-11 years'  \\\n",
       "484                       0                       1                      0   \n",
       "141                       0                       1                      0   \n",
       "89                        0                       1                      0   \n",
       "944                       0                       0                      1   \n",
       "734                       1                       0                      0   \n",
       "..                      ...                     ...                    ...   \n",
       "710                       1                       0                      0   \n",
       "333                       0                       1                      0   \n",
       "363                       0                       1                      0   \n",
       "816                       0                       0                      1   \n",
       "2                         0                       1                      0   \n",
       "\n",
       "     relation_'Health care professional'  relation_Others  relation_Parent  \\\n",
       "484                                    0                0                0   \n",
       "141                                    0                0                0   \n",
       "89                                     0                0                0   \n",
       "944                                    0                0                1   \n",
       "734                                    0                0                0   \n",
       "..                                   ...              ...              ...   \n",
       "710                                    0                0                0   \n",
       "333                                    0                0                1   \n",
       "363                                    0                0                0   \n",
       "816                                    0                0                1   \n",
       "2                                      0                0                1   \n",
       "\n",
       "     relation_Relative  relation_Self  \n",
       "484                  0              1  \n",
       "141                  0              1  \n",
       "89                   0              1  \n",
       "944                  0              0  \n",
       "734                  0              1  \n",
       "..                 ...            ...  \n",
       "710                  0              1  \n",
       "333                  0              0  \n",
       "363                  0              1  \n",
       "816                  0              0  \n",
       "2                    0              0  \n",
       "\n",
       "[219 rows x 18 columns]"
      ]
     },
     "execution_count": 203,
     "metadata": {},
     "output_type": "execute_result"
    }
   ],
   "source": [
    "#Encodings (categorical features)\n",
    "\n",
    "X_test[\"jaundice\"] = X_test[\"jaundice\"].apply(mapping)\n",
    "X_test[\"fam_history_PDD\"] =X_test[\"fam_history_PDD\"].apply(mapping)\n",
    "X_test[\"sex\"] = X_test[\"sex\"].apply(mapping_2)\n",
    "\n",
    "#Encodings (numerical features)\n",
    "X_test_dummy= pd.get_dummies(X_test[[\"ethnicity\",\"age_desc\",\"relation\"]])\n",
    "X_test_dummy  \n"
   ]
  },
  {
   "cell_type": "code",
   "execution_count": 204,
   "metadata": {},
   "outputs": [],
   "source": [
    "X_test.drop(columns = [\"ethnicity\",\"age_desc\",\"relation\"], axis = 1,inplace = True)   \n",
    "X_test_encod = pd.concat([X_test, X_test_dummy], axis = 1)"
   ]
  },
  {
   "cell_type": "code",
   "execution_count": 91,
   "metadata": {
    "jupyter": {
     "outputs_hidden": true
    }
   },
   "outputs": [
    {
     "name": "stdout",
     "output_type": "stream",
     "text": [
      "<class 'pandas.core.frame.DataFrame'>\n",
      "Int64Index: 219 entries, 484 to 2\n",
      "Data columns (total 34 columns):\n",
      " #   Column                               Non-Null Count  Dtype \n",
      "---  ------                               --------------  ----- \n",
      " 0   A1_score                             219 non-null    int64 \n",
      " 1   A2_score                             219 non-null    int64 \n",
      " 2   A3_score                             219 non-null    int64 \n",
      " 3   A4_score                             219 non-null    int64 \n",
      " 4   A5_score                             219 non-null    int64 \n",
      " 5   A6_score                             219 non-null    int64 \n",
      " 6   A7_score                             219 non-null    int64 \n",
      " 7   A8_score                             219 non-null    int64 \n",
      " 8   A9_score                             219 non-null    int64 \n",
      " 9   A10_score                            219 non-null    int64 \n",
      " 10  screening_score                      219 non-null    int64 \n",
      " 11  sex                                  219 non-null    int64 \n",
      " 12  jaundice                             219 non-null    int64 \n",
      " 13  fam_history_PDD                      219 non-null    int64 \n",
      " 14  country_of_res                       219 non-null    object\n",
      " 15  age_num                              219 non-null    int32 \n",
      " 16  ethnicity_'Middle Eastern '          219 non-null    uint8 \n",
      " 17  ethnicity_'South Asian'              219 non-null    uint8 \n",
      " 18  ethnicity_Asian                      219 non-null    uint8 \n",
      " 19  ethnicity_Black                      219 non-null    uint8 \n",
      " 20  ethnicity_Hispanic                   219 non-null    uint8 \n",
      " 21  ethnicity_Latino                     219 non-null    uint8 \n",
      " 22  ethnicity_Others                     219 non-null    uint8 \n",
      " 23  ethnicity_Pasifika                   219 non-null    uint8 \n",
      " 24  ethnicity_Turkish                    219 non-null    uint8 \n",
      " 25  ethnicity_White-European             219 non-null    uint8 \n",
      " 26  age_desc_'12-16 years'               219 non-null    uint8 \n",
      " 27  age_desc_'18 and more'               219 non-null    uint8 \n",
      " 28  age_desc_'4-11 years'                219 non-null    uint8 \n",
      " 29  relation_'Health care professional'  219 non-null    uint8 \n",
      " 30  relation_Others                      219 non-null    uint8 \n",
      " 31  relation_Parent                      219 non-null    uint8 \n",
      " 32  relation_Relative                    219 non-null    uint8 \n",
      " 33  relation_Self                        219 non-null    uint8 \n",
      "dtypes: int32(1), int64(14), object(1), uint8(18)\n",
      "memory usage: 32.1+ KB\n"
     ]
    }
   ],
   "source": [
    "X_test_encod.info()"
   ]
  },
  {
   "cell_type": "code",
   "execution_count": 92,
   "metadata": {},
   "outputs": [
    {
     "data": {
      "text/plain": [
       "False    875\n",
       "Name: age_num, dtype: int64"
      ]
     },
     "execution_count": 92,
     "metadata": {},
     "output_type": "execute_result"
    }
   ],
   "source": [
    "X_train['age_num'].isna().value_counts()"
   ]
  },
  {
   "cell_type": "markdown",
   "metadata": {},
   "source": [
    "## III Modelado\n",
    "\n",
    "En este proyecto se van a utilizar los siguientes algoritmos:\n",
    "\n",
    "- Logistic Regression\n",
    "- Support Vector Machine\n",
    "- Random Forest (Bagging)\n",
    "- ADA Boosting\n",
    "- XG Boost\n",
    "\n",
    "\n"
   ]
  },
  {
   "cell_type": "markdown",
   "metadata": {},
   "source": [
    "### 1. Logistic regression"
   ]
  },
  {
   "cell_type": "code",
   "execution_count": 205,
   "metadata": {},
   "outputs": [],
   "source": [
    "#Primero elimino la columna categórica tanto en X_train como en X_test, que este modelo no me permite usarlas.\n",
    "\n",
    "X_train_encod.drop(columns = [\"country_of_res\"], axis = 1,inplace = True)     \n",
    "\n",
    "X_test_encod.drop(columns = [\"country_of_res\"], axis = 1,inplace = True)     \n"
   ]
  },
  {
   "cell_type": "code",
   "execution_count": 206,
   "metadata": {},
   "outputs": [
    {
     "data": {
      "text/plain": [
       "LogisticRegression()"
      ]
     },
     "execution_count": 206,
     "metadata": {},
     "output_type": "execute_result"
    }
   ],
   "source": [
    "from sklearn.linear_model import LogisticRegression\n",
    "autism_log_reg = LogisticRegression()\n",
    "autism_log_reg.fit(X_train_encod,y_train)"
   ]
  },
  {
   "cell_type": "code",
   "execution_count": 207,
   "metadata": {},
   "outputs": [
    {
     "name": "stdout",
     "output_type": "stream",
     "text": [
      "[[ 6.74089088e-01  3.70166026e-01  3.80177319e-01  5.89011172e-01\n",
      "   7.57129646e-01  4.52222610e-01  3.90996538e-01  4.89564588e-01\n",
      "   4.79262167e-01  5.59431105e-01  5.14205026e+00  8.14198978e-02\n",
      "  -1.17380029e-01 -8.40631592e-02 -7.60189406e-04 -2.02575423e-01\n",
      "  -4.64275878e-02 -8.99250973e-02 -1.64727617e-02  2.00305067e-01\n",
      "   9.80627295e-02 -7.93381477e-03  9.70422693e-02  1.16897149e-02\n",
      "  -9.88920308e-02 -4.24202979e-03 -1.44757565e-01  1.04731437e-02\n",
      "  -9.72460713e-02  1.72161528e-01 -1.40619297e-01  2.87461486e-02\n",
      "  -7.34544084e-02  3.75114752e-03  1.22207444e-01]]\n",
      "[-36.81154782]\n",
      "[0 1]\n"
     ]
    }
   ],
   "source": [
    "print(autism_log_reg.coef_)\n",
    "print(autism_log_reg.intercept_)\n",
    "print(autism_log_reg.classes_)"
   ]
  },
  {
   "cell_type": "markdown",
   "metadata": {},
   "source": [
    "#### Feature importance SOS NECESITO ESTANDARIZAR LA VARIABLE SCREENING!!!!"
   ]
  },
  {
   "cell_type": "code",
   "execution_count": 208,
   "metadata": {},
   "outputs": [
    {
     "data": {
      "text/html": [
       "<div>\n",
       "<style scoped>\n",
       "    .dataframe tbody tr th:only-of-type {\n",
       "        vertical-align: middle;\n",
       "    }\n",
       "\n",
       "    .dataframe tbody tr th {\n",
       "        vertical-align: top;\n",
       "    }\n",
       "\n",
       "    .dataframe thead th {\n",
       "        text-align: right;\n",
       "    }\n",
       "</style>\n",
       "<table border=\"1\" class=\"dataframe\">\n",
       "  <thead>\n",
       "    <tr style=\"text-align: right;\">\n",
       "      <th></th>\n",
       "      <th>coefficient</th>\n",
       "    </tr>\n",
       "  </thead>\n",
       "  <tbody>\n",
       "    <tr>\n",
       "      <th>screening_score</th>\n",
       "      <td>5.142050</td>\n",
       "    </tr>\n",
       "    <tr>\n",
       "      <th>A5_score</th>\n",
       "      <td>0.757130</td>\n",
       "    </tr>\n",
       "    <tr>\n",
       "      <th>A1_score</th>\n",
       "      <td>0.674089</td>\n",
       "    </tr>\n",
       "    <tr>\n",
       "      <th>A4_score</th>\n",
       "      <td>0.589011</td>\n",
       "    </tr>\n",
       "    <tr>\n",
       "      <th>A10_score</th>\n",
       "      <td>0.559431</td>\n",
       "    </tr>\n",
       "    <tr>\n",
       "      <th>A8_score</th>\n",
       "      <td>0.489565</td>\n",
       "    </tr>\n",
       "    <tr>\n",
       "      <th>A9_score</th>\n",
       "      <td>0.479262</td>\n",
       "    </tr>\n",
       "    <tr>\n",
       "      <th>A6_score</th>\n",
       "      <td>0.452223</td>\n",
       "    </tr>\n",
       "    <tr>\n",
       "      <th>A7_score</th>\n",
       "      <td>0.390997</td>\n",
       "    </tr>\n",
       "    <tr>\n",
       "      <th>A3_score</th>\n",
       "      <td>0.380177</td>\n",
       "    </tr>\n",
       "    <tr>\n",
       "      <th>A2_score</th>\n",
       "      <td>0.370166</td>\n",
       "    </tr>\n",
       "    <tr>\n",
       "      <th>ethnicity_'Middle Eastern '</th>\n",
       "      <td>0.202575</td>\n",
       "    </tr>\n",
       "    <tr>\n",
       "      <th>ethnicity_Hispanic</th>\n",
       "      <td>0.200305</td>\n",
       "    </tr>\n",
       "    <tr>\n",
       "      <th>age_desc_'4-11 years'</th>\n",
       "      <td>0.172162</td>\n",
       "    </tr>\n",
       "    <tr>\n",
       "      <th>age_desc_'12-15 years'</th>\n",
       "      <td>0.144758</td>\n",
       "    </tr>\n",
       "    <tr>\n",
       "      <th>relation_'Health care professional'</th>\n",
       "      <td>0.140619</td>\n",
       "    </tr>\n",
       "    <tr>\n",
       "      <th>relation_Self</th>\n",
       "      <td>0.122207</td>\n",
       "    </tr>\n",
       "    <tr>\n",
       "      <th>jaundice</th>\n",
       "      <td>0.117380</td>\n",
       "    </tr>\n",
       "    <tr>\n",
       "      <th>ethnicity_White-European</th>\n",
       "      <td>0.098892</td>\n",
       "    </tr>\n",
       "    <tr>\n",
       "      <th>ethnicity_Latino</th>\n",
       "      <td>0.098063</td>\n",
       "    </tr>\n",
       "    <tr>\n",
       "      <th>age_desc_'18 and more'</th>\n",
       "      <td>0.097246</td>\n",
       "    </tr>\n",
       "    <tr>\n",
       "      <th>ethnicity_Pasifika</th>\n",
       "      <td>0.097042</td>\n",
       "    </tr>\n",
       "    <tr>\n",
       "      <th>ethnicity_Asian</th>\n",
       "      <td>0.089925</td>\n",
       "    </tr>\n",
       "    <tr>\n",
       "      <th>fam_history_PDD</th>\n",
       "      <td>0.084063</td>\n",
       "    </tr>\n",
       "    <tr>\n",
       "      <th>sex</th>\n",
       "      <td>0.081420</td>\n",
       "    </tr>\n",
       "    <tr>\n",
       "      <th>relation_Parent</th>\n",
       "      <td>0.073454</td>\n",
       "    </tr>\n",
       "    <tr>\n",
       "      <th>ethnicity_'South Asian'</th>\n",
       "      <td>0.046428</td>\n",
       "    </tr>\n",
       "    <tr>\n",
       "      <th>relation_Others</th>\n",
       "      <td>0.028746</td>\n",
       "    </tr>\n",
       "    <tr>\n",
       "      <th>ethnicity_Black</th>\n",
       "      <td>0.016473</td>\n",
       "    </tr>\n",
       "    <tr>\n",
       "      <th>ethnicity_Turkish</th>\n",
       "      <td>0.011690</td>\n",
       "    </tr>\n",
       "    <tr>\n",
       "      <th>age_desc_'12-16 years'</th>\n",
       "      <td>0.010473</td>\n",
       "    </tr>\n",
       "    <tr>\n",
       "      <th>ethnicity_Others</th>\n",
       "      <td>0.007934</td>\n",
       "    </tr>\n",
       "    <tr>\n",
       "      <th>ethnicity_others</th>\n",
       "      <td>0.004242</td>\n",
       "    </tr>\n",
       "    <tr>\n",
       "      <th>relation_Relative</th>\n",
       "      <td>0.003751</td>\n",
       "    </tr>\n",
       "    <tr>\n",
       "      <th>age_num</th>\n",
       "      <td>0.000760</td>\n",
       "    </tr>\n",
       "  </tbody>\n",
       "</table>\n",
       "</div>"
      ],
      "text/plain": [
       "                                     coefficient\n",
       "screening_score                         5.142050\n",
       "A5_score                                0.757130\n",
       "A1_score                                0.674089\n",
       "A4_score                                0.589011\n",
       "A10_score                               0.559431\n",
       "A8_score                                0.489565\n",
       "A9_score                                0.479262\n",
       "A6_score                                0.452223\n",
       "A7_score                                0.390997\n",
       "A3_score                                0.380177\n",
       "A2_score                                0.370166\n",
       "ethnicity_'Middle Eastern '             0.202575\n",
       "ethnicity_Hispanic                      0.200305\n",
       "age_desc_'4-11 years'                   0.172162\n",
       "age_desc_'12-15 years'                  0.144758\n",
       "relation_'Health care professional'     0.140619\n",
       "relation_Self                           0.122207\n",
       "jaundice                                0.117380\n",
       "ethnicity_White-European                0.098892\n",
       "ethnicity_Latino                        0.098063\n",
       "age_desc_'18 and more'                  0.097246\n",
       "ethnicity_Pasifika                      0.097042\n",
       "ethnicity_Asian                         0.089925\n",
       "fam_history_PDD                         0.084063\n",
       "sex                                     0.081420\n",
       "relation_Parent                         0.073454\n",
       "ethnicity_'South Asian'                 0.046428\n",
       "relation_Others                         0.028746\n",
       "ethnicity_Black                         0.016473\n",
       "ethnicity_Turkish                       0.011690\n",
       "age_desc_'12-16 years'                  0.010473\n",
       "ethnicity_Others                        0.007934\n",
       "ethnicity_others                        0.004242\n",
       "relation_Relative                       0.003751\n",
       "age_num                                 0.000760"
      ]
     },
     "execution_count": 208,
     "metadata": {},
     "output_type": "execute_result"
    }
   ],
   "source": [
    "intercept = autism_log_reg.intercept_\n",
    "coefs = autism_log_reg.coef_.ravel()\n",
    "\n",
    "features = pd.DataFrame(coefs, X_train_encod.columns, columns=['coefficient']).copy()\n",
    "features['coefficient'] = np.abs(features['coefficient'])\n",
    "\n",
    "features.sort_values('coefficient', ascending=False)"
   ]
  },
  {
   "cell_type": "code",
   "execution_count": 209,
   "metadata": {},
   "outputs": [
    {
     "data": {
      "image/png": "[encoded data removed]",
      "text/plain": [
       "<Figure size 1440x720 with 1 Axes>"
      ]
     },
     "metadata": {
      "needs_background": "light"
     },
     "output_type": "display_data"
    }
   ],
   "source": [
    "plt.figure(figsize=(20,10))\n",
    "\n",
    "stdevs = []\n",
    "for i in X_train_encod.columns:\n",
    "    stdev = X_train_encod[i].std()\n",
    "    stdevs.append(stdev)\n",
    "\n",
    "features[\"stdev\"] = np.array(stdevs).reshape(-1,1)\n",
    "features[\"importance\"] = features[\"coefficient\"] * features[\"stdev\"]\n",
    "features['importance_standarized'] = features['importance'] / y_train.std()\n",
    "\n",
    "features = features.sort_values('importance_standarized', ascending=True)\n",
    "plt.barh(features.index, features.importance_standarized);"
   ]
  },
  {
   "cell_type": "code",
   "execution_count": 220,
   "metadata": {},
   "outputs": [
    {
     "name": "stdout",
     "output_type": "stream",
     "text": [
      "[0 0 0 0 0 0 0 1 0 1 0 1 0 1 0 0 1 1 0 1 1 0 1 0 0 0 1 1 0 0 0 0 1 0 1 0 1\n",
      " 0 0 0 0 0 1 0 0 0 0 0 1 1 0 0 1 1 0 1 1 0 0 0 0 0 0 1 0 0 0 1 1 0 0 1 0 0\n",
      " 0 1 1 0 0 0 1 1 0 0 0 0 0 0 0 0 1 1 0 0 0 0 0 0 0 1 0 1 0 0 1 0 0 0 1 0 0\n",
      " 0 0 0 0 0 0 1 0 0 1 0 1 0 0 0 1 0 0 0 0 0 0 0 0 1 1 1 0 0 0 1 1 0 0 0 0 1\n",
      " 0 0 0 0 1 1 0 1 0 1 1 1 0 0 0 0 1 0 1 0 0 1 0 0 0 0 0 0 1 0 1 1 1 1 1 1 0\n",
      " 0 1 0 0 0 0 0 0 1 0 0 0 0 0 1 1 0 1 0 0 1 0 0 1 0 0 0 0 0 0 0 1 0 0 0 1 0\n",
      " 0 0 0 0 0 0 0 0 0 1 0 1 0 0 1 0 0 1 0 1 1 1 0 0 0 0 0 0 1 1 0 0 0 0 0 1 0\n",
      " 0 0 1 0 0 1 0 0 1 0 0 0 0 0 0 0 0 0 1 1 0 1 1 0 0 1 0 0 1 1 1 1 0 0 0 1 0\n",
      " 0 0 1 0 0 0 0 1 0 0 0 0 0 1 1 1 1 0 0 0 0 1 1 1 0 0 0 0 0 0 1 1 0 0 0 1 0\n",
      " 1 0 0 0 1 0 1 0 0 1 1 1 1 0 1 0 0 1 1 1 0 0 1 0 0 0 1 0 1 0 0 1 1 0 1 0 1\n",
      " 0 0 0 0 0 0 1 0 0 0 0 0 1 1 0 0 0 0 0 0 0 1 0 1 0 1 1 1 0 1 0 1 0 0 0 0 0\n",
      " 1 0 1 1 0 0 0 1 1 1 1 1 0 1 1 0 0 1 0 0 1 0 1 1 1 0 1 0 0 1 0 0 0 0 1 1 0\n",
      " 0 1 1 0 1 0 1 0 1 1 0 0 0 1 0 0 0 0 1 1 0 0 0 0 1 0 0 1 0 1 0 0 1 0 0 1 0\n",
      " 0 0 1 0 1 1 0 0 0 0 0 0 1 0 0 0 1 1 0 0 0 0 0 0 0 0 0 0 1 0 0 1 0 0 0 0 0\n",
      " 0 1 0 0 0 0 0 1 0 0 0 0 1 0 0 0 1 0 0 0 1 1 1 1 1 0 1 0 1 0 0 0 0 0 0 1 0\n",
      " 1 1 0 1 0 0 0 0 0 0 0 0 1 1 0 0 1 1 0 0 0 1 1 1 1 0 0 0 0 1 0 0 1 1 0 0 0\n",
      " 0 0 0 1 0 0 1 1 0 1 0 0 1 0 0 1 1 1 0 0 1 1 1 1 0 0 1 1 1 0 1 1 0 0 0 1 1\n",
      " 1 1 0 1 1 0 0 0 0 0 0 1 0 1 0 0 1 0 0 1 1 0 1 0 0 0 0 0 0 0 0 1 0 0 0 1 0\n",
      " 1 1 1 0 1 0 0 0 0 1 0 1 1 0 0 1 1 1 0 0 0 1 1 0 0 0 0 1 0 0 0 1 1 1 0 0 0\n",
      " 1 1 1 0 0 1 0 0 0 0 1 0 0 1 1 0 0 1 0 0 0 1 0 0 1 1 1 1 1 1 0 0 0 1 1 1 1\n",
      " 0 1 0 0 0 0 0 0 0 0 1 1 0 0 1 0 0 1 0 1 1 0 1 1 1 0 0 1 0 0 1 0 0 1 0 0 1\n",
      " 0 0 1 0 0 0 0 1 0 0 0 0 0 0 0 0 0 1 0 0 1 0 1 0 1 0 0 1 0 0 0 0 1 0 1 0 1\n",
      " 1 0 0 0 1 0 1 0 0 0 0 0 1 1 1 1 1 1 1 1 1 0 1 0 0 0 0 0 0 0 0 0 0 0 1 1 1\n",
      " 0 0 1 0 0 0 1 0 0 0 1 1 0 0 0 0 0 0 0 1 1 1 0 0]\n"
     ]
    }
   ],
   "source": [
    "train_predictions = autism_log_reg.predict(X_train_reduc)\n",
    "print(train_predictions)\n"
   ]
  },
  {
   "cell_type": "code",
   "execution_count": 221,
   "metadata": {},
   "outputs": [
    {
     "data": {
      "text/plain": [
       "6       0\n",
       "791     0\n",
       "1055    0\n",
       "839     0\n",
       "663     0\n",
       "       ..\n",
       "332     1\n",
       "468     1\n",
       "123     1\n",
       "1050    0\n",
       "863     0\n",
       "Name: class, Length: 875, dtype: int64"
      ]
     },
     "execution_count": 221,
     "metadata": {},
     "output_type": "execute_result"
    }
   ],
   "source": [
    "y_train"
   ]
  },
  {
   "cell_type": "code",
   "execution_count": 211,
   "metadata": {},
   "outputs": [
    {
     "data": {
      "text/plain": [
       "(array([\"age_desc_'12-15 years'\", \"age_desc_'12-16 years'\",\n",
       "        \"age_desc_'18 and more'\", \"age_desc_'4-11 years'\",\n",
       "        \"ethnicity_'Middle Eastern '\", \"ethnicity_'South Asian'\",\n",
       "        'ethnicity_Asian', 'ethnicity_Black', 'ethnicity_Hispanic',\n",
       "        'ethnicity_Latino', 'ethnicity_Others', 'ethnicity_Pasifika',\n",
       "        'ethnicity_Turkish', 'ethnicity_White-European',\n",
       "        'ethnicity_others', \"relation_'Health care professional'\",\n",
       "        'relation_Others', 'relation_Parent', 'relation_Relative',\n",
       "        'relation_Self'], dtype=object),\n",
       " array([1, 2, 2, 2, 2, 2, 2, 2, 2, 2, 2, 2, 2, 2, 1, 2, 2, 2, 2, 2],\n",
       "       dtype=int64))"
      ]
     },
     "execution_count": 211,
     "metadata": {},
     "output_type": "execute_result"
    }
   ],
   "source": [
    "features = X_train_dummy.columns.append(X_test_dummy.columns)\n",
    "np.unique(features, return_counts = True)"
   ]
  },
  {
   "cell_type": "markdown",
   "metadata": {},
   "source": [
    "Viendo el resultado del feature importance, las variables \"\"age_desc_'12-15 years'\" y 'ethnicity_others' son prescindibles, así que las elimino del X_train."
   ]
  },
  {
   "cell_type": "code",
   "execution_count": 212,
   "metadata": {},
   "outputs": [],
   "source": [
    "X_train_reduc = X_train_encod.drop([\"age_desc_'12-15 years'\", 'ethnicity_others'], axis = 'columns')"
   ]
  },
  {
   "cell_type": "code",
   "execution_count": 213,
   "metadata": {},
   "outputs": [
    {
     "data": {
      "text/plain": [
       "LogisticRegression()"
      ]
     },
     "execution_count": 213,
     "metadata": {},
     "output_type": "execute_result"
    }
   ],
   "source": [
    "autism_log_reg.fit(X_train_reduc,y_train)"
   ]
  },
  {
   "cell_type": "code",
   "execution_count": 214,
   "metadata": {},
   "outputs": [],
   "source": [
    "train_predictions = autism_log_reg.predict(X_train_reduc)"
   ]
  },
  {
   "cell_type": "code",
   "execution_count": 215,
   "metadata": {},
   "outputs": [
    {
     "name": "stdout",
     "output_type": "stream",
     "text": [
      "<class 'pandas.core.frame.DataFrame'>\n",
      "Int64Index: 219 entries, 484 to 2\n",
      "Data columns (total 33 columns):\n",
      " #   Column                               Non-Null Count  Dtype\n",
      "---  ------                               --------------  -----\n",
      " 0   A1_score                             219 non-null    int64\n",
      " 1   A2_score                             219 non-null    int64\n",
      " 2   A3_score                             219 non-null    int64\n",
      " 3   A4_score                             219 non-null    int64\n",
      " 4   A5_score                             219 non-null    int64\n",
      " 5   A6_score                             219 non-null    int64\n",
      " 6   A7_score                             219 non-null    int64\n",
      " 7   A8_score                             219 non-null    int64\n",
      " 8   A9_score                             219 non-null    int64\n",
      " 9   A10_score                            219 non-null    int64\n",
      " 10  screening_score                      219 non-null    int64\n",
      " 11  sex                                  219 non-null    int64\n",
      " 12  jaundice                             219 non-null    int64\n",
      " 13  fam_history_PDD                      219 non-null    int64\n",
      " 14  age_num                              219 non-null    int32\n",
      " 15  ethnicity_'Middle Eastern '          219 non-null    uint8\n",
      " 16  ethnicity_'South Asian'              219 non-null    uint8\n",
      " 17  ethnicity_Asian                      219 non-null    uint8\n",
      " 18  ethnicity_Black                      219 non-null    uint8\n",
      " 19  ethnicity_Hispanic                   219 non-null    uint8\n",
      " 20  ethnicity_Latino                     219 non-null    uint8\n",
      " 21  ethnicity_Others                     219 non-null    uint8\n",
      " 22  ethnicity_Pasifika                   219 non-null    uint8\n",
      " 23  ethnicity_Turkish                    219 non-null    uint8\n",
      " 24  ethnicity_White-European             219 non-null    uint8\n",
      " 25  age_desc_'12-16 years'               219 non-null    uint8\n",
      " 26  age_desc_'18 and more'               219 non-null    uint8\n",
      " 27  age_desc_'4-11 years'                219 non-null    uint8\n",
      " 28  relation_'Health care professional'  219 non-null    uint8\n",
      " 29  relation_Others                      219 non-null    uint8\n",
      " 30  relation_Parent                      219 non-null    uint8\n",
      " 31  relation_Relative                    219 non-null    uint8\n",
      " 32  relation_Self                        219 non-null    uint8\n",
      "dtypes: int32(1), int64(14), uint8(18)\n",
      "memory usage: 30.4 KB\n"
     ]
    }
   ],
   "source": [
    "X_test_encod.info()"
   ]
  },
  {
   "cell_type": "code",
   "execution_count": 188,
   "metadata": {},
   "outputs": [
    {
     "ename": "ValueError",
     "evalue": "could not convert string to float: 'm'",
     "output_type": "error",
     "traceback": [
      "\u001b[1;31m---------------------------------------------------------------------------\u001b[0m",
      "\u001b[1;31mValueError\u001b[0m                                Traceback (most recent call last)",
      "\u001b[1;32m<ipython-input-188-3a51f892d49b>\u001b[0m in \u001b[0;36m<module>\u001b[1;34m\u001b[0m\n\u001b[1;32m----> 1\u001b[1;33m \u001b[0mtest_predictions\u001b[0m \u001b[1;33m=\u001b[0m \u001b[0mautism_log_reg\u001b[0m\u001b[1;33m.\u001b[0m\u001b[0mpredict\u001b[0m\u001b[1;33m(\u001b[0m\u001b[0mX_test_encod\u001b[0m\u001b[1;33m)\u001b[0m\u001b[1;33m\u001b[0m\u001b[1;33m\u001b[0m\u001b[0m\n\u001b[0m",
      "\u001b[1;32m~\\anaconda3\\lib\\site-packages\\sklearn\\linear_model\\_base.py\u001b[0m in \u001b[0;36mpredict\u001b[1;34m(self, X)\u001b[0m\n\u001b[0;32m    307\u001b[0m             \u001b[0mPredicted\u001b[0m \u001b[1;32mclass\u001b[0m \u001b[0mlabel\u001b[0m \u001b[0mper\u001b[0m \u001b[0msample\u001b[0m\u001b[1;33m.\u001b[0m\u001b[1;33m\u001b[0m\u001b[1;33m\u001b[0m\u001b[0m\n\u001b[0;32m    308\u001b[0m         \"\"\"\n\u001b[1;32m--> 309\u001b[1;33m         \u001b[0mscores\u001b[0m \u001b[1;33m=\u001b[0m \u001b[0mself\u001b[0m\u001b[1;33m.\u001b[0m\u001b[0mdecision_function\u001b[0m\u001b[1;33m(\u001b[0m\u001b[0mX\u001b[0m\u001b[1;33m)\u001b[0m\u001b[1;33m\u001b[0m\u001b[1;33m\u001b[0m\u001b[0m\n\u001b[0m\u001b[0;32m    310\u001b[0m         \u001b[1;32mif\u001b[0m \u001b[0mlen\u001b[0m\u001b[1;33m(\u001b[0m\u001b[0mscores\u001b[0m\u001b[1;33m.\u001b[0m\u001b[0mshape\u001b[0m\u001b[1;33m)\u001b[0m \u001b[1;33m==\u001b[0m \u001b[1;36m1\u001b[0m\u001b[1;33m:\u001b[0m\u001b[1;33m\u001b[0m\u001b[1;33m\u001b[0m\u001b[0m\n\u001b[0;32m    311\u001b[0m             \u001b[0mindices\u001b[0m \u001b[1;33m=\u001b[0m \u001b[1;33m(\u001b[0m\u001b[0mscores\u001b[0m \u001b[1;33m>\u001b[0m \u001b[1;36m0\u001b[0m\u001b[1;33m)\u001b[0m\u001b[1;33m.\u001b[0m\u001b[0mastype\u001b[0m\u001b[1;33m(\u001b[0m\u001b[0mint\u001b[0m\u001b[1;33m)\u001b[0m\u001b[1;33m\u001b[0m\u001b[1;33m\u001b[0m\u001b[0m\n",
      "\u001b[1;32m~\\anaconda3\\lib\\site-packages\\sklearn\\linear_model\\_base.py\u001b[0m in \u001b[0;36mdecision_function\u001b[1;34m(self, X)\u001b[0m\n\u001b[0;32m    282\u001b[0m         \u001b[0mcheck_is_fitted\u001b[0m\u001b[1;33m(\u001b[0m\u001b[0mself\u001b[0m\u001b[1;33m)\u001b[0m\u001b[1;33m\u001b[0m\u001b[1;33m\u001b[0m\u001b[0m\n\u001b[0;32m    283\u001b[0m \u001b[1;33m\u001b[0m\u001b[0m\n\u001b[1;32m--> 284\u001b[1;33m         \u001b[0mX\u001b[0m \u001b[1;33m=\u001b[0m \u001b[0mcheck_array\u001b[0m\u001b[1;33m(\u001b[0m\u001b[0mX\u001b[0m\u001b[1;33m,\u001b[0m \u001b[0maccept_sparse\u001b[0m\u001b[1;33m=\u001b[0m\u001b[1;34m'csr'\u001b[0m\u001b[1;33m)\u001b[0m\u001b[1;33m\u001b[0m\u001b[1;33m\u001b[0m\u001b[0m\n\u001b[0m\u001b[0;32m    285\u001b[0m \u001b[1;33m\u001b[0m\u001b[0m\n\u001b[0;32m    286\u001b[0m         \u001b[0mn_features\u001b[0m \u001b[1;33m=\u001b[0m \u001b[0mself\u001b[0m\u001b[1;33m.\u001b[0m\u001b[0mcoef_\u001b[0m\u001b[1;33m.\u001b[0m\u001b[0mshape\u001b[0m\u001b[1;33m[\u001b[0m\u001b[1;36m1\u001b[0m\u001b[1;33m]\u001b[0m\u001b[1;33m\u001b[0m\u001b[1;33m\u001b[0m\u001b[0m\n",
      "\u001b[1;32m~\\anaconda3\\lib\\site-packages\\sklearn\\utils\\validation.py\u001b[0m in \u001b[0;36minner_f\u001b[1;34m(*args, **kwargs)\u001b[0m\n\u001b[0;32m     61\u001b[0m             \u001b[0mextra_args\u001b[0m \u001b[1;33m=\u001b[0m \u001b[0mlen\u001b[0m\u001b[1;33m(\u001b[0m\u001b[0margs\u001b[0m\u001b[1;33m)\u001b[0m \u001b[1;33m-\u001b[0m \u001b[0mlen\u001b[0m\u001b[1;33m(\u001b[0m\u001b[0mall_args\u001b[0m\u001b[1;33m)\u001b[0m\u001b[1;33m\u001b[0m\u001b[1;33m\u001b[0m\u001b[0m\n\u001b[0;32m     62\u001b[0m             \u001b[1;32mif\u001b[0m \u001b[0mextra_args\u001b[0m \u001b[1;33m<=\u001b[0m \u001b[1;36m0\u001b[0m\u001b[1;33m:\u001b[0m\u001b[1;33m\u001b[0m\u001b[1;33m\u001b[0m\u001b[0m\n\u001b[1;32m---> 63\u001b[1;33m                 \u001b[1;32mreturn\u001b[0m \u001b[0mf\u001b[0m\u001b[1;33m(\u001b[0m\u001b[1;33m*\u001b[0m\u001b[0margs\u001b[0m\u001b[1;33m,\u001b[0m \u001b[1;33m**\u001b[0m\u001b[0mkwargs\u001b[0m\u001b[1;33m)\u001b[0m\u001b[1;33m\u001b[0m\u001b[1;33m\u001b[0m\u001b[0m\n\u001b[0m\u001b[0;32m     64\u001b[0m \u001b[1;33m\u001b[0m\u001b[0m\n\u001b[0;32m     65\u001b[0m             \u001b[1;31m# extra_args > 0\u001b[0m\u001b[1;33m\u001b[0m\u001b[1;33m\u001b[0m\u001b[1;33m\u001b[0m\u001b[0m\n",
      "\u001b[1;32m~\\anaconda3\\lib\\site-packages\\sklearn\\utils\\validation.py\u001b[0m in \u001b[0;36mcheck_array\u001b[1;34m(array, accept_sparse, accept_large_sparse, dtype, order, copy, force_all_finite, ensure_2d, allow_nd, ensure_min_samples, ensure_min_features, estimator)\u001b[0m\n\u001b[0;32m    614\u001b[0m                     \u001b[0marray\u001b[0m \u001b[1;33m=\u001b[0m \u001b[0marray\u001b[0m\u001b[1;33m.\u001b[0m\u001b[0mastype\u001b[0m\u001b[1;33m(\u001b[0m\u001b[0mdtype\u001b[0m\u001b[1;33m,\u001b[0m \u001b[0mcasting\u001b[0m\u001b[1;33m=\u001b[0m\u001b[1;34m\"unsafe\"\u001b[0m\u001b[1;33m,\u001b[0m \u001b[0mcopy\u001b[0m\u001b[1;33m=\u001b[0m\u001b[1;32mFalse\u001b[0m\u001b[1;33m)\u001b[0m\u001b[1;33m\u001b[0m\u001b[1;33m\u001b[0m\u001b[0m\n\u001b[0;32m    615\u001b[0m                 \u001b[1;32melse\u001b[0m\u001b[1;33m:\u001b[0m\u001b[1;33m\u001b[0m\u001b[1;33m\u001b[0m\u001b[0m\n\u001b[1;32m--> 616\u001b[1;33m                     \u001b[0marray\u001b[0m \u001b[1;33m=\u001b[0m \u001b[0mnp\u001b[0m\u001b[1;33m.\u001b[0m\u001b[0masarray\u001b[0m\u001b[1;33m(\u001b[0m\u001b[0marray\u001b[0m\u001b[1;33m,\u001b[0m \u001b[0morder\u001b[0m\u001b[1;33m=\u001b[0m\u001b[0morder\u001b[0m\u001b[1;33m,\u001b[0m \u001b[0mdtype\u001b[0m\u001b[1;33m=\u001b[0m\u001b[0mdtype\u001b[0m\u001b[1;33m)\u001b[0m\u001b[1;33m\u001b[0m\u001b[1;33m\u001b[0m\u001b[0m\n\u001b[0m\u001b[0;32m    617\u001b[0m             \u001b[1;32mexcept\u001b[0m \u001b[0mComplexWarning\u001b[0m \u001b[1;32mas\u001b[0m \u001b[0mcomplex_warning\u001b[0m\u001b[1;33m:\u001b[0m\u001b[1;33m\u001b[0m\u001b[1;33m\u001b[0m\u001b[0m\n\u001b[0;32m    618\u001b[0m                 raise ValueError(\"Complex data not supported\\n\"\n",
      "\u001b[1;32m~\\anaconda3\\lib\\site-packages\\numpy\\core\\_asarray.py\u001b[0m in \u001b[0;36masarray\u001b[1;34m(a, dtype, order)\u001b[0m\n\u001b[0;32m     81\u001b[0m \u001b[1;33m\u001b[0m\u001b[0m\n\u001b[0;32m     82\u001b[0m     \"\"\"\n\u001b[1;32m---> 83\u001b[1;33m     \u001b[1;32mreturn\u001b[0m \u001b[0marray\u001b[0m\u001b[1;33m(\u001b[0m\u001b[0ma\u001b[0m\u001b[1;33m,\u001b[0m \u001b[0mdtype\u001b[0m\u001b[1;33m,\u001b[0m \u001b[0mcopy\u001b[0m\u001b[1;33m=\u001b[0m\u001b[1;32mFalse\u001b[0m\u001b[1;33m,\u001b[0m \u001b[0morder\u001b[0m\u001b[1;33m=\u001b[0m\u001b[0morder\u001b[0m\u001b[1;33m)\u001b[0m\u001b[1;33m\u001b[0m\u001b[1;33m\u001b[0m\u001b[0m\n\u001b[0m\u001b[0;32m     84\u001b[0m \u001b[1;33m\u001b[0m\u001b[0m\n\u001b[0;32m     85\u001b[0m \u001b[1;33m\u001b[0m\u001b[0m\n",
      "\u001b[1;32m~\\anaconda3\\lib\\site-packages\\pandas\\core\\generic.py\u001b[0m in \u001b[0;36m__array__\u001b[1;34m(self, dtype)\u001b[0m\n\u001b[0;32m   1779\u001b[0m \u001b[1;33m\u001b[0m\u001b[0m\n\u001b[0;32m   1780\u001b[0m     \u001b[1;32mdef\u001b[0m \u001b[0m__array__\u001b[0m\u001b[1;33m(\u001b[0m\u001b[0mself\u001b[0m\u001b[1;33m,\u001b[0m \u001b[0mdtype\u001b[0m\u001b[1;33m=\u001b[0m\u001b[1;32mNone\u001b[0m\u001b[1;33m)\u001b[0m \u001b[1;33m->\u001b[0m \u001b[0mnp\u001b[0m\u001b[1;33m.\u001b[0m\u001b[0mndarray\u001b[0m\u001b[1;33m:\u001b[0m\u001b[1;33m\u001b[0m\u001b[1;33m\u001b[0m\u001b[0m\n\u001b[1;32m-> 1781\u001b[1;33m         \u001b[1;32mreturn\u001b[0m \u001b[0mnp\u001b[0m\u001b[1;33m.\u001b[0m\u001b[0masarray\u001b[0m\u001b[1;33m(\u001b[0m\u001b[0mself\u001b[0m\u001b[1;33m.\u001b[0m\u001b[0m_values\u001b[0m\u001b[1;33m,\u001b[0m \u001b[0mdtype\u001b[0m\u001b[1;33m=\u001b[0m\u001b[0mdtype\u001b[0m\u001b[1;33m)\u001b[0m\u001b[1;33m\u001b[0m\u001b[1;33m\u001b[0m\u001b[0m\n\u001b[0m\u001b[0;32m   1782\u001b[0m \u001b[1;33m\u001b[0m\u001b[0m\n\u001b[0;32m   1783\u001b[0m     \u001b[1;32mdef\u001b[0m \u001b[0m__array_wrap__\u001b[0m\u001b[1;33m(\u001b[0m\u001b[0mself\u001b[0m\u001b[1;33m,\u001b[0m \u001b[0mresult\u001b[0m\u001b[1;33m,\u001b[0m \u001b[0mcontext\u001b[0m\u001b[1;33m=\u001b[0m\u001b[1;32mNone\u001b[0m\u001b[1;33m)\u001b[0m\u001b[1;33m:\u001b[0m\u001b[1;33m\u001b[0m\u001b[1;33m\u001b[0m\u001b[0m\n",
      "\u001b[1;32m~\\anaconda3\\lib\\site-packages\\numpy\\core\\_asarray.py\u001b[0m in \u001b[0;36masarray\u001b[1;34m(a, dtype, order)\u001b[0m\n\u001b[0;32m     81\u001b[0m \u001b[1;33m\u001b[0m\u001b[0m\n\u001b[0;32m     82\u001b[0m     \"\"\"\n\u001b[1;32m---> 83\u001b[1;33m     \u001b[1;32mreturn\u001b[0m \u001b[0marray\u001b[0m\u001b[1;33m(\u001b[0m\u001b[0ma\u001b[0m\u001b[1;33m,\u001b[0m \u001b[0mdtype\u001b[0m\u001b[1;33m,\u001b[0m \u001b[0mcopy\u001b[0m\u001b[1;33m=\u001b[0m\u001b[1;32mFalse\u001b[0m\u001b[1;33m,\u001b[0m \u001b[0morder\u001b[0m\u001b[1;33m=\u001b[0m\u001b[0morder\u001b[0m\u001b[1;33m)\u001b[0m\u001b[1;33m\u001b[0m\u001b[1;33m\u001b[0m\u001b[0m\n\u001b[0m\u001b[0;32m     84\u001b[0m \u001b[1;33m\u001b[0m\u001b[0m\n\u001b[0;32m     85\u001b[0m \u001b[1;33m\u001b[0m\u001b[0m\n",
      "\u001b[1;31mValueError\u001b[0m: could not convert string to float: 'm'"
     ]
    }
   ],
   "source": [
    "test_predictions = autism_log_reg.predict(X_test_encod)"
   ]
  },
  {
   "cell_type": "code",
   "execution_count": null,
   "metadata": {},
   "outputs": [],
   "source": []
  },
  {
   "cell_type": "code",
   "execution_count": null,
   "metadata": {},
   "outputs": [],
   "source": []
  },
  {
   "cell_type": "markdown",
   "metadata": {},
   "source": [
    "#### Accuracy"
   ]
  },
  {
   "cell_type": "code",
   "execution_count": 217,
   "metadata": {},
   "outputs": [
    {
     "name": "stdout",
     "output_type": "stream",
     "text": [
      "Acc train: 1.0\n"
     ]
    }
   ],
   "source": [
    "from sklearn.metrics import accuracy_score\n",
    "\n",
    "acc_train = accuracy_score(train_predictions, y_train)\n",
    "print(\"Acc train:\", acc_train)\n"
   ]
  },
  {
   "cell_type": "code",
   "execution_count": null,
   "metadata": {},
   "outputs": [],
   "source": []
  }
 ],
 "metadata": {
  "kernelspec": {
   "display_name": "Python 3",
   "language": "python",
   "name": "python3"
  },
  "language_info": {
   "codemirror_mode": {
    "name": "ipython",
    "version": 3
   },
   "file_extension": ".py",
   "mimetype": "text/x-python",
   "name": "python",
   "nbconvert_exporter": "python",
   "pygments_lexer": "ipython3",
   "version": "3.8.5"
  }
 },
 "nbformat": 4,
 "nbformat_minor": 4
}
