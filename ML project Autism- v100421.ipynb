{
 "cells": [
  {
   "cell_type": "markdown",
   "metadata": {},
   "source": [
    "# Detección de los trastornos del espectro autista (TEA) usando técnicas de machine learning\n",
    "### Julia María Martínez Tapia \n",
    "#### 31 de marzo de 2021"
   ]
  },
  {
   "cell_type": "markdown",
   "metadata": {},
   "source": [
    "## Introducción "
   ]
  },
  {
   "cell_type": "markdown",
   "metadata": {},
   "source": [
    "**Los trastornos del espectro autista (TEA) son un grupo de afecciones caracterizadas por algún grado de alteración del comportamiento social, la comunicación y el lenguaje, y por un repertorio de intereses y actividades restringido, estereotipado y repetitivo.** \n",
    "\n",
    "La evidencia científica disponible indica la existencia de múltiples factores, entre ellos los genéticos y ambientales, que hacen más probable que un niño pueda padecer un TEA\n",
    "\n",
    "Los TEA aparecen en la infancia y tienden a persistir hasta la adolescencia y la edad adulta. En la mayoría de los casos se manifiestan en los primeros 5 años de vida y se presentan cuatro veces más en hombres que en mujeres. Conllevan a menudo afecciones comórbidas, como epilepsia, depresión, ansiedad y trastorno de déficit de atención e hiperactividad.\n",
    "\n",
    "Las personas con TEA a menudo son objeto de estigmatización y discriminación, que incluye la privación injusta de atención sanitaria, educación y oportunidades para participar en sus comunidades.\n",
    "\n",
    "**Estos trastornos suponen una enorme carga emocional y económica para las personas que los padecen y para sus familiares.** \n",
    "\n",
    "Segun la Organización Mundial de la Salud, se calcula que uno de cada 160 niños tiene un TEA. Esta estimación representa una cifra media, pues la prevalencia observada varía considerablemente entre los distintos estudios. No obstante, en algunos estudios bien controlados se han registrado cifras notablemente mayores. \n",
    "\n",
    "Según los estudios epidemiológicos realizados en los últimos 50 años, la prevalencia mundial de estos trastornos parece estar aumentando. Hay muchas explicaciones posibles para este aparente incremento de la prevalencia, entre ellas una mayor concienciación, la ampliación de los criterios diagnósticos, mejores herramientas diagnósticas y mejor comunicación.\n",
    "\n",
    "**La intervención en la primera infancia es muy importante para optimizar el desarrollo y bienestar de las personas con un TEA. Por lo tanto, la detección temprana de esta enfermedad es clave para el bienestar de las personas que lo padecen.** \n",
    "\n",
    "Sin embargo existen otros trastornos mentales cuyos síntomas son muy similares a los TEA, por lo que la detección es una tarea  difícil \n",
    "\n",
    "**Con el auge de la aplicación de modelos basados en aprendizaje automático en las predicciones de diversas enfermedades humanas, ahora parece posible su detección temprana basada en diversos parámetros fisiológicos y de salud.**"
   ]
  },
  {
   "cell_type": "markdown",
   "metadata": {},
   "source": [
    "## Objetivo del proyecto\n",
    "\n"
   ]
  },
  {
   "cell_type": "markdown",
   "metadata": {},
   "source": [
    "**El objetivo del presente trabajo es evaluar la utilidad de varios modelos de machine learning en la predicción de casos de autismo.** \n",
    "\n",
    "El dataset utilizado procede de la fusión de tres datasets publicamente disponibles en el repositorio UCI.\n",
    "\n",
    "Fadi Fayez Thabtah (2017), “Autistic Spectrum Disorder Screening Data for Adult” https://archive.ics.uci.edu/ml/machine-learning-databases/00426/\n",
    "\n",
    "Fadi Fayez Thabtah (2017), “Autistic Spectrum Disorder Screening Data for children\" https://archive.ics.uci.edu/ml/machine-learning-databases/00419/\n",
    "\n",
    "adi Fayez Thabtah (2017), “Autistic Spectrum Disorder Screening Data for Adolescent” https://archive.ics.uci.edu/ml/machine-learning-databases/00420/\n",
    "\n",
    "El dataset contiene 20 variables independientes, una columna target y 1100 registros.\n",
    "\n",
    "Las variables independientes consisten en diez indicadores de comportamiento (behavioural features) y diez carácterísticas individuales que han probado su efectividad para detectar casos de TEA a partir de controles obtenidos de la ciencia del comportamiento.   \n",
    "\n",
    "Se puede encontrar la descripción de las variables en este [enlace](https://www.kaggle.com/faizunnabi/autism-screening)"
   ]
  },
  {
   "cell_type": "markdown",
   "metadata": {},
   "source": [
    "## I. Análisis exploratorio de datos (EDA)"
   ]
  },
  {
   "cell_type": "code",
   "execution_count": 56,
   "metadata": {},
   "outputs": [],
   "source": [
    "import numpy as np # linear algebra\n",
    "import pandas as pd # data processing, CSV file I/O (e.g. pd.read_csv)\n",
    "import matplotlib.pyplot as plt\n",
    "import seaborn as sns\n",
    "import sklearn as sk\n",
    "import plotly.express as px\n",
    "import warnings\n",
    "\n",
    "warnings.filterwarnings(\"ignore\")"
   ]
  },
  {
   "cell_type": "markdown",
   "metadata": {},
   "source": [
    "### 1. Análisis preliminar de los datos"
   ]
  },
  {
   "cell_type": "code",
   "execution_count": 2,
   "metadata": {},
   "outputs": [],
   "source": [
    "#1. Carga de los datos"
   ]
  },
  {
   "cell_type": "code",
   "execution_count": 57,
   "metadata": {},
   "outputs": [],
   "source": [
    "raw_data = pd.read_excel(\"Autism_todos_raw_data.xlsx\")"
   ]
  },
  {
   "cell_type": "code",
   "execution_count": 4,
   "metadata": {
    "collapsed": true,
    "jupyter": {
     "outputs_hidden": true
    }
   },
   "outputs": [
    {
     "data": {
      "text/html": [
       "<div>\n",
       "<style scoped>\n",
       "    .dataframe tbody tr th:only-of-type {\n",
       "        vertical-align: middle;\n",
       "    }\n",
       "\n",
       "    .dataframe tbody tr th {\n",
       "        vertical-align: top;\n",
       "    }\n",
       "\n",
       "    .dataframe thead th {\n",
       "        text-align: right;\n",
       "    }\n",
       "</style>\n",
       "<table border=\"1\" class=\"dataframe\">\n",
       "  <thead>\n",
       "    <tr style=\"text-align: right;\">\n",
       "      <th></th>\n",
       "      <th>A1_score</th>\n",
       "      <th>A2_score</th>\n",
       "      <th>A3_score</th>\n",
       "      <th>A4_score</th>\n",
       "      <th>A5_score</th>\n",
       "      <th>A6_score</th>\n",
       "      <th>A7_score</th>\n",
       "      <th>A8_score</th>\n",
       "      <th>A9_score</th>\n",
       "      <th>A10_score</th>\n",
       "      <th>...</th>\n",
       "      <th>sex</th>\n",
       "      <th>ethnicity</th>\n",
       "      <th>jaundice</th>\n",
       "      <th>fam_history_PDD</th>\n",
       "      <th>country_of_res</th>\n",
       "      <th>used_app_before</th>\n",
       "      <th>age_num</th>\n",
       "      <th>age_desc</th>\n",
       "      <th>relation</th>\n",
       "      <th>class</th>\n",
       "    </tr>\n",
       "  </thead>\n",
       "  <tbody>\n",
       "    <tr>\n",
       "      <th>0</th>\n",
       "      <td>1</td>\n",
       "      <td>1</td>\n",
       "      <td>1</td>\n",
       "      <td>1</td>\n",
       "      <td>0</td>\n",
       "      <td>0</td>\n",
       "      <td>1</td>\n",
       "      <td>1</td>\n",
       "      <td>0</td>\n",
       "      <td>0</td>\n",
       "      <td>...</td>\n",
       "      <td>f</td>\n",
       "      <td>White-European</td>\n",
       "      <td>no</td>\n",
       "      <td>no</td>\n",
       "      <td>'United States'</td>\n",
       "      <td>no</td>\n",
       "      <td>26.0</td>\n",
       "      <td>'18 and more'</td>\n",
       "      <td>Self</td>\n",
       "      <td>NO</td>\n",
       "    </tr>\n",
       "    <tr>\n",
       "      <th>1</th>\n",
       "      <td>1</td>\n",
       "      <td>1</td>\n",
       "      <td>0</td>\n",
       "      <td>1</td>\n",
       "      <td>0</td>\n",
       "      <td>0</td>\n",
       "      <td>0</td>\n",
       "      <td>1</td>\n",
       "      <td>0</td>\n",
       "      <td>1</td>\n",
       "      <td>...</td>\n",
       "      <td>m</td>\n",
       "      <td>Latino</td>\n",
       "      <td>no</td>\n",
       "      <td>yes</td>\n",
       "      <td>Brazil</td>\n",
       "      <td>no</td>\n",
       "      <td>24.0</td>\n",
       "      <td>'18 and more'</td>\n",
       "      <td>Self</td>\n",
       "      <td>NO</td>\n",
       "    </tr>\n",
       "    <tr>\n",
       "      <th>2</th>\n",
       "      <td>1</td>\n",
       "      <td>1</td>\n",
       "      <td>0</td>\n",
       "      <td>1</td>\n",
       "      <td>1</td>\n",
       "      <td>0</td>\n",
       "      <td>1</td>\n",
       "      <td>1</td>\n",
       "      <td>1</td>\n",
       "      <td>1</td>\n",
       "      <td>...</td>\n",
       "      <td>m</td>\n",
       "      <td>Latino</td>\n",
       "      <td>yes</td>\n",
       "      <td>yes</td>\n",
       "      <td>Spain</td>\n",
       "      <td>no</td>\n",
       "      <td>27.0</td>\n",
       "      <td>'18 and more'</td>\n",
       "      <td>Parent</td>\n",
       "      <td>YES</td>\n",
       "    </tr>\n",
       "    <tr>\n",
       "      <th>3</th>\n",
       "      <td>1</td>\n",
       "      <td>1</td>\n",
       "      <td>0</td>\n",
       "      <td>1</td>\n",
       "      <td>0</td>\n",
       "      <td>0</td>\n",
       "      <td>1</td>\n",
       "      <td>1</td>\n",
       "      <td>0</td>\n",
       "      <td>1</td>\n",
       "      <td>...</td>\n",
       "      <td>f</td>\n",
       "      <td>White-European</td>\n",
       "      <td>no</td>\n",
       "      <td>yes</td>\n",
       "      <td>'United States'</td>\n",
       "      <td>no</td>\n",
       "      <td>35.0</td>\n",
       "      <td>'18 and more'</td>\n",
       "      <td>Self</td>\n",
       "      <td>NO</td>\n",
       "    </tr>\n",
       "    <tr>\n",
       "      <th>4</th>\n",
       "      <td>1</td>\n",
       "      <td>0</td>\n",
       "      <td>0</td>\n",
       "      <td>0</td>\n",
       "      <td>0</td>\n",
       "      <td>0</td>\n",
       "      <td>0</td>\n",
       "      <td>1</td>\n",
       "      <td>0</td>\n",
       "      <td>0</td>\n",
       "      <td>...</td>\n",
       "      <td>f</td>\n",
       "      <td>NaN</td>\n",
       "      <td>no</td>\n",
       "      <td>no</td>\n",
       "      <td>Egypt</td>\n",
       "      <td>no</td>\n",
       "      <td>40.0</td>\n",
       "      <td>'18 and more'</td>\n",
       "      <td>NaN</td>\n",
       "      <td>NO</td>\n",
       "    </tr>\n",
       "    <tr>\n",
       "      <th>...</th>\n",
       "      <td>...</td>\n",
       "      <td>...</td>\n",
       "      <td>...</td>\n",
       "      <td>...</td>\n",
       "      <td>...</td>\n",
       "      <td>...</td>\n",
       "      <td>...</td>\n",
       "      <td>...</td>\n",
       "      <td>...</td>\n",
       "      <td>...</td>\n",
       "      <td>...</td>\n",
       "      <td>...</td>\n",
       "      <td>...</td>\n",
       "      <td>...</td>\n",
       "      <td>...</td>\n",
       "      <td>...</td>\n",
       "      <td>...</td>\n",
       "      <td>...</td>\n",
       "      <td>...</td>\n",
       "      <td>...</td>\n",
       "      <td>...</td>\n",
       "    </tr>\n",
       "    <tr>\n",
       "      <th>1095</th>\n",
       "      <td>1</td>\n",
       "      <td>1</td>\n",
       "      <td>1</td>\n",
       "      <td>1</td>\n",
       "      <td>1</td>\n",
       "      <td>1</td>\n",
       "      <td>1</td>\n",
       "      <td>1</td>\n",
       "      <td>1</td>\n",
       "      <td>1</td>\n",
       "      <td>...</td>\n",
       "      <td>f</td>\n",
       "      <td>White-European</td>\n",
       "      <td>yes</td>\n",
       "      <td>yes</td>\n",
       "      <td>'United Kingdom'</td>\n",
       "      <td>no</td>\n",
       "      <td>7.0</td>\n",
       "      <td>'4-11 years'</td>\n",
       "      <td>Parent</td>\n",
       "      <td>YES</td>\n",
       "    </tr>\n",
       "    <tr>\n",
       "      <th>1096</th>\n",
       "      <td>1</td>\n",
       "      <td>0</td>\n",
       "      <td>0</td>\n",
       "      <td>0</td>\n",
       "      <td>1</td>\n",
       "      <td>0</td>\n",
       "      <td>1</td>\n",
       "      <td>0</td>\n",
       "      <td>0</td>\n",
       "      <td>1</td>\n",
       "      <td>...</td>\n",
       "      <td>f</td>\n",
       "      <td>White-European</td>\n",
       "      <td>yes</td>\n",
       "      <td>yes</td>\n",
       "      <td>Australia</td>\n",
       "      <td>no</td>\n",
       "      <td>7.0</td>\n",
       "      <td>'4-11 years'</td>\n",
       "      <td>Parent</td>\n",
       "      <td>NO</td>\n",
       "    </tr>\n",
       "    <tr>\n",
       "      <th>1097</th>\n",
       "      <td>1</td>\n",
       "      <td>0</td>\n",
       "      <td>1</td>\n",
       "      <td>1</td>\n",
       "      <td>1</td>\n",
       "      <td>1</td>\n",
       "      <td>1</td>\n",
       "      <td>0</td>\n",
       "      <td>0</td>\n",
       "      <td>1</td>\n",
       "      <td>...</td>\n",
       "      <td>m</td>\n",
       "      <td>Latino</td>\n",
       "      <td>no</td>\n",
       "      <td>no</td>\n",
       "      <td>Brazil</td>\n",
       "      <td>no</td>\n",
       "      <td>4.0</td>\n",
       "      <td>'4-11 years'</td>\n",
       "      <td>Parent</td>\n",
       "      <td>YES</td>\n",
       "    </tr>\n",
       "    <tr>\n",
       "      <th>1098</th>\n",
       "      <td>1</td>\n",
       "      <td>1</td>\n",
       "      <td>1</td>\n",
       "      <td>0</td>\n",
       "      <td>1</td>\n",
       "      <td>1</td>\n",
       "      <td>1</td>\n",
       "      <td>1</td>\n",
       "      <td>1</td>\n",
       "      <td>1</td>\n",
       "      <td>...</td>\n",
       "      <td>m</td>\n",
       "      <td>'South Asian'</td>\n",
       "      <td>no</td>\n",
       "      <td>no</td>\n",
       "      <td>India</td>\n",
       "      <td>no</td>\n",
       "      <td>4.0</td>\n",
       "      <td>'4-11 years'</td>\n",
       "      <td>Parent</td>\n",
       "      <td>YES</td>\n",
       "    </tr>\n",
       "    <tr>\n",
       "      <th>1099</th>\n",
       "      <td>0</td>\n",
       "      <td>0</td>\n",
       "      <td>1</td>\n",
       "      <td>0</td>\n",
       "      <td>1</td>\n",
       "      <td>0</td>\n",
       "      <td>1</td>\n",
       "      <td>0</td>\n",
       "      <td>0</td>\n",
       "      <td>0</td>\n",
       "      <td>...</td>\n",
       "      <td>f</td>\n",
       "      <td>'South Asian'</td>\n",
       "      <td>no</td>\n",
       "      <td>no</td>\n",
       "      <td>India</td>\n",
       "      <td>no</td>\n",
       "      <td>4.0</td>\n",
       "      <td>'4-11 years'</td>\n",
       "      <td>Parent</td>\n",
       "      <td>NO</td>\n",
       "    </tr>\n",
       "  </tbody>\n",
       "</table>\n",
       "<p>1100 rows × 21 columns</p>\n",
       "</div>"
      ],
      "text/plain": [
       "      A1_score  A2_score  A3_score  A4_score  A5_score  A6_score  A7_score  \\\n",
       "0            1         1         1         1         0         0         1   \n",
       "1            1         1         0         1         0         0         0   \n",
       "2            1         1         0         1         1         0         1   \n",
       "3            1         1         0         1         0         0         1   \n",
       "4            1         0         0         0         0         0         0   \n",
       "...        ...       ...       ...       ...       ...       ...       ...   \n",
       "1095         1         1         1         1         1         1         1   \n",
       "1096         1         0         0         0         1         0         1   \n",
       "1097         1         0         1         1         1         1         1   \n",
       "1098         1         1         1         0         1         1         1   \n",
       "1099         0         0         1         0         1         0         1   \n",
       "\n",
       "      A8_score  A9_score  A10_score  ...  sex       ethnicity jaundice  \\\n",
       "0            1         0          0  ...    f  White-European       no   \n",
       "1            1         0          1  ...    m          Latino       no   \n",
       "2            1         1          1  ...    m          Latino      yes   \n",
       "3            1         0          1  ...    f  White-European       no   \n",
       "4            1         0          0  ...    f             NaN       no   \n",
       "...        ...       ...        ...  ...  ...             ...      ...   \n",
       "1095         1         1          1  ...    f  White-European      yes   \n",
       "1096         0         0          1  ...    f  White-European      yes   \n",
       "1097         0         0          1  ...    m          Latino       no   \n",
       "1098         1         1          1  ...    m   'South Asian'       no   \n",
       "1099         0         0          0  ...    f   'South Asian'       no   \n",
       "\n",
       "     fam_history_PDD    country_of_res used_app_before age_num       age_desc  \\\n",
       "0                 no   'United States'              no    26.0  '18 and more'   \n",
       "1                yes            Brazil              no    24.0  '18 and more'   \n",
       "2                yes             Spain              no    27.0  '18 and more'   \n",
       "3                yes   'United States'              no    35.0  '18 and more'   \n",
       "4                 no             Egypt              no    40.0  '18 and more'   \n",
       "...              ...               ...             ...     ...            ...   \n",
       "1095             yes  'United Kingdom'              no     7.0   '4-11 years'   \n",
       "1096             yes         Australia              no     7.0   '4-11 years'   \n",
       "1097              no            Brazil              no     4.0   '4-11 years'   \n",
       "1098              no             India              no     4.0   '4-11 years'   \n",
       "1099              no             India              no     4.0   '4-11 years'   \n",
       "\n",
       "     relation class  \n",
       "0        Self    NO  \n",
       "1        Self    NO  \n",
       "2      Parent   YES  \n",
       "3        Self    NO  \n",
       "4         NaN    NO  \n",
       "...       ...   ...  \n",
       "1095   Parent   YES  \n",
       "1096   Parent    NO  \n",
       "1097   Parent   YES  \n",
       "1098   Parent   YES  \n",
       "1099   Parent    NO  \n",
       "\n",
       "[1100 rows x 21 columns]"
      ]
     },
     "execution_count": 4,
     "metadata": {},
     "output_type": "execute_result"
    }
   ],
   "source": [
    "raw_data"
   ]
  },
  {
   "cell_type": "code",
   "execution_count": 3,
   "metadata": {
    "jupyter": {
     "outputs_hidden": true
    }
   },
   "outputs": [
    {
     "name": "stdout",
     "output_type": "stream",
     "text": [
      "<class 'pandas.core.frame.DataFrame'>\n",
      "RangeIndex: 1100 entries, 0 to 1099\n",
      "Data columns (total 21 columns):\n",
      " #   Column           Non-Null Count  Dtype  \n",
      "---  ------           --------------  -----  \n",
      " 0   A1_score         1100 non-null   int64  \n",
      " 1   A2_score         1100 non-null   int64  \n",
      " 2   A3_score         1100 non-null   int64  \n",
      " 3   A4_score         1100 non-null   int64  \n",
      " 4   A5_score         1100 non-null   int64  \n",
      " 5   A6_score         1100 non-null   int64  \n",
      " 6   A7_score         1100 non-null   int64  \n",
      " 7   A8_score         1100 non-null   int64  \n",
      " 8   A9_score         1100 non-null   int64  \n",
      " 9   A10_score        1100 non-null   int64  \n",
      " 10  screening_score  1100 non-null   int64  \n",
      " 11  sex              1100 non-null   object \n",
      " 12  ethnicity        956 non-null    object \n",
      " 13  jaundice         1100 non-null   object \n",
      " 14  fam_history_PDD  1100 non-null   object \n",
      " 15  country_of_res   1100 non-null   object \n",
      " 16  used_app_before  1100 non-null   object \n",
      " 17  age_num          1094 non-null   float64\n",
      " 18  age_desc         1100 non-null   object \n",
      " 19  relation         956 non-null    object \n",
      " 20  class            1100 non-null   object \n",
      "dtypes: float64(1), int64(11), object(9)\n",
      "memory usage: 180.6+ KB\n"
     ]
    }
   ],
   "source": [
    "raw_data.info()\n",
    "#Curioso, los missings de ethniciy y relation son los mismos, se dan exactamente en los mismos 144 registros."
   ]
  },
  {
   "cell_type": "code",
   "execution_count": 230,
   "metadata": {
    "collapsed": true,
    "jupyter": {
     "outputs_hidden": true
    }
   },
   "outputs": [
    {
     "data": {
      "text/html": [
       "<div>\n",
       "<style scoped>\n",
       "    .dataframe tbody tr th:only-of-type {\n",
       "        vertical-align: middle;\n",
       "    }\n",
       "\n",
       "    .dataframe tbody tr th {\n",
       "        vertical-align: top;\n",
       "    }\n",
       "\n",
       "    .dataframe thead th {\n",
       "        text-align: right;\n",
       "    }\n",
       "</style>\n",
       "<table border=\"1\" class=\"dataframe\">\n",
       "  <thead>\n",
       "    <tr style=\"text-align: right;\">\n",
       "      <th></th>\n",
       "      <th>A1_score</th>\n",
       "      <th>A2_score</th>\n",
       "      <th>A3_score</th>\n",
       "      <th>A4_score</th>\n",
       "      <th>A5_score</th>\n",
       "      <th>A6_score</th>\n",
       "      <th>A7_score</th>\n",
       "      <th>A8_score</th>\n",
       "      <th>A9_score</th>\n",
       "      <th>A10_score</th>\n",
       "      <th>screening_score</th>\n",
       "      <th>age_num</th>\n",
       "    </tr>\n",
       "  </thead>\n",
       "  <tbody>\n",
       "    <tr>\n",
       "      <th>count</th>\n",
       "      <td>1100.000000</td>\n",
       "      <td>1100.000000</td>\n",
       "      <td>1100.000000</td>\n",
       "      <td>1100.000000</td>\n",
       "      <td>1100.000000</td>\n",
       "      <td>1100.000000</td>\n",
       "      <td>1100.000000</td>\n",
       "      <td>1100.000000</td>\n",
       "      <td>1100.000000</td>\n",
       "      <td>1100.000000</td>\n",
       "      <td>1100.000000</td>\n",
       "      <td>1094.000000</td>\n",
       "    </tr>\n",
       "    <tr>\n",
       "      <th>mean</th>\n",
       "      <td>0.699091</td>\n",
       "      <td>0.482727</td>\n",
       "      <td>0.551818</td>\n",
       "      <td>0.530000</td>\n",
       "      <td>0.587273</td>\n",
       "      <td>0.443636</td>\n",
       "      <td>0.477273</td>\n",
       "      <td>0.605455</td>\n",
       "      <td>0.412727</td>\n",
       "      <td>0.621818</td>\n",
       "      <td>5.411818</td>\n",
       "      <td>22.073126</td>\n",
       "    </tr>\n",
       "    <tr>\n",
       "      <th>std</th>\n",
       "      <td>0.458862</td>\n",
       "      <td>0.499929</td>\n",
       "      <td>0.497534</td>\n",
       "      <td>0.499326</td>\n",
       "      <td>0.492548</td>\n",
       "      <td>0.497039</td>\n",
       "      <td>0.499710</td>\n",
       "      <td>0.488975</td>\n",
       "      <td>0.492548</td>\n",
       "      <td>0.485154</td>\n",
       "      <td>2.523492</td>\n",
       "      <td>16.879373</td>\n",
       "    </tr>\n",
       "    <tr>\n",
       "      <th>min</th>\n",
       "      <td>0.000000</td>\n",
       "      <td>0.000000</td>\n",
       "      <td>0.000000</td>\n",
       "      <td>0.000000</td>\n",
       "      <td>0.000000</td>\n",
       "      <td>0.000000</td>\n",
       "      <td>0.000000</td>\n",
       "      <td>0.000000</td>\n",
       "      <td>0.000000</td>\n",
       "      <td>0.000000</td>\n",
       "      <td>0.000000</td>\n",
       "      <td>4.000000</td>\n",
       "    </tr>\n",
       "    <tr>\n",
       "      <th>25%</th>\n",
       "      <td>0.000000</td>\n",
       "      <td>0.000000</td>\n",
       "      <td>0.000000</td>\n",
       "      <td>0.000000</td>\n",
       "      <td>0.000000</td>\n",
       "      <td>0.000000</td>\n",
       "      <td>0.000000</td>\n",
       "      <td>0.000000</td>\n",
       "      <td>0.000000</td>\n",
       "      <td>0.000000</td>\n",
       "      <td>3.000000</td>\n",
       "      <td>11.000000</td>\n",
       "    </tr>\n",
       "    <tr>\n",
       "      <th>50%</th>\n",
       "      <td>1.000000</td>\n",
       "      <td>0.000000</td>\n",
       "      <td>1.000000</td>\n",
       "      <td>1.000000</td>\n",
       "      <td>1.000000</td>\n",
       "      <td>0.000000</td>\n",
       "      <td>0.000000</td>\n",
       "      <td>1.000000</td>\n",
       "      <td>0.000000</td>\n",
       "      <td>1.000000</td>\n",
       "      <td>5.000000</td>\n",
       "      <td>21.000000</td>\n",
       "    </tr>\n",
       "    <tr>\n",
       "      <th>75%</th>\n",
       "      <td>1.000000</td>\n",
       "      <td>1.000000</td>\n",
       "      <td>1.000000</td>\n",
       "      <td>1.000000</td>\n",
       "      <td>1.000000</td>\n",
       "      <td>1.000000</td>\n",
       "      <td>1.000000</td>\n",
       "      <td>1.000000</td>\n",
       "      <td>1.000000</td>\n",
       "      <td>1.000000</td>\n",
       "      <td>7.250000</td>\n",
       "      <td>30.000000</td>\n",
       "    </tr>\n",
       "    <tr>\n",
       "      <th>max</th>\n",
       "      <td>1.000000</td>\n",
       "      <td>1.000000</td>\n",
       "      <td>1.000000</td>\n",
       "      <td>1.000000</td>\n",
       "      <td>1.000000</td>\n",
       "      <td>1.000000</td>\n",
       "      <td>1.000000</td>\n",
       "      <td>1.000000</td>\n",
       "      <td>1.000000</td>\n",
       "      <td>1.000000</td>\n",
       "      <td>10.000000</td>\n",
       "      <td>383.000000</td>\n",
       "    </tr>\n",
       "  </tbody>\n",
       "</table>\n",
       "</div>"
      ],
      "text/plain": [
       "          A1_score     A2_score     A3_score     A4_score     A5_score  \\\n",
       "count  1100.000000  1100.000000  1100.000000  1100.000000  1100.000000   \n",
       "mean      0.699091     0.482727     0.551818     0.530000     0.587273   \n",
       "std       0.458862     0.499929     0.497534     0.499326     0.492548   \n",
       "min       0.000000     0.000000     0.000000     0.000000     0.000000   \n",
       "25%       0.000000     0.000000     0.000000     0.000000     0.000000   \n",
       "50%       1.000000     0.000000     1.000000     1.000000     1.000000   \n",
       "75%       1.000000     1.000000     1.000000     1.000000     1.000000   \n",
       "max       1.000000     1.000000     1.000000     1.000000     1.000000   \n",
       "\n",
       "          A6_score     A7_score     A8_score     A9_score    A10_score  \\\n",
       "count  1100.000000  1100.000000  1100.000000  1100.000000  1100.000000   \n",
       "mean      0.443636     0.477273     0.605455     0.412727     0.621818   \n",
       "std       0.497039     0.499710     0.488975     0.492548     0.485154   \n",
       "min       0.000000     0.000000     0.000000     0.000000     0.000000   \n",
       "25%       0.000000     0.000000     0.000000     0.000000     0.000000   \n",
       "50%       0.000000     0.000000     1.000000     0.000000     1.000000   \n",
       "75%       1.000000     1.000000     1.000000     1.000000     1.000000   \n",
       "max       1.000000     1.000000     1.000000     1.000000     1.000000   \n",
       "\n",
       "       screening_score      age_num  \n",
       "count      1100.000000  1094.000000  \n",
       "mean          5.411818    22.073126  \n",
       "std           2.523492    16.879373  \n",
       "min           0.000000     4.000000  \n",
       "25%           3.000000    11.000000  \n",
       "50%           5.000000    21.000000  \n",
       "75%           7.250000    30.000000  \n",
       "max          10.000000   383.000000  "
      ]
     },
     "execution_count": 230,
     "metadata": {},
     "output_type": "execute_result"
    }
   ],
   "source": [
    "raw_data.describe()"
   ]
  },
  {
   "cell_type": "markdown",
   "metadata": {},
   "source": [
    "Hay un error en la variable age_number, no tiene sentido un max de edad de 383 años. Se corrije más adelante."
   ]
  },
  {
   "cell_type": "markdown",
   "metadata": {},
   "source": [
    "### 2. Análisis del target"
   ]
  },
  {
   "cell_type": "markdown",
   "metadata": {},
   "source": [
    "Comprobamos si el dataset está desbalanceado comparando el número de registros de las clases que constituyen el target (en este caso, SI o NO autismo)"
   ]
  },
  {
   "cell_type": "code",
   "execution_count": 6,
   "metadata": {
    "collapsed": true,
    "jupyter": {
     "outputs_hidden": true
    }
   },
   "outputs": [
    {
     "data": {
      "text/plain": [
       "0        NO\n",
       "1        NO\n",
       "2       YES\n",
       "3        NO\n",
       "4        NO\n",
       "       ... \n",
       "1095    YES\n",
       "1096     NO\n",
       "1097    YES\n",
       "1098    YES\n",
       "1099     NO\n",
       "Name: class, Length: 1100, dtype: object"
      ]
     },
     "execution_count": 6,
     "metadata": {},
     "output_type": "execute_result"
    }
   ],
   "source": [
    "raw_data[\"class\"]"
   ]
  },
  {
   "cell_type": "code",
   "execution_count": 231,
   "metadata": {},
   "outputs": [
    {
     "data": {
      "text/plain": [
       "False    707\n",
       "True     393\n",
       "Name: class, dtype: int64"
      ]
     },
     "execution_count": 231,
     "metadata": {},
     "output_type": "execute_result"
    }
   ],
   "source": [
    "raw_data[\"class\"].isin([\"YES\"]).value_counts()"
   ]
  },
  {
   "cell_type": "code",
   "execution_count": 8,
   "metadata": {},
   "outputs": [
    {
     "data": {
      "text/plain": [
       "<AxesSubplot:xlabel='class', ylabel='count'>"
      ]
     },
     "execution_count": 8,
     "metadata": {},
     "output_type": "execute_result"
    },
    {
     "data": {
      "image/png": "[encoded data removed]",
      "text/plain": [
       "<Figure size 432x288 with 1 Axes>"
      ]
     },
     "metadata": {
      "needs_background": "light"
     },
     "output_type": "display_data"
    }
   ],
   "source": [
    "sns.countplot(data = raw_data, x = \"class\")"
   ]
  },
  {
   "cell_type": "code",
   "execution_count": 11,
   "metadata": {},
   "outputs": [],
   "source": [
    "# El dataset está desbalanceado, pero no excesivamente. Por tanto no voy a hacer resampling ni a generar datos sintéticos, \n",
    "# pero lo tendré en cuenta a la hora de escoger métricas e hiperparámetros."
   ]
  },
  {
   "cell_type": "code",
   "execution_count": 58,
   "metadata": {
    "jupyter": {
     "outputs_hidden": true
    }
   },
   "outputs": [
    {
     "data": {
      "text/plain": [
       "0       0\n",
       "1       0\n",
       "2       1\n",
       "3       0\n",
       "4       0\n",
       "       ..\n",
       "1095    1\n",
       "1096    0\n",
       "1097    1\n",
       "1098    1\n",
       "1099    0\n",
       "Name: class, Length: 1100, dtype: int64"
      ]
     },
     "execution_count": 58,
     "metadata": {},
     "output_type": "execute_result"
    }
   ],
   "source": [
    "#Por otro lado, antes de dividir en train y test voy a transformar los valores de columna target \"class\" de YES/NO a 1/0 para poder luego \n",
    "#aplicarle más adelante el coeficiente de correlación de Person. Lo hago con un apply.\n",
    "\n",
    "def mapping(x):\n",
    "    if x == \"YES\":\n",
    "        return 1\n",
    "    elif x == \"NO\":\n",
    "        return 0\n",
    "\n",
    "raw_data[\"class\"] = raw_data[\"class\"].apply(mapping)\n",
    "raw_data[\"class\"] \n"
   ]
  },
  {
   "cell_type": "markdown",
   "metadata": {},
   "source": [
    "### 3. Dividimos el dataset en train y test"
   ]
  },
  {
   "cell_type": "code",
   "execution_count": 59,
   "metadata": {},
   "outputs": [],
   "source": [
    "from sklearn.model_selection import train_test_split\n",
    "\n",
    "X_train, X_test, y_train, y_test = train_test_split(raw_data.drop(\"class\", axis=1),\n",
    "                                                    raw_data[\"class\"],\n",
    "                                                    test_size=0.2,\n",
    "                                                    random_state=42)"
   ]
  },
  {
   "cell_type": "code",
   "execution_count": 60,
   "metadata": {
    "jupyter": {
     "source_hidden": true
    }
   },
   "outputs": [
    {
     "name": "stdout",
     "output_type": "stream",
     "text": [
      "(880, 20)\n",
      "(220, 20)\n",
      "(880,)\n",
      "(220,)\n"
     ]
    }
   ],
   "source": [
    "#display(X_train,X_test, y_train, y_test)\n",
    "print(X_train.shape)\n",
    "print(X_test.shape)\n",
    "print(y_train.shape)\n",
    "print(y_test.shape)\n"
   ]
  },
  {
   "cell_type": "markdown",
   "metadata": {},
   "source": [
    "### 4. Comprensión de las variables y su relación con el target. Reducción preliminar."
   ]
  },
  {
   "cell_type": "code",
   "execution_count": 12,
   "metadata": {
    "collapsed": true,
    "jupyter": {
     "outputs_hidden": true
    }
   },
   "outputs": [
    {
     "name": "stdout",
     "output_type": "stream",
     "text": [
      "<class 'pandas.core.frame.DataFrame'>\n",
      "RangeIndex: 1100 entries, 0 to 1099\n",
      "Data columns (total 21 columns):\n",
      " #   Column           Non-Null Count  Dtype  \n",
      "---  ------           --------------  -----  \n",
      " 0   A1_score         1100 non-null   int64  \n",
      " 1   A2_score         1100 non-null   int64  \n",
      " 2   A3_score         1100 non-null   int64  \n",
      " 3   A4_score         1100 non-null   int64  \n",
      " 4   A5_score         1100 non-null   int64  \n",
      " 5   A6_score         1100 non-null   int64  \n",
      " 6   A7_score         1100 non-null   int64  \n",
      " 7   A8_score         1100 non-null   int64  \n",
      " 8   A9_score         1100 non-null   int64  \n",
      " 9   A10_score        1100 non-null   int64  \n",
      " 10  screening_score  1100 non-null   int64  \n",
      " 11  sex              1100 non-null   object \n",
      " 12  ethnicity        956 non-null    object \n",
      " 13  jaundice         1100 non-null   object \n",
      " 14  fam_history_PDD  1100 non-null   object \n",
      " 15  country_of_res   1100 non-null   object \n",
      " 16  used_app_before  1100 non-null   object \n",
      " 17  age_num          1094 non-null   float64\n",
      " 18  age_desc         1100 non-null   object \n",
      " 19  relation         956 non-null    object \n",
      " 20  class            1100 non-null   int64  \n",
      "dtypes: float64(1), int64(12), object(8)\n",
      "memory usage: 180.6+ KB\n"
     ]
    }
   ],
   "source": [
    "raw_data.info()"
   ]
  },
  {
   "cell_type": "markdown",
   "metadata": {},
   "source": [
    "A continuación obtenemos un reporte de las columnas, con sus tipos, % de missings y cardinalidad."
   ]
  },
  {
   "cell_type": "code",
   "execution_count": 61,
   "metadata": {
    "jupyter": {
     "outputs_hidden": true,
     "source_hidden": true
    }
   },
   "outputs": [
    {
     "data": {
      "text/html": [
       "<div>\n",
       "<style scoped>\n",
       "    .dataframe tbody tr th:only-of-type {\n",
       "        vertical-align: middle;\n",
       "    }\n",
       "\n",
       "    .dataframe tbody tr th {\n",
       "        vertical-align: top;\n",
       "    }\n",
       "\n",
       "    .dataframe thead th {\n",
       "        text-align: right;\n",
       "    }\n",
       "</style>\n",
       "<table border=\"1\" class=\"dataframe\">\n",
       "  <thead>\n",
       "    <tr style=\"text-align: right;\">\n",
       "      <th>COL_N</th>\n",
       "      <th>A1_score</th>\n",
       "      <th>A2_score</th>\n",
       "      <th>A3_score</th>\n",
       "      <th>A4_score</th>\n",
       "      <th>A5_score</th>\n",
       "      <th>A6_score</th>\n",
       "      <th>A7_score</th>\n",
       "      <th>A8_score</th>\n",
       "      <th>A9_score</th>\n",
       "      <th>A10_score</th>\n",
       "      <th>...</th>\n",
       "      <th>sex</th>\n",
       "      <th>ethnicity</th>\n",
       "      <th>jaundice</th>\n",
       "      <th>fam_history_PDD</th>\n",
       "      <th>country_of_res</th>\n",
       "      <th>used_app_before</th>\n",
       "      <th>age_num</th>\n",
       "      <th>age_desc</th>\n",
       "      <th>relation</th>\n",
       "      <th>class</th>\n",
       "    </tr>\n",
       "  </thead>\n",
       "  <tbody>\n",
       "    <tr>\n",
       "      <th>DATA_TYPE</th>\n",
       "      <td>int64</td>\n",
       "      <td>int64</td>\n",
       "      <td>int64</td>\n",
       "      <td>int64</td>\n",
       "      <td>int64</td>\n",
       "      <td>int64</td>\n",
       "      <td>int64</td>\n",
       "      <td>int64</td>\n",
       "      <td>int64</td>\n",
       "      <td>int64</td>\n",
       "      <td>...</td>\n",
       "      <td>object</td>\n",
       "      <td>object</td>\n",
       "      <td>object</td>\n",
       "      <td>object</td>\n",
       "      <td>object</td>\n",
       "      <td>object</td>\n",
       "      <td>float64</td>\n",
       "      <td>object</td>\n",
       "      <td>object</td>\n",
       "      <td>int64</td>\n",
       "    </tr>\n",
       "    <tr>\n",
       "      <th>MISSINGS (%)</th>\n",
       "      <td>0</td>\n",
       "      <td>0</td>\n",
       "      <td>0</td>\n",
       "      <td>0</td>\n",
       "      <td>0</td>\n",
       "      <td>0</td>\n",
       "      <td>0</td>\n",
       "      <td>0</td>\n",
       "      <td>0</td>\n",
       "      <td>0</td>\n",
       "      <td>...</td>\n",
       "      <td>0</td>\n",
       "      <td>13.09</td>\n",
       "      <td>0</td>\n",
       "      <td>0</td>\n",
       "      <td>0</td>\n",
       "      <td>0</td>\n",
       "      <td>0.55</td>\n",
       "      <td>0</td>\n",
       "      <td>13.09</td>\n",
       "      <td>0</td>\n",
       "    </tr>\n",
       "    <tr>\n",
       "      <th>UNIQUE_VALUES</th>\n",
       "      <td>2</td>\n",
       "      <td>2</td>\n",
       "      <td>2</td>\n",
       "      <td>2</td>\n",
       "      <td>2</td>\n",
       "      <td>2</td>\n",
       "      <td>2</td>\n",
       "      <td>2</td>\n",
       "      <td>2</td>\n",
       "      <td>2</td>\n",
       "      <td>...</td>\n",
       "      <td>2</td>\n",
       "      <td>11</td>\n",
       "      <td>2</td>\n",
       "      <td>2</td>\n",
       "      <td>89</td>\n",
       "      <td>2</td>\n",
       "      <td>59</td>\n",
       "      <td>4</td>\n",
       "      <td>6</td>\n",
       "      <td>2</td>\n",
       "    </tr>\n",
       "    <tr>\n",
       "      <th>CARDIN (%)</th>\n",
       "      <td>0.18</td>\n",
       "      <td>0.18</td>\n",
       "      <td>0.18</td>\n",
       "      <td>0.18</td>\n",
       "      <td>0.18</td>\n",
       "      <td>0.18</td>\n",
       "      <td>0.18</td>\n",
       "      <td>0.18</td>\n",
       "      <td>0.18</td>\n",
       "      <td>0.18</td>\n",
       "      <td>...</td>\n",
       "      <td>0.18</td>\n",
       "      <td>1</td>\n",
       "      <td>0.18</td>\n",
       "      <td>0.18</td>\n",
       "      <td>8.09</td>\n",
       "      <td>0.18</td>\n",
       "      <td>5.36</td>\n",
       "      <td>0.36</td>\n",
       "      <td>0.55</td>\n",
       "      <td>0.18</td>\n",
       "    </tr>\n",
       "  </tbody>\n",
       "</table>\n",
       "<p>4 rows × 21 columns</p>\n",
       "</div>"
      ],
      "text/plain": [
       "COL_N         A1_score A2_score A3_score A4_score A5_score A6_score A7_score  \\\n",
       "DATA_TYPE        int64    int64    int64    int64    int64    int64    int64   \n",
       "MISSINGS (%)         0        0        0        0        0        0        0   \n",
       "UNIQUE_VALUES        2        2        2        2        2        2        2   \n",
       "CARDIN (%)        0.18     0.18     0.18     0.18     0.18     0.18     0.18   \n",
       "\n",
       "COL_N         A8_score A9_score A10_score  ...     sex ethnicity jaundice  \\\n",
       "DATA_TYPE        int64    int64     int64  ...  object    object   object   \n",
       "MISSINGS (%)         0        0         0  ...       0     13.09        0   \n",
       "UNIQUE_VALUES        2        2         2  ...       2        11        2   \n",
       "CARDIN (%)        0.18     0.18      0.18  ...    0.18         1     0.18   \n",
       "\n",
       "COL_N         fam_history_PDD country_of_res used_app_before  age_num  \\\n",
       "DATA_TYPE              object         object          object  float64   \n",
       "MISSINGS (%)                0              0               0     0.55   \n",
       "UNIQUE_VALUES               2             89               2       59   \n",
       "CARDIN (%)               0.18           8.09            0.18     5.36   \n",
       "\n",
       "COL_N         age_desc relation  class  \n",
       "DATA_TYPE       object   object  int64  \n",
       "MISSINGS (%)         0    13.09      0  \n",
       "UNIQUE_VALUES        4        6      2  \n",
       "CARDIN (%)        0.36     0.55   0.18  \n",
       "\n",
       "[4 rows x 21 columns]"
      ]
     },
     "execution_count": 61,
     "metadata": {},
     "output_type": "execute_result"
    }
   ],
   "source": [
    "def data_report(df):\n",
    "    # Sacamos los NOMBRES\n",
    "    cols = pd.DataFrame(df.columns.values, columns=[\"COL_N\"])\n",
    "\n",
    "    # Sacamos los TIPOS\n",
    "    types = pd.DataFrame(df.dtypes.values, columns=[\"DATA_TYPE\"])\n",
    "\n",
    "    # Sacamos los MISSINGS\n",
    "    percent_missing = round(df.isnull().sum() * 100 / len(df), 2)\n",
    "    percent_missing_df = pd.DataFrame(percent_missing.values, columns=[\"MISSINGS (%)\"])\n",
    "\n",
    "    # Sacamos los VALORES UNICOS\n",
    "    unicos = pd.DataFrame(df.nunique().values, columns=[\"UNIQUE_VALUES\"])\n",
    "    \n",
    "    percent_cardin = round(unicos['UNIQUE_VALUES']*100/len(df), 2)\n",
    "    percent_cardin_df = pd.DataFrame(percent_cardin.values, columns=[\"CARDIN (%)\"])\n",
    "    \n",
    "    #la cardinalidad aporta información en las columnas categóricas. Si la cardinalidad es alta es que hay muchos valores únicos, normalmente \n",
    "    #serán identificadores (como nombres propios) y, dependiendo del dataset es probable que esa columna no aporte nada al target y la podamos\n",
    "    #eliminar. \n",
    "    \n",
    "    concatenado = pd.concat([cols, types, percent_missing_df, unicos, percent_cardin_df], axis=1, sort=False)\n",
    "    concatenado.set_index('COL_N', drop=True, inplace=True)\n",
    "\n",
    "    return concatenado.T\n",
    "        \n",
    "data_report(raw_data)\n"
   ]
  },
  {
   "cell_type": "code",
   "execution_count": 235,
   "metadata": {
    "collapsed": true,
    "jupyter": {
     "outputs_hidden": true
    }
   },
   "outputs": [
    {
     "name": "stdout",
     "output_type": "stream",
     "text": [
      "class              1.000000\n",
      "screening_score    0.834223\n",
      "A9_score           0.596497\n",
      "A6_score           0.567634\n",
      "A5_score           0.520985\n",
      "A4_score           0.508243\n",
      "A3_score           0.462104\n",
      "A10_score          0.421044\n",
      "A7_score           0.347273\n",
      "A1_score           0.290603\n",
      "A2_score           0.285832\n",
      "A8_score           0.275809\n",
      "age_num            0.102379\n",
      "Name: class, dtype: float64\n"
     ]
    }
   ],
   "source": [
    "#Obtenemos el coeficiente de correlación lineal (Pearson) de las variables independientes numéricas con el target\n",
    "\n",
    "corr = np.abs(raw_data.corr()[\"class\"]).sort_values(ascending = False)\n",
    "print(corr)\n"
   ]
  },
  {
   "cell_type": "code",
   "execution_count": 18,
   "metadata": {
    "jupyter": {
     "source_hidden": true
    }
   },
   "outputs": [
    {
     "data": {
      "image/png": "[encoded data removed]",
      "text/plain": [
       "<Figure size 720x720 with 2 Axes>"
      ]
     },
     "metadata": {
      "needs_background": "light"
     },
     "output_type": "display_data"
    }
   ],
   "source": [
    "#Mostramos la correlación en un heatmap\n",
    "\n",
    "plt.figure(figsize=(10,10))\n",
    "\n",
    "sns.heatmap(raw_data.corr(),\n",
    "            vmin=-1,\n",
    "            vmax=1,\n",
    "            center=0,\n",
    "            cmap=sns.diverging_palette(220, 20, as_cmap=True),\n",
    "            square=True,\n",
    "            annot=True,\n",
    "            linewidths=.5);"
   ]
  },
  {
   "cell_type": "markdown",
   "metadata": {},
   "source": [
    "Observamos que existen 7 variables numéricas con una correlación con el target superior al 0.4, por este orden:\n",
    "    \n",
    "+ screening_score    0.834223 - Puntuación resultante del método de screening.\n",
    "+ A9_score           0.596497 - *9.\tI find easy to work out what someone is thinking or feeling just by looking at their face.*\n",
    "+ A6_score           0.567634 - *6.\tI know how to tell if someone listening to me is getting bored*\n",
    "+ A5_score           0.520985 - *5.\tI find it easy to read between the lines when someone is talking to me.* \n",
    "+ A4_score           0.508243 - *4.\tIf there is an interruption, I can switch back to what I was doing very quickly.*\n",
    "+ A3_score           0.462104 - *3.\tI find it easy to do more than one thing at once.*\n",
    "+ A10_score          0.421044 - *10. I find it difficult to work out people´s intentions*"
   ]
  },
  {
   "cell_type": "markdown",
   "metadata": {},
   "source": [
    "Para poder visualizar la correlacion de las variables categóricas con el target utilizamos una matriz de Phick en lugar del coeficiente de correlación de Pearson, que éstá limitado a las variables numéricas. Como son muchas variables en total, para que no me salga un heatmap imposible de entender voy a tomar para el Phick sólo las columnas categóricas."
   ]
  },
  {
   "cell_type": "code",
   "execution_count": 15,
   "metadata": {
    "collapsed": true,
    "jupyter": {
     "outputs_hidden": true
    }
   },
   "outputs": [
    {
     "data": {
      "text/html": [
       "<div>\n",
       "<style scoped>\n",
       "    .dataframe tbody tr th:only-of-type {\n",
       "        vertical-align: middle;\n",
       "    }\n",
       "\n",
       "    .dataframe tbody tr th {\n",
       "        vertical-align: top;\n",
       "    }\n",
       "\n",
       "    .dataframe thead th {\n",
       "        text-align: right;\n",
       "    }\n",
       "</style>\n",
       "<table border=\"1\" class=\"dataframe\">\n",
       "  <thead>\n",
       "    <tr style=\"text-align: right;\">\n",
       "      <th></th>\n",
       "      <th>sex</th>\n",
       "      <th>ethnicity</th>\n",
       "      <th>jaundice</th>\n",
       "      <th>fam_history_PDD</th>\n",
       "      <th>country_of_res</th>\n",
       "      <th>used_app_before</th>\n",
       "      <th>age_desc</th>\n",
       "      <th>relation</th>\n",
       "      <th>class</th>\n",
       "    </tr>\n",
       "  </thead>\n",
       "  <tbody>\n",
       "    <tr>\n",
       "      <th>0</th>\n",
       "      <td>f</td>\n",
       "      <td>White-European</td>\n",
       "      <td>no</td>\n",
       "      <td>no</td>\n",
       "      <td>'United States'</td>\n",
       "      <td>no</td>\n",
       "      <td>'18 and more'</td>\n",
       "      <td>Self</td>\n",
       "      <td>0</td>\n",
       "    </tr>\n",
       "    <tr>\n",
       "      <th>1</th>\n",
       "      <td>m</td>\n",
       "      <td>Latino</td>\n",
       "      <td>no</td>\n",
       "      <td>yes</td>\n",
       "      <td>Brazil</td>\n",
       "      <td>no</td>\n",
       "      <td>'18 and more'</td>\n",
       "      <td>Self</td>\n",
       "      <td>0</td>\n",
       "    </tr>\n",
       "    <tr>\n",
       "      <th>2</th>\n",
       "      <td>m</td>\n",
       "      <td>Latino</td>\n",
       "      <td>yes</td>\n",
       "      <td>yes</td>\n",
       "      <td>Spain</td>\n",
       "      <td>no</td>\n",
       "      <td>'18 and more'</td>\n",
       "      <td>Parent</td>\n",
       "      <td>1</td>\n",
       "    </tr>\n",
       "    <tr>\n",
       "      <th>3</th>\n",
       "      <td>f</td>\n",
       "      <td>White-European</td>\n",
       "      <td>no</td>\n",
       "      <td>yes</td>\n",
       "      <td>'United States'</td>\n",
       "      <td>no</td>\n",
       "      <td>'18 and more'</td>\n",
       "      <td>Self</td>\n",
       "      <td>0</td>\n",
       "    </tr>\n",
       "    <tr>\n",
       "      <th>4</th>\n",
       "      <td>f</td>\n",
       "      <td>NaN</td>\n",
       "      <td>no</td>\n",
       "      <td>no</td>\n",
       "      <td>Egypt</td>\n",
       "      <td>no</td>\n",
       "      <td>'18 and more'</td>\n",
       "      <td>NaN</td>\n",
       "      <td>0</td>\n",
       "    </tr>\n",
       "    <tr>\n",
       "      <th>...</th>\n",
       "      <td>...</td>\n",
       "      <td>...</td>\n",
       "      <td>...</td>\n",
       "      <td>...</td>\n",
       "      <td>...</td>\n",
       "      <td>...</td>\n",
       "      <td>...</td>\n",
       "      <td>...</td>\n",
       "      <td>...</td>\n",
       "    </tr>\n",
       "    <tr>\n",
       "      <th>1095</th>\n",
       "      <td>f</td>\n",
       "      <td>White-European</td>\n",
       "      <td>yes</td>\n",
       "      <td>yes</td>\n",
       "      <td>'United Kingdom'</td>\n",
       "      <td>no</td>\n",
       "      <td>'4-11 years'</td>\n",
       "      <td>Parent</td>\n",
       "      <td>1</td>\n",
       "    </tr>\n",
       "    <tr>\n",
       "      <th>1096</th>\n",
       "      <td>f</td>\n",
       "      <td>White-European</td>\n",
       "      <td>yes</td>\n",
       "      <td>yes</td>\n",
       "      <td>Australia</td>\n",
       "      <td>no</td>\n",
       "      <td>'4-11 years'</td>\n",
       "      <td>Parent</td>\n",
       "      <td>0</td>\n",
       "    </tr>\n",
       "    <tr>\n",
       "      <th>1097</th>\n",
       "      <td>m</td>\n",
       "      <td>Latino</td>\n",
       "      <td>no</td>\n",
       "      <td>no</td>\n",
       "      <td>Brazil</td>\n",
       "      <td>no</td>\n",
       "      <td>'4-11 years'</td>\n",
       "      <td>Parent</td>\n",
       "      <td>1</td>\n",
       "    </tr>\n",
       "    <tr>\n",
       "      <th>1098</th>\n",
       "      <td>m</td>\n",
       "      <td>'South Asian'</td>\n",
       "      <td>no</td>\n",
       "      <td>no</td>\n",
       "      <td>India</td>\n",
       "      <td>no</td>\n",
       "      <td>'4-11 years'</td>\n",
       "      <td>Parent</td>\n",
       "      <td>1</td>\n",
       "    </tr>\n",
       "    <tr>\n",
       "      <th>1099</th>\n",
       "      <td>f</td>\n",
       "      <td>'South Asian'</td>\n",
       "      <td>no</td>\n",
       "      <td>no</td>\n",
       "      <td>India</td>\n",
       "      <td>no</td>\n",
       "      <td>'4-11 years'</td>\n",
       "      <td>Parent</td>\n",
       "      <td>0</td>\n",
       "    </tr>\n",
       "  </tbody>\n",
       "</table>\n",
       "<p>1100 rows × 9 columns</p>\n",
       "</div>"
      ],
      "text/plain": [
       "     sex       ethnicity jaundice fam_history_PDD    country_of_res  \\\n",
       "0      f  White-European       no              no   'United States'   \n",
       "1      m          Latino       no             yes            Brazil   \n",
       "2      m          Latino      yes             yes             Spain   \n",
       "3      f  White-European       no             yes   'United States'   \n",
       "4      f             NaN       no              no             Egypt   \n",
       "...   ..             ...      ...             ...               ...   \n",
       "1095   f  White-European      yes             yes  'United Kingdom'   \n",
       "1096   f  White-European      yes             yes         Australia   \n",
       "1097   m          Latino       no              no            Brazil   \n",
       "1098   m   'South Asian'       no              no             India   \n",
       "1099   f   'South Asian'       no              no             India   \n",
       "\n",
       "     used_app_before       age_desc relation  class  \n",
       "0                 no  '18 and more'     Self      0  \n",
       "1                 no  '18 and more'     Self      0  \n",
       "2                 no  '18 and more'   Parent      1  \n",
       "3                 no  '18 and more'     Self      0  \n",
       "4                 no  '18 and more'      NaN      0  \n",
       "...              ...            ...      ...    ...  \n",
       "1095              no   '4-11 years'   Parent      1  \n",
       "1096              no   '4-11 years'   Parent      0  \n",
       "1097              no   '4-11 years'   Parent      1  \n",
       "1098              no   '4-11 years'   Parent      1  \n",
       "1099              no   '4-11 years'   Parent      0  \n",
       "\n",
       "[1100 rows x 9 columns]"
      ]
     },
     "execution_count": 15,
     "metadata": {},
     "output_type": "execute_result"
    }
   ],
   "source": [
    "categoricas = raw_data[['sex', 'ethnicity', 'jaundice', 'fam_history_PDD', 'country_of_res',\n",
    "                        'used_app_before','age_desc', 'relation',\"class\"]]\n",
    "\n",
    "categoricas\n"
   ]
  },
  {
   "cell_type": "code",
   "execution_count": 20,
   "metadata": {
    "jupyter": {
     "source_hidden": true
    }
   },
   "outputs": [
    {
     "name": "stdout",
     "output_type": "stream",
     "text": [
      "interval columns not set, guessing: ['class']\n"
     ]
    },
    {
     "data": {
      "image/png": "[encoded data removed]",
      "text/plain": [
       "<Figure size 720x720 with 2 Axes>"
      ]
     },
     "metadata": {
      "needs_background": "light"
     },
     "output_type": "display_data"
    }
   ],
   "source": [
    "import phik\n",
    "phik_matrix = categoricas.phik_matrix()\n",
    "\n",
    "plt.figure(figsize=(10,10))\n",
    "\n",
    "sns.heatmap(phik_matrix,\n",
    "            vmin=-1,\n",
    "            vmax=1,\n",
    "            center=0,\n",
    "            cmap=sns.diverging_palette(220, 20, as_cmap=True),\n",
    "            square=True,\n",
    "            annot=True,\n",
    "            linewidths=.5);\n"
   ]
  },
  {
   "cell_type": "code",
   "execution_count": 16,
   "metadata": {},
   "outputs": [
    {
     "data": {
      "text/plain": [
       "<AxesSubplot:xlabel='sex', ylabel='count'>"
      ]
     },
     "execution_count": 16,
     "metadata": {},
     "output_type": "execute_result"
    },
    {
     "data": {
      "image/png": "[encoded data removed]",
      "text/plain": [
       "<Figure size 432x288 with 1 Axes>"
      ]
     },
     "metadata": {
      "needs_background": "light"
     },
     "output_type": "display_data"
    }
   ],
   "source": [
    "sns.countplot(data = raw_data, x = \"sex\")"
   ]
  },
  {
   "cell_type": "markdown",
   "metadata": {},
   "source": [
    "Me sorprende que la variable sexo no tenga correlación lineal con el target, esperaba que la tuviese. También me sorprende  baja correlación lineal de las variables jaundice y fam_history_PDD.\n",
    "No obstante, por ahora las mantengo. \n",
    "\n",
    "***Sí que elimino, por el contrario, la variable used_app_before***"
   ]
  },
  {
   "cell_type": "code",
   "execution_count": 62,
   "metadata": {},
   "outputs": [],
   "source": [
    "# Reducción preliminar de features sobre X_train:\n",
    "\n",
    "X_train.drop(columns = [\"used_app_before\"], inplace = True)    "
   ]
  },
  {
   "cell_type": "markdown",
   "metadata": {},
   "source": [
    "### 5. Análisis univariante"
   ]
  },
  {
   "cell_type": "markdown",
   "metadata": {},
   "source": [
    "**5.1 A1_score', 'A2_score', 'A3_score', 'A4_score', 'A5_score', 'A6_score','A7_score', 'A8_score', 'A9_score', 'A10_score'**\n",
    "\n",
    "Estas variables representan diez indicadores de comportamiento (behavioural features) definidos en el método de screening\n",
    "aplicado por los autores del dataset. Se basan en las respuestas dadas por las personas objeto del screening \n",
    "a un cuestionario de 10 preguntas.\n",
    "Se trata de variables categóricas cuyo valor puede ser 0 o 1 (tipo numérico).  "
   ]
  },
  {
   "cell_type": "code",
   "execution_count": 22,
   "metadata": {
    "collapsed": true,
    "jupyter": {
     "outputs_hidden": true,
     "source_hidden": true
    }
   },
   "outputs": [
    {
     "data": {
      "image/png": "[encoded data removed]",
      "text/plain": [
       "<Figure size 1440x360 with 10 Axes>"
      ]
     },
     "metadata": {
      "needs_background": "light"
     },
     "output_type": "display_data"
    }
   ],
   "source": [
    "#Analizamos su distribución \n",
    "\n",
    "fig, axes = plt.subplots(1, 10, figsize=(20, 5), sharey=True)\n",
    "plt.plot(color = \"viridis\")\n",
    "\n",
    "sns.countplot(raw_data[\"A1_score\"], ax=axes[0], color = \"lightblue\")\n",
    "#axes[0].set_title(\"A1_score\")\n",
    "\n",
    "sns.countplot(raw_data[\"A2_score\"], ax=axes[1],color = \"lightblue\")\n",
    "#axes[1].set_title(\"A2_score\")\n",
    "\n",
    "sns.countplot(raw_data[\"A3_score\"], ax=axes[2],color = \"lightblue\")\n",
    "#axes[2].set_title(\"A3_score\")\n",
    "\n",
    "sns.countplot(raw_data[\"A4_score\"], ax=axes[3],color = \"lightblue\")\n",
    "#axes[3].set_title(\"A4_score\")\n",
    "\n",
    "sns.countplot(raw_data[\"A5_score\"], ax=axes[4],color = \"lightblue\")\n",
    "#axes[4].set_title(\"A5_score\")\n",
    "\n",
    "sns.countplot(raw_data[\"A6_score\"], ax=axes[5],color = \"lightblue\")\n",
    "#axes[5].set_title(\"A6_score\")\n",
    "\n",
    "sns.countplot(raw_data[\"A7_score\"], ax=axes[6],color = \"lightblue\")\n",
    "#axes[6].set_title(\"A7_score\")\n",
    "\n",
    "sns.countplot(raw_data[\"A8_score\"], ax=axes[7],color = \"lightblue\");\n",
    "#axes[7].set_title(\"A8_score\")\n",
    "\n",
    "sns.countplot(raw_data[\"A9_score\"], ax=axes[8],color = \"lightblue\");\n",
    "#axes[8].set_title(\"A9_score\")\n",
    "\n",
    "sns.countplot(raw_data[\"A10_score\"], ax=axes[9],color = \"lightblue\");\n",
    "#axes[9].set_title(\"A10_score\");\n"
   ]
  },
  {
   "cell_type": "markdown",
   "metadata": {},
   "source": [
    "#### 5.2 Screening score\n",
    "\n",
    "Puntuación resultante del método de screening. Tiene un coeficiente de correlación de Pearson con el target de 0.834223  \n"
   ]
  },
  {
   "cell_type": "code",
   "execution_count": 51,
   "metadata": {
    "jupyter": {
     "source_hidden": true
    }
   },
   "outputs": [
    {
     "data": {
      "text/plain": [
       "<Figure size 720x360 with 0 Axes>"
      ]
     },
     "metadata": {},
     "output_type": "display_data"
    },
    {
     "data": {
      "image/png": "[encoded data removed]",
      "text/plain": [
       "<Figure size 360x360 with 1 Axes>"
      ]
     },
     "metadata": {
      "needs_background": "light"
     },
     "output_type": "display_data"
    }
   ],
   "source": [
    "#Distribución \n",
    "\n",
    "plt.figure(figsize=(10,5))\n",
    "\n",
    "sns.displot(raw_data[\"screening_score\"], kde = False, color = \"lightblue\", bins=11);\n",
    "\n"
   ]
  },
  {
   "cell_type": "code",
   "execution_count": 34,
   "metadata": {
    "collapsed": true,
    "jupyter": {
     "outputs_hidden": true,
     "source_hidden": true
    }
   },
   "outputs": [
    {
     "data": {
      "text/plain": [
       "array([6, 5, 8, ..., 7, 9, 3], dtype=int64)"
      ]
     },
     "execution_count": 34,
     "metadata": {},
     "output_type": "execute_result"
    }
   ],
   "source": [
    "raw_data[\"screening_score\"].values"
   ]
  },
  {
   "cell_type": "code",
   "execution_count": 22,
   "metadata": {
    "collapsed": true,
    "jupyter": {
     "outputs_hidden": true,
     "source_hidden": true
    }
   },
   "outputs": [
    {
     "data": {
      "text/plain": [
       "4     174\n",
       "3     136\n",
       "5     129\n",
       "6     126\n",
       "8     121\n",
       "7     118\n",
       "9      98\n",
       "2      85\n",
       "10     56\n",
       "1      42\n",
       "0      15\n",
       "Name: screening_score, dtype: int64"
      ]
     },
     "execution_count": 22,
     "metadata": {},
     "output_type": "execute_result"
    }
   ],
   "source": [
    "raw_data[\"screening_score\"].value_counts()"
   ]
  },
  {
   "cell_type": "markdown",
   "metadata": {},
   "source": [
    "### 5.3 Sex, ethnicity, jaundice, fam_history_PDD, country_of_res, age_desc, relation"
   ]
  },
  {
   "cell_type": "markdown",
   "metadata": {},
   "source": [
    "Son variables categóricas, tendré que transformarlas para pasarlas a numéricas y poder usarlas en los modelos de machine learning.\n",
    "Arrojan una correlación lineal baja con el target. Sex, en particular, arroja un correlación lineal de cero con el target. La correlación lineal más alta corresponde a *country of residence* (0.49), pero puede explicarse por la mayor capacidad de detección y atención de unos países respecto de otros en relación con los TEA."
   ]
  },
  {
   "cell_type": "markdown",
   "metadata": {},
   "source": [
    "### 5.4 Age-number"
   ]
  },
  {
   "cell_type": "markdown",
   "metadata": {},
   "source": [
    "Es una variable numérica que no muestra correlación lineal con el target.\n",
    "Contiene un error, no tiene sentido un valor máximo de 383 años. \n",
    "Ordeno e imprimo los valores por pantalla y hago un boxplot para confirmar que no hay más errores en la variable."
   ]
  },
  {
   "cell_type": "code",
   "execution_count": 26,
   "metadata": {
    "collapsed": true,
    "jupyter": {
     "outputs_hidden": true,
     "source_hidden": true
    }
   },
   "outputs": [
    {
     "data": {
      "text/plain": [
       "52     383.0\n",
       "7       64.0\n",
       "495     61.0\n",
       "431     61.0\n",
       "203     60.0\n",
       "       ...  \n",
       "91       NaN\n",
       "840      NaN\n",
       "873      NaN\n",
       "934      NaN\n",
       "946      NaN\n",
       "Name: age_num, Length: 1100, dtype: float64"
      ]
     },
     "execution_count": 26,
     "metadata": {},
     "output_type": "execute_result"
    }
   ],
   "source": [
    "raw_data[\"age_num\"].sort_values(ascending = False)"
   ]
  },
  {
   "cell_type": "code",
   "execution_count": 28,
   "metadata": {
    "jupyter": {
     "source_hidden": true
    }
   },
   "outputs": [
    {
     "data": {
      "text/plain": [
       "<AxesSubplot:xlabel='age_num'>"
      ]
     },
     "execution_count": 28,
     "metadata": {},
     "output_type": "execute_result"
    },
    {
     "data": {
      "image/png": "[encoded data removed]",
      "text/plain": [
       "<Figure size 432x288 with 1 Axes>"
      ]
     },
     "metadata": {
      "needs_background": "light"
     },
     "output_type": "display_data"
    }
   ],
   "source": [
    "sns.boxplot(x='age_num', data=raw_data)\n",
    "\n",
    "#Viendo esta información parece que la variable solo contiene un error."
   ]
  },
  {
   "cell_type": "markdown",
   "metadata": {},
   "source": [
    "## II Preprocessing \n",
    "\n",
    "### 1.Limpieza de X_train\n",
    "\n",
    "La primera medida, que ya se ha realizado con anterioridad, ha sido la eliminación de la variable \"used_app_before\", con correlación lineal de 0 con el target."
   ]
  },
  {
   "cell_type": "code",
   "execution_count": 63,
   "metadata": {},
   "outputs": [
    {
     "name": "stdout",
     "output_type": "stream",
     "text": [
      "(880, 19)\n"
     ]
    }
   ],
   "source": [
    "print(X_train.shape)"
   ]
  },
  {
   "cell_type": "markdown",
   "metadata": {},
   "source": [
    "### 1.1 Errores"
   ]
  },
  {
   "cell_type": "markdown",
   "metadata": {},
   "source": [
    "La variable age_num contiene un error, una valor de 383 años. Se sustituye por la media de su categoría de edad "
   ]
  },
  {
   "cell_type": "code",
   "execution_count": 64,
   "metadata": {},
   "outputs": [
    {
     "data": {
      "text/plain": [
       "age_desc\n",
       "'12-15 years'    15.000000\n",
       "'12-16 years'    14.133333\n",
       "'18 and more'    29.748214\n",
       "'4-11 years'      6.463830\n",
       "Name: age_num, dtype: float64"
      ]
     },
     "execution_count": 64,
     "metadata": {},
     "output_type": "execute_result"
    }
   ],
   "source": [
    "X_train.groupby(\"age_desc\")[\"age_num\"].mean()"
   ]
  },
  {
   "cell_type": "code",
   "execution_count": 65,
   "metadata": {},
   "outputs": [],
   "source": [
    "#Sustituimos el error por la media de edad en su rango (ya pasada a entero), que es \"18 and more\"\n",
    "X_train[\"age_num\"].groupby\n",
    "\n",
    "X_train[\"age_num\"].isin([383])\n",
    "\n",
    "X_train[\"age_num\"] = X_train[\"age_num\"].replace(383.0,30)"
   ]
  },
  {
   "cell_type": "code",
   "execution_count": 66,
   "metadata": {},
   "outputs": [
    {
     "data": {
      "text/plain": [
       "64.0"
      ]
     },
     "execution_count": 66,
     "metadata": {},
     "output_type": "execute_result"
    }
   ],
   "source": [
    "#compruebo que el error ha desaparecido\n",
    "X_train[\"age_num\"].max()"
   ]
  },
  {
   "cell_type": "markdown",
   "metadata": {},
   "source": [
    "### 1.2 Missings \n",
    "Las variables \"ethnicity\", \"age_num\" y \"relation\" contienen missings. Sacamos el porcentaje de missings para tomar decisiones."
   ]
  },
  {
   "cell_type": "code",
   "execution_count": 67,
   "metadata": {},
   "outputs": [
    {
     "data": {
      "text/html": [
       "<div>\n",
       "<style scoped>\n",
       "    .dataframe tbody tr th:only-of-type {\n",
       "        vertical-align: middle;\n",
       "    }\n",
       "\n",
       "    .dataframe tbody tr th {\n",
       "        vertical-align: top;\n",
       "    }\n",
       "\n",
       "    .dataframe thead th {\n",
       "        text-align: right;\n",
       "    }\n",
       "</style>\n",
       "<table border=\"1\" class=\"dataframe\">\n",
       "  <thead>\n",
       "    <tr style=\"text-align: right;\">\n",
       "      <th>COL_N</th>\n",
       "      <th>A9_score</th>\n",
       "      <th>A10_score</th>\n",
       "      <th>screening_score</th>\n",
       "      <th>sex</th>\n",
       "      <th>ethnicity</th>\n",
       "      <th>jaundice</th>\n",
       "      <th>fam_history_PDD</th>\n",
       "      <th>country_of_res</th>\n",
       "      <th>age_num</th>\n",
       "      <th>age_desc</th>\n",
       "      <th>relation</th>\n",
       "    </tr>\n",
       "  </thead>\n",
       "  <tbody>\n",
       "    <tr>\n",
       "      <th>DATA_TYPE</th>\n",
       "      <td>int64</td>\n",
       "      <td>int64</td>\n",
       "      <td>int64</td>\n",
       "      <td>object</td>\n",
       "      <td>object</td>\n",
       "      <td>object</td>\n",
       "      <td>object</td>\n",
       "      <td>object</td>\n",
       "      <td>float64</td>\n",
       "      <td>object</td>\n",
       "      <td>object</td>\n",
       "    </tr>\n",
       "    <tr>\n",
       "      <th>MISSINGS (%)</th>\n",
       "      <td>0</td>\n",
       "      <td>0</td>\n",
       "      <td>0</td>\n",
       "      <td>0</td>\n",
       "      <td>13.18</td>\n",
       "      <td>0</td>\n",
       "      <td>0</td>\n",
       "      <td>0</td>\n",
       "      <td>0.34</td>\n",
       "      <td>0</td>\n",
       "      <td>13.18</td>\n",
       "    </tr>\n",
       "    <tr>\n",
       "      <th>UNIQUE_VALUES</th>\n",
       "      <td>2</td>\n",
       "      <td>2</td>\n",
       "      <td>11</td>\n",
       "      <td>2</td>\n",
       "      <td>11</td>\n",
       "      <td>2</td>\n",
       "      <td>2</td>\n",
       "      <td>86</td>\n",
       "      <td>58</td>\n",
       "      <td>4</td>\n",
       "      <td>6</td>\n",
       "    </tr>\n",
       "    <tr>\n",
       "      <th>CARDIN (%)</th>\n",
       "      <td>0.23</td>\n",
       "      <td>0.23</td>\n",
       "      <td>1.25</td>\n",
       "      <td>0.23</td>\n",
       "      <td>1.25</td>\n",
       "      <td>0.23</td>\n",
       "      <td>0.23</td>\n",
       "      <td>9.77</td>\n",
       "      <td>6.59</td>\n",
       "      <td>0.45</td>\n",
       "      <td>0.68</td>\n",
       "    </tr>\n",
       "  </tbody>\n",
       "</table>\n",
       "</div>"
      ],
      "text/plain": [
       "COL_N         A9_score A10_score screening_score     sex ethnicity jaundice  \\\n",
       "DATA_TYPE        int64     int64           int64  object    object   object   \n",
       "MISSINGS (%)         0         0               0       0     13.18        0   \n",
       "UNIQUE_VALUES        2         2              11       2        11        2   \n",
       "CARDIN (%)        0.23      0.23            1.25    0.23      1.25     0.23   \n",
       "\n",
       "COL_N         fam_history_PDD country_of_res  age_num age_desc relation  \n",
       "DATA_TYPE              object         object  float64   object   object  \n",
       "MISSINGS (%)                0              0     0.34        0    13.18  \n",
       "UNIQUE_VALUES               2             86       58        4        6  \n",
       "CARDIN (%)               0.23           9.77     6.59     0.45     0.68  "
      ]
     },
     "execution_count": 67,
     "metadata": {},
     "output_type": "execute_result"
    }
   ],
   "source": [
    "data_report(X_train.iloc[:,-11:])"
   ]
  },
  {
   "cell_type": "code",
   "execution_count": 43,
   "metadata": {
    "jupyter": {
     "source_hidden": true
    }
   },
   "outputs": [],
   "source": [
    "#Tenemos un 13.18% de missings en etnicity y relation, y sólo un 0,5% en age_num (3 valores)\n",
    "\n",
    "#Respecto de age_num, no puedo hacer un knn porque no tengo ninguna colunma numérica y aplicar un label encoder, pero asigna un orden a los datos y puede dar problemas \n",
    "#al aplicar los modelos de ml. Son sólo tres valores, lo mejor es cargárme las filas con missings en age_num.\n",
    "\n",
    "#en cuanto a las variables categóricas, en este la mejor opción es sustituirlas por la moda, es decir, por el valor más frecuente, que sí se admite en categóricas. \n",
    "#Es la solución que más se aplica en el caso de columnas categóricas. Si tuviera otras columnas numéricas podría usar un knn para precedir esos missings.\n"
   ]
  },
  {
   "cell_type": "code",
   "execution_count": 302,
   "metadata": {
    "collapsed": true,
    "jupyter": {
     "outputs_hidden": true,
     "source_hidden": true
    }
   },
   "outputs": [
    {
     "name": "stdout",
     "output_type": "stream",
     "text": [
      "['White-European' 'Latino' 'Black' 'Others' \"'Middle Eastern '\"\n",
      " \"'South Asian'\" 'Asian' nan 'Hispanic' 'Pasifika' 'Turkish' 'others']\n",
      "0    White-European\n",
      "dtype: object\n"
     ]
    }
   ],
   "source": [
    "print(X_train[\"ethnicity\"].unique())\n",
    "\n",
    "print(X_train[\"ethnicity\"].mode())"
   ]
  },
  {
   "cell_type": "code",
   "execution_count": 68,
   "metadata": {
    "jupyter": {
     "outputs_hidden": true,
     "source_hidden": true
    }
   },
   "outputs": [
    {
     "name": "stdout",
     "output_type": "stream",
     "text": [
      "['Self' 'Parent' 'Relative' \"'Health care professional'\" nan 'Others']\n",
      "0    Self\n",
      "dtype: object\n"
     ]
    }
   ],
   "source": [
    "#ojo que en \"relation\" tenemos además un problema con la inicial de self (unos están con mayúscula y otros con minúscula),\n",
    "#lo corrijo lo primero. \n",
    "X_train[\"relation\"] = X_train[\"relation\"].replace(\"self\",\"Self\")\n",
    "print(X_train[\"relation\"].unique())\n",
    "print(X_train[\"relation\"].mode())\n"
   ]
  },
  {
   "cell_type": "code",
   "execution_count": 69,
   "metadata": {
    "jupyter": {
     "outputs_hidden": true
    }
   },
   "outputs": [
    {
     "data": {
      "text/plain": [
       "False    877\n",
       "True       3\n",
       "Name: age_num, dtype: int64"
      ]
     },
     "execution_count": 69,
     "metadata": {},
     "output_type": "execute_result"
    }
   ],
   "source": [
    "X_train['age_num'].isna().value_counts()"
   ]
  },
  {
   "cell_type": "code",
   "execution_count": 70,
   "metadata": {},
   "outputs": [],
   "source": [
    "#ELIMINO LASS INSTANCIAS CON Nan en AGE NUM\n",
    "\n",
    "X_train_sinNan = X_train.dropna(subset = [\"age_num\"])"
   ]
  },
  {
   "cell_type": "code",
   "execution_count": 71,
   "metadata": {},
   "outputs": [],
   "source": [
    "#fuerzo el tipo de age_num a int:\n",
    "X_train_sinNan[\"age_num\"] = X_train_sinNan[\"age_num\"].astype(int)"
   ]
  },
  {
   "cell_type": "code",
   "execution_count": 72,
   "metadata": {
    "jupyter": {
     "outputs_hidden": true
    }
   },
   "outputs": [
    {
     "data": {
      "text/html": [
       "<div>\n",
       "<style scoped>\n",
       "    .dataframe tbody tr th:only-of-type {\n",
       "        vertical-align: middle;\n",
       "    }\n",
       "\n",
       "    .dataframe tbody tr th {\n",
       "        vertical-align: top;\n",
       "    }\n",
       "\n",
       "    .dataframe thead th {\n",
       "        text-align: right;\n",
       "    }\n",
       "</style>\n",
       "<table border=\"1\" class=\"dataframe\">\n",
       "  <thead>\n",
       "    <tr style=\"text-align: right;\">\n",
       "      <th>COL_N</th>\n",
       "      <th>A9_score</th>\n",
       "      <th>A10_score</th>\n",
       "      <th>screening_score</th>\n",
       "      <th>sex</th>\n",
       "      <th>ethnicity</th>\n",
       "      <th>jaundice</th>\n",
       "      <th>fam_history_PDD</th>\n",
       "      <th>country_of_res</th>\n",
       "      <th>age_num</th>\n",
       "      <th>age_desc</th>\n",
       "      <th>relation</th>\n",
       "    </tr>\n",
       "  </thead>\n",
       "  <tbody>\n",
       "    <tr>\n",
       "      <th>DATA_TYPE</th>\n",
       "      <td>int64</td>\n",
       "      <td>int64</td>\n",
       "      <td>int64</td>\n",
       "      <td>object</td>\n",
       "      <td>object</td>\n",
       "      <td>object</td>\n",
       "      <td>object</td>\n",
       "      <td>object</td>\n",
       "      <td>int32</td>\n",
       "      <td>object</td>\n",
       "      <td>object</td>\n",
       "    </tr>\n",
       "    <tr>\n",
       "      <th>MISSINGS (%)</th>\n",
       "      <td>0</td>\n",
       "      <td>0</td>\n",
       "      <td>0</td>\n",
       "      <td>0</td>\n",
       "      <td>12.88</td>\n",
       "      <td>0</td>\n",
       "      <td>0</td>\n",
       "      <td>0</td>\n",
       "      <td>0</td>\n",
       "      <td>0</td>\n",
       "      <td>12.88</td>\n",
       "    </tr>\n",
       "    <tr>\n",
       "      <th>UNIQUE_VALUES</th>\n",
       "      <td>2</td>\n",
       "      <td>2</td>\n",
       "      <td>11</td>\n",
       "      <td>2</td>\n",
       "      <td>11</td>\n",
       "      <td>2</td>\n",
       "      <td>2</td>\n",
       "      <td>86</td>\n",
       "      <td>58</td>\n",
       "      <td>4</td>\n",
       "      <td>5</td>\n",
       "    </tr>\n",
       "    <tr>\n",
       "      <th>CARDIN (%)</th>\n",
       "      <td>0.23</td>\n",
       "      <td>0.23</td>\n",
       "      <td>1.25</td>\n",
       "      <td>0.23</td>\n",
       "      <td>1.25</td>\n",
       "      <td>0.23</td>\n",
       "      <td>0.23</td>\n",
       "      <td>9.81</td>\n",
       "      <td>6.61</td>\n",
       "      <td>0.46</td>\n",
       "      <td>0.57</td>\n",
       "    </tr>\n",
       "  </tbody>\n",
       "</table>\n",
       "</div>"
      ],
      "text/plain": [
       "COL_N         A9_score A10_score screening_score     sex ethnicity jaundice  \\\n",
       "DATA_TYPE        int64     int64           int64  object    object   object   \n",
       "MISSINGS (%)         0         0               0       0     12.88        0   \n",
       "UNIQUE_VALUES        2         2              11       2        11        2   \n",
       "CARDIN (%)        0.23      0.23            1.25    0.23      1.25     0.23   \n",
       "\n",
       "COL_N         fam_history_PDD country_of_res age_num age_desc relation  \n",
       "DATA_TYPE              object         object   int32   object   object  \n",
       "MISSINGS (%)                0              0       0        0    12.88  \n",
       "UNIQUE_VALUES               2             86      58        4        5  \n",
       "CARDIN (%)               0.23           9.81    6.61     0.46     0.57  "
      ]
     },
     "execution_count": 72,
     "metadata": {},
     "output_type": "execute_result"
    }
   ],
   "source": [
    "data_report(X_train_sinNan.iloc[:,-11:])"
   ]
  },
  {
   "cell_type": "code",
   "execution_count": 74,
   "metadata": {},
   "outputs": [
    {
     "data": {
      "text/plain": [
       "(877, 19)"
      ]
     },
     "execution_count": 74,
     "metadata": {},
     "output_type": "execute_result"
    }
   ],
   "source": [
    "X_train_sinNan.shape"
   ]
  },
  {
   "cell_type": "code",
   "execution_count": 75,
   "metadata": {},
   "outputs": [],
   "source": [
    "#reemplazo los missing de ethnicity por la moda, que es White-European.\n",
    "X_train_sinNan[\"ethnicity\"] = X_train_sinNan[\"ethnicity\"].replace([None],\"White-European\")"
   ]
  },
  {
   "cell_type": "code",
   "execution_count": 76,
   "metadata": {},
   "outputs": [],
   "source": [
    "#reemplazo los missing de relation por la moda, que es Self.\n",
    "X_train_sinNan[\"relation\"] = X_train_sinNan[\"relation\"].replace([None],\"Self\")\n",
    "#[podría haber hecho esto directamente con un fillna sobre la columna en cuestión .moda]"
   ]
  },
  {
   "cell_type": "code",
   "execution_count": 77,
   "metadata": {},
   "outputs": [
    {
     "data": {
      "text/html": [
       "<div>\n",
       "<style scoped>\n",
       "    .dataframe tbody tr th:only-of-type {\n",
       "        vertical-align: middle;\n",
       "    }\n",
       "\n",
       "    .dataframe tbody tr th {\n",
       "        vertical-align: top;\n",
       "    }\n",
       "\n",
       "    .dataframe thead th {\n",
       "        text-align: right;\n",
       "    }\n",
       "</style>\n",
       "<table border=\"1\" class=\"dataframe\">\n",
       "  <thead>\n",
       "    <tr style=\"text-align: right;\">\n",
       "      <th>COL_N</th>\n",
       "      <th>A1_score</th>\n",
       "      <th>A2_score</th>\n",
       "      <th>A3_score</th>\n",
       "      <th>A4_score</th>\n",
       "      <th>A5_score</th>\n",
       "      <th>A6_score</th>\n",
       "      <th>A7_score</th>\n",
       "      <th>A8_score</th>\n",
       "      <th>A9_score</th>\n",
       "      <th>A10_score</th>\n",
       "      <th>screening_score</th>\n",
       "      <th>sex</th>\n",
       "      <th>ethnicity</th>\n",
       "      <th>jaundice</th>\n",
       "      <th>fam_history_PDD</th>\n",
       "      <th>country_of_res</th>\n",
       "      <th>age_num</th>\n",
       "      <th>age_desc</th>\n",
       "      <th>relation</th>\n",
       "    </tr>\n",
       "  </thead>\n",
       "  <tbody>\n",
       "    <tr>\n",
       "      <th>DATA_TYPE</th>\n",
       "      <td>int64</td>\n",
       "      <td>int64</td>\n",
       "      <td>int64</td>\n",
       "      <td>int64</td>\n",
       "      <td>int64</td>\n",
       "      <td>int64</td>\n",
       "      <td>int64</td>\n",
       "      <td>int64</td>\n",
       "      <td>int64</td>\n",
       "      <td>int64</td>\n",
       "      <td>int64</td>\n",
       "      <td>object</td>\n",
       "      <td>object</td>\n",
       "      <td>object</td>\n",
       "      <td>object</td>\n",
       "      <td>object</td>\n",
       "      <td>int32</td>\n",
       "      <td>object</td>\n",
       "      <td>object</td>\n",
       "    </tr>\n",
       "    <tr>\n",
       "      <th>MISSINGS (%)</th>\n",
       "      <td>0</td>\n",
       "      <td>0</td>\n",
       "      <td>0</td>\n",
       "      <td>0</td>\n",
       "      <td>0</td>\n",
       "      <td>0</td>\n",
       "      <td>0</td>\n",
       "      <td>0</td>\n",
       "      <td>0</td>\n",
       "      <td>0</td>\n",
       "      <td>0</td>\n",
       "      <td>0</td>\n",
       "      <td>0</td>\n",
       "      <td>0</td>\n",
       "      <td>0</td>\n",
       "      <td>0</td>\n",
       "      <td>0</td>\n",
       "      <td>0</td>\n",
       "      <td>0</td>\n",
       "    </tr>\n",
       "    <tr>\n",
       "      <th>UNIQUE_VALUES</th>\n",
       "      <td>2</td>\n",
       "      <td>2</td>\n",
       "      <td>2</td>\n",
       "      <td>2</td>\n",
       "      <td>2</td>\n",
       "      <td>2</td>\n",
       "      <td>2</td>\n",
       "      <td>2</td>\n",
       "      <td>2</td>\n",
       "      <td>2</td>\n",
       "      <td>11</td>\n",
       "      <td>2</td>\n",
       "      <td>11</td>\n",
       "      <td>2</td>\n",
       "      <td>2</td>\n",
       "      <td>86</td>\n",
       "      <td>58</td>\n",
       "      <td>4</td>\n",
       "      <td>5</td>\n",
       "    </tr>\n",
       "    <tr>\n",
       "      <th>CARDIN (%)</th>\n",
       "      <td>0.23</td>\n",
       "      <td>0.23</td>\n",
       "      <td>0.23</td>\n",
       "      <td>0.23</td>\n",
       "      <td>0.23</td>\n",
       "      <td>0.23</td>\n",
       "      <td>0.23</td>\n",
       "      <td>0.23</td>\n",
       "      <td>0.23</td>\n",
       "      <td>0.23</td>\n",
       "      <td>1.25</td>\n",
       "      <td>0.23</td>\n",
       "      <td>1.25</td>\n",
       "      <td>0.23</td>\n",
       "      <td>0.23</td>\n",
       "      <td>9.81</td>\n",
       "      <td>6.61</td>\n",
       "      <td>0.46</td>\n",
       "      <td>0.57</td>\n",
       "    </tr>\n",
       "  </tbody>\n",
       "</table>\n",
       "</div>"
      ],
      "text/plain": [
       "COL_N         A1_score A2_score A3_score A4_score A5_score A6_score A7_score  \\\n",
       "DATA_TYPE        int64    int64    int64    int64    int64    int64    int64   \n",
       "MISSINGS (%)         0        0        0        0        0        0        0   \n",
       "UNIQUE_VALUES        2        2        2        2        2        2        2   \n",
       "CARDIN (%)        0.23     0.23     0.23     0.23     0.23     0.23     0.23   \n",
       "\n",
       "COL_N         A8_score A9_score A10_score screening_score     sex ethnicity  \\\n",
       "DATA_TYPE        int64    int64     int64           int64  object    object   \n",
       "MISSINGS (%)         0        0         0               0       0         0   \n",
       "UNIQUE_VALUES        2        2         2              11       2        11   \n",
       "CARDIN (%)        0.23     0.23      0.23            1.25    0.23      1.25   \n",
       "\n",
       "COL_N         jaundice fam_history_PDD country_of_res age_num age_desc  \\\n",
       "DATA_TYPE       object          object         object   int32   object   \n",
       "MISSINGS (%)         0               0              0       0        0   \n",
       "UNIQUE_VALUES        2               2             86      58        4   \n",
       "CARDIN (%)        0.23            0.23           9.81    6.61     0.46   \n",
       "\n",
       "COL_N         relation  \n",
       "DATA_TYPE       object  \n",
       "MISSINGS (%)         0  \n",
       "UNIQUE_VALUES        5  \n",
       "CARDIN (%)        0.57  "
      ]
     },
     "execution_count": 77,
     "metadata": {},
     "output_type": "execute_result"
    }
   ],
   "source": [
    "#Verifico que ya no tengo missings:\n",
    "data_report(X_train_sinNan)"
   ]
  },
  {
   "cell_type": "code",
   "execution_count": 78,
   "metadata": {},
   "outputs": [],
   "source": [
    "X_train_clean = X_train_sinNan"
   ]
  },
  {
   "cell_type": "markdown",
   "metadata": {},
   "source": [
    "### 2.Transformaciones de X_train"
   ]
  },
  {
   "cell_type": "markdown",
   "metadata": {},
   "source": [
    "En primer lugar, el dataset de train tiene siete columnas categóricas. Tres de ellas son binarias y las otras cuatro presentan 4 o más categorias diferentes de valores.\n",
    "\n",
    "Respecto de las columnas categóricas binarias, asigno categorías numéricas 0/1 a los valores m/f y no/yes.\n"
   ]
  },
  {
   "cell_type": "markdown",
   "metadata": {},
   "source": [
    "#### 2.1 Encodings\n",
    "\n",
    "##### 2.1.1 Conversión de columnas categóricas binarias en columnas numéricas.\n",
    "\n",
    "Respecto de las columnas categóricas binarias, asigno los valores numéricos 0/1 a las categorías m/f y no/yes."
   ]
  },
  {
   "cell_type": "code",
   "execution_count": 433,
   "metadata": {
    "collapsed": true,
    "jupyter": {
     "outputs_hidden": true
    }
   },
   "outputs": [
    {
     "data": {
      "text/plain": [
       "507      no\n",
       "551      no\n",
       "290      no\n",
       "2       yes\n",
       "6        no\n",
       "       ... \n",
       "466      no\n",
       "121      no\n",
       "1044     no\n",
       "1095    yes\n",
       "860      no\n",
       "Name: jaundice, Length: 877, dtype: object"
      ]
     },
     "execution_count": 433,
     "metadata": {},
     "output_type": "execute_result"
    }
   ],
   "source": [
    "X_train_clean[\"jaundice\"]"
   ]
  },
  {
   "cell_type": "code",
   "execution_count": 434,
   "metadata": {
    "collapsed": true,
    "jupyter": {
     "outputs_hidden": true
    }
   },
   "outputs": [
    {
     "data": {
      "text/plain": [
       "507      no\n",
       "551     yes\n",
       "290      no\n",
       "2       yes\n",
       "6        no\n",
       "       ... \n",
       "466      no\n",
       "121      no\n",
       "1044     no\n",
       "1095    yes\n",
       "860      no\n",
       "Name: fam_history_PDD, Length: 877, dtype: object"
      ]
     },
     "execution_count": 434,
     "metadata": {},
     "output_type": "execute_result"
    }
   ],
   "source": [
    "X_train_clean[\"fam_history_PDD\"]"
   ]
  },
  {
   "cell_type": "code",
   "execution_count": 435,
   "metadata": {
    "collapsed": true,
    "jupyter": {
     "outputs_hidden": true
    }
   },
   "outputs": [
    {
     "data": {
      "text/plain": [
       "507     m\n",
       "551     f\n",
       "290     f\n",
       "2       m\n",
       "6       f\n",
       "       ..\n",
       "466     m\n",
       "121     f\n",
       "1044    f\n",
       "1095    f\n",
       "860     m\n",
       "Name: sex, Length: 877, dtype: object"
      ]
     },
     "execution_count": 435,
     "metadata": {},
     "output_type": "execute_result"
    }
   ],
   "source": [
    "X_train_clean[\"sex\"]"
   ]
  },
  {
   "cell_type": "code",
   "execution_count": 21,
   "metadata": {
    "jupyter": {
     "outputs_hidden": true
    }
   },
   "outputs": [
    {
     "data": {
      "text/plain": [
       "507     0\n",
       "551     0\n",
       "290     0\n",
       "2       1\n",
       "6       0\n",
       "       ..\n",
       "466     0\n",
       "121     0\n",
       "1044    0\n",
       "1095    1\n",
       "860     0\n",
       "Name: jaundice, Length: 877, dtype: int64"
      ]
     },
     "execution_count": 21,
     "metadata": {},
     "output_type": "execute_result"
    }
   ],
   "source": [
    "#Respecto de las columnas categóricas binarias, utilizo un apply para asignar categorías numéricas 0/1 a los valores m/f y no/yes\n",
    "\n",
    "def mapping(x):\n",
    "    if x == \"yes\":\n",
    "        return 1\n",
    "    elif x == \"no\":\n",
    "        return 0\n",
    "\n",
    "X_train_clean[\"jaundice\"] = X_train_clean[\"jaundice\"].apply(mapping)\n",
    "X_train_clean[\"jaundice\"]"
   ]
  },
  {
   "cell_type": "code",
   "execution_count": 22,
   "metadata": {
    "jupyter": {
     "outputs_hidden": true
    }
   },
   "outputs": [
    {
     "data": {
      "text/plain": [
       "507     0\n",
       "551     1\n",
       "290     0\n",
       "2       1\n",
       "6       0\n",
       "       ..\n",
       "466     0\n",
       "121     0\n",
       "1044    0\n",
       "1095    1\n",
       "860     0\n",
       "Name: fam_history_PDD, Length: 877, dtype: int64"
      ]
     },
     "execution_count": 22,
     "metadata": {},
     "output_type": "execute_result"
    }
   ],
   "source": [
    "X_train_clean[\"fam_history_PDD\"] = X_train_clean[\"fam_history_PDD\"].apply(mapping)\n",
    "X_train_clean[\"fam_history_PDD\"]"
   ]
  },
  {
   "cell_type": "code",
   "execution_count": 23,
   "metadata": {
    "jupyter": {
     "outputs_hidden": true
    }
   },
   "outputs": [
    {
     "data": {
      "text/plain": [
       "507     0\n",
       "551     1\n",
       "290     1\n",
       "2       0\n",
       "6       1\n",
       "       ..\n",
       "466     0\n",
       "121     1\n",
       "1044    1\n",
       "1095    1\n",
       "860     0\n",
       "Name: sex, Length: 877, dtype: int64"
      ]
     },
     "execution_count": 23,
     "metadata": {},
     "output_type": "execute_result"
    }
   ],
   "source": [
    "def mapping_2(x):\n",
    "    if x == \"f\":\n",
    "        return 1\n",
    "    elif x == \"m\":\n",
    "        return 0\n",
    "\n",
    "X_train_clean[\"sex\"] = X_train_clean[\"sex\"].apply(mapping_2)\n",
    "X_train_clean[\"sex\"]"
   ]
  },
  {
   "cell_type": "markdown",
   "metadata": {},
   "source": [
    "##### 2.1.2 Conversión de columnas categóricas de 3 o más clases en columnas numéricas."
   ]
  },
  {
   "cell_type": "code",
   "execution_count": 24,
   "metadata": {
    "jupyter": {
     "outputs_hidden": true
    }
   },
   "outputs": [
    {
     "data": {
      "text/html": [
       "<div>\n",
       "<style scoped>\n",
       "    .dataframe tbody tr th:only-of-type {\n",
       "        vertical-align: middle;\n",
       "    }\n",
       "\n",
       "    .dataframe tbody tr th {\n",
       "        vertical-align: top;\n",
       "    }\n",
       "\n",
       "    .dataframe thead th {\n",
       "        text-align: right;\n",
       "    }\n",
       "</style>\n",
       "<table border=\"1\" class=\"dataframe\">\n",
       "  <thead>\n",
       "    <tr style=\"text-align: right;\">\n",
       "      <th></th>\n",
       "      <th>ethnicity_'Middle Eastern '</th>\n",
       "      <th>ethnicity_'South Asian'</th>\n",
       "      <th>ethnicity_Asian</th>\n",
       "      <th>ethnicity_Black</th>\n",
       "      <th>ethnicity_Hispanic</th>\n",
       "      <th>ethnicity_Latino</th>\n",
       "      <th>ethnicity_Others</th>\n",
       "      <th>ethnicity_Pasifika</th>\n",
       "      <th>ethnicity_Turkish</th>\n",
       "      <th>ethnicity_White-European</th>\n",
       "      <th>ethnicity_others</th>\n",
       "      <th>age_desc_'12-15 years'</th>\n",
       "      <th>age_desc_'12-16 years'</th>\n",
       "      <th>age_desc_'18 and more'</th>\n",
       "      <th>age_desc_'4-11 years'</th>\n",
       "      <th>relation_'Health care professional'</th>\n",
       "      <th>relation_Others</th>\n",
       "      <th>relation_Parent</th>\n",
       "      <th>relation_Relative</th>\n",
       "      <th>relation_Self</th>\n",
       "    </tr>\n",
       "  </thead>\n",
       "  <tbody>\n",
       "    <tr>\n",
       "      <th>507</th>\n",
       "      <td>0</td>\n",
       "      <td>0</td>\n",
       "      <td>0</td>\n",
       "      <td>0</td>\n",
       "      <td>0</td>\n",
       "      <td>0</td>\n",
       "      <td>0</td>\n",
       "      <td>0</td>\n",
       "      <td>0</td>\n",
       "      <td>1</td>\n",
       "      <td>0</td>\n",
       "      <td>0</td>\n",
       "      <td>0</td>\n",
       "      <td>1</td>\n",
       "      <td>0</td>\n",
       "      <td>0</td>\n",
       "      <td>0</td>\n",
       "      <td>0</td>\n",
       "      <td>0</td>\n",
       "      <td>1</td>\n",
       "    </tr>\n",
       "    <tr>\n",
       "      <th>551</th>\n",
       "      <td>0</td>\n",
       "      <td>0</td>\n",
       "      <td>0</td>\n",
       "      <td>0</td>\n",
       "      <td>0</td>\n",
       "      <td>0</td>\n",
       "      <td>0</td>\n",
       "      <td>0</td>\n",
       "      <td>0</td>\n",
       "      <td>1</td>\n",
       "      <td>0</td>\n",
       "      <td>0</td>\n",
       "      <td>0</td>\n",
       "      <td>1</td>\n",
       "      <td>0</td>\n",
       "      <td>0</td>\n",
       "      <td>0</td>\n",
       "      <td>0</td>\n",
       "      <td>0</td>\n",
       "      <td>1</td>\n",
       "    </tr>\n",
       "    <tr>\n",
       "      <th>290</th>\n",
       "      <td>0</td>\n",
       "      <td>0</td>\n",
       "      <td>0</td>\n",
       "      <td>0</td>\n",
       "      <td>0</td>\n",
       "      <td>0</td>\n",
       "      <td>0</td>\n",
       "      <td>0</td>\n",
       "      <td>0</td>\n",
       "      <td>1</td>\n",
       "      <td>0</td>\n",
       "      <td>0</td>\n",
       "      <td>0</td>\n",
       "      <td>1</td>\n",
       "      <td>0</td>\n",
       "      <td>0</td>\n",
       "      <td>0</td>\n",
       "      <td>0</td>\n",
       "      <td>0</td>\n",
       "      <td>1</td>\n",
       "    </tr>\n",
       "    <tr>\n",
       "      <th>2</th>\n",
       "      <td>0</td>\n",
       "      <td>0</td>\n",
       "      <td>0</td>\n",
       "      <td>0</td>\n",
       "      <td>0</td>\n",
       "      <td>1</td>\n",
       "      <td>0</td>\n",
       "      <td>0</td>\n",
       "      <td>0</td>\n",
       "      <td>0</td>\n",
       "      <td>0</td>\n",
       "      <td>0</td>\n",
       "      <td>0</td>\n",
       "      <td>1</td>\n",
       "      <td>0</td>\n",
       "      <td>0</td>\n",
       "      <td>0</td>\n",
       "      <td>1</td>\n",
       "      <td>0</td>\n",
       "      <td>0</td>\n",
       "    </tr>\n",
       "    <tr>\n",
       "      <th>6</th>\n",
       "      <td>0</td>\n",
       "      <td>0</td>\n",
       "      <td>0</td>\n",
       "      <td>1</td>\n",
       "      <td>0</td>\n",
       "      <td>0</td>\n",
       "      <td>0</td>\n",
       "      <td>0</td>\n",
       "      <td>0</td>\n",
       "      <td>0</td>\n",
       "      <td>0</td>\n",
       "      <td>0</td>\n",
       "      <td>0</td>\n",
       "      <td>1</td>\n",
       "      <td>0</td>\n",
       "      <td>0</td>\n",
       "      <td>0</td>\n",
       "      <td>0</td>\n",
       "      <td>0</td>\n",
       "      <td>1</td>\n",
       "    </tr>\n",
       "    <tr>\n",
       "      <th>...</th>\n",
       "      <td>...</td>\n",
       "      <td>...</td>\n",
       "      <td>...</td>\n",
       "      <td>...</td>\n",
       "      <td>...</td>\n",
       "      <td>...</td>\n",
       "      <td>...</td>\n",
       "      <td>...</td>\n",
       "      <td>...</td>\n",
       "      <td>...</td>\n",
       "      <td>...</td>\n",
       "      <td>...</td>\n",
       "      <td>...</td>\n",
       "      <td>...</td>\n",
       "      <td>...</td>\n",
       "      <td>...</td>\n",
       "      <td>...</td>\n",
       "      <td>...</td>\n",
       "      <td>...</td>\n",
       "      <td>...</td>\n",
       "    </tr>\n",
       "    <tr>\n",
       "      <th>466</th>\n",
       "      <td>0</td>\n",
       "      <td>0</td>\n",
       "      <td>0</td>\n",
       "      <td>0</td>\n",
       "      <td>0</td>\n",
       "      <td>0</td>\n",
       "      <td>0</td>\n",
       "      <td>0</td>\n",
       "      <td>0</td>\n",
       "      <td>1</td>\n",
       "      <td>0</td>\n",
       "      <td>0</td>\n",
       "      <td>0</td>\n",
       "      <td>1</td>\n",
       "      <td>0</td>\n",
       "      <td>0</td>\n",
       "      <td>0</td>\n",
       "      <td>0</td>\n",
       "      <td>1</td>\n",
       "      <td>0</td>\n",
       "    </tr>\n",
       "    <tr>\n",
       "      <th>121</th>\n",
       "      <td>0</td>\n",
       "      <td>0</td>\n",
       "      <td>0</td>\n",
       "      <td>0</td>\n",
       "      <td>0</td>\n",
       "      <td>0</td>\n",
       "      <td>0</td>\n",
       "      <td>0</td>\n",
       "      <td>0</td>\n",
       "      <td>1</td>\n",
       "      <td>0</td>\n",
       "      <td>0</td>\n",
       "      <td>0</td>\n",
       "      <td>1</td>\n",
       "      <td>0</td>\n",
       "      <td>0</td>\n",
       "      <td>0</td>\n",
       "      <td>0</td>\n",
       "      <td>0</td>\n",
       "      <td>1</td>\n",
       "    </tr>\n",
       "    <tr>\n",
       "      <th>1044</th>\n",
       "      <td>0</td>\n",
       "      <td>0</td>\n",
       "      <td>1</td>\n",
       "      <td>0</td>\n",
       "      <td>0</td>\n",
       "      <td>0</td>\n",
       "      <td>0</td>\n",
       "      <td>0</td>\n",
       "      <td>0</td>\n",
       "      <td>0</td>\n",
       "      <td>0</td>\n",
       "      <td>0</td>\n",
       "      <td>0</td>\n",
       "      <td>0</td>\n",
       "      <td>1</td>\n",
       "      <td>0</td>\n",
       "      <td>0</td>\n",
       "      <td>1</td>\n",
       "      <td>0</td>\n",
       "      <td>0</td>\n",
       "    </tr>\n",
       "    <tr>\n",
       "      <th>1095</th>\n",
       "      <td>0</td>\n",
       "      <td>0</td>\n",
       "      <td>0</td>\n",
       "      <td>0</td>\n",
       "      <td>0</td>\n",
       "      <td>0</td>\n",
       "      <td>0</td>\n",
       "      <td>0</td>\n",
       "      <td>0</td>\n",
       "      <td>1</td>\n",
       "      <td>0</td>\n",
       "      <td>0</td>\n",
       "      <td>0</td>\n",
       "      <td>0</td>\n",
       "      <td>1</td>\n",
       "      <td>0</td>\n",
       "      <td>0</td>\n",
       "      <td>1</td>\n",
       "      <td>0</td>\n",
       "      <td>0</td>\n",
       "    </tr>\n",
       "    <tr>\n",
       "      <th>860</th>\n",
       "      <td>0</td>\n",
       "      <td>0</td>\n",
       "      <td>0</td>\n",
       "      <td>0</td>\n",
       "      <td>0</td>\n",
       "      <td>0</td>\n",
       "      <td>0</td>\n",
       "      <td>0</td>\n",
       "      <td>0</td>\n",
       "      <td>1</td>\n",
       "      <td>0</td>\n",
       "      <td>0</td>\n",
       "      <td>0</td>\n",
       "      <td>0</td>\n",
       "      <td>1</td>\n",
       "      <td>0</td>\n",
       "      <td>0</td>\n",
       "      <td>0</td>\n",
       "      <td>0</td>\n",
       "      <td>1</td>\n",
       "    </tr>\n",
       "  </tbody>\n",
       "</table>\n",
       "<p>877 rows × 20 columns</p>\n",
       "</div>"
      ],
      "text/plain": [
       "      ethnicity_'Middle Eastern '  ethnicity_'South Asian'  ethnicity_Asian  \\\n",
       "507                             0                        0                0   \n",
       "551                             0                        0                0   \n",
       "290                             0                        0                0   \n",
       "2                               0                        0                0   \n",
       "6                               0                        0                0   \n",
       "...                           ...                      ...              ...   \n",
       "466                             0                        0                0   \n",
       "121                             0                        0                0   \n",
       "1044                            0                        0                1   \n",
       "1095                            0                        0                0   \n",
       "860                             0                        0                0   \n",
       "\n",
       "      ethnicity_Black  ethnicity_Hispanic  ethnicity_Latino  ethnicity_Others  \\\n",
       "507                 0                   0                 0                 0   \n",
       "551                 0                   0                 0                 0   \n",
       "290                 0                   0                 0                 0   \n",
       "2                   0                   0                 1                 0   \n",
       "6                   1                   0                 0                 0   \n",
       "...               ...                 ...               ...               ...   \n",
       "466                 0                   0                 0                 0   \n",
       "121                 0                   0                 0                 0   \n",
       "1044                0                   0                 0                 0   \n",
       "1095                0                   0                 0                 0   \n",
       "860                 0                   0                 0                 0   \n",
       "\n",
       "      ethnicity_Pasifika  ethnicity_Turkish  ethnicity_White-European  \\\n",
       "507                    0                  0                         1   \n",
       "551                    0                  0                         1   \n",
       "290                    0                  0                         1   \n",
       "2                      0                  0                         0   \n",
       "6                      0                  0                         0   \n",
       "...                  ...                ...                       ...   \n",
       "466                    0                  0                         1   \n",
       "121                    0                  0                         1   \n",
       "1044                   0                  0                         0   \n",
       "1095                   0                  0                         1   \n",
       "860                    0                  0                         1   \n",
       "\n",
       "      ethnicity_others  age_desc_'12-15 years'  age_desc_'12-16 years'  \\\n",
       "507                  0                       0                       0   \n",
       "551                  0                       0                       0   \n",
       "290                  0                       0                       0   \n",
       "2                    0                       0                       0   \n",
       "6                    0                       0                       0   \n",
       "...                ...                     ...                     ...   \n",
       "466                  0                       0                       0   \n",
       "121                  0                       0                       0   \n",
       "1044                 0                       0                       0   \n",
       "1095                 0                       0                       0   \n",
       "860                  0                       0                       0   \n",
       "\n",
       "      age_desc_'18 and more'  age_desc_'4-11 years'  \\\n",
       "507                        1                      0   \n",
       "551                        1                      0   \n",
       "290                        1                      0   \n",
       "2                          1                      0   \n",
       "6                          1                      0   \n",
       "...                      ...                    ...   \n",
       "466                        1                      0   \n",
       "121                        1                      0   \n",
       "1044                       0                      1   \n",
       "1095                       0                      1   \n",
       "860                        0                      1   \n",
       "\n",
       "      relation_'Health care professional'  relation_Others  relation_Parent  \\\n",
       "507                                     0                0                0   \n",
       "551                                     0                0                0   \n",
       "290                                     0                0                0   \n",
       "2                                       0                0                1   \n",
       "6                                       0                0                0   \n",
       "...                                   ...              ...              ...   \n",
       "466                                     0                0                0   \n",
       "121                                     0                0                0   \n",
       "1044                                    0                0                1   \n",
       "1095                                    0                0                1   \n",
       "860                                     0                0                0   \n",
       "\n",
       "      relation_Relative  relation_Self  \n",
       "507                   0              1  \n",
       "551                   0              1  \n",
       "290                   0              1  \n",
       "2                     0              0  \n",
       "6                     0              1  \n",
       "...                 ...            ...  \n",
       "466                   1              0  \n",
       "121                   0              1  \n",
       "1044                  0              0  \n",
       "1095                  0              0  \n",
       "860                   0              1  \n",
       "\n",
       "[877 rows x 20 columns]"
      ]
     },
     "execution_count": 24,
     "metadata": {},
     "output_type": "execute_result"
    }
   ],
   "source": [
    "#Utilizo un get dummies para transformar ethnicity, age_desc y relation, aunque me va a añadir 17 columnas nuevas al dataframe...\n",
    "\n",
    "X_train_dummy = pd.get_dummies(X_train[[\"ethnicity\",\"age_desc\",\"relation\"]])\n",
    "X_train_dummy       "
   ]
  },
  {
   "cell_type": "code",
   "execution_count": 25,
   "metadata": {},
   "outputs": [],
   "source": [
    "X_train_clean.drop(columns = [\"ethnicity\",\"age_desc\",\"relation\"], axis = 1,inplace = True)     "
   ]
  },
  {
   "cell_type": "code",
   "execution_count": 26,
   "metadata": {},
   "outputs": [],
   "source": [
    "X_train_encod = pd.concat([X_train_clean, X_train_dummy], axis = 1)"
   ]
  },
  {
   "cell_type": "code",
   "execution_count": 397,
   "metadata": {
    "collapsed": true,
    "jupyter": {
     "outputs_hidden": true
    }
   },
   "outputs": [
    {
     "data": {
      "text/html": [
       "<div>\n",
       "<style scoped>\n",
       "    .dataframe tbody tr th:only-of-type {\n",
       "        vertical-align: middle;\n",
       "    }\n",
       "\n",
       "    .dataframe tbody tr th {\n",
       "        vertical-align: top;\n",
       "    }\n",
       "\n",
       "    .dataframe thead th {\n",
       "        text-align: right;\n",
       "    }\n",
       "</style>\n",
       "<table border=\"1\" class=\"dataframe\">\n",
       "  <thead>\n",
       "    <tr style=\"text-align: right;\">\n",
       "      <th></th>\n",
       "      <th>A1_score</th>\n",
       "      <th>A2_score</th>\n",
       "      <th>A3_score</th>\n",
       "      <th>A4_score</th>\n",
       "      <th>A5_score</th>\n",
       "      <th>A6_score</th>\n",
       "      <th>A7_score</th>\n",
       "      <th>A8_score</th>\n",
       "      <th>A9_score</th>\n",
       "      <th>A10_score</th>\n",
       "      <th>...</th>\n",
       "      <th>ethnicity_others</th>\n",
       "      <th>age_desc_'12-15 years'</th>\n",
       "      <th>age_desc_'12-16 years'</th>\n",
       "      <th>age_desc_'18 and more'</th>\n",
       "      <th>age_desc_'4-11 years'</th>\n",
       "      <th>relation_'Health care professional'</th>\n",
       "      <th>relation_Others</th>\n",
       "      <th>relation_Parent</th>\n",
       "      <th>relation_Relative</th>\n",
       "      <th>relation_Self</th>\n",
       "    </tr>\n",
       "  </thead>\n",
       "  <tbody>\n",
       "    <tr>\n",
       "      <th>507</th>\n",
       "      <td>0</td>\n",
       "      <td>1</td>\n",
       "      <td>1</td>\n",
       "      <td>0</td>\n",
       "      <td>1</td>\n",
       "      <td>0</td>\n",
       "      <td>0</td>\n",
       "      <td>1</td>\n",
       "      <td>0</td>\n",
       "      <td>0</td>\n",
       "      <td>...</td>\n",
       "      <td>0</td>\n",
       "      <td>0</td>\n",
       "      <td>0</td>\n",
       "      <td>1</td>\n",
       "      <td>0</td>\n",
       "      <td>0</td>\n",
       "      <td>0</td>\n",
       "      <td>0</td>\n",
       "      <td>0</td>\n",
       "      <td>1</td>\n",
       "    </tr>\n",
       "    <tr>\n",
       "      <th>551</th>\n",
       "      <td>1</td>\n",
       "      <td>0</td>\n",
       "      <td>0</td>\n",
       "      <td>0</td>\n",
       "      <td>1</td>\n",
       "      <td>0</td>\n",
       "      <td>0</td>\n",
       "      <td>0</td>\n",
       "      <td>0</td>\n",
       "      <td>1</td>\n",
       "      <td>...</td>\n",
       "      <td>0</td>\n",
       "      <td>0</td>\n",
       "      <td>0</td>\n",
       "      <td>1</td>\n",
       "      <td>0</td>\n",
       "      <td>0</td>\n",
       "      <td>0</td>\n",
       "      <td>0</td>\n",
       "      <td>0</td>\n",
       "      <td>1</td>\n",
       "    </tr>\n",
       "    <tr>\n",
       "      <th>290</th>\n",
       "      <td>1</td>\n",
       "      <td>1</td>\n",
       "      <td>1</td>\n",
       "      <td>0</td>\n",
       "      <td>1</td>\n",
       "      <td>1</td>\n",
       "      <td>1</td>\n",
       "      <td>0</td>\n",
       "      <td>1</td>\n",
       "      <td>1</td>\n",
       "      <td>...</td>\n",
       "      <td>0</td>\n",
       "      <td>0</td>\n",
       "      <td>0</td>\n",
       "      <td>1</td>\n",
       "      <td>0</td>\n",
       "      <td>0</td>\n",
       "      <td>0</td>\n",
       "      <td>0</td>\n",
       "      <td>0</td>\n",
       "      <td>1</td>\n",
       "    </tr>\n",
       "    <tr>\n",
       "      <th>2</th>\n",
       "      <td>1</td>\n",
       "      <td>1</td>\n",
       "      <td>0</td>\n",
       "      <td>1</td>\n",
       "      <td>1</td>\n",
       "      <td>0</td>\n",
       "      <td>1</td>\n",
       "      <td>1</td>\n",
       "      <td>1</td>\n",
       "      <td>1</td>\n",
       "      <td>...</td>\n",
       "      <td>0</td>\n",
       "      <td>0</td>\n",
       "      <td>0</td>\n",
       "      <td>1</td>\n",
       "      <td>0</td>\n",
       "      <td>0</td>\n",
       "      <td>0</td>\n",
       "      <td>1</td>\n",
       "      <td>0</td>\n",
       "      <td>0</td>\n",
       "    </tr>\n",
       "    <tr>\n",
       "      <th>6</th>\n",
       "      <td>0</td>\n",
       "      <td>1</td>\n",
       "      <td>0</td>\n",
       "      <td>0</td>\n",
       "      <td>0</td>\n",
       "      <td>0</td>\n",
       "      <td>0</td>\n",
       "      <td>1</td>\n",
       "      <td>0</td>\n",
       "      <td>0</td>\n",
       "      <td>...</td>\n",
       "      <td>0</td>\n",
       "      <td>0</td>\n",
       "      <td>0</td>\n",
       "      <td>1</td>\n",
       "      <td>0</td>\n",
       "      <td>0</td>\n",
       "      <td>0</td>\n",
       "      <td>0</td>\n",
       "      <td>0</td>\n",
       "      <td>1</td>\n",
       "    </tr>\n",
       "    <tr>\n",
       "      <th>584</th>\n",
       "      <td>1</td>\n",
       "      <td>1</td>\n",
       "      <td>1</td>\n",
       "      <td>1</td>\n",
       "      <td>1</td>\n",
       "      <td>0</td>\n",
       "      <td>0</td>\n",
       "      <td>1</td>\n",
       "      <td>0</td>\n",
       "      <td>1</td>\n",
       "      <td>...</td>\n",
       "      <td>0</td>\n",
       "      <td>0</td>\n",
       "      <td>0</td>\n",
       "      <td>1</td>\n",
       "      <td>0</td>\n",
       "      <td>0</td>\n",
       "      <td>0</td>\n",
       "      <td>0</td>\n",
       "      <td>0</td>\n",
       "      <td>1</td>\n",
       "    </tr>\n",
       "    <tr>\n",
       "      <th>782</th>\n",
       "      <td>1</td>\n",
       "      <td>1</td>\n",
       "      <td>1</td>\n",
       "      <td>1</td>\n",
       "      <td>1</td>\n",
       "      <td>1</td>\n",
       "      <td>1</td>\n",
       "      <td>1</td>\n",
       "      <td>1</td>\n",
       "      <td>0</td>\n",
       "      <td>...</td>\n",
       "      <td>0</td>\n",
       "      <td>0</td>\n",
       "      <td>1</td>\n",
       "      <td>0</td>\n",
       "      <td>0</td>\n",
       "      <td>0</td>\n",
       "      <td>0</td>\n",
       "      <td>1</td>\n",
       "      <td>0</td>\n",
       "      <td>0</td>\n",
       "    </tr>\n",
       "    <tr>\n",
       "      <th>853</th>\n",
       "      <td>0</td>\n",
       "      <td>1</td>\n",
       "      <td>1</td>\n",
       "      <td>0</td>\n",
       "      <td>1</td>\n",
       "      <td>1</td>\n",
       "      <td>0</td>\n",
       "      <td>0</td>\n",
       "      <td>0</td>\n",
       "      <td>1</td>\n",
       "      <td>...</td>\n",
       "      <td>0</td>\n",
       "      <td>0</td>\n",
       "      <td>0</td>\n",
       "      <td>0</td>\n",
       "      <td>1</td>\n",
       "      <td>0</td>\n",
       "      <td>0</td>\n",
       "      <td>0</td>\n",
       "      <td>1</td>\n",
       "      <td>0</td>\n",
       "    </tr>\n",
       "    <tr>\n",
       "      <th>237</th>\n",
       "      <td>1</td>\n",
       "      <td>0</td>\n",
       "      <td>0</td>\n",
       "      <td>0</td>\n",
       "      <td>0</td>\n",
       "      <td>0</td>\n",
       "      <td>0</td>\n",
       "      <td>0</td>\n",
       "      <td>0</td>\n",
       "      <td>1</td>\n",
       "      <td>...</td>\n",
       "      <td>0</td>\n",
       "      <td>0</td>\n",
       "      <td>0</td>\n",
       "      <td>1</td>\n",
       "      <td>0</td>\n",
       "      <td>0</td>\n",
       "      <td>0</td>\n",
       "      <td>0</td>\n",
       "      <td>0</td>\n",
       "      <td>1</td>\n",
       "    </tr>\n",
       "    <tr>\n",
       "      <th>941</th>\n",
       "      <td>1</td>\n",
       "      <td>1</td>\n",
       "      <td>1</td>\n",
       "      <td>0</td>\n",
       "      <td>0</td>\n",
       "      <td>0</td>\n",
       "      <td>0</td>\n",
       "      <td>0</td>\n",
       "      <td>1</td>\n",
       "      <td>1</td>\n",
       "      <td>...</td>\n",
       "      <td>0</td>\n",
       "      <td>0</td>\n",
       "      <td>0</td>\n",
       "      <td>0</td>\n",
       "      <td>1</td>\n",
       "      <td>0</td>\n",
       "      <td>0</td>\n",
       "      <td>1</td>\n",
       "      <td>0</td>\n",
       "      <td>0</td>\n",
       "    </tr>\n",
       "  </tbody>\n",
       "</table>\n",
       "<p>10 rows × 36 columns</p>\n",
       "</div>"
      ],
      "text/plain": [
       "     A1_score  A2_score  A3_score  A4_score  A5_score  A6_score  A7_score  \\\n",
       "507         0         1         1         0         1         0         0   \n",
       "551         1         0         0         0         1         0         0   \n",
       "290         1         1         1         0         1         1         1   \n",
       "2           1         1         0         1         1         0         1   \n",
       "6           0         1         0         0         0         0         0   \n",
       "584         1         1         1         1         1         0         0   \n",
       "782         1         1         1         1         1         1         1   \n",
       "853         0         1         1         0         1         1         0   \n",
       "237         1         0         0         0         0         0         0   \n",
       "941         1         1         1         0         0         0         0   \n",
       "\n",
       "     A8_score  A9_score  A10_score  ...  ethnicity_others  \\\n",
       "507         1         0          0  ...                 0   \n",
       "551         0         0          1  ...                 0   \n",
       "290         0         1          1  ...                 0   \n",
       "2           1         1          1  ...                 0   \n",
       "6           1         0          0  ...                 0   \n",
       "584         1         0          1  ...                 0   \n",
       "782         1         1          0  ...                 0   \n",
       "853         0         0          1  ...                 0   \n",
       "237         0         0          1  ...                 0   \n",
       "941         0         1          1  ...                 0   \n",
       "\n",
       "     age_desc_'12-15 years'  age_desc_'12-16 years'  age_desc_'18 and more'  \\\n",
       "507                       0                       0                       1   \n",
       "551                       0                       0                       1   \n",
       "290                       0                       0                       1   \n",
       "2                         0                       0                       1   \n",
       "6                         0                       0                       1   \n",
       "584                       0                       0                       1   \n",
       "782                       0                       1                       0   \n",
       "853                       0                       0                       0   \n",
       "237                       0                       0                       1   \n",
       "941                       0                       0                       0   \n",
       "\n",
       "    age_desc_'4-11 years'  relation_'Health care professional'  \\\n",
       "507                     0                                    0   \n",
       "551                     0                                    0   \n",
       "290                     0                                    0   \n",
       "2                       0                                    0   \n",
       "6                       0                                    0   \n",
       "584                     0                                    0   \n",
       "782                     0                                    0   \n",
       "853                     1                                    0   \n",
       "237                     0                                    0   \n",
       "941                     1                                    0   \n",
       "\n",
       "     relation_Others  relation_Parent  relation_Relative  relation_Self  \n",
       "507                0                0                  0              1  \n",
       "551                0                0                  0              1  \n",
       "290                0                0                  0              1  \n",
       "2                  0                1                  0              0  \n",
       "6                  0                0                  0              1  \n",
       "584                0                0                  0              1  \n",
       "782                0                1                  0              0  \n",
       "853                0                0                  1              0  \n",
       "237                0                0                  0              1  \n",
       "941                0                1                  0              0  \n",
       "\n",
       "[10 rows x 36 columns]"
      ]
     },
     "execution_count": 397,
     "metadata": {},
     "output_type": "execute_result"
    }
   ],
   "source": [
    "X_train_encod.head(10)"
   ]
  },
  {
   "cell_type": "code",
   "execution_count": 398,
   "metadata": {
    "collapsed": true,
    "jupyter": {
     "outputs_hidden": true
    }
   },
   "outputs": [
    {
     "name": "stdout",
     "output_type": "stream",
     "text": [
      "<class 'pandas.core.frame.DataFrame'>\n",
      "Int64Index: 877 entries, 507 to 860\n",
      "Data columns (total 36 columns):\n",
      " #   Column                               Non-Null Count  Dtype \n",
      "---  ------                               --------------  ----- \n",
      " 0   A1_score                             877 non-null    int64 \n",
      " 1   A2_score                             877 non-null    int64 \n",
      " 2   A3_score                             877 non-null    int64 \n",
      " 3   A4_score                             877 non-null    int64 \n",
      " 4   A5_score                             877 non-null    int64 \n",
      " 5   A6_score                             877 non-null    int64 \n",
      " 6   A7_score                             877 non-null    int64 \n",
      " 7   A8_score                             877 non-null    int64 \n",
      " 8   A9_score                             877 non-null    int64 \n",
      " 9   A10_score                            877 non-null    int64 \n",
      " 10  screening_score                      877 non-null    int64 \n",
      " 11  sex                                  877 non-null    int64 \n",
      " 12  jaundice                             877 non-null    int64 \n",
      " 13  fam_history_PDD                      877 non-null    int64 \n",
      " 14  country_of_res                       877 non-null    object\n",
      " 15  age_num                              877 non-null    int32 \n",
      " 16  ethnicity_'Middle Eastern '          877 non-null    uint8 \n",
      " 17  ethnicity_'South Asian'              877 non-null    uint8 \n",
      " 18  ethnicity_Asian                      877 non-null    uint8 \n",
      " 19  ethnicity_Black                      877 non-null    uint8 \n",
      " 20  ethnicity_Hispanic                   877 non-null    uint8 \n",
      " 21  ethnicity_Latino                     877 non-null    uint8 \n",
      " 22  ethnicity_Others                     877 non-null    uint8 \n",
      " 23  ethnicity_Pasifika                   877 non-null    uint8 \n",
      " 24  ethnicity_Turkish                    877 non-null    uint8 \n",
      " 25  ethnicity_White-European             877 non-null    uint8 \n",
      " 26  ethnicity_others                     877 non-null    uint8 \n",
      " 27  age_desc_'12-15 years'               877 non-null    uint8 \n",
      " 28  age_desc_'12-16 years'               877 non-null    uint8 \n",
      " 29  age_desc_'18 and more'               877 non-null    uint8 \n",
      " 30  age_desc_'4-11 years'                877 non-null    uint8 \n",
      " 31  relation_'Health care professional'  877 non-null    uint8 \n",
      " 32  relation_Others                      877 non-null    uint8 \n",
      " 33  relation_Parent                      877 non-null    uint8 \n",
      " 34  relation_Relative                    877 non-null    uint8 \n",
      " 35  relation_Self                        877 non-null    uint8 \n",
      "dtypes: int32(1), int64(14), object(1), uint8(20)\n",
      "memory usage: 130.2+ KB\n"
     ]
    }
   ],
   "source": [
    "X_train_encod.info()"
   ]
  },
  {
   "cell_type": "code",
   "execution_count": 442,
   "metadata": {},
   "outputs": [
    {
     "name": "stdout",
     "output_type": "stream",
     "text": [
      "86\n"
     ]
    }
   ],
   "source": [
    "#Sólo queda una columna categórica, country_of_res: \n",
    "\n",
    "paises = X_train_transf[\"country_of_res\"].unique()\n",
    "print(len(paises))\n",
    "\n",
    "#Tiene 86 clases diferentes, no puedo hacer un get dummies con tantas categorías. \n",
    "\n",
    "#Elimino esta columna del dataset para los modelos de regresión logística y el svm y la dejo para el random forest y el xg boost.\n"
   ]
  },
  {
   "cell_type": "code",
   "execution_count": 443,
   "metadata": {
    "collapsed": true,
    "jupyter": {
     "outputs_hidden": true,
     "source_hidden": true
    }
   },
   "outputs": [
    {
     "data": {
      "text/plain": [
       "941    4\n",
       "Name: age_num, dtype: int32"
      ]
     },
     "execution_count": 443,
     "metadata": {},
     "output_type": "execute_result"
    }
   ],
   "source": [
    "X_train_encod[\"age_num\"][9:10]"
   ]
  },
  {
   "cell_type": "code",
   "execution_count": 27,
   "metadata": {},
   "outputs": [
    {
     "data": {
      "text/plain": [
       "False    877\n",
       "Name: age_num, dtype: int64"
      ]
     },
     "execution_count": 27,
     "metadata": {},
     "output_type": "execute_result"
    }
   ],
   "source": [
    "X_train_encod[\"age_num\"].isna().value_counts()"
   ]
  },
  {
   "cell_type": "markdown",
   "metadata": {},
   "source": [
    "#### 3. Transformación de la distribución de los datos en las variables numéricas. PENDIENTEEEE PREGUNTAR!!!!!!"
   ]
  },
  {
   "cell_type": "code",
   "execution_count": 257,
   "metadata": {
    "collapsed": true,
    "jupyter": {
     "outputs_hidden": true,
     "source_hidden": true
    }
   },
   "outputs": [
    {
     "name": "stdout",
     "output_type": "stream",
     "text": [
      "Asimetria: 0.5780313733742964\n"
     ]
    },
    {
     "data": {
      "text/plain": [
       "<AxesSubplot:xlabel='age_num'>"
      ]
     },
     "execution_count": 257,
     "metadata": {},
     "output_type": "execute_result"
    },
    {
     "data": {
      "image/png": "[encoded data removed]",
      "text/plain": [
       "<Figure size 720x360 with 1 Axes>"
      ]
     },
     "metadata": {
      "needs_background": "light"
     },
     "output_type": "display_data"
    }
   ],
   "source": [
    "#Distribución de la variable age_num.\n",
    "\n",
    "#Medimos la asimetría\n",
    "\n",
    "from scipy.stats import skew\n",
    "print(\"Asimetria:\", skew(X_train_encod[\"age_num\"]))\n",
    "\n",
    "plt.figure(figsize=(10,5))\n",
    "\n",
    "sns.distplot(X_train_transf[\"age_num\"], kde = False, color = \"#87CEEB\")\n",
    "\n",
    "#Claramente no es una distribución normal. probar cox box y t log"
   ]
  },
  {
   "cell_type": "code",
   "execution_count": 258,
   "metadata": {
    "collapsed": true,
    "jupyter": {
     "outputs_hidden": true,
     "source_hidden": true
    }
   },
   "outputs": [
    {
     "name": "stdout",
     "output_type": "stream",
     "text": [
      "Original:  0.5780313733742964\n",
      "Transformación logarítmica:  -0.6488604990101199\n",
      "Transformación de Box-Cox:  -0.10433782408236617\n"
     ]
    },
    {
     "data": {
      "image/png": "[encoded data removed]",
      "text/plain": [
       "<Figure size 1080x360 with 3 Axes>"
      ]
     },
     "metadata": {
      "needs_background": "light"
     },
     "output_type": "display_data"
    }
   ],
   "source": [
    "from scipy import stats\n",
    "\n",
    "fig, axes = plt.subplots(1, 3, figsize=(15, 5), sharey=True)\n",
    "\n",
    "print(\"Original: \", skew(X_train_transf[\"age_num\"]))\n",
    "sns.distplot(X_train_transf[\"age_num\"], kde=False, ax=axes[0])\n",
    "\n",
    "# Logaritmic\n",
    "print(\"Transformación logarítmica: \", skew(np.log(X_train_transf[\"age_num\"]),))\n",
    "sns.distplot(np.log(X_train_transf[\"age_num\"]),kde=False, ax=axes[1])\n",
    "# np.exp(log_value) # para invertir la transformación\n",
    "\n",
    "# Box-cox\n",
    "print(\"Transformación de Box-Cox: \", skew(stats.boxcox(X_train_transf[\"age_num\"])[0]))\n",
    "sns.distplot(stats.boxcox(X_train_transf[\"age_num\"])[0],kde=False, ax=axes[2]); "
   ]
  },
  {
   "cell_type": "code",
   "execution_count": 261,
   "metadata": {
    "collapsed": true,
    "jupyter": {
     "outputs_hidden": true,
     "source_hidden": true
    }
   },
   "outputs": [
    {
     "ename": "ValueError",
     "evalue": "Expected 2D array, got 1D array instead:\narray=[ 0.41615797  1.58369008  0.10481607  0.41615797 -0.36219677  0.64966439\n -0.5957032  -1.37405794 -0.36219677 -1.37405794  0.80533534 -1.14055152\n  0.0269806  -0.82920962  0.80533534 -0.44003225 -0.2843613  -1.06271604\n  0.18265155  0.18265155  1.27234819  0.18265155 -0.82920962 -0.05085488\n -0.12869035 -1.06271604  0.96100629  0.0269806   0.18265155  0.18265155\n -0.20652582  0.80533534 -0.98488057  0.33832249  0.33832249  0.10481607\n  0.64966439 -1.21838699  0.96100629 -0.12869035  1.66152556  2.67338672\n -0.05085488 -0.05085488 -0.20652582  0.41615797 -1.21838699 -0.12869035\n  1.73936103  0.10481607  0.64966439 -0.44003225  0.10481607  0.49399344\n -0.75137414  0.49399344  0.33832249 -0.12869035 -0.2843613   0.0269806\n -0.67353867  2.67338672 -1.29622246  0.57182892  0.57182892  0.57182892\n -0.05085488  0.72749987  2.1285384  -0.05085488  0.26048702 -1.37405794\n  0.0269806   0.64966439  0.64966439 -0.05085488 -1.37405794  0.41615797\n -1.37405794  0.18265155 -1.29622246 -1.37405794  0.26048702  0.10481607\n -0.5957032  -1.37405794 -1.37405794  1.35018366 -0.75137414  0.72749987\n  1.58369008  0.33832249 -0.12869035  0.18265155 -0.12869035  2.20637388\n -1.21838699 -0.44003225 -0.2843613   0.10481607 -1.37405794 -0.75137414\n -0.05085488  2.90689314 -0.82920962 -1.21838699  1.11667724 -0.75137414\n -0.20652582 -1.37405794  0.41615797  0.18265155  1.03884176  0.88317081\n  1.19451271 -0.90704509 -0.98488057 -0.82920962 -0.12869035  0.41615797\n  0.64966439  2.82905767  1.58369008 -0.2843613  -0.75137414  0.26048702\n  1.35018366  0.64966439 -1.06271604  0.10481607  0.88317081 -0.36219677\n -1.21838699  0.88317081  0.88317081  0.57182892 -1.29622246  0.0269806\n -0.75137414  0.10481607  0.0269806  -0.12869035  0.26048702  1.11667724\n  1.11667724 -0.5957032  -0.05085488  0.0269806   0.0269806  -1.29622246\n  0.0269806  -1.37405794  1.50585461  0.88317081 -1.37405794  0.26048702\n  0.0269806  -0.05085488 -0.05085488  0.49399344 -1.37405794 -0.20652582\n  0.88317081  0.41615797  0.72749987  0.80533534  1.50585461 -0.05085488\n  0.80533534 -1.37405794 -0.36219677  0.10481607  0.49399344 -1.37405794\n -0.12869035  0.64966439 -0.12869035  0.80533534 -0.05085488 -1.37405794\n  1.35018366  0.10481607 -0.05085488  0.64966439 -1.21838699 -0.90704509\n -0.98488057  0.49399344 -1.06271604  0.10481607 -1.21838699 -1.37405794\n  0.57182892 -1.37405794  2.36204482  0.41615797 -0.44003225  0.57182892\n -0.82920962 -1.14055152  3.29607051  0.96100629  0.49399344 -0.51786772\n -0.20652582 -0.82920962  0.0269806  -0.2843613   0.0269806  -1.37405794\n -1.21838699  0.10481607 -0.51786772 -0.75137414 -0.12869035  1.42801913\n  0.72749987 -1.29622246 -0.75137414  0.64966439  0.80533534 -0.82920962\n -0.36219677 -0.67353867 -1.14055152 -1.29622246  0.18265155 -0.05085488\n  1.58369008 -0.98488057  0.80533534 -0.90704509  1.8171965   1.19451271\n  2.05070293  0.64966439 -0.67353867  1.03884176 -0.36219677  1.11667724\n  0.49399344  0.18265155 -0.75137414 -1.14055152  0.18265155  1.11667724\n -0.20652582  2.05070293 -0.75137414 -1.37405794 -0.98488057 -0.90704509\n -1.29622246  0.33832249  0.10481607  0.10481607 -0.05085488  0.18265155\n -1.37405794  0.41615797 -1.21838699  0.88317081 -0.67353867 -1.37405794\n -0.98488057  0.10481607  0.0269806  -0.20652582  0.33832249  0.18265155\n -1.21838699 -1.37405794 -1.37405794 -0.36219677 -1.29622246 -0.2843613\n  0.18265155 -1.14055152  1.8171965  -1.21838699  0.18265155  1.58369008\n  0.80533534  0.18265155  0.57182892 -1.14055152 -0.2843613   0.0269806\n  1.73936103 -0.36219677 -1.06271604 -1.37405794  3.06256409  0.0269806\n -0.44003225  0.18265155  2.05070293  1.03884176  0.80533534 -1.37405794\n  1.11667724  0.0269806   1.58369008  2.20637388 -0.44003225 -0.05085488\n  0.72749987 -0.05085488 -1.29622246  0.18265155  1.58369008 -0.44003225\n  0.10481607  0.0269806  -0.67353867  0.49399344  0.49399344 -0.20652582\n -0.44003225  2.36204482 -0.82920962  0.26048702  0.41615797  1.66152556\n  0.57182892  1.97286745  0.41615797 -1.37405794  0.10481607 -0.98488057\n  0.0269806  -0.36219677  0.10481607 -1.06271604 -1.29622246  1.03884176\n -0.20652582  1.66152556  1.03884176 -1.21838699  0.18265155 -0.12869035\n  1.89503198 -0.98488057  1.27234819  0.33832249 -0.12869035 -0.51786772\n -1.29622246  0.88317081  1.66152556 -0.98488057 -0.75137414 -0.2843613\n -0.05085488 -0.51786772 -0.51786772  0.26048702  0.18265155  1.19451271\n -1.37405794  2.05070293 -1.37405794  0.57182892 -0.20652582  0.57182892\n -1.29622246  1.27234819 -1.37405794 -0.44003225 -0.2843613  -0.12869035\n -1.29622246 -0.82920962  0.96100629  0.41615797  0.72749987 -0.12869035\n -1.29622246  0.18265155  1.03884176 -1.37405794 -1.37405794 -0.82920962\n -0.75137414  0.26048702  1.42801913 -0.2843613  -0.67353867  1.19451271\n -1.21838699 -1.21838699  0.0269806   1.19451271 -0.05085488  0.41615797\n  0.41615797  0.0269806  -0.51786772 -1.37405794  0.18265155 -1.37405794\n -0.05085488  3.06256409  1.11667724 -1.37405794  2.98472862 -0.44003225\n -0.20652582 -1.37405794  1.03884176 -1.06271604  1.97286745 -1.14055152\n  0.96100629  0.64966439 -0.05085488 -1.06271604  1.73936103 -0.12869035\n  2.4398803   0.88317081  0.26048702  0.64966439 -1.29622246 -0.20652582\n  0.41615797 -1.21838699 -0.82920962 -0.2843613   0.26048702 -1.29622246\n -1.06271604 -0.51786772  0.33832249  0.10481607  0.57182892 -1.14055152\n  1.66152556  0.57182892 -1.37405794  0.0269806  -0.67353867  0.26048702\n  1.11667724 -0.12869035  0.96100629  1.27234819  0.18265155 -0.05085488\n  2.4398803   0.33832249 -1.37405794 -1.21838699 -1.06271604 -1.29622246\n  0.33832249 -0.82920962  0.10481607 -0.75137414  0.64966439 -0.20652582\n -0.67353867 -0.20652582  1.03884176  0.49399344 -1.29622246 -0.90704509\n -0.36219677 -0.05085488  0.33832249 -0.98488057  0.26048702  0.10481607\n  0.64966439 -0.20652582 -0.44003225 -0.2843613   0.96100629  2.4398803\n -1.37405794 -1.37405794 -0.82920962  0.18265155  2.36204482 -0.90704509\n -0.67353867  2.4398803   1.66152556  0.57182892 -0.82920962 -0.51786772\n -1.14055152 -1.29622246  0.72749987 -0.2843613   0.26048702  1.42801913\n  0.0269806   1.27234819 -0.51786772  0.96100629 -1.37405794  0.64966439\n  0.72749987  0.0269806   0.88317081 -0.44003225 -1.06271604  1.19451271\n  1.27234819 -0.98488057 -0.5957032   0.26048702  1.35018366  0.88317081\n -1.14055152 -1.21838699 -1.37405794 -0.82920962 -0.67353867  1.42801913\n -0.20652582  2.4398803   1.66152556  0.57182892 -1.14055152  0.10481607\n  0.72749987  1.58369008  2.59555125  1.58369008 -1.06271604  1.58369008\n -1.29622246 -0.82920962  0.57182892  1.73936103 -1.29622246 -0.44003225\n  0.49399344  1.42801913 -1.37405794  1.11667724 -1.29622246 -0.20652582\n  0.72749987  0.96100629  1.97286745 -0.44003225 -1.21838699 -0.12869035\n  0.0269806  -0.82920962  0.49399344 -0.98488057 -1.14055152 -0.98488057\n  0.72749987 -1.29622246 -1.37405794  0.10481607 -0.90704509 -1.06271604\n  0.64966439  1.11667724  1.42801913 -1.37405794  0.96100629 -0.51786772\n -1.29622246  0.80533534 -1.37405794 -1.21838699 -1.06271604  0.10481607\n -0.36219677 -1.37405794  0.33832249  0.41615797 -0.12869035 -0.82920962\n -0.05085488 -1.37405794 -0.05085488  1.58369008 -0.05085488  0.10481607\n  0.49399344 -1.29622246  0.26048702  1.66152556 -1.37405794 -1.14055152\n  0.57182892 -1.37405794  2.20637388  1.11667724  0.64966439  0.10481607\n  1.19451271 -1.14055152  1.97286745  0.0269806  -1.14055152 -1.29622246\n -1.37405794  0.33832249  0.26048702  2.59555125 -0.20652582  0.33832249\n -1.37405794 -0.44003225 -0.2843613  -1.29622246  1.89503198 -0.90704509\n -0.2843613  -1.29622246 -0.44003225 -0.20652582 -0.12869035 -1.37405794\n -0.05085488 -1.29622246 -1.06271604  1.73936103 -0.51786772 -0.12869035\n  0.57182892 -0.2843613   1.27234819  0.64966439 -1.37405794  0.88317081\n  0.41615797 -0.75137414 -1.37405794  1.27234819  0.26048702 -1.21838699\n  0.33832249  0.49399344 -0.98488057 -0.12869035 -0.12869035  0.96100629\n  0.26048702 -0.05085488 -1.29622246 -0.12869035 -0.20652582 -0.82920962\n -0.98488057 -0.82920962 -0.90704509  0.64966439  1.35018366 -0.05085488\n  0.10481607 -1.37405794 -1.14055152 -0.67353867 -1.37405794 -1.21838699\n  2.51771577  0.57182892  0.18265155 -1.37405794 -1.37405794  0.80533534\n  0.57182892 -1.37405794 -1.37405794  0.0269806  -1.21838699 -0.67353867\n  1.42801913  0.10481607 -0.98488057  0.0269806   1.89503198 -0.98488057\n  0.72749987  0.18265155  0.0269806   0.26048702  0.49399344 -0.05085488\n -0.12869035 -0.82920962  0.49399344 -0.82920962 -0.05085488 -0.90704509\n -1.21838699  1.03884176 -0.20652582  0.72749987 -0.12869035 -1.37405794\n -0.67353867  0.0269806   0.26048702 -0.51786772  0.10481607  0.49399344\n  0.80533534 -0.12869035 -0.05085488 -0.05085488 -1.29622246 -1.21838699\n  0.10481607  0.10481607  1.50585461  2.1285384  -1.29622246 -0.44003225\n -0.05085488  0.18265155  0.64966439 -1.21838699 -1.37405794 -0.36219677\n -1.06271604  0.80533534  2.1285384   1.66152556 -0.51786772  0.41615797\n  0.18265155  0.41615797 -0.82920962  0.72749987  1.19451271  2.59555125\n  0.18265155  2.59555125  0.64966439 -0.51786772 -1.37405794 -1.37405794\n  0.26048702 -0.44003225 -0.82920962  1.19451271 -0.2843613  -0.05085488\n -0.75137414 -1.29622246  0.26048702  0.72749987  2.36204482 -1.29622246\n -0.2843613  -1.14055152 -1.06271604 -0.12869035  0.10481607 -0.44003225\n -1.37405794 -0.05085488 -0.44003225 -1.37405794  1.35018366  1.42801913\n -0.5957032   0.72749987  1.8171965  -1.37405794  0.41615797 -0.5957032\n -1.14055152  1.19451271 -1.37405794 -0.5957032  -0.90704509  0.64966439\n  0.33832249 -0.44003225 -0.67353867  1.73936103 -0.20652582  1.19451271\n  0.18265155  2.59555125 -0.90704509 -0.44003225 -1.21838699 -0.05085488\n  0.18265155  1.42801913 -0.12869035 -0.12869035 -0.2843613  -0.67353867\n -0.12869035  1.73936103 -0.05085488  0.41615797 -0.05085488  2.28420935\n -0.2843613   0.33832249  0.57182892 -0.36219677  0.88317081 -0.12869035\n  0.49399344 -0.44003225  1.19451271 -0.44003225 -1.14055152 -0.12869035\n -0.51786772  1.8171965  -1.37405794  2.36204482 -1.29622246 -0.12869035\n -1.21838699  0.26048702  0.80533534 -0.75137414  0.33832249  1.03884176\n  0.49399344 -1.06271604 -0.82920962  2.4398803  -0.2843613  -0.44003225\n  1.89503198 -1.21838699 -1.21838699 -0.20652582 -0.75137414  0.0269806\n -0.36219677 -0.12869035  0.10481607 -0.05085488  0.33832249  1.27234819\n  1.27234819 -1.21838699 -0.20652582 -1.37405794  0.49399344 -1.37405794\n  0.33832249 -1.21838699  0.26048702  0.0269806   0.41615797 -1.21838699\n -0.44003225  1.03884176  0.41615797  0.41615797  0.64966439 -0.90704509\n -0.12869035 -0.75137414 -0.05085488 -0.51786772 -0.2843613  -0.98488057\n  1.19451271 -0.2843613  -0.2843613  -0.36219677 -1.14055152 -1.14055152\n -1.21838699].\nReshape your data either using array.reshape(-1, 1) if your data has a single feature or array.reshape(1, -1) if it contains a single sample.",
     "output_type": "error",
     "traceback": [
      "\u001b[1;31m---------------------------------------------------------------------------\u001b[0m",
      "\u001b[1;31mValueError\u001b[0m                                Traceback (most recent call last)",
      "\u001b[1;32m<ipython-input-261-daad643dbcc6>\u001b[0m in \u001b[0;36m<module>\u001b[1;34m\u001b[0m\n\u001b[0;32m      6\u001b[0m \u001b[0marray_age_num\u001b[0m \u001b[1;33m=\u001b[0m \u001b[0marray_age_num\u001b[0m\u001b[1;33m.\u001b[0m\u001b[0mreshape\u001b[0m\u001b[1;33m(\u001b[0m\u001b[1;33m-\u001b[0m\u001b[1;36m1\u001b[0m\u001b[1;33m,\u001b[0m \u001b[1;36m1\u001b[0m\u001b[1;33m)\u001b[0m\u001b[1;33m\u001b[0m\u001b[1;33m\u001b[0m\u001b[0m\n\u001b[0;32m      7\u001b[0m \u001b[1;33m\u001b[0m\u001b[0m\n\u001b[1;32m----> 8\u001b[1;33m \u001b[0mprint\u001b[0m\u001b[1;33m(\u001b[0m\u001b[0mpower_transform\u001b[0m\u001b[1;33m(\u001b[0m\u001b[0marray\u001b[0m\u001b[1;33m,\u001b[0m \u001b[0mmethod\u001b[0m\u001b[1;33m=\u001b[0m\u001b[1;34m'box-cox'\u001b[0m\u001b[1;33m)\u001b[0m\u001b[1;33m)\u001b[0m\u001b[1;33m\u001b[0m\u001b[1;33m\u001b[0m\u001b[0m\n\u001b[0m\u001b[0;32m      9\u001b[0m \u001b[1;33m\u001b[0m\u001b[0m\n\u001b[0;32m     10\u001b[0m \u001b[0marray_age_num\u001b[0m \u001b[1;33m=\u001b[0m \u001b[0marray_age_num\u001b[0m\u001b[1;33m.\u001b[0m\u001b[0mreshape\u001b[0m\u001b[1;33m(\u001b[0m\u001b[1;33m-\u001b[0m\u001b[1;36m1\u001b[0m\u001b[1;33m)\u001b[0m\u001b[1;31m#volvemos a pasar el array a una sola dimensión para poder convertirlo en Series de nuevo y reescribir el df.\u001b[0m\u001b[1;33m\u001b[0m\u001b[1;33m\u001b[0m\u001b[0m\n",
      "\u001b[1;32m~\\anaconda3\\lib\\site-packages\\sklearn\\utils\\validation.py\u001b[0m in \u001b[0;36minner_f\u001b[1;34m(*args, **kwargs)\u001b[0m\n\u001b[0;32m     61\u001b[0m             \u001b[0mextra_args\u001b[0m \u001b[1;33m=\u001b[0m \u001b[0mlen\u001b[0m\u001b[1;33m(\u001b[0m\u001b[0margs\u001b[0m\u001b[1;33m)\u001b[0m \u001b[1;33m-\u001b[0m \u001b[0mlen\u001b[0m\u001b[1;33m(\u001b[0m\u001b[0mall_args\u001b[0m\u001b[1;33m)\u001b[0m\u001b[1;33m\u001b[0m\u001b[1;33m\u001b[0m\u001b[0m\n\u001b[0;32m     62\u001b[0m             \u001b[1;32mif\u001b[0m \u001b[0mextra_args\u001b[0m \u001b[1;33m<=\u001b[0m \u001b[1;36m0\u001b[0m\u001b[1;33m:\u001b[0m\u001b[1;33m\u001b[0m\u001b[1;33m\u001b[0m\u001b[0m\n\u001b[1;32m---> 63\u001b[1;33m                 \u001b[1;32mreturn\u001b[0m \u001b[0mf\u001b[0m\u001b[1;33m(\u001b[0m\u001b[1;33m*\u001b[0m\u001b[0margs\u001b[0m\u001b[1;33m,\u001b[0m \u001b[1;33m**\u001b[0m\u001b[0mkwargs\u001b[0m\u001b[1;33m)\u001b[0m\u001b[1;33m\u001b[0m\u001b[1;33m\u001b[0m\u001b[0m\n\u001b[0m\u001b[0;32m     64\u001b[0m \u001b[1;33m\u001b[0m\u001b[0m\n\u001b[0;32m     65\u001b[0m             \u001b[1;31m# extra_args > 0\u001b[0m\u001b[1;33m\u001b[0m\u001b[1;33m\u001b[0m\u001b[1;33m\u001b[0m\u001b[0m\n",
      "\u001b[1;32m~\\anaconda3\\lib\\site-packages\\sklearn\\preprocessing\\_data.py\u001b[0m in \u001b[0;36mpower_transform\u001b[1;34m(X, method, standardize, copy)\u001b[0m\n\u001b[0;32m   3396\u001b[0m     \"\"\"\n\u001b[0;32m   3397\u001b[0m     \u001b[0mpt\u001b[0m \u001b[1;33m=\u001b[0m \u001b[0mPowerTransformer\u001b[0m\u001b[1;33m(\u001b[0m\u001b[0mmethod\u001b[0m\u001b[1;33m=\u001b[0m\u001b[0mmethod\u001b[0m\u001b[1;33m,\u001b[0m \u001b[0mstandardize\u001b[0m\u001b[1;33m=\u001b[0m\u001b[0mstandardize\u001b[0m\u001b[1;33m,\u001b[0m \u001b[0mcopy\u001b[0m\u001b[1;33m=\u001b[0m\u001b[0mcopy\u001b[0m\u001b[1;33m)\u001b[0m\u001b[1;33m\u001b[0m\u001b[1;33m\u001b[0m\u001b[0m\n\u001b[1;32m-> 3398\u001b[1;33m     \u001b[1;32mreturn\u001b[0m \u001b[0mpt\u001b[0m\u001b[1;33m.\u001b[0m\u001b[0mfit_transform\u001b[0m\u001b[1;33m(\u001b[0m\u001b[0mX\u001b[0m\u001b[1;33m)\u001b[0m\u001b[1;33m\u001b[0m\u001b[1;33m\u001b[0m\u001b[0m\n\u001b[0m",
      "\u001b[1;32m~\\anaconda3\\lib\\site-packages\\sklearn\\preprocessing\\_data.py\u001b[0m in \u001b[0;36mfit_transform\u001b[1;34m(self, X, y)\u001b[0m\n\u001b[0;32m   3048\u001b[0m \u001b[1;33m\u001b[0m\u001b[0m\n\u001b[0;32m   3049\u001b[0m     \u001b[1;32mdef\u001b[0m \u001b[0mfit_transform\u001b[0m\u001b[1;33m(\u001b[0m\u001b[0mself\u001b[0m\u001b[1;33m,\u001b[0m \u001b[0mX\u001b[0m\u001b[1;33m,\u001b[0m \u001b[0my\u001b[0m\u001b[1;33m=\u001b[0m\u001b[1;32mNone\u001b[0m\u001b[1;33m)\u001b[0m\u001b[1;33m:\u001b[0m\u001b[1;33m\u001b[0m\u001b[1;33m\u001b[0m\u001b[0m\n\u001b[1;32m-> 3050\u001b[1;33m         \u001b[1;32mreturn\u001b[0m \u001b[0mself\u001b[0m\u001b[1;33m.\u001b[0m\u001b[0m_fit\u001b[0m\u001b[1;33m(\u001b[0m\u001b[0mX\u001b[0m\u001b[1;33m,\u001b[0m \u001b[0my\u001b[0m\u001b[1;33m,\u001b[0m \u001b[0mforce_transform\u001b[0m\u001b[1;33m=\u001b[0m\u001b[1;32mTrue\u001b[0m\u001b[1;33m)\u001b[0m\u001b[1;33m\u001b[0m\u001b[1;33m\u001b[0m\u001b[0m\n\u001b[0m\u001b[0;32m   3051\u001b[0m \u001b[1;33m\u001b[0m\u001b[0m\n\u001b[0;32m   3052\u001b[0m     \u001b[1;32mdef\u001b[0m \u001b[0m_fit\u001b[0m\u001b[1;33m(\u001b[0m\u001b[0mself\u001b[0m\u001b[1;33m,\u001b[0m \u001b[0mX\u001b[0m\u001b[1;33m,\u001b[0m \u001b[0my\u001b[0m\u001b[1;33m=\u001b[0m\u001b[1;32mNone\u001b[0m\u001b[1;33m,\u001b[0m \u001b[0mforce_transform\u001b[0m\u001b[1;33m=\u001b[0m\u001b[1;32mFalse\u001b[0m\u001b[1;33m)\u001b[0m\u001b[1;33m:\u001b[0m\u001b[1;33m\u001b[0m\u001b[1;33m\u001b[0m\u001b[0m\n",
      "\u001b[1;32m~\\anaconda3\\lib\\site-packages\\sklearn\\preprocessing\\_data.py\u001b[0m in \u001b[0;36m_fit\u001b[1;34m(self, X, y, force_transform)\u001b[0m\n\u001b[0;32m   3051\u001b[0m \u001b[1;33m\u001b[0m\u001b[0m\n\u001b[0;32m   3052\u001b[0m     \u001b[1;32mdef\u001b[0m \u001b[0m_fit\u001b[0m\u001b[1;33m(\u001b[0m\u001b[0mself\u001b[0m\u001b[1;33m,\u001b[0m \u001b[0mX\u001b[0m\u001b[1;33m,\u001b[0m \u001b[0my\u001b[0m\u001b[1;33m=\u001b[0m\u001b[1;32mNone\u001b[0m\u001b[1;33m,\u001b[0m \u001b[0mforce_transform\u001b[0m\u001b[1;33m=\u001b[0m\u001b[1;32mFalse\u001b[0m\u001b[1;33m)\u001b[0m\u001b[1;33m:\u001b[0m\u001b[1;33m\u001b[0m\u001b[1;33m\u001b[0m\u001b[0m\n\u001b[1;32m-> 3053\u001b[1;33m         X = self._check_input(X, in_fit=True, check_positive=True,\n\u001b[0m\u001b[0;32m   3054\u001b[0m                               check_method=True)\n\u001b[0;32m   3055\u001b[0m \u001b[1;33m\u001b[0m\u001b[0m\n",
      "\u001b[1;32m~\\anaconda3\\lib\\site-packages\\sklearn\\preprocessing\\_data.py\u001b[0m in \u001b[0;36m_check_input\u001b[1;34m(self, X, in_fit, check_positive, check_shape, check_method)\u001b[0m\n\u001b[0;32m   3268\u001b[0m             \u001b[0mIf\u001b[0m \u001b[1;32mTrue\u001b[0m\u001b[1;33m,\u001b[0m \u001b[0mcheck\u001b[0m \u001b[0mthat\u001b[0m \u001b[0mthe\u001b[0m \u001b[0mtransformation\u001b[0m \u001b[0mmethod\u001b[0m \u001b[1;32mis\u001b[0m \u001b[0mvalid\u001b[0m\u001b[1;33m.\u001b[0m\u001b[1;33m\u001b[0m\u001b[1;33m\u001b[0m\u001b[0m\n\u001b[0;32m   3269\u001b[0m         \"\"\"\n\u001b[1;32m-> 3270\u001b[1;33m         X = self._validate_data(X, ensure_2d=True, dtype=FLOAT_DTYPES,\n\u001b[0m\u001b[0;32m   3271\u001b[0m                                 \u001b[0mcopy\u001b[0m\u001b[1;33m=\u001b[0m\u001b[0mself\u001b[0m\u001b[1;33m.\u001b[0m\u001b[0mcopy\u001b[0m\u001b[1;33m,\u001b[0m \u001b[0mforce_all_finite\u001b[0m\u001b[1;33m=\u001b[0m\u001b[1;34m'allow-nan'\u001b[0m\u001b[1;33m,\u001b[0m\u001b[1;33m\u001b[0m\u001b[1;33m\u001b[0m\u001b[0m\n\u001b[0;32m   3272\u001b[0m                                 reset=in_fit)\n",
      "\u001b[1;32m~\\anaconda3\\lib\\site-packages\\sklearn\\base.py\u001b[0m in \u001b[0;36m_validate_data\u001b[1;34m(self, X, y, reset, validate_separately, **check_params)\u001b[0m\n\u001b[0;32m    419\u001b[0m             \u001b[0mout\u001b[0m \u001b[1;33m=\u001b[0m \u001b[0mX\u001b[0m\u001b[1;33m\u001b[0m\u001b[1;33m\u001b[0m\u001b[0m\n\u001b[0;32m    420\u001b[0m         \u001b[1;32melif\u001b[0m \u001b[0misinstance\u001b[0m\u001b[1;33m(\u001b[0m\u001b[0my\u001b[0m\u001b[1;33m,\u001b[0m \u001b[0mstr\u001b[0m\u001b[1;33m)\u001b[0m \u001b[1;32mand\u001b[0m \u001b[0my\u001b[0m \u001b[1;33m==\u001b[0m \u001b[1;34m'no_validation'\u001b[0m\u001b[1;33m:\u001b[0m\u001b[1;33m\u001b[0m\u001b[1;33m\u001b[0m\u001b[0m\n\u001b[1;32m--> 421\u001b[1;33m             \u001b[0mX\u001b[0m \u001b[1;33m=\u001b[0m \u001b[0mcheck_array\u001b[0m\u001b[1;33m(\u001b[0m\u001b[0mX\u001b[0m\u001b[1;33m,\u001b[0m \u001b[1;33m**\u001b[0m\u001b[0mcheck_params\u001b[0m\u001b[1;33m)\u001b[0m\u001b[1;33m\u001b[0m\u001b[1;33m\u001b[0m\u001b[0m\n\u001b[0m\u001b[0;32m    422\u001b[0m             \u001b[0mout\u001b[0m \u001b[1;33m=\u001b[0m \u001b[0mX\u001b[0m\u001b[1;33m\u001b[0m\u001b[1;33m\u001b[0m\u001b[0m\n\u001b[0;32m    423\u001b[0m         \u001b[1;32melse\u001b[0m\u001b[1;33m:\u001b[0m\u001b[1;33m\u001b[0m\u001b[1;33m\u001b[0m\u001b[0m\n",
      "\u001b[1;32m~\\anaconda3\\lib\\site-packages\\sklearn\\utils\\validation.py\u001b[0m in \u001b[0;36minner_f\u001b[1;34m(*args, **kwargs)\u001b[0m\n\u001b[0;32m     61\u001b[0m             \u001b[0mextra_args\u001b[0m \u001b[1;33m=\u001b[0m \u001b[0mlen\u001b[0m\u001b[1;33m(\u001b[0m\u001b[0margs\u001b[0m\u001b[1;33m)\u001b[0m \u001b[1;33m-\u001b[0m \u001b[0mlen\u001b[0m\u001b[1;33m(\u001b[0m\u001b[0mall_args\u001b[0m\u001b[1;33m)\u001b[0m\u001b[1;33m\u001b[0m\u001b[1;33m\u001b[0m\u001b[0m\n\u001b[0;32m     62\u001b[0m             \u001b[1;32mif\u001b[0m \u001b[0mextra_args\u001b[0m \u001b[1;33m<=\u001b[0m \u001b[1;36m0\u001b[0m\u001b[1;33m:\u001b[0m\u001b[1;33m\u001b[0m\u001b[1;33m\u001b[0m\u001b[0m\n\u001b[1;32m---> 63\u001b[1;33m                 \u001b[1;32mreturn\u001b[0m \u001b[0mf\u001b[0m\u001b[1;33m(\u001b[0m\u001b[1;33m*\u001b[0m\u001b[0margs\u001b[0m\u001b[1;33m,\u001b[0m \u001b[1;33m**\u001b[0m\u001b[0mkwargs\u001b[0m\u001b[1;33m)\u001b[0m\u001b[1;33m\u001b[0m\u001b[1;33m\u001b[0m\u001b[0m\n\u001b[0m\u001b[0;32m     64\u001b[0m \u001b[1;33m\u001b[0m\u001b[0m\n\u001b[0;32m     65\u001b[0m             \u001b[1;31m# extra_args > 0\u001b[0m\u001b[1;33m\u001b[0m\u001b[1;33m\u001b[0m\u001b[1;33m\u001b[0m\u001b[0m\n",
      "\u001b[1;32m~\\anaconda3\\lib\\site-packages\\sklearn\\utils\\validation.py\u001b[0m in \u001b[0;36mcheck_array\u001b[1;34m(array, accept_sparse, accept_large_sparse, dtype, order, copy, force_all_finite, ensure_2d, allow_nd, ensure_min_samples, ensure_min_features, estimator)\u001b[0m\n\u001b[0;32m    635\u001b[0m             \u001b[1;31m# If input is 1D raise error\u001b[0m\u001b[1;33m\u001b[0m\u001b[1;33m\u001b[0m\u001b[1;33m\u001b[0m\u001b[0m\n\u001b[0;32m    636\u001b[0m             \u001b[1;32mif\u001b[0m \u001b[0marray\u001b[0m\u001b[1;33m.\u001b[0m\u001b[0mndim\u001b[0m \u001b[1;33m==\u001b[0m \u001b[1;36m1\u001b[0m\u001b[1;33m:\u001b[0m\u001b[1;33m\u001b[0m\u001b[1;33m\u001b[0m\u001b[0m\n\u001b[1;32m--> 637\u001b[1;33m                 raise ValueError(\n\u001b[0m\u001b[0;32m    638\u001b[0m                     \u001b[1;34m\"Expected 2D array, got 1D array instead:\\narray={}.\\n\"\u001b[0m\u001b[1;33m\u001b[0m\u001b[1;33m\u001b[0m\u001b[0m\n\u001b[0;32m    639\u001b[0m                     \u001b[1;34m\"Reshape your data either using array.reshape(-1, 1) if \"\u001b[0m\u001b[1;33m\u001b[0m\u001b[1;33m\u001b[0m\u001b[0m\n",
      "\u001b[1;31mValueError\u001b[0m: Expected 2D array, got 1D array instead:\narray=[ 0.41615797  1.58369008  0.10481607  0.41615797 -0.36219677  0.64966439\n -0.5957032  -1.37405794 -0.36219677 -1.37405794  0.80533534 -1.14055152\n  0.0269806  -0.82920962  0.80533534 -0.44003225 -0.2843613  -1.06271604\n  0.18265155  0.18265155  1.27234819  0.18265155 -0.82920962 -0.05085488\n -0.12869035 -1.06271604  0.96100629  0.0269806   0.18265155  0.18265155\n -0.20652582  0.80533534 -0.98488057  0.33832249  0.33832249  0.10481607\n  0.64966439 -1.21838699  0.96100629 -0.12869035  1.66152556  2.67338672\n -0.05085488 -0.05085488 -0.20652582  0.41615797 -1.21838699 -0.12869035\n  1.73936103  0.10481607  0.64966439 -0.44003225  0.10481607  0.49399344\n -0.75137414  0.49399344  0.33832249 -0.12869035 -0.2843613   0.0269806\n -0.67353867  2.67338672 -1.29622246  0.57182892  0.57182892  0.57182892\n -0.05085488  0.72749987  2.1285384  -0.05085488  0.26048702 -1.37405794\n  0.0269806   0.64966439  0.64966439 -0.05085488 -1.37405794  0.41615797\n -1.37405794  0.18265155 -1.29622246 -1.37405794  0.26048702  0.10481607\n -0.5957032  -1.37405794 -1.37405794  1.35018366 -0.75137414  0.72749987\n  1.58369008  0.33832249 -0.12869035  0.18265155 -0.12869035  2.20637388\n -1.21838699 -0.44003225 -0.2843613   0.10481607 -1.37405794 -0.75137414\n -0.05085488  2.90689314 -0.82920962 -1.21838699  1.11667724 -0.75137414\n -0.20652582 -1.37405794  0.41615797  0.18265155  1.03884176  0.88317081\n  1.19451271 -0.90704509 -0.98488057 -0.82920962 -0.12869035  0.41615797\n  0.64966439  2.82905767  1.58369008 -0.2843613  -0.75137414  0.26048702\n  1.35018366  0.64966439 -1.06271604  0.10481607  0.88317081 -0.36219677\n -1.21838699  0.88317081  0.88317081  0.57182892 -1.29622246  0.0269806\n -0.75137414  0.10481607  0.0269806  -0.12869035  0.26048702  1.11667724\n  1.11667724 -0.5957032  -0.05085488  0.0269806   0.0269806  -1.29622246\n  0.0269806  -1.37405794  1.50585461  0.88317081 -1.37405794  0.26048702\n  0.0269806  -0.05085488 -0.05085488  0.49399344 -1.37405794 -0.20652582\n  0.88317081  0.41615797  0.72749987  0.80533534  1.50585461 -0.05085488\n  0.80533534 -1.37405794 -0.36219677  0.10481607  0.49399344 -1.37405794\n -0.12869035  0.64966439 -0.12869035  0.80533534 -0.05085488 -1.37405794\n  1.35018366  0.10481607 -0.05085488  0.64966439 -1.21838699 -0.90704509\n -0.98488057  0.49399344 -1.06271604  0.10481607 -1.21838699 -1.37405794\n  0.57182892 -1.37405794  2.36204482  0.41615797 -0.44003225  0.57182892\n -0.82920962 -1.14055152  3.29607051  0.96100629  0.49399344 -0.51786772\n -0.20652582 -0.82920962  0.0269806  -0.2843613   0.0269806  -1.37405794\n -1.21838699  0.10481607 -0.51786772 -0.75137414 -0.12869035  1.42801913\n  0.72749987 -1.29622246 -0.75137414  0.64966439  0.80533534 -0.82920962\n -0.36219677 -0.67353867 -1.14055152 -1.29622246  0.18265155 -0.05085488\n  1.58369008 -0.98488057  0.80533534 -0.90704509  1.8171965   1.19451271\n  2.05070293  0.64966439 -0.67353867  1.03884176 -0.36219677  1.11667724\n  0.49399344  0.18265155 -0.75137414 -1.14055152  0.18265155  1.11667724\n -0.20652582  2.05070293 -0.75137414 -1.37405794 -0.98488057 -0.90704509\n -1.29622246  0.33832249  0.10481607  0.10481607 -0.05085488  0.18265155\n -1.37405794  0.41615797 -1.21838699  0.88317081 -0.67353867 -1.37405794\n -0.98488057  0.10481607  0.0269806  -0.20652582  0.33832249  0.18265155\n -1.21838699 -1.37405794 -1.37405794 -0.36219677 -1.29622246 -0.2843613\n  0.18265155 -1.14055152  1.8171965  -1.21838699  0.18265155  1.58369008\n  0.80533534  0.18265155  0.57182892 -1.14055152 -0.2843613   0.0269806\n  1.73936103 -0.36219677 -1.06271604 -1.37405794  3.06256409  0.0269806\n -0.44003225  0.18265155  2.05070293  1.03884176  0.80533534 -1.37405794\n  1.11667724  0.0269806   1.58369008  2.20637388 -0.44003225 -0.05085488\n  0.72749987 -0.05085488 -1.29622246  0.18265155  1.58369008 -0.44003225\n  0.10481607  0.0269806  -0.67353867  0.49399344  0.49399344 -0.20652582\n -0.44003225  2.36204482 -0.82920962  0.26048702  0.41615797  1.66152556\n  0.57182892  1.97286745  0.41615797 -1.37405794  0.10481607 -0.98488057\n  0.0269806  -0.36219677  0.10481607 -1.06271604 -1.29622246  1.03884176\n -0.20652582  1.66152556  1.03884176 -1.21838699  0.18265155 -0.12869035\n  1.89503198 -0.98488057  1.27234819  0.33832249 -0.12869035 -0.51786772\n -1.29622246  0.88317081  1.66152556 -0.98488057 -0.75137414 -0.2843613\n -0.05085488 -0.51786772 -0.51786772  0.26048702  0.18265155  1.19451271\n -1.37405794  2.05070293 -1.37405794  0.57182892 -0.20652582  0.57182892\n -1.29622246  1.27234819 -1.37405794 -0.44003225 -0.2843613  -0.12869035\n -1.29622246 -0.82920962  0.96100629  0.41615797  0.72749987 -0.12869035\n -1.29622246  0.18265155  1.03884176 -1.37405794 -1.37405794 -0.82920962\n -0.75137414  0.26048702  1.42801913 -0.2843613  -0.67353867  1.19451271\n -1.21838699 -1.21838699  0.0269806   1.19451271 -0.05085488  0.41615797\n  0.41615797  0.0269806  -0.51786772 -1.37405794  0.18265155 -1.37405794\n -0.05085488  3.06256409  1.11667724 -1.37405794  2.98472862 -0.44003225\n -0.20652582 -1.37405794  1.03884176 -1.06271604  1.97286745 -1.14055152\n  0.96100629  0.64966439 -0.05085488 -1.06271604  1.73936103 -0.12869035\n  2.4398803   0.88317081  0.26048702  0.64966439 -1.29622246 -0.20652582\n  0.41615797 -1.21838699 -0.82920962 -0.2843613   0.26048702 -1.29622246\n -1.06271604 -0.51786772  0.33832249  0.10481607  0.57182892 -1.14055152\n  1.66152556  0.57182892 -1.37405794  0.0269806  -0.67353867  0.26048702\n  1.11667724 -0.12869035  0.96100629  1.27234819  0.18265155 -0.05085488\n  2.4398803   0.33832249 -1.37405794 -1.21838699 -1.06271604 -1.29622246\n  0.33832249 -0.82920962  0.10481607 -0.75137414  0.64966439 -0.20652582\n -0.67353867 -0.20652582  1.03884176  0.49399344 -1.29622246 -0.90704509\n -0.36219677 -0.05085488  0.33832249 -0.98488057  0.26048702  0.10481607\n  0.64966439 -0.20652582 -0.44003225 -0.2843613   0.96100629  2.4398803\n -1.37405794 -1.37405794 -0.82920962  0.18265155  2.36204482 -0.90704509\n -0.67353867  2.4398803   1.66152556  0.57182892 -0.82920962 -0.51786772\n -1.14055152 -1.29622246  0.72749987 -0.2843613   0.26048702  1.42801913\n  0.0269806   1.27234819 -0.51786772  0.96100629 -1.37405794  0.64966439\n  0.72749987  0.0269806   0.88317081 -0.44003225 -1.06271604  1.19451271\n  1.27234819 -0.98488057 -0.5957032   0.26048702  1.35018366  0.88317081\n -1.14055152 -1.21838699 -1.37405794 -0.82920962 -0.67353867  1.42801913\n -0.20652582  2.4398803   1.66152556  0.57182892 -1.14055152  0.10481607\n  0.72749987  1.58369008  2.59555125  1.58369008 -1.06271604  1.58369008\n -1.29622246 -0.82920962  0.57182892  1.73936103 -1.29622246 -0.44003225\n  0.49399344  1.42801913 -1.37405794  1.11667724 -1.29622246 -0.20652582\n  0.72749987  0.96100629  1.97286745 -0.44003225 -1.21838699 -0.12869035\n  0.0269806  -0.82920962  0.49399344 -0.98488057 -1.14055152 -0.98488057\n  0.72749987 -1.29622246 -1.37405794  0.10481607 -0.90704509 -1.06271604\n  0.64966439  1.11667724  1.42801913 -1.37405794  0.96100629 -0.51786772\n -1.29622246  0.80533534 -1.37405794 -1.21838699 -1.06271604  0.10481607\n -0.36219677 -1.37405794  0.33832249  0.41615797 -0.12869035 -0.82920962\n -0.05085488 -1.37405794 -0.05085488  1.58369008 -0.05085488  0.10481607\n  0.49399344 -1.29622246  0.26048702  1.66152556 -1.37405794 -1.14055152\n  0.57182892 -1.37405794  2.20637388  1.11667724  0.64966439  0.10481607\n  1.19451271 -1.14055152  1.97286745  0.0269806  -1.14055152 -1.29622246\n -1.37405794  0.33832249  0.26048702  2.59555125 -0.20652582  0.33832249\n -1.37405794 -0.44003225 -0.2843613  -1.29622246  1.89503198 -0.90704509\n -0.2843613  -1.29622246 -0.44003225 -0.20652582 -0.12869035 -1.37405794\n -0.05085488 -1.29622246 -1.06271604  1.73936103 -0.51786772 -0.12869035\n  0.57182892 -0.2843613   1.27234819  0.64966439 -1.37405794  0.88317081\n  0.41615797 -0.75137414 -1.37405794  1.27234819  0.26048702 -1.21838699\n  0.33832249  0.49399344 -0.98488057 -0.12869035 -0.12869035  0.96100629\n  0.26048702 -0.05085488 -1.29622246 -0.12869035 -0.20652582 -0.82920962\n -0.98488057 -0.82920962 -0.90704509  0.64966439  1.35018366 -0.05085488\n  0.10481607 -1.37405794 -1.14055152 -0.67353867 -1.37405794 -1.21838699\n  2.51771577  0.57182892  0.18265155 -1.37405794 -1.37405794  0.80533534\n  0.57182892 -1.37405794 -1.37405794  0.0269806  -1.21838699 -0.67353867\n  1.42801913  0.10481607 -0.98488057  0.0269806   1.89503198 -0.98488057\n  0.72749987  0.18265155  0.0269806   0.26048702  0.49399344 -0.05085488\n -0.12869035 -0.82920962  0.49399344 -0.82920962 -0.05085488 -0.90704509\n -1.21838699  1.03884176 -0.20652582  0.72749987 -0.12869035 -1.37405794\n -0.67353867  0.0269806   0.26048702 -0.51786772  0.10481607  0.49399344\n  0.80533534 -0.12869035 -0.05085488 -0.05085488 -1.29622246 -1.21838699\n  0.10481607  0.10481607  1.50585461  2.1285384  -1.29622246 -0.44003225\n -0.05085488  0.18265155  0.64966439 -1.21838699 -1.37405794 -0.36219677\n -1.06271604  0.80533534  2.1285384   1.66152556 -0.51786772  0.41615797\n  0.18265155  0.41615797 -0.82920962  0.72749987  1.19451271  2.59555125\n  0.18265155  2.59555125  0.64966439 -0.51786772 -1.37405794 -1.37405794\n  0.26048702 -0.44003225 -0.82920962  1.19451271 -0.2843613  -0.05085488\n -0.75137414 -1.29622246  0.26048702  0.72749987  2.36204482 -1.29622246\n -0.2843613  -1.14055152 -1.06271604 -0.12869035  0.10481607 -0.44003225\n -1.37405794 -0.05085488 -0.44003225 -1.37405794  1.35018366  1.42801913\n -0.5957032   0.72749987  1.8171965  -1.37405794  0.41615797 -0.5957032\n -1.14055152  1.19451271 -1.37405794 -0.5957032  -0.90704509  0.64966439\n  0.33832249 -0.44003225 -0.67353867  1.73936103 -0.20652582  1.19451271\n  0.18265155  2.59555125 -0.90704509 -0.44003225 -1.21838699 -0.05085488\n  0.18265155  1.42801913 -0.12869035 -0.12869035 -0.2843613  -0.67353867\n -0.12869035  1.73936103 -0.05085488  0.41615797 -0.05085488  2.28420935\n -0.2843613   0.33832249  0.57182892 -0.36219677  0.88317081 -0.12869035\n  0.49399344 -0.44003225  1.19451271 -0.44003225 -1.14055152 -0.12869035\n -0.51786772  1.8171965  -1.37405794  2.36204482 -1.29622246 -0.12869035\n -1.21838699  0.26048702  0.80533534 -0.75137414  0.33832249  1.03884176\n  0.49399344 -1.06271604 -0.82920962  2.4398803  -0.2843613  -0.44003225\n  1.89503198 -1.21838699 -1.21838699 -0.20652582 -0.75137414  0.0269806\n -0.36219677 -0.12869035  0.10481607 -0.05085488  0.33832249  1.27234819\n  1.27234819 -1.21838699 -0.20652582 -1.37405794  0.49399344 -1.37405794\n  0.33832249 -1.21838699  0.26048702  0.0269806   0.41615797 -1.21838699\n -0.44003225  1.03884176  0.41615797  0.41615797  0.64966439 -0.90704509\n -0.12869035 -0.75137414 -0.05085488 -0.51786772 -0.2843613  -0.98488057\n  1.19451271 -0.2843613  -0.2843613  -0.36219677 -1.14055152 -1.14055152\n -1.21838699].\nReshape your data either using array.reshape(-1, 1) if your data has a single feature or array.reshape(1, -1) if it contains a single sample."
     ]
    }
   ],
   "source": [
    "#Aplicamos una transformación de box cox que es la que más reduce la asimetría.\n",
    "\n",
    "from sklearn.preprocessing import power_transform\n",
    "\n",
    "array_age_num = X_train_transf[\"age_num\"].to_numpy()\n",
    "array_age_num = array_age_num.reshape(-1, 1)\n",
    "\n",
    "print(power_transform(array, method='box-cox'))\n",
    "\n",
    "array_age_num = array_age_num.reshape(-1)#volvemos a pasar el array a una sola dimensión para poder convertirlo en Series de nuevo y reescribir el df.\n",
    "\n",
    "X_train_transf[\"age_num\"] = pd.Series(array_age_num)\n",
    "\n",
    "#OJO, ME DA ERROR AL APLICAR LA TRANSFORMACIÓN DE BOX COX, PREGUTNAR DANI/ANDER\n"
   ]
  },
  {
   "cell_type": "code",
   "execution_count": 260,
   "metadata": {
    "collapsed": true,
    "jupyter": {
     "outputs_hidden": true,
     "source_hidden": true
    }
   },
   "outputs": [
    {
     "data": {
      "text/plain": [
       "507     27\n",
       "551     42\n",
       "290     23\n",
       "2       27\n",
       "6       17\n",
       "        ..\n",
       "466     18\n",
       "121     17\n",
       "1044     7\n",
       "1095     7\n",
       "860      6\n",
       "Name: age_num, Length: 877, dtype: int32"
      ]
     },
     "execution_count": 260,
     "metadata": {},
     "output_type": "execute_result"
    }
   ],
   "source": [
    "X_train_transf[\"age_num\"]"
   ]
  },
  {
   "cell_type": "code",
   "execution_count": 146,
   "metadata": {
    "collapsed": true,
    "jupyter": {
     "outputs_hidden": true,
     "source_hidden": true
    }
   },
   "outputs": [
    {
     "name": "stdout",
     "output_type": "stream",
     "text": [
      "Asimetria: 0.030382454527050094\n"
     ]
    },
    {
     "data": {
      "text/plain": [
       "<AxesSubplot:xlabel='screening_score'>"
      ]
     },
     "execution_count": 146,
     "metadata": {},
     "output_type": "execute_result"
    },
    {
     "data": {
      "image/png": "[encoded data removed]",
      "text/plain": [
       "<Figure size 720x360 with 1 Axes>"
      ]
     },
     "metadata": {
      "needs_background": "light"
     },
     "output_type": "display_data"
    }
   ],
   "source": [
    "#Distribución de screening_score\n",
    "\n",
    "print(\"Asimetria:\", skew(X_train_transf[\"screening_score\"]))\n",
    "\n",
    "plt.figure(figsize=(10,5))\n",
    "\n",
    "sns.distplot(X_train_transf[\"screening_score\"], kde = False, color = \"#FF6347\", bins=11)\n",
    "\n"
   ]
  },
  {
   "cell_type": "code",
   "execution_count": null,
   "metadata": {
    "jupyter": {
     "source_hidden": true
    }
   },
   "outputs": [],
   "source": [
    "from scipy import stats\n",
    "\n",
    "fig, axes = plt.subplots(1, 3, figsize=(15, 5), sharey=True)\n",
    "\n",
    "print(\"Original: \", skew(X_train_transf[\"screening_score\"]))\n",
    "sns.distplot(X_train_transf[\"screening_score\"], kde=False, ax=axes[0],bins = 11)\n",
    "\n",
    "# Logaritmic\n",
    "print(\"Transformación logarítmica: \", skew(np.log(X_train_transf[\"screening_score\"]),))\n",
    "sns.distplot(np.log(X_train_transf[\"screening_score\"]),kde=False, ax=axes[1],bins = 11)\n",
    "# np.exp(log_value) # para invertir la transformación\n",
    "\n",
    "# Box-cox\n",
    "print(\"Transformación de Box-Cox: \", skew(stats.boxcox(X_train_transf[\"screening_score\"])[0]))\n",
    "sns.distplot(stats.boxcox(X_train_transf[\"screening_score\"])[0],kde=False, ax=axes[2],bins = 11); \n",
    "\n",
    "#No soy capaz de aplicar las transformaciones, preguntar DANI/ANDER"
   ]
  },
  {
   "cell_type": "markdown",
   "metadata": {},
   "source": [
    "#### 4. Estandarización de los datos: Escalados PENDIENTEEEEE\n",
    "\n",
    "#Aplico un standard scaler a la única variable numérica: age_num\n"
   ]
  },
  {
   "cell_type": "code",
   "execution_count": 357,
   "metadata": {
    "jupyter": {
     "source_hidden": true
    }
   },
   "outputs": [],
   "source": [
    "#Aplico un standard scaler a la única variable numérica: age_num\n",
    "\n",
    "from sklearn.preprocessing import StandardScaler\n",
    "\n",
    "scal = StandardScaler() # Declaro el scaler\n",
    "\n",
    "array = X_train_encod[\"age_num\"].to_numpy()\n",
    "array = array.reshape(-1, 1)#para poder entrenar el scaler necesitamos hacer un reshape a un array de 2 dimensiones\n",
    "\n",
    "scal.fit(array) # Lo \"entreno\". Calculo su media y std \n",
    "array = scal.transform(array) # Aplico el scaler y sobreescribo ARRAY\n",
    "#print(array)\n",
    "\n",
    "array = array.reshape(-1)#volvemos a pasar el array a una sola dimensión para poder convertirlo en Series de nuevo y reescribir el df. \n",
    "\n",
    "#OJO EN ESTE RESHAPE ME LLENA LOS DATOS DE NAN Y NO SÉ PORQUÉ!!!\n",
    "\n",
    "#print(array)\n",
    "\n",
    "X_train_encod[\"age_num\"] = pd.Series(array)\n"
   ]
  },
  {
   "cell_type": "code",
   "execution_count": 358,
   "metadata": {
    "jupyter": {
     "source_hidden": true
    }
   },
   "outputs": [],
   "source": [
    "X_train_scaled = X_train_encod"
   ]
  },
  {
   "cell_type": "code",
   "execution_count": 359,
   "metadata": {
    "collapsed": true,
    "jupyter": {
     "outputs_hidden": true,
     "source_hidden": true
    }
   },
   "outputs": [
    {
     "data": {
      "text/html": [
       "<div>\n",
       "<style scoped>\n",
       "    .dataframe tbody tr th:only-of-type {\n",
       "        vertical-align: middle;\n",
       "    }\n",
       "\n",
       "    .dataframe tbody tr th {\n",
       "        vertical-align: top;\n",
       "    }\n",
       "\n",
       "    .dataframe thead th {\n",
       "        text-align: right;\n",
       "    }\n",
       "</style>\n",
       "<table border=\"1\" class=\"dataframe\">\n",
       "  <thead>\n",
       "    <tr style=\"text-align: right;\">\n",
       "      <th></th>\n",
       "      <th>country_of_res</th>\n",
       "      <th>age_num</th>\n",
       "    </tr>\n",
       "  </thead>\n",
       "  <tbody>\n",
       "    <tr>\n",
       "      <th>507</th>\n",
       "      <td>Belgium</td>\n",
       "      <td>-0.440032</td>\n",
       "    </tr>\n",
       "    <tr>\n",
       "      <th>551</th>\n",
       "      <td>Australia</td>\n",
       "      <td>-0.128690</td>\n",
       "    </tr>\n",
       "    <tr>\n",
       "      <th>290</th>\n",
       "      <td>Ireland</td>\n",
       "      <td>-1.062716</td>\n",
       "    </tr>\n",
       "    <tr>\n",
       "      <th>2</th>\n",
       "      <td>Spain</td>\n",
       "      <td>0.104816</td>\n",
       "    </tr>\n",
       "    <tr>\n",
       "      <th>6</th>\n",
       "      <td>'United States'</td>\n",
       "      <td>-0.595703</td>\n",
       "    </tr>\n",
       "    <tr>\n",
       "      <th>...</th>\n",
       "      <td>...</td>\n",
       "      <td>...</td>\n",
       "    </tr>\n",
       "    <tr>\n",
       "      <th>466</th>\n",
       "      <td>Netherlands</td>\n",
       "      <td>-1.296222</td>\n",
       "    </tr>\n",
       "    <tr>\n",
       "      <th>121</th>\n",
       "      <td>'United States'</td>\n",
       "      <td>2.829058</td>\n",
       "    </tr>\n",
       "    <tr>\n",
       "      <th>1044</th>\n",
       "      <td>Philippines</td>\n",
       "      <td>NaN</td>\n",
       "    </tr>\n",
       "    <tr>\n",
       "      <th>1095</th>\n",
       "      <td>'United Kingdom'</td>\n",
       "      <td>NaN</td>\n",
       "    </tr>\n",
       "    <tr>\n",
       "      <th>860</th>\n",
       "      <td>Jordan</td>\n",
       "      <td>0.416158</td>\n",
       "    </tr>\n",
       "  </tbody>\n",
       "</table>\n",
       "<p>877 rows × 2 columns</p>\n",
       "</div>"
      ],
      "text/plain": [
       "        country_of_res   age_num\n",
       "507            Belgium -0.440032\n",
       "551          Australia -0.128690\n",
       "290            Ireland -1.062716\n",
       "2                Spain  0.104816\n",
       "6      'United States' -0.595703\n",
       "...                ...       ...\n",
       "466        Netherlands -1.296222\n",
       "121    'United States'  2.829058\n",
       "1044       Philippines       NaN\n",
       "1095  'United Kingdom'       NaN\n",
       "860             Jordan  0.416158\n",
       "\n",
       "[877 rows x 2 columns]"
      ]
     },
     "execution_count": 359,
     "metadata": {},
     "output_type": "execute_result"
    }
   ],
   "source": [
    "X_train_scaled.iloc[:,14:16]"
   ]
  },
  {
   "cell_type": "code",
   "execution_count": 360,
   "metadata": {
    "collapsed": true,
    "jupyter": {
     "outputs_hidden": true,
     "source_hidden": true
    }
   },
   "outputs": [
    {
     "data": {
      "text/plain": [
       "False    694\n",
       "True     183\n",
       "Name: age_num, dtype: int64"
      ]
     },
     "execution_count": 360,
     "metadata": {},
     "output_type": "execute_result"
    }
   ],
   "source": [
    "X_train_scaled[\"age_num\"].isna().value_counts()"
   ]
  },
  {
   "cell_type": "markdown",
   "metadata": {},
   "source": [
    "#### 5. Dataset X_train para modelar"
   ]
  },
  {
   "cell_type": "code",
   "execution_count": 401,
   "metadata": {},
   "outputs": [],
   "source": [
    "#Guardamos el dataset en un nuevo csv ya preparado para empezar a modelar\n",
    "#[Por ahora utilizo X_train_encod, puesto que no he sido capaz ni de standarizar ni de transformar los datos. El dataset en este estado me irá mal para log reg y svm, pero bien para el random forest y XG boost]\n",
    "X_train_encod.to_csv(\"Autism_todos_limpio.csv\", index = False)"
   ]
  },
  {
   "cell_type": "markdown",
   "metadata": {},
   "source": [
    "### 6. Tratamiento de X_test"
   ]
  },
  {
   "cell_type": "code",
   "execution_count": 406,
   "metadata": {
    "collapsed": true,
    "jupyter": {
     "outputs_hidden": true
    }
   },
   "outputs": [
    {
     "name": "stdout",
     "output_type": "stream",
     "text": [
      "<class 'pandas.core.frame.DataFrame'>\n",
      "Int64Index: 220 entries, 328 to 724\n",
      "Data columns (total 20 columns):\n",
      " #   Column           Non-Null Count  Dtype  \n",
      "---  ------           --------------  -----  \n",
      " 0   A1_score         220 non-null    int64  \n",
      " 1   A2_score         220 non-null    int64  \n",
      " 2   A3_score         220 non-null    int64  \n",
      " 3   A4_score         220 non-null    int64  \n",
      " 4   A5_score         220 non-null    int64  \n",
      " 5   A6_score         220 non-null    int64  \n",
      " 6   A7_score         220 non-null    int64  \n",
      " 7   A8_score         220 non-null    int64  \n",
      " 8   A9_score         220 non-null    int64  \n",
      " 9   A10_score        220 non-null    int64  \n",
      " 10  screening_score  220 non-null    int64  \n",
      " 11  sex              220 non-null    object \n",
      " 12  ethnicity        192 non-null    object \n",
      " 13  jaundice         220 non-null    object \n",
      " 14  fam_history_PDD  220 non-null    object \n",
      " 15  country_of_res   220 non-null    object \n",
      " 16  used_app_before  220 non-null    object \n",
      " 17  age_num          217 non-null    float64\n",
      " 18  age_desc         220 non-null    object \n",
      " 19  relation         192 non-null    object \n",
      "dtypes: float64(1), int64(11), object(8)\n",
      "memory usage: 36.1+ KB\n"
     ]
    },
    {
     "data": {
      "text/html": [
       "<div>\n",
       "<style scoped>\n",
       "    .dataframe tbody tr th:only-of-type {\n",
       "        vertical-align: middle;\n",
       "    }\n",
       "\n",
       "    .dataframe tbody tr th {\n",
       "        vertical-align: top;\n",
       "    }\n",
       "\n",
       "    .dataframe thead th {\n",
       "        text-align: right;\n",
       "    }\n",
       "</style>\n",
       "<table border=\"1\" class=\"dataframe\">\n",
       "  <thead>\n",
       "    <tr style=\"text-align: right;\">\n",
       "      <th>COL_N</th>\n",
       "      <th>A1_score</th>\n",
       "      <th>A2_score</th>\n",
       "      <th>A3_score</th>\n",
       "      <th>A4_score</th>\n",
       "      <th>A5_score</th>\n",
       "      <th>A6_score</th>\n",
       "      <th>A7_score</th>\n",
       "      <th>A8_score</th>\n",
       "      <th>A9_score</th>\n",
       "      <th>A10_score</th>\n",
       "      <th>screening_score</th>\n",
       "      <th>sex</th>\n",
       "      <th>ethnicity</th>\n",
       "      <th>jaundice</th>\n",
       "      <th>fam_history_PDD</th>\n",
       "      <th>country_of_res</th>\n",
       "      <th>used_app_before</th>\n",
       "      <th>age_num</th>\n",
       "      <th>age_desc</th>\n",
       "      <th>relation</th>\n",
       "    </tr>\n",
       "  </thead>\n",
       "  <tbody>\n",
       "    <tr>\n",
       "      <th>DATA_TYPE</th>\n",
       "      <td>int64</td>\n",
       "      <td>int64</td>\n",
       "      <td>int64</td>\n",
       "      <td>int64</td>\n",
       "      <td>int64</td>\n",
       "      <td>int64</td>\n",
       "      <td>int64</td>\n",
       "      <td>int64</td>\n",
       "      <td>int64</td>\n",
       "      <td>int64</td>\n",
       "      <td>int64</td>\n",
       "      <td>object</td>\n",
       "      <td>object</td>\n",
       "      <td>object</td>\n",
       "      <td>object</td>\n",
       "      <td>object</td>\n",
       "      <td>object</td>\n",
       "      <td>float64</td>\n",
       "      <td>object</td>\n",
       "      <td>object</td>\n",
       "    </tr>\n",
       "    <tr>\n",
       "      <th>MISSINGS (%)</th>\n",
       "      <td>0</td>\n",
       "      <td>0</td>\n",
       "      <td>0</td>\n",
       "      <td>0</td>\n",
       "      <td>0</td>\n",
       "      <td>0</td>\n",
       "      <td>0</td>\n",
       "      <td>0</td>\n",
       "      <td>0</td>\n",
       "      <td>0</td>\n",
       "      <td>0</td>\n",
       "      <td>0</td>\n",
       "      <td>12.73</td>\n",
       "      <td>0</td>\n",
       "      <td>0</td>\n",
       "      <td>0</td>\n",
       "      <td>0</td>\n",
       "      <td>1.36</td>\n",
       "      <td>0</td>\n",
       "      <td>12.73</td>\n",
       "    </tr>\n",
       "    <tr>\n",
       "      <th>UNIQUE_VALUES</th>\n",
       "      <td>2</td>\n",
       "      <td>2</td>\n",
       "      <td>2</td>\n",
       "      <td>2</td>\n",
       "      <td>2</td>\n",
       "      <td>2</td>\n",
       "      <td>2</td>\n",
       "      <td>2</td>\n",
       "      <td>2</td>\n",
       "      <td>2</td>\n",
       "      <td>11</td>\n",
       "      <td>2</td>\n",
       "      <td>10</td>\n",
       "      <td>2</td>\n",
       "      <td>2</td>\n",
       "      <td>38</td>\n",
       "      <td>2</td>\n",
       "      <td>46</td>\n",
       "      <td>3</td>\n",
       "      <td>5</td>\n",
       "    </tr>\n",
       "    <tr>\n",
       "      <th>CARDIN (%)</th>\n",
       "      <td>0.91</td>\n",
       "      <td>0.91</td>\n",
       "      <td>0.91</td>\n",
       "      <td>0.91</td>\n",
       "      <td>0.91</td>\n",
       "      <td>0.91</td>\n",
       "      <td>0.91</td>\n",
       "      <td>0.91</td>\n",
       "      <td>0.91</td>\n",
       "      <td>0.91</td>\n",
       "      <td>5</td>\n",
       "      <td>0.91</td>\n",
       "      <td>4.55</td>\n",
       "      <td>0.91</td>\n",
       "      <td>0.91</td>\n",
       "      <td>17.27</td>\n",
       "      <td>0.91</td>\n",
       "      <td>20.91</td>\n",
       "      <td>1.36</td>\n",
       "      <td>2.27</td>\n",
       "    </tr>\n",
       "  </tbody>\n",
       "</table>\n",
       "</div>"
      ],
      "text/plain": [
       "COL_N         A1_score A2_score A3_score A4_score A5_score A6_score A7_score  \\\n",
       "DATA_TYPE        int64    int64    int64    int64    int64    int64    int64   \n",
       "MISSINGS (%)         0        0        0        0        0        0        0   \n",
       "UNIQUE_VALUES        2        2        2        2        2        2        2   \n",
       "CARDIN (%)        0.91     0.91     0.91     0.91     0.91     0.91     0.91   \n",
       "\n",
       "COL_N         A8_score A9_score A10_score screening_score     sex ethnicity  \\\n",
       "DATA_TYPE        int64    int64     int64           int64  object    object   \n",
       "MISSINGS (%)         0        0         0               0       0     12.73   \n",
       "UNIQUE_VALUES        2        2         2              11       2        10   \n",
       "CARDIN (%)        0.91     0.91      0.91               5    0.91      4.55   \n",
       "\n",
       "COL_N         jaundice fam_history_PDD country_of_res used_app_before  \\\n",
       "DATA_TYPE       object          object         object          object   \n",
       "MISSINGS (%)         0               0              0               0   \n",
       "UNIQUE_VALUES        2               2             38               2   \n",
       "CARDIN (%)        0.91            0.91          17.27            0.91   \n",
       "\n",
       "COL_N          age_num age_desc relation  \n",
       "DATA_TYPE      float64   object   object  \n",
       "MISSINGS (%)      1.36        0    12.73  \n",
       "UNIQUE_VALUES       46        3        5  \n",
       "CARDIN (%)       20.91     1.36     2.27  "
      ]
     },
     "execution_count": 406,
     "metadata": {},
     "output_type": "execute_result"
    }
   ],
   "source": [
    "## 9. Processing X_test\n",
    "\n",
    "X_test.info()\n",
    "X_test.describe()\n",
    "data_report(X_test)"
   ]
  },
  {
   "cell_type": "code",
   "execution_count": 407,
   "metadata": {
    "collapsed": true,
    "jupyter": {
     "outputs_hidden": true
    }
   },
   "outputs": [
    {
     "data": {
      "text/html": [
       "<div>\n",
       "<style scoped>\n",
       "    .dataframe tbody tr th:only-of-type {\n",
       "        vertical-align: middle;\n",
       "    }\n",
       "\n",
       "    .dataframe tbody tr th {\n",
       "        vertical-align: top;\n",
       "    }\n",
       "\n",
       "    .dataframe thead th {\n",
       "        text-align: right;\n",
       "    }\n",
       "</style>\n",
       "<table border=\"1\" class=\"dataframe\">\n",
       "  <thead>\n",
       "    <tr style=\"text-align: right;\">\n",
       "      <th></th>\n",
       "      <th>A1_score</th>\n",
       "      <th>A2_score</th>\n",
       "      <th>A3_score</th>\n",
       "      <th>A4_score</th>\n",
       "      <th>A5_score</th>\n",
       "      <th>A6_score</th>\n",
       "      <th>A7_score</th>\n",
       "      <th>A8_score</th>\n",
       "      <th>A9_score</th>\n",
       "      <th>A10_score</th>\n",
       "      <th>screening_score</th>\n",
       "      <th>age_num</th>\n",
       "    </tr>\n",
       "  </thead>\n",
       "  <tbody>\n",
       "    <tr>\n",
       "      <th>count</th>\n",
       "      <td>220.000000</td>\n",
       "      <td>220.000000</td>\n",
       "      <td>220.000000</td>\n",
       "      <td>220.000000</td>\n",
       "      <td>220.000000</td>\n",
       "      <td>220.000000</td>\n",
       "      <td>220.000000</td>\n",
       "      <td>220.000000</td>\n",
       "      <td>220.000000</td>\n",
       "      <td>220.000000</td>\n",
       "      <td>220.000000</td>\n",
       "      <td>217.000000</td>\n",
       "    </tr>\n",
       "    <tr>\n",
       "      <th>mean</th>\n",
       "      <td>0.681818</td>\n",
       "      <td>0.495455</td>\n",
       "      <td>0.527273</td>\n",
       "      <td>0.540909</td>\n",
       "      <td>0.577273</td>\n",
       "      <td>0.459091</td>\n",
       "      <td>0.404545</td>\n",
       "      <td>0.545455</td>\n",
       "      <td>0.340909</td>\n",
       "      <td>0.627273</td>\n",
       "      <td>5.200000</td>\n",
       "      <td>22.142857</td>\n",
       "    </tr>\n",
       "    <tr>\n",
       "      <th>std</th>\n",
       "      <td>0.466833</td>\n",
       "      <td>0.501120</td>\n",
       "      <td>0.500394</td>\n",
       "      <td>0.499460</td>\n",
       "      <td>0.495119</td>\n",
       "      <td>0.499460</td>\n",
       "      <td>0.491923</td>\n",
       "      <td>0.499065</td>\n",
       "      <td>0.475096</td>\n",
       "      <td>0.484633</td>\n",
       "      <td>2.543862</td>\n",
       "      <td>12.961941</td>\n",
       "    </tr>\n",
       "    <tr>\n",
       "      <th>min</th>\n",
       "      <td>0.000000</td>\n",
       "      <td>0.000000</td>\n",
       "      <td>0.000000</td>\n",
       "      <td>0.000000</td>\n",
       "      <td>0.000000</td>\n",
       "      <td>0.000000</td>\n",
       "      <td>0.000000</td>\n",
       "      <td>0.000000</td>\n",
       "      <td>0.000000</td>\n",
       "      <td>0.000000</td>\n",
       "      <td>0.000000</td>\n",
       "      <td>4.000000</td>\n",
       "    </tr>\n",
       "    <tr>\n",
       "      <th>25%</th>\n",
       "      <td>0.000000</td>\n",
       "      <td>0.000000</td>\n",
       "      <td>0.000000</td>\n",
       "      <td>0.000000</td>\n",
       "      <td>0.000000</td>\n",
       "      <td>0.000000</td>\n",
       "      <td>0.000000</td>\n",
       "      <td>0.000000</td>\n",
       "      <td>0.000000</td>\n",
       "      <td>0.000000</td>\n",
       "      <td>3.000000</td>\n",
       "      <td>12.000000</td>\n",
       "    </tr>\n",
       "    <tr>\n",
       "      <th>50%</th>\n",
       "      <td>1.000000</td>\n",
       "      <td>0.000000</td>\n",
       "      <td>1.000000</td>\n",
       "      <td>1.000000</td>\n",
       "      <td>1.000000</td>\n",
       "      <td>0.000000</td>\n",
       "      <td>0.000000</td>\n",
       "      <td>1.000000</td>\n",
       "      <td>0.000000</td>\n",
       "      <td>1.000000</td>\n",
       "      <td>5.000000</td>\n",
       "      <td>21.000000</td>\n",
       "    </tr>\n",
       "    <tr>\n",
       "      <th>75%</th>\n",
       "      <td>1.000000</td>\n",
       "      <td>1.000000</td>\n",
       "      <td>1.000000</td>\n",
       "      <td>1.000000</td>\n",
       "      <td>1.000000</td>\n",
       "      <td>1.000000</td>\n",
       "      <td>1.000000</td>\n",
       "      <td>1.000000</td>\n",
       "      <td>1.000000</td>\n",
       "      <td>1.000000</td>\n",
       "      <td>7.000000</td>\n",
       "      <td>30.000000</td>\n",
       "    </tr>\n",
       "    <tr>\n",
       "      <th>max</th>\n",
       "      <td>1.000000</td>\n",
       "      <td>1.000000</td>\n",
       "      <td>1.000000</td>\n",
       "      <td>1.000000</td>\n",
       "      <td>1.000000</td>\n",
       "      <td>1.000000</td>\n",
       "      <td>1.000000</td>\n",
       "      <td>1.000000</td>\n",
       "      <td>1.000000</td>\n",
       "      <td>1.000000</td>\n",
       "      <td>10.000000</td>\n",
       "      <td>58.000000</td>\n",
       "    </tr>\n",
       "  </tbody>\n",
       "</table>\n",
       "</div>"
      ],
      "text/plain": [
       "         A1_score    A2_score    A3_score    A4_score    A5_score    A6_score  \\\n",
       "count  220.000000  220.000000  220.000000  220.000000  220.000000  220.000000   \n",
       "mean     0.681818    0.495455    0.527273    0.540909    0.577273    0.459091   \n",
       "std      0.466833    0.501120    0.500394    0.499460    0.495119    0.499460   \n",
       "min      0.000000    0.000000    0.000000    0.000000    0.000000    0.000000   \n",
       "25%      0.000000    0.000000    0.000000    0.000000    0.000000    0.000000   \n",
       "50%      1.000000    0.000000    1.000000    1.000000    1.000000    0.000000   \n",
       "75%      1.000000    1.000000    1.000000    1.000000    1.000000    1.000000   \n",
       "max      1.000000    1.000000    1.000000    1.000000    1.000000    1.000000   \n",
       "\n",
       "         A7_score    A8_score    A9_score   A10_score  screening_score  \\\n",
       "count  220.000000  220.000000  220.000000  220.000000       220.000000   \n",
       "mean     0.404545    0.545455    0.340909    0.627273         5.200000   \n",
       "std      0.491923    0.499065    0.475096    0.484633         2.543862   \n",
       "min      0.000000    0.000000    0.000000    0.000000         0.000000   \n",
       "25%      0.000000    0.000000    0.000000    0.000000         3.000000   \n",
       "50%      0.000000    1.000000    0.000000    1.000000         5.000000   \n",
       "75%      1.000000    1.000000    1.000000    1.000000         7.000000   \n",
       "max      1.000000    1.000000    1.000000    1.000000        10.000000   \n",
       "\n",
       "          age_num  \n",
       "count  217.000000  \n",
       "mean    22.142857  \n",
       "std     12.961941  \n",
       "min      4.000000  \n",
       "25%     12.000000  \n",
       "50%     21.000000  \n",
       "75%     30.000000  \n",
       "max     58.000000  "
      ]
     },
     "execution_count": 407,
     "metadata": {},
     "output_type": "execute_result"
    }
   ],
   "source": [
    "X_test.describe()"
   ]
  },
  {
   "cell_type": "code",
   "execution_count": 28,
   "metadata": {},
   "outputs": [],
   "source": [
    "#drop columns\n",
    "X_test.drop(columns = [\"used_app_before\"], inplace = True)    \n",
    "\n",
    "#missings treatment\n",
    "X_test['age_num'].isna().value_counts()\n",
    "X_test.dropna(subset = [\"age_num\"], inplace = True)\n",
    "\n",
    "X_test[\"age_num\"] =X_test[\"age_num\"].astype(int)\n",
    "\n",
    "X_test[\"ethnicity\"] = X_test[\"ethnicity\"].replace([None],\"White-European\")\n",
    "X_test[\"relation\"] = X_test[\"relation\"].replace([None],\"Self\")\n",
    "\n",
    "data_report(X_test)\n",
    "X_test_clean = X_test\n",
    "\n",
    "#Encodings (categorical features)\n",
    "\n",
    "X_test_clean[\"jaundice\"] = X_test_clean[\"jaundice\"].apply(mapping)\n",
    "X_test_clean[\"fam_history_PDD\"] =X_test_clean[\"fam_history_PDD\"].apply(mapping)\n",
    "X_test_clean[\"sex\"] = X_test_clean[\"sex\"].apply(mapping_2)\n",
    "\n",
    "#Encodings (numerical features)\n",
    "X_test_dummy= pd.get_dummies(X_test[[\"ethnicity\",\"age_desc\",\"relation\"]])\n",
    "X_train_dummy  \n",
    "\n",
    "X_test_clean.drop(columns = [\"ethnicity\",\"age_desc\",\"relation\"], axis = 1,inplace = True)   \n",
    "X_test_encod = pd.concat([X_test_clean, X_test_dummy], axis = 1)"
   ]
  },
  {
   "cell_type": "code",
   "execution_count": 29,
   "metadata": {
    "jupyter": {
     "outputs_hidden": true
    }
   },
   "outputs": [
    {
     "name": "stdout",
     "output_type": "stream",
     "text": [
      "<class 'pandas.core.frame.DataFrame'>\n",
      "Int64Index: 217 entries, 328 to 724\n",
      "Data columns (total 34 columns):\n",
      " #   Column                               Non-Null Count  Dtype \n",
      "---  ------                               --------------  ----- \n",
      " 0   A1_score                             217 non-null    int64 \n",
      " 1   A2_score                             217 non-null    int64 \n",
      " 2   A3_score                             217 non-null    int64 \n",
      " 3   A4_score                             217 non-null    int64 \n",
      " 4   A5_score                             217 non-null    int64 \n",
      " 5   A6_score                             217 non-null    int64 \n",
      " 6   A7_score                             217 non-null    int64 \n",
      " 7   A8_score                             217 non-null    int64 \n",
      " 8   A9_score                             217 non-null    int64 \n",
      " 9   A10_score                            217 non-null    int64 \n",
      " 10  screening_score                      217 non-null    int64 \n",
      " 11  sex                                  217 non-null    int64 \n",
      " 12  jaundice                             217 non-null    int64 \n",
      " 13  fam_history_PDD                      217 non-null    int64 \n",
      " 14  country_of_res                       217 non-null    object\n",
      " 15  age_num                              217 non-null    int32 \n",
      " 16  ethnicity_'Middle Eastern '          217 non-null    uint8 \n",
      " 17  ethnicity_'South Asian'              217 non-null    uint8 \n",
      " 18  ethnicity_Asian                      217 non-null    uint8 \n",
      " 19  ethnicity_Black                      217 non-null    uint8 \n",
      " 20  ethnicity_Hispanic                   217 non-null    uint8 \n",
      " 21  ethnicity_Latino                     217 non-null    uint8 \n",
      " 22  ethnicity_Others                     217 non-null    uint8 \n",
      " 23  ethnicity_Pasifika                   217 non-null    uint8 \n",
      " 24  ethnicity_Turkish                    217 non-null    uint8 \n",
      " 25  ethnicity_White-European             217 non-null    uint8 \n",
      " 26  age_desc_'12-16 years'               217 non-null    uint8 \n",
      " 27  age_desc_'18 and more'               217 non-null    uint8 \n",
      " 28  age_desc_'4-11 years'                217 non-null    uint8 \n",
      " 29  relation_'Health care professional'  217 non-null    uint8 \n",
      " 30  relation_Others                      217 non-null    uint8 \n",
      " 31  relation_Parent                      217 non-null    uint8 \n",
      " 32  relation_Relative                    217 non-null    uint8 \n",
      " 33  relation_Self                        217 non-null    uint8 \n",
      "dtypes: int32(1), int64(14), object(1), uint8(18)\n",
      "memory usage: 31.8+ KB\n"
     ]
    }
   ],
   "source": [
    "X_test_encod.info()"
   ]
  },
  {
   "cell_type": "code",
   "execution_count": 96,
   "metadata": {},
   "outputs": [
    {
     "data": {
      "text/plain": [
       "False    877\n",
       "True       3\n",
       "Name: age_num, dtype: int64"
      ]
     },
     "execution_count": 96,
     "metadata": {},
     "output_type": "execute_result"
    }
   ],
   "source": [
    "X_train['age_num'].isna().value_counts()"
   ]
  },
  {
   "cell_type": "code",
   "execution_count": 110,
   "metadata": {},
   "outputs": [
    {
     "data": {
      "text/html": [
       "<div>\n",
       "<style scoped>\n",
       "    .dataframe tbody tr th:only-of-type {\n",
       "        vertical-align: middle;\n",
       "    }\n",
       "\n",
       "    .dataframe tbody tr th {\n",
       "        vertical-align: top;\n",
       "    }\n",
       "\n",
       "    .dataframe thead th {\n",
       "        text-align: right;\n",
       "    }\n",
       "</style>\n",
       "<table border=\"1\" class=\"dataframe\">\n",
       "  <thead>\n",
       "    <tr style=\"text-align: right;\">\n",
       "      <th></th>\n",
       "      <th>class</th>\n",
       "      <th>age_num</th>\n",
       "    </tr>\n",
       "  </thead>\n",
       "  <tbody>\n",
       "    <tr>\n",
       "      <th>0</th>\n",
       "      <td>0</td>\n",
       "      <td>26.0</td>\n",
       "    </tr>\n",
       "    <tr>\n",
       "      <th>1</th>\n",
       "      <td>0</td>\n",
       "      <td>26.0</td>\n",
       "    </tr>\n",
       "    <tr>\n",
       "      <th>2</th>\n",
       "      <td>1</td>\n",
       "      <td>24.0</td>\n",
       "    </tr>\n",
       "    <tr>\n",
       "      <th>3</th>\n",
       "      <td>1</td>\n",
       "      <td>24.0</td>\n",
       "    </tr>\n",
       "    <tr>\n",
       "      <th>4</th>\n",
       "      <td>0</td>\n",
       "      <td>26.0</td>\n",
       "    </tr>\n",
       "    <tr>\n",
       "      <th>...</th>\n",
       "      <td>...</td>\n",
       "      <td>...</td>\n",
       "    </tr>\n",
       "    <tr>\n",
       "      <th>875</th>\n",
       "      <td>1</td>\n",
       "      <td>24.0</td>\n",
       "    </tr>\n",
       "    <tr>\n",
       "      <th>876</th>\n",
       "      <td>1</td>\n",
       "      <td>24.0</td>\n",
       "    </tr>\n",
       "    <tr>\n",
       "      <th>877</th>\n",
       "      <td>1</td>\n",
       "      <td>24.0</td>\n",
       "    </tr>\n",
       "    <tr>\n",
       "      <th>878</th>\n",
       "      <td>1</td>\n",
       "      <td>24.0</td>\n",
       "    </tr>\n",
       "    <tr>\n",
       "      <th>879</th>\n",
       "      <td>0</td>\n",
       "      <td>26.0</td>\n",
       "    </tr>\n",
       "  </tbody>\n",
       "</table>\n",
       "<p>880 rows × 2 columns</p>\n",
       "</div>"
      ],
      "text/plain": [
       "     class  age_num\n",
       "0        0     26.0\n",
       "1        0     26.0\n",
       "2        1     24.0\n",
       "3        1     24.0\n",
       "4        0     26.0\n",
       "..     ...      ...\n",
       "875      1     24.0\n",
       "876      1     24.0\n",
       "877      1     24.0\n",
       "878      1     24.0\n",
       "879      0     26.0\n",
       "\n",
       "[880 rows x 2 columns]"
      ]
     },
     "execution_count": 110,
     "metadata": {},
     "output_type": "execute_result"
    }
   ],
   "source": [
    "### 7. Tratamiento de y_train e y_test: eliminación de las instancias con missings en \"age_num\"\n",
    "\n",
    "X =  pd.DataFrame(X_train[\"age_num\"],y_train)\n",
    "X= X.reset_index()\n",
    "X"
   ]
  },
  {
   "cell_type": "code",
   "execution_count": 121,
   "metadata": {},
   "outputs": [],
   "source": [
    "X.dropna(subset = [\"age_num\"], inplace = True)\n"
   ]
  },
  {
   "cell_type": "code",
   "execution_count": 122,
   "metadata": {},
   "outputs": [
    {
     "data": {
      "text/plain": [
       "0      False\n",
       "1      False\n",
       "2      False\n",
       "3      False\n",
       "4      False\n",
       "       ...  \n",
       "875    False\n",
       "876    False\n",
       "877    False\n",
       "878    False\n",
       "879    False\n",
       "Name: age_num, Length: 880, dtype: bool"
      ]
     },
     "execution_count": 122,
     "metadata": {},
     "output_type": "execute_result"
    }
   ],
   "source": [
    "X[\"age_num\"].isna()"
   ]
  },
  {
   "cell_type": "markdown",
   "metadata": {},
   "source": [
    "## III Modelado\n",
    "\n",
    "En este proyecto se van a utilizar los siguientes algoritmos:\n",
    "\n",
    "- Logistic Regression\n",
    "- Support Vector Machine\n",
    "- Random Forest (Bagging)\n",
    "- ADA Boosting\n",
    "- XG Boost\n",
    "\n",
    "\n"
   ]
  },
  {
   "cell_type": "markdown",
   "metadata": {},
   "source": [
    "### 1. Logistic regression"
   ]
  },
  {
   "cell_type": "code",
   "execution_count": 124,
   "metadata": {},
   "outputs": [],
   "source": [
    "#Primero elimino la columna categórica tanto en X_train como en X_test, que este modelo no me permite usarlas.\n",
    "\n",
    "X_train_encod.drop(columns = [\"country_of_res\"], axis = 1,inplace = True)     \n",
    "\n",
    "X_test_encod.drop(columns = [\"country_of_res\"], axis = 1,inplace = True)     \n"
   ]
  },
  {
   "cell_type": "code",
   "execution_count": 125,
   "metadata": {},
   "outputs": [
    {
     "ename": "ValueError",
     "evalue": "Found input variables with inconsistent numbers of samples: [877, 880]",
     "output_type": "error",
     "traceback": [
      "\u001b[1;31m---------------------------------------------------------------------------\u001b[0m",
      "\u001b[1;31mValueError\u001b[0m                                Traceback (most recent call last)",
      "\u001b[1;32m<ipython-input-125-5e3791475156>\u001b[0m in \u001b[0;36m<module>\u001b[1;34m\u001b[0m\n\u001b[0;32m      1\u001b[0m \u001b[1;32mfrom\u001b[0m \u001b[0msklearn\u001b[0m\u001b[1;33m.\u001b[0m\u001b[0mlinear_model\u001b[0m \u001b[1;32mimport\u001b[0m \u001b[0mLogisticRegression\u001b[0m\u001b[1;33m\u001b[0m\u001b[1;33m\u001b[0m\u001b[0m\n\u001b[0;32m      2\u001b[0m \u001b[0mAutism_log_reg\u001b[0m \u001b[1;33m=\u001b[0m \u001b[0mLogisticRegression\u001b[0m\u001b[1;33m(\u001b[0m\u001b[1;33m)\u001b[0m\u001b[1;33m\u001b[0m\u001b[1;33m\u001b[0m\u001b[0m\n\u001b[1;32m----> 3\u001b[1;33m \u001b[0mAutism_log_reg\u001b[0m\u001b[1;33m.\u001b[0m\u001b[0mfit\u001b[0m\u001b[1;33m(\u001b[0m\u001b[0mX_train_encod\u001b[0m\u001b[1;33m,\u001b[0m\u001b[0my_train\u001b[0m\u001b[1;33m)\u001b[0m\u001b[1;33m\u001b[0m\u001b[1;33m\u001b[0m\u001b[0m\n\u001b[0m",
      "\u001b[1;32m~\\anaconda3\\lib\\site-packages\\sklearn\\linear_model\\_logistic.py\u001b[0m in \u001b[0;36mfit\u001b[1;34m(self, X, y, sample_weight)\u001b[0m\n\u001b[0;32m   1342\u001b[0m             \u001b[0m_dtype\u001b[0m \u001b[1;33m=\u001b[0m \u001b[1;33m[\u001b[0m\u001b[0mnp\u001b[0m\u001b[1;33m.\u001b[0m\u001b[0mfloat64\u001b[0m\u001b[1;33m,\u001b[0m \u001b[0mnp\u001b[0m\u001b[1;33m.\u001b[0m\u001b[0mfloat32\u001b[0m\u001b[1;33m]\u001b[0m\u001b[1;33m\u001b[0m\u001b[1;33m\u001b[0m\u001b[0m\n\u001b[0;32m   1343\u001b[0m \u001b[1;33m\u001b[0m\u001b[0m\n\u001b[1;32m-> 1344\u001b[1;33m         X, y = self._validate_data(X, y, accept_sparse='csr', dtype=_dtype,\n\u001b[0m\u001b[0;32m   1345\u001b[0m                                    \u001b[0morder\u001b[0m\u001b[1;33m=\u001b[0m\u001b[1;34m\"C\"\u001b[0m\u001b[1;33m,\u001b[0m\u001b[1;33m\u001b[0m\u001b[1;33m\u001b[0m\u001b[0m\n\u001b[0;32m   1346\u001b[0m                                    accept_large_sparse=solver != 'liblinear')\n",
      "\u001b[1;32m~\\anaconda3\\lib\\site-packages\\sklearn\\base.py\u001b[0m in \u001b[0;36m_validate_data\u001b[1;34m(self, X, y, reset, validate_separately, **check_params)\u001b[0m\n\u001b[0;32m    431\u001b[0m                 \u001b[0my\u001b[0m \u001b[1;33m=\u001b[0m \u001b[0mcheck_array\u001b[0m\u001b[1;33m(\u001b[0m\u001b[0my\u001b[0m\u001b[1;33m,\u001b[0m \u001b[1;33m**\u001b[0m\u001b[0mcheck_y_params\u001b[0m\u001b[1;33m)\u001b[0m\u001b[1;33m\u001b[0m\u001b[1;33m\u001b[0m\u001b[0m\n\u001b[0;32m    432\u001b[0m             \u001b[1;32melse\u001b[0m\u001b[1;33m:\u001b[0m\u001b[1;33m\u001b[0m\u001b[1;33m\u001b[0m\u001b[0m\n\u001b[1;32m--> 433\u001b[1;33m                 \u001b[0mX\u001b[0m\u001b[1;33m,\u001b[0m \u001b[0my\u001b[0m \u001b[1;33m=\u001b[0m \u001b[0mcheck_X_y\u001b[0m\u001b[1;33m(\u001b[0m\u001b[0mX\u001b[0m\u001b[1;33m,\u001b[0m \u001b[0my\u001b[0m\u001b[1;33m,\u001b[0m \u001b[1;33m**\u001b[0m\u001b[0mcheck_params\u001b[0m\u001b[1;33m)\u001b[0m\u001b[1;33m\u001b[0m\u001b[1;33m\u001b[0m\u001b[0m\n\u001b[0m\u001b[0;32m    434\u001b[0m             \u001b[0mout\u001b[0m \u001b[1;33m=\u001b[0m \u001b[0mX\u001b[0m\u001b[1;33m,\u001b[0m \u001b[0my\u001b[0m\u001b[1;33m\u001b[0m\u001b[1;33m\u001b[0m\u001b[0m\n\u001b[0;32m    435\u001b[0m \u001b[1;33m\u001b[0m\u001b[0m\n",
      "\u001b[1;32m~\\anaconda3\\lib\\site-packages\\sklearn\\utils\\validation.py\u001b[0m in \u001b[0;36minner_f\u001b[1;34m(*args, **kwargs)\u001b[0m\n\u001b[0;32m     61\u001b[0m             \u001b[0mextra_args\u001b[0m \u001b[1;33m=\u001b[0m \u001b[0mlen\u001b[0m\u001b[1;33m(\u001b[0m\u001b[0margs\u001b[0m\u001b[1;33m)\u001b[0m \u001b[1;33m-\u001b[0m \u001b[0mlen\u001b[0m\u001b[1;33m(\u001b[0m\u001b[0mall_args\u001b[0m\u001b[1;33m)\u001b[0m\u001b[1;33m\u001b[0m\u001b[1;33m\u001b[0m\u001b[0m\n\u001b[0;32m     62\u001b[0m             \u001b[1;32mif\u001b[0m \u001b[0mextra_args\u001b[0m \u001b[1;33m<=\u001b[0m \u001b[1;36m0\u001b[0m\u001b[1;33m:\u001b[0m\u001b[1;33m\u001b[0m\u001b[1;33m\u001b[0m\u001b[0m\n\u001b[1;32m---> 63\u001b[1;33m                 \u001b[1;32mreturn\u001b[0m \u001b[0mf\u001b[0m\u001b[1;33m(\u001b[0m\u001b[1;33m*\u001b[0m\u001b[0margs\u001b[0m\u001b[1;33m,\u001b[0m \u001b[1;33m**\u001b[0m\u001b[0mkwargs\u001b[0m\u001b[1;33m)\u001b[0m\u001b[1;33m\u001b[0m\u001b[1;33m\u001b[0m\u001b[0m\n\u001b[0m\u001b[0;32m     64\u001b[0m \u001b[1;33m\u001b[0m\u001b[0m\n\u001b[0;32m     65\u001b[0m             \u001b[1;31m# extra_args > 0\u001b[0m\u001b[1;33m\u001b[0m\u001b[1;33m\u001b[0m\u001b[1;33m\u001b[0m\u001b[0m\n",
      "\u001b[1;32m~\\anaconda3\\lib\\site-packages\\sklearn\\utils\\validation.py\u001b[0m in \u001b[0;36mcheck_X_y\u001b[1;34m(X, y, accept_sparse, accept_large_sparse, dtype, order, copy, force_all_finite, ensure_2d, allow_nd, multi_output, ensure_min_samples, ensure_min_features, y_numeric, estimator)\u001b[0m\n\u001b[0;32m    829\u001b[0m         \u001b[0my\u001b[0m \u001b[1;33m=\u001b[0m \u001b[0my\u001b[0m\u001b[1;33m.\u001b[0m\u001b[0mastype\u001b[0m\u001b[1;33m(\u001b[0m\u001b[0mnp\u001b[0m\u001b[1;33m.\u001b[0m\u001b[0mfloat64\u001b[0m\u001b[1;33m)\u001b[0m\u001b[1;33m\u001b[0m\u001b[1;33m\u001b[0m\u001b[0m\n\u001b[0;32m    830\u001b[0m \u001b[1;33m\u001b[0m\u001b[0m\n\u001b[1;32m--> 831\u001b[1;33m     \u001b[0mcheck_consistent_length\u001b[0m\u001b[1;33m(\u001b[0m\u001b[0mX\u001b[0m\u001b[1;33m,\u001b[0m \u001b[0my\u001b[0m\u001b[1;33m)\u001b[0m\u001b[1;33m\u001b[0m\u001b[1;33m\u001b[0m\u001b[0m\n\u001b[0m\u001b[0;32m    832\u001b[0m \u001b[1;33m\u001b[0m\u001b[0m\n\u001b[0;32m    833\u001b[0m     \u001b[1;32mreturn\u001b[0m \u001b[0mX\u001b[0m\u001b[1;33m,\u001b[0m \u001b[0my\u001b[0m\u001b[1;33m\u001b[0m\u001b[1;33m\u001b[0m\u001b[0m\n",
      "\u001b[1;32m~\\anaconda3\\lib\\site-packages\\sklearn\\utils\\validation.py\u001b[0m in \u001b[0;36mcheck_consistent_length\u001b[1;34m(*arrays)\u001b[0m\n\u001b[0;32m    260\u001b[0m     \u001b[0muniques\u001b[0m \u001b[1;33m=\u001b[0m \u001b[0mnp\u001b[0m\u001b[1;33m.\u001b[0m\u001b[0munique\u001b[0m\u001b[1;33m(\u001b[0m\u001b[0mlengths\u001b[0m\u001b[1;33m)\u001b[0m\u001b[1;33m\u001b[0m\u001b[1;33m\u001b[0m\u001b[0m\n\u001b[0;32m    261\u001b[0m     \u001b[1;32mif\u001b[0m \u001b[0mlen\u001b[0m\u001b[1;33m(\u001b[0m\u001b[0muniques\u001b[0m\u001b[1;33m)\u001b[0m \u001b[1;33m>\u001b[0m \u001b[1;36m1\u001b[0m\u001b[1;33m:\u001b[0m\u001b[1;33m\u001b[0m\u001b[1;33m\u001b[0m\u001b[0m\n\u001b[1;32m--> 262\u001b[1;33m         raise ValueError(\"Found input variables with inconsistent numbers of\"\n\u001b[0m\u001b[0;32m    263\u001b[0m                          \" samples: %r\" % [int(l) for l in lengths])\n\u001b[0;32m    264\u001b[0m \u001b[1;33m\u001b[0m\u001b[0m\n",
      "\u001b[1;31mValueError\u001b[0m: Found input variables with inconsistent numbers of samples: [877, 880]"
     ]
    }
   ],
   "source": [
    "from sklearn.linear_model import LogisticRegression\n",
    "Autism_log_reg = LogisticRegression()\n",
    "Autism_log_reg.fit(X_train_encod,y_train)"
   ]
  },
  {
   "cell_type": "code",
   "execution_count": null,
   "metadata": {},
   "outputs": [],
   "source": []
  }
 ],
 "metadata": {
  "kernelspec": {
   "display_name": "Python 3",
   "language": "python",
   "name": "python3"
  },
  "language_info": {
   "codemirror_mode": {
    "name": "ipython",
    "version": 3
   },
   "file_extension": ".py",
   "mimetype": "text/x-python",
   "name": "python",
   "nbconvert_exporter": "python",
   "pygments_lexer": "ipython3",
   "version": "3.8.5"
  }
 },
 "nbformat": 4,
 "nbformat_minor": 4
}
